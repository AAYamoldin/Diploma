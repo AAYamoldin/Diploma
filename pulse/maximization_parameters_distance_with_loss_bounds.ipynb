{
 "cells": [
  {
   "cell_type": "code",
   "execution_count": 1,
   "metadata": {},
   "outputs": [
    {
     "data": {
      "text/plain": [
       "Net(\n",
       "  (fc1): Linear(in_features=6, out_features=64, bias=True)\n",
       "  (fc2): Linear(in_features=64, out_features=64, bias=True)\n",
       "  (fc3): Linear(in_features=64, out_features=64, bias=True)\n",
       "  (fc4): Linear(in_features=64, out_features=64, bias=True)\n",
       "  (fc5): Linear(in_features=64, out_features=1, bias=True)\n",
       ")"
      ]
     },
     "execution_count": 1,
     "metadata": {},
     "output_type": "execute_result"
    }
   ],
   "source": [
    "import torch\n",
    "import plotly\n",
    "import plotly.graph_objs as go\n",
    "import plotly.graph_objects as go\n",
    "import plotly.express as px\n",
    "from plotly.subplots import make_subplots\n",
    "import matplotlib.pyplot as plt\n",
    "from mpl_toolkits.mplot3d import Axes3D\n",
    "from matplotlib import cm\n",
    "import numpy as np\n",
    "import pandas as pd\n",
    "import torch.nn as nn\n",
    "import torch.nn.functional as F\n",
    "from typing import Tuple\n",
    "import torch\n",
    "import torch.optim as optim\n",
    "from model import Net\n",
    "model = torch.load('model_weights/modelentire.pth')\n",
    "model.load_state_dict(torch.load('model_weights/model.pth'))\n",
    "loss_function = nn.MSELoss()\n",
    "model.eval()"
   ]
  },
  {
   "cell_type": "code",
   "execution_count": 2,
   "metadata": {},
   "outputs": [],
   "source": [
    "def weighted_mse(u_exp: np.ndarray, u: np.ndarray, time: np.ndarray, eps: float = + 10 ** (-15)) -> Tuple[np.ndarray, np.ndarray]:\n",
    "    dt = np.diff(time, n=1, axis=0)\n",
    "    dt = np.append(dt, dt[-1])\n",
    "    amplitude = np.dot(dt, u * u_exp) / np.dot(dt, u ** 2)\n",
    "    e = (u_exp - amplitude * u) / (u_exp + eps) * dt\n",
    "    \n",
    "    loss = np.dot(e, e)\n",
    "#     if (np.log(loss) == math.inf):\n",
    "#         print('u_exp\\n', u_exp)\n",
    "#         print('u\\n', u)\n",
    "#         print('amplitude = ', amplitude)\n",
    "#         print ('loss = ', loss)\n",
    "#         sys.exit()\n",
    "    return loss\n",
    "\n",
    "\n",
    "\n",
    "t = 1e-3 * np.array([\n",
    "    0.135, 0.180, 0.235, 0.315, 0.365, 0.420,\n",
    "    0.485, 0.560, 0.650, 0.750, 0.865, 1.000,\n",
    "    1.155, 1.335, 1.540, 1.780, 2.055, 2.370,\n",
    "    2.740, 3.160, 3.650, 4.215, 4.870, 5.625,\n",
    "    6.495, 7.500, 8.660, 10.00, 11.55, 13.34,\n",
    "    15.40, 17.79, 20.54, 23.72, 27.39, 31.63,\n",
    "    36.52, 42.17, 48.70, 56.24, 64.94, 74.99,\n",
    "    86.60, 100.0, 115.5, 133.4\n",
    "])"
   ]
  },
  {
   "cell_type": "code",
   "execution_count": 3,
   "metadata": {},
   "outputs": [
    {
     "data": {
      "text/html": [
       "<div>\n",
       "<style scoped>\n",
       "    .dataframe tbody tr th:only-of-type {\n",
       "        vertical-align: middle;\n",
       "    }\n",
       "\n",
       "    .dataframe tbody tr th {\n",
       "        vertical-align: top;\n",
       "    }\n",
       "\n",
       "    .dataframe thead th {\n",
       "        text-align: right;\n",
       "    }\n",
       "</style>\n",
       "<table border=\"1\" class=\"dataframe\">\n",
       "  <thead>\n",
       "    <tr style=\"text-align: right;\">\n",
       "      <th></th>\n",
       "      <th>Sigma</th>\n",
       "      <th>mu</th>\n",
       "      <th>d</th>\n",
       "      <th>th</th>\n",
       "      <th>th0</th>\n",
       "      <th>Decay</th>\n",
       "    </tr>\n",
       "  </thead>\n",
       "  <tbody>\n",
       "    <tr>\n",
       "      <th>19628</th>\n",
       "      <td>-1.271194</td>\n",
       "      <td>-0.747548</td>\n",
       "      <td>0.0</td>\n",
       "      <td>-1.085085</td>\n",
       "      <td>0.0</td>\n",
       "      <td>[0.19375629692752577, 0.18294351872284478, 0.1...</td>\n",
       "    </tr>\n",
       "    <tr>\n",
       "      <th>2486</th>\n",
       "      <td>-0.522897</td>\n",
       "      <td>0.229992</td>\n",
       "      <td>0.0</td>\n",
       "      <td>-0.732977</td>\n",
       "      <td>0.0</td>\n",
       "      <td>[0.192993357268207, 0.1820247479384618, 0.1711...</td>\n",
       "    </tr>\n",
       "    <tr>\n",
       "      <th>64883</th>\n",
       "      <td>1.436271</td>\n",
       "      <td>-0.737692</td>\n",
       "      <td>0.0</td>\n",
       "      <td>0.091825</td>\n",
       "      <td>0.0</td>\n",
       "      <td>[0.1752133606610032, 0.16091191549296152, 0.14...</td>\n",
       "    </tr>\n",
       "    <tr>\n",
       "      <th>10027</th>\n",
       "      <td>1.629299</td>\n",
       "      <td>1.329376</td>\n",
       "      <td>0.0</td>\n",
       "      <td>-1.526841</td>\n",
       "      <td>0.0</td>\n",
       "      <td>[0.18759459262951242, 0.17560025481240513, 0.1...</td>\n",
       "    </tr>\n",
       "    <tr>\n",
       "      <th>51126</th>\n",
       "      <td>0.423736</td>\n",
       "      <td>-0.777624</td>\n",
       "      <td>0.0</td>\n",
       "      <td>-0.247653</td>\n",
       "      <td>0.0</td>\n",
       "      <td>[0.17945400597800243, 0.1659367937378173, 0.15...</td>\n",
       "    </tr>\n",
       "    <tr>\n",
       "      <th>...</th>\n",
       "      <td>...</td>\n",
       "      <td>...</td>\n",
       "      <td>...</td>\n",
       "      <td>...</td>\n",
       "      <td>...</td>\n",
       "      <td>...</td>\n",
       "    </tr>\n",
       "    <tr>\n",
       "      <th>69892</th>\n",
       "      <td>0.814175</td>\n",
       "      <td>0.781662</td>\n",
       "      <td>0.0</td>\n",
       "      <td>-0.878862</td>\n",
       "      <td>0.0</td>\n",
       "      <td>[0.1882601086365116, 0.17643418646482018, 0.16...</td>\n",
       "    </tr>\n",
       "    <tr>\n",
       "      <th>72626</th>\n",
       "      <td>-0.020505</td>\n",
       "      <td>-0.181898</td>\n",
       "      <td>0.0</td>\n",
       "      <td>-0.651101</td>\n",
       "      <td>0.0</td>\n",
       "      <td>[0.18716586487573802, 0.17512817120621807, 0.1...</td>\n",
       "    </tr>\n",
       "    <tr>\n",
       "      <th>17249</th>\n",
       "      <td>0.133407</td>\n",
       "      <td>1.380844</td>\n",
       "      <td>0.0</td>\n",
       "      <td>0.863656</td>\n",
       "      <td>0.0</td>\n",
       "      <td>[0.1928662308439771, 0.18225947646392704, 0.17...</td>\n",
       "    </tr>\n",
       "    <tr>\n",
       "      <th>38159</th>\n",
       "      <td>1.210575</td>\n",
       "      <td>-0.099357</td>\n",
       "      <td>0.0</td>\n",
       "      <td>1.416446</td>\n",
       "      <td>0.0</td>\n",
       "      <td>[0.1803007929163741, 0.16759557921691812, 0.15...</td>\n",
       "    </tr>\n",
       "    <tr>\n",
       "      <th>67661</th>\n",
       "      <td>1.430852</td>\n",
       "      <td>-0.909071</td>\n",
       "      <td>0.0</td>\n",
       "      <td>-1.060979</td>\n",
       "      <td>0.0</td>\n",
       "      <td>[0.17361789585296816, 0.15884240040603975, 0.1...</td>\n",
       "    </tr>\n",
       "  </tbody>\n",
       "</table>\n",
       "<p>75200 rows × 6 columns</p>\n",
       "</div>"
      ],
      "text/plain": [
       "          Sigma        mu    d        th  th0  \\\n",
       "19628 -1.271194 -0.747548  0.0 -1.085085  0.0   \n",
       "2486  -0.522897  0.229992  0.0 -0.732977  0.0   \n",
       "64883  1.436271 -0.737692  0.0  0.091825  0.0   \n",
       "10027  1.629299  1.329376  0.0 -1.526841  0.0   \n",
       "51126  0.423736 -0.777624  0.0 -0.247653  0.0   \n",
       "...         ...       ...  ...       ...  ...   \n",
       "69892  0.814175  0.781662  0.0 -0.878862  0.0   \n",
       "72626 -0.020505 -0.181898  0.0 -0.651101  0.0   \n",
       "17249  0.133407  1.380844  0.0  0.863656  0.0   \n",
       "38159  1.210575 -0.099357  0.0  1.416446  0.0   \n",
       "67661  1.430852 -0.909071  0.0 -1.060979  0.0   \n",
       "\n",
       "                                                   Decay  \n",
       "19628  [0.19375629692752577, 0.18294351872284478, 0.1...  \n",
       "2486   [0.192993357268207, 0.1820247479384618, 0.1711...  \n",
       "64883  [0.1752133606610032, 0.16091191549296152, 0.14...  \n",
       "10027  [0.18759459262951242, 0.17560025481240513, 0.1...  \n",
       "51126  [0.17945400597800243, 0.1659367937378173, 0.15...  \n",
       "...                                                  ...  \n",
       "69892  [0.1882601086365116, 0.17643418646482018, 0.16...  \n",
       "72626  [0.18716586487573802, 0.17512817120621807, 0.1...  \n",
       "17249  [0.1928662308439771, 0.18225947646392704, 0.17...  \n",
       "38159  [0.1803007929163741, 0.16759557921691812, 0.15...  \n",
       "67661  [0.17361789585296816, 0.15884240040603975, 0.1...  \n",
       "\n",
       "[75200 rows x 6 columns]"
      ]
     },
     "execution_count": 3,
     "metadata": {},
     "output_type": "execute_result"
    }
   ],
   "source": [
    "df = pd.read_pickle('Dataset')\n",
    "df"
   ]
  },
  {
   "cell_type": "code",
   "execution_count": 4,
   "metadata": {},
   "outputs": [],
   "source": [
    "# i = 0\n",
    "# graph_df = df.iloc[0:1000]\n",
    "# fix_str = graph_df.sample(1)\n",
    "# #fix_vector = np.array([fix_str.get('Sigma').iloc[0], fix_str.get('mu').iloc[0], fix_str.get('th').iloc[0]])\n",
    "# x = np.array([])\n",
    "# y = np.array([])\n",
    "# z = np.array([])\n",
    "# r = np.array([])\n",
    "# for _,row in graph_df.iterrows():\n",
    "#     norm_2d = np.linalg.norm([fix_str.get('Sigma').iloc[0] - row['Sigma'],\n",
    "#                             fix_str.get('mu').iloc[0] - row['mu'],\n",
    "#                               fix_str.get('th').iloc[0] - row['th']])\n",
    "#     #the_point = [row['Sigma'],row['mu'],row['th'],norm_2d]\n",
    "#     #data_for_plotting.append(the_point)\n",
    "#     x = np.append(x,row.get('Sigma'))\n",
    "#     y = np.append(y, row.get('mu'))\n",
    "#     z = np.append(z, row.get('th'))\n",
    "#     r = np.append(r,norm_2d)\n",
    "# print(len(x))"
   ]
  },
  {
   "cell_type": "code",
   "execution_count": 5,
   "metadata": {},
   "outputs": [],
   "source": [
    "# x = x\n",
    "# X,Y = np.meshgrid(x,y)\n",
    "# Z,Y = np.meshgrid(z,y)\n",
    "# V = np.sin(r)\n",
    "# fig = plt.figure()\n",
    "# ax = fig.add_subplot(111, projection='3d')\n",
    "# #ax.view_init(45,60)\n",
    "# ax.plot_surface(X, Y, Z, facecolors=cm.Oranges(V))"
   ]
  },
  {
   "cell_type": "code",
   "execution_count": 7,
   "metadata": {},
   "outputs": [
    {
     "name": "stderr",
     "output_type": "stream",
     "text": [
      "C:\\ProgramData\\Anaconda3\\lib\\site-packages\\torch\\cuda\\__init__.py:52: UserWarning: CUDA initialization: Found no NVIDIA driver on your system. Please check that you have an NVIDIA GPU and installed a driver from http://www.nvidia.com/Download/index.aspx (Triggered internally at  ..\\c10\\cuda\\CUDAFunctions.cpp:100.)\n",
      "  return torch._C._cuda_getDeviceCount() > 0\n"
     ]
    },
    {
     "name": "stdout",
     "output_type": "stream",
     "text": [
      "cpu\n"
     ]
    },
    {
     "ename": "NameError",
     "evalue": "name 'fix_vector' is not defined",
     "output_type": "error",
     "traceback": [
      "\u001b[1;31m---------------------------------------------------------------------------\u001b[0m",
      "\u001b[1;31mNameError\u001b[0m                                 Traceback (most recent call last)",
      "\u001b[1;32m<ipython-input-7-0c79e300253e>\u001b[0m in \u001b[0;36m<module>\u001b[1;34m\u001b[0m\n\u001b[0;32m     61\u001b[0m     \u001b[1;32mreturn\u001b[0m \u001b[1;33m(\u001b[0m\u001b[1;33m-\u001b[0m\u001b[1;36m1\u001b[0m \u001b[1;33m*\u001b[0m \u001b[0ml2_norm\u001b[0m\u001b[1;33m(\u001b[0m\u001b[0mvariable_vector\u001b[0m\u001b[1;33m)\u001b[0m \u001b[1;33m+\u001b[0m \u001b[0mconstant\u001b[0m \u001b[1;33m*\u001b[0m \u001b[0mL\u001b[0m\u001b[1;33m(\u001b[0m\u001b[0mvariable_vector\u001b[0m\u001b[1;33m)\u001b[0m \u001b[1;33m)\u001b[0m\u001b[1;33m\u001b[0m\u001b[1;33m\u001b[0m\u001b[0m\n\u001b[0;32m     62\u001b[0m \u001b[1;33m\u001b[0m\u001b[0m\n\u001b[1;32m---> 63\u001b[1;33m \u001b[0mprint\u001b[0m \u001b[1;33m(\u001b[0m\u001b[1;34m'одинаковые параметры loss = '\u001b[0m\u001b[1;33m,\u001b[0m \u001b[0mL\u001b[0m\u001b[1;33m(\u001b[0m\u001b[1;33m[\u001b[0m\u001b[0mfix_vector\u001b[0m\u001b[1;33m.\u001b[0m\u001b[0mget\u001b[0m\u001b[1;33m(\u001b[0m\u001b[1;34m'Sigma'\u001b[0m\u001b[1;33m)\u001b[0m\u001b[1;33m.\u001b[0m\u001b[0miloc\u001b[0m\u001b[1;33m[\u001b[0m\u001b[1;36m0\u001b[0m\u001b[1;33m]\u001b[0m\u001b[1;33m,\u001b[0m\u001b[0mfix_vector\u001b[0m\u001b[1;33m.\u001b[0m\u001b[0mget\u001b[0m\u001b[1;33m(\u001b[0m\u001b[1;34m'mu'\u001b[0m\u001b[1;33m)\u001b[0m\u001b[1;33m.\u001b[0m\u001b[0miloc\u001b[0m\u001b[1;33m[\u001b[0m\u001b[1;36m0\u001b[0m\u001b[1;33m]\u001b[0m\u001b[1;33m,\u001b[0m\u001b[0mfix_vector\u001b[0m\u001b[1;33m.\u001b[0m\u001b[0mget\u001b[0m\u001b[1;33m(\u001b[0m\u001b[1;34m'th'\u001b[0m\u001b[1;33m)\u001b[0m\u001b[1;33m.\u001b[0m\u001b[0miloc\u001b[0m\u001b[1;33m[\u001b[0m\u001b[1;36m0\u001b[0m\u001b[1;33m]\u001b[0m\u001b[1;33m]\u001b[0m\u001b[1;33m)\u001b[0m\u001b[1;33m)\u001b[0m\u001b[1;33m\u001b[0m\u001b[1;33m\u001b[0m\u001b[0m\n\u001b[0m\u001b[0;32m     64\u001b[0m \u001b[0mprint\u001b[0m \u001b[1;33m(\u001b[0m\u001b[1;34m'одинаковые параметры l2_norm ='\u001b[0m\u001b[1;33m,\u001b[0m \u001b[0ml2_norm\u001b[0m\u001b[1;33m(\u001b[0m\u001b[1;33m[\u001b[0m\u001b[0mfix_vector\u001b[0m\u001b[1;33m.\u001b[0m\u001b[0mget\u001b[0m\u001b[1;33m(\u001b[0m\u001b[1;34m'Sigma'\u001b[0m\u001b[1;33m)\u001b[0m\u001b[1;33m.\u001b[0m\u001b[0miloc\u001b[0m\u001b[1;33m[\u001b[0m\u001b[1;36m0\u001b[0m\u001b[1;33m]\u001b[0m\u001b[1;33m,\u001b[0m\u001b[0mfix_vector\u001b[0m\u001b[1;33m.\u001b[0m\u001b[0mget\u001b[0m\u001b[1;33m(\u001b[0m\u001b[1;34m'mu'\u001b[0m\u001b[1;33m)\u001b[0m\u001b[1;33m.\u001b[0m\u001b[0miloc\u001b[0m\u001b[1;33m[\u001b[0m\u001b[1;36m0\u001b[0m\u001b[1;33m]\u001b[0m\u001b[1;33m,\u001b[0m\u001b[0mfix_vector\u001b[0m\u001b[1;33m.\u001b[0m\u001b[0mget\u001b[0m\u001b[1;33m(\u001b[0m\u001b[1;34m'th'\u001b[0m\u001b[1;33m)\u001b[0m\u001b[1;33m.\u001b[0m\u001b[0miloc\u001b[0m\u001b[1;33m[\u001b[0m\u001b[1;36m0\u001b[0m\u001b[1;33m]\u001b[0m\u001b[1;33m]\u001b[0m\u001b[1;33m)\u001b[0m\u001b[1;33m)\u001b[0m\u001b[1;33m\u001b[0m\u001b[1;33m\u001b[0m\u001b[0m\n\u001b[0;32m     65\u001b[0m \u001b[0mprint\u001b[0m \u001b[1;33m(\u001b[0m\u001b[1;34m'одинаковые параметры minim = '\u001b[0m\u001b[1;33m,\u001b[0m \u001b[0mminimization_func\u001b[0m\u001b[1;33m(\u001b[0m\u001b[1;33m[\u001b[0m\u001b[0mfix_vector\u001b[0m\u001b[1;33m.\u001b[0m\u001b[0mget\u001b[0m\u001b[1;33m(\u001b[0m\u001b[1;34m'Sigma'\u001b[0m\u001b[1;33m)\u001b[0m\u001b[1;33m.\u001b[0m\u001b[0miloc\u001b[0m\u001b[1;33m[\u001b[0m\u001b[1;36m0\u001b[0m\u001b[1;33m]\u001b[0m\u001b[1;33m,\u001b[0m\u001b[0mfix_vector\u001b[0m\u001b[1;33m.\u001b[0m\u001b[0mget\u001b[0m\u001b[1;33m(\u001b[0m\u001b[1;34m'mu'\u001b[0m\u001b[1;33m)\u001b[0m\u001b[1;33m.\u001b[0m\u001b[0miloc\u001b[0m\u001b[1;33m[\u001b[0m\u001b[1;36m0\u001b[0m\u001b[1;33m]\u001b[0m\u001b[1;33m,\u001b[0m\u001b[0mfix_vector\u001b[0m\u001b[1;33m.\u001b[0m\u001b[0mget\u001b[0m\u001b[1;33m(\u001b[0m\u001b[1;34m'th'\u001b[0m\u001b[1;33m)\u001b[0m\u001b[1;33m.\u001b[0m\u001b[0miloc\u001b[0m\u001b[1;33m[\u001b[0m\u001b[1;36m0\u001b[0m\u001b[1;33m]\u001b[0m\u001b[1;33m]\u001b[0m\u001b[1;33m)\u001b[0m\u001b[1;33m)\u001b[0m\u001b[1;33m\u001b[0m\u001b[1;33m\u001b[0m\u001b[0m\n",
      "\u001b[1;31mNameError\u001b[0m: name 'fix_vector' is not defined"
     ]
    }
   ],
   "source": [
    "def get_device():\n",
    "    if torch.cuda.is_available():\n",
    "        device = torch.device('cuda:0')\n",
    "    else:\n",
    "        device = torch.device('cpu') # don't have GPU \n",
    "    return device\n",
    "\n",
    "device = get_device()\n",
    "net = model.double().to(device)\n",
    "\n",
    "# def appending_to_tensor(tensor, fix_vector, variable_vector):\n",
    "#     tmp_tensor = torch.tensor([rand_2_strs.get('Sigma').iloc[0],rand_2_strs.get('Sigma').iloc[1],\n",
    "#                                rand_2_strs.get('mu').iloc[0],rand_2_strs.get('mu').iloc[1],\n",
    "#                                rand_2_strs.get('th').iloc[0],rand_2_strs.get('th').iloc[1],\n",
    "#                                np.log(weighted_mse(np.array(rand_2_strs.get('Decay').iloc[0]),np.array(rand_2_strs.get('Decay').iloc[1]),t)[0])])\n",
    "#     tmp_tensor = torch.unsqueeze(tmp_tensor, 0)\n",
    "#     tmp_tensor = torch.cat((tensor,tmp_tensor),0)\n",
    "#     return(tmp_tensor)\n",
    "\n",
    "def mean_absolute_percentage_error(y_pred, y_true, eps=10**(-2)): \n",
    "    return abs(torch.mean(((y_true-y_pred))/(y_true + eps)))*100\n",
    "\n",
    "\n",
    "# def create_batches_to_device(df, device, num_fix_string,batch_size=1):\n",
    "#     tensor = torch.tensor([])\n",
    "#     fix_vector = \n",
    "#     variable_vector = \n",
    "#     tensor = appending_to_tensor(tensor, rand_train_str)\n",
    "#     tensor = tensor.to(device)\n",
    "#     trainset = torch.utils.data.DataLoader(tensor, batch_size=batch_size, shuffle=True)\n",
    "#     return (trainset)\n",
    "print(device)\n",
    "\n",
    "\n",
    "def l2_norm(variable_vector):\n",
    "    return np.linalg.norm([fix_vector.get('Sigma').iloc[0] - variable_vector[0],\n",
    "                          fix_vector.get('mu').iloc[0] - variable_vector[1],\n",
    "                          fix_vector.get('th').iloc[0] - variable_vector[2]])\n",
    "\n",
    "def L(variable_vector):\n",
    "    tensor = torch.tensor([fix_vector.get('Sigma').iloc[0],variable_vector[0],\n",
    "                           fix_vector.get('mu').iloc[0],variable_vector[1],\n",
    "                           fix_vector.get('th').iloc[0],variable_vector[2]])\n",
    "    tensor = tensor.to(device)\n",
    "    #print(tensor)\n",
    "    #data_batch = torch.utils.data.DataLoader(tensor, batch_size=1, shuffle=False)\n",
    "    #print(data_batch)\n",
    "#     for data in data_batch:\n",
    "#         X = data\n",
    "#         print(X)\n",
    "#         output = net(X.double())\n",
    "#         print (output)\n",
    "    output = net(tensor.double())\n",
    "    #print (output.item())\n",
    "    return (np.exp(output.item()))\n",
    "\n",
    "constant = 1\n",
    "\n",
    "def minimization_func(variable_vector):\n",
    "    #variable_vector = [Sigma2, mu2, th2]\n",
    "    return (-1 * l2_norm(variable_vector) + constant * L(variable_vector) )\n",
    "\n",
    "print ('одинаковые параметры loss = ', L([fix_vector.get('Sigma').iloc[0],fix_vector.get('mu').iloc[0],fix_vector.get('th').iloc[0]]))\n",
    "print ('одинаковые параметры l2_norm =', l2_norm([fix_vector.get('Sigma').iloc[0],fix_vector.get('mu').iloc[0],fix_vector.get('th').iloc[0]]))\n",
    "print ('одинаковые параметры minim = ', minimization_func([fix_vector.get('Sigma').iloc[0],fix_vector.get('mu').iloc[0],fix_vector.get('th').iloc[0]]))"
   ]
  },
  {
   "cell_type": "code",
   "execution_count": 9,
   "metadata": {},
   "outputs": [
    {
     "name": "stdout",
     "output_type": "stream",
     "text": [
      "Зафиксировали произвольный вектор из датафрейма с компонентами \n",
      "\n"
     ]
    },
    {
     "data": {
      "text/html": [
       "<div>\n",
       "<style scoped>\n",
       "    .dataframe tbody tr th:only-of-type {\n",
       "        vertical-align: middle;\n",
       "    }\n",
       "\n",
       "    .dataframe tbody tr th {\n",
       "        vertical-align: top;\n",
       "    }\n",
       "\n",
       "    .dataframe thead th {\n",
       "        text-align: right;\n",
       "    }\n",
       "</style>\n",
       "<table border=\"1\" class=\"dataframe\">\n",
       "  <thead>\n",
       "    <tr style=\"text-align: right;\">\n",
       "      <th></th>\n",
       "      <th>Sigma</th>\n",
       "      <th>mu</th>\n",
       "      <th>d</th>\n",
       "      <th>th</th>\n",
       "      <th>th0</th>\n",
       "      <th>Decay</th>\n",
       "    </tr>\n",
       "  </thead>\n",
       "  <tbody>\n",
       "    <tr>\n",
       "      <th>9030</th>\n",
       "      <td>-0.809753</td>\n",
       "      <td>-1.56861</td>\n",
       "      <td>0</td>\n",
       "      <td>-0.248755</td>\n",
       "      <td>0</td>\n",
       "      <td>[0.17439216402987712, 0.15983478220067351, 0.1...</td>\n",
       "    </tr>\n",
       "  </tbody>\n",
       "</table>\n",
       "</div>"
      ],
      "text/plain": [
       "         Sigma       mu  d        th th0  \\\n",
       "9030 -0.809753 -1.56861  0 -0.248755   0   \n",
       "\n",
       "                                                  Decay  \n",
       "9030  [0.17439216402987712, 0.15983478220067351, 0.1...  "
      ]
     },
     "execution_count": 9,
     "metadata": {},
     "output_type": "execute_result"
    }
   ],
   "source": [
    "#fix_vector = df.sample(1) временно\n",
    "fix_vector = df.loc[9030]\n",
    "fix_vector = pd.DataFrame(fix_vector).transpose()\n",
    "print ('Зафиксировали произвольный вектор из датафрейма с компонентами \\n')\n",
    "fix_vector"
   ]
  },
  {
   "cell_type": "markdown",
   "metadata": {},
   "source": [
    "### Нахождение границ для оптимизатора с учетом параметров усреднения первоначальной выборки"
   ]
  },
  {
   "cell_type": "code",
   "execution_count": 5,
   "metadata": {},
   "outputs": [
    {
     "name": "stdout",
     "output_type": "stream",
     "text": [
      "[5.49793364e+06 8.00354882e+01 8.90000000e+01 6.18313815e+00\n",
      " 6.50000000e+00]\n",
      "[2.58728391e+06 4.04162034e+01 1.00000000e+00 3.19023924e+00\n",
      " 1.00000000e+00]\n",
      "Sigma lower bound [[-1.73847703]]\n",
      "mu lower bound [[-1.73285668]]\n",
      "th lower bound [[-1.73433048]]\n",
      "Sigma upper bound [[1.74007435]]\n",
      "mu upper bound [[1.73110055]]\n",
      "th upper bound [[1.72929409]]\n"
     ]
    }
   ],
   "source": [
    "means = np.fromfile('means_scaler')\n",
    "print(means)\n",
    "stds = np.fromfile('stds_scaler')\n",
    "print(stds)\n",
    "a = [[stds[0]]]\n",
    "b = [[1e+06-means[0]]]\n",
    "sigma_min = np.linalg.solve(a,b)\n",
    "print('Sigma lower bound',sigma_min)\n",
    "a = [[stds[1]]]\n",
    "b = [[10-means[1]]]\n",
    "mu_min = np.linalg.solve(a,b)\n",
    "print ('mu lower bound', mu_min)\n",
    "a = [[stds[3]]]\n",
    "b = [[0.650209-means[3]]]\n",
    "th_min = np.linalg.solve(a,b)\n",
    "print ('th lower bound', th_min)\n",
    "\n",
    "a = [[stds[0]]]\n",
    "b = [[10e+06-means[0]]]\n",
    "sigma_max = np.linalg.solve(a,b)\n",
    "print('Sigma upper bound',sigma_max)\n",
    "a = [[stds[1]]]\n",
    "b = [[150-means[1]]]\n",
    "mu_max = np.linalg.solve(a,b)\n",
    "print ('mu upper bound', mu_max)\n",
    "a = [[stds[3]]]\n",
    "b = [[11.7-means[3]]]\n",
    "th_max = np.linalg.solve(a,b)\n",
    "print ('th upper bound', th_max)"
   ]
  },
  {
   "cell_type": "markdown",
   "metadata": {},
   "source": [
    "## Минимизация логарифмических величин"
   ]
  },
  {
   "cell_type": "code",
   "execution_count": 11,
   "metadata": {
    "scrolled": true
   },
   "outputs": [
    {
     "name": "stdout",
     "output_type": "stream",
     "text": [
      "Optimization terminated successfully    (Exit mode 0)\n",
      "            Current function value: -2.280428700028562\n",
      "            Iterations: 12\n",
      "            Function evaluations: 71\n",
      "            Gradient evaluations: 12\n",
      "Start vector [-0.8097534630349149, -1.5686084526495365, -0.24875458646855458]\n",
      "Vector after minimization [-1.46126883  1.73110055 -1.20922686]\n",
      "Function value with start vector 0.7328583265480395\n",
      "How % change loss 4.5149003309799935\n",
      "L2 norm with minim vector 3.4978648826855325\n"
     ]
    }
   ],
   "source": [
    "constant = 1000\n",
    "from scipy.optimize import minimize\n",
    "x0 = np.array([fix_vector.get('Sigma').iloc[0],fix_vector.get('mu').iloc[0],fix_vector.get('th').iloc[0]])\n",
    "#res = minimize(minimization_func, x0, method='nelder-mead')\n",
    "# res = minimize(minimization_func, x0, method='BFGS',options={'disp': True, 'eps':1e-6, 'gtol':1e1})\n",
    "#res = minimize(minimization_func, x0, method='BFGS',options={'disp': True})\n",
    "#res = minimize(minimization_func, x0, method='CG',options={'disp': True, 'maxiter':100000})\n",
    "#res = minimize(minimization_func, x0, method='powell')\n",
    "res =  minimize(minimization_func, x0, method='SLSQP', bounds=((sigma_min[0][0], sigma_max[0][0]),(mu_min[0][0], mu_max[0][0]),(th_min[0][0],th_max[0][0])),options={'disp': True})\n",
    "#print(res)\n",
    "print ('Start vector', [fix_vector.get('Sigma').iloc[0],fix_vector.get('mu').iloc[0],fix_vector.get('th').iloc[0]])\n",
    "print ('Vector after minimization', res.x)\n",
    "print ('Function value with start vector', minimization_func(x0))\n",
    "print ('How % change loss', mean_absolute_percentage_error(torch.tensor(L(res.x)), torch.tensor(L(x0))).item())\n",
    "print ('L2 norm with minim vector', l2_norm(res.x))"
   ]
  },
  {
   "cell_type": "markdown",
   "metadata": {},
   "source": [
    "## Проверяю нейросеть на сходимость"
   ]
  },
  {
   "cell_type": "code",
   "execution_count": 509,
   "metadata": {},
   "outputs": [
    {
     "name": "stdout",
     "output_type": "stream",
     "text": [
      "Loss is 0.017157855027261613\n",
      "Loss is 0.012227208247171543\n",
      "Loss is 0.009077916284112217\n",
      "Loss is 0.006459419488012133\n",
      "Loss is 0.004043312465918588\n",
      "Loss is 0.002492173151506337\n",
      "Loss is 0.0013419683164918657\n",
      "Loss is 0.0006564899268535414\n",
      "Loss is 0.00027265027575578603\n",
      "Loss is 5.5403060777426065e-05\n",
      "Loss is 5.484248134522269e-06\n"
     ]
    }
   ],
   "source": [
    "i = total_iter = 10\n",
    "fix_vector = df.sample(1)\n",
    "while(i >= 0):\n",
    "    variable_vector = [fix_vector.get('Sigma').iloc[0] + (i/total_iter * fix_vector.get('Sigma').iloc[0]) ,fix_vector.get('mu').iloc[0] + (i/total_iter * fix_vector.get('mu').iloc[0]),fix_vector.get('th').iloc[0] + (i/total_iter * fix_vector.get('th').iloc[0])]\n",
    "    print ('Loss is', L(variable_vector))\n",
    "    i -= 1"
   ]
  },
  {
   "cell_type": "code",
   "execution_count": 12,
   "metadata": {},
   "outputs": [
    {
     "data": {
      "text/html": [
       "<div>\n",
       "<style scoped>\n",
       "    .dataframe tbody tr th:only-of-type {\n",
       "        vertical-align: middle;\n",
       "    }\n",
       "\n",
       "    .dataframe tbody tr th {\n",
       "        vertical-align: top;\n",
       "    }\n",
       "\n",
       "    .dataframe thead th {\n",
       "        text-align: right;\n",
       "    }\n",
       "</style>\n",
       "<table border=\"1\" class=\"dataframe\">\n",
       "  <thead>\n",
       "    <tr style=\"text-align: right;\">\n",
       "      <th></th>\n",
       "      <th>Sigma</th>\n",
       "      <th>mu</th>\n",
       "      <th>d</th>\n",
       "      <th>th</th>\n",
       "      <th>th0</th>\n",
       "    </tr>\n",
       "  </thead>\n",
       "  <tbody>\n",
       "    <tr>\n",
       "      <th>9030</th>\n",
       "      <td>3.40287e+06</td>\n",
       "      <td>16.6383</td>\n",
       "      <td>89</td>\n",
       "      <td>5.38955</td>\n",
       "      <td>6.5</td>\n",
       "    </tr>\n",
       "    <tr>\n",
       "      <th>minimize_vector</th>\n",
       "      <td>1.71722e+06</td>\n",
       "      <td>150</td>\n",
       "      <td>89</td>\n",
       "      <td>2.32542</td>\n",
       "      <td>6.5</td>\n",
       "    </tr>\n",
       "  </tbody>\n",
       "</table>\n",
       "</div>"
      ],
      "text/plain": [
       "                       Sigma       mu   d       th  th0\n",
       "9030             3.40287e+06  16.6383  89  5.38955  6.5\n",
       "minimize_vector  1.71722e+06      150  89  2.32542  6.5"
      ]
     },
     "execution_count": 12,
     "metadata": {},
     "output_type": "execute_result"
    }
   ],
   "source": [
    "the_result_vector = fix_vector[['Sigma', 'mu', 'd', 'th', 'th0']].copy()\n",
    "the_result_vector.loc['minimize_vector'] = [res.x[0], res.x[1], 0, res.x[2], 0]\n",
    "the_result_vector = the_result_vector*stds+means\n",
    "the_result_vector.to_pickle('the_result_vectors_to_compare')\n",
    "the_result_vector"
   ]
  },
  {
   "cell_type": "code",
   "execution_count": 13,
   "metadata": {},
   "outputs": [
    {
     "data": {
      "text/plain": [
       "[3402871.538234493,\n",
       " 1717216.3179786229,\n",
       " 16.638289933069103,\n",
       " 149.99999998226664,\n",
       " 5.389551505199457,\n",
       " 2.325415178215014]"
      ]
     },
     "execution_count": 13,
     "metadata": {},
     "output_type": "execute_result"
    }
   ],
   "source": [
    "[the_result_vector['Sigma'].iloc[0],the_result_vector['Sigma'].iloc[1],the_result_vector['mu'].iloc[0],the_result_vector['mu'].iloc[1],\n",
    " the_result_vector['th'].iloc[0],the_result_vector['th'].iloc[1]]"
   ]
  },
  {
   "cell_type": "markdown",
   "metadata": {},
   "source": [
    "## Отошли от нейронки. Занимаемся минимизацией через модельную функцию"
   ]
  },
  {
   "cell_type": "code",
   "execution_count": 6,
   "metadata": {},
   "outputs": [
    {
     "name": "stdout",
     "output_type": "stream",
     "text": [
      "Зафиксировали произвольный вектор из датафрейма с компонентами \n",
      "\n"
     ]
    },
    {
     "data": {
      "text/html": [
       "<div>\n",
       "<style scoped>\n",
       "    .dataframe tbody tr th:only-of-type {\n",
       "        vertical-align: middle;\n",
       "    }\n",
       "\n",
       "    .dataframe tbody tr th {\n",
       "        vertical-align: top;\n",
       "    }\n",
       "\n",
       "    .dataframe thead th {\n",
       "        text-align: right;\n",
       "    }\n",
       "</style>\n",
       "<table border=\"1\" class=\"dataframe\">\n",
       "  <thead>\n",
       "    <tr style=\"text-align: right;\">\n",
       "      <th></th>\n",
       "      <th>Sigma</th>\n",
       "      <th>mu</th>\n",
       "      <th>d</th>\n",
       "      <th>th</th>\n",
       "      <th>th0</th>\n",
       "      <th>Decay</th>\n",
       "    </tr>\n",
       "  </thead>\n",
       "  <tbody>\n",
       "    <tr>\n",
       "      <th>37135</th>\n",
       "      <td>5.821289e+06</td>\n",
       "      <td>101.798129</td>\n",
       "      <td>89.0</td>\n",
       "      <td>5.862834</td>\n",
       "      <td>6.5</td>\n",
       "      <td>[0.19024090955881282, 0.17885688326302107, 0.1...</td>\n",
       "    </tr>\n",
       "  </tbody>\n",
       "</table>\n",
       "</div>"
      ],
      "text/plain": [
       "              Sigma          mu     d        th  th0  \\\n",
       "37135  5.821289e+06  101.798129  89.0  5.862834  6.5   \n",
       "\n",
       "                                                   Decay  \n",
       "37135  [0.19024090955881282, 0.17885688326302107, 0.1...  "
      ]
     },
     "execution_count": 6,
     "metadata": {},
     "output_type": "execute_result"
    }
   ],
   "source": [
    "import numpy as np\n",
    "import matplotlib.pyplot as plt\n",
    "import sys\n",
    "from common import tool_times\n",
    "from common import well_construction as wc\n",
    "from common.sensor_types import sensors\n",
    "from solvers.solver_cim_py.interface import Solver\n",
    "\n",
    "\n",
    "tmp_vector = df.sample(1)\n",
    "fix_vector = tmp_vector[['Sigma', 'mu', 'd', 'th', 'th0']]\n",
    "fix_vector = fix_vector*stds+means\n",
    "fix_vector['Decay'] = tmp_vector['Decay']\n",
    "print ('Зафиксировали произвольный вектор из датафрейма с компонентами \\n')\n",
    "fix_vector"
   ]
  },
  {
   "cell_type": "code",
   "execution_count": 7,
   "metadata": {},
   "outputs": [],
   "source": [
    "def model_decay(d=fix_vector.get('d').iloc[0], th0=fix_vector.get('th0').iloc[0],\n",
    "                th=fix_vector.get('th').iloc[0], sigma=fix_vector.get('Sigma').iloc[0], mu=fix_vector.get('mu').iloc[0]):\n",
    "    tubes = [\n",
    "    wc.Tube(d=d, th0=th0, th=th, sigma=sigma, mu=mu),\n",
    "    ]\n",
    "\n",
    "    sensor = sensors.PULSE_3E_1\n",
    "    times = tool_times.times[sensor]\n",
    "    solver = Solver(sensor, times, tool_averaging=True)\n",
    "    output = solver.get_curve(tubes)\n",
    "    return(output)"
   ]
  },
  {
   "cell_type": "code",
   "execution_count": 8,
   "metadata": {},
   "outputs": [],
   "source": [
    "def l2_norm(variable_vector):\n",
    "    return np.linalg.norm([fix_vector.get('Sigma').iloc[0] - variable_vector[0],\n",
    "                          fix_vector.get('mu').iloc[0] - variable_vector[1],\n",
    "                          fix_vector.get('th').iloc[0] - variable_vector[2]])\n",
    "\n",
    "def L(variable_vector):\n",
    "    return (weighted_mse(np.array(fix_vector.get('Decay').iloc[0]), np.array(model_decay(sigma=variable_vector[0],\n",
    "                                                                             mu=variable_vector[1],\n",
    "                                                                            th=variable_vector[2])),t))\n",
    "def minimization_func(variable_vector, constant=1):\n",
    "    #variable_vector = [Sigma2, mu2, th2]\n",
    "    return (-1 * l2_norm(variable_vector) + constant * L(variable_vector) )"
   ]
  },
  {
   "cell_type": "markdown",
   "metadata": {},
   "source": [
    "### 2D minimization_func (sigma/mu) surface"
   ]
  },
  {
   "cell_type": "code",
   "execution_count": 9,
   "metadata": {},
   "outputs": [],
   "source": [
    "def l2_norm(x,y):#sigma/mu\n",
    "    return np.linalg.norm([fix_vector.get('Sigma').iloc[0] - x,\n",
    "                          fix_vector.get('mu').iloc[0] - y])\n",
    "\n",
    "def L(x,y):\n",
    "    return (weighted_mse(np.array(fix_vector.get('Decay').iloc[0]), np.array(model_decay(sigma=x,\n",
    "                                                                             mu=y)),t))\n",
    "def minimization_func(x,y, constant=1):\n",
    "    #variable_vector = [Sigma, mu]\n",
    "    return (-1 * l2_norm(x,y) + constant * L(x,y) )"
   ]
  },
  {
   "cell_type": "code",
   "execution_count": 10,
   "metadata": {},
   "outputs": [
    {
     "name": "stderr",
     "output_type": "stream",
     "text": [
      "2021-02-05 21:01:44 INFO    : multi-lu-coil-modelling, (interface.py      :23  ) - Using cim-triangular solver\n",
      "2021-02-05 21:01:44 INFO    : multi-lu-coil-modelling, (abstractsolver.py :100 ) - Solver validation ... complete\n",
      "2021-02-05 21:01:44 INFO    : multi-lu-coil-modelling, (abstractsolver.py :93  ) - Tubes validation ... complete\n",
      "2021-02-05 21:01:44 INFO    : multi-lu-coil-modelling, (interface.py      :140 ) - Received tubes:[\n",
      "\tTube(id='', d=89.0, th=5.862833610145759, th0=6.5, sigma=-11642578.753352998, mu=-203.59625784777214),]\n",
      "2021-02-05 21:01:44 INFO    : multi-lu-coil-modelling, (interface.py      :144 ) - Mesh loading ... complete\n",
      "2021-02-05 21:01:45 INFO    : multi-lu-coil-modelling, (interface.py      :114 ) - Modelling tool averaging\n",
      "2021-02-05 21:01:45 INFO    : multi-lu-coil-modelling, (interface.py      :172 ) - Done\n",
      "<ipython-input-2-57651b7c9b59>:4: RuntimeWarning: overflow encountered in square\n",
      "  amplitude = np.dot(dt, u * u_exp) / np.dot(dt, u ** 2)\n",
      "2021-02-05 21:01:45 INFO    : multi-lu-coil-modelling, (interface.py      :23  ) - Using cim-triangular solver\n",
      "2021-02-05 21:01:45 INFO    : multi-lu-coil-modelling, (abstractsolver.py :100 ) - Solver validation ... complete\n",
      "2021-02-05 21:01:45 INFO    : multi-lu-coil-modelling, (abstractsolver.py :93  ) - Tubes validation ... complete\n",
      "2021-02-05 21:01:45 INFO    : multi-lu-coil-modelling, (interface.py      :140 ) - Received tubes:[\n",
      "\tTube(id='', d=89.0, th=5.862833610145759, th0=6.5, sigma=-11642578.753352998, mu=-158.35264499271165),]\n",
      "2021-02-05 21:01:45 INFO    : multi-lu-coil-modelling, (interface.py      :144 ) - Mesh loading ... complete\n",
      "2021-02-05 21:01:47 INFO    : multi-lu-coil-modelling, (interface.py      :114 ) - Modelling tool averaging\n",
      "2021-02-05 21:01:47 INFO    : multi-lu-coil-modelling, (interface.py      :172 ) - Done\n",
      "2021-02-05 21:01:47 INFO    : multi-lu-coil-modelling, (interface.py      :23  ) - Using cim-triangular solver\n",
      "2021-02-05 21:01:47 INFO    : multi-lu-coil-modelling, (abstractsolver.py :100 ) - Solver validation ... complete\n",
      "2021-02-05 21:01:47 INFO    : multi-lu-coil-modelling, (abstractsolver.py :93  ) - Tubes validation ... complete\n",
      "2021-02-05 21:01:47 INFO    : multi-lu-coil-modelling, (interface.py      :140 ) - Received tubes:[\n",
      "\tTube(id='', d=89.0, th=5.862833610145759, th0=6.5, sigma=-11642578.753352998, mu=-113.10903213765118),]\n",
      "2021-02-05 21:01:47 INFO    : multi-lu-coil-modelling, (interface.py      :144 ) - Mesh loading ... complete\n",
      "2021-02-05 21:01:48 INFO    : multi-lu-coil-modelling, (interface.py      :114 ) - Modelling tool averaging\n",
      "2021-02-05 21:01:48 INFO    : multi-lu-coil-modelling, (interface.py      :172 ) - Done\n",
      "2021-02-05 21:01:48 INFO    : multi-lu-coil-modelling, (interface.py      :23  ) - Using cim-triangular solver\n",
      "2021-02-05 21:01:48 INFO    : multi-lu-coil-modelling, (abstractsolver.py :100 ) - Solver validation ... complete\n",
      "2021-02-05 21:01:48 INFO    : multi-lu-coil-modelling, (abstractsolver.py :93  ) - Tubes validation ... complete\n",
      "2021-02-05 21:01:48 INFO    : multi-lu-coil-modelling, (interface.py      :140 ) - Received tubes:[\n",
      "\tTube(id='', d=89.0, th=5.862833610145759, th0=6.5, sigma=-11642578.753352998, mu=-67.8654192825907),]\n",
      "2021-02-05 21:01:48 INFO    : multi-lu-coil-modelling, (interface.py      :144 ) - Mesh loading ... complete\n",
      "2021-02-05 21:01:50 INFO    : multi-lu-coil-modelling, (interface.py      :114 ) - Modelling tool averaging\n",
      "2021-02-05 21:01:50 INFO    : multi-lu-coil-modelling, (interface.py      :172 ) - Done\n",
      "2021-02-05 21:01:50 INFO    : multi-lu-coil-modelling, (interface.py      :23  ) - Using cim-triangular solver\n",
      "2021-02-05 21:01:50 INFO    : multi-lu-coil-modelling, (abstractsolver.py :100 ) - Solver validation ... complete\n",
      "2021-02-05 21:01:50 INFO    : multi-lu-coil-modelling, (abstractsolver.py :93  ) - Tubes validation ... complete\n",
      "2021-02-05 21:01:50 INFO    : multi-lu-coil-modelling, (interface.py      :140 ) - Received tubes:[\n",
      "\tTube(id='', d=89.0, th=5.862833610145759, th0=6.5, sigma=-11642578.753352998, mu=-22.62180642753023),]\n",
      "2021-02-05 21:01:50 INFO    : multi-lu-coil-modelling, (interface.py      :144 ) - Mesh loading ... complete\n",
      "2021-02-05 21:01:52 INFO    : multi-lu-coil-modelling, (interface.py      :114 ) - Modelling tool averaging\n",
      "2021-02-05 21:01:52 INFO    : multi-lu-coil-modelling, (interface.py      :172 ) - Done\n",
      "2021-02-05 21:01:52 INFO    : multi-lu-coil-modelling, (interface.py      :23  ) - Using cim-triangular solver\n",
      "2021-02-05 21:01:52 INFO    : multi-lu-coil-modelling, (abstractsolver.py :100 ) - Solver validation ... complete\n",
      "2021-02-05 21:01:52 INFO    : multi-lu-coil-modelling, (abstractsolver.py :93  ) - Tubes validation ... complete\n",
      "2021-02-05 21:01:52 INFO    : multi-lu-coil-modelling, (interface.py      :140 ) - Received tubes:[\n",
      "\tTube(id='', d=89.0, th=5.862833610145759, th0=6.5, sigma=-11642578.753352998, mu=22.62180642753023),]\n",
      "2021-02-05 21:01:52 INFO    : multi-lu-coil-modelling, (interface.py      :144 ) - Mesh loading ... complete\n",
      "2021-02-05 21:01:53 INFO    : multi-lu-coil-modelling, (interface.py      :114 ) - Modelling tool averaging\n",
      "2021-02-05 21:01:53 INFO    : multi-lu-coil-modelling, (interface.py      :172 ) - Done\n",
      "2021-02-05 21:01:53 INFO    : multi-lu-coil-modelling, (interface.py      :23  ) - Using cim-triangular solver\n",
      "2021-02-05 21:01:53 INFO    : multi-lu-coil-modelling, (abstractsolver.py :100 ) - Solver validation ... complete\n",
      "2021-02-05 21:01:53 INFO    : multi-lu-coil-modelling, (abstractsolver.py :93  ) - Tubes validation ... complete\n",
      "2021-02-05 21:01:53 INFO    : multi-lu-coil-modelling, (interface.py      :140 ) - Received tubes:[\n",
      "\tTube(id='', d=89.0, th=5.862833610145759, th0=6.5, sigma=-11642578.753352998, mu=67.86541928259075),]\n",
      "2021-02-05 21:01:53 INFO    : multi-lu-coil-modelling, (interface.py      :144 ) - Mesh loading ... complete\n",
      "2021-02-05 21:01:55 INFO    : multi-lu-coil-modelling, (interface.py      :114 ) - Modelling tool averaging\n",
      "2021-02-05 21:01:55 INFO    : multi-lu-coil-modelling, (interface.py      :172 ) - Done\n",
      "2021-02-05 21:01:55 INFO    : multi-lu-coil-modelling, (interface.py      :23  ) - Using cim-triangular solver\n",
      "2021-02-05 21:01:55 INFO    : multi-lu-coil-modelling, (abstractsolver.py :100 ) - Solver validation ... complete\n",
      "2021-02-05 21:01:55 INFO    : multi-lu-coil-modelling, (abstractsolver.py :93  ) - Tubes validation ... complete\n",
      "2021-02-05 21:01:55 INFO    : multi-lu-coil-modelling, (interface.py      :140 ) - Received tubes:[\n",
      "\tTube(id='', d=89.0, th=5.862833610145759, th0=6.5, sigma=-11642578.753352998, mu=113.10903213765121),]\n",
      "2021-02-05 21:01:55 INFO    : multi-lu-coil-modelling, (interface.py      :144 ) - Mesh loading ... complete\n",
      "2021-02-05 21:01:56 INFO    : multi-lu-coil-modelling, (interface.py      :114 ) - Modelling tool averaging\n",
      "2021-02-05 21:01:56 INFO    : multi-lu-coil-modelling, (interface.py      :172 ) - Done\n",
      "2021-02-05 21:01:56 INFO    : multi-lu-coil-modelling, (interface.py      :23  ) - Using cim-triangular solver\n",
      "2021-02-05 21:01:56 INFO    : multi-lu-coil-modelling, (abstractsolver.py :100 ) - Solver validation ... complete\n",
      "2021-02-05 21:01:56 INFO    : multi-lu-coil-modelling, (abstractsolver.py :93  ) - Tubes validation ... complete\n",
      "2021-02-05 21:01:56 INFO    : multi-lu-coil-modelling, (interface.py      :140 ) - Received tubes:[\n",
      "\tTube(id='', d=89.0, th=5.862833610145759, th0=6.5, sigma=-11642578.753352998, mu=158.35264499271167),]\n",
      "2021-02-05 21:01:56 INFO    : multi-lu-coil-modelling, (interface.py      :144 ) - Mesh loading ... complete\n",
      "2021-02-05 21:01:58 INFO    : multi-lu-coil-modelling, (interface.py      :114 ) - Modelling tool averaging\n",
      "2021-02-05 21:01:58 INFO    : multi-lu-coil-modelling, (interface.py      :172 ) - Done\n",
      "2021-02-05 21:01:58 INFO    : multi-lu-coil-modelling, (interface.py      :23  ) - Using cim-triangular solver\n",
      "2021-02-05 21:01:58 INFO    : multi-lu-coil-modelling, (abstractsolver.py :100 ) - Solver validation ... complete\n",
      "2021-02-05 21:01:58 INFO    : multi-lu-coil-modelling, (abstractsolver.py :93  ) - Tubes validation ... complete\n",
      "2021-02-05 21:01:58 INFO    : multi-lu-coil-modelling, (interface.py      :140 ) - Received tubes:[\n",
      "\tTube(id='', d=89.0, th=5.862833610145759, th0=6.5, sigma=-11642578.753352998, mu=203.59625784777214),]\n"
     ]
    },
    {
     "name": "stderr",
     "output_type": "stream",
     "text": [
      "2021-02-05 21:01:58 INFO    : multi-lu-coil-modelling, (interface.py      :144 ) - Mesh loading ... complete\n",
      "2021-02-05 21:01:59 INFO    : multi-lu-coil-modelling, (interface.py      :114 ) - Modelling tool averaging\n",
      "2021-02-05 21:01:59 INFO    : multi-lu-coil-modelling, (interface.py      :172 ) - Done\n",
      "2021-02-05 21:01:59 INFO    : multi-lu-coil-modelling, (interface.py      :23  ) - Using cim-triangular solver\n",
      "2021-02-05 21:01:59 INFO    : multi-lu-coil-modelling, (abstractsolver.py :100 ) - Solver validation ... complete\n",
      "2021-02-05 21:01:59 INFO    : multi-lu-coil-modelling, (abstractsolver.py :93  ) - Tubes validation ... complete\n",
      "2021-02-05 21:01:59 INFO    : multi-lu-coil-modelling, (interface.py      :140 ) - Received tubes:[\n",
      "\tTube(id='', d=89.0, th=5.862833610145759, th0=6.5, sigma=-9055339.030385666, mu=-203.59625784777214),]\n",
      "2021-02-05 21:01:59 INFO    : multi-lu-coil-modelling, (interface.py      :144 ) - Mesh loading ... complete\n",
      "2021-02-05 21:02:01 INFO    : multi-lu-coil-modelling, (interface.py      :114 ) - Modelling tool averaging\n",
      "2021-02-05 21:02:01 INFO    : multi-lu-coil-modelling, (interface.py      :172 ) - Done\n",
      "2021-02-05 21:02:01 INFO    : multi-lu-coil-modelling, (interface.py      :23  ) - Using cim-triangular solver\n",
      "2021-02-05 21:02:01 INFO    : multi-lu-coil-modelling, (abstractsolver.py :100 ) - Solver validation ... complete\n",
      "2021-02-05 21:02:01 INFO    : multi-lu-coil-modelling, (abstractsolver.py :93  ) - Tubes validation ... complete\n",
      "2021-02-05 21:02:01 INFO    : multi-lu-coil-modelling, (interface.py      :140 ) - Received tubes:[\n",
      "\tTube(id='', d=89.0, th=5.862833610145759, th0=6.5, sigma=-9055339.030385666, mu=-158.35264499271165),]\n",
      "2021-02-05 21:02:01 INFO    : multi-lu-coil-modelling, (interface.py      :144 ) - Mesh loading ... complete\n",
      "2021-02-05 21:02:03 INFO    : multi-lu-coil-modelling, (interface.py      :114 ) - Modelling tool averaging\n",
      "2021-02-05 21:02:03 INFO    : multi-lu-coil-modelling, (interface.py      :172 ) - Done\n",
      "2021-02-05 21:02:03 INFO    : multi-lu-coil-modelling, (interface.py      :23  ) - Using cim-triangular solver\n",
      "2021-02-05 21:02:03 INFO    : multi-lu-coil-modelling, (abstractsolver.py :100 ) - Solver validation ... complete\n",
      "2021-02-05 21:02:03 INFO    : multi-lu-coil-modelling, (abstractsolver.py :93  ) - Tubes validation ... complete\n",
      "2021-02-05 21:02:03 INFO    : multi-lu-coil-modelling, (interface.py      :140 ) - Received tubes:[\n",
      "\tTube(id='', d=89.0, th=5.862833610145759, th0=6.5, sigma=-9055339.030385666, mu=-113.10903213765118),]\n",
      "2021-02-05 21:02:03 INFO    : multi-lu-coil-modelling, (interface.py      :144 ) - Mesh loading ... complete\n",
      "2021-02-05 21:02:05 INFO    : multi-lu-coil-modelling, (interface.py      :114 ) - Modelling tool averaging\n",
      "2021-02-05 21:02:05 INFO    : multi-lu-coil-modelling, (interface.py      :172 ) - Done\n",
      "2021-02-05 21:02:05 INFO    : multi-lu-coil-modelling, (interface.py      :23  ) - Using cim-triangular solver\n",
      "2021-02-05 21:02:05 INFO    : multi-lu-coil-modelling, (abstractsolver.py :100 ) - Solver validation ... complete\n",
      "2021-02-05 21:02:05 INFO    : multi-lu-coil-modelling, (abstractsolver.py :93  ) - Tubes validation ... complete\n",
      "2021-02-05 21:02:05 INFO    : multi-lu-coil-modelling, (interface.py      :140 ) - Received tubes:[\n",
      "\tTube(id='', d=89.0, th=5.862833610145759, th0=6.5, sigma=-9055339.030385666, mu=-67.8654192825907),]\n",
      "2021-02-05 21:02:05 INFO    : multi-lu-coil-modelling, (interface.py      :144 ) - Mesh loading ... complete\n",
      "2021-02-05 21:02:07 INFO    : multi-lu-coil-modelling, (interface.py      :114 ) - Modelling tool averaging\n",
      "2021-02-05 21:02:07 INFO    : multi-lu-coil-modelling, (interface.py      :172 ) - Done\n",
      "2021-02-05 21:02:07 INFO    : multi-lu-coil-modelling, (interface.py      :23  ) - Using cim-triangular solver\n",
      "2021-02-05 21:02:07 INFO    : multi-lu-coil-modelling, (abstractsolver.py :100 ) - Solver validation ... complete\n",
      "2021-02-05 21:02:07 INFO    : multi-lu-coil-modelling, (abstractsolver.py :93  ) - Tubes validation ... complete\n",
      "2021-02-05 21:02:07 INFO    : multi-lu-coil-modelling, (interface.py      :140 ) - Received tubes:[\n",
      "\tTube(id='', d=89.0, th=5.862833610145759, th0=6.5, sigma=-9055339.030385666, mu=-22.62180642753023),]\n",
      "2021-02-05 21:02:07 INFO    : multi-lu-coil-modelling, (interface.py      :144 ) - Mesh loading ... complete\n",
      "2021-02-05 21:02:08 INFO    : multi-lu-coil-modelling, (interface.py      :114 ) - Modelling tool averaging\n",
      "2021-02-05 21:02:08 INFO    : multi-lu-coil-modelling, (interface.py      :172 ) - Done\n",
      "2021-02-05 21:02:08 INFO    : multi-lu-coil-modelling, (interface.py      :23  ) - Using cim-triangular solver\n",
      "2021-02-05 21:02:08 INFO    : multi-lu-coil-modelling, (abstractsolver.py :100 ) - Solver validation ... complete\n",
      "2021-02-05 21:02:08 INFO    : multi-lu-coil-modelling, (abstractsolver.py :93  ) - Tubes validation ... complete\n",
      "2021-02-05 21:02:08 INFO    : multi-lu-coil-modelling, (interface.py      :140 ) - Received tubes:[\n",
      "\tTube(id='', d=89.0, th=5.862833610145759, th0=6.5, sigma=-9055339.030385666, mu=22.62180642753023),]\n",
      "2021-02-05 21:02:08 INFO    : multi-lu-coil-modelling, (interface.py      :144 ) - Mesh loading ... complete\n",
      "2021-02-05 21:02:10 INFO    : multi-lu-coil-modelling, (interface.py      :114 ) - Modelling tool averaging\n",
      "2021-02-05 21:02:10 INFO    : multi-lu-coil-modelling, (interface.py      :172 ) - Done\n",
      "2021-02-05 21:02:10 INFO    : multi-lu-coil-modelling, (interface.py      :23  ) - Using cim-triangular solver\n",
      "2021-02-05 21:02:10 INFO    : multi-lu-coil-modelling, (abstractsolver.py :100 ) - Solver validation ... complete\n",
      "2021-02-05 21:02:10 INFO    : multi-lu-coil-modelling, (abstractsolver.py :93  ) - Tubes validation ... complete\n",
      "2021-02-05 21:02:10 INFO    : multi-lu-coil-modelling, (interface.py      :140 ) - Received tubes:[\n",
      "\tTube(id='', d=89.0, th=5.862833610145759, th0=6.5, sigma=-9055339.030385666, mu=67.86541928259075),]\n",
      "2021-02-05 21:02:10 INFO    : multi-lu-coil-modelling, (interface.py      :144 ) - Mesh loading ... complete\n",
      "2021-02-05 21:02:12 INFO    : multi-lu-coil-modelling, (interface.py      :114 ) - Modelling tool averaging\n",
      "2021-02-05 21:02:12 INFO    : multi-lu-coil-modelling, (interface.py      :172 ) - Done\n",
      "2021-02-05 21:02:12 INFO    : multi-lu-coil-modelling, (interface.py      :23  ) - Using cim-triangular solver\n",
      "2021-02-05 21:02:12 INFO    : multi-lu-coil-modelling, (abstractsolver.py :100 ) - Solver validation ... complete\n",
      "2021-02-05 21:02:12 INFO    : multi-lu-coil-modelling, (abstractsolver.py :93  ) - Tubes validation ... complete\n",
      "2021-02-05 21:02:12 INFO    : multi-lu-coil-modelling, (interface.py      :140 ) - Received tubes:[\n",
      "\tTube(id='', d=89.0, th=5.862833610145759, th0=6.5, sigma=-9055339.030385666, mu=113.10903213765121),]\n",
      "2021-02-05 21:02:12 INFO    : multi-lu-coil-modelling, (interface.py      :144 ) - Mesh loading ... complete\n",
      "2021-02-05 21:02:14 INFO    : multi-lu-coil-modelling, (interface.py      :114 ) - Modelling tool averaging\n",
      "2021-02-05 21:02:14 INFO    : multi-lu-coil-modelling, (interface.py      :172 ) - Done\n",
      "2021-02-05 21:02:14 INFO    : multi-lu-coil-modelling, (interface.py      :23  ) - Using cim-triangular solver\n",
      "2021-02-05 21:02:14 INFO    : multi-lu-coil-modelling, (abstractsolver.py :100 ) - Solver validation ... complete\n",
      "2021-02-05 21:02:14 INFO    : multi-lu-coil-modelling, (abstractsolver.py :93  ) - Tubes validation ... complete\n",
      "2021-02-05 21:02:14 INFO    : multi-lu-coil-modelling, (interface.py      :140 ) - Received tubes:[\n",
      "\tTube(id='', d=89.0, th=5.862833610145759, th0=6.5, sigma=-9055339.030385666, mu=158.35264499271167),]\n",
      "2021-02-05 21:02:14 INFO    : multi-lu-coil-modelling, (interface.py      :144 ) - Mesh loading ... complete\n",
      "2021-02-05 21:02:16 INFO    : multi-lu-coil-modelling, (interface.py      :114 ) - Modelling tool averaging\n",
      "2021-02-05 21:02:16 INFO    : multi-lu-coil-modelling, (interface.py      :172 ) - Done\n",
      "2021-02-05 21:02:16 INFO    : multi-lu-coil-modelling, (interface.py      :23  ) - Using cim-triangular solver\n",
      "2021-02-05 21:02:16 INFO    : multi-lu-coil-modelling, (abstractsolver.py :100 ) - Solver validation ... complete\n",
      "2021-02-05 21:02:16 INFO    : multi-lu-coil-modelling, (abstractsolver.py :93  ) - Tubes validation ... complete\n"
     ]
    },
    {
     "name": "stderr",
     "output_type": "stream",
     "text": [
      "2021-02-05 21:02:16 INFO    : multi-lu-coil-modelling, (interface.py      :140 ) - Received tubes:[\n",
      "\tTube(id='', d=89.0, th=5.862833610145759, th0=6.5, sigma=-9055339.030385666, mu=203.59625784777214),]\n",
      "2021-02-05 21:02:16 INFO    : multi-lu-coil-modelling, (interface.py      :144 ) - Mesh loading ... complete\n",
      "2021-02-05 21:02:17 INFO    : multi-lu-coil-modelling, (interface.py      :114 ) - Modelling tool averaging\n",
      "2021-02-05 21:02:17 INFO    : multi-lu-coil-modelling, (interface.py      :172 ) - Done\n",
      "2021-02-05 21:02:17 INFO    : multi-lu-coil-modelling, (interface.py      :23  ) - Using cim-triangular solver\n",
      "2021-02-05 21:02:17 INFO    : multi-lu-coil-modelling, (abstractsolver.py :100 ) - Solver validation ... complete\n",
      "2021-02-05 21:02:17 INFO    : multi-lu-coil-modelling, (abstractsolver.py :93  ) - Tubes validation ... complete\n",
      "2021-02-05 21:02:17 INFO    : multi-lu-coil-modelling, (interface.py      :140 ) - Received tubes:[\n",
      "\tTube(id='', d=89.0, th=5.862833610145759, th0=6.5, sigma=-6468099.307418332, mu=-203.59625784777214),]\n",
      "2021-02-05 21:02:17 INFO    : multi-lu-coil-modelling, (interface.py      :144 ) - Mesh loading ... complete\n",
      "2021-02-05 21:02:19 INFO    : multi-lu-coil-modelling, (interface.py      :114 ) - Modelling tool averaging\n",
      "2021-02-05 21:02:19 INFO    : multi-lu-coil-modelling, (interface.py      :172 ) - Done\n",
      "2021-02-05 21:02:19 INFO    : multi-lu-coil-modelling, (interface.py      :23  ) - Using cim-triangular solver\n",
      "2021-02-05 21:02:19 INFO    : multi-lu-coil-modelling, (abstractsolver.py :100 ) - Solver validation ... complete\n",
      "2021-02-05 21:02:19 INFO    : multi-lu-coil-modelling, (abstractsolver.py :93  ) - Tubes validation ... complete\n",
      "2021-02-05 21:02:19 INFO    : multi-lu-coil-modelling, (interface.py      :140 ) - Received tubes:[\n",
      "\tTube(id='', d=89.0, th=5.862833610145759, th0=6.5, sigma=-6468099.307418332, mu=-158.35264499271165),]\n",
      "2021-02-05 21:02:19 INFO    : multi-lu-coil-modelling, (interface.py      :144 ) - Mesh loading ... complete\n",
      "2021-02-05 21:02:21 INFO    : multi-lu-coil-modelling, (interface.py      :114 ) - Modelling tool averaging\n",
      "2021-02-05 21:02:21 INFO    : multi-lu-coil-modelling, (interface.py      :172 ) - Done\n",
      "2021-02-05 21:02:21 INFO    : multi-lu-coil-modelling, (interface.py      :23  ) - Using cim-triangular solver\n",
      "2021-02-05 21:02:21 INFO    : multi-lu-coil-modelling, (abstractsolver.py :100 ) - Solver validation ... complete\n",
      "2021-02-05 21:02:21 INFO    : multi-lu-coil-modelling, (abstractsolver.py :93  ) - Tubes validation ... complete\n",
      "2021-02-05 21:02:21 INFO    : multi-lu-coil-modelling, (interface.py      :140 ) - Received tubes:[\n",
      "\tTube(id='', d=89.0, th=5.862833610145759, th0=6.5, sigma=-6468099.307418332, mu=-113.10903213765118),]\n",
      "2021-02-05 21:02:21 INFO    : multi-lu-coil-modelling, (interface.py      :144 ) - Mesh loading ... complete\n",
      "2021-02-05 21:02:23 INFO    : multi-lu-coil-modelling, (interface.py      :114 ) - Modelling tool averaging\n",
      "2021-02-05 21:02:23 INFO    : multi-lu-coil-modelling, (interface.py      :172 ) - Done\n",
      "2021-02-05 21:02:23 INFO    : multi-lu-coil-modelling, (interface.py      :23  ) - Using cim-triangular solver\n",
      "2021-02-05 21:02:23 INFO    : multi-lu-coil-modelling, (abstractsolver.py :100 ) - Solver validation ... complete\n",
      "2021-02-05 21:02:23 INFO    : multi-lu-coil-modelling, (abstractsolver.py :93  ) - Tubes validation ... complete\n",
      "2021-02-05 21:02:23 INFO    : multi-lu-coil-modelling, (interface.py      :140 ) - Received tubes:[\n",
      "\tTube(id='', d=89.0, th=5.862833610145759, th0=6.5, sigma=-6468099.307418332, mu=-67.8654192825907),]\n",
      "2021-02-05 21:02:23 INFO    : multi-lu-coil-modelling, (interface.py      :144 ) - Mesh loading ... complete\n",
      "2021-02-05 21:02:24 INFO    : multi-lu-coil-modelling, (interface.py      :114 ) - Modelling tool averaging\n",
      "2021-02-05 21:02:24 INFO    : multi-lu-coil-modelling, (interface.py      :172 ) - Done\n",
      "2021-02-05 21:02:24 INFO    : multi-lu-coil-modelling, (interface.py      :23  ) - Using cim-triangular solver\n",
      "2021-02-05 21:02:24 INFO    : multi-lu-coil-modelling, (abstractsolver.py :100 ) - Solver validation ... complete\n",
      "2021-02-05 21:02:24 INFO    : multi-lu-coil-modelling, (abstractsolver.py :93  ) - Tubes validation ... complete\n",
      "2021-02-05 21:02:24 INFO    : multi-lu-coil-modelling, (interface.py      :140 ) - Received tubes:[\n",
      "\tTube(id='', d=89.0, th=5.862833610145759, th0=6.5, sigma=-6468099.307418332, mu=-22.62180642753023),]\n",
      "2021-02-05 21:02:24 INFO    : multi-lu-coil-modelling, (interface.py      :144 ) - Mesh loading ... complete\n",
      "2021-02-05 21:02:26 INFO    : multi-lu-coil-modelling, (interface.py      :114 ) - Modelling tool averaging\n",
      "2021-02-05 21:02:26 INFO    : multi-lu-coil-modelling, (interface.py      :172 ) - Done\n",
      "2021-02-05 21:02:26 INFO    : multi-lu-coil-modelling, (interface.py      :23  ) - Using cim-triangular solver\n",
      "2021-02-05 21:02:26 INFO    : multi-lu-coil-modelling, (abstractsolver.py :100 ) - Solver validation ... complete\n",
      "2021-02-05 21:02:26 INFO    : multi-lu-coil-modelling, (abstractsolver.py :93  ) - Tubes validation ... complete\n",
      "2021-02-05 21:02:26 INFO    : multi-lu-coil-modelling, (interface.py      :140 ) - Received tubes:[\n",
      "\tTube(id='', d=89.0, th=5.862833610145759, th0=6.5, sigma=-6468099.307418332, mu=22.62180642753023),]\n",
      "2021-02-05 21:02:26 INFO    : multi-lu-coil-modelling, (interface.py      :144 ) - Mesh loading ... complete\n",
      "2021-02-05 21:02:28 INFO    : multi-lu-coil-modelling, (interface.py      :114 ) - Modelling tool averaging\n",
      "2021-02-05 21:02:28 INFO    : multi-lu-coil-modelling, (interface.py      :172 ) - Done\n",
      "2021-02-05 21:02:28 INFO    : multi-lu-coil-modelling, (interface.py      :23  ) - Using cim-triangular solver\n",
      "2021-02-05 21:02:28 INFO    : multi-lu-coil-modelling, (abstractsolver.py :100 ) - Solver validation ... complete\n",
      "2021-02-05 21:02:28 INFO    : multi-lu-coil-modelling, (abstractsolver.py :93  ) - Tubes validation ... complete\n",
      "2021-02-05 21:02:28 INFO    : multi-lu-coil-modelling, (interface.py      :140 ) - Received tubes:[\n",
      "\tTube(id='', d=89.0, th=5.862833610145759, th0=6.5, sigma=-6468099.307418332, mu=67.86541928259075),]\n",
      "2021-02-05 21:02:28 INFO    : multi-lu-coil-modelling, (interface.py      :144 ) - Mesh loading ... complete\n",
      "2021-02-05 21:02:30 INFO    : multi-lu-coil-modelling, (interface.py      :114 ) - Modelling tool averaging\n",
      "2021-02-05 21:02:30 INFO    : multi-lu-coil-modelling, (interface.py      :172 ) - Done\n",
      "2021-02-05 21:02:30 INFO    : multi-lu-coil-modelling, (interface.py      :23  ) - Using cim-triangular solver\n",
      "2021-02-05 21:02:30 INFO    : multi-lu-coil-modelling, (abstractsolver.py :100 ) - Solver validation ... complete\n",
      "2021-02-05 21:02:30 INFO    : multi-lu-coil-modelling, (abstractsolver.py :93  ) - Tubes validation ... complete\n",
      "2021-02-05 21:02:30 INFO    : multi-lu-coil-modelling, (interface.py      :140 ) - Received tubes:[\n",
      "\tTube(id='', d=89.0, th=5.862833610145759, th0=6.5, sigma=-6468099.307418332, mu=113.10903213765121),]\n",
      "2021-02-05 21:02:30 INFO    : multi-lu-coil-modelling, (interface.py      :144 ) - Mesh loading ... complete\n",
      "2021-02-05 21:02:31 INFO    : multi-lu-coil-modelling, (interface.py      :114 ) - Modelling tool averaging\n",
      "2021-02-05 21:02:31 INFO    : multi-lu-coil-modelling, (interface.py      :172 ) - Done\n",
      "2021-02-05 21:02:31 INFO    : multi-lu-coil-modelling, (interface.py      :23  ) - Using cim-triangular solver\n",
      "2021-02-05 21:02:31 INFO    : multi-lu-coil-modelling, (abstractsolver.py :100 ) - Solver validation ... complete\n",
      "2021-02-05 21:02:31 INFO    : multi-lu-coil-modelling, (abstractsolver.py :93  ) - Tubes validation ... complete\n",
      "2021-02-05 21:02:31 INFO    : multi-lu-coil-modelling, (interface.py      :140 ) - Received tubes:[\n",
      "\tTube(id='', d=89.0, th=5.862833610145759, th0=6.5, sigma=-6468099.307418332, mu=158.35264499271167),]\n",
      "2021-02-05 21:02:31 INFO    : multi-lu-coil-modelling, (interface.py      :144 ) - Mesh loading ... complete\n",
      "2021-02-05 21:02:33 INFO    : multi-lu-coil-modelling, (interface.py      :114 ) - Modelling tool averaging\n",
      "2021-02-05 21:02:33 INFO    : multi-lu-coil-modelling, (interface.py      :172 ) - Done\n",
      "2021-02-05 21:02:33 INFO    : multi-lu-coil-modelling, (interface.py      :23  ) - Using cim-triangular solver\n"
     ]
    },
    {
     "name": "stderr",
     "output_type": "stream",
     "text": [
      "2021-02-05 21:02:33 INFO    : multi-lu-coil-modelling, (abstractsolver.py :100 ) - Solver validation ... complete\n",
      "2021-02-05 21:02:33 INFO    : multi-lu-coil-modelling, (abstractsolver.py :93  ) - Tubes validation ... complete\n",
      "2021-02-05 21:02:33 INFO    : multi-lu-coil-modelling, (interface.py      :140 ) - Received tubes:[\n",
      "\tTube(id='', d=89.0, th=5.862833610145759, th0=6.5, sigma=-6468099.307418332, mu=203.59625784777214),]\n",
      "2021-02-05 21:02:33 INFO    : multi-lu-coil-modelling, (interface.py      :144 ) - Mesh loading ... complete\n",
      "2021-02-05 21:02:35 INFO    : multi-lu-coil-modelling, (interface.py      :114 ) - Modelling tool averaging\n",
      "2021-02-05 21:02:35 INFO    : multi-lu-coil-modelling, (interface.py      :172 ) - Done\n",
      "2021-02-05 21:02:35 INFO    : multi-lu-coil-modelling, (interface.py      :23  ) - Using cim-triangular solver\n",
      "2021-02-05 21:02:35 INFO    : multi-lu-coil-modelling, (abstractsolver.py :100 ) - Solver validation ... complete\n",
      "2021-02-05 21:02:35 INFO    : multi-lu-coil-modelling, (abstractsolver.py :93  ) - Tubes validation ... complete\n",
      "2021-02-05 21:02:35 INFO    : multi-lu-coil-modelling, (interface.py      :140 ) - Received tubes:[\n",
      "\tTube(id='', d=89.0, th=5.862833610145759, th0=6.5, sigma=-3880859.5844509993, mu=-203.59625784777214),]\n",
      "2021-02-05 21:02:35 INFO    : multi-lu-coil-modelling, (interface.py      :144 ) - Mesh loading ... complete\n",
      "2021-02-05 21:02:37 INFO    : multi-lu-coil-modelling, (interface.py      :114 ) - Modelling tool averaging\n",
      "2021-02-05 21:02:37 INFO    : multi-lu-coil-modelling, (interface.py      :172 ) - Done\n",
      "2021-02-05 21:02:37 INFO    : multi-lu-coil-modelling, (interface.py      :23  ) - Using cim-triangular solver\n",
      "2021-02-05 21:02:37 INFO    : multi-lu-coil-modelling, (abstractsolver.py :100 ) - Solver validation ... complete\n",
      "2021-02-05 21:02:37 INFO    : multi-lu-coil-modelling, (abstractsolver.py :93  ) - Tubes validation ... complete\n",
      "2021-02-05 21:02:37 INFO    : multi-lu-coil-modelling, (interface.py      :140 ) - Received tubes:[\n",
      "\tTube(id='', d=89.0, th=5.862833610145759, th0=6.5, sigma=-3880859.5844509993, mu=-158.35264499271165),]\n",
      "2021-02-05 21:02:37 INFO    : multi-lu-coil-modelling, (interface.py      :144 ) - Mesh loading ... complete\n",
      "2021-02-05 21:02:39 INFO    : multi-lu-coil-modelling, (interface.py      :114 ) - Modelling tool averaging\n",
      "2021-02-05 21:02:39 INFO    : multi-lu-coil-modelling, (interface.py      :172 ) - Done\n",
      "2021-02-05 21:02:39 INFO    : multi-lu-coil-modelling, (interface.py      :23  ) - Using cim-triangular solver\n",
      "2021-02-05 21:02:39 INFO    : multi-lu-coil-modelling, (abstractsolver.py :100 ) - Solver validation ... complete\n",
      "2021-02-05 21:02:39 INFO    : multi-lu-coil-modelling, (abstractsolver.py :93  ) - Tubes validation ... complete\n",
      "2021-02-05 21:02:39 INFO    : multi-lu-coil-modelling, (interface.py      :140 ) - Received tubes:[\n",
      "\tTube(id='', d=89.0, th=5.862833610145759, th0=6.5, sigma=-3880859.5844509993, mu=-113.10903213765118),]\n",
      "2021-02-05 21:02:39 INFO    : multi-lu-coil-modelling, (interface.py      :144 ) - Mesh loading ... complete\n",
      "2021-02-05 21:02:40 INFO    : multi-lu-coil-modelling, (interface.py      :114 ) - Modelling tool averaging\n",
      "2021-02-05 21:02:40 INFO    : multi-lu-coil-modelling, (interface.py      :172 ) - Done\n",
      "2021-02-05 21:02:40 INFO    : multi-lu-coil-modelling, (interface.py      :23  ) - Using cim-triangular solver\n",
      "2021-02-05 21:02:40 INFO    : multi-lu-coil-modelling, (abstractsolver.py :100 ) - Solver validation ... complete\n",
      "2021-02-05 21:02:40 INFO    : multi-lu-coil-modelling, (abstractsolver.py :93  ) - Tubes validation ... complete\n",
      "2021-02-05 21:02:40 INFO    : multi-lu-coil-modelling, (interface.py      :140 ) - Received tubes:[\n",
      "\tTube(id='', d=89.0, th=5.862833610145759, th0=6.5, sigma=-3880859.5844509993, mu=-67.8654192825907),]\n",
      "2021-02-05 21:02:40 INFO    : multi-lu-coil-modelling, (interface.py      :144 ) - Mesh loading ... complete\n",
      "2021-02-05 21:02:42 INFO    : multi-lu-coil-modelling, (interface.py      :114 ) - Modelling tool averaging\n",
      "2021-02-05 21:02:42 INFO    : multi-lu-coil-modelling, (interface.py      :172 ) - Done\n",
      "2021-02-05 21:02:42 INFO    : multi-lu-coil-modelling, (interface.py      :23  ) - Using cim-triangular solver\n",
      "2021-02-05 21:02:42 INFO    : multi-lu-coil-modelling, (abstractsolver.py :100 ) - Solver validation ... complete\n",
      "2021-02-05 21:02:42 INFO    : multi-lu-coil-modelling, (abstractsolver.py :93  ) - Tubes validation ... complete\n",
      "2021-02-05 21:02:42 INFO    : multi-lu-coil-modelling, (interface.py      :140 ) - Received tubes:[\n",
      "\tTube(id='', d=89.0, th=5.862833610145759, th0=6.5, sigma=-3880859.5844509993, mu=-22.62180642753023),]\n",
      "2021-02-05 21:02:42 INFO    : multi-lu-coil-modelling, (interface.py      :144 ) - Mesh loading ... complete\n",
      "2021-02-05 21:02:44 INFO    : multi-lu-coil-modelling, (interface.py      :114 ) - Modelling tool averaging\n",
      "2021-02-05 21:02:44 INFO    : multi-lu-coil-modelling, (interface.py      :172 ) - Done\n",
      "2021-02-05 21:02:44 INFO    : multi-lu-coil-modelling, (interface.py      :23  ) - Using cim-triangular solver\n",
      "2021-02-05 21:02:44 INFO    : multi-lu-coil-modelling, (abstractsolver.py :100 ) - Solver validation ... complete\n",
      "2021-02-05 21:02:44 INFO    : multi-lu-coil-modelling, (abstractsolver.py :93  ) - Tubes validation ... complete\n",
      "2021-02-05 21:02:44 INFO    : multi-lu-coil-modelling, (interface.py      :140 ) - Received tubes:[\n",
      "\tTube(id='', d=89.0, th=5.862833610145759, th0=6.5, sigma=-3880859.5844509993, mu=22.62180642753023),]\n",
      "2021-02-05 21:02:44 INFO    : multi-lu-coil-modelling, (interface.py      :144 ) - Mesh loading ... complete\n",
      "2021-02-05 21:02:45 INFO    : multi-lu-coil-modelling, (interface.py      :114 ) - Modelling tool averaging\n",
      "2021-02-05 21:02:45 INFO    : multi-lu-coil-modelling, (interface.py      :172 ) - Done\n",
      "2021-02-05 21:02:46 INFO    : multi-lu-coil-modelling, (interface.py      :23  ) - Using cim-triangular solver\n",
      "2021-02-05 21:02:46 INFO    : multi-lu-coil-modelling, (abstractsolver.py :100 ) - Solver validation ... complete\n",
      "2021-02-05 21:02:46 INFO    : multi-lu-coil-modelling, (abstractsolver.py :93  ) - Tubes validation ... complete\n",
      "2021-02-05 21:02:46 INFO    : multi-lu-coil-modelling, (interface.py      :140 ) - Received tubes:[\n",
      "\tTube(id='', d=89.0, th=5.862833610145759, th0=6.5, sigma=-3880859.5844509993, mu=67.86541928259075),]\n",
      "2021-02-05 21:02:46 INFO    : multi-lu-coil-modelling, (interface.py      :144 ) - Mesh loading ... complete\n",
      "2021-02-05 21:02:47 INFO    : multi-lu-coil-modelling, (interface.py      :114 ) - Modelling tool averaging\n",
      "2021-02-05 21:02:47 INFO    : multi-lu-coil-modelling, (interface.py      :172 ) - Done\n",
      "2021-02-05 21:02:47 INFO    : multi-lu-coil-modelling, (interface.py      :23  ) - Using cim-triangular solver\n",
      "2021-02-05 21:02:47 INFO    : multi-lu-coil-modelling, (abstractsolver.py :100 ) - Solver validation ... complete\n",
      "2021-02-05 21:02:47 INFO    : multi-lu-coil-modelling, (abstractsolver.py :93  ) - Tubes validation ... complete\n",
      "2021-02-05 21:02:47 INFO    : multi-lu-coil-modelling, (interface.py      :140 ) - Received tubes:[\n",
      "\tTube(id='', d=89.0, th=5.862833610145759, th0=6.5, sigma=-3880859.5844509993, mu=113.10903213765121),]\n",
      "2021-02-05 21:02:47 INFO    : multi-lu-coil-modelling, (interface.py      :144 ) - Mesh loading ... complete\n",
      "2021-02-05 21:02:49 INFO    : multi-lu-coil-modelling, (interface.py      :114 ) - Modelling tool averaging\n",
      "2021-02-05 21:02:49 INFO    : multi-lu-coil-modelling, (interface.py      :172 ) - Done\n",
      "2021-02-05 21:02:49 INFO    : multi-lu-coil-modelling, (interface.py      :23  ) - Using cim-triangular solver\n",
      "2021-02-05 21:02:49 INFO    : multi-lu-coil-modelling, (abstractsolver.py :100 ) - Solver validation ... complete\n",
      "2021-02-05 21:02:49 INFO    : multi-lu-coil-modelling, (abstractsolver.py :93  ) - Tubes validation ... complete\n",
      "2021-02-05 21:02:49 INFO    : multi-lu-coil-modelling, (interface.py      :140 ) - Received tubes:[\n",
      "\tTube(id='', d=89.0, th=5.862833610145759, th0=6.5, sigma=-3880859.5844509993, mu=158.35264499271167),]\n",
      "2021-02-05 21:02:49 INFO    : multi-lu-coil-modelling, (interface.py      :144 ) - Mesh loading ... complete\n",
      "2021-02-05 21:02:50 INFO    : multi-lu-coil-modelling, (interface.py      :114 ) - Modelling tool averaging\n"
     ]
    },
    {
     "name": "stderr",
     "output_type": "stream",
     "text": [
      "2021-02-05 21:02:50 INFO    : multi-lu-coil-modelling, (interface.py      :172 ) - Done\n",
      "2021-02-05 21:02:50 INFO    : multi-lu-coil-modelling, (interface.py      :23  ) - Using cim-triangular solver\n",
      "2021-02-05 21:02:50 INFO    : multi-lu-coil-modelling, (abstractsolver.py :100 ) - Solver validation ... complete\n",
      "2021-02-05 21:02:50 INFO    : multi-lu-coil-modelling, (abstractsolver.py :93  ) - Tubes validation ... complete\n",
      "2021-02-05 21:02:50 INFO    : multi-lu-coil-modelling, (interface.py      :140 ) - Received tubes:[\n",
      "\tTube(id='', d=89.0, th=5.862833610145759, th0=6.5, sigma=-3880859.5844509993, mu=203.59625784777214),]\n",
      "2021-02-05 21:02:50 INFO    : multi-lu-coil-modelling, (interface.py      :144 ) - Mesh loading ... complete\n",
      "2021-02-05 21:02:52 INFO    : multi-lu-coil-modelling, (interface.py      :114 ) - Modelling tool averaging\n",
      "2021-02-05 21:02:52 INFO    : multi-lu-coil-modelling, (interface.py      :172 ) - Done\n",
      "2021-02-05 21:02:52 INFO    : multi-lu-coil-modelling, (interface.py      :23  ) - Using cim-triangular solver\n",
      "2021-02-05 21:02:52 INFO    : multi-lu-coil-modelling, (abstractsolver.py :100 ) - Solver validation ... complete\n",
      "2021-02-05 21:02:52 INFO    : multi-lu-coil-modelling, (abstractsolver.py :93  ) - Tubes validation ... complete\n",
      "2021-02-05 21:02:52 INFO    : multi-lu-coil-modelling, (interface.py      :140 ) - Received tubes:[\n",
      "\tTube(id='', d=89.0, th=5.862833610145759, th0=6.5, sigma=-1293619.861483667, mu=-203.59625784777214),]\n",
      "2021-02-05 21:02:52 INFO    : multi-lu-coil-modelling, (interface.py      :144 ) - Mesh loading ... complete\n",
      "2021-02-05 21:02:53 INFO    : multi-lu-coil-modelling, (interface.py      :114 ) - Modelling tool averaging\n",
      "2021-02-05 21:02:53 INFO    : multi-lu-coil-modelling, (interface.py      :172 ) - Done\n",
      "2021-02-05 21:02:53 INFO    : multi-lu-coil-modelling, (interface.py      :23  ) - Using cim-triangular solver\n",
      "2021-02-05 21:02:53 INFO    : multi-lu-coil-modelling, (abstractsolver.py :100 ) - Solver validation ... complete\n",
      "2021-02-05 21:02:53 INFO    : multi-lu-coil-modelling, (abstractsolver.py :93  ) - Tubes validation ... complete\n",
      "2021-02-05 21:02:53 INFO    : multi-lu-coil-modelling, (interface.py      :140 ) - Received tubes:[\n",
      "\tTube(id='', d=89.0, th=5.862833610145759, th0=6.5, sigma=-1293619.861483667, mu=-158.35264499271165),]\n",
      "2021-02-05 21:02:53 INFO    : multi-lu-coil-modelling, (interface.py      :144 ) - Mesh loading ... complete\n",
      "2021-02-05 21:02:55 INFO    : multi-lu-coil-modelling, (interface.py      :114 ) - Modelling tool averaging\n",
      "2021-02-05 21:02:55 INFO    : multi-lu-coil-modelling, (interface.py      :172 ) - Done\n",
      "2021-02-05 21:02:55 INFO    : multi-lu-coil-modelling, (interface.py      :23  ) - Using cim-triangular solver\n",
      "2021-02-05 21:02:55 INFO    : multi-lu-coil-modelling, (abstractsolver.py :100 ) - Solver validation ... complete\n",
      "2021-02-05 21:02:55 INFO    : multi-lu-coil-modelling, (abstractsolver.py :93  ) - Tubes validation ... complete\n",
      "2021-02-05 21:02:55 INFO    : multi-lu-coil-modelling, (interface.py      :140 ) - Received tubes:[\n",
      "\tTube(id='', d=89.0, th=5.862833610145759, th0=6.5, sigma=-1293619.861483667, mu=-113.10903213765118),]\n",
      "2021-02-05 21:02:55 INFO    : multi-lu-coil-modelling, (interface.py      :144 ) - Mesh loading ... complete\n",
      "2021-02-05 21:02:56 INFO    : multi-lu-coil-modelling, (interface.py      :114 ) - Modelling tool averaging\n",
      "2021-02-05 21:02:56 INFO    : multi-lu-coil-modelling, (interface.py      :172 ) - Done\n",
      "2021-02-05 21:02:56 INFO    : multi-lu-coil-modelling, (interface.py      :23  ) - Using cim-triangular solver\n",
      "2021-02-05 21:02:56 INFO    : multi-lu-coil-modelling, (abstractsolver.py :100 ) - Solver validation ... complete\n",
      "2021-02-05 21:02:56 INFO    : multi-lu-coil-modelling, (abstractsolver.py :93  ) - Tubes validation ... complete\n",
      "2021-02-05 21:02:56 INFO    : multi-lu-coil-modelling, (interface.py      :140 ) - Received tubes:[\n",
      "\tTube(id='', d=89.0, th=5.862833610145759, th0=6.5, sigma=-1293619.861483667, mu=-67.8654192825907),]\n",
      "2021-02-05 21:02:56 INFO    : multi-lu-coil-modelling, (interface.py      :144 ) - Mesh loading ... complete\n",
      "2021-02-05 21:02:58 INFO    : multi-lu-coil-modelling, (interface.py      :114 ) - Modelling tool averaging\n",
      "2021-02-05 21:02:58 INFO    : multi-lu-coil-modelling, (interface.py      :172 ) - Done\n",
      "2021-02-05 21:02:58 INFO    : multi-lu-coil-modelling, (interface.py      :23  ) - Using cim-triangular solver\n",
      "2021-02-05 21:02:58 INFO    : multi-lu-coil-modelling, (abstractsolver.py :100 ) - Solver validation ... complete\n",
      "2021-02-05 21:02:58 INFO    : multi-lu-coil-modelling, (abstractsolver.py :93  ) - Tubes validation ... complete\n",
      "2021-02-05 21:02:58 INFO    : multi-lu-coil-modelling, (interface.py      :140 ) - Received tubes:[\n",
      "\tTube(id='', d=89.0, th=5.862833610145759, th0=6.5, sigma=-1293619.861483667, mu=-22.62180642753023),]\n",
      "2021-02-05 21:02:58 INFO    : multi-lu-coil-modelling, (interface.py      :144 ) - Mesh loading ... complete\n",
      "2021-02-05 21:03:00 INFO    : multi-lu-coil-modelling, (interface.py      :114 ) - Modelling tool averaging\n",
      "2021-02-05 21:03:00 INFO    : multi-lu-coil-modelling, (interface.py      :172 ) - Done\n",
      "2021-02-05 21:03:00 INFO    : multi-lu-coil-modelling, (interface.py      :23  ) - Using cim-triangular solver\n",
      "2021-02-05 21:03:00 INFO    : multi-lu-coil-modelling, (abstractsolver.py :100 ) - Solver validation ... complete\n",
      "2021-02-05 21:03:00 INFO    : multi-lu-coil-modelling, (abstractsolver.py :93  ) - Tubes validation ... complete\n",
      "2021-02-05 21:03:00 INFO    : multi-lu-coil-modelling, (interface.py      :140 ) - Received tubes:[\n",
      "\tTube(id='', d=89.0, th=5.862833610145759, th0=6.5, sigma=-1293619.861483667, mu=22.62180642753023),]\n",
      "2021-02-05 21:03:00 INFO    : multi-lu-coil-modelling, (interface.py      :144 ) - Mesh loading ... complete\n",
      "2021-02-05 21:03:02 INFO    : multi-lu-coil-modelling, (interface.py      :114 ) - Modelling tool averaging\n",
      "2021-02-05 21:03:02 INFO    : multi-lu-coil-modelling, (interface.py      :172 ) - Done\n",
      "2021-02-05 21:03:02 INFO    : multi-lu-coil-modelling, (interface.py      :23  ) - Using cim-triangular solver\n",
      "2021-02-05 21:03:02 INFO    : multi-lu-coil-modelling, (abstractsolver.py :100 ) - Solver validation ... complete\n",
      "2021-02-05 21:03:02 INFO    : multi-lu-coil-modelling, (abstractsolver.py :93  ) - Tubes validation ... complete\n",
      "2021-02-05 21:03:02 INFO    : multi-lu-coil-modelling, (interface.py      :140 ) - Received tubes:[\n",
      "\tTube(id='', d=89.0, th=5.862833610145759, th0=6.5, sigma=-1293619.861483667, mu=67.86541928259075),]\n",
      "2021-02-05 21:03:02 INFO    : multi-lu-coil-modelling, (interface.py      :144 ) - Mesh loading ... complete\n",
      "2021-02-05 21:03:03 INFO    : multi-lu-coil-modelling, (interface.py      :114 ) - Modelling tool averaging\n",
      "2021-02-05 21:03:03 INFO    : multi-lu-coil-modelling, (interface.py      :172 ) - Done\n",
      "2021-02-05 21:03:03 INFO    : multi-lu-coil-modelling, (interface.py      :23  ) - Using cim-triangular solver\n",
      "2021-02-05 21:03:03 INFO    : multi-lu-coil-modelling, (abstractsolver.py :100 ) - Solver validation ... complete\n",
      "2021-02-05 21:03:03 INFO    : multi-lu-coil-modelling, (abstractsolver.py :93  ) - Tubes validation ... complete\n",
      "2021-02-05 21:03:03 INFO    : multi-lu-coil-modelling, (interface.py      :140 ) - Received tubes:[\n",
      "\tTube(id='', d=89.0, th=5.862833610145759, th0=6.5, sigma=-1293619.861483667, mu=113.10903213765121),]\n",
      "2021-02-05 21:03:04 INFO    : multi-lu-coil-modelling, (interface.py      :144 ) - Mesh loading ... complete\n",
      "2021-02-05 21:03:05 INFO    : multi-lu-coil-modelling, (interface.py      :114 ) - Modelling tool averaging\n",
      "2021-02-05 21:03:05 INFO    : multi-lu-coil-modelling, (interface.py      :172 ) - Done\n",
      "2021-02-05 21:03:05 INFO    : multi-lu-coil-modelling, (interface.py      :23  ) - Using cim-triangular solver\n",
      "2021-02-05 21:03:05 INFO    : multi-lu-coil-modelling, (abstractsolver.py :100 ) - Solver validation ... complete\n",
      "2021-02-05 21:03:05 INFO    : multi-lu-coil-modelling, (abstractsolver.py :93  ) - Tubes validation ... complete\n",
      "2021-02-05 21:03:05 INFO    : multi-lu-coil-modelling, (interface.py      :140 ) - Received tubes:[\n",
      "\tTube(id='', d=89.0, th=5.862833610145759, th0=6.5, sigma=-1293619.861483667, mu=158.35264499271167),]\n"
     ]
    },
    {
     "name": "stderr",
     "output_type": "stream",
     "text": [
      "2021-02-05 21:03:05 INFO    : multi-lu-coil-modelling, (interface.py      :144 ) - Mesh loading ... complete\n",
      "2021-02-05 21:03:06 INFO    : multi-lu-coil-modelling, (interface.py      :114 ) - Modelling tool averaging\n",
      "2021-02-05 21:03:06 INFO    : multi-lu-coil-modelling, (interface.py      :172 ) - Done\n",
      "2021-02-05 21:03:06 INFO    : multi-lu-coil-modelling, (interface.py      :23  ) - Using cim-triangular solver\n",
      "2021-02-05 21:03:06 INFO    : multi-lu-coil-modelling, (abstractsolver.py :100 ) - Solver validation ... complete\n",
      "2021-02-05 21:03:06 INFO    : multi-lu-coil-modelling, (abstractsolver.py :93  ) - Tubes validation ... complete\n",
      "2021-02-05 21:03:06 INFO    : multi-lu-coil-modelling, (interface.py      :140 ) - Received tubes:[\n",
      "\tTube(id='', d=89.0, th=5.862833610145759, th0=6.5, sigma=-1293619.861483667, mu=203.59625784777214),]\n",
      "2021-02-05 21:03:06 INFO    : multi-lu-coil-modelling, (interface.py      :144 ) - Mesh loading ... complete\n",
      "2021-02-05 21:03:08 INFO    : multi-lu-coil-modelling, (interface.py      :114 ) - Modelling tool averaging\n",
      "2021-02-05 21:03:08 INFO    : multi-lu-coil-modelling, (interface.py      :172 ) - Done\n",
      "2021-02-05 21:03:08 INFO    : multi-lu-coil-modelling, (interface.py      :23  ) - Using cim-triangular solver\n",
      "2021-02-05 21:03:08 INFO    : multi-lu-coil-modelling, (abstractsolver.py :100 ) - Solver validation ... complete\n",
      "2021-02-05 21:03:08 INFO    : multi-lu-coil-modelling, (abstractsolver.py :93  ) - Tubes validation ... complete\n",
      "2021-02-05 21:03:08 INFO    : multi-lu-coil-modelling, (interface.py      :140 ) - Received tubes:[\n",
      "\tTube(id='', d=89.0, th=5.862833610145759, th0=6.5, sigma=1293619.8614836652, mu=-203.59625784777214),]\n",
      "2021-02-05 21:03:08 INFO    : multi-lu-coil-modelling, (interface.py      :144 ) - Mesh loading ... complete\n",
      "2021-02-05 21:03:10 INFO    : multi-lu-coil-modelling, (interface.py      :114 ) - Modelling tool averaging\n",
      "2021-02-05 21:03:10 INFO    : multi-lu-coil-modelling, (interface.py      :172 ) - Done\n",
      "2021-02-05 21:03:10 INFO    : multi-lu-coil-modelling, (interface.py      :23  ) - Using cim-triangular solver\n",
      "2021-02-05 21:03:10 INFO    : multi-lu-coil-modelling, (abstractsolver.py :100 ) - Solver validation ... complete\n",
      "2021-02-05 21:03:10 INFO    : multi-lu-coil-modelling, (abstractsolver.py :93  ) - Tubes validation ... complete\n",
      "2021-02-05 21:03:10 INFO    : multi-lu-coil-modelling, (interface.py      :140 ) - Received tubes:[\n",
      "\tTube(id='', d=89.0, th=5.862833610145759, th0=6.5, sigma=1293619.8614836652, mu=-158.35264499271165),]\n",
      "2021-02-05 21:03:10 INFO    : multi-lu-coil-modelling, (interface.py      :144 ) - Mesh loading ... complete\n",
      "2021-02-05 21:03:12 INFO    : multi-lu-coil-modelling, (interface.py      :114 ) - Modelling tool averaging\n",
      "2021-02-05 21:03:12 INFO    : multi-lu-coil-modelling, (interface.py      :172 ) - Done\n",
      "2021-02-05 21:03:12 INFO    : multi-lu-coil-modelling, (interface.py      :23  ) - Using cim-triangular solver\n",
      "2021-02-05 21:03:12 INFO    : multi-lu-coil-modelling, (abstractsolver.py :100 ) - Solver validation ... complete\n",
      "2021-02-05 21:03:12 INFO    : multi-lu-coil-modelling, (abstractsolver.py :93  ) - Tubes validation ... complete\n",
      "2021-02-05 21:03:12 INFO    : multi-lu-coil-modelling, (interface.py      :140 ) - Received tubes:[\n",
      "\tTube(id='', d=89.0, th=5.862833610145759, th0=6.5, sigma=1293619.8614836652, mu=-113.10903213765118),]\n",
      "2021-02-05 21:03:12 INFO    : multi-lu-coil-modelling, (interface.py      :144 ) - Mesh loading ... complete\n",
      "2021-02-05 21:03:14 INFO    : multi-lu-coil-modelling, (interface.py      :114 ) - Modelling tool averaging\n",
      "2021-02-05 21:03:14 INFO    : multi-lu-coil-modelling, (interface.py      :172 ) - Done\n",
      "2021-02-05 21:03:14 INFO    : multi-lu-coil-modelling, (interface.py      :23  ) - Using cim-triangular solver\n",
      "2021-02-05 21:03:14 INFO    : multi-lu-coil-modelling, (abstractsolver.py :100 ) - Solver validation ... complete\n",
      "2021-02-05 21:03:14 INFO    : multi-lu-coil-modelling, (abstractsolver.py :93  ) - Tubes validation ... complete\n",
      "2021-02-05 21:03:14 INFO    : multi-lu-coil-modelling, (interface.py      :140 ) - Received tubes:[\n",
      "\tTube(id='', d=89.0, th=5.862833610145759, th0=6.5, sigma=1293619.8614836652, mu=-67.8654192825907),]\n",
      "2021-02-05 21:03:14 INFO    : multi-lu-coil-modelling, (interface.py      :144 ) - Mesh loading ... complete\n",
      "2021-02-05 21:03:16 INFO    : multi-lu-coil-modelling, (interface.py      :114 ) - Modelling tool averaging\n",
      "2021-02-05 21:03:16 INFO    : multi-lu-coil-modelling, (interface.py      :172 ) - Done\n",
      "2021-02-05 21:03:16 INFO    : multi-lu-coil-modelling, (interface.py      :23  ) - Using cim-triangular solver\n",
      "2021-02-05 21:03:16 INFO    : multi-lu-coil-modelling, (abstractsolver.py :100 ) - Solver validation ... complete\n",
      "2021-02-05 21:03:16 INFO    : multi-lu-coil-modelling, (abstractsolver.py :93  ) - Tubes validation ... complete\n",
      "2021-02-05 21:03:16 INFO    : multi-lu-coil-modelling, (interface.py      :140 ) - Received tubes:[\n",
      "\tTube(id='', d=89.0, th=5.862833610145759, th0=6.5, sigma=1293619.8614836652, mu=-22.62180642753023),]\n",
      "2021-02-05 21:03:16 INFO    : multi-lu-coil-modelling, (interface.py      :144 ) - Mesh loading ... complete\n",
      "2021-02-05 21:03:17 INFO    : multi-lu-coil-modelling, (interface.py      :114 ) - Modelling tool averaging\n",
      "2021-02-05 21:03:17 INFO    : multi-lu-coil-modelling, (interface.py      :172 ) - Done\n",
      "2021-02-05 21:03:17 INFO    : multi-lu-coil-modelling, (interface.py      :23  ) - Using cim-triangular solver\n",
      "2021-02-05 21:03:17 INFO    : multi-lu-coil-modelling, (abstractsolver.py :100 ) - Solver validation ... complete\n",
      "2021-02-05 21:03:17 INFO    : multi-lu-coil-modelling, (abstractsolver.py :93  ) - Tubes validation ... complete\n",
      "2021-02-05 21:03:17 INFO    : multi-lu-coil-modelling, (interface.py      :140 ) - Received tubes:[\n",
      "\tTube(id='', d=89.0, th=5.862833610145759, th0=6.5, sigma=1293619.8614836652, mu=22.62180642753023),]\n",
      "2021-02-05 21:03:17 INFO    : multi-lu-coil-modelling, (interface.py      :144 ) - Mesh loading ... complete\n",
      "2021-02-05 21:03:19 INFO    : multi-lu-coil-modelling, (interface.py      :114 ) - Modelling tool averaging\n",
      "2021-02-05 21:03:19 INFO    : multi-lu-coil-modelling, (interface.py      :172 ) - Done\n",
      "2021-02-05 21:03:19 INFO    : multi-lu-coil-modelling, (interface.py      :23  ) - Using cim-triangular solver\n",
      "2021-02-05 21:03:19 INFO    : multi-lu-coil-modelling, (abstractsolver.py :100 ) - Solver validation ... complete\n",
      "2021-02-05 21:03:19 INFO    : multi-lu-coil-modelling, (abstractsolver.py :93  ) - Tubes validation ... complete\n",
      "2021-02-05 21:03:19 INFO    : multi-lu-coil-modelling, (interface.py      :140 ) - Received tubes:[\n",
      "\tTube(id='', d=89.0, th=5.862833610145759, th0=6.5, sigma=1293619.8614836652, mu=67.86541928259075),]\n",
      "2021-02-05 21:03:19 INFO    : multi-lu-coil-modelling, (interface.py      :144 ) - Mesh loading ... complete\n",
      "2021-02-05 21:03:20 INFO    : multi-lu-coil-modelling, (interface.py      :114 ) - Modelling tool averaging\n",
      "2021-02-05 21:03:20 INFO    : multi-lu-coil-modelling, (interface.py      :172 ) - Done\n",
      "2021-02-05 21:03:20 INFO    : multi-lu-coil-modelling, (interface.py      :23  ) - Using cim-triangular solver\n",
      "2021-02-05 21:03:20 INFO    : multi-lu-coil-modelling, (abstractsolver.py :100 ) - Solver validation ... complete\n",
      "2021-02-05 21:03:20 INFO    : multi-lu-coil-modelling, (abstractsolver.py :93  ) - Tubes validation ... complete\n",
      "2021-02-05 21:03:20 INFO    : multi-lu-coil-modelling, (interface.py      :140 ) - Received tubes:[\n",
      "\tTube(id='', d=89.0, th=5.862833610145759, th0=6.5, sigma=1293619.8614836652, mu=113.10903213765121),]\n",
      "2021-02-05 21:03:20 INFO    : multi-lu-coil-modelling, (interface.py      :144 ) - Mesh loading ... complete\n",
      "2021-02-05 21:03:22 INFO    : multi-lu-coil-modelling, (interface.py      :114 ) - Modelling tool averaging\n",
      "2021-02-05 21:03:22 INFO    : multi-lu-coil-modelling, (interface.py      :172 ) - Done\n",
      "2021-02-05 21:03:22 INFO    : multi-lu-coil-modelling, (interface.py      :23  ) - Using cim-triangular solver\n",
      "2021-02-05 21:03:22 INFO    : multi-lu-coil-modelling, (abstractsolver.py :100 ) - Solver validation ... complete\n",
      "2021-02-05 21:03:22 INFO    : multi-lu-coil-modelling, (abstractsolver.py :93  ) - Tubes validation ... complete\n"
     ]
    },
    {
     "name": "stderr",
     "output_type": "stream",
     "text": [
      "2021-02-05 21:03:22 INFO    : multi-lu-coil-modelling, (interface.py      :140 ) - Received tubes:[\n",
      "\tTube(id='', d=89.0, th=5.862833610145759, th0=6.5, sigma=1293619.8614836652, mu=158.35264499271167),]\n",
      "2021-02-05 21:03:22 INFO    : multi-lu-coil-modelling, (interface.py      :144 ) - Mesh loading ... complete\n",
      "2021-02-05 21:03:23 INFO    : multi-lu-coil-modelling, (interface.py      :114 ) - Modelling tool averaging\n",
      "2021-02-05 21:03:23 INFO    : multi-lu-coil-modelling, (interface.py      :172 ) - Done\n",
      "2021-02-05 21:03:23 INFO    : multi-lu-coil-modelling, (interface.py      :23  ) - Using cim-triangular solver\n",
      "2021-02-05 21:03:23 INFO    : multi-lu-coil-modelling, (abstractsolver.py :100 ) - Solver validation ... complete\n",
      "2021-02-05 21:03:23 INFO    : multi-lu-coil-modelling, (abstractsolver.py :93  ) - Tubes validation ... complete\n",
      "2021-02-05 21:03:23 INFO    : multi-lu-coil-modelling, (interface.py      :140 ) - Received tubes:[\n",
      "\tTube(id='', d=89.0, th=5.862833610145759, th0=6.5, sigma=1293619.8614836652, mu=203.59625784777214),]\n",
      "2021-02-05 21:03:23 INFO    : multi-lu-coil-modelling, (interface.py      :144 ) - Mesh loading ... complete\n",
      "2021-02-05 21:03:25 INFO    : multi-lu-coil-modelling, (interface.py      :114 ) - Modelling tool averaging\n",
      "2021-02-05 21:03:25 INFO    : multi-lu-coil-modelling, (interface.py      :172 ) - Done\n",
      "2021-02-05 21:03:25 INFO    : multi-lu-coil-modelling, (interface.py      :23  ) - Using cim-triangular solver\n",
      "2021-02-05 21:03:25 INFO    : multi-lu-coil-modelling, (abstractsolver.py :100 ) - Solver validation ... complete\n",
      "2021-02-05 21:03:25 INFO    : multi-lu-coil-modelling, (abstractsolver.py :93  ) - Tubes validation ... complete\n",
      "2021-02-05 21:03:25 INFO    : multi-lu-coil-modelling, (interface.py      :140 ) - Received tubes:[\n",
      "\tTube(id='', d=89.0, th=5.862833610145759, th0=6.5, sigma=3880859.5844509993, mu=-203.59625784777214),]\n",
      "2021-02-05 21:03:25 INFO    : multi-lu-coil-modelling, (interface.py      :144 ) - Mesh loading ... complete\n",
      "2021-02-05 21:03:27 INFO    : multi-lu-coil-modelling, (interface.py      :114 ) - Modelling tool averaging\n",
      "2021-02-05 21:03:27 INFO    : multi-lu-coil-modelling, (interface.py      :172 ) - Done\n",
      "2021-02-05 21:03:27 INFO    : multi-lu-coil-modelling, (interface.py      :23  ) - Using cim-triangular solver\n",
      "2021-02-05 21:03:27 INFO    : multi-lu-coil-modelling, (abstractsolver.py :100 ) - Solver validation ... complete\n",
      "2021-02-05 21:03:27 INFO    : multi-lu-coil-modelling, (abstractsolver.py :93  ) - Tubes validation ... complete\n",
      "2021-02-05 21:03:27 INFO    : multi-lu-coil-modelling, (interface.py      :140 ) - Received tubes:[\n",
      "\tTube(id='', d=89.0, th=5.862833610145759, th0=6.5, sigma=3880859.5844509993, mu=-158.35264499271165),]\n",
      "2021-02-05 21:03:27 INFO    : multi-lu-coil-modelling, (interface.py      :144 ) - Mesh loading ... complete\n",
      "2021-02-05 21:03:29 INFO    : multi-lu-coil-modelling, (interface.py      :114 ) - Modelling tool averaging\n",
      "2021-02-05 21:03:29 INFO    : multi-lu-coil-modelling, (interface.py      :172 ) - Done\n",
      "2021-02-05 21:03:29 INFO    : multi-lu-coil-modelling, (interface.py      :23  ) - Using cim-triangular solver\n",
      "2021-02-05 21:03:29 INFO    : multi-lu-coil-modelling, (abstractsolver.py :100 ) - Solver validation ... complete\n",
      "2021-02-05 21:03:29 INFO    : multi-lu-coil-modelling, (abstractsolver.py :93  ) - Tubes validation ... complete\n",
      "2021-02-05 21:03:29 INFO    : multi-lu-coil-modelling, (interface.py      :140 ) - Received tubes:[\n",
      "\tTube(id='', d=89.0, th=5.862833610145759, th0=6.5, sigma=3880859.5844509993, mu=-113.10903213765118),]\n",
      "2021-02-05 21:03:29 INFO    : multi-lu-coil-modelling, (interface.py      :144 ) - Mesh loading ... complete\n",
      "2021-02-05 21:03:30 INFO    : multi-lu-coil-modelling, (interface.py      :114 ) - Modelling tool averaging\n",
      "2021-02-05 21:03:30 INFO    : multi-lu-coil-modelling, (interface.py      :172 ) - Done\n",
      "2021-02-05 21:03:30 INFO    : multi-lu-coil-modelling, (interface.py      :23  ) - Using cim-triangular solver\n",
      "2021-02-05 21:03:30 INFO    : multi-lu-coil-modelling, (abstractsolver.py :100 ) - Solver validation ... complete\n",
      "2021-02-05 21:03:30 INFO    : multi-lu-coil-modelling, (abstractsolver.py :93  ) - Tubes validation ... complete\n",
      "2021-02-05 21:03:30 INFO    : multi-lu-coil-modelling, (interface.py      :140 ) - Received tubes:[\n",
      "\tTube(id='', d=89.0, th=5.862833610145759, th0=6.5, sigma=3880859.5844509993, mu=-67.8654192825907),]\n",
      "2021-02-05 21:03:30 INFO    : multi-lu-coil-modelling, (interface.py      :144 ) - Mesh loading ... complete\n",
      "2021-02-05 21:03:32 INFO    : multi-lu-coil-modelling, (interface.py      :114 ) - Modelling tool averaging\n",
      "2021-02-05 21:03:32 INFO    : multi-lu-coil-modelling, (interface.py      :172 ) - Done\n",
      "2021-02-05 21:03:32 INFO    : multi-lu-coil-modelling, (interface.py      :23  ) - Using cim-triangular solver\n",
      "2021-02-05 21:03:32 INFO    : multi-lu-coil-modelling, (abstractsolver.py :100 ) - Solver validation ... complete\n",
      "2021-02-05 21:03:32 INFO    : multi-lu-coil-modelling, (abstractsolver.py :93  ) - Tubes validation ... complete\n",
      "2021-02-05 21:03:32 INFO    : multi-lu-coil-modelling, (interface.py      :140 ) - Received tubes:[\n",
      "\tTube(id='', d=89.0, th=5.862833610145759, th0=6.5, sigma=3880859.5844509993, mu=-22.62180642753023),]\n",
      "2021-02-05 21:03:32 INFO    : multi-lu-coil-modelling, (interface.py      :144 ) - Mesh loading ... complete\n",
      "2021-02-05 21:03:33 INFO    : multi-lu-coil-modelling, (interface.py      :114 ) - Modelling tool averaging\n",
      "2021-02-05 21:03:33 INFO    : multi-lu-coil-modelling, (interface.py      :172 ) - Done\n",
      "2021-02-05 21:03:33 INFO    : multi-lu-coil-modelling, (interface.py      :23  ) - Using cim-triangular solver\n",
      "2021-02-05 21:03:33 INFO    : multi-lu-coil-modelling, (abstractsolver.py :100 ) - Solver validation ... complete\n",
      "2021-02-05 21:03:33 INFO    : multi-lu-coil-modelling, (abstractsolver.py :93  ) - Tubes validation ... complete\n",
      "2021-02-05 21:03:33 INFO    : multi-lu-coil-modelling, (interface.py      :140 ) - Received tubes:[\n",
      "\tTube(id='', d=89.0, th=5.862833610145759, th0=6.5, sigma=3880859.5844509993, mu=22.62180642753023),]\n",
      "2021-02-05 21:03:33 INFO    : multi-lu-coil-modelling, (interface.py      :144 ) - Mesh loading ... complete\n",
      "2021-02-05 21:03:35 INFO    : multi-lu-coil-modelling, (interface.py      :114 ) - Modelling tool averaging\n",
      "2021-02-05 21:03:35 INFO    : multi-lu-coil-modelling, (interface.py      :172 ) - Done\n",
      "2021-02-05 21:03:35 INFO    : multi-lu-coil-modelling, (interface.py      :23  ) - Using cim-triangular solver\n",
      "2021-02-05 21:03:35 INFO    : multi-lu-coil-modelling, (abstractsolver.py :100 ) - Solver validation ... complete\n",
      "2021-02-05 21:03:35 INFO    : multi-lu-coil-modelling, (abstractsolver.py :93  ) - Tubes validation ... complete\n",
      "2021-02-05 21:03:35 INFO    : multi-lu-coil-modelling, (interface.py      :140 ) - Received tubes:[\n",
      "\tTube(id='', d=89.0, th=5.862833610145759, th0=6.5, sigma=3880859.5844509993, mu=67.86541928259075),]\n",
      "2021-02-05 21:03:35 INFO    : multi-lu-coil-modelling, (interface.py      :144 ) - Mesh loading ... complete\n",
      "2021-02-05 21:03:37 INFO    : multi-lu-coil-modelling, (interface.py      :114 ) - Modelling tool averaging\n",
      "2021-02-05 21:03:37 INFO    : multi-lu-coil-modelling, (interface.py      :172 ) - Done\n",
      "2021-02-05 21:03:37 INFO    : multi-lu-coil-modelling, (interface.py      :23  ) - Using cim-triangular solver\n",
      "2021-02-05 21:03:37 INFO    : multi-lu-coil-modelling, (abstractsolver.py :100 ) - Solver validation ... complete\n",
      "2021-02-05 21:03:37 INFO    : multi-lu-coil-modelling, (abstractsolver.py :93  ) - Tubes validation ... complete\n",
      "2021-02-05 21:03:37 INFO    : multi-lu-coil-modelling, (interface.py      :140 ) - Received tubes:[\n",
      "\tTube(id='', d=89.0, th=5.862833610145759, th0=6.5, sigma=3880859.5844509993, mu=113.10903213765121),]\n",
      "2021-02-05 21:03:37 INFO    : multi-lu-coil-modelling, (interface.py      :144 ) - Mesh loading ... complete\n",
      "2021-02-05 21:03:38 INFO    : multi-lu-coil-modelling, (interface.py      :114 ) - Modelling tool averaging\n",
      "2021-02-05 21:03:38 INFO    : multi-lu-coil-modelling, (interface.py      :172 ) - Done\n",
      "2021-02-05 21:03:38 INFO    : multi-lu-coil-modelling, (interface.py      :23  ) - Using cim-triangular solver\n"
     ]
    },
    {
     "name": "stderr",
     "output_type": "stream",
     "text": [
      "2021-02-05 21:03:38 INFO    : multi-lu-coil-modelling, (abstractsolver.py :100 ) - Solver validation ... complete\n",
      "2021-02-05 21:03:38 INFO    : multi-lu-coil-modelling, (abstractsolver.py :93  ) - Tubes validation ... complete\n",
      "2021-02-05 21:03:38 INFO    : multi-lu-coil-modelling, (interface.py      :140 ) - Received tubes:[\n",
      "\tTube(id='', d=89.0, th=5.862833610145759, th0=6.5, sigma=3880859.5844509993, mu=158.35264499271167),]\n",
      "2021-02-05 21:03:38 INFO    : multi-lu-coil-modelling, (interface.py      :144 ) - Mesh loading ... complete\n",
      "2021-02-05 21:03:40 INFO    : multi-lu-coil-modelling, (interface.py      :114 ) - Modelling tool averaging\n",
      "2021-02-05 21:03:40 INFO    : multi-lu-coil-modelling, (interface.py      :172 ) - Done\n",
      "2021-02-05 21:03:40 INFO    : multi-lu-coil-modelling, (interface.py      :23  ) - Using cim-triangular solver\n",
      "2021-02-05 21:03:40 INFO    : multi-lu-coil-modelling, (abstractsolver.py :100 ) - Solver validation ... complete\n",
      "2021-02-05 21:03:40 INFO    : multi-lu-coil-modelling, (abstractsolver.py :93  ) - Tubes validation ... complete\n",
      "2021-02-05 21:03:40 INFO    : multi-lu-coil-modelling, (interface.py      :140 ) - Received tubes:[\n",
      "\tTube(id='', d=89.0, th=5.862833610145759, th0=6.5, sigma=3880859.5844509993, mu=203.59625784777214),]\n",
      "2021-02-05 21:03:40 INFO    : multi-lu-coil-modelling, (interface.py      :144 ) - Mesh loading ... complete\n",
      "2021-02-05 21:03:41 INFO    : multi-lu-coil-modelling, (interface.py      :114 ) - Modelling tool averaging\n",
      "2021-02-05 21:03:41 INFO    : multi-lu-coil-modelling, (interface.py      :172 ) - Done\n",
      "2021-02-05 21:03:41 INFO    : multi-lu-coil-modelling, (interface.py      :23  ) - Using cim-triangular solver\n",
      "2021-02-05 21:03:41 INFO    : multi-lu-coil-modelling, (abstractsolver.py :100 ) - Solver validation ... complete\n",
      "2021-02-05 21:03:41 INFO    : multi-lu-coil-modelling, (abstractsolver.py :93  ) - Tubes validation ... complete\n",
      "2021-02-05 21:03:41 INFO    : multi-lu-coil-modelling, (interface.py      :140 ) - Received tubes:[\n",
      "\tTube(id='', d=89.0, th=5.862833610145759, th0=6.5, sigma=6468099.30741833, mu=-203.59625784777214),]\n",
      "2021-02-05 21:03:41 INFO    : multi-lu-coil-modelling, (interface.py      :144 ) - Mesh loading ... complete\n",
      "2021-02-05 21:03:43 INFO    : multi-lu-coil-modelling, (interface.py      :114 ) - Modelling tool averaging\n",
      "2021-02-05 21:03:43 INFO    : multi-lu-coil-modelling, (interface.py      :172 ) - Done\n",
      "2021-02-05 21:03:43 INFO    : multi-lu-coil-modelling, (interface.py      :23  ) - Using cim-triangular solver\n",
      "2021-02-05 21:03:43 INFO    : multi-lu-coil-modelling, (abstractsolver.py :100 ) - Solver validation ... complete\n",
      "2021-02-05 21:03:43 INFO    : multi-lu-coil-modelling, (abstractsolver.py :93  ) - Tubes validation ... complete\n",
      "2021-02-05 21:03:43 INFO    : multi-lu-coil-modelling, (interface.py      :140 ) - Received tubes:[\n",
      "\tTube(id='', d=89.0, th=5.862833610145759, th0=6.5, sigma=6468099.30741833, mu=-158.35264499271165),]\n",
      "2021-02-05 21:03:43 INFO    : multi-lu-coil-modelling, (interface.py      :144 ) - Mesh loading ... complete\n",
      "2021-02-05 21:03:45 INFO    : multi-lu-coil-modelling, (interface.py      :114 ) - Modelling tool averaging\n",
      "2021-02-05 21:03:45 INFO    : multi-lu-coil-modelling, (interface.py      :172 ) - Done\n",
      "2021-02-05 21:03:45 INFO    : multi-lu-coil-modelling, (interface.py      :23  ) - Using cim-triangular solver\n",
      "2021-02-05 21:03:45 INFO    : multi-lu-coil-modelling, (abstractsolver.py :100 ) - Solver validation ... complete\n",
      "2021-02-05 21:03:45 INFO    : multi-lu-coil-modelling, (abstractsolver.py :93  ) - Tubes validation ... complete\n",
      "2021-02-05 21:03:45 INFO    : multi-lu-coil-modelling, (interface.py      :140 ) - Received tubes:[\n",
      "\tTube(id='', d=89.0, th=5.862833610145759, th0=6.5, sigma=6468099.30741833, mu=-113.10903213765118),]\n",
      "2021-02-05 21:03:45 INFO    : multi-lu-coil-modelling, (interface.py      :144 ) - Mesh loading ... complete\n",
      "2021-02-05 21:03:46 INFO    : multi-lu-coil-modelling, (interface.py      :114 ) - Modelling tool averaging\n",
      "2021-02-05 21:03:46 INFO    : multi-lu-coil-modelling, (interface.py      :172 ) - Done\n",
      "2021-02-05 21:03:46 INFO    : multi-lu-coil-modelling, (interface.py      :23  ) - Using cim-triangular solver\n",
      "2021-02-05 21:03:46 INFO    : multi-lu-coil-modelling, (abstractsolver.py :100 ) - Solver validation ... complete\n",
      "2021-02-05 21:03:46 INFO    : multi-lu-coil-modelling, (abstractsolver.py :93  ) - Tubes validation ... complete\n",
      "2021-02-05 21:03:46 INFO    : multi-lu-coil-modelling, (interface.py      :140 ) - Received tubes:[\n",
      "\tTube(id='', d=89.0, th=5.862833610145759, th0=6.5, sigma=6468099.30741833, mu=-67.8654192825907),]\n",
      "2021-02-05 21:03:46 INFO    : multi-lu-coil-modelling, (interface.py      :144 ) - Mesh loading ... complete\n",
      "2021-02-05 21:03:48 INFO    : multi-lu-coil-modelling, (interface.py      :114 ) - Modelling tool averaging\n",
      "2021-02-05 21:03:48 INFO    : multi-lu-coil-modelling, (interface.py      :172 ) - Done\n",
      "2021-02-05 21:03:48 INFO    : multi-lu-coil-modelling, (interface.py      :23  ) - Using cim-triangular solver\n",
      "2021-02-05 21:03:48 INFO    : multi-lu-coil-modelling, (abstractsolver.py :100 ) - Solver validation ... complete\n",
      "2021-02-05 21:03:48 INFO    : multi-lu-coil-modelling, (abstractsolver.py :93  ) - Tubes validation ... complete\n",
      "2021-02-05 21:03:48 INFO    : multi-lu-coil-modelling, (interface.py      :140 ) - Received tubes:[\n",
      "\tTube(id='', d=89.0, th=5.862833610145759, th0=6.5, sigma=6468099.30741833, mu=-22.62180642753023),]\n",
      "2021-02-05 21:03:48 INFO    : multi-lu-coil-modelling, (interface.py      :144 ) - Mesh loading ... complete\n",
      "2021-02-05 21:03:50 INFO    : multi-lu-coil-modelling, (interface.py      :114 ) - Modelling tool averaging\n",
      "2021-02-05 21:03:50 INFO    : multi-lu-coil-modelling, (interface.py      :172 ) - Done\n",
      "2021-02-05 21:03:50 INFO    : multi-lu-coil-modelling, (interface.py      :23  ) - Using cim-triangular solver\n",
      "2021-02-05 21:03:50 INFO    : multi-lu-coil-modelling, (abstractsolver.py :100 ) - Solver validation ... complete\n",
      "2021-02-05 21:03:50 INFO    : multi-lu-coil-modelling, (abstractsolver.py :93  ) - Tubes validation ... complete\n",
      "2021-02-05 21:03:50 INFO    : multi-lu-coil-modelling, (interface.py      :140 ) - Received tubes:[\n",
      "\tTube(id='', d=89.0, th=5.862833610145759, th0=6.5, sigma=6468099.30741833, mu=22.62180642753023),]\n",
      "2021-02-05 21:03:50 INFO    : multi-lu-coil-modelling, (interface.py      :144 ) - Mesh loading ... complete\n",
      "2021-02-05 21:03:51 INFO    : multi-lu-coil-modelling, (interface.py      :114 ) - Modelling tool averaging\n",
      "2021-02-05 21:03:51 INFO    : multi-lu-coil-modelling, (interface.py      :172 ) - Done\n",
      "2021-02-05 21:03:51 INFO    : multi-lu-coil-modelling, (interface.py      :23  ) - Using cim-triangular solver\n",
      "2021-02-05 21:03:51 INFO    : multi-lu-coil-modelling, (abstractsolver.py :100 ) - Solver validation ... complete\n",
      "2021-02-05 21:03:51 INFO    : multi-lu-coil-modelling, (abstractsolver.py :93  ) - Tubes validation ... complete\n",
      "2021-02-05 21:03:51 INFO    : multi-lu-coil-modelling, (interface.py      :140 ) - Received tubes:[\n",
      "\tTube(id='', d=89.0, th=5.862833610145759, th0=6.5, sigma=6468099.30741833, mu=67.86541928259075),]\n",
      "2021-02-05 21:03:51 INFO    : multi-lu-coil-modelling, (interface.py      :144 ) - Mesh loading ... complete\n",
      "2021-02-05 21:03:53 INFO    : multi-lu-coil-modelling, (interface.py      :114 ) - Modelling tool averaging\n",
      "2021-02-05 21:03:53 INFO    : multi-lu-coil-modelling, (interface.py      :172 ) - Done\n",
      "2021-02-05 21:03:53 INFO    : multi-lu-coil-modelling, (interface.py      :23  ) - Using cim-triangular solver\n",
      "2021-02-05 21:03:53 INFO    : multi-lu-coil-modelling, (abstractsolver.py :100 ) - Solver validation ... complete\n",
      "2021-02-05 21:03:53 INFO    : multi-lu-coil-modelling, (abstractsolver.py :93  ) - Tubes validation ... complete\n",
      "2021-02-05 21:03:53 INFO    : multi-lu-coil-modelling, (interface.py      :140 ) - Received tubes:[\n",
      "\tTube(id='', d=89.0, th=5.862833610145759, th0=6.5, sigma=6468099.30741833, mu=113.10903213765121),]\n",
      "2021-02-05 21:03:53 INFO    : multi-lu-coil-modelling, (interface.py      :144 ) - Mesh loading ... complete\n",
      "2021-02-05 21:03:54 INFO    : multi-lu-coil-modelling, (interface.py      :114 ) - Modelling tool averaging\n"
     ]
    },
    {
     "name": "stderr",
     "output_type": "stream",
     "text": [
      "2021-02-05 21:03:54 INFO    : multi-lu-coil-modelling, (interface.py      :172 ) - Done\n",
      "2021-02-05 21:03:54 INFO    : multi-lu-coil-modelling, (interface.py      :23  ) - Using cim-triangular solver\n",
      "2021-02-05 21:03:54 INFO    : multi-lu-coil-modelling, (abstractsolver.py :100 ) - Solver validation ... complete\n",
      "2021-02-05 21:03:54 INFO    : multi-lu-coil-modelling, (abstractsolver.py :93  ) - Tubes validation ... complete\n",
      "2021-02-05 21:03:54 INFO    : multi-lu-coil-modelling, (interface.py      :140 ) - Received tubes:[\n",
      "\tTube(id='', d=89.0, th=5.862833610145759, th0=6.5, sigma=6468099.30741833, mu=158.35264499271167),]\n",
      "2021-02-05 21:03:54 INFO    : multi-lu-coil-modelling, (interface.py      :144 ) - Mesh loading ... complete\n",
      "2021-02-05 21:03:56 INFO    : multi-lu-coil-modelling, (interface.py      :114 ) - Modelling tool averaging\n",
      "2021-02-05 21:03:56 INFO    : multi-lu-coil-modelling, (interface.py      :172 ) - Done\n",
      "2021-02-05 21:03:56 INFO    : multi-lu-coil-modelling, (interface.py      :23  ) - Using cim-triangular solver\n",
      "2021-02-05 21:03:56 INFO    : multi-lu-coil-modelling, (abstractsolver.py :100 ) - Solver validation ... complete\n",
      "2021-02-05 21:03:56 INFO    : multi-lu-coil-modelling, (abstractsolver.py :93  ) - Tubes validation ... complete\n",
      "2021-02-05 21:03:56 INFO    : multi-lu-coil-modelling, (interface.py      :140 ) - Received tubes:[\n",
      "\tTube(id='', d=89.0, th=5.862833610145759, th0=6.5, sigma=6468099.30741833, mu=203.59625784777214),]\n",
      "2021-02-05 21:03:56 INFO    : multi-lu-coil-modelling, (interface.py      :144 ) - Mesh loading ... complete\n",
      "2021-02-05 21:03:57 INFO    : multi-lu-coil-modelling, (interface.py      :114 ) - Modelling tool averaging\n",
      "2021-02-05 21:03:57 INFO    : multi-lu-coil-modelling, (interface.py      :172 ) - Done\n",
      "2021-02-05 21:03:57 INFO    : multi-lu-coil-modelling, (interface.py      :23  ) - Using cim-triangular solver\n",
      "2021-02-05 21:03:57 INFO    : multi-lu-coil-modelling, (abstractsolver.py :100 ) - Solver validation ... complete\n",
      "2021-02-05 21:03:57 INFO    : multi-lu-coil-modelling, (abstractsolver.py :93  ) - Tubes validation ... complete\n",
      "2021-02-05 21:03:57 INFO    : multi-lu-coil-modelling, (interface.py      :140 ) - Received tubes:[\n",
      "\tTube(id='', d=89.0, th=5.862833610145759, th0=6.5, sigma=9055339.030385664, mu=-203.59625784777214),]\n",
      "2021-02-05 21:03:57 INFO    : multi-lu-coil-modelling, (interface.py      :144 ) - Mesh loading ... complete\n",
      "2021-02-05 21:03:59 INFO    : multi-lu-coil-modelling, (interface.py      :114 ) - Modelling tool averaging\n",
      "2021-02-05 21:03:59 INFO    : multi-lu-coil-modelling, (interface.py      :172 ) - Done\n",
      "2021-02-05 21:03:59 INFO    : multi-lu-coil-modelling, (interface.py      :23  ) - Using cim-triangular solver\n",
      "2021-02-05 21:03:59 INFO    : multi-lu-coil-modelling, (abstractsolver.py :100 ) - Solver validation ... complete\n",
      "2021-02-05 21:03:59 INFO    : multi-lu-coil-modelling, (abstractsolver.py :93  ) - Tubes validation ... complete\n",
      "2021-02-05 21:03:59 INFO    : multi-lu-coil-modelling, (interface.py      :140 ) - Received tubes:[\n",
      "\tTube(id='', d=89.0, th=5.862833610145759, th0=6.5, sigma=9055339.030385664, mu=-158.35264499271165),]\n",
      "2021-02-05 21:03:59 INFO    : multi-lu-coil-modelling, (interface.py      :144 ) - Mesh loading ... complete\n",
      "2021-02-05 21:04:00 INFO    : multi-lu-coil-modelling, (interface.py      :114 ) - Modelling tool averaging\n",
      "2021-02-05 21:04:00 INFO    : multi-lu-coil-modelling, (interface.py      :172 ) - Done\n",
      "2021-02-05 21:04:00 INFO    : multi-lu-coil-modelling, (interface.py      :23  ) - Using cim-triangular solver\n",
      "2021-02-05 21:04:00 INFO    : multi-lu-coil-modelling, (abstractsolver.py :100 ) - Solver validation ... complete\n",
      "2021-02-05 21:04:00 INFO    : multi-lu-coil-modelling, (abstractsolver.py :93  ) - Tubes validation ... complete\n",
      "2021-02-05 21:04:00 INFO    : multi-lu-coil-modelling, (interface.py      :140 ) - Received tubes:[\n",
      "\tTube(id='', d=89.0, th=5.862833610145759, th0=6.5, sigma=9055339.030385664, mu=-113.10903213765118),]\n",
      "2021-02-05 21:04:00 INFO    : multi-lu-coil-modelling, (interface.py      :144 ) - Mesh loading ... complete\n",
      "2021-02-05 21:04:02 INFO    : multi-lu-coil-modelling, (interface.py      :114 ) - Modelling tool averaging\n",
      "2021-02-05 21:04:02 INFO    : multi-lu-coil-modelling, (interface.py      :172 ) - Done\n",
      "2021-02-05 21:04:02 INFO    : multi-lu-coil-modelling, (interface.py      :23  ) - Using cim-triangular solver\n",
      "2021-02-05 21:04:02 INFO    : multi-lu-coil-modelling, (abstractsolver.py :100 ) - Solver validation ... complete\n",
      "2021-02-05 21:04:02 INFO    : multi-lu-coil-modelling, (abstractsolver.py :93  ) - Tubes validation ... complete\n",
      "2021-02-05 21:04:02 INFO    : multi-lu-coil-modelling, (interface.py      :140 ) - Received tubes:[\n",
      "\tTube(id='', d=89.0, th=5.862833610145759, th0=6.5, sigma=9055339.030385664, mu=-67.8654192825907),]\n",
      "2021-02-05 21:04:02 INFO    : multi-lu-coil-modelling, (interface.py      :144 ) - Mesh loading ... complete\n",
      "2021-02-05 21:04:03 INFO    : multi-lu-coil-modelling, (interface.py      :114 ) - Modelling tool averaging\n",
      "2021-02-05 21:04:03 INFO    : multi-lu-coil-modelling, (interface.py      :172 ) - Done\n",
      "2021-02-05 21:04:03 INFO    : multi-lu-coil-modelling, (interface.py      :23  ) - Using cim-triangular solver\n",
      "2021-02-05 21:04:03 INFO    : multi-lu-coil-modelling, (abstractsolver.py :100 ) - Solver validation ... complete\n",
      "2021-02-05 21:04:03 INFO    : multi-lu-coil-modelling, (abstractsolver.py :93  ) - Tubes validation ... complete\n",
      "2021-02-05 21:04:03 INFO    : multi-lu-coil-modelling, (interface.py      :140 ) - Received tubes:[\n",
      "\tTube(id='', d=89.0, th=5.862833610145759, th0=6.5, sigma=9055339.030385664, mu=-22.62180642753023),]\n",
      "2021-02-05 21:04:03 INFO    : multi-lu-coil-modelling, (interface.py      :144 ) - Mesh loading ... complete\n",
      "2021-02-05 21:04:05 INFO    : multi-lu-coil-modelling, (interface.py      :114 ) - Modelling tool averaging\n",
      "2021-02-05 21:04:05 INFO    : multi-lu-coil-modelling, (interface.py      :172 ) - Done\n",
      "2021-02-05 21:04:05 INFO    : multi-lu-coil-modelling, (interface.py      :23  ) - Using cim-triangular solver\n",
      "2021-02-05 21:04:05 INFO    : multi-lu-coil-modelling, (abstractsolver.py :100 ) - Solver validation ... complete\n",
      "2021-02-05 21:04:05 INFO    : multi-lu-coil-modelling, (abstractsolver.py :93  ) - Tubes validation ... complete\n",
      "2021-02-05 21:04:05 INFO    : multi-lu-coil-modelling, (interface.py      :140 ) - Received tubes:[\n",
      "\tTube(id='', d=89.0, th=5.862833610145759, th0=6.5, sigma=9055339.030385664, mu=22.62180642753023),]\n",
      "2021-02-05 21:04:05 INFO    : multi-lu-coil-modelling, (interface.py      :144 ) - Mesh loading ... complete\n",
      "2021-02-05 21:04:06 INFO    : multi-lu-coil-modelling, (interface.py      :114 ) - Modelling tool averaging\n",
      "2021-02-05 21:04:06 INFO    : multi-lu-coil-modelling, (interface.py      :172 ) - Done\n",
      "2021-02-05 21:04:06 INFO    : multi-lu-coil-modelling, (interface.py      :23  ) - Using cim-triangular solver\n",
      "2021-02-05 21:04:06 INFO    : multi-lu-coil-modelling, (abstractsolver.py :100 ) - Solver validation ... complete\n",
      "2021-02-05 21:04:06 INFO    : multi-lu-coil-modelling, (abstractsolver.py :93  ) - Tubes validation ... complete\n",
      "2021-02-05 21:04:06 INFO    : multi-lu-coil-modelling, (interface.py      :140 ) - Received tubes:[\n",
      "\tTube(id='', d=89.0, th=5.862833610145759, th0=6.5, sigma=9055339.030385664, mu=67.86541928259075),]\n",
      "2021-02-05 21:04:06 INFO    : multi-lu-coil-modelling, (interface.py      :144 ) - Mesh loading ... complete\n",
      "2021-02-05 21:04:08 INFO    : multi-lu-coil-modelling, (interface.py      :114 ) - Modelling tool averaging\n",
      "2021-02-05 21:04:08 INFO    : multi-lu-coil-modelling, (interface.py      :172 ) - Done\n",
      "2021-02-05 21:04:08 INFO    : multi-lu-coil-modelling, (interface.py      :23  ) - Using cim-triangular solver\n",
      "2021-02-05 21:04:08 INFO    : multi-lu-coil-modelling, (abstractsolver.py :100 ) - Solver validation ... complete\n",
      "2021-02-05 21:04:08 INFO    : multi-lu-coil-modelling, (abstractsolver.py :93  ) - Tubes validation ... complete\n",
      "2021-02-05 21:04:08 INFO    : multi-lu-coil-modelling, (interface.py      :140 ) - Received tubes:[\n",
      "\tTube(id='', d=89.0, th=5.862833610145759, th0=6.5, sigma=9055339.030385664, mu=113.10903213765121),]\n"
     ]
    },
    {
     "name": "stderr",
     "output_type": "stream",
     "text": [
      "2021-02-05 21:04:08 INFO    : multi-lu-coil-modelling, (interface.py      :144 ) - Mesh loading ... complete\n",
      "2021-02-05 21:04:09 INFO    : multi-lu-coil-modelling, (interface.py      :114 ) - Modelling tool averaging\n",
      "2021-02-05 21:04:09 INFO    : multi-lu-coil-modelling, (interface.py      :172 ) - Done\n",
      "2021-02-05 21:04:09 INFO    : multi-lu-coil-modelling, (interface.py      :23  ) - Using cim-triangular solver\n",
      "2021-02-05 21:04:09 INFO    : multi-lu-coil-modelling, (abstractsolver.py :100 ) - Solver validation ... complete\n",
      "2021-02-05 21:04:09 INFO    : multi-lu-coil-modelling, (abstractsolver.py :93  ) - Tubes validation ... complete\n",
      "2021-02-05 21:04:09 INFO    : multi-lu-coil-modelling, (interface.py      :140 ) - Received tubes:[\n",
      "\tTube(id='', d=89.0, th=5.862833610145759, th0=6.5, sigma=9055339.030385664, mu=158.35264499271167),]\n",
      "2021-02-05 21:04:09 INFO    : multi-lu-coil-modelling, (interface.py      :144 ) - Mesh loading ... complete\n",
      "2021-02-05 21:04:11 INFO    : multi-lu-coil-modelling, (interface.py      :114 ) - Modelling tool averaging\n",
      "2021-02-05 21:04:11 INFO    : multi-lu-coil-modelling, (interface.py      :172 ) - Done\n",
      "2021-02-05 21:04:11 INFO    : multi-lu-coil-modelling, (interface.py      :23  ) - Using cim-triangular solver\n",
      "2021-02-05 21:04:11 INFO    : multi-lu-coil-modelling, (abstractsolver.py :100 ) - Solver validation ... complete\n",
      "2021-02-05 21:04:11 INFO    : multi-lu-coil-modelling, (abstractsolver.py :93  ) - Tubes validation ... complete\n",
      "2021-02-05 21:04:11 INFO    : multi-lu-coil-modelling, (interface.py      :140 ) - Received tubes:[\n",
      "\tTube(id='', d=89.0, th=5.862833610145759, th0=6.5, sigma=9055339.030385664, mu=203.59625784777214),]\n",
      "2021-02-05 21:04:11 INFO    : multi-lu-coil-modelling, (interface.py      :144 ) - Mesh loading ... complete\n",
      "2021-02-05 21:04:12 INFO    : multi-lu-coil-modelling, (interface.py      :114 ) - Modelling tool averaging\n",
      "2021-02-05 21:04:12 INFO    : multi-lu-coil-modelling, (interface.py      :172 ) - Done\n",
      "2021-02-05 21:04:12 INFO    : multi-lu-coil-modelling, (interface.py      :23  ) - Using cim-triangular solver\n",
      "2021-02-05 21:04:12 INFO    : multi-lu-coil-modelling, (abstractsolver.py :100 ) - Solver validation ... complete\n",
      "2021-02-05 21:04:12 INFO    : multi-lu-coil-modelling, (abstractsolver.py :93  ) - Tubes validation ... complete\n",
      "2021-02-05 21:04:12 INFO    : multi-lu-coil-modelling, (interface.py      :140 ) - Received tubes:[\n",
      "\tTube(id='', d=89.0, th=5.862833610145759, th0=6.5, sigma=11642578.753352998, mu=-203.59625784777214),]\n",
      "2021-02-05 21:04:12 INFO    : multi-lu-coil-modelling, (interface.py      :144 ) - Mesh loading ... complete\n",
      "2021-02-05 21:04:14 INFO    : multi-lu-coil-modelling, (interface.py      :114 ) - Modelling tool averaging\n",
      "2021-02-05 21:04:14 INFO    : multi-lu-coil-modelling, (interface.py      :172 ) - Done\n",
      "2021-02-05 21:04:14 INFO    : multi-lu-coil-modelling, (interface.py      :23  ) - Using cim-triangular solver\n",
      "2021-02-05 21:04:14 INFO    : multi-lu-coil-modelling, (abstractsolver.py :100 ) - Solver validation ... complete\n",
      "2021-02-05 21:04:14 INFO    : multi-lu-coil-modelling, (abstractsolver.py :93  ) - Tubes validation ... complete\n",
      "2021-02-05 21:04:14 INFO    : multi-lu-coil-modelling, (interface.py      :140 ) - Received tubes:[\n",
      "\tTube(id='', d=89.0, th=5.862833610145759, th0=6.5, sigma=11642578.753352998, mu=-158.35264499271165),]\n",
      "2021-02-05 21:04:14 INFO    : multi-lu-coil-modelling, (interface.py      :144 ) - Mesh loading ... complete\n",
      "2021-02-05 21:04:15 INFO    : multi-lu-coil-modelling, (interface.py      :114 ) - Modelling tool averaging\n",
      "2021-02-05 21:04:15 INFO    : multi-lu-coil-modelling, (interface.py      :172 ) - Done\n",
      "2021-02-05 21:04:15 INFO    : multi-lu-coil-modelling, (interface.py      :23  ) - Using cim-triangular solver\n",
      "2021-02-05 21:04:15 INFO    : multi-lu-coil-modelling, (abstractsolver.py :100 ) - Solver validation ... complete\n",
      "2021-02-05 21:04:15 INFO    : multi-lu-coil-modelling, (abstractsolver.py :93  ) - Tubes validation ... complete\n",
      "2021-02-05 21:04:15 INFO    : multi-lu-coil-modelling, (interface.py      :140 ) - Received tubes:[\n",
      "\tTube(id='', d=89.0, th=5.862833610145759, th0=6.5, sigma=11642578.753352998, mu=-113.10903213765118),]\n",
      "2021-02-05 21:04:15 INFO    : multi-lu-coil-modelling, (interface.py      :144 ) - Mesh loading ... complete\n",
      "2021-02-05 21:04:17 INFO    : multi-lu-coil-modelling, (interface.py      :114 ) - Modelling tool averaging\n",
      "2021-02-05 21:04:17 INFO    : multi-lu-coil-modelling, (interface.py      :172 ) - Done\n",
      "2021-02-05 21:04:17 INFO    : multi-lu-coil-modelling, (interface.py      :23  ) - Using cim-triangular solver\n",
      "2021-02-05 21:04:17 INFO    : multi-lu-coil-modelling, (abstractsolver.py :100 ) - Solver validation ... complete\n",
      "2021-02-05 21:04:17 INFO    : multi-lu-coil-modelling, (abstractsolver.py :93  ) - Tubes validation ... complete\n",
      "2021-02-05 21:04:17 INFO    : multi-lu-coil-modelling, (interface.py      :140 ) - Received tubes:[\n",
      "\tTube(id='', d=89.0, th=5.862833610145759, th0=6.5, sigma=11642578.753352998, mu=-67.8654192825907),]\n",
      "2021-02-05 21:04:17 INFO    : multi-lu-coil-modelling, (interface.py      :144 ) - Mesh loading ... complete\n",
      "2021-02-05 21:04:18 INFO    : multi-lu-coil-modelling, (interface.py      :114 ) - Modelling tool averaging\n",
      "2021-02-05 21:04:18 INFO    : multi-lu-coil-modelling, (interface.py      :172 ) - Done\n",
      "2021-02-05 21:04:18 INFO    : multi-lu-coil-modelling, (interface.py      :23  ) - Using cim-triangular solver\n",
      "2021-02-05 21:04:18 INFO    : multi-lu-coil-modelling, (abstractsolver.py :100 ) - Solver validation ... complete\n",
      "2021-02-05 21:04:18 INFO    : multi-lu-coil-modelling, (abstractsolver.py :93  ) - Tubes validation ... complete\n",
      "2021-02-05 21:04:18 INFO    : multi-lu-coil-modelling, (interface.py      :140 ) - Received tubes:[\n",
      "\tTube(id='', d=89.0, th=5.862833610145759, th0=6.5, sigma=11642578.753352998, mu=-22.62180642753023),]\n",
      "2021-02-05 21:04:18 INFO    : multi-lu-coil-modelling, (interface.py      :144 ) - Mesh loading ... complete\n",
      "2021-02-05 21:04:20 INFO    : multi-lu-coil-modelling, (interface.py      :114 ) - Modelling tool averaging\n",
      "2021-02-05 21:04:20 INFO    : multi-lu-coil-modelling, (interface.py      :172 ) - Done\n",
      "2021-02-05 21:04:20 INFO    : multi-lu-coil-modelling, (interface.py      :23  ) - Using cim-triangular solver\n",
      "2021-02-05 21:04:20 INFO    : multi-lu-coil-modelling, (abstractsolver.py :100 ) - Solver validation ... complete\n",
      "2021-02-05 21:04:20 INFO    : multi-lu-coil-modelling, (abstractsolver.py :93  ) - Tubes validation ... complete\n",
      "2021-02-05 21:04:20 INFO    : multi-lu-coil-modelling, (interface.py      :140 ) - Received tubes:[\n",
      "\tTube(id='', d=89.0, th=5.862833610145759, th0=6.5, sigma=11642578.753352998, mu=22.62180642753023),]\n",
      "2021-02-05 21:04:20 INFO    : multi-lu-coil-modelling, (interface.py      :144 ) - Mesh loading ... complete\n",
      "2021-02-05 21:04:21 INFO    : multi-lu-coil-modelling, (interface.py      :114 ) - Modelling tool averaging\n",
      "2021-02-05 21:04:21 INFO    : multi-lu-coil-modelling, (interface.py      :172 ) - Done\n",
      "2021-02-05 21:04:21 INFO    : multi-lu-coil-modelling, (interface.py      :23  ) - Using cim-triangular solver\n",
      "2021-02-05 21:04:21 INFO    : multi-lu-coil-modelling, (abstractsolver.py :100 ) - Solver validation ... complete\n",
      "2021-02-05 21:04:21 INFO    : multi-lu-coil-modelling, (abstractsolver.py :93  ) - Tubes validation ... complete\n",
      "2021-02-05 21:04:21 INFO    : multi-lu-coil-modelling, (interface.py      :140 ) - Received tubes:[\n",
      "\tTube(id='', d=89.0, th=5.862833610145759, th0=6.5, sigma=11642578.753352998, mu=67.86541928259075),]\n",
      "2021-02-05 21:04:21 INFO    : multi-lu-coil-modelling, (interface.py      :144 ) - Mesh loading ... complete\n",
      "2021-02-05 21:04:23 INFO    : multi-lu-coil-modelling, (interface.py      :114 ) - Modelling tool averaging\n",
      "2021-02-05 21:04:23 INFO    : multi-lu-coil-modelling, (interface.py      :172 ) - Done\n",
      "2021-02-05 21:04:23 INFO    : multi-lu-coil-modelling, (interface.py      :23  ) - Using cim-triangular solver\n",
      "2021-02-05 21:04:23 INFO    : multi-lu-coil-modelling, (abstractsolver.py :100 ) - Solver validation ... complete\n",
      "2021-02-05 21:04:23 INFO    : multi-lu-coil-modelling, (abstractsolver.py :93  ) - Tubes validation ... complete\n"
     ]
    },
    {
     "name": "stderr",
     "output_type": "stream",
     "text": [
      "2021-02-05 21:04:23 INFO    : multi-lu-coil-modelling, (interface.py      :140 ) - Received tubes:[\n",
      "\tTube(id='', d=89.0, th=5.862833610145759, th0=6.5, sigma=11642578.753352998, mu=113.10903213765121),]\n",
      "2021-02-05 21:04:23 INFO    : multi-lu-coil-modelling, (interface.py      :144 ) - Mesh loading ... complete\n",
      "2021-02-05 21:04:24 INFO    : multi-lu-coil-modelling, (interface.py      :114 ) - Modelling tool averaging\n",
      "2021-02-05 21:04:24 INFO    : multi-lu-coil-modelling, (interface.py      :172 ) - Done\n",
      "2021-02-05 21:04:24 INFO    : multi-lu-coil-modelling, (interface.py      :23  ) - Using cim-triangular solver\n",
      "2021-02-05 21:04:24 INFO    : multi-lu-coil-modelling, (abstractsolver.py :100 ) - Solver validation ... complete\n",
      "2021-02-05 21:04:24 INFO    : multi-lu-coil-modelling, (abstractsolver.py :93  ) - Tubes validation ... complete\n",
      "2021-02-05 21:04:24 INFO    : multi-lu-coil-modelling, (interface.py      :140 ) - Received tubes:[\n",
      "\tTube(id='', d=89.0, th=5.862833610145759, th0=6.5, sigma=11642578.753352998, mu=158.35264499271167),]\n",
      "2021-02-05 21:04:24 INFO    : multi-lu-coil-modelling, (interface.py      :144 ) - Mesh loading ... complete\n",
      "2021-02-05 21:04:26 INFO    : multi-lu-coil-modelling, (interface.py      :114 ) - Modelling tool averaging\n",
      "2021-02-05 21:04:26 INFO    : multi-lu-coil-modelling, (interface.py      :172 ) - Done\n",
      "2021-02-05 21:04:26 INFO    : multi-lu-coil-modelling, (interface.py      :23  ) - Using cim-triangular solver\n",
      "2021-02-05 21:04:26 INFO    : multi-lu-coil-modelling, (abstractsolver.py :100 ) - Solver validation ... complete\n",
      "2021-02-05 21:04:26 INFO    : multi-lu-coil-modelling, (abstractsolver.py :93  ) - Tubes validation ... complete\n",
      "2021-02-05 21:04:26 INFO    : multi-lu-coil-modelling, (interface.py      :140 ) - Received tubes:[\n",
      "\tTube(id='', d=89.0, th=5.862833610145759, th0=6.5, sigma=11642578.753352998, mu=203.59625784777214),]\n",
      "2021-02-05 21:04:26 INFO    : multi-lu-coil-modelling, (interface.py      :144 ) - Mesh loading ... complete\n",
      "2021-02-05 21:04:27 INFO    : multi-lu-coil-modelling, (interface.py      :114 ) - Modelling tool averaging\n",
      "2021-02-05 21:04:27 INFO    : multi-lu-coil-modelling, (interface.py      :172 ) - Done\n"
     ]
    }
   ],
   "source": [
    "size = 10\n",
    "x = np.linspace(-2 * fix_vector.get('Sigma').iloc[0], 2 * fix_vector.get('Sigma').iloc[0], size)#sigma\n",
    "y = np.linspace(-2 * fix_vector.get('mu').iloc[0], 2 * fix_vector.get('mu').iloc[0], size)#mu\n",
    "i = 0\n",
    "j = 0\n",
    "z = np.zeros((size,size))\n",
    "while (i < size):\n",
    "    while (j < size):\n",
    "        z[i][j] = minimization_func(x[i],y[j])\n",
    "        j = j + 1\n",
    "    j = 0\n",
    "    i = i + 1\n",
    "#Z = minimization_func(X,Y)"
   ]
  },
  {
   "cell_type": "code",
   "execution_count": 38,
   "metadata": {},
   "outputs": [
    {
     "data": {
      "application/vnd.plotly.v1+json": {
       "config": {
        "plotlyServerURL": "https://plot.ly"
       },
       "data": [
        {
         "type": "surface",
         "z": [
          [
           -388.2342670594537,
           -387.8170536547553,
           -387.4662472203581,
           -387.1820282597462,
           -386.9645434944856,
           -386.81390548733106,
           -386.73019235182534,
           -386.71344755013416,
           -386.7636797803352,
           -386.88086295384176
          ],
          [
           -331.20698977095304,
           -330.71784241176056,
           -330.3063988375307,
           -329.9729497137454,
           -329.71773167066596,
           -329.5409264692545,
           -329.4426603566727,
           -329.42300361666724,
           -329.48197031856506,
           -329.6195182669681
          ],
          [
           -274.2895678447933,
           -273.6987186125347,
           -273.20141776406746,
           -272.7981769024605,
           -272.48941360690816,
           -272.2754492914483,
           -272.1565075423718,
           -272.1327129542519,
           -272.2040904786714,
           -272.37056529356994
          ],
          [
           -217.56823460561702,
           -216.82287412837314,
           -216.19478546390187,
           -215.68499311637427,
           -215.29433741760153,
           -215.02346770789097,
           -214.87283699269338,
           -214.84269817650667,
           -214.9331019465899,
           -215.1438963476296
          ],
          [
           -161.25004946850373,
           -160.2429447017879,
           -159.39205926217838,
           -158.69990590094926,
           -158.16856846868114,
           -157.79967143827295,
           -157.59435552425882,
           -157.5532602348333,
           -157.67651397139662,
           -157.9637320304183
          ],
          [
           -105.97404084790028,
           -104.43781417661435,
           -103.1316366418398,
           -102.05836226221196,
           -101.22955997090831,
           -100.6521944769016,
           -100.33045477047892,
           -100.2666138786949,
           -100.45846783315645,
           -100.90517508016238
          ],
          [
           -55.01207088653284,
           -51.986197676264844,
           -49.301686512119275,
           -47.015639540770664,
           -45.18856879874002,
           -43.87994464764797,
           -43.13665858321089,
           -42.986871921680745,
           -43.43569847072531,
           -44.46643987512485
          ],
          [
           -37.21957115588889,
           -32.58099464431653,
           -28.09908486635116,
           -23.86167768301638,
           -20.02413588462518,
           -16.86459446944222,
           -14.822166899508584,
           -14.37907513665344,
           -15.671708109124259,
           -18.337259249958226
          ],
          [
           -79.42703573958896,
           -77.36198076864187,
           -75.58379489738769,
           -74.11282355289042,
           -72.96685349983107,
           -72.16371934053919,
           -71.7147940872559,
           -71.62477621303894,
           -71.89539642455438,
           -72.52311963412095
          ],
          [
           -133.40344516543192,
           -132.18433999247873,
           -131.15154817154215,
           -130.3092779207188,
           -129.66040960224674,
           -129.2101407577531,
           -128.96047611883358,
           -128.91053882572652,
           -129.06112278853752,
           -129.41186435005466
          ]
         ]
        }
       ],
       "layout": {
        "autosize": false,
        "margin": {
         "b": 65,
         "l": 65,
         "r": 50,
         "t": 90
        },
        "scene": {
         "xaxis": {
          "title": {
           "text": "sigma"
          }
         },
         "yaxis": {
          "title": {
           "text": "mu"
          }
         },
         "zaxis": {
          "title": {
           "text": "minimimzation_function(sigma/mu)"
          }
         }
        },
        "template": {
         "data": {
          "bar": [
           {
            "error_x": {
             "color": "#2a3f5f"
            },
            "error_y": {
             "color": "#2a3f5f"
            },
            "marker": {
             "line": {
              "color": "#E5ECF6",
              "width": 0.5
             }
            },
            "type": "bar"
           }
          ],
          "barpolar": [
           {
            "marker": {
             "line": {
              "color": "#E5ECF6",
              "width": 0.5
             }
            },
            "type": "barpolar"
           }
          ],
          "carpet": [
           {
            "aaxis": {
             "endlinecolor": "#2a3f5f",
             "gridcolor": "white",
             "linecolor": "white",
             "minorgridcolor": "white",
             "startlinecolor": "#2a3f5f"
            },
            "baxis": {
             "endlinecolor": "#2a3f5f",
             "gridcolor": "white",
             "linecolor": "white",
             "minorgridcolor": "white",
             "startlinecolor": "#2a3f5f"
            },
            "type": "carpet"
           }
          ],
          "choropleth": [
           {
            "colorbar": {
             "outlinewidth": 0,
             "ticks": ""
            },
            "type": "choropleth"
           }
          ],
          "contour": [
           {
            "colorbar": {
             "outlinewidth": 0,
             "ticks": ""
            },
            "colorscale": [
             [
              0,
              "#0d0887"
             ],
             [
              0.1111111111111111,
              "#46039f"
             ],
             [
              0.2222222222222222,
              "#7201a8"
             ],
             [
              0.3333333333333333,
              "#9c179e"
             ],
             [
              0.4444444444444444,
              "#bd3786"
             ],
             [
              0.5555555555555556,
              "#d8576b"
             ],
             [
              0.6666666666666666,
              "#ed7953"
             ],
             [
              0.7777777777777778,
              "#fb9f3a"
             ],
             [
              0.8888888888888888,
              "#fdca26"
             ],
             [
              1,
              "#f0f921"
             ]
            ],
            "type": "contour"
           }
          ],
          "contourcarpet": [
           {
            "colorbar": {
             "outlinewidth": 0,
             "ticks": ""
            },
            "type": "contourcarpet"
           }
          ],
          "heatmap": [
           {
            "colorbar": {
             "outlinewidth": 0,
             "ticks": ""
            },
            "colorscale": [
             [
              0,
              "#0d0887"
             ],
             [
              0.1111111111111111,
              "#46039f"
             ],
             [
              0.2222222222222222,
              "#7201a8"
             ],
             [
              0.3333333333333333,
              "#9c179e"
             ],
             [
              0.4444444444444444,
              "#bd3786"
             ],
             [
              0.5555555555555556,
              "#d8576b"
             ],
             [
              0.6666666666666666,
              "#ed7953"
             ],
             [
              0.7777777777777778,
              "#fb9f3a"
             ],
             [
              0.8888888888888888,
              "#fdca26"
             ],
             [
              1,
              "#f0f921"
             ]
            ],
            "type": "heatmap"
           }
          ],
          "heatmapgl": [
           {
            "colorbar": {
             "outlinewidth": 0,
             "ticks": ""
            },
            "colorscale": [
             [
              0,
              "#0d0887"
             ],
             [
              0.1111111111111111,
              "#46039f"
             ],
             [
              0.2222222222222222,
              "#7201a8"
             ],
             [
              0.3333333333333333,
              "#9c179e"
             ],
             [
              0.4444444444444444,
              "#bd3786"
             ],
             [
              0.5555555555555556,
              "#d8576b"
             ],
             [
              0.6666666666666666,
              "#ed7953"
             ],
             [
              0.7777777777777778,
              "#fb9f3a"
             ],
             [
              0.8888888888888888,
              "#fdca26"
             ],
             [
              1,
              "#f0f921"
             ]
            ],
            "type": "heatmapgl"
           }
          ],
          "histogram": [
           {
            "marker": {
             "colorbar": {
              "outlinewidth": 0,
              "ticks": ""
             }
            },
            "type": "histogram"
           }
          ],
          "histogram2d": [
           {
            "colorbar": {
             "outlinewidth": 0,
             "ticks": ""
            },
            "colorscale": [
             [
              0,
              "#0d0887"
             ],
             [
              0.1111111111111111,
              "#46039f"
             ],
             [
              0.2222222222222222,
              "#7201a8"
             ],
             [
              0.3333333333333333,
              "#9c179e"
             ],
             [
              0.4444444444444444,
              "#bd3786"
             ],
             [
              0.5555555555555556,
              "#d8576b"
             ],
             [
              0.6666666666666666,
              "#ed7953"
             ],
             [
              0.7777777777777778,
              "#fb9f3a"
             ],
             [
              0.8888888888888888,
              "#fdca26"
             ],
             [
              1,
              "#f0f921"
             ]
            ],
            "type": "histogram2d"
           }
          ],
          "histogram2dcontour": [
           {
            "colorbar": {
             "outlinewidth": 0,
             "ticks": ""
            },
            "colorscale": [
             [
              0,
              "#0d0887"
             ],
             [
              0.1111111111111111,
              "#46039f"
             ],
             [
              0.2222222222222222,
              "#7201a8"
             ],
             [
              0.3333333333333333,
              "#9c179e"
             ],
             [
              0.4444444444444444,
              "#bd3786"
             ],
             [
              0.5555555555555556,
              "#d8576b"
             ],
             [
              0.6666666666666666,
              "#ed7953"
             ],
             [
              0.7777777777777778,
              "#fb9f3a"
             ],
             [
              0.8888888888888888,
              "#fdca26"
             ],
             [
              1,
              "#f0f921"
             ]
            ],
            "type": "histogram2dcontour"
           }
          ],
          "mesh3d": [
           {
            "colorbar": {
             "outlinewidth": 0,
             "ticks": ""
            },
            "type": "mesh3d"
           }
          ],
          "parcoords": [
           {
            "line": {
             "colorbar": {
              "outlinewidth": 0,
              "ticks": ""
             }
            },
            "type": "parcoords"
           }
          ],
          "pie": [
           {
            "automargin": true,
            "type": "pie"
           }
          ],
          "scatter": [
           {
            "marker": {
             "colorbar": {
              "outlinewidth": 0,
              "ticks": ""
             }
            },
            "type": "scatter"
           }
          ],
          "scatter3d": [
           {
            "line": {
             "colorbar": {
              "outlinewidth": 0,
              "ticks": ""
             }
            },
            "marker": {
             "colorbar": {
              "outlinewidth": 0,
              "ticks": ""
             }
            },
            "type": "scatter3d"
           }
          ],
          "scattercarpet": [
           {
            "marker": {
             "colorbar": {
              "outlinewidth": 0,
              "ticks": ""
             }
            },
            "type": "scattercarpet"
           }
          ],
          "scattergeo": [
           {
            "marker": {
             "colorbar": {
              "outlinewidth": 0,
              "ticks": ""
             }
            },
            "type": "scattergeo"
           }
          ],
          "scattergl": [
           {
            "marker": {
             "colorbar": {
              "outlinewidth": 0,
              "ticks": ""
             }
            },
            "type": "scattergl"
           }
          ],
          "scattermapbox": [
           {
            "marker": {
             "colorbar": {
              "outlinewidth": 0,
              "ticks": ""
             }
            },
            "type": "scattermapbox"
           }
          ],
          "scatterpolar": [
           {
            "marker": {
             "colorbar": {
              "outlinewidth": 0,
              "ticks": ""
             }
            },
            "type": "scatterpolar"
           }
          ],
          "scatterpolargl": [
           {
            "marker": {
             "colorbar": {
              "outlinewidth": 0,
              "ticks": ""
             }
            },
            "type": "scatterpolargl"
           }
          ],
          "scatterternary": [
           {
            "marker": {
             "colorbar": {
              "outlinewidth": 0,
              "ticks": ""
             }
            },
            "type": "scatterternary"
           }
          ],
          "surface": [
           {
            "colorbar": {
             "outlinewidth": 0,
             "ticks": ""
            },
            "colorscale": [
             [
              0,
              "#0d0887"
             ],
             [
              0.1111111111111111,
              "#46039f"
             ],
             [
              0.2222222222222222,
              "#7201a8"
             ],
             [
              0.3333333333333333,
              "#9c179e"
             ],
             [
              0.4444444444444444,
              "#bd3786"
             ],
             [
              0.5555555555555556,
              "#d8576b"
             ],
             [
              0.6666666666666666,
              "#ed7953"
             ],
             [
              0.7777777777777778,
              "#fb9f3a"
             ],
             [
              0.8888888888888888,
              "#fdca26"
             ],
             [
              1,
              "#f0f921"
             ]
            ],
            "type": "surface"
           }
          ],
          "table": [
           {
            "cells": {
             "fill": {
              "color": "#EBF0F8"
             },
             "line": {
              "color": "white"
             }
            },
            "header": {
             "fill": {
              "color": "#C8D4E3"
             },
             "line": {
              "color": "white"
             }
            },
            "type": "table"
           }
          ]
         },
         "layout": {
          "annotationdefaults": {
           "arrowcolor": "#2a3f5f",
           "arrowhead": 0,
           "arrowwidth": 1
          },
          "autotypenumbers": "strict",
          "coloraxis": {
           "colorbar": {
            "outlinewidth": 0,
            "ticks": ""
           }
          },
          "colorscale": {
           "diverging": [
            [
             0,
             "#8e0152"
            ],
            [
             0.1,
             "#c51b7d"
            ],
            [
             0.2,
             "#de77ae"
            ],
            [
             0.3,
             "#f1b6da"
            ],
            [
             0.4,
             "#fde0ef"
            ],
            [
             0.5,
             "#f7f7f7"
            ],
            [
             0.6,
             "#e6f5d0"
            ],
            [
             0.7,
             "#b8e186"
            ],
            [
             0.8,
             "#7fbc41"
            ],
            [
             0.9,
             "#4d9221"
            ],
            [
             1,
             "#276419"
            ]
           ],
           "sequential": [
            [
             0,
             "#0d0887"
            ],
            [
             0.1111111111111111,
             "#46039f"
            ],
            [
             0.2222222222222222,
             "#7201a8"
            ],
            [
             0.3333333333333333,
             "#9c179e"
            ],
            [
             0.4444444444444444,
             "#bd3786"
            ],
            [
             0.5555555555555556,
             "#d8576b"
            ],
            [
             0.6666666666666666,
             "#ed7953"
            ],
            [
             0.7777777777777778,
             "#fb9f3a"
            ],
            [
             0.8888888888888888,
             "#fdca26"
            ],
            [
             1,
             "#f0f921"
            ]
           ],
           "sequentialminus": [
            [
             0,
             "#0d0887"
            ],
            [
             0.1111111111111111,
             "#46039f"
            ],
            [
             0.2222222222222222,
             "#7201a8"
            ],
            [
             0.3333333333333333,
             "#9c179e"
            ],
            [
             0.4444444444444444,
             "#bd3786"
            ],
            [
             0.5555555555555556,
             "#d8576b"
            ],
            [
             0.6666666666666666,
             "#ed7953"
            ],
            [
             0.7777777777777778,
             "#fb9f3a"
            ],
            [
             0.8888888888888888,
             "#fdca26"
            ],
            [
             1,
             "#f0f921"
            ]
           ]
          },
          "colorway": [
           "#636efa",
           "#EF553B",
           "#00cc96",
           "#ab63fa",
           "#FFA15A",
           "#19d3f3",
           "#FF6692",
           "#B6E880",
           "#FF97FF",
           "#FECB52"
          ],
          "font": {
           "color": "#2a3f5f"
          },
          "geo": {
           "bgcolor": "white",
           "lakecolor": "white",
           "landcolor": "#E5ECF6",
           "showlakes": true,
           "showland": true,
           "subunitcolor": "white"
          },
          "hoverlabel": {
           "align": "left"
          },
          "hovermode": "closest",
          "mapbox": {
           "style": "light"
          },
          "paper_bgcolor": "white",
          "plot_bgcolor": "#E5ECF6",
          "polar": {
           "angularaxis": {
            "gridcolor": "white",
            "linecolor": "white",
            "ticks": ""
           },
           "bgcolor": "#E5ECF6",
           "radialaxis": {
            "gridcolor": "white",
            "linecolor": "white",
            "ticks": ""
           }
          },
          "scene": {
           "xaxis": {
            "backgroundcolor": "#E5ECF6",
            "gridcolor": "white",
            "gridwidth": 2,
            "linecolor": "white",
            "showbackground": true,
            "ticks": "",
            "zerolinecolor": "white"
           },
           "yaxis": {
            "backgroundcolor": "#E5ECF6",
            "gridcolor": "white",
            "gridwidth": 2,
            "linecolor": "white",
            "showbackground": true,
            "ticks": "",
            "zerolinecolor": "white"
           },
           "zaxis": {
            "backgroundcolor": "#E5ECF6",
            "gridcolor": "white",
            "gridwidth": 2,
            "linecolor": "white",
            "showbackground": true,
            "ticks": "",
            "zerolinecolor": "white"
           }
          },
          "shapedefaults": {
           "line": {
            "color": "#2a3f5f"
           }
          },
          "ternary": {
           "aaxis": {
            "gridcolor": "white",
            "linecolor": "white",
            "ticks": ""
           },
           "baxis": {
            "gridcolor": "white",
            "linecolor": "white",
            "ticks": ""
           },
           "bgcolor": "#E5ECF6",
           "caxis": {
            "gridcolor": "white",
            "linecolor": "white",
            "ticks": ""
           }
          },
          "title": {
           "x": 0.05
          },
          "xaxis": {
           "automargin": true,
           "gridcolor": "white",
           "linecolor": "white",
           "ticks": "",
           "title": {
            "standoff": 15
           },
           "zerolinecolor": "white",
           "zerolinewidth": 2
          },
          "yaxis": {
           "automargin": true,
           "gridcolor": "white",
           "linecolor": "white",
           "ticks": "",
           "title": {
            "standoff": 15
           },
           "zerolinecolor": "white",
           "zerolinewidth": 2
          }
         }
        },
        "title": {
         "text": "loss(Sigma,mu)"
        }
       }
      },
      "text/html": [
       "<div>                            <div id=\"2bf2fc82-3adb-4e18-b08b-2bf7835d48e7\" class=\"plotly-graph-div\" style=\"height:525px; width:100%;\"></div>            <script type=\"text/javascript\">                require([\"plotly\"], function(Plotly) {                    window.PLOTLYENV=window.PLOTLYENV || {};                                    if (document.getElementById(\"2bf2fc82-3adb-4e18-b08b-2bf7835d48e7\")) {                    Plotly.newPlot(                        \"2bf2fc82-3adb-4e18-b08b-2bf7835d48e7\",                        [{\"type\": \"surface\", \"z\": [[-388.2342670594537, -387.8170536547553, -387.4662472203581, -387.1820282597462, -386.9645434944856, -386.81390548733106, -386.73019235182534, -386.71344755013416, -386.7636797803352, -386.88086295384176], [-331.20698977095304, -330.71784241176056, -330.3063988375307, -329.9729497137454, -329.71773167066596, -329.5409264692545, -329.4426603566727, -329.42300361666724, -329.48197031856506, -329.6195182669681], [-274.2895678447933, -273.6987186125347, -273.20141776406746, -272.7981769024605, -272.48941360690816, -272.2754492914483, -272.1565075423718, -272.1327129542519, -272.2040904786714, -272.37056529356994], [-217.56823460561702, -216.82287412837314, -216.19478546390187, -215.68499311637427, -215.29433741760153, -215.02346770789097, -214.87283699269338, -214.84269817650667, -214.9331019465899, -215.1438963476296], [-161.25004946850373, -160.2429447017879, -159.39205926217838, -158.69990590094926, -158.16856846868114, -157.79967143827295, -157.59435552425882, -157.5532602348333, -157.67651397139662, -157.9637320304183], [-105.97404084790028, -104.43781417661435, -103.1316366418398, -102.05836226221196, -101.22955997090831, -100.6521944769016, -100.33045477047892, -100.2666138786949, -100.45846783315645, -100.90517508016238], [-55.01207088653284, -51.986197676264844, -49.301686512119275, -47.015639540770664, -45.18856879874002, -43.87994464764797, -43.13665858321089, -42.986871921680745, -43.43569847072531, -44.46643987512485], [-37.21957115588889, -32.58099464431653, -28.09908486635116, -23.86167768301638, -20.02413588462518, -16.86459446944222, -14.822166899508584, -14.37907513665344, -15.671708109124259, -18.337259249958226], [-79.42703573958896, -77.36198076864187, -75.58379489738769, -74.11282355289042, -72.96685349983107, -72.16371934053919, -71.7147940872559, -71.62477621303894, -71.89539642455438, -72.52311963412095], [-133.40344516543192, -132.18433999247873, -131.15154817154215, -130.3092779207188, -129.66040960224674, -129.2101407577531, -128.96047611883358, -128.91053882572652, -129.06112278853752, -129.41186435005466]]}],                        {\"autosize\": false, \"margin\": {\"b\": 65, \"l\": 65, \"r\": 50, \"t\": 90}, \"scene\": {\"xaxis\": {\"title\": {\"text\": \"sigma\"}}, \"yaxis\": {\"title\": {\"text\": \"mu\"}}, \"zaxis\": {\"title\": {\"text\": \"minimimzation_function(sigma/mu)\"}}}, \"template\": {\"data\": {\"bar\": [{\"error_x\": {\"color\": \"#2a3f5f\"}, \"error_y\": {\"color\": \"#2a3f5f\"}, \"marker\": {\"line\": {\"color\": \"#E5ECF6\", \"width\": 0.5}}, \"type\": \"bar\"}], \"barpolar\": [{\"marker\": {\"line\": {\"color\": \"#E5ECF6\", \"width\": 0.5}}, \"type\": \"barpolar\"}], \"carpet\": [{\"aaxis\": {\"endlinecolor\": \"#2a3f5f\", \"gridcolor\": \"white\", \"linecolor\": \"white\", \"minorgridcolor\": \"white\", \"startlinecolor\": \"#2a3f5f\"}, \"baxis\": {\"endlinecolor\": \"#2a3f5f\", \"gridcolor\": \"white\", \"linecolor\": \"white\", \"minorgridcolor\": \"white\", \"startlinecolor\": \"#2a3f5f\"}, \"type\": \"carpet\"}], \"choropleth\": [{\"colorbar\": {\"outlinewidth\": 0, \"ticks\": \"\"}, \"type\": \"choropleth\"}], \"contour\": [{\"colorbar\": {\"outlinewidth\": 0, \"ticks\": \"\"}, \"colorscale\": [[0.0, \"#0d0887\"], [0.1111111111111111, \"#46039f\"], [0.2222222222222222, \"#7201a8\"], [0.3333333333333333, \"#9c179e\"], [0.4444444444444444, \"#bd3786\"], [0.5555555555555556, \"#d8576b\"], [0.6666666666666666, \"#ed7953\"], [0.7777777777777778, \"#fb9f3a\"], [0.8888888888888888, \"#fdca26\"], [1.0, \"#f0f921\"]], \"type\": \"contour\"}], \"contourcarpet\": [{\"colorbar\": {\"outlinewidth\": 0, \"ticks\": \"\"}, \"type\": \"contourcarpet\"}], \"heatmap\": [{\"colorbar\": {\"outlinewidth\": 0, \"ticks\": \"\"}, \"colorscale\": [[0.0, \"#0d0887\"], [0.1111111111111111, \"#46039f\"], [0.2222222222222222, \"#7201a8\"], [0.3333333333333333, \"#9c179e\"], [0.4444444444444444, \"#bd3786\"], [0.5555555555555556, \"#d8576b\"], [0.6666666666666666, \"#ed7953\"], [0.7777777777777778, \"#fb9f3a\"], [0.8888888888888888, \"#fdca26\"], [1.0, \"#f0f921\"]], \"type\": \"heatmap\"}], \"heatmapgl\": [{\"colorbar\": {\"outlinewidth\": 0, \"ticks\": \"\"}, \"colorscale\": [[0.0, \"#0d0887\"], [0.1111111111111111, \"#46039f\"], [0.2222222222222222, \"#7201a8\"], [0.3333333333333333, \"#9c179e\"], [0.4444444444444444, \"#bd3786\"], [0.5555555555555556, \"#d8576b\"], [0.6666666666666666, \"#ed7953\"], [0.7777777777777778, \"#fb9f3a\"], [0.8888888888888888, \"#fdca26\"], [1.0, \"#f0f921\"]], \"type\": \"heatmapgl\"}], \"histogram\": [{\"marker\": {\"colorbar\": {\"outlinewidth\": 0, \"ticks\": \"\"}}, \"type\": \"histogram\"}], \"histogram2d\": [{\"colorbar\": {\"outlinewidth\": 0, \"ticks\": \"\"}, \"colorscale\": [[0.0, \"#0d0887\"], [0.1111111111111111, \"#46039f\"], [0.2222222222222222, \"#7201a8\"], [0.3333333333333333, \"#9c179e\"], [0.4444444444444444, \"#bd3786\"], [0.5555555555555556, \"#d8576b\"], [0.6666666666666666, \"#ed7953\"], [0.7777777777777778, \"#fb9f3a\"], [0.8888888888888888, \"#fdca26\"], [1.0, \"#f0f921\"]], \"type\": \"histogram2d\"}], \"histogram2dcontour\": [{\"colorbar\": {\"outlinewidth\": 0, \"ticks\": \"\"}, \"colorscale\": [[0.0, \"#0d0887\"], [0.1111111111111111, \"#46039f\"], [0.2222222222222222, \"#7201a8\"], [0.3333333333333333, \"#9c179e\"], [0.4444444444444444, \"#bd3786\"], [0.5555555555555556, \"#d8576b\"], [0.6666666666666666, \"#ed7953\"], [0.7777777777777778, \"#fb9f3a\"], [0.8888888888888888, \"#fdca26\"], [1.0, \"#f0f921\"]], \"type\": \"histogram2dcontour\"}], \"mesh3d\": [{\"colorbar\": {\"outlinewidth\": 0, \"ticks\": \"\"}, \"type\": \"mesh3d\"}], \"parcoords\": [{\"line\": {\"colorbar\": {\"outlinewidth\": 0, \"ticks\": \"\"}}, \"type\": \"parcoords\"}], \"pie\": [{\"automargin\": true, \"type\": \"pie\"}], \"scatter\": [{\"marker\": {\"colorbar\": {\"outlinewidth\": 0, \"ticks\": \"\"}}, \"type\": \"scatter\"}], \"scatter3d\": [{\"line\": {\"colorbar\": {\"outlinewidth\": 0, \"ticks\": \"\"}}, \"marker\": {\"colorbar\": {\"outlinewidth\": 0, \"ticks\": \"\"}}, \"type\": \"scatter3d\"}], \"scattercarpet\": [{\"marker\": {\"colorbar\": {\"outlinewidth\": 0, \"ticks\": \"\"}}, \"type\": \"scattercarpet\"}], \"scattergeo\": [{\"marker\": {\"colorbar\": {\"outlinewidth\": 0, \"ticks\": \"\"}}, \"type\": \"scattergeo\"}], \"scattergl\": [{\"marker\": {\"colorbar\": {\"outlinewidth\": 0, \"ticks\": \"\"}}, \"type\": \"scattergl\"}], \"scattermapbox\": [{\"marker\": {\"colorbar\": {\"outlinewidth\": 0, \"ticks\": \"\"}}, \"type\": \"scattermapbox\"}], \"scatterpolar\": [{\"marker\": {\"colorbar\": {\"outlinewidth\": 0, \"ticks\": \"\"}}, \"type\": \"scatterpolar\"}], \"scatterpolargl\": [{\"marker\": {\"colorbar\": {\"outlinewidth\": 0, \"ticks\": \"\"}}, \"type\": \"scatterpolargl\"}], \"scatterternary\": [{\"marker\": {\"colorbar\": {\"outlinewidth\": 0, \"ticks\": \"\"}}, \"type\": \"scatterternary\"}], \"surface\": [{\"colorbar\": {\"outlinewidth\": 0, \"ticks\": \"\"}, \"colorscale\": [[0.0, \"#0d0887\"], [0.1111111111111111, \"#46039f\"], [0.2222222222222222, \"#7201a8\"], [0.3333333333333333, \"#9c179e\"], [0.4444444444444444, \"#bd3786\"], [0.5555555555555556, \"#d8576b\"], [0.6666666666666666, \"#ed7953\"], [0.7777777777777778, \"#fb9f3a\"], [0.8888888888888888, \"#fdca26\"], [1.0, \"#f0f921\"]], \"type\": \"surface\"}], \"table\": [{\"cells\": {\"fill\": {\"color\": \"#EBF0F8\"}, \"line\": {\"color\": \"white\"}}, \"header\": {\"fill\": {\"color\": \"#C8D4E3\"}, \"line\": {\"color\": \"white\"}}, \"type\": \"table\"}]}, \"layout\": {\"annotationdefaults\": {\"arrowcolor\": \"#2a3f5f\", \"arrowhead\": 0, \"arrowwidth\": 1}, \"autotypenumbers\": \"strict\", \"coloraxis\": {\"colorbar\": {\"outlinewidth\": 0, \"ticks\": \"\"}}, \"colorscale\": {\"diverging\": [[0, \"#8e0152\"], [0.1, \"#c51b7d\"], [0.2, \"#de77ae\"], [0.3, \"#f1b6da\"], [0.4, \"#fde0ef\"], [0.5, \"#f7f7f7\"], [0.6, \"#e6f5d0\"], [0.7, \"#b8e186\"], [0.8, \"#7fbc41\"], [0.9, \"#4d9221\"], [1, \"#276419\"]], \"sequential\": [[0.0, \"#0d0887\"], [0.1111111111111111, \"#46039f\"], [0.2222222222222222, \"#7201a8\"], [0.3333333333333333, \"#9c179e\"], [0.4444444444444444, \"#bd3786\"], [0.5555555555555556, \"#d8576b\"], [0.6666666666666666, \"#ed7953\"], [0.7777777777777778, \"#fb9f3a\"], [0.8888888888888888, \"#fdca26\"], [1.0, \"#f0f921\"]], \"sequentialminus\": [[0.0, \"#0d0887\"], [0.1111111111111111, \"#46039f\"], [0.2222222222222222, \"#7201a8\"], [0.3333333333333333, \"#9c179e\"], [0.4444444444444444, \"#bd3786\"], [0.5555555555555556, \"#d8576b\"], [0.6666666666666666, \"#ed7953\"], [0.7777777777777778, \"#fb9f3a\"], [0.8888888888888888, \"#fdca26\"], [1.0, \"#f0f921\"]]}, \"colorway\": [\"#636efa\", \"#EF553B\", \"#00cc96\", \"#ab63fa\", \"#FFA15A\", \"#19d3f3\", \"#FF6692\", \"#B6E880\", \"#FF97FF\", \"#FECB52\"], \"font\": {\"color\": \"#2a3f5f\"}, \"geo\": {\"bgcolor\": \"white\", \"lakecolor\": \"white\", \"landcolor\": \"#E5ECF6\", \"showlakes\": true, \"showland\": true, \"subunitcolor\": \"white\"}, \"hoverlabel\": {\"align\": \"left\"}, \"hovermode\": \"closest\", \"mapbox\": {\"style\": \"light\"}, \"paper_bgcolor\": \"white\", \"plot_bgcolor\": \"#E5ECF6\", \"polar\": {\"angularaxis\": {\"gridcolor\": \"white\", \"linecolor\": \"white\", \"ticks\": \"\"}, \"bgcolor\": \"#E5ECF6\", \"radialaxis\": {\"gridcolor\": \"white\", \"linecolor\": \"white\", \"ticks\": \"\"}}, \"scene\": {\"xaxis\": {\"backgroundcolor\": \"#E5ECF6\", \"gridcolor\": \"white\", \"gridwidth\": 2, \"linecolor\": \"white\", \"showbackground\": true, \"ticks\": \"\", \"zerolinecolor\": \"white\"}, \"yaxis\": {\"backgroundcolor\": \"#E5ECF6\", \"gridcolor\": \"white\", \"gridwidth\": 2, \"linecolor\": \"white\", \"showbackground\": true, \"ticks\": \"\", \"zerolinecolor\": \"white\"}, \"zaxis\": {\"backgroundcolor\": \"#E5ECF6\", \"gridcolor\": \"white\", \"gridwidth\": 2, \"linecolor\": \"white\", \"showbackground\": true, \"ticks\": \"\", \"zerolinecolor\": \"white\"}}, \"shapedefaults\": {\"line\": {\"color\": \"#2a3f5f\"}}, \"ternary\": {\"aaxis\": {\"gridcolor\": \"white\", \"linecolor\": \"white\", \"ticks\": \"\"}, \"baxis\": {\"gridcolor\": \"white\", \"linecolor\": \"white\", \"ticks\": \"\"}, \"bgcolor\": \"#E5ECF6\", \"caxis\": {\"gridcolor\": \"white\", \"linecolor\": \"white\", \"ticks\": \"\"}}, \"title\": {\"x\": 0.05}, \"xaxis\": {\"automargin\": true, \"gridcolor\": \"white\", \"linecolor\": \"white\", \"ticks\": \"\", \"title\": {\"standoff\": 15}, \"zerolinecolor\": \"white\", \"zerolinewidth\": 2}, \"yaxis\": {\"automargin\": true, \"gridcolor\": \"white\", \"linecolor\": \"white\", \"ticks\": \"\", \"title\": {\"standoff\": 15}, \"zerolinecolor\": \"white\", \"zerolinewidth\": 2}}}, \"title\": {\"text\": \"loss(Sigma,mu)\"}},                        {\"responsive\": true}                    ).then(function(){\n",
       "                            \n",
       "var gd = document.getElementById('2bf2fc82-3adb-4e18-b08b-2bf7835d48e7');\n",
       "var x = new MutationObserver(function (mutations, observer) {{\n",
       "        var display = window.getComputedStyle(gd).display;\n",
       "        if (!display || display === 'none') {{\n",
       "            console.log([gd, 'removed!']);\n",
       "            Plotly.purge(gd);\n",
       "            observer.disconnect();\n",
       "        }}\n",
       "}});\n",
       "\n",
       "// Listen for the removal of the full notebook cells\n",
       "var notebookContainer = gd.closest('#notebook-container');\n",
       "if (notebookContainer) {{\n",
       "    x.observe(notebookContainer, {childList: true});\n",
       "}}\n",
       "\n",
       "// Listen for the clearing of the current output cell\n",
       "var outputEl = gd.closest('.output');\n",
       "if (outputEl) {{\n",
       "    x.observe(outputEl, {childList: true});\n",
       "}}\n",
       "\n",
       "                        })                };                });            </script>        </div>"
      ]
     },
     "metadata": {},
     "output_type": "display_data"
    }
   ],
   "source": [
    "# Read data from a csv\n",
    "z_data = pd.DataFrame(z)\n",
    "fig = go.Figure(data=[go.Surface(z=z_data.values)])\n",
    "\n",
    "fig.update_layout(title='minimimzation_function(Sigma,mu)', autosize=False,\n",
    "                  margin=dict(l=65, r=50, b=65, t=90))\n",
    "fig.update_layout(scene = dict(\n",
    "xaxis_title = 'sigma',\n",
    "yaxis_title = 'mu',\n",
    "zaxis_title = 'minimimzation_function(sigma/mu)'))\n",
    "fig.show()"
   ]
  },
  {
   "cell_type": "markdown",
   "metadata": {},
   "source": [
    "### Heatmap loss ( log (sigma), log (mu), log(d), log(th), log(th0)"
   ]
  },
  {
   "cell_type": "code",
   "execution_count": 65,
   "metadata": {},
   "outputs": [],
   "source": [
    "def model_decay(d=fix_vector.get('d').iloc[0], th0=fix_vector.get('th0').iloc[0],\n",
    "                th=fix_vector.get('th').iloc[0], sigma=fix_vector.get('Sigma').iloc[0], mu=fix_vector.get('mu').iloc[0]):\n",
    "    tubes = [\n",
    "    wc.Tube(d=(d), th0=(th0), th=(th), sigma=(sigma), mu=(mu)),\n",
    "    ]\n",
    "\n",
    "    sensor = sensors.PULSE_3E_1\n",
    "    times = tool_times.times[sensor]\n",
    "    solver = Solver(sensor, times, tool_averaging=True)\n",
    "    output = solver.get_curve(tubes)\n",
    "    return(output)\n",
    "def L(x,y):\n",
    "    return np.log(weighted_mse(np.array(model_decay()), np.array(model_decay(sigma=x,\n",
    "                                                                             mu=y)),t))"
   ]
  },
  {
   "cell_type": "code",
   "execution_count": 66,
   "metadata": {},
   "outputs": [
    {
     "name": "stderr",
     "output_type": "stream",
     "text": [
      "2021-02-05 20:16:35 INFO    : multi-lu-coil-modelling, (interface.py      :23  ) - Using cim-triangular solver\n",
      "2021-02-05 20:16:35 INFO    : multi-lu-coil-modelling, (abstractsolver.py :100 ) - Solver validation ... complete\n",
      "2021-02-05 20:16:35 INFO    : multi-lu-coil-modelling, (abstractsolver.py :93  ) - Tubes validation ... complete\n",
      "2021-02-05 20:16:35 INFO    : multi-lu-coil-modelling, (interface.py      :140 ) - Received tubes:[\n",
      "\tTube(id='', d=89.0, th=11.45124626576759, th0=6.5, sigma=8205327.562006988, mu=128.90431790380575),]\n",
      "2021-02-05 20:16:35 INFO    : multi-lu-coil-modelling, (interface.py      :144 ) - Mesh loading ... complete\n",
      "2021-02-05 20:16:37 INFO    : multi-lu-coil-modelling, (interface.py      :114 ) - Modelling tool averaging\n",
      "2021-02-05 20:16:37 INFO    : multi-lu-coil-modelling, (interface.py      :172 ) - Done\n",
      "2021-02-05 20:16:37 INFO    : multi-lu-coil-modelling, (interface.py      :23  ) - Using cim-triangular solver\n",
      "2021-02-05 20:16:37 INFO    : multi-lu-coil-modelling, (abstractsolver.py :100 ) - Solver validation ... complete\n",
      "2021-02-05 20:16:37 INFO    : multi-lu-coil-modelling, (abstractsolver.py :93  ) - Tubes validation ... complete\n",
      "2021-02-05 20:16:37 INFO    : multi-lu-coil-modelling, (interface.py      :140 ) - Received tubes:[\n",
      "\tTube(id='', d=89.0, th=11.45124626576759, th0=6.5, sigma=1e-05, mu=1e-05),]\n",
      "2021-02-05 20:16:37 INFO    : multi-lu-coil-modelling, (interface.py      :144 ) - Mesh loading ... complete\n",
      "2021-02-05 20:16:38 INFO    : multi-lu-coil-modelling, (interface.py      :114 ) - Modelling tool averaging\n",
      "2021-02-05 20:16:38 INFO    : multi-lu-coil-modelling, (interface.py      :172 ) - Done\n",
      "2021-02-05 20:16:38 INFO    : multi-lu-coil-modelling, (interface.py      :23  ) - Using cim-triangular solver\n",
      "2021-02-05 20:16:38 INFO    : multi-lu-coil-modelling, (abstractsolver.py :100 ) - Solver validation ... complete\n",
      "2021-02-05 20:16:38 INFO    : multi-lu-coil-modelling, (abstractsolver.py :93  ) - Tubes validation ... complete\n",
      "2021-02-05 20:16:38 INFO    : multi-lu-coil-modelling, (interface.py      :140 ) - Received tubes:[\n",
      "\tTube(id='', d=89.0, th=11.45124626576759, th0=6.5, sigma=8205327.562006988, mu=128.90431790380575),]\n",
      "2021-02-05 20:16:38 INFO    : multi-lu-coil-modelling, (interface.py      :144 ) - Mesh loading ... complete\n",
      "2021-02-05 20:16:40 INFO    : multi-lu-coil-modelling, (interface.py      :114 ) - Modelling tool averaging\n",
      "2021-02-05 20:16:40 INFO    : multi-lu-coil-modelling, (interface.py      :172 ) - Done\n",
      "2021-02-05 20:16:40 INFO    : multi-lu-coil-modelling, (interface.py      :23  ) - Using cim-triangular solver\n",
      "2021-02-05 20:16:40 INFO    : multi-lu-coil-modelling, (abstractsolver.py :100 ) - Solver validation ... complete\n",
      "2021-02-05 20:16:40 INFO    : multi-lu-coil-modelling, (abstractsolver.py :93  ) - Tubes validation ... complete\n",
      "2021-02-05 20:16:40 INFO    : multi-lu-coil-modelling, (interface.py      :140 ) - Received tubes:[\n",
      "\tTube(id='', d=89.0, th=11.45124626576759, th0=6.5, sigma=1e-05, mu=28.64541286751239),]\n",
      "2021-02-05 20:16:40 INFO    : multi-lu-coil-modelling, (interface.py      :144 ) - Mesh loading ... complete\n",
      "2021-02-05 20:16:41 INFO    : multi-lu-coil-modelling, (interface.py      :114 ) - Modelling tool averaging\n",
      "2021-02-05 20:16:41 INFO    : multi-lu-coil-modelling, (interface.py      :172 ) - Done\n",
      "2021-02-05 20:16:42 INFO    : multi-lu-coil-modelling, (interface.py      :23  ) - Using cim-triangular solver\n",
      "2021-02-05 20:16:42 INFO    : multi-lu-coil-modelling, (abstractsolver.py :100 ) - Solver validation ... complete\n",
      "2021-02-05 20:16:42 INFO    : multi-lu-coil-modelling, (abstractsolver.py :93  ) - Tubes validation ... complete\n",
      "2021-02-05 20:16:42 INFO    : multi-lu-coil-modelling, (interface.py      :140 ) - Received tubes:[\n",
      "\tTube(id='', d=89.0, th=11.45124626576759, th0=6.5, sigma=8205327.562006988, mu=128.90431790380575),]\n",
      "2021-02-05 20:16:42 INFO    : multi-lu-coil-modelling, (interface.py      :144 ) - Mesh loading ... complete\n",
      "2021-02-05 20:16:43 INFO    : multi-lu-coil-modelling, (interface.py      :114 ) - Modelling tool averaging\n",
      "2021-02-05 20:16:43 INFO    : multi-lu-coil-modelling, (interface.py      :172 ) - Done\n",
      "2021-02-05 20:16:43 INFO    : multi-lu-coil-modelling, (interface.py      :23  ) - Using cim-triangular solver\n",
      "2021-02-05 20:16:43 INFO    : multi-lu-coil-modelling, (abstractsolver.py :100 ) - Solver validation ... complete\n",
      "2021-02-05 20:16:43 INFO    : multi-lu-coil-modelling, (abstractsolver.py :93  ) - Tubes validation ... complete\n",
      "2021-02-05 20:16:43 INFO    : multi-lu-coil-modelling, (interface.py      :140 ) - Received tubes:[\n",
      "\tTube(id='', d=89.0, th=11.45124626576759, th0=6.5, sigma=1e-05, mu=57.290815735024786),]\n",
      "2021-02-05 20:16:43 INFO    : multi-lu-coil-modelling, (interface.py      :144 ) - Mesh loading ... complete\n",
      "2021-02-05 20:16:45 INFO    : multi-lu-coil-modelling, (interface.py      :114 ) - Modelling tool averaging\n",
      "2021-02-05 20:16:45 INFO    : multi-lu-coil-modelling, (interface.py      :172 ) - Done\n",
      "2021-02-05 20:16:45 INFO    : multi-lu-coil-modelling, (interface.py      :23  ) - Using cim-triangular solver\n",
      "2021-02-05 20:16:45 INFO    : multi-lu-coil-modelling, (abstractsolver.py :100 ) - Solver validation ... complete\n",
      "2021-02-05 20:16:45 INFO    : multi-lu-coil-modelling, (abstractsolver.py :93  ) - Tubes validation ... complete\n",
      "2021-02-05 20:16:45 INFO    : multi-lu-coil-modelling, (interface.py      :140 ) - Received tubes:[\n",
      "\tTube(id='', d=89.0, th=11.45124626576759, th0=6.5, sigma=8205327.562006988, mu=128.90431790380575),]\n",
      "2021-02-05 20:16:45 INFO    : multi-lu-coil-modelling, (interface.py      :144 ) - Mesh loading ... complete\n",
      "2021-02-05 20:16:46 INFO    : multi-lu-coil-modelling, (interface.py      :114 ) - Modelling tool averaging\n",
      "2021-02-05 20:16:46 INFO    : multi-lu-coil-modelling, (interface.py      :172 ) - Done\n",
      "2021-02-05 20:16:46 INFO    : multi-lu-coil-modelling, (interface.py      :23  ) - Using cim-triangular solver\n",
      "2021-02-05 20:16:46 INFO    : multi-lu-coil-modelling, (abstractsolver.py :100 ) - Solver validation ... complete\n",
      "2021-02-05 20:16:46 INFO    : multi-lu-coil-modelling, (abstractsolver.py :93  ) - Tubes validation ... complete\n",
      "2021-02-05 20:16:46 INFO    : multi-lu-coil-modelling, (interface.py      :140 ) - Received tubes:[\n",
      "\tTube(id='', d=89.0, th=11.45124626576759, th0=6.5, sigma=1e-05, mu=85.93621860253718),]\n",
      "2021-02-05 20:16:46 INFO    : multi-lu-coil-modelling, (interface.py      :144 ) - Mesh loading ... complete\n",
      "2021-02-05 20:16:48 INFO    : multi-lu-coil-modelling, (interface.py      :114 ) - Modelling tool averaging\n",
      "2021-02-05 20:16:48 INFO    : multi-lu-coil-modelling, (interface.py      :172 ) - Done\n",
      "2021-02-05 20:16:48 INFO    : multi-lu-coil-modelling, (interface.py      :23  ) - Using cim-triangular solver\n",
      "2021-02-05 20:16:48 INFO    : multi-lu-coil-modelling, (abstractsolver.py :100 ) - Solver validation ... complete\n",
      "2021-02-05 20:16:48 INFO    : multi-lu-coil-modelling, (abstractsolver.py :93  ) - Tubes validation ... complete\n",
      "2021-02-05 20:16:48 INFO    : multi-lu-coil-modelling, (interface.py      :140 ) - Received tubes:[\n",
      "\tTube(id='', d=89.0, th=11.45124626576759, th0=6.5, sigma=8205327.562006988, mu=128.90431790380575),]\n",
      "2021-02-05 20:16:48 INFO    : multi-lu-coil-modelling, (interface.py      :144 ) - Mesh loading ... complete\n",
      "2021-02-05 20:16:49 INFO    : multi-lu-coil-modelling, (interface.py      :114 ) - Modelling tool averaging\n",
      "2021-02-05 20:16:49 INFO    : multi-lu-coil-modelling, (interface.py      :172 ) - Done\n",
      "2021-02-05 20:16:49 INFO    : multi-lu-coil-modelling, (interface.py      :23  ) - Using cim-triangular solver\n",
      "2021-02-05 20:16:49 INFO    : multi-lu-coil-modelling, (abstractsolver.py :100 ) - Solver validation ... complete\n",
      "2021-02-05 20:16:49 INFO    : multi-lu-coil-modelling, (abstractsolver.py :93  ) - Tubes validation ... complete\n",
      "2021-02-05 20:16:49 INFO    : multi-lu-coil-modelling, (interface.py      :140 ) - Received tubes:[\n",
      "\tTube(id='', d=89.0, th=11.45124626576759, th0=6.5, sigma=1e-05, mu=114.58162147004957),]\n",
      "2021-02-05 20:16:49 INFO    : multi-lu-coil-modelling, (interface.py      :144 ) - Mesh loading ... complete\n",
      "2021-02-05 20:16:51 INFO    : multi-lu-coil-modelling, (interface.py      :114 ) - Modelling tool averaging\n"
     ]
    },
    {
     "name": "stderr",
     "output_type": "stream",
     "text": [
      "2021-02-05 20:16:51 INFO    : multi-lu-coil-modelling, (interface.py      :172 ) - Done\n",
      "2021-02-05 20:16:51 INFO    : multi-lu-coil-modelling, (interface.py      :23  ) - Using cim-triangular solver\n",
      "2021-02-05 20:16:51 INFO    : multi-lu-coil-modelling, (abstractsolver.py :100 ) - Solver validation ... complete\n",
      "2021-02-05 20:16:51 INFO    : multi-lu-coil-modelling, (abstractsolver.py :93  ) - Tubes validation ... complete\n",
      "2021-02-05 20:16:51 INFO    : multi-lu-coil-modelling, (interface.py      :140 ) - Received tubes:[\n",
      "\tTube(id='', d=89.0, th=11.45124626576759, th0=6.5, sigma=8205327.562006988, mu=128.90431790380575),]\n",
      "2021-02-05 20:16:51 INFO    : multi-lu-coil-modelling, (interface.py      :144 ) - Mesh loading ... complete\n",
      "2021-02-05 20:16:52 INFO    : multi-lu-coil-modelling, (interface.py      :114 ) - Modelling tool averaging\n",
      "2021-02-05 20:16:52 INFO    : multi-lu-coil-modelling, (interface.py      :172 ) - Done\n",
      "2021-02-05 20:16:52 INFO    : multi-lu-coil-modelling, (interface.py      :23  ) - Using cim-triangular solver\n",
      "2021-02-05 20:16:52 INFO    : multi-lu-coil-modelling, (abstractsolver.py :100 ) - Solver validation ... complete\n",
      "2021-02-05 20:16:52 INFO    : multi-lu-coil-modelling, (abstractsolver.py :93  ) - Tubes validation ... complete\n",
      "2021-02-05 20:16:52 INFO    : multi-lu-coil-modelling, (interface.py      :140 ) - Received tubes:[\n",
      "\tTube(id='', d=89.0, th=11.45124626576759, th0=6.5, sigma=1e-05, mu=143.22702433756197),]\n",
      "2021-02-05 20:16:52 INFO    : multi-lu-coil-modelling, (interface.py      :144 ) - Mesh loading ... complete\n",
      "2021-02-05 20:16:54 INFO    : multi-lu-coil-modelling, (interface.py      :114 ) - Modelling tool averaging\n",
      "2021-02-05 20:16:54 INFO    : multi-lu-coil-modelling, (interface.py      :172 ) - Done\n",
      "2021-02-05 20:16:54 INFO    : multi-lu-coil-modelling, (interface.py      :23  ) - Using cim-triangular solver\n",
      "2021-02-05 20:16:54 INFO    : multi-lu-coil-modelling, (abstractsolver.py :100 ) - Solver validation ... complete\n",
      "2021-02-05 20:16:54 INFO    : multi-lu-coil-modelling, (abstractsolver.py :93  ) - Tubes validation ... complete\n",
      "2021-02-05 20:16:54 INFO    : multi-lu-coil-modelling, (interface.py      :140 ) - Received tubes:[\n",
      "\tTube(id='', d=89.0, th=11.45124626576759, th0=6.5, sigma=8205327.562006988, mu=128.90431790380575),]\n",
      "2021-02-05 20:16:54 INFO    : multi-lu-coil-modelling, (interface.py      :144 ) - Mesh loading ... complete\n",
      "2021-02-05 20:16:55 INFO    : multi-lu-coil-modelling, (interface.py      :114 ) - Modelling tool averaging\n",
      "2021-02-05 20:16:55 INFO    : multi-lu-coil-modelling, (interface.py      :172 ) - Done\n",
      "2021-02-05 20:16:55 INFO    : multi-lu-coil-modelling, (interface.py      :23  ) - Using cim-triangular solver\n",
      "2021-02-05 20:16:55 INFO    : multi-lu-coil-modelling, (abstractsolver.py :100 ) - Solver validation ... complete\n",
      "2021-02-05 20:16:55 INFO    : multi-lu-coil-modelling, (abstractsolver.py :93  ) - Tubes validation ... complete\n",
      "2021-02-05 20:16:55 INFO    : multi-lu-coil-modelling, (interface.py      :140 ) - Received tubes:[\n",
      "\tTube(id='', d=89.0, th=11.45124626576759, th0=6.5, sigma=1e-05, mu=171.87242720507436),]\n",
      "2021-02-05 20:16:55 INFO    : multi-lu-coil-modelling, (interface.py      :144 ) - Mesh loading ... complete\n",
      "2021-02-05 20:16:57 INFO    : multi-lu-coil-modelling, (interface.py      :114 ) - Modelling tool averaging\n",
      "2021-02-05 20:16:57 INFO    : multi-lu-coil-modelling, (interface.py      :172 ) - Done\n",
      "2021-02-05 20:16:57 INFO    : multi-lu-coil-modelling, (interface.py      :23  ) - Using cim-triangular solver\n",
      "2021-02-05 20:16:57 INFO    : multi-lu-coil-modelling, (abstractsolver.py :100 ) - Solver validation ... complete\n",
      "2021-02-05 20:16:57 INFO    : multi-lu-coil-modelling, (abstractsolver.py :93  ) - Tubes validation ... complete\n",
      "2021-02-05 20:16:57 INFO    : multi-lu-coil-modelling, (interface.py      :140 ) - Received tubes:[\n",
      "\tTube(id='', d=89.0, th=11.45124626576759, th0=6.5, sigma=8205327.562006988, mu=128.90431790380575),]\n",
      "2021-02-05 20:16:57 INFO    : multi-lu-coil-modelling, (interface.py      :144 ) - Mesh loading ... complete\n",
      "2021-02-05 20:16:59 INFO    : multi-lu-coil-modelling, (interface.py      :114 ) - Modelling tool averaging\n",
      "2021-02-05 20:16:59 INFO    : multi-lu-coil-modelling, (interface.py      :172 ) - Done\n",
      "2021-02-05 20:16:59 INFO    : multi-lu-coil-modelling, (interface.py      :23  ) - Using cim-triangular solver\n",
      "2021-02-05 20:16:59 INFO    : multi-lu-coil-modelling, (abstractsolver.py :100 ) - Solver validation ... complete\n",
      "2021-02-05 20:16:59 INFO    : multi-lu-coil-modelling, (abstractsolver.py :93  ) - Tubes validation ... complete\n",
      "2021-02-05 20:16:59 INFO    : multi-lu-coil-modelling, (interface.py      :140 ) - Received tubes:[\n",
      "\tTube(id='', d=89.0, th=11.45124626576759, th0=6.5, sigma=1e-05, mu=200.51783007258675),]\n",
      "2021-02-05 20:16:59 INFO    : multi-lu-coil-modelling, (interface.py      :144 ) - Mesh loading ... complete\n",
      "2021-02-05 20:17:00 INFO    : multi-lu-coil-modelling, (interface.py      :114 ) - Modelling tool averaging\n",
      "2021-02-05 20:17:00 INFO    : multi-lu-coil-modelling, (interface.py      :172 ) - Done\n",
      "2021-02-05 20:17:00 INFO    : multi-lu-coil-modelling, (interface.py      :23  ) - Using cim-triangular solver\n",
      "2021-02-05 20:17:00 INFO    : multi-lu-coil-modelling, (abstractsolver.py :100 ) - Solver validation ... complete\n",
      "2021-02-05 20:17:00 INFO    : multi-lu-coil-modelling, (abstractsolver.py :93  ) - Tubes validation ... complete\n",
      "2021-02-05 20:17:00 INFO    : multi-lu-coil-modelling, (interface.py      :140 ) - Received tubes:[\n",
      "\tTube(id='', d=89.0, th=11.45124626576759, th0=6.5, sigma=8205327.562006988, mu=128.90431790380575),]\n",
      "2021-02-05 20:17:00 INFO    : multi-lu-coil-modelling, (interface.py      :144 ) - Mesh loading ... complete\n",
      "2021-02-05 20:17:02 INFO    : multi-lu-coil-modelling, (interface.py      :114 ) - Modelling tool averaging\n",
      "2021-02-05 20:17:02 INFO    : multi-lu-coil-modelling, (interface.py      :172 ) - Done\n",
      "2021-02-05 20:17:02 INFO    : multi-lu-coil-modelling, (interface.py      :23  ) - Using cim-triangular solver\n",
      "2021-02-05 20:17:02 INFO    : multi-lu-coil-modelling, (abstractsolver.py :100 ) - Solver validation ... complete\n",
      "2021-02-05 20:17:02 INFO    : multi-lu-coil-modelling, (abstractsolver.py :93  ) - Tubes validation ... complete\n",
      "2021-02-05 20:17:02 INFO    : multi-lu-coil-modelling, (interface.py      :140 ) - Received tubes:[\n",
      "\tTube(id='', d=89.0, th=11.45124626576759, th0=6.5, sigma=1e-05, mu=229.16323294009914),]\n",
      "2021-02-05 20:17:02 INFO    : multi-lu-coil-modelling, (interface.py      :144 ) - Mesh loading ... complete\n",
      "2021-02-05 20:17:03 INFO    : multi-lu-coil-modelling, (interface.py      :114 ) - Modelling tool averaging\n",
      "2021-02-05 20:17:03 INFO    : multi-lu-coil-modelling, (interface.py      :172 ) - Done\n",
      "2021-02-05 20:17:04 INFO    : multi-lu-coil-modelling, (interface.py      :23  ) - Using cim-triangular solver\n",
      "2021-02-05 20:17:04 INFO    : multi-lu-coil-modelling, (abstractsolver.py :100 ) - Solver validation ... complete\n",
      "2021-02-05 20:17:04 INFO    : multi-lu-coil-modelling, (abstractsolver.py :93  ) - Tubes validation ... complete\n",
      "2021-02-05 20:17:04 INFO    : multi-lu-coil-modelling, (interface.py      :140 ) - Received tubes:[\n",
      "\tTube(id='', d=89.0, th=11.45124626576759, th0=6.5, sigma=8205327.562006988, mu=128.90431790380575),]\n",
      "2021-02-05 20:17:04 INFO    : multi-lu-coil-modelling, (interface.py      :144 ) - Mesh loading ... complete\n",
      "2021-02-05 20:17:05 INFO    : multi-lu-coil-modelling, (interface.py      :114 ) - Modelling tool averaging\n",
      "2021-02-05 20:17:05 INFO    : multi-lu-coil-modelling, (interface.py      :172 ) - Done\n",
      "2021-02-05 20:17:05 INFO    : multi-lu-coil-modelling, (interface.py      :23  ) - Using cim-triangular solver\n",
      "2021-02-05 20:17:05 INFO    : multi-lu-coil-modelling, (abstractsolver.py :100 ) - Solver validation ... complete\n",
      "2021-02-05 20:17:05 INFO    : multi-lu-coil-modelling, (abstractsolver.py :93  ) - Tubes validation ... complete\n",
      "2021-02-05 20:17:05 INFO    : multi-lu-coil-modelling, (interface.py      :140 ) - Received tubes:[\n",
      "\tTube(id='', d=89.0, th=11.45124626576759, th0=6.5, sigma=1e-05, mu=257.8086358076115),]\n",
      "2021-02-05 20:17:05 INFO    : multi-lu-coil-modelling, (interface.py      :144 ) - Mesh loading ... complete\n"
     ]
    },
    {
     "name": "stderr",
     "output_type": "stream",
     "text": [
      "2021-02-05 20:17:07 INFO    : multi-lu-coil-modelling, (interface.py      :114 ) - Modelling tool averaging\n",
      "2021-02-05 20:17:07 INFO    : multi-lu-coil-modelling, (interface.py      :172 ) - Done\n",
      "2021-02-05 20:17:07 INFO    : multi-lu-coil-modelling, (interface.py      :23  ) - Using cim-triangular solver\n",
      "2021-02-05 20:17:07 INFO    : multi-lu-coil-modelling, (abstractsolver.py :100 ) - Solver validation ... complete\n",
      "2021-02-05 20:17:07 INFO    : multi-lu-coil-modelling, (abstractsolver.py :93  ) - Tubes validation ... complete\n",
      "2021-02-05 20:17:07 INFO    : multi-lu-coil-modelling, (interface.py      :140 ) - Received tubes:[\n",
      "\tTube(id='', d=89.0, th=11.45124626576759, th0=6.5, sigma=8205327.562006988, mu=128.90431790380575),]\n",
      "2021-02-05 20:17:07 INFO    : multi-lu-coil-modelling, (interface.py      :144 ) - Mesh loading ... complete\n",
      "2021-02-05 20:17:08 INFO    : multi-lu-coil-modelling, (interface.py      :114 ) - Modelling tool averaging\n",
      "2021-02-05 20:17:08 INFO    : multi-lu-coil-modelling, (interface.py      :172 ) - Done\n",
      "2021-02-05 20:17:08 INFO    : multi-lu-coil-modelling, (interface.py      :23  ) - Using cim-triangular solver\n",
      "2021-02-05 20:17:08 INFO    : multi-lu-coil-modelling, (abstractsolver.py :100 ) - Solver validation ... complete\n",
      "2021-02-05 20:17:08 INFO    : multi-lu-coil-modelling, (abstractsolver.py :93  ) - Tubes validation ... complete\n",
      "2021-02-05 20:17:08 INFO    : multi-lu-coil-modelling, (interface.py      :140 ) - Received tubes:[\n",
      "\tTube(id='', d=89.0, th=11.45124626576759, th0=6.5, sigma=1823406.1248993305, mu=1e-05),]\n",
      "2021-02-05 20:17:08 INFO    : multi-lu-coil-modelling, (interface.py      :144 ) - Mesh loading ... complete\n",
      "2021-02-05 20:17:10 INFO    : multi-lu-coil-modelling, (interface.py      :114 ) - Modelling tool averaging\n",
      "2021-02-05 20:17:10 INFO    : multi-lu-coil-modelling, (interface.py      :172 ) - Done\n",
      "2021-02-05 20:17:10 INFO    : multi-lu-coil-modelling, (interface.py      :23  ) - Using cim-triangular solver\n",
      "2021-02-05 20:17:10 INFO    : multi-lu-coil-modelling, (abstractsolver.py :100 ) - Solver validation ... complete\n",
      "2021-02-05 20:17:10 INFO    : multi-lu-coil-modelling, (abstractsolver.py :93  ) - Tubes validation ... complete\n",
      "2021-02-05 20:17:10 INFO    : multi-lu-coil-modelling, (interface.py      :140 ) - Received tubes:[\n",
      "\tTube(id='', d=89.0, th=11.45124626576759, th0=6.5, sigma=8205327.562006988, mu=128.90431790380575),]\n",
      "2021-02-05 20:17:10 INFO    : multi-lu-coil-modelling, (interface.py      :144 ) - Mesh loading ... complete\n",
      "2021-02-05 20:17:11 INFO    : multi-lu-coil-modelling, (interface.py      :114 ) - Modelling tool averaging\n",
      "2021-02-05 20:17:11 INFO    : multi-lu-coil-modelling, (interface.py      :172 ) - Done\n",
      "2021-02-05 20:17:11 INFO    : multi-lu-coil-modelling, (interface.py      :23  ) - Using cim-triangular solver\n",
      "2021-02-05 20:17:11 INFO    : multi-lu-coil-modelling, (abstractsolver.py :100 ) - Solver validation ... complete\n",
      "2021-02-05 20:17:11 INFO    : multi-lu-coil-modelling, (abstractsolver.py :93  ) - Tubes validation ... complete\n",
      "2021-02-05 20:17:11 INFO    : multi-lu-coil-modelling, (interface.py      :140 ) - Received tubes:[\n",
      "\tTube(id='', d=89.0, th=11.45124626576759, th0=6.5, sigma=1823406.1248993305, mu=28.64541286751239),]\n",
      "2021-02-05 20:17:11 INFO    : multi-lu-coil-modelling, (interface.py      :144 ) - Mesh loading ... complete\n",
      "2021-02-05 20:17:13 INFO    : multi-lu-coil-modelling, (interface.py      :114 ) - Modelling tool averaging\n",
      "2021-02-05 20:17:13 INFO    : multi-lu-coil-modelling, (interface.py      :172 ) - Done\n",
      "2021-02-05 20:17:13 INFO    : multi-lu-coil-modelling, (interface.py      :23  ) - Using cim-triangular solver\n",
      "2021-02-05 20:17:13 INFO    : multi-lu-coil-modelling, (abstractsolver.py :100 ) - Solver validation ... complete\n",
      "2021-02-05 20:17:13 INFO    : multi-lu-coil-modelling, (abstractsolver.py :93  ) - Tubes validation ... complete\n",
      "2021-02-05 20:17:13 INFO    : multi-lu-coil-modelling, (interface.py      :140 ) - Received tubes:[\n",
      "\tTube(id='', d=89.0, th=11.45124626576759, th0=6.5, sigma=8205327.562006988, mu=128.90431790380575),]\n",
      "2021-02-05 20:17:13 INFO    : multi-lu-coil-modelling, (interface.py      :144 ) - Mesh loading ... complete\n",
      "2021-02-05 20:17:14 INFO    : multi-lu-coil-modelling, (interface.py      :114 ) - Modelling tool averaging\n",
      "2021-02-05 20:17:14 INFO    : multi-lu-coil-modelling, (interface.py      :172 ) - Done\n",
      "2021-02-05 20:17:14 INFO    : multi-lu-coil-modelling, (interface.py      :23  ) - Using cim-triangular solver\n",
      "2021-02-05 20:17:14 INFO    : multi-lu-coil-modelling, (abstractsolver.py :100 ) - Solver validation ... complete\n",
      "2021-02-05 20:17:14 INFO    : multi-lu-coil-modelling, (abstractsolver.py :93  ) - Tubes validation ... complete\n",
      "2021-02-05 20:17:14 INFO    : multi-lu-coil-modelling, (interface.py      :140 ) - Received tubes:[\n",
      "\tTube(id='', d=89.0, th=11.45124626576759, th0=6.5, sigma=1823406.1248993305, mu=57.290815735024786),]\n",
      "2021-02-05 20:17:14 INFO    : multi-lu-coil-modelling, (interface.py      :144 ) - Mesh loading ... complete\n",
      "2021-02-05 20:17:16 INFO    : multi-lu-coil-modelling, (interface.py      :114 ) - Modelling tool averaging\n",
      "2021-02-05 20:17:16 INFO    : multi-lu-coil-modelling, (interface.py      :172 ) - Done\n",
      "2021-02-05 20:17:16 INFO    : multi-lu-coil-modelling, (interface.py      :23  ) - Using cim-triangular solver\n",
      "2021-02-05 20:17:16 INFO    : multi-lu-coil-modelling, (abstractsolver.py :100 ) - Solver validation ... complete\n",
      "2021-02-05 20:17:16 INFO    : multi-lu-coil-modelling, (abstractsolver.py :93  ) - Tubes validation ... complete\n",
      "2021-02-05 20:17:16 INFO    : multi-lu-coil-modelling, (interface.py      :140 ) - Received tubes:[\n",
      "\tTube(id='', d=89.0, th=11.45124626576759, th0=6.5, sigma=8205327.562006988, mu=128.90431790380575),]\n",
      "2021-02-05 20:17:16 INFO    : multi-lu-coil-modelling, (interface.py      :144 ) - Mesh loading ... complete\n",
      "2021-02-05 20:17:18 INFO    : multi-lu-coil-modelling, (interface.py      :114 ) - Modelling tool averaging\n",
      "2021-02-05 20:17:18 INFO    : multi-lu-coil-modelling, (interface.py      :172 ) - Done\n",
      "2021-02-05 20:17:18 INFO    : multi-lu-coil-modelling, (interface.py      :23  ) - Using cim-triangular solver\n",
      "2021-02-05 20:17:18 INFO    : multi-lu-coil-modelling, (abstractsolver.py :100 ) - Solver validation ... complete\n",
      "2021-02-05 20:17:18 INFO    : multi-lu-coil-modelling, (abstractsolver.py :93  ) - Tubes validation ... complete\n",
      "2021-02-05 20:17:18 INFO    : multi-lu-coil-modelling, (interface.py      :140 ) - Received tubes:[\n",
      "\tTube(id='', d=89.0, th=11.45124626576759, th0=6.5, sigma=1823406.1248993305, mu=85.93621860253718),]\n",
      "2021-02-05 20:17:18 INFO    : multi-lu-coil-modelling, (interface.py      :144 ) - Mesh loading ... complete\n",
      "2021-02-05 20:17:19 INFO    : multi-lu-coil-modelling, (interface.py      :114 ) - Modelling tool averaging\n",
      "2021-02-05 20:17:19 INFO    : multi-lu-coil-modelling, (interface.py      :172 ) - Done\n",
      "2021-02-05 20:17:19 INFO    : multi-lu-coil-modelling, (interface.py      :23  ) - Using cim-triangular solver\n",
      "2021-02-05 20:17:19 INFO    : multi-lu-coil-modelling, (abstractsolver.py :100 ) - Solver validation ... complete\n",
      "2021-02-05 20:17:19 INFO    : multi-lu-coil-modelling, (abstractsolver.py :93  ) - Tubes validation ... complete\n",
      "2021-02-05 20:17:19 INFO    : multi-lu-coil-modelling, (interface.py      :140 ) - Received tubes:[\n",
      "\tTube(id='', d=89.0, th=11.45124626576759, th0=6.5, sigma=8205327.562006988, mu=128.90431790380575),]\n",
      "2021-02-05 20:17:19 INFO    : multi-lu-coil-modelling, (interface.py      :144 ) - Mesh loading ... complete\n",
      "2021-02-05 20:17:21 INFO    : multi-lu-coil-modelling, (interface.py      :114 ) - Modelling tool averaging\n",
      "2021-02-05 20:17:21 INFO    : multi-lu-coil-modelling, (interface.py      :172 ) - Done\n",
      "2021-02-05 20:17:21 INFO    : multi-lu-coil-modelling, (interface.py      :23  ) - Using cim-triangular solver\n",
      "2021-02-05 20:17:21 INFO    : multi-lu-coil-modelling, (abstractsolver.py :100 ) - Solver validation ... complete\n",
      "2021-02-05 20:17:21 INFO    : multi-lu-coil-modelling, (abstractsolver.py :93  ) - Tubes validation ... complete\n",
      "2021-02-05 20:17:21 INFO    : multi-lu-coil-modelling, (interface.py      :140 ) - Received tubes:[\n",
      "\tTube(id='', d=89.0, th=11.45124626576759, th0=6.5, sigma=1823406.1248993305, mu=114.58162147004957),]\n"
     ]
    },
    {
     "name": "stderr",
     "output_type": "stream",
     "text": [
      "2021-02-05 20:17:21 INFO    : multi-lu-coil-modelling, (interface.py      :144 ) - Mesh loading ... complete\n",
      "2021-02-05 20:17:22 INFO    : multi-lu-coil-modelling, (interface.py      :114 ) - Modelling tool averaging\n",
      "2021-02-05 20:17:22 INFO    : multi-lu-coil-modelling, (interface.py      :172 ) - Done\n",
      "2021-02-05 20:17:22 INFO    : multi-lu-coil-modelling, (interface.py      :23  ) - Using cim-triangular solver\n",
      "2021-02-05 20:17:22 INFO    : multi-lu-coil-modelling, (abstractsolver.py :100 ) - Solver validation ... complete\n",
      "2021-02-05 20:17:22 INFO    : multi-lu-coil-modelling, (abstractsolver.py :93  ) - Tubes validation ... complete\n",
      "2021-02-05 20:17:22 INFO    : multi-lu-coil-modelling, (interface.py      :140 ) - Received tubes:[\n",
      "\tTube(id='', d=89.0, th=11.45124626576759, th0=6.5, sigma=8205327.562006988, mu=128.90431790380575),]\n",
      "2021-02-05 20:17:22 INFO    : multi-lu-coil-modelling, (interface.py      :144 ) - Mesh loading ... complete\n",
      "2021-02-05 20:17:24 INFO    : multi-lu-coil-modelling, (interface.py      :114 ) - Modelling tool averaging\n",
      "2021-02-05 20:17:24 INFO    : multi-lu-coil-modelling, (interface.py      :172 ) - Done\n",
      "2021-02-05 20:17:24 INFO    : multi-lu-coil-modelling, (interface.py      :23  ) - Using cim-triangular solver\n",
      "2021-02-05 20:17:24 INFO    : multi-lu-coil-modelling, (abstractsolver.py :100 ) - Solver validation ... complete\n",
      "2021-02-05 20:17:24 INFO    : multi-lu-coil-modelling, (abstractsolver.py :93  ) - Tubes validation ... complete\n",
      "2021-02-05 20:17:24 INFO    : multi-lu-coil-modelling, (interface.py      :140 ) - Received tubes:[\n",
      "\tTube(id='', d=89.0, th=11.45124626576759, th0=6.5, sigma=1823406.1248993305, mu=143.22702433756197),]\n",
      "2021-02-05 20:17:24 INFO    : multi-lu-coil-modelling, (interface.py      :144 ) - Mesh loading ... complete\n",
      "2021-02-05 20:17:25 INFO    : multi-lu-coil-modelling, (interface.py      :114 ) - Modelling tool averaging\n",
      "2021-02-05 20:17:25 INFO    : multi-lu-coil-modelling, (interface.py      :172 ) - Done\n",
      "2021-02-05 20:17:25 INFO    : multi-lu-coil-modelling, (interface.py      :23  ) - Using cim-triangular solver\n",
      "2021-02-05 20:17:25 INFO    : multi-lu-coil-modelling, (abstractsolver.py :100 ) - Solver validation ... complete\n",
      "2021-02-05 20:17:25 INFO    : multi-lu-coil-modelling, (abstractsolver.py :93  ) - Tubes validation ... complete\n",
      "2021-02-05 20:17:25 INFO    : multi-lu-coil-modelling, (interface.py      :140 ) - Received tubes:[\n",
      "\tTube(id='', d=89.0, th=11.45124626576759, th0=6.5, sigma=8205327.562006988, mu=128.90431790380575),]\n",
      "2021-02-05 20:17:25 INFO    : multi-lu-coil-modelling, (interface.py      :144 ) - Mesh loading ... complete\n",
      "2021-02-05 20:17:27 INFO    : multi-lu-coil-modelling, (interface.py      :114 ) - Modelling tool averaging\n",
      "2021-02-05 20:17:27 INFO    : multi-lu-coil-modelling, (interface.py      :172 ) - Done\n",
      "2021-02-05 20:17:27 INFO    : multi-lu-coil-modelling, (interface.py      :23  ) - Using cim-triangular solver\n",
      "2021-02-05 20:17:27 INFO    : multi-lu-coil-modelling, (abstractsolver.py :100 ) - Solver validation ... complete\n",
      "2021-02-05 20:17:27 INFO    : multi-lu-coil-modelling, (abstractsolver.py :93  ) - Tubes validation ... complete\n",
      "2021-02-05 20:17:27 INFO    : multi-lu-coil-modelling, (interface.py      :140 ) - Received tubes:[\n",
      "\tTube(id='', d=89.0, th=11.45124626576759, th0=6.5, sigma=1823406.1248993305, mu=171.87242720507436),]\n",
      "2021-02-05 20:17:27 INFO    : multi-lu-coil-modelling, (interface.py      :144 ) - Mesh loading ... complete\n",
      "2021-02-05 20:17:29 INFO    : multi-lu-coil-modelling, (interface.py      :114 ) - Modelling tool averaging\n",
      "2021-02-05 20:17:29 INFO    : multi-lu-coil-modelling, (interface.py      :172 ) - Done\n",
      "2021-02-05 20:17:29 INFO    : multi-lu-coil-modelling, (interface.py      :23  ) - Using cim-triangular solver\n",
      "2021-02-05 20:17:29 INFO    : multi-lu-coil-modelling, (abstractsolver.py :100 ) - Solver validation ... complete\n",
      "2021-02-05 20:17:29 INFO    : multi-lu-coil-modelling, (abstractsolver.py :93  ) - Tubes validation ... complete\n",
      "2021-02-05 20:17:29 INFO    : multi-lu-coil-modelling, (interface.py      :140 ) - Received tubes:[\n",
      "\tTube(id='', d=89.0, th=11.45124626576759, th0=6.5, sigma=8205327.562006988, mu=128.90431790380575),]\n",
      "2021-02-05 20:17:29 INFO    : multi-lu-coil-modelling, (interface.py      :144 ) - Mesh loading ... complete\n",
      "2021-02-05 20:17:30 INFO    : multi-lu-coil-modelling, (interface.py      :114 ) - Modelling tool averaging\n",
      "2021-02-05 20:17:30 INFO    : multi-lu-coil-modelling, (interface.py      :172 ) - Done\n",
      "2021-02-05 20:17:30 INFO    : multi-lu-coil-modelling, (interface.py      :23  ) - Using cim-triangular solver\n",
      "2021-02-05 20:17:30 INFO    : multi-lu-coil-modelling, (abstractsolver.py :100 ) - Solver validation ... complete\n",
      "2021-02-05 20:17:30 INFO    : multi-lu-coil-modelling, (abstractsolver.py :93  ) - Tubes validation ... complete\n",
      "2021-02-05 20:17:30 INFO    : multi-lu-coil-modelling, (interface.py      :140 ) - Received tubes:[\n",
      "\tTube(id='', d=89.0, th=11.45124626576759, th0=6.5, sigma=1823406.1248993305, mu=200.51783007258675),]\n",
      "2021-02-05 20:17:30 INFO    : multi-lu-coil-modelling, (interface.py      :144 ) - Mesh loading ... complete\n",
      "2021-02-05 20:17:32 INFO    : multi-lu-coil-modelling, (interface.py      :114 ) - Modelling tool averaging\n",
      "2021-02-05 20:17:32 INFO    : multi-lu-coil-modelling, (interface.py      :172 ) - Done\n",
      "2021-02-05 20:17:32 INFO    : multi-lu-coil-modelling, (interface.py      :23  ) - Using cim-triangular solver\n",
      "2021-02-05 20:17:32 INFO    : multi-lu-coil-modelling, (abstractsolver.py :100 ) - Solver validation ... complete\n",
      "2021-02-05 20:17:32 INFO    : multi-lu-coil-modelling, (abstractsolver.py :93  ) - Tubes validation ... complete\n",
      "2021-02-05 20:17:32 INFO    : multi-lu-coil-modelling, (interface.py      :140 ) - Received tubes:[\n",
      "\tTube(id='', d=89.0, th=11.45124626576759, th0=6.5, sigma=8205327.562006988, mu=128.90431790380575),]\n",
      "2021-02-05 20:17:32 INFO    : multi-lu-coil-modelling, (interface.py      :144 ) - Mesh loading ... complete\n",
      "2021-02-05 20:17:33 INFO    : multi-lu-coil-modelling, (interface.py      :114 ) - Modelling tool averaging\n",
      "2021-02-05 20:17:33 INFO    : multi-lu-coil-modelling, (interface.py      :172 ) - Done\n",
      "2021-02-05 20:17:33 INFO    : multi-lu-coil-modelling, (interface.py      :23  ) - Using cim-triangular solver\n",
      "2021-02-05 20:17:33 INFO    : multi-lu-coil-modelling, (abstractsolver.py :100 ) - Solver validation ... complete\n",
      "2021-02-05 20:17:33 INFO    : multi-lu-coil-modelling, (abstractsolver.py :93  ) - Tubes validation ... complete\n",
      "2021-02-05 20:17:33 INFO    : multi-lu-coil-modelling, (interface.py      :140 ) - Received tubes:[\n",
      "\tTube(id='', d=89.0, th=11.45124626576759, th0=6.5, sigma=1823406.1248993305, mu=229.16323294009914),]\n",
      "2021-02-05 20:17:33 INFO    : multi-lu-coil-modelling, (interface.py      :144 ) - Mesh loading ... complete\n",
      "2021-02-05 20:17:35 INFO    : multi-lu-coil-modelling, (interface.py      :114 ) - Modelling tool averaging\n",
      "2021-02-05 20:17:35 INFO    : multi-lu-coil-modelling, (interface.py      :172 ) - Done\n",
      "2021-02-05 20:17:35 INFO    : multi-lu-coil-modelling, (interface.py      :23  ) - Using cim-triangular solver\n",
      "2021-02-05 20:17:35 INFO    : multi-lu-coil-modelling, (abstractsolver.py :100 ) - Solver validation ... complete\n",
      "2021-02-05 20:17:35 INFO    : multi-lu-coil-modelling, (abstractsolver.py :93  ) - Tubes validation ... complete\n",
      "2021-02-05 20:17:35 INFO    : multi-lu-coil-modelling, (interface.py      :140 ) - Received tubes:[\n",
      "\tTube(id='', d=89.0, th=11.45124626576759, th0=6.5, sigma=8205327.562006988, mu=128.90431790380575),]\n",
      "2021-02-05 20:17:35 INFO    : multi-lu-coil-modelling, (interface.py      :144 ) - Mesh loading ... complete\n",
      "2021-02-05 20:17:36 INFO    : multi-lu-coil-modelling, (interface.py      :114 ) - Modelling tool averaging\n",
      "2021-02-05 20:17:36 INFO    : multi-lu-coil-modelling, (interface.py      :172 ) - Done\n",
      "2021-02-05 20:17:36 INFO    : multi-lu-coil-modelling, (interface.py      :23  ) - Using cim-triangular solver\n",
      "2021-02-05 20:17:36 INFO    : multi-lu-coil-modelling, (abstractsolver.py :100 ) - Solver validation ... complete\n",
      "2021-02-05 20:17:36 INFO    : multi-lu-coil-modelling, (abstractsolver.py :93  ) - Tubes validation ... complete\n"
     ]
    },
    {
     "name": "stderr",
     "output_type": "stream",
     "text": [
      "2021-02-05 20:17:36 INFO    : multi-lu-coil-modelling, (interface.py      :140 ) - Received tubes:[\n",
      "\tTube(id='', d=89.0, th=11.45124626576759, th0=6.5, sigma=1823406.1248993305, mu=257.8086358076115),]\n",
      "2021-02-05 20:17:36 INFO    : multi-lu-coil-modelling, (interface.py      :144 ) - Mesh loading ... complete\n",
      "2021-02-05 20:17:38 INFO    : multi-lu-coil-modelling, (interface.py      :114 ) - Modelling tool averaging\n",
      "2021-02-05 20:17:38 INFO    : multi-lu-coil-modelling, (interface.py      :172 ) - Done\n",
      "2021-02-05 20:17:38 INFO    : multi-lu-coil-modelling, (interface.py      :23  ) - Using cim-triangular solver\n",
      "2021-02-05 20:17:38 INFO    : multi-lu-coil-modelling, (abstractsolver.py :100 ) - Solver validation ... complete\n",
      "2021-02-05 20:17:38 INFO    : multi-lu-coil-modelling, (abstractsolver.py :93  ) - Tubes validation ... complete\n",
      "2021-02-05 20:17:38 INFO    : multi-lu-coil-modelling, (interface.py      :140 ) - Received tubes:[\n",
      "\tTube(id='', d=89.0, th=11.45124626576759, th0=6.5, sigma=8205327.562006988, mu=128.90431790380575),]\n",
      "2021-02-05 20:17:38 INFO    : multi-lu-coil-modelling, (interface.py      :144 ) - Mesh loading ... complete\n",
      "2021-02-05 20:17:39 INFO    : multi-lu-coil-modelling, (interface.py      :114 ) - Modelling tool averaging\n",
      "2021-02-05 20:17:39 INFO    : multi-lu-coil-modelling, (interface.py      :172 ) - Done\n",
      "2021-02-05 20:17:39 INFO    : multi-lu-coil-modelling, (interface.py      :23  ) - Using cim-triangular solver\n",
      "2021-02-05 20:17:39 INFO    : multi-lu-coil-modelling, (abstractsolver.py :100 ) - Solver validation ... complete\n",
      "2021-02-05 20:17:39 INFO    : multi-lu-coil-modelling, (abstractsolver.py :93  ) - Tubes validation ... complete\n",
      "2021-02-05 20:17:39 INFO    : multi-lu-coil-modelling, (interface.py      :140 ) - Received tubes:[\n",
      "\tTube(id='', d=89.0, th=11.45124626576759, th0=6.5, sigma=3646812.249788661, mu=1e-05),]\n",
      "2021-02-05 20:17:39 INFO    : multi-lu-coil-modelling, (interface.py      :144 ) - Mesh loading ... complete\n",
      "2021-02-05 20:17:41 INFO    : multi-lu-coil-modelling, (interface.py      :114 ) - Modelling tool averaging\n",
      "2021-02-05 20:17:41 INFO    : multi-lu-coil-modelling, (interface.py      :172 ) - Done\n",
      "2021-02-05 20:17:41 INFO    : multi-lu-coil-modelling, (interface.py      :23  ) - Using cim-triangular solver\n",
      "2021-02-05 20:17:41 INFO    : multi-lu-coil-modelling, (abstractsolver.py :100 ) - Solver validation ... complete\n",
      "2021-02-05 20:17:41 INFO    : multi-lu-coil-modelling, (abstractsolver.py :93  ) - Tubes validation ... complete\n",
      "2021-02-05 20:17:41 INFO    : multi-lu-coil-modelling, (interface.py      :140 ) - Received tubes:[\n",
      "\tTube(id='', d=89.0, th=11.45124626576759, th0=6.5, sigma=8205327.562006988, mu=128.90431790380575),]\n",
      "2021-02-05 20:17:41 INFO    : multi-lu-coil-modelling, (interface.py      :144 ) - Mesh loading ... complete\n",
      "2021-02-05 20:17:42 INFO    : multi-lu-coil-modelling, (interface.py      :114 ) - Modelling tool averaging\n",
      "2021-02-05 20:17:43 INFO    : multi-lu-coil-modelling, (interface.py      :172 ) - Done\n",
      "2021-02-05 20:17:43 INFO    : multi-lu-coil-modelling, (interface.py      :23  ) - Using cim-triangular solver\n",
      "2021-02-05 20:17:43 INFO    : multi-lu-coil-modelling, (abstractsolver.py :100 ) - Solver validation ... complete\n",
      "2021-02-05 20:17:43 INFO    : multi-lu-coil-modelling, (abstractsolver.py :93  ) - Tubes validation ... complete\n",
      "2021-02-05 20:17:43 INFO    : multi-lu-coil-modelling, (interface.py      :140 ) - Received tubes:[\n",
      "\tTube(id='', d=89.0, th=11.45124626576759, th0=6.5, sigma=3646812.249788661, mu=28.64541286751239),]\n",
      "2021-02-05 20:17:43 INFO    : multi-lu-coil-modelling, (interface.py      :144 ) - Mesh loading ... complete\n",
      "2021-02-05 20:17:44 INFO    : multi-lu-coil-modelling, (interface.py      :114 ) - Modelling tool averaging\n",
      "2021-02-05 20:17:44 INFO    : multi-lu-coil-modelling, (interface.py      :172 ) - Done\n",
      "2021-02-05 20:17:44 INFO    : multi-lu-coil-modelling, (interface.py      :23  ) - Using cim-triangular solver\n",
      "2021-02-05 20:17:44 INFO    : multi-lu-coil-modelling, (abstractsolver.py :100 ) - Solver validation ... complete\n",
      "2021-02-05 20:17:44 INFO    : multi-lu-coil-modelling, (abstractsolver.py :93  ) - Tubes validation ... complete\n",
      "2021-02-05 20:17:44 INFO    : multi-lu-coil-modelling, (interface.py      :140 ) - Received tubes:[\n",
      "\tTube(id='', d=89.0, th=11.45124626576759, th0=6.5, sigma=8205327.562006988, mu=128.90431790380575),]\n",
      "2021-02-05 20:17:44 INFO    : multi-lu-coil-modelling, (interface.py      :144 ) - Mesh loading ... complete\n",
      "2021-02-05 20:17:46 INFO    : multi-lu-coil-modelling, (interface.py      :114 ) - Modelling tool averaging\n",
      "2021-02-05 20:17:46 INFO    : multi-lu-coil-modelling, (interface.py      :172 ) - Done\n",
      "2021-02-05 20:17:46 INFO    : multi-lu-coil-modelling, (interface.py      :23  ) - Using cim-triangular solver\n",
      "2021-02-05 20:17:46 INFO    : multi-lu-coil-modelling, (abstractsolver.py :100 ) - Solver validation ... complete\n",
      "2021-02-05 20:17:46 INFO    : multi-lu-coil-modelling, (abstractsolver.py :93  ) - Tubes validation ... complete\n",
      "2021-02-05 20:17:46 INFO    : multi-lu-coil-modelling, (interface.py      :140 ) - Received tubes:[\n",
      "\tTube(id='', d=89.0, th=11.45124626576759, th0=6.5, sigma=3646812.249788661, mu=57.290815735024786),]\n",
      "2021-02-05 20:17:46 INFO    : multi-lu-coil-modelling, (interface.py      :144 ) - Mesh loading ... complete\n",
      "2021-02-05 20:17:47 INFO    : multi-lu-coil-modelling, (interface.py      :114 ) - Modelling tool averaging\n",
      "2021-02-05 20:17:47 INFO    : multi-lu-coil-modelling, (interface.py      :172 ) - Done\n",
      "2021-02-05 20:17:47 INFO    : multi-lu-coil-modelling, (interface.py      :23  ) - Using cim-triangular solver\n",
      "2021-02-05 20:17:47 INFO    : multi-lu-coil-modelling, (abstractsolver.py :100 ) - Solver validation ... complete\n",
      "2021-02-05 20:17:47 INFO    : multi-lu-coil-modelling, (abstractsolver.py :93  ) - Tubes validation ... complete\n",
      "2021-02-05 20:17:47 INFO    : multi-lu-coil-modelling, (interface.py      :140 ) - Received tubes:[\n",
      "\tTube(id='', d=89.0, th=11.45124626576759, th0=6.5, sigma=8205327.562006988, mu=128.90431790380575),]\n",
      "2021-02-05 20:17:47 INFO    : multi-lu-coil-modelling, (interface.py      :144 ) - Mesh loading ... complete\n",
      "2021-02-05 20:17:49 INFO    : multi-lu-coil-modelling, (interface.py      :114 ) - Modelling tool averaging\n",
      "2021-02-05 20:17:49 INFO    : multi-lu-coil-modelling, (interface.py      :172 ) - Done\n",
      "2021-02-05 20:17:49 INFO    : multi-lu-coil-modelling, (interface.py      :23  ) - Using cim-triangular solver\n",
      "2021-02-05 20:17:49 INFO    : multi-lu-coil-modelling, (abstractsolver.py :100 ) - Solver validation ... complete\n",
      "2021-02-05 20:17:49 INFO    : multi-lu-coil-modelling, (abstractsolver.py :93  ) - Tubes validation ... complete\n",
      "2021-02-05 20:17:49 INFO    : multi-lu-coil-modelling, (interface.py      :140 ) - Received tubes:[\n",
      "\tTube(id='', d=89.0, th=11.45124626576759, th0=6.5, sigma=3646812.249788661, mu=85.93621860253718),]\n",
      "2021-02-05 20:17:49 INFO    : multi-lu-coil-modelling, (interface.py      :144 ) - Mesh loading ... complete\n",
      "2021-02-05 20:17:50 INFO    : multi-lu-coil-modelling, (interface.py      :114 ) - Modelling tool averaging\n",
      "2021-02-05 20:17:50 INFO    : multi-lu-coil-modelling, (interface.py      :172 ) - Done\n",
      "2021-02-05 20:17:50 INFO    : multi-lu-coil-modelling, (interface.py      :23  ) - Using cim-triangular solver\n",
      "2021-02-05 20:17:50 INFO    : multi-lu-coil-modelling, (abstractsolver.py :100 ) - Solver validation ... complete\n",
      "2021-02-05 20:17:50 INFO    : multi-lu-coil-modelling, (abstractsolver.py :93  ) - Tubes validation ... complete\n",
      "2021-02-05 20:17:50 INFO    : multi-lu-coil-modelling, (interface.py      :140 ) - Received tubes:[\n",
      "\tTube(id='', d=89.0, th=11.45124626576759, th0=6.5, sigma=8205327.562006988, mu=128.90431790380575),]\n",
      "2021-02-05 20:17:50 INFO    : multi-lu-coil-modelling, (interface.py      :144 ) - Mesh loading ... complete\n",
      "2021-02-05 20:17:52 INFO    : multi-lu-coil-modelling, (interface.py      :114 ) - Modelling tool averaging\n",
      "2021-02-05 20:17:52 INFO    : multi-lu-coil-modelling, (interface.py      :172 ) - Done\n",
      "2021-02-05 20:17:52 INFO    : multi-lu-coil-modelling, (interface.py      :23  ) - Using cim-triangular solver\n"
     ]
    },
    {
     "name": "stderr",
     "output_type": "stream",
     "text": [
      "2021-02-05 20:17:52 INFO    : multi-lu-coil-modelling, (abstractsolver.py :100 ) - Solver validation ... complete\n",
      "2021-02-05 20:17:52 INFO    : multi-lu-coil-modelling, (abstractsolver.py :93  ) - Tubes validation ... complete\n",
      "2021-02-05 20:17:52 INFO    : multi-lu-coil-modelling, (interface.py      :140 ) - Received tubes:[\n",
      "\tTube(id='', d=89.0, th=11.45124626576759, th0=6.5, sigma=3646812.249788661, mu=114.58162147004957),]\n",
      "2021-02-05 20:17:52 INFO    : multi-lu-coil-modelling, (interface.py      :144 ) - Mesh loading ... complete\n",
      "2021-02-05 20:17:53 INFO    : multi-lu-coil-modelling, (interface.py      :114 ) - Modelling tool averaging\n",
      "2021-02-05 20:17:53 INFO    : multi-lu-coil-modelling, (interface.py      :172 ) - Done\n",
      "2021-02-05 20:17:53 INFO    : multi-lu-coil-modelling, (interface.py      :23  ) - Using cim-triangular solver\n",
      "2021-02-05 20:17:53 INFO    : multi-lu-coil-modelling, (abstractsolver.py :100 ) - Solver validation ... complete\n",
      "2021-02-05 20:17:53 INFO    : multi-lu-coil-modelling, (abstractsolver.py :93  ) - Tubes validation ... complete\n",
      "2021-02-05 20:17:53 INFO    : multi-lu-coil-modelling, (interface.py      :140 ) - Received tubes:[\n",
      "\tTube(id='', d=89.0, th=11.45124626576759, th0=6.5, sigma=8205327.562006988, mu=128.90431790380575),]\n",
      "2021-02-05 20:17:53 INFO    : multi-lu-coil-modelling, (interface.py      :144 ) - Mesh loading ... complete\n",
      "2021-02-05 20:17:55 INFO    : multi-lu-coil-modelling, (interface.py      :114 ) - Modelling tool averaging\n",
      "2021-02-05 20:17:55 INFO    : multi-lu-coil-modelling, (interface.py      :172 ) - Done\n",
      "2021-02-05 20:17:55 INFO    : multi-lu-coil-modelling, (interface.py      :23  ) - Using cim-triangular solver\n",
      "2021-02-05 20:17:55 INFO    : multi-lu-coil-modelling, (abstractsolver.py :100 ) - Solver validation ... complete\n",
      "2021-02-05 20:17:55 INFO    : multi-lu-coil-modelling, (abstractsolver.py :93  ) - Tubes validation ... complete\n",
      "2021-02-05 20:17:55 INFO    : multi-lu-coil-modelling, (interface.py      :140 ) - Received tubes:[\n",
      "\tTube(id='', d=89.0, th=11.45124626576759, th0=6.5, sigma=3646812.249788661, mu=143.22702433756197),]\n",
      "2021-02-05 20:17:55 INFO    : multi-lu-coil-modelling, (interface.py      :144 ) - Mesh loading ... complete\n",
      "2021-02-05 20:17:57 INFO    : multi-lu-coil-modelling, (interface.py      :114 ) - Modelling tool averaging\n",
      "2021-02-05 20:17:57 INFO    : multi-lu-coil-modelling, (interface.py      :172 ) - Done\n",
      "2021-02-05 20:17:57 INFO    : multi-lu-coil-modelling, (interface.py      :23  ) - Using cim-triangular solver\n",
      "2021-02-05 20:17:57 INFO    : multi-lu-coil-modelling, (abstractsolver.py :100 ) - Solver validation ... complete\n",
      "2021-02-05 20:17:57 INFO    : multi-lu-coil-modelling, (abstractsolver.py :93  ) - Tubes validation ... complete\n",
      "2021-02-05 20:17:57 INFO    : multi-lu-coil-modelling, (interface.py      :140 ) - Received tubes:[\n",
      "\tTube(id='', d=89.0, th=11.45124626576759, th0=6.5, sigma=8205327.562006988, mu=128.90431790380575),]\n",
      "2021-02-05 20:17:57 INFO    : multi-lu-coil-modelling, (interface.py      :144 ) - Mesh loading ... complete\n",
      "2021-02-05 20:17:58 INFO    : multi-lu-coil-modelling, (interface.py      :114 ) - Modelling tool averaging\n",
      "2021-02-05 20:17:58 INFO    : multi-lu-coil-modelling, (interface.py      :172 ) - Done\n",
      "2021-02-05 20:17:58 INFO    : multi-lu-coil-modelling, (interface.py      :23  ) - Using cim-triangular solver\n",
      "2021-02-05 20:17:58 INFO    : multi-lu-coil-modelling, (abstractsolver.py :100 ) - Solver validation ... complete\n",
      "2021-02-05 20:17:58 INFO    : multi-lu-coil-modelling, (abstractsolver.py :93  ) - Tubes validation ... complete\n",
      "2021-02-05 20:17:58 INFO    : multi-lu-coil-modelling, (interface.py      :140 ) - Received tubes:[\n",
      "\tTube(id='', d=89.0, th=11.45124626576759, th0=6.5, sigma=3646812.249788661, mu=171.87242720507436),]\n",
      "2021-02-05 20:17:58 INFO    : multi-lu-coil-modelling, (interface.py      :144 ) - Mesh loading ... complete\n",
      "2021-02-05 20:18:00 INFO    : multi-lu-coil-modelling, (interface.py      :114 ) - Modelling tool averaging\n",
      "2021-02-05 20:18:00 INFO    : multi-lu-coil-modelling, (interface.py      :172 ) - Done\n",
      "2021-02-05 20:18:00 INFO    : multi-lu-coil-modelling, (interface.py      :23  ) - Using cim-triangular solver\n",
      "2021-02-05 20:18:00 INFO    : multi-lu-coil-modelling, (abstractsolver.py :100 ) - Solver validation ... complete\n",
      "2021-02-05 20:18:00 INFO    : multi-lu-coil-modelling, (abstractsolver.py :93  ) - Tubes validation ... complete\n",
      "2021-02-05 20:18:00 INFO    : multi-lu-coil-modelling, (interface.py      :140 ) - Received tubes:[\n",
      "\tTube(id='', d=89.0, th=11.45124626576759, th0=6.5, sigma=8205327.562006988, mu=128.90431790380575),]\n",
      "2021-02-05 20:18:00 INFO    : multi-lu-coil-modelling, (interface.py      :144 ) - Mesh loading ... complete\n",
      "2021-02-05 20:18:01 INFO    : multi-lu-coil-modelling, (interface.py      :114 ) - Modelling tool averaging\n",
      "2021-02-05 20:18:01 INFO    : multi-lu-coil-modelling, (interface.py      :172 ) - Done\n",
      "2021-02-05 20:18:01 INFO    : multi-lu-coil-modelling, (interface.py      :23  ) - Using cim-triangular solver\n",
      "2021-02-05 20:18:01 INFO    : multi-lu-coil-modelling, (abstractsolver.py :100 ) - Solver validation ... complete\n",
      "2021-02-05 20:18:01 INFO    : multi-lu-coil-modelling, (abstractsolver.py :93  ) - Tubes validation ... complete\n",
      "2021-02-05 20:18:01 INFO    : multi-lu-coil-modelling, (interface.py      :140 ) - Received tubes:[\n",
      "\tTube(id='', d=89.0, th=11.45124626576759, th0=6.5, sigma=3646812.249788661, mu=200.51783007258675),]\n",
      "2021-02-05 20:18:01 INFO    : multi-lu-coil-modelling, (interface.py      :144 ) - Mesh loading ... complete\n",
      "2021-02-05 20:18:03 INFO    : multi-lu-coil-modelling, (interface.py      :114 ) - Modelling tool averaging\n",
      "2021-02-05 20:18:03 INFO    : multi-lu-coil-modelling, (interface.py      :172 ) - Done\n",
      "2021-02-05 20:18:03 INFO    : multi-lu-coil-modelling, (interface.py      :23  ) - Using cim-triangular solver\n",
      "2021-02-05 20:18:03 INFO    : multi-lu-coil-modelling, (abstractsolver.py :100 ) - Solver validation ... complete\n",
      "2021-02-05 20:18:03 INFO    : multi-lu-coil-modelling, (abstractsolver.py :93  ) - Tubes validation ... complete\n",
      "2021-02-05 20:18:03 INFO    : multi-lu-coil-modelling, (interface.py      :140 ) - Received tubes:[\n",
      "\tTube(id='', d=89.0, th=11.45124626576759, th0=6.5, sigma=8205327.562006988, mu=128.90431790380575),]\n",
      "2021-02-05 20:18:03 INFO    : multi-lu-coil-modelling, (interface.py      :144 ) - Mesh loading ... complete\n",
      "2021-02-05 20:18:04 INFO    : multi-lu-coil-modelling, (interface.py      :114 ) - Modelling tool averaging\n",
      "2021-02-05 20:18:04 INFO    : multi-lu-coil-modelling, (interface.py      :172 ) - Done\n",
      "2021-02-05 20:18:04 INFO    : multi-lu-coil-modelling, (interface.py      :23  ) - Using cim-triangular solver\n",
      "2021-02-05 20:18:04 INFO    : multi-lu-coil-modelling, (abstractsolver.py :100 ) - Solver validation ... complete\n",
      "2021-02-05 20:18:04 INFO    : multi-lu-coil-modelling, (abstractsolver.py :93  ) - Tubes validation ... complete\n",
      "2021-02-05 20:18:04 INFO    : multi-lu-coil-modelling, (interface.py      :140 ) - Received tubes:[\n",
      "\tTube(id='', d=89.0, th=11.45124626576759, th0=6.5, sigma=3646812.249788661, mu=229.16323294009914),]\n",
      "2021-02-05 20:18:04 INFO    : multi-lu-coil-modelling, (interface.py      :144 ) - Mesh loading ... complete\n",
      "2021-02-05 20:18:06 INFO    : multi-lu-coil-modelling, (interface.py      :114 ) - Modelling tool averaging\n",
      "2021-02-05 20:18:06 INFO    : multi-lu-coil-modelling, (interface.py      :172 ) - Done\n",
      "2021-02-05 20:18:06 INFO    : multi-lu-coil-modelling, (interface.py      :23  ) - Using cim-triangular solver\n",
      "2021-02-05 20:18:06 INFO    : multi-lu-coil-modelling, (abstractsolver.py :100 ) - Solver validation ... complete\n",
      "2021-02-05 20:18:06 INFO    : multi-lu-coil-modelling, (abstractsolver.py :93  ) - Tubes validation ... complete\n",
      "2021-02-05 20:18:06 INFO    : multi-lu-coil-modelling, (interface.py      :140 ) - Received tubes:[\n",
      "\tTube(id='', d=89.0, th=11.45124626576759, th0=6.5, sigma=8205327.562006988, mu=128.90431790380575),]\n",
      "2021-02-05 20:18:06 INFO    : multi-lu-coil-modelling, (interface.py      :144 ) - Mesh loading ... complete\n",
      "2021-02-05 20:18:07 INFO    : multi-lu-coil-modelling, (interface.py      :114 ) - Modelling tool averaging\n"
     ]
    },
    {
     "name": "stderr",
     "output_type": "stream",
     "text": [
      "2021-02-05 20:18:07 INFO    : multi-lu-coil-modelling, (interface.py      :172 ) - Done\n",
      "2021-02-05 20:18:08 INFO    : multi-lu-coil-modelling, (interface.py      :23  ) - Using cim-triangular solver\n",
      "2021-02-05 20:18:08 INFO    : multi-lu-coil-modelling, (abstractsolver.py :100 ) - Solver validation ... complete\n",
      "2021-02-05 20:18:08 INFO    : multi-lu-coil-modelling, (abstractsolver.py :93  ) - Tubes validation ... complete\n",
      "2021-02-05 20:18:08 INFO    : multi-lu-coil-modelling, (interface.py      :140 ) - Received tubes:[\n",
      "\tTube(id='', d=89.0, th=11.45124626576759, th0=6.5, sigma=3646812.249788661, mu=257.8086358076115),]\n",
      "2021-02-05 20:18:08 INFO    : multi-lu-coil-modelling, (interface.py      :144 ) - Mesh loading ... complete\n",
      "2021-02-05 20:18:09 INFO    : multi-lu-coil-modelling, (interface.py      :114 ) - Modelling tool averaging\n",
      "2021-02-05 20:18:09 INFO    : multi-lu-coil-modelling, (interface.py      :172 ) - Done\n",
      "2021-02-05 20:18:09 INFO    : multi-lu-coil-modelling, (interface.py      :23  ) - Using cim-triangular solver\n",
      "2021-02-05 20:18:09 INFO    : multi-lu-coil-modelling, (abstractsolver.py :100 ) - Solver validation ... complete\n",
      "2021-02-05 20:18:09 INFO    : multi-lu-coil-modelling, (abstractsolver.py :93  ) - Tubes validation ... complete\n",
      "2021-02-05 20:18:09 INFO    : multi-lu-coil-modelling, (interface.py      :140 ) - Received tubes:[\n",
      "\tTube(id='', d=89.0, th=11.45124626576759, th0=6.5, sigma=8205327.562006988, mu=128.90431790380575),]\n",
      "2021-02-05 20:18:09 INFO    : multi-lu-coil-modelling, (interface.py      :144 ) - Mesh loading ... complete\n",
      "2021-02-05 20:18:11 INFO    : multi-lu-coil-modelling, (interface.py      :114 ) - Modelling tool averaging\n",
      "2021-02-05 20:18:11 INFO    : multi-lu-coil-modelling, (interface.py      :172 ) - Done\n",
      "2021-02-05 20:18:11 INFO    : multi-lu-coil-modelling, (interface.py      :23  ) - Using cim-triangular solver\n",
      "2021-02-05 20:18:11 INFO    : multi-lu-coil-modelling, (abstractsolver.py :100 ) - Solver validation ... complete\n",
      "2021-02-05 20:18:11 INFO    : multi-lu-coil-modelling, (abstractsolver.py :93  ) - Tubes validation ... complete\n",
      "2021-02-05 20:18:11 INFO    : multi-lu-coil-modelling, (interface.py      :140 ) - Received tubes:[\n",
      "\tTube(id='', d=89.0, th=11.45124626576759, th0=6.5, sigma=5470218.374677991, mu=1e-05),]\n",
      "2021-02-05 20:18:11 INFO    : multi-lu-coil-modelling, (interface.py      :144 ) - Mesh loading ... complete\n",
      "2021-02-05 20:18:12 INFO    : multi-lu-coil-modelling, (interface.py      :114 ) - Modelling tool averaging\n",
      "2021-02-05 20:18:12 INFO    : multi-lu-coil-modelling, (interface.py      :172 ) - Done\n",
      "2021-02-05 20:18:12 INFO    : multi-lu-coil-modelling, (interface.py      :23  ) - Using cim-triangular solver\n",
      "2021-02-05 20:18:12 INFO    : multi-lu-coil-modelling, (abstractsolver.py :100 ) - Solver validation ... complete\n",
      "2021-02-05 20:18:12 INFO    : multi-lu-coil-modelling, (abstractsolver.py :93  ) - Tubes validation ... complete\n",
      "2021-02-05 20:18:12 INFO    : multi-lu-coil-modelling, (interface.py      :140 ) - Received tubes:[\n",
      "\tTube(id='', d=89.0, th=11.45124626576759, th0=6.5, sigma=8205327.562006988, mu=128.90431790380575),]\n",
      "2021-02-05 20:18:12 INFO    : multi-lu-coil-modelling, (interface.py      :144 ) - Mesh loading ... complete\n",
      "2021-02-05 20:18:14 INFO    : multi-lu-coil-modelling, (interface.py      :114 ) - Modelling tool averaging\n",
      "2021-02-05 20:18:14 INFO    : multi-lu-coil-modelling, (interface.py      :172 ) - Done\n",
      "2021-02-05 20:18:14 INFO    : multi-lu-coil-modelling, (interface.py      :23  ) - Using cim-triangular solver\n",
      "2021-02-05 20:18:14 INFO    : multi-lu-coil-modelling, (abstractsolver.py :100 ) - Solver validation ... complete\n",
      "2021-02-05 20:18:14 INFO    : multi-lu-coil-modelling, (abstractsolver.py :93  ) - Tubes validation ... complete\n",
      "2021-02-05 20:18:14 INFO    : multi-lu-coil-modelling, (interface.py      :140 ) - Received tubes:[\n",
      "\tTube(id='', d=89.0, th=11.45124626576759, th0=6.5, sigma=5470218.374677991, mu=28.64541286751239),]\n",
      "2021-02-05 20:18:14 INFO    : multi-lu-coil-modelling, (interface.py      :144 ) - Mesh loading ... complete\n",
      "2021-02-05 20:18:15 INFO    : multi-lu-coil-modelling, (interface.py      :114 ) - Modelling tool averaging\n",
      "2021-02-05 20:18:15 INFO    : multi-lu-coil-modelling, (interface.py      :172 ) - Done\n",
      "2021-02-05 20:18:15 INFO    : multi-lu-coil-modelling, (interface.py      :23  ) - Using cim-triangular solver\n",
      "2021-02-05 20:18:15 INFO    : multi-lu-coil-modelling, (abstractsolver.py :100 ) - Solver validation ... complete\n",
      "2021-02-05 20:18:15 INFO    : multi-lu-coil-modelling, (abstractsolver.py :93  ) - Tubes validation ... complete\n",
      "2021-02-05 20:18:15 INFO    : multi-lu-coil-modelling, (interface.py      :140 ) - Received tubes:[\n",
      "\tTube(id='', d=89.0, th=11.45124626576759, th0=6.5, sigma=8205327.562006988, mu=128.90431790380575),]\n",
      "2021-02-05 20:18:15 INFO    : multi-lu-coil-modelling, (interface.py      :144 ) - Mesh loading ... complete\n",
      "2021-02-05 20:18:17 INFO    : multi-lu-coil-modelling, (interface.py      :114 ) - Modelling tool averaging\n",
      "2021-02-05 20:18:17 INFO    : multi-lu-coil-modelling, (interface.py      :172 ) - Done\n",
      "2021-02-05 20:18:17 INFO    : multi-lu-coil-modelling, (interface.py      :23  ) - Using cim-triangular solver\n",
      "2021-02-05 20:18:17 INFO    : multi-lu-coil-modelling, (abstractsolver.py :100 ) - Solver validation ... complete\n",
      "2021-02-05 20:18:17 INFO    : multi-lu-coil-modelling, (abstractsolver.py :93  ) - Tubes validation ... complete\n",
      "2021-02-05 20:18:17 INFO    : multi-lu-coil-modelling, (interface.py      :140 ) - Received tubes:[\n",
      "\tTube(id='', d=89.0, th=11.45124626576759, th0=6.5, sigma=5470218.374677991, mu=57.290815735024786),]\n",
      "2021-02-05 20:18:17 INFO    : multi-lu-coil-modelling, (interface.py      :144 ) - Mesh loading ... complete\n",
      "2021-02-05 20:18:18 INFO    : multi-lu-coil-modelling, (interface.py      :114 ) - Modelling tool averaging\n",
      "2021-02-05 20:18:18 INFO    : multi-lu-coil-modelling, (interface.py      :172 ) - Done\n",
      "2021-02-05 20:18:18 INFO    : multi-lu-coil-modelling, (interface.py      :23  ) - Using cim-triangular solver\n",
      "2021-02-05 20:18:18 INFO    : multi-lu-coil-modelling, (abstractsolver.py :100 ) - Solver validation ... complete\n",
      "2021-02-05 20:18:18 INFO    : multi-lu-coil-modelling, (abstractsolver.py :93  ) - Tubes validation ... complete\n",
      "2021-02-05 20:18:18 INFO    : multi-lu-coil-modelling, (interface.py      :140 ) - Received tubes:[\n",
      "\tTube(id='', d=89.0, th=11.45124626576759, th0=6.5, sigma=8205327.562006988, mu=128.90431790380575),]\n",
      "2021-02-05 20:18:18 INFO    : multi-lu-coil-modelling, (interface.py      :144 ) - Mesh loading ... complete\n",
      "2021-02-05 20:18:20 INFO    : multi-lu-coil-modelling, (interface.py      :114 ) - Modelling tool averaging\n",
      "2021-02-05 20:18:20 INFO    : multi-lu-coil-modelling, (interface.py      :172 ) - Done\n",
      "2021-02-05 20:18:20 INFO    : multi-lu-coil-modelling, (interface.py      :23  ) - Using cim-triangular solver\n",
      "2021-02-05 20:18:20 INFO    : multi-lu-coil-modelling, (abstractsolver.py :100 ) - Solver validation ... complete\n",
      "2021-02-05 20:18:20 INFO    : multi-lu-coil-modelling, (abstractsolver.py :93  ) - Tubes validation ... complete\n",
      "2021-02-05 20:18:20 INFO    : multi-lu-coil-modelling, (interface.py      :140 ) - Received tubes:[\n",
      "\tTube(id='', d=89.0, th=11.45124626576759, th0=6.5, sigma=5470218.374677991, mu=85.93621860253718),]\n",
      "2021-02-05 20:18:20 INFO    : multi-lu-coil-modelling, (interface.py      :144 ) - Mesh loading ... complete\n",
      "2021-02-05 20:18:21 INFO    : multi-lu-coil-modelling, (interface.py      :114 ) - Modelling tool averaging\n",
      "2021-02-05 20:18:21 INFO    : multi-lu-coil-modelling, (interface.py      :172 ) - Done\n",
      "2021-02-05 20:18:21 INFO    : multi-lu-coil-modelling, (interface.py      :23  ) - Using cim-triangular solver\n",
      "2021-02-05 20:18:21 INFO    : multi-lu-coil-modelling, (abstractsolver.py :100 ) - Solver validation ... complete\n",
      "2021-02-05 20:18:21 INFO    : multi-lu-coil-modelling, (abstractsolver.py :93  ) - Tubes validation ... complete\n",
      "2021-02-05 20:18:21 INFO    : multi-lu-coil-modelling, (interface.py      :140 ) - Received tubes:[\n",
      "\tTube(id='', d=89.0, th=11.45124626576759, th0=6.5, sigma=8205327.562006988, mu=128.90431790380575),]\n"
     ]
    },
    {
     "name": "stderr",
     "output_type": "stream",
     "text": [
      "2021-02-05 20:18:21 INFO    : multi-lu-coil-modelling, (interface.py      :144 ) - Mesh loading ... complete\n",
      "2021-02-05 20:18:23 INFO    : multi-lu-coil-modelling, (interface.py      :114 ) - Modelling tool averaging\n",
      "2021-02-05 20:18:23 INFO    : multi-lu-coil-modelling, (interface.py      :172 ) - Done\n",
      "2021-02-05 20:18:23 INFO    : multi-lu-coil-modelling, (interface.py      :23  ) - Using cim-triangular solver\n",
      "2021-02-05 20:18:23 INFO    : multi-lu-coil-modelling, (abstractsolver.py :100 ) - Solver validation ... complete\n",
      "2021-02-05 20:18:23 INFO    : multi-lu-coil-modelling, (abstractsolver.py :93  ) - Tubes validation ... complete\n",
      "2021-02-05 20:18:23 INFO    : multi-lu-coil-modelling, (interface.py      :140 ) - Received tubes:[\n",
      "\tTube(id='', d=89.0, th=11.45124626576759, th0=6.5, sigma=5470218.374677991, mu=114.58162147004957),]\n",
      "2021-02-05 20:18:23 INFO    : multi-lu-coil-modelling, (interface.py      :144 ) - Mesh loading ... complete\n",
      "2021-02-05 20:18:24 INFO    : multi-lu-coil-modelling, (interface.py      :114 ) - Modelling tool averaging\n",
      "2021-02-05 20:18:24 INFO    : multi-lu-coil-modelling, (interface.py      :172 ) - Done\n",
      "2021-02-05 20:18:24 INFO    : multi-lu-coil-modelling, (interface.py      :23  ) - Using cim-triangular solver\n",
      "2021-02-05 20:18:24 INFO    : multi-lu-coil-modelling, (abstractsolver.py :100 ) - Solver validation ... complete\n",
      "2021-02-05 20:18:24 INFO    : multi-lu-coil-modelling, (abstractsolver.py :93  ) - Tubes validation ... complete\n",
      "2021-02-05 20:18:24 INFO    : multi-lu-coil-modelling, (interface.py      :140 ) - Received tubes:[\n",
      "\tTube(id='', d=89.0, th=11.45124626576759, th0=6.5, sigma=8205327.562006988, mu=128.90431790380575),]\n",
      "2021-02-05 20:18:24 INFO    : multi-lu-coil-modelling, (interface.py      :144 ) - Mesh loading ... complete\n",
      "2021-02-05 20:18:26 INFO    : multi-lu-coil-modelling, (interface.py      :114 ) - Modelling tool averaging\n",
      "2021-02-05 20:18:26 INFO    : multi-lu-coil-modelling, (interface.py      :172 ) - Done\n",
      "2021-02-05 20:18:26 INFO    : multi-lu-coil-modelling, (interface.py      :23  ) - Using cim-triangular solver\n",
      "2021-02-05 20:18:26 INFO    : multi-lu-coil-modelling, (abstractsolver.py :100 ) - Solver validation ... complete\n",
      "2021-02-05 20:18:26 INFO    : multi-lu-coil-modelling, (abstractsolver.py :93  ) - Tubes validation ... complete\n",
      "2021-02-05 20:18:26 INFO    : multi-lu-coil-modelling, (interface.py      :140 ) - Received tubes:[\n",
      "\tTube(id='', d=89.0, th=11.45124626576759, th0=6.5, sigma=5470218.374677991, mu=143.22702433756197),]\n",
      "2021-02-05 20:18:26 INFO    : multi-lu-coil-modelling, (interface.py      :144 ) - Mesh loading ... complete\n",
      "2021-02-05 20:18:27 INFO    : multi-lu-coil-modelling, (interface.py      :114 ) - Modelling tool averaging\n",
      "2021-02-05 20:18:27 INFO    : multi-lu-coil-modelling, (interface.py      :172 ) - Done\n",
      "2021-02-05 20:18:27 INFO    : multi-lu-coil-modelling, (interface.py      :23  ) - Using cim-triangular solver\n",
      "2021-02-05 20:18:27 INFO    : multi-lu-coil-modelling, (abstractsolver.py :100 ) - Solver validation ... complete\n",
      "2021-02-05 20:18:27 INFO    : multi-lu-coil-modelling, (abstractsolver.py :93  ) - Tubes validation ... complete\n",
      "2021-02-05 20:18:27 INFO    : multi-lu-coil-modelling, (interface.py      :140 ) - Received tubes:[\n",
      "\tTube(id='', d=89.0, th=11.45124626576759, th0=6.5, sigma=8205327.562006988, mu=128.90431790380575),]\n",
      "2021-02-05 20:18:27 INFO    : multi-lu-coil-modelling, (interface.py      :144 ) - Mesh loading ... complete\n",
      "2021-02-05 20:18:29 INFO    : multi-lu-coil-modelling, (interface.py      :114 ) - Modelling tool averaging\n",
      "2021-02-05 20:18:29 INFO    : multi-lu-coil-modelling, (interface.py      :172 ) - Done\n",
      "2021-02-05 20:18:29 INFO    : multi-lu-coil-modelling, (interface.py      :23  ) - Using cim-triangular solver\n",
      "2021-02-05 20:18:29 INFO    : multi-lu-coil-modelling, (abstractsolver.py :100 ) - Solver validation ... complete\n",
      "2021-02-05 20:18:29 INFO    : multi-lu-coil-modelling, (abstractsolver.py :93  ) - Tubes validation ... complete\n",
      "2021-02-05 20:18:29 INFO    : multi-lu-coil-modelling, (interface.py      :140 ) - Received tubes:[\n",
      "\tTube(id='', d=89.0, th=11.45124626576759, th0=6.5, sigma=5470218.374677991, mu=171.87242720507436),]\n",
      "2021-02-05 20:18:29 INFO    : multi-lu-coil-modelling, (interface.py      :144 ) - Mesh loading ... complete\n",
      "2021-02-05 20:18:31 INFO    : multi-lu-coil-modelling, (interface.py      :114 ) - Modelling tool averaging\n",
      "2021-02-05 20:18:31 INFO    : multi-lu-coil-modelling, (interface.py      :172 ) - Done\n",
      "2021-02-05 20:18:31 INFO    : multi-lu-coil-modelling, (interface.py      :23  ) - Using cim-triangular solver\n",
      "2021-02-05 20:18:31 INFO    : multi-lu-coil-modelling, (abstractsolver.py :100 ) - Solver validation ... complete\n",
      "2021-02-05 20:18:31 INFO    : multi-lu-coil-modelling, (abstractsolver.py :93  ) - Tubes validation ... complete\n",
      "2021-02-05 20:18:31 INFO    : multi-lu-coil-modelling, (interface.py      :140 ) - Received tubes:[\n",
      "\tTube(id='', d=89.0, th=11.45124626576759, th0=6.5, sigma=8205327.562006988, mu=128.90431790380575),]\n",
      "2021-02-05 20:18:31 INFO    : multi-lu-coil-modelling, (interface.py      :144 ) - Mesh loading ... complete\n",
      "2021-02-05 20:18:32 INFO    : multi-lu-coil-modelling, (interface.py      :114 ) - Modelling tool averaging\n",
      "2021-02-05 20:18:32 INFO    : multi-lu-coil-modelling, (interface.py      :172 ) - Done\n",
      "2021-02-05 20:18:32 INFO    : multi-lu-coil-modelling, (interface.py      :23  ) - Using cim-triangular solver\n",
      "2021-02-05 20:18:32 INFO    : multi-lu-coil-modelling, (abstractsolver.py :100 ) - Solver validation ... complete\n",
      "2021-02-05 20:18:32 INFO    : multi-lu-coil-modelling, (abstractsolver.py :93  ) - Tubes validation ... complete\n",
      "2021-02-05 20:18:32 INFO    : multi-lu-coil-modelling, (interface.py      :140 ) - Received tubes:[\n",
      "\tTube(id='', d=89.0, th=11.45124626576759, th0=6.5, sigma=5470218.374677991, mu=200.51783007258675),]\n",
      "2021-02-05 20:18:32 INFO    : multi-lu-coil-modelling, (interface.py      :144 ) - Mesh loading ... complete\n",
      "2021-02-05 20:18:34 INFO    : multi-lu-coil-modelling, (interface.py      :114 ) - Modelling tool averaging\n",
      "2021-02-05 20:18:34 INFO    : multi-lu-coil-modelling, (interface.py      :172 ) - Done\n",
      "2021-02-05 20:18:34 INFO    : multi-lu-coil-modelling, (interface.py      :23  ) - Using cim-triangular solver\n",
      "2021-02-05 20:18:34 INFO    : multi-lu-coil-modelling, (abstractsolver.py :100 ) - Solver validation ... complete\n",
      "2021-02-05 20:18:34 INFO    : multi-lu-coil-modelling, (abstractsolver.py :93  ) - Tubes validation ... complete\n",
      "2021-02-05 20:18:34 INFO    : multi-lu-coil-modelling, (interface.py      :140 ) - Received tubes:[\n",
      "\tTube(id='', d=89.0, th=11.45124626576759, th0=6.5, sigma=8205327.562006988, mu=128.90431790380575),]\n",
      "2021-02-05 20:18:34 INFO    : multi-lu-coil-modelling, (interface.py      :144 ) - Mesh loading ... complete\n",
      "2021-02-05 20:18:35 INFO    : multi-lu-coil-modelling, (interface.py      :114 ) - Modelling tool averaging\n",
      "2021-02-05 20:18:35 INFO    : multi-lu-coil-modelling, (interface.py      :172 ) - Done\n",
      "2021-02-05 20:18:35 INFO    : multi-lu-coil-modelling, (interface.py      :23  ) - Using cim-triangular solver\n",
      "2021-02-05 20:18:35 INFO    : multi-lu-coil-modelling, (abstractsolver.py :100 ) - Solver validation ... complete\n",
      "2021-02-05 20:18:35 INFO    : multi-lu-coil-modelling, (abstractsolver.py :93  ) - Tubes validation ... complete\n",
      "2021-02-05 20:18:35 INFO    : multi-lu-coil-modelling, (interface.py      :140 ) - Received tubes:[\n",
      "\tTube(id='', d=89.0, th=11.45124626576759, th0=6.5, sigma=5470218.374677991, mu=229.16323294009914),]\n",
      "2021-02-05 20:18:35 INFO    : multi-lu-coil-modelling, (interface.py      :144 ) - Mesh loading ... complete\n",
      "2021-02-05 20:18:37 INFO    : multi-lu-coil-modelling, (interface.py      :114 ) - Modelling tool averaging\n",
      "2021-02-05 20:18:37 INFO    : multi-lu-coil-modelling, (interface.py      :172 ) - Done\n",
      "2021-02-05 20:18:37 INFO    : multi-lu-coil-modelling, (interface.py      :23  ) - Using cim-triangular solver\n",
      "2021-02-05 20:18:37 INFO    : multi-lu-coil-modelling, (abstractsolver.py :100 ) - Solver validation ... complete\n",
      "2021-02-05 20:18:37 INFO    : multi-lu-coil-modelling, (abstractsolver.py :93  ) - Tubes validation ... complete\n"
     ]
    },
    {
     "name": "stderr",
     "output_type": "stream",
     "text": [
      "2021-02-05 20:18:37 INFO    : multi-lu-coil-modelling, (interface.py      :140 ) - Received tubes:[\n",
      "\tTube(id='', d=89.0, th=11.45124626576759, th0=6.5, sigma=8205327.562006988, mu=128.90431790380575),]\n",
      "2021-02-05 20:18:37 INFO    : multi-lu-coil-modelling, (interface.py      :144 ) - Mesh loading ... complete\n",
      "2021-02-05 20:18:39 INFO    : multi-lu-coil-modelling, (interface.py      :114 ) - Modelling tool averaging\n",
      "2021-02-05 20:18:39 INFO    : multi-lu-coil-modelling, (interface.py      :172 ) - Done\n",
      "2021-02-05 20:18:39 INFO    : multi-lu-coil-modelling, (interface.py      :23  ) - Using cim-triangular solver\n",
      "2021-02-05 20:18:39 INFO    : multi-lu-coil-modelling, (abstractsolver.py :100 ) - Solver validation ... complete\n",
      "2021-02-05 20:18:39 INFO    : multi-lu-coil-modelling, (abstractsolver.py :93  ) - Tubes validation ... complete\n",
      "2021-02-05 20:18:39 INFO    : multi-lu-coil-modelling, (interface.py      :140 ) - Received tubes:[\n",
      "\tTube(id='', d=89.0, th=11.45124626576759, th0=6.5, sigma=5470218.374677991, mu=257.8086358076115),]\n",
      "2021-02-05 20:18:39 INFO    : multi-lu-coil-modelling, (interface.py      :144 ) - Mesh loading ... complete\n",
      "2021-02-05 20:18:40 INFO    : multi-lu-coil-modelling, (interface.py      :114 ) - Modelling tool averaging\n",
      "2021-02-05 20:18:40 INFO    : multi-lu-coil-modelling, (interface.py      :172 ) - Done\n",
      "2021-02-05 20:18:40 INFO    : multi-lu-coil-modelling, (interface.py      :23  ) - Using cim-triangular solver\n",
      "2021-02-05 20:18:40 INFO    : multi-lu-coil-modelling, (abstractsolver.py :100 ) - Solver validation ... complete\n",
      "2021-02-05 20:18:40 INFO    : multi-lu-coil-modelling, (abstractsolver.py :93  ) - Tubes validation ... complete\n",
      "2021-02-05 20:18:40 INFO    : multi-lu-coil-modelling, (interface.py      :140 ) - Received tubes:[\n",
      "\tTube(id='', d=89.0, th=11.45124626576759, th0=6.5, sigma=8205327.562006988, mu=128.90431790380575),]\n",
      "2021-02-05 20:18:40 INFO    : multi-lu-coil-modelling, (interface.py      :144 ) - Mesh loading ... complete\n",
      "2021-02-05 20:18:42 INFO    : multi-lu-coil-modelling, (interface.py      :114 ) - Modelling tool averaging\n",
      "2021-02-05 20:18:42 INFO    : multi-lu-coil-modelling, (interface.py      :172 ) - Done\n",
      "2021-02-05 20:18:42 INFO    : multi-lu-coil-modelling, (interface.py      :23  ) - Using cim-triangular solver\n",
      "2021-02-05 20:18:42 INFO    : multi-lu-coil-modelling, (abstractsolver.py :100 ) - Solver validation ... complete\n",
      "2021-02-05 20:18:42 INFO    : multi-lu-coil-modelling, (abstractsolver.py :93  ) - Tubes validation ... complete\n",
      "2021-02-05 20:18:42 INFO    : multi-lu-coil-modelling, (interface.py      :140 ) - Received tubes:[\n",
      "\tTube(id='', d=89.0, th=11.45124626576759, th0=6.5, sigma=7293624.4995673215, mu=1e-05),]\n",
      "2021-02-05 20:18:42 INFO    : multi-lu-coil-modelling, (interface.py      :144 ) - Mesh loading ... complete\n",
      "2021-02-05 20:18:43 INFO    : multi-lu-coil-modelling, (interface.py      :114 ) - Modelling tool averaging\n",
      "2021-02-05 20:18:43 INFO    : multi-lu-coil-modelling, (interface.py      :172 ) - Done\n",
      "2021-02-05 20:18:43 INFO    : multi-lu-coil-modelling, (interface.py      :23  ) - Using cim-triangular solver\n",
      "2021-02-05 20:18:43 INFO    : multi-lu-coil-modelling, (abstractsolver.py :100 ) - Solver validation ... complete\n",
      "2021-02-05 20:18:43 INFO    : multi-lu-coil-modelling, (abstractsolver.py :93  ) - Tubes validation ... complete\n",
      "2021-02-05 20:18:43 INFO    : multi-lu-coil-modelling, (interface.py      :140 ) - Received tubes:[\n",
      "\tTube(id='', d=89.0, th=11.45124626576759, th0=6.5, sigma=8205327.562006988, mu=128.90431790380575),]\n",
      "2021-02-05 20:18:43 INFO    : multi-lu-coil-modelling, (interface.py      :144 ) - Mesh loading ... complete\n",
      "2021-02-05 20:18:45 INFO    : multi-lu-coil-modelling, (interface.py      :114 ) - Modelling tool averaging\n",
      "2021-02-05 20:18:45 INFO    : multi-lu-coil-modelling, (interface.py      :172 ) - Done\n",
      "2021-02-05 20:18:45 INFO    : multi-lu-coil-modelling, (interface.py      :23  ) - Using cim-triangular solver\n",
      "2021-02-05 20:18:45 INFO    : multi-lu-coil-modelling, (abstractsolver.py :100 ) - Solver validation ... complete\n",
      "2021-02-05 20:18:45 INFO    : multi-lu-coil-modelling, (abstractsolver.py :93  ) - Tubes validation ... complete\n",
      "2021-02-05 20:18:45 INFO    : multi-lu-coil-modelling, (interface.py      :140 ) - Received tubes:[\n",
      "\tTube(id='', d=89.0, th=11.45124626576759, th0=6.5, sigma=7293624.4995673215, mu=28.64541286751239),]\n",
      "2021-02-05 20:18:45 INFO    : multi-lu-coil-modelling, (interface.py      :144 ) - Mesh loading ... complete\n",
      "2021-02-05 20:18:47 INFO    : multi-lu-coil-modelling, (interface.py      :114 ) - Modelling tool averaging\n",
      "2021-02-05 20:18:47 INFO    : multi-lu-coil-modelling, (interface.py      :172 ) - Done\n",
      "2021-02-05 20:18:47 INFO    : multi-lu-coil-modelling, (interface.py      :23  ) - Using cim-triangular solver\n",
      "2021-02-05 20:18:47 INFO    : multi-lu-coil-modelling, (abstractsolver.py :100 ) - Solver validation ... complete\n",
      "2021-02-05 20:18:47 INFO    : multi-lu-coil-modelling, (abstractsolver.py :93  ) - Tubes validation ... complete\n",
      "2021-02-05 20:18:47 INFO    : multi-lu-coil-modelling, (interface.py      :140 ) - Received tubes:[\n",
      "\tTube(id='', d=89.0, th=11.45124626576759, th0=6.5, sigma=8205327.562006988, mu=128.90431790380575),]\n",
      "2021-02-05 20:18:47 INFO    : multi-lu-coil-modelling, (interface.py      :144 ) - Mesh loading ... complete\n",
      "2021-02-05 20:18:48 INFO    : multi-lu-coil-modelling, (interface.py      :114 ) - Modelling tool averaging\n",
      "2021-02-05 20:18:48 INFO    : multi-lu-coil-modelling, (interface.py      :172 ) - Done\n",
      "2021-02-05 20:18:48 INFO    : multi-lu-coil-modelling, (interface.py      :23  ) - Using cim-triangular solver\n",
      "2021-02-05 20:18:48 INFO    : multi-lu-coil-modelling, (abstractsolver.py :100 ) - Solver validation ... complete\n",
      "2021-02-05 20:18:48 INFO    : multi-lu-coil-modelling, (abstractsolver.py :93  ) - Tubes validation ... complete\n",
      "2021-02-05 20:18:48 INFO    : multi-lu-coil-modelling, (interface.py      :140 ) - Received tubes:[\n",
      "\tTube(id='', d=89.0, th=11.45124626576759, th0=6.5, sigma=7293624.4995673215, mu=57.290815735024786),]\n",
      "2021-02-05 20:18:48 INFO    : multi-lu-coil-modelling, (interface.py      :144 ) - Mesh loading ... complete\n",
      "2021-02-05 20:18:50 INFO    : multi-lu-coil-modelling, (interface.py      :114 ) - Modelling tool averaging\n",
      "2021-02-05 20:18:50 INFO    : multi-lu-coil-modelling, (interface.py      :172 ) - Done\n",
      "2021-02-05 20:18:50 INFO    : multi-lu-coil-modelling, (interface.py      :23  ) - Using cim-triangular solver\n",
      "2021-02-05 20:18:50 INFO    : multi-lu-coil-modelling, (abstractsolver.py :100 ) - Solver validation ... complete\n",
      "2021-02-05 20:18:50 INFO    : multi-lu-coil-modelling, (abstractsolver.py :93  ) - Tubes validation ... complete\n",
      "2021-02-05 20:18:50 INFO    : multi-lu-coil-modelling, (interface.py      :140 ) - Received tubes:[\n",
      "\tTube(id='', d=89.0, th=11.45124626576759, th0=6.5, sigma=8205327.562006988, mu=128.90431790380575),]\n",
      "2021-02-05 20:18:50 INFO    : multi-lu-coil-modelling, (interface.py      :144 ) - Mesh loading ... complete\n",
      "2021-02-05 20:18:51 INFO    : multi-lu-coil-modelling, (interface.py      :114 ) - Modelling tool averaging\n",
      "2021-02-05 20:18:51 INFO    : multi-lu-coil-modelling, (interface.py      :172 ) - Done\n",
      "2021-02-05 20:18:51 INFO    : multi-lu-coil-modelling, (interface.py      :23  ) - Using cim-triangular solver\n",
      "2021-02-05 20:18:51 INFO    : multi-lu-coil-modelling, (abstractsolver.py :100 ) - Solver validation ... complete\n",
      "2021-02-05 20:18:51 INFO    : multi-lu-coil-modelling, (abstractsolver.py :93  ) - Tubes validation ... complete\n",
      "2021-02-05 20:18:51 INFO    : multi-lu-coil-modelling, (interface.py      :140 ) - Received tubes:[\n",
      "\tTube(id='', d=89.0, th=11.45124626576759, th0=6.5, sigma=7293624.4995673215, mu=85.93621860253718),]\n",
      "2021-02-05 20:18:51 INFO    : multi-lu-coil-modelling, (interface.py      :144 ) - Mesh loading ... complete\n",
      "2021-02-05 20:18:53 INFO    : multi-lu-coil-modelling, (interface.py      :114 ) - Modelling tool averaging\n",
      "2021-02-05 20:18:53 INFO    : multi-lu-coil-modelling, (interface.py      :172 ) - Done\n",
      "2021-02-05 20:18:53 INFO    : multi-lu-coil-modelling, (interface.py      :23  ) - Using cim-triangular solver\n"
     ]
    },
    {
     "name": "stderr",
     "output_type": "stream",
     "text": [
      "2021-02-05 20:18:53 INFO    : multi-lu-coil-modelling, (abstractsolver.py :100 ) - Solver validation ... complete\n",
      "2021-02-05 20:18:53 INFO    : multi-lu-coil-modelling, (abstractsolver.py :93  ) - Tubes validation ... complete\n",
      "2021-02-05 20:18:53 INFO    : multi-lu-coil-modelling, (interface.py      :140 ) - Received tubes:[\n",
      "\tTube(id='', d=89.0, th=11.45124626576759, th0=6.5, sigma=8205327.562006988, mu=128.90431790380575),]\n",
      "2021-02-05 20:18:53 INFO    : multi-lu-coil-modelling, (interface.py      :144 ) - Mesh loading ... complete\n",
      "2021-02-05 20:18:54 INFO    : multi-lu-coil-modelling, (interface.py      :114 ) - Modelling tool averaging\n",
      "2021-02-05 20:18:54 INFO    : multi-lu-coil-modelling, (interface.py      :172 ) - Done\n",
      "2021-02-05 20:18:54 INFO    : multi-lu-coil-modelling, (interface.py      :23  ) - Using cim-triangular solver\n",
      "2021-02-05 20:18:54 INFO    : multi-lu-coil-modelling, (abstractsolver.py :100 ) - Solver validation ... complete\n",
      "2021-02-05 20:18:54 INFO    : multi-lu-coil-modelling, (abstractsolver.py :93  ) - Tubes validation ... complete\n",
      "2021-02-05 20:18:54 INFO    : multi-lu-coil-modelling, (interface.py      :140 ) - Received tubes:[\n",
      "\tTube(id='', d=89.0, th=11.45124626576759, th0=6.5, sigma=7293624.4995673215, mu=114.58162147004957),]\n",
      "2021-02-05 20:18:54 INFO    : multi-lu-coil-modelling, (interface.py      :144 ) - Mesh loading ... complete\n",
      "2021-02-05 20:18:56 INFO    : multi-lu-coil-modelling, (interface.py      :114 ) - Modelling tool averaging\n",
      "2021-02-05 20:18:56 INFO    : multi-lu-coil-modelling, (interface.py      :172 ) - Done\n",
      "2021-02-05 20:18:56 INFO    : multi-lu-coil-modelling, (interface.py      :23  ) - Using cim-triangular solver\n",
      "2021-02-05 20:18:56 INFO    : multi-lu-coil-modelling, (abstractsolver.py :100 ) - Solver validation ... complete\n",
      "2021-02-05 20:18:56 INFO    : multi-lu-coil-modelling, (abstractsolver.py :93  ) - Tubes validation ... complete\n",
      "2021-02-05 20:18:56 INFO    : multi-lu-coil-modelling, (interface.py      :140 ) - Received tubes:[\n",
      "\tTube(id='', d=89.0, th=11.45124626576759, th0=6.5, sigma=8205327.562006988, mu=128.90431790380575),]\n",
      "2021-02-05 20:18:56 INFO    : multi-lu-coil-modelling, (interface.py      :144 ) - Mesh loading ... complete\n",
      "2021-02-05 20:18:57 INFO    : multi-lu-coil-modelling, (interface.py      :114 ) - Modelling tool averaging\n",
      "2021-02-05 20:18:57 INFO    : multi-lu-coil-modelling, (interface.py      :172 ) - Done\n",
      "2021-02-05 20:18:57 INFO    : multi-lu-coil-modelling, (interface.py      :23  ) - Using cim-triangular solver\n",
      "2021-02-05 20:18:57 INFO    : multi-lu-coil-modelling, (abstractsolver.py :100 ) - Solver validation ... complete\n",
      "2021-02-05 20:18:57 INFO    : multi-lu-coil-modelling, (abstractsolver.py :93  ) - Tubes validation ... complete\n",
      "2021-02-05 20:18:57 INFO    : multi-lu-coil-modelling, (interface.py      :140 ) - Received tubes:[\n",
      "\tTube(id='', d=89.0, th=11.45124626576759, th0=6.5, sigma=7293624.4995673215, mu=143.22702433756197),]\n",
      "2021-02-05 20:18:57 INFO    : multi-lu-coil-modelling, (interface.py      :144 ) - Mesh loading ... complete\n",
      "2021-02-05 20:18:59 INFO    : multi-lu-coil-modelling, (interface.py      :114 ) - Modelling tool averaging\n",
      "2021-02-05 20:18:59 INFO    : multi-lu-coil-modelling, (interface.py      :172 ) - Done\n",
      "2021-02-05 20:18:59 INFO    : multi-lu-coil-modelling, (interface.py      :23  ) - Using cim-triangular solver\n",
      "2021-02-05 20:18:59 INFO    : multi-lu-coil-modelling, (abstractsolver.py :100 ) - Solver validation ... complete\n",
      "2021-02-05 20:18:59 INFO    : multi-lu-coil-modelling, (abstractsolver.py :93  ) - Tubes validation ... complete\n",
      "2021-02-05 20:18:59 INFO    : multi-lu-coil-modelling, (interface.py      :140 ) - Received tubes:[\n",
      "\tTube(id='', d=89.0, th=11.45124626576759, th0=6.5, sigma=8205327.562006988, mu=128.90431790380575),]\n",
      "2021-02-05 20:18:59 INFO    : multi-lu-coil-modelling, (interface.py      :144 ) - Mesh loading ... complete\n",
      "2021-02-05 20:19:01 INFO    : multi-lu-coil-modelling, (interface.py      :114 ) - Modelling tool averaging\n",
      "2021-02-05 20:19:01 INFO    : multi-lu-coil-modelling, (interface.py      :172 ) - Done\n",
      "2021-02-05 20:19:01 INFO    : multi-lu-coil-modelling, (interface.py      :23  ) - Using cim-triangular solver\n",
      "2021-02-05 20:19:01 INFO    : multi-lu-coil-modelling, (abstractsolver.py :100 ) - Solver validation ... complete\n",
      "2021-02-05 20:19:01 INFO    : multi-lu-coil-modelling, (abstractsolver.py :93  ) - Tubes validation ... complete\n",
      "2021-02-05 20:19:01 INFO    : multi-lu-coil-modelling, (interface.py      :140 ) - Received tubes:[\n",
      "\tTube(id='', d=89.0, th=11.45124626576759, th0=6.5, sigma=7293624.4995673215, mu=171.87242720507436),]\n",
      "2021-02-05 20:19:01 INFO    : multi-lu-coil-modelling, (interface.py      :144 ) - Mesh loading ... complete\n",
      "2021-02-05 20:19:02 INFO    : multi-lu-coil-modelling, (interface.py      :114 ) - Modelling tool averaging\n",
      "2021-02-05 20:19:02 INFO    : multi-lu-coil-modelling, (interface.py      :172 ) - Done\n",
      "2021-02-05 20:19:02 INFO    : multi-lu-coil-modelling, (interface.py      :23  ) - Using cim-triangular solver\n",
      "2021-02-05 20:19:02 INFO    : multi-lu-coil-modelling, (abstractsolver.py :100 ) - Solver validation ... complete\n",
      "2021-02-05 20:19:02 INFO    : multi-lu-coil-modelling, (abstractsolver.py :93  ) - Tubes validation ... complete\n",
      "2021-02-05 20:19:02 INFO    : multi-lu-coil-modelling, (interface.py      :140 ) - Received tubes:[\n",
      "\tTube(id='', d=89.0, th=11.45124626576759, th0=6.5, sigma=8205327.562006988, mu=128.90431790380575),]\n",
      "2021-02-05 20:19:02 INFO    : multi-lu-coil-modelling, (interface.py      :144 ) - Mesh loading ... complete\n",
      "2021-02-05 20:19:04 INFO    : multi-lu-coil-modelling, (interface.py      :114 ) - Modelling tool averaging\n",
      "2021-02-05 20:19:04 INFO    : multi-lu-coil-modelling, (interface.py      :172 ) - Done\n",
      "2021-02-05 20:19:04 INFO    : multi-lu-coil-modelling, (interface.py      :23  ) - Using cim-triangular solver\n",
      "2021-02-05 20:19:04 INFO    : multi-lu-coil-modelling, (abstractsolver.py :100 ) - Solver validation ... complete\n",
      "2021-02-05 20:19:04 INFO    : multi-lu-coil-modelling, (abstractsolver.py :93  ) - Tubes validation ... complete\n",
      "2021-02-05 20:19:04 INFO    : multi-lu-coil-modelling, (interface.py      :140 ) - Received tubes:[\n",
      "\tTube(id='', d=89.0, th=11.45124626576759, th0=6.5, sigma=7293624.4995673215, mu=200.51783007258675),]\n",
      "2021-02-05 20:19:04 INFO    : multi-lu-coil-modelling, (interface.py      :144 ) - Mesh loading ... complete\n",
      "2021-02-05 20:19:05 INFO    : multi-lu-coil-modelling, (interface.py      :114 ) - Modelling tool averaging\n",
      "2021-02-05 20:19:05 INFO    : multi-lu-coil-modelling, (interface.py      :172 ) - Done\n",
      "2021-02-05 20:19:05 INFO    : multi-lu-coil-modelling, (interface.py      :23  ) - Using cim-triangular solver\n",
      "2021-02-05 20:19:05 INFO    : multi-lu-coil-modelling, (abstractsolver.py :100 ) - Solver validation ... complete\n",
      "2021-02-05 20:19:05 INFO    : multi-lu-coil-modelling, (abstractsolver.py :93  ) - Tubes validation ... complete\n",
      "2021-02-05 20:19:05 INFO    : multi-lu-coil-modelling, (interface.py      :140 ) - Received tubes:[\n",
      "\tTube(id='', d=89.0, th=11.45124626576759, th0=6.5, sigma=8205327.562006988, mu=128.90431790380575),]\n",
      "2021-02-05 20:19:05 INFO    : multi-lu-coil-modelling, (interface.py      :144 ) - Mesh loading ... complete\n",
      "2021-02-05 20:19:07 INFO    : multi-lu-coil-modelling, (interface.py      :114 ) - Modelling tool averaging\n",
      "2021-02-05 20:19:07 INFO    : multi-lu-coil-modelling, (interface.py      :172 ) - Done\n",
      "2021-02-05 20:19:07 INFO    : multi-lu-coil-modelling, (interface.py      :23  ) - Using cim-triangular solver\n",
      "2021-02-05 20:19:07 INFO    : multi-lu-coil-modelling, (abstractsolver.py :100 ) - Solver validation ... complete\n",
      "2021-02-05 20:19:07 INFO    : multi-lu-coil-modelling, (abstractsolver.py :93  ) - Tubes validation ... complete\n",
      "2021-02-05 20:19:07 INFO    : multi-lu-coil-modelling, (interface.py      :140 ) - Received tubes:[\n",
      "\tTube(id='', d=89.0, th=11.45124626576759, th0=6.5, sigma=7293624.4995673215, mu=229.16323294009914),]\n",
      "2021-02-05 20:19:07 INFO    : multi-lu-coil-modelling, (interface.py      :144 ) - Mesh loading ... complete\n",
      "2021-02-05 20:19:08 INFO    : multi-lu-coil-modelling, (interface.py      :114 ) - Modelling tool averaging\n"
     ]
    },
    {
     "name": "stderr",
     "output_type": "stream",
     "text": [
      "2021-02-05 20:19:08 INFO    : multi-lu-coil-modelling, (interface.py      :172 ) - Done\n",
      "2021-02-05 20:19:08 INFO    : multi-lu-coil-modelling, (interface.py      :23  ) - Using cim-triangular solver\n",
      "2021-02-05 20:19:08 INFO    : multi-lu-coil-modelling, (abstractsolver.py :100 ) - Solver validation ... complete\n",
      "2021-02-05 20:19:08 INFO    : multi-lu-coil-modelling, (abstractsolver.py :93  ) - Tubes validation ... complete\n",
      "2021-02-05 20:19:08 INFO    : multi-lu-coil-modelling, (interface.py      :140 ) - Received tubes:[\n",
      "\tTube(id='', d=89.0, th=11.45124626576759, th0=6.5, sigma=8205327.562006988, mu=128.90431790380575),]\n",
      "2021-02-05 20:19:08 INFO    : multi-lu-coil-modelling, (interface.py      :144 ) - Mesh loading ... complete\n",
      "2021-02-05 20:19:10 INFO    : multi-lu-coil-modelling, (interface.py      :114 ) - Modelling tool averaging\n",
      "2021-02-05 20:19:10 INFO    : multi-lu-coil-modelling, (interface.py      :172 ) - Done\n",
      "2021-02-05 20:19:10 INFO    : multi-lu-coil-modelling, (interface.py      :23  ) - Using cim-triangular solver\n",
      "2021-02-05 20:19:10 INFO    : multi-lu-coil-modelling, (abstractsolver.py :100 ) - Solver validation ... complete\n",
      "2021-02-05 20:19:10 INFO    : multi-lu-coil-modelling, (abstractsolver.py :93  ) - Tubes validation ... complete\n",
      "2021-02-05 20:19:10 INFO    : multi-lu-coil-modelling, (interface.py      :140 ) - Received tubes:[\n",
      "\tTube(id='', d=89.0, th=11.45124626576759, th0=6.5, sigma=7293624.4995673215, mu=257.8086358076115),]\n",
      "2021-02-05 20:19:10 INFO    : multi-lu-coil-modelling, (interface.py      :144 ) - Mesh loading ... complete\n",
      "2021-02-05 20:19:11 INFO    : multi-lu-coil-modelling, (interface.py      :114 ) - Modelling tool averaging\n",
      "2021-02-05 20:19:11 INFO    : multi-lu-coil-modelling, (interface.py      :172 ) - Done\n",
      "2021-02-05 20:19:11 INFO    : multi-lu-coil-modelling, (interface.py      :23  ) - Using cim-triangular solver\n",
      "2021-02-05 20:19:11 INFO    : multi-lu-coil-modelling, (abstractsolver.py :100 ) - Solver validation ... complete\n",
      "2021-02-05 20:19:11 INFO    : multi-lu-coil-modelling, (abstractsolver.py :93  ) - Tubes validation ... complete\n",
      "2021-02-05 20:19:11 INFO    : multi-lu-coil-modelling, (interface.py      :140 ) - Received tubes:[\n",
      "\tTube(id='', d=89.0, th=11.45124626576759, th0=6.5, sigma=8205327.562006988, mu=128.90431790380575),]\n",
      "2021-02-05 20:19:11 INFO    : multi-lu-coil-modelling, (interface.py      :144 ) - Mesh loading ... complete\n",
      "2021-02-05 20:19:13 INFO    : multi-lu-coil-modelling, (interface.py      :114 ) - Modelling tool averaging\n",
      "2021-02-05 20:19:13 INFO    : multi-lu-coil-modelling, (interface.py      :172 ) - Done\n",
      "2021-02-05 20:19:13 INFO    : multi-lu-coil-modelling, (interface.py      :23  ) - Using cim-triangular solver\n",
      "2021-02-05 20:19:13 INFO    : multi-lu-coil-modelling, (abstractsolver.py :100 ) - Solver validation ... complete\n",
      "2021-02-05 20:19:13 INFO    : multi-lu-coil-modelling, (abstractsolver.py :93  ) - Tubes validation ... complete\n",
      "2021-02-05 20:19:13 INFO    : multi-lu-coil-modelling, (interface.py      :140 ) - Received tubes:[\n",
      "\tTube(id='', d=89.0, th=11.45124626576759, th0=6.5, sigma=9117030.624456653, mu=1e-05),]\n",
      "2021-02-05 20:19:13 INFO    : multi-lu-coil-modelling, (interface.py      :144 ) - Mesh loading ... complete\n",
      "2021-02-05 20:19:14 INFO    : multi-lu-coil-modelling, (interface.py      :114 ) - Modelling tool averaging\n",
      "2021-02-05 20:19:14 INFO    : multi-lu-coil-modelling, (interface.py      :172 ) - Done\n",
      "2021-02-05 20:19:14 INFO    : multi-lu-coil-modelling, (interface.py      :23  ) - Using cim-triangular solver\n",
      "2021-02-05 20:19:14 INFO    : multi-lu-coil-modelling, (abstractsolver.py :100 ) - Solver validation ... complete\n",
      "2021-02-05 20:19:14 INFO    : multi-lu-coil-modelling, (abstractsolver.py :93  ) - Tubes validation ... complete\n",
      "2021-02-05 20:19:14 INFO    : multi-lu-coil-modelling, (interface.py      :140 ) - Received tubes:[\n",
      "\tTube(id='', d=89.0, th=11.45124626576759, th0=6.5, sigma=8205327.562006988, mu=128.90431790380575),]\n",
      "2021-02-05 20:19:14 INFO    : multi-lu-coil-modelling, (interface.py      :144 ) - Mesh loading ... complete\n",
      "2021-02-05 20:19:16 INFO    : multi-lu-coil-modelling, (interface.py      :114 ) - Modelling tool averaging\n",
      "2021-02-05 20:19:16 INFO    : multi-lu-coil-modelling, (interface.py      :172 ) - Done\n",
      "2021-02-05 20:19:16 INFO    : multi-lu-coil-modelling, (interface.py      :23  ) - Using cim-triangular solver\n",
      "2021-02-05 20:19:16 INFO    : multi-lu-coil-modelling, (abstractsolver.py :100 ) - Solver validation ... complete\n",
      "2021-02-05 20:19:16 INFO    : multi-lu-coil-modelling, (abstractsolver.py :93  ) - Tubes validation ... complete\n",
      "2021-02-05 20:19:16 INFO    : multi-lu-coil-modelling, (interface.py      :140 ) - Received tubes:[\n",
      "\tTube(id='', d=89.0, th=11.45124626576759, th0=6.5, sigma=9117030.624456653, mu=28.64541286751239),]\n",
      "2021-02-05 20:19:16 INFO    : multi-lu-coil-modelling, (interface.py      :144 ) - Mesh loading ... complete\n",
      "2021-02-05 20:19:18 INFO    : multi-lu-coil-modelling, (interface.py      :114 ) - Modelling tool averaging\n",
      "2021-02-05 20:19:18 INFO    : multi-lu-coil-modelling, (interface.py      :172 ) - Done\n",
      "2021-02-05 20:19:18 INFO    : multi-lu-coil-modelling, (interface.py      :23  ) - Using cim-triangular solver\n",
      "2021-02-05 20:19:18 INFO    : multi-lu-coil-modelling, (abstractsolver.py :100 ) - Solver validation ... complete\n",
      "2021-02-05 20:19:18 INFO    : multi-lu-coil-modelling, (abstractsolver.py :93  ) - Tubes validation ... complete\n",
      "2021-02-05 20:19:18 INFO    : multi-lu-coil-modelling, (interface.py      :140 ) - Received tubes:[\n",
      "\tTube(id='', d=89.0, th=11.45124626576759, th0=6.5, sigma=8205327.562006988, mu=128.90431790380575),]\n",
      "2021-02-05 20:19:18 INFO    : multi-lu-coil-modelling, (interface.py      :144 ) - Mesh loading ... complete\n",
      "2021-02-05 20:19:19 INFO    : multi-lu-coil-modelling, (interface.py      :114 ) - Modelling tool averaging\n",
      "2021-02-05 20:19:19 INFO    : multi-lu-coil-modelling, (interface.py      :172 ) - Done\n",
      "2021-02-05 20:19:19 INFO    : multi-lu-coil-modelling, (interface.py      :23  ) - Using cim-triangular solver\n",
      "2021-02-05 20:19:19 INFO    : multi-lu-coil-modelling, (abstractsolver.py :100 ) - Solver validation ... complete\n",
      "2021-02-05 20:19:19 INFO    : multi-lu-coil-modelling, (abstractsolver.py :93  ) - Tubes validation ... complete\n",
      "2021-02-05 20:19:19 INFO    : multi-lu-coil-modelling, (interface.py      :140 ) - Received tubes:[\n",
      "\tTube(id='', d=89.0, th=11.45124626576759, th0=6.5, sigma=9117030.624456653, mu=57.290815735024786),]\n",
      "2021-02-05 20:19:19 INFO    : multi-lu-coil-modelling, (interface.py      :144 ) - Mesh loading ... complete\n",
      "2021-02-05 20:19:21 INFO    : multi-lu-coil-modelling, (interface.py      :114 ) - Modelling tool averaging\n",
      "2021-02-05 20:19:21 INFO    : multi-lu-coil-modelling, (interface.py      :172 ) - Done\n",
      "2021-02-05 20:19:21 INFO    : multi-lu-coil-modelling, (interface.py      :23  ) - Using cim-triangular solver\n",
      "2021-02-05 20:19:21 INFO    : multi-lu-coil-modelling, (abstractsolver.py :100 ) - Solver validation ... complete\n",
      "2021-02-05 20:19:21 INFO    : multi-lu-coil-modelling, (abstractsolver.py :93  ) - Tubes validation ... complete\n",
      "2021-02-05 20:19:21 INFO    : multi-lu-coil-modelling, (interface.py      :140 ) - Received tubes:[\n",
      "\tTube(id='', d=89.0, th=11.45124626576759, th0=6.5, sigma=8205327.562006988, mu=128.90431790380575),]\n",
      "2021-02-05 20:19:21 INFO    : multi-lu-coil-modelling, (interface.py      :144 ) - Mesh loading ... complete\n",
      "2021-02-05 20:19:22 INFO    : multi-lu-coil-modelling, (interface.py      :114 ) - Modelling tool averaging\n",
      "2021-02-05 20:19:22 INFO    : multi-lu-coil-modelling, (interface.py      :172 ) - Done\n",
      "2021-02-05 20:19:22 INFO    : multi-lu-coil-modelling, (interface.py      :23  ) - Using cim-triangular solver\n",
      "2021-02-05 20:19:22 INFO    : multi-lu-coil-modelling, (abstractsolver.py :100 ) - Solver validation ... complete\n",
      "2021-02-05 20:19:22 INFO    : multi-lu-coil-modelling, (abstractsolver.py :93  ) - Tubes validation ... complete\n",
      "2021-02-05 20:19:22 INFO    : multi-lu-coil-modelling, (interface.py      :140 ) - Received tubes:[\n",
      "\tTube(id='', d=89.0, th=11.45124626576759, th0=6.5, sigma=9117030.624456653, mu=85.93621860253718),]\n"
     ]
    },
    {
     "name": "stderr",
     "output_type": "stream",
     "text": [
      "2021-02-05 20:19:22 INFO    : multi-lu-coil-modelling, (interface.py      :144 ) - Mesh loading ... complete\n",
      "2021-02-05 20:19:24 INFO    : multi-lu-coil-modelling, (interface.py      :114 ) - Modelling tool averaging\n",
      "2021-02-05 20:19:24 INFO    : multi-lu-coil-modelling, (interface.py      :172 ) - Done\n",
      "2021-02-05 20:19:24 INFO    : multi-lu-coil-modelling, (interface.py      :23  ) - Using cim-triangular solver\n",
      "2021-02-05 20:19:24 INFO    : multi-lu-coil-modelling, (abstractsolver.py :100 ) - Solver validation ... complete\n",
      "2021-02-05 20:19:24 INFO    : multi-lu-coil-modelling, (abstractsolver.py :93  ) - Tubes validation ... complete\n",
      "2021-02-05 20:19:24 INFO    : multi-lu-coil-modelling, (interface.py      :140 ) - Received tubes:[\n",
      "\tTube(id='', d=89.0, th=11.45124626576759, th0=6.5, sigma=8205327.562006988, mu=128.90431790380575),]\n",
      "2021-02-05 20:19:24 INFO    : multi-lu-coil-modelling, (interface.py      :144 ) - Mesh loading ... complete\n",
      "2021-02-05 20:19:26 INFO    : multi-lu-coil-modelling, (interface.py      :114 ) - Modelling tool averaging\n",
      "2021-02-05 20:19:26 INFO    : multi-lu-coil-modelling, (interface.py      :172 ) - Done\n",
      "2021-02-05 20:19:26 INFO    : multi-lu-coil-modelling, (interface.py      :23  ) - Using cim-triangular solver\n",
      "2021-02-05 20:19:26 INFO    : multi-lu-coil-modelling, (abstractsolver.py :100 ) - Solver validation ... complete\n",
      "2021-02-05 20:19:26 INFO    : multi-lu-coil-modelling, (abstractsolver.py :93  ) - Tubes validation ... complete\n",
      "2021-02-05 20:19:26 INFO    : multi-lu-coil-modelling, (interface.py      :140 ) - Received tubes:[\n",
      "\tTube(id='', d=89.0, th=11.45124626576759, th0=6.5, sigma=9117030.624456653, mu=114.58162147004957),]\n",
      "2021-02-05 20:19:26 INFO    : multi-lu-coil-modelling, (interface.py      :144 ) - Mesh loading ... complete\n",
      "2021-02-05 20:19:27 INFO    : multi-lu-coil-modelling, (interface.py      :114 ) - Modelling tool averaging\n",
      "2021-02-05 20:19:28 INFO    : multi-lu-coil-modelling, (interface.py      :172 ) - Done\n",
      "2021-02-05 20:19:28 INFO    : multi-lu-coil-modelling, (interface.py      :23  ) - Using cim-triangular solver\n",
      "2021-02-05 20:19:28 INFO    : multi-lu-coil-modelling, (abstractsolver.py :100 ) - Solver validation ... complete\n",
      "2021-02-05 20:19:28 INFO    : multi-lu-coil-modelling, (abstractsolver.py :93  ) - Tubes validation ... complete\n",
      "2021-02-05 20:19:28 INFO    : multi-lu-coil-modelling, (interface.py      :140 ) - Received tubes:[\n",
      "\tTube(id='', d=89.0, th=11.45124626576759, th0=6.5, sigma=8205327.562006988, mu=128.90431790380575),]\n",
      "2021-02-05 20:19:28 INFO    : multi-lu-coil-modelling, (interface.py      :144 ) - Mesh loading ... complete\n",
      "2021-02-05 20:19:29 INFO    : multi-lu-coil-modelling, (interface.py      :114 ) - Modelling tool averaging\n",
      "2021-02-05 20:19:29 INFO    : multi-lu-coil-modelling, (interface.py      :172 ) - Done\n",
      "2021-02-05 20:19:29 INFO    : multi-lu-coil-modelling, (interface.py      :23  ) - Using cim-triangular solver\n",
      "2021-02-05 20:19:29 INFO    : multi-lu-coil-modelling, (abstractsolver.py :100 ) - Solver validation ... complete\n",
      "2021-02-05 20:19:29 INFO    : multi-lu-coil-modelling, (abstractsolver.py :93  ) - Tubes validation ... complete\n",
      "2021-02-05 20:19:29 INFO    : multi-lu-coil-modelling, (interface.py      :140 ) - Received tubes:[\n",
      "\tTube(id='', d=89.0, th=11.45124626576759, th0=6.5, sigma=9117030.624456653, mu=143.22702433756197),]\n",
      "2021-02-05 20:19:29 INFO    : multi-lu-coil-modelling, (interface.py      :144 ) - Mesh loading ... complete\n",
      "2021-02-05 20:19:31 INFO    : multi-lu-coil-modelling, (interface.py      :114 ) - Modelling tool averaging\n",
      "2021-02-05 20:19:31 INFO    : multi-lu-coil-modelling, (interface.py      :172 ) - Done\n",
      "2021-02-05 20:19:31 INFO    : multi-lu-coil-modelling, (interface.py      :23  ) - Using cim-triangular solver\n",
      "2021-02-05 20:19:31 INFO    : multi-lu-coil-modelling, (abstractsolver.py :100 ) - Solver validation ... complete\n",
      "2021-02-05 20:19:31 INFO    : multi-lu-coil-modelling, (abstractsolver.py :93  ) - Tubes validation ... complete\n",
      "2021-02-05 20:19:31 INFO    : multi-lu-coil-modelling, (interface.py      :140 ) - Received tubes:[\n",
      "\tTube(id='', d=89.0, th=11.45124626576759, th0=6.5, sigma=8205327.562006988, mu=128.90431790380575),]\n",
      "2021-02-05 20:19:31 INFO    : multi-lu-coil-modelling, (interface.py      :144 ) - Mesh loading ... complete\n",
      "2021-02-05 20:19:32 INFO    : multi-lu-coil-modelling, (interface.py      :114 ) - Modelling tool averaging\n",
      "2021-02-05 20:19:32 INFO    : multi-lu-coil-modelling, (interface.py      :172 ) - Done\n",
      "2021-02-05 20:19:32 INFO    : multi-lu-coil-modelling, (interface.py      :23  ) - Using cim-triangular solver\n",
      "2021-02-05 20:19:32 INFO    : multi-lu-coil-modelling, (abstractsolver.py :100 ) - Solver validation ... complete\n",
      "2021-02-05 20:19:32 INFO    : multi-lu-coil-modelling, (abstractsolver.py :93  ) - Tubes validation ... complete\n",
      "2021-02-05 20:19:32 INFO    : multi-lu-coil-modelling, (interface.py      :140 ) - Received tubes:[\n",
      "\tTube(id='', d=89.0, th=11.45124626576759, th0=6.5, sigma=9117030.624456653, mu=171.87242720507436),]\n",
      "2021-02-05 20:19:32 INFO    : multi-lu-coil-modelling, (interface.py      :144 ) - Mesh loading ... complete\n",
      "2021-02-05 20:19:34 INFO    : multi-lu-coil-modelling, (interface.py      :114 ) - Modelling tool averaging\n",
      "2021-02-05 20:19:34 INFO    : multi-lu-coil-modelling, (interface.py      :172 ) - Done\n",
      "2021-02-05 20:19:34 INFO    : multi-lu-coil-modelling, (interface.py      :23  ) - Using cim-triangular solver\n",
      "2021-02-05 20:19:34 INFO    : multi-lu-coil-modelling, (abstractsolver.py :100 ) - Solver validation ... complete\n",
      "2021-02-05 20:19:34 INFO    : multi-lu-coil-modelling, (abstractsolver.py :93  ) - Tubes validation ... complete\n",
      "2021-02-05 20:19:34 INFO    : multi-lu-coil-modelling, (interface.py      :140 ) - Received tubes:[\n",
      "\tTube(id='', d=89.0, th=11.45124626576759, th0=6.5, sigma=8205327.562006988, mu=128.90431790380575),]\n",
      "2021-02-05 20:19:34 INFO    : multi-lu-coil-modelling, (interface.py      :144 ) - Mesh loading ... complete\n",
      "2021-02-05 20:19:35 INFO    : multi-lu-coil-modelling, (interface.py      :114 ) - Modelling tool averaging\n",
      "2021-02-05 20:19:35 INFO    : multi-lu-coil-modelling, (interface.py      :172 ) - Done\n",
      "2021-02-05 20:19:35 INFO    : multi-lu-coil-modelling, (interface.py      :23  ) - Using cim-triangular solver\n",
      "2021-02-05 20:19:35 INFO    : multi-lu-coil-modelling, (abstractsolver.py :100 ) - Solver validation ... complete\n",
      "2021-02-05 20:19:35 INFO    : multi-lu-coil-modelling, (abstractsolver.py :93  ) - Tubes validation ... complete\n",
      "2021-02-05 20:19:35 INFO    : multi-lu-coil-modelling, (interface.py      :140 ) - Received tubes:[\n",
      "\tTube(id='', d=89.0, th=11.45124626576759, th0=6.5, sigma=9117030.624456653, mu=200.51783007258675),]\n",
      "2021-02-05 20:19:35 INFO    : multi-lu-coil-modelling, (interface.py      :144 ) - Mesh loading ... complete\n",
      "2021-02-05 20:19:37 INFO    : multi-lu-coil-modelling, (interface.py      :114 ) - Modelling tool averaging\n",
      "2021-02-05 20:19:37 INFO    : multi-lu-coil-modelling, (interface.py      :172 ) - Done\n",
      "2021-02-05 20:19:37 INFO    : multi-lu-coil-modelling, (interface.py      :23  ) - Using cim-triangular solver\n",
      "2021-02-05 20:19:37 INFO    : multi-lu-coil-modelling, (abstractsolver.py :100 ) - Solver validation ... complete\n",
      "2021-02-05 20:19:37 INFO    : multi-lu-coil-modelling, (abstractsolver.py :93  ) - Tubes validation ... complete\n",
      "2021-02-05 20:19:37 INFO    : multi-lu-coil-modelling, (interface.py      :140 ) - Received tubes:[\n",
      "\tTube(id='', d=89.0, th=11.45124626576759, th0=6.5, sigma=8205327.562006988, mu=128.90431790380575),]\n",
      "2021-02-05 20:19:37 INFO    : multi-lu-coil-modelling, (interface.py      :144 ) - Mesh loading ... complete\n",
      "2021-02-05 20:19:38 INFO    : multi-lu-coil-modelling, (interface.py      :114 ) - Modelling tool averaging\n",
      "2021-02-05 20:19:38 INFO    : multi-lu-coil-modelling, (interface.py      :172 ) - Done\n",
      "2021-02-05 20:19:38 INFO    : multi-lu-coil-modelling, (interface.py      :23  ) - Using cim-triangular solver\n",
      "2021-02-05 20:19:38 INFO    : multi-lu-coil-modelling, (abstractsolver.py :100 ) - Solver validation ... complete\n",
      "2021-02-05 20:19:38 INFO    : multi-lu-coil-modelling, (abstractsolver.py :93  ) - Tubes validation ... complete\n"
     ]
    },
    {
     "name": "stderr",
     "output_type": "stream",
     "text": [
      "2021-02-05 20:19:38 INFO    : multi-lu-coil-modelling, (interface.py      :140 ) - Received tubes:[\n",
      "\tTube(id='', d=89.0, th=11.45124626576759, th0=6.5, sigma=9117030.624456653, mu=229.16323294009914),]\n",
      "2021-02-05 20:19:38 INFO    : multi-lu-coil-modelling, (interface.py      :144 ) - Mesh loading ... complete\n",
      "2021-02-05 20:19:40 INFO    : multi-lu-coil-modelling, (interface.py      :114 ) - Modelling tool averaging\n",
      "2021-02-05 20:19:40 INFO    : multi-lu-coil-modelling, (interface.py      :172 ) - Done\n",
      "2021-02-05 20:19:40 INFO    : multi-lu-coil-modelling, (interface.py      :23  ) - Using cim-triangular solver\n",
      "2021-02-05 20:19:40 INFO    : multi-lu-coil-modelling, (abstractsolver.py :100 ) - Solver validation ... complete\n",
      "2021-02-05 20:19:40 INFO    : multi-lu-coil-modelling, (abstractsolver.py :93  ) - Tubes validation ... complete\n",
      "2021-02-05 20:19:40 INFO    : multi-lu-coil-modelling, (interface.py      :140 ) - Received tubes:[\n",
      "\tTube(id='', d=89.0, th=11.45124626576759, th0=6.5, sigma=8205327.562006988, mu=128.90431790380575),]\n",
      "2021-02-05 20:19:40 INFO    : multi-lu-coil-modelling, (interface.py      :144 ) - Mesh loading ... complete\n",
      "2021-02-05 20:19:42 INFO    : multi-lu-coil-modelling, (interface.py      :114 ) - Modelling tool averaging\n",
      "2021-02-05 20:19:42 INFO    : multi-lu-coil-modelling, (interface.py      :172 ) - Done\n",
      "2021-02-05 20:19:42 INFO    : multi-lu-coil-modelling, (interface.py      :23  ) - Using cim-triangular solver\n",
      "2021-02-05 20:19:42 INFO    : multi-lu-coil-modelling, (abstractsolver.py :100 ) - Solver validation ... complete\n",
      "2021-02-05 20:19:42 INFO    : multi-lu-coil-modelling, (abstractsolver.py :93  ) - Tubes validation ... complete\n",
      "2021-02-05 20:19:42 INFO    : multi-lu-coil-modelling, (interface.py      :140 ) - Received tubes:[\n",
      "\tTube(id='', d=89.0, th=11.45124626576759, th0=6.5, sigma=9117030.624456653, mu=257.8086358076115),]\n",
      "2021-02-05 20:19:42 INFO    : multi-lu-coil-modelling, (interface.py      :144 ) - Mesh loading ... complete\n",
      "2021-02-05 20:19:44 INFO    : multi-lu-coil-modelling, (interface.py      :114 ) - Modelling tool averaging\n",
      "2021-02-05 20:19:44 INFO    : multi-lu-coil-modelling, (interface.py      :172 ) - Done\n",
      "2021-02-05 20:19:44 INFO    : multi-lu-coil-modelling, (interface.py      :23  ) - Using cim-triangular solver\n",
      "2021-02-05 20:19:44 INFO    : multi-lu-coil-modelling, (abstractsolver.py :100 ) - Solver validation ... complete\n",
      "2021-02-05 20:19:44 INFO    : multi-lu-coil-modelling, (abstractsolver.py :93  ) - Tubes validation ... complete\n",
      "2021-02-05 20:19:44 INFO    : multi-lu-coil-modelling, (interface.py      :140 ) - Received tubes:[\n",
      "\tTube(id='', d=89.0, th=11.45124626576759, th0=6.5, sigma=8205327.562006988, mu=128.90431790380575),]\n",
      "2021-02-05 20:19:44 INFO    : multi-lu-coil-modelling, (interface.py      :144 ) - Mesh loading ... complete\n",
      "2021-02-05 20:19:45 INFO    : multi-lu-coil-modelling, (interface.py      :114 ) - Modelling tool averaging\n",
      "2021-02-05 20:19:45 INFO    : multi-lu-coil-modelling, (interface.py      :172 ) - Done\n",
      "2021-02-05 20:19:45 INFO    : multi-lu-coil-modelling, (interface.py      :23  ) - Using cim-triangular solver\n",
      "2021-02-05 20:19:45 INFO    : multi-lu-coil-modelling, (abstractsolver.py :100 ) - Solver validation ... complete\n",
      "2021-02-05 20:19:45 INFO    : multi-lu-coil-modelling, (abstractsolver.py :93  ) - Tubes validation ... complete\n",
      "2021-02-05 20:19:45 INFO    : multi-lu-coil-modelling, (interface.py      :140 ) - Received tubes:[\n",
      "\tTube(id='', d=89.0, th=11.45124626576759, th0=6.5, sigma=10940436.749345982, mu=1e-05),]\n",
      "2021-02-05 20:19:45 INFO    : multi-lu-coil-modelling, (interface.py      :144 ) - Mesh loading ... complete\n",
      "2021-02-05 20:19:47 INFO    : multi-lu-coil-modelling, (interface.py      :114 ) - Modelling tool averaging\n",
      "2021-02-05 20:19:47 INFO    : multi-lu-coil-modelling, (interface.py      :172 ) - Done\n",
      "2021-02-05 20:19:47 INFO    : multi-lu-coil-modelling, (interface.py      :23  ) - Using cim-triangular solver\n",
      "2021-02-05 20:19:47 INFO    : multi-lu-coil-modelling, (abstractsolver.py :100 ) - Solver validation ... complete\n",
      "2021-02-05 20:19:47 INFO    : multi-lu-coil-modelling, (abstractsolver.py :93  ) - Tubes validation ... complete\n",
      "2021-02-05 20:19:47 INFO    : multi-lu-coil-modelling, (interface.py      :140 ) - Received tubes:[\n",
      "\tTube(id='', d=89.0, th=11.45124626576759, th0=6.5, sigma=8205327.562006988, mu=128.90431790380575),]\n",
      "2021-02-05 20:19:47 INFO    : multi-lu-coil-modelling, (interface.py      :144 ) - Mesh loading ... complete\n",
      "2021-02-05 20:19:48 INFO    : multi-lu-coil-modelling, (interface.py      :114 ) - Modelling tool averaging\n",
      "2021-02-05 20:19:48 INFO    : multi-lu-coil-modelling, (interface.py      :172 ) - Done\n",
      "2021-02-05 20:19:48 INFO    : multi-lu-coil-modelling, (interface.py      :23  ) - Using cim-triangular solver\n",
      "2021-02-05 20:19:48 INFO    : multi-lu-coil-modelling, (abstractsolver.py :100 ) - Solver validation ... complete\n",
      "2021-02-05 20:19:48 INFO    : multi-lu-coil-modelling, (abstractsolver.py :93  ) - Tubes validation ... complete\n",
      "2021-02-05 20:19:48 INFO    : multi-lu-coil-modelling, (interface.py      :140 ) - Received tubes:[\n",
      "\tTube(id='', d=89.0, th=11.45124626576759, th0=6.5, sigma=10940436.749345982, mu=28.64541286751239),]\n",
      "2021-02-05 20:19:48 INFO    : multi-lu-coil-modelling, (interface.py      :144 ) - Mesh loading ... complete\n",
      "2021-02-05 20:19:50 INFO    : multi-lu-coil-modelling, (interface.py      :114 ) - Modelling tool averaging\n",
      "2021-02-05 20:19:50 INFO    : multi-lu-coil-modelling, (interface.py      :172 ) - Done\n",
      "2021-02-05 20:19:50 INFO    : multi-lu-coil-modelling, (interface.py      :23  ) - Using cim-triangular solver\n",
      "2021-02-05 20:19:50 INFO    : multi-lu-coil-modelling, (abstractsolver.py :100 ) - Solver validation ... complete\n",
      "2021-02-05 20:19:50 INFO    : multi-lu-coil-modelling, (abstractsolver.py :93  ) - Tubes validation ... complete\n",
      "2021-02-05 20:19:50 INFO    : multi-lu-coil-modelling, (interface.py      :140 ) - Received tubes:[\n",
      "\tTube(id='', d=89.0, th=11.45124626576759, th0=6.5, sigma=8205327.562006988, mu=128.90431790380575),]\n",
      "2021-02-05 20:19:50 INFO    : multi-lu-coil-modelling, (interface.py      :144 ) - Mesh loading ... complete\n",
      "2021-02-05 20:19:52 INFO    : multi-lu-coil-modelling, (interface.py      :114 ) - Modelling tool averaging\n",
      "2021-02-05 20:19:52 INFO    : multi-lu-coil-modelling, (interface.py      :172 ) - Done\n",
      "2021-02-05 20:19:52 INFO    : multi-lu-coil-modelling, (interface.py      :23  ) - Using cim-triangular solver\n",
      "2021-02-05 20:19:52 INFO    : multi-lu-coil-modelling, (abstractsolver.py :100 ) - Solver validation ... complete\n",
      "2021-02-05 20:19:52 INFO    : multi-lu-coil-modelling, (abstractsolver.py :93  ) - Tubes validation ... complete\n",
      "2021-02-05 20:19:52 INFO    : multi-lu-coil-modelling, (interface.py      :140 ) - Received tubes:[\n",
      "\tTube(id='', d=89.0, th=11.45124626576759, th0=6.5, sigma=10940436.749345982, mu=57.290815735024786),]\n",
      "2021-02-05 20:19:52 INFO    : multi-lu-coil-modelling, (interface.py      :144 ) - Mesh loading ... complete\n",
      "2021-02-05 20:19:54 INFO    : multi-lu-coil-modelling, (interface.py      :114 ) - Modelling tool averaging\n",
      "2021-02-05 20:19:54 INFO    : multi-lu-coil-modelling, (interface.py      :172 ) - Done\n",
      "2021-02-05 20:19:54 INFO    : multi-lu-coil-modelling, (interface.py      :23  ) - Using cim-triangular solver\n",
      "2021-02-05 20:19:54 INFO    : multi-lu-coil-modelling, (abstractsolver.py :100 ) - Solver validation ... complete\n",
      "2021-02-05 20:19:54 INFO    : multi-lu-coil-modelling, (abstractsolver.py :93  ) - Tubes validation ... complete\n",
      "2021-02-05 20:19:54 INFO    : multi-lu-coil-modelling, (interface.py      :140 ) - Received tubes:[\n",
      "\tTube(id='', d=89.0, th=11.45124626576759, th0=6.5, sigma=8205327.562006988, mu=128.90431790380575),]\n",
      "2021-02-05 20:19:54 INFO    : multi-lu-coil-modelling, (interface.py      :144 ) - Mesh loading ... complete\n",
      "2021-02-05 20:19:55 INFO    : multi-lu-coil-modelling, (interface.py      :114 ) - Modelling tool averaging\n",
      "2021-02-05 20:19:55 INFO    : multi-lu-coil-modelling, (interface.py      :172 ) - Done\n",
      "2021-02-05 20:19:55 INFO    : multi-lu-coil-modelling, (interface.py      :23  ) - Using cim-triangular solver\n"
     ]
    },
    {
     "name": "stderr",
     "output_type": "stream",
     "text": [
      "2021-02-05 20:19:55 INFO    : multi-lu-coil-modelling, (abstractsolver.py :100 ) - Solver validation ... complete\n",
      "2021-02-05 20:19:55 INFO    : multi-lu-coil-modelling, (abstractsolver.py :93  ) - Tubes validation ... complete\n",
      "2021-02-05 20:19:55 INFO    : multi-lu-coil-modelling, (interface.py      :140 ) - Received tubes:[\n",
      "\tTube(id='', d=89.0, th=11.45124626576759, th0=6.5, sigma=10940436.749345982, mu=85.93621860253718),]\n",
      "2021-02-05 20:19:55 INFO    : multi-lu-coil-modelling, (interface.py      :144 ) - Mesh loading ... complete\n",
      "2021-02-05 20:19:57 INFO    : multi-lu-coil-modelling, (interface.py      :114 ) - Modelling tool averaging\n",
      "2021-02-05 20:19:57 INFO    : multi-lu-coil-modelling, (interface.py      :172 ) - Done\n",
      "2021-02-05 20:19:57 INFO    : multi-lu-coil-modelling, (interface.py      :23  ) - Using cim-triangular solver\n",
      "2021-02-05 20:19:57 INFO    : multi-lu-coil-modelling, (abstractsolver.py :100 ) - Solver validation ... complete\n",
      "2021-02-05 20:19:57 INFO    : multi-lu-coil-modelling, (abstractsolver.py :93  ) - Tubes validation ... complete\n",
      "2021-02-05 20:19:57 INFO    : multi-lu-coil-modelling, (interface.py      :140 ) - Received tubes:[\n",
      "\tTube(id='', d=89.0, th=11.45124626576759, th0=6.5, sigma=8205327.562006988, mu=128.90431790380575),]\n",
      "2021-02-05 20:19:57 INFO    : multi-lu-coil-modelling, (interface.py      :144 ) - Mesh loading ... complete\n",
      "2021-02-05 20:19:58 INFO    : multi-lu-coil-modelling, (interface.py      :114 ) - Modelling tool averaging\n",
      "2021-02-05 20:19:58 INFO    : multi-lu-coil-modelling, (interface.py      :172 ) - Done\n",
      "2021-02-05 20:19:58 INFO    : multi-lu-coil-modelling, (interface.py      :23  ) - Using cim-triangular solver\n",
      "2021-02-05 20:19:58 INFO    : multi-lu-coil-modelling, (abstractsolver.py :100 ) - Solver validation ... complete\n",
      "2021-02-05 20:19:58 INFO    : multi-lu-coil-modelling, (abstractsolver.py :93  ) - Tubes validation ... complete\n",
      "2021-02-05 20:19:58 INFO    : multi-lu-coil-modelling, (interface.py      :140 ) - Received tubes:[\n",
      "\tTube(id='', d=89.0, th=11.45124626576759, th0=6.5, sigma=10940436.749345982, mu=114.58162147004957),]\n",
      "2021-02-05 20:19:58 INFO    : multi-lu-coil-modelling, (interface.py      :144 ) - Mesh loading ... complete\n",
      "2021-02-05 20:20:00 INFO    : multi-lu-coil-modelling, (interface.py      :114 ) - Modelling tool averaging\n",
      "2021-02-05 20:20:00 INFO    : multi-lu-coil-modelling, (interface.py      :172 ) - Done\n",
      "2021-02-05 20:20:00 INFO    : multi-lu-coil-modelling, (interface.py      :23  ) - Using cim-triangular solver\n",
      "2021-02-05 20:20:00 INFO    : multi-lu-coil-modelling, (abstractsolver.py :100 ) - Solver validation ... complete\n",
      "2021-02-05 20:20:00 INFO    : multi-lu-coil-modelling, (abstractsolver.py :93  ) - Tubes validation ... complete\n",
      "2021-02-05 20:20:00 INFO    : multi-lu-coil-modelling, (interface.py      :140 ) - Received tubes:[\n",
      "\tTube(id='', d=89.0, th=11.45124626576759, th0=6.5, sigma=8205327.562006988, mu=128.90431790380575),]\n",
      "2021-02-05 20:20:00 INFO    : multi-lu-coil-modelling, (interface.py      :144 ) - Mesh loading ... complete\n",
      "2021-02-05 20:20:02 INFO    : multi-lu-coil-modelling, (interface.py      :114 ) - Modelling tool averaging\n",
      "2021-02-05 20:20:02 INFO    : multi-lu-coil-modelling, (interface.py      :172 ) - Done\n",
      "2021-02-05 20:20:02 INFO    : multi-lu-coil-modelling, (interface.py      :23  ) - Using cim-triangular solver\n",
      "2021-02-05 20:20:02 INFO    : multi-lu-coil-modelling, (abstractsolver.py :100 ) - Solver validation ... complete\n",
      "2021-02-05 20:20:02 INFO    : multi-lu-coil-modelling, (abstractsolver.py :93  ) - Tubes validation ... complete\n",
      "2021-02-05 20:20:02 INFO    : multi-lu-coil-modelling, (interface.py      :140 ) - Received tubes:[\n",
      "\tTube(id='', d=89.0, th=11.45124626576759, th0=6.5, sigma=10940436.749345982, mu=143.22702433756197),]\n",
      "2021-02-05 20:20:02 INFO    : multi-lu-coil-modelling, (interface.py      :144 ) - Mesh loading ... complete\n",
      "2021-02-05 20:20:03 INFO    : multi-lu-coil-modelling, (interface.py      :114 ) - Modelling tool averaging\n",
      "2021-02-05 20:20:03 INFO    : multi-lu-coil-modelling, (interface.py      :172 ) - Done\n",
      "2021-02-05 20:20:03 INFO    : multi-lu-coil-modelling, (interface.py      :23  ) - Using cim-triangular solver\n",
      "2021-02-05 20:20:03 INFO    : multi-lu-coil-modelling, (abstractsolver.py :100 ) - Solver validation ... complete\n",
      "2021-02-05 20:20:03 INFO    : multi-lu-coil-modelling, (abstractsolver.py :93  ) - Tubes validation ... complete\n",
      "2021-02-05 20:20:03 INFO    : multi-lu-coil-modelling, (interface.py      :140 ) - Received tubes:[\n",
      "\tTube(id='', d=89.0, th=11.45124626576759, th0=6.5, sigma=8205327.562006988, mu=128.90431790380575),]\n",
      "2021-02-05 20:20:03 INFO    : multi-lu-coil-modelling, (interface.py      :144 ) - Mesh loading ... complete\n",
      "2021-02-05 20:20:05 INFO    : multi-lu-coil-modelling, (interface.py      :114 ) - Modelling tool averaging\n",
      "2021-02-05 20:20:05 INFO    : multi-lu-coil-modelling, (interface.py      :172 ) - Done\n",
      "2021-02-05 20:20:05 INFO    : multi-lu-coil-modelling, (interface.py      :23  ) - Using cim-triangular solver\n",
      "2021-02-05 20:20:05 INFO    : multi-lu-coil-modelling, (abstractsolver.py :100 ) - Solver validation ... complete\n",
      "2021-02-05 20:20:05 INFO    : multi-lu-coil-modelling, (abstractsolver.py :93  ) - Tubes validation ... complete\n",
      "2021-02-05 20:20:05 INFO    : multi-lu-coil-modelling, (interface.py      :140 ) - Received tubes:[\n",
      "\tTube(id='', d=89.0, th=11.45124626576759, th0=6.5, sigma=10940436.749345982, mu=171.87242720507436),]\n",
      "2021-02-05 20:20:05 INFO    : multi-lu-coil-modelling, (interface.py      :144 ) - Mesh loading ... complete\n",
      "2021-02-05 20:20:06 INFO    : multi-lu-coil-modelling, (interface.py      :114 ) - Modelling tool averaging\n",
      "2021-02-05 20:20:06 INFO    : multi-lu-coil-modelling, (interface.py      :172 ) - Done\n",
      "2021-02-05 20:20:06 INFO    : multi-lu-coil-modelling, (interface.py      :23  ) - Using cim-triangular solver\n",
      "2021-02-05 20:20:06 INFO    : multi-lu-coil-modelling, (abstractsolver.py :100 ) - Solver validation ... complete\n",
      "2021-02-05 20:20:06 INFO    : multi-lu-coil-modelling, (abstractsolver.py :93  ) - Tubes validation ... complete\n",
      "2021-02-05 20:20:06 INFO    : multi-lu-coil-modelling, (interface.py      :140 ) - Received tubes:[\n",
      "\tTube(id='', d=89.0, th=11.45124626576759, th0=6.5, sigma=8205327.562006988, mu=128.90431790380575),]\n",
      "2021-02-05 20:20:06 INFO    : multi-lu-coil-modelling, (interface.py      :144 ) - Mesh loading ... complete\n",
      "2021-02-05 20:20:08 INFO    : multi-lu-coil-modelling, (interface.py      :114 ) - Modelling tool averaging\n",
      "2021-02-05 20:20:08 INFO    : multi-lu-coil-modelling, (interface.py      :172 ) - Done\n",
      "2021-02-05 20:20:08 INFO    : multi-lu-coil-modelling, (interface.py      :23  ) - Using cim-triangular solver\n",
      "2021-02-05 20:20:08 INFO    : multi-lu-coil-modelling, (abstractsolver.py :100 ) - Solver validation ... complete\n",
      "2021-02-05 20:20:08 INFO    : multi-lu-coil-modelling, (abstractsolver.py :93  ) - Tubes validation ... complete\n",
      "2021-02-05 20:20:08 INFO    : multi-lu-coil-modelling, (interface.py      :140 ) - Received tubes:[\n",
      "\tTube(id='', d=89.0, th=11.45124626576759, th0=6.5, sigma=10940436.749345982, mu=200.51783007258675),]\n",
      "2021-02-05 20:20:08 INFO    : multi-lu-coil-modelling, (interface.py      :144 ) - Mesh loading ... complete\n",
      "2021-02-05 20:20:10 INFO    : multi-lu-coil-modelling, (interface.py      :114 ) - Modelling tool averaging\n",
      "2021-02-05 20:20:10 INFO    : multi-lu-coil-modelling, (interface.py      :172 ) - Done\n",
      "2021-02-05 20:20:10 INFO    : multi-lu-coil-modelling, (interface.py      :23  ) - Using cim-triangular solver\n",
      "2021-02-05 20:20:10 INFO    : multi-lu-coil-modelling, (abstractsolver.py :100 ) - Solver validation ... complete\n",
      "2021-02-05 20:20:10 INFO    : multi-lu-coil-modelling, (abstractsolver.py :93  ) - Tubes validation ... complete\n",
      "2021-02-05 20:20:10 INFO    : multi-lu-coil-modelling, (interface.py      :140 ) - Received tubes:[\n",
      "\tTube(id='', d=89.0, th=11.45124626576759, th0=6.5, sigma=8205327.562006988, mu=128.90431790380575),]\n",
      "2021-02-05 20:20:10 INFO    : multi-lu-coil-modelling, (interface.py      :144 ) - Mesh loading ... complete\n",
      "2021-02-05 20:20:11 INFO    : multi-lu-coil-modelling, (interface.py      :114 ) - Modelling tool averaging\n"
     ]
    },
    {
     "name": "stderr",
     "output_type": "stream",
     "text": [
      "2021-02-05 20:20:11 INFO    : multi-lu-coil-modelling, (interface.py      :172 ) - Done\n",
      "2021-02-05 20:20:11 INFO    : multi-lu-coil-modelling, (interface.py      :23  ) - Using cim-triangular solver\n",
      "2021-02-05 20:20:11 INFO    : multi-lu-coil-modelling, (abstractsolver.py :100 ) - Solver validation ... complete\n",
      "2021-02-05 20:20:11 INFO    : multi-lu-coil-modelling, (abstractsolver.py :93  ) - Tubes validation ... complete\n",
      "2021-02-05 20:20:11 INFO    : multi-lu-coil-modelling, (interface.py      :140 ) - Received tubes:[\n",
      "\tTube(id='', d=89.0, th=11.45124626576759, th0=6.5, sigma=10940436.749345982, mu=229.16323294009914),]\n",
      "2021-02-05 20:20:11 INFO    : multi-lu-coil-modelling, (interface.py      :144 ) - Mesh loading ... complete\n",
      "2021-02-05 20:20:13 INFO    : multi-lu-coil-modelling, (interface.py      :114 ) - Modelling tool averaging\n",
      "2021-02-05 20:20:13 INFO    : multi-lu-coil-modelling, (interface.py      :172 ) - Done\n",
      "2021-02-05 20:20:13 INFO    : multi-lu-coil-modelling, (interface.py      :23  ) - Using cim-triangular solver\n",
      "2021-02-05 20:20:13 INFO    : multi-lu-coil-modelling, (abstractsolver.py :100 ) - Solver validation ... complete\n",
      "2021-02-05 20:20:13 INFO    : multi-lu-coil-modelling, (abstractsolver.py :93  ) - Tubes validation ... complete\n",
      "2021-02-05 20:20:13 INFO    : multi-lu-coil-modelling, (interface.py      :140 ) - Received tubes:[\n",
      "\tTube(id='', d=89.0, th=11.45124626576759, th0=6.5, sigma=8205327.562006988, mu=128.90431790380575),]\n",
      "2021-02-05 20:20:13 INFO    : multi-lu-coil-modelling, (interface.py      :144 ) - Mesh loading ... complete\n",
      "2021-02-05 20:20:15 INFO    : multi-lu-coil-modelling, (interface.py      :114 ) - Modelling tool averaging\n",
      "2021-02-05 20:20:15 INFO    : multi-lu-coil-modelling, (interface.py      :172 ) - Done\n",
      "2021-02-05 20:20:15 INFO    : multi-lu-coil-modelling, (interface.py      :23  ) - Using cim-triangular solver\n",
      "2021-02-05 20:20:15 INFO    : multi-lu-coil-modelling, (abstractsolver.py :100 ) - Solver validation ... complete\n",
      "2021-02-05 20:20:15 INFO    : multi-lu-coil-modelling, (abstractsolver.py :93  ) - Tubes validation ... complete\n",
      "2021-02-05 20:20:15 INFO    : multi-lu-coil-modelling, (interface.py      :140 ) - Received tubes:[\n",
      "\tTube(id='', d=89.0, th=11.45124626576759, th0=6.5, sigma=10940436.749345982, mu=257.8086358076115),]\n",
      "2021-02-05 20:20:15 INFO    : multi-lu-coil-modelling, (interface.py      :144 ) - Mesh loading ... complete\n",
      "2021-02-05 20:20:17 INFO    : multi-lu-coil-modelling, (interface.py      :114 ) - Modelling tool averaging\n",
      "2021-02-05 20:20:17 INFO    : multi-lu-coil-modelling, (interface.py      :172 ) - Done\n",
      "2021-02-05 20:20:17 INFO    : multi-lu-coil-modelling, (interface.py      :23  ) - Using cim-triangular solver\n",
      "2021-02-05 20:20:17 INFO    : multi-lu-coil-modelling, (abstractsolver.py :100 ) - Solver validation ... complete\n",
      "2021-02-05 20:20:17 INFO    : multi-lu-coil-modelling, (abstractsolver.py :93  ) - Tubes validation ... complete\n",
      "2021-02-05 20:20:17 INFO    : multi-lu-coil-modelling, (interface.py      :140 ) - Received tubes:[\n",
      "\tTube(id='', d=89.0, th=11.45124626576759, th0=6.5, sigma=8205327.562006988, mu=128.90431790380575),]\n",
      "2021-02-05 20:20:17 INFO    : multi-lu-coil-modelling, (interface.py      :144 ) - Mesh loading ... complete\n",
      "2021-02-05 20:20:18 INFO    : multi-lu-coil-modelling, (interface.py      :114 ) - Modelling tool averaging\n",
      "2021-02-05 20:20:18 INFO    : multi-lu-coil-modelling, (interface.py      :172 ) - Done\n",
      "2021-02-05 20:20:18 INFO    : multi-lu-coil-modelling, (interface.py      :23  ) - Using cim-triangular solver\n",
      "2021-02-05 20:20:18 INFO    : multi-lu-coil-modelling, (abstractsolver.py :100 ) - Solver validation ... complete\n",
      "2021-02-05 20:20:18 INFO    : multi-lu-coil-modelling, (abstractsolver.py :93  ) - Tubes validation ... complete\n",
      "2021-02-05 20:20:18 INFO    : multi-lu-coil-modelling, (interface.py      :140 ) - Received tubes:[\n",
      "\tTube(id='', d=89.0, th=11.45124626576759, th0=6.5, sigma=12763842.874235313, mu=1e-05),]\n",
      "2021-02-05 20:20:18 INFO    : multi-lu-coil-modelling, (interface.py      :144 ) - Mesh loading ... complete\n",
      "2021-02-05 20:20:20 INFO    : multi-lu-coil-modelling, (interface.py      :114 ) - Modelling tool averaging\n",
      "2021-02-05 20:20:20 INFO    : multi-lu-coil-modelling, (interface.py      :172 ) - Done\n",
      "2021-02-05 20:20:20 INFO    : multi-lu-coil-modelling, (interface.py      :23  ) - Using cim-triangular solver\n",
      "2021-02-05 20:20:20 INFO    : multi-lu-coil-modelling, (abstractsolver.py :100 ) - Solver validation ... complete\n",
      "2021-02-05 20:20:20 INFO    : multi-lu-coil-modelling, (abstractsolver.py :93  ) - Tubes validation ... complete\n",
      "2021-02-05 20:20:20 INFO    : multi-lu-coil-modelling, (interface.py      :140 ) - Received tubes:[\n",
      "\tTube(id='', d=89.0, th=11.45124626576759, th0=6.5, sigma=8205327.562006988, mu=128.90431790380575),]\n",
      "2021-02-05 20:20:20 INFO    : multi-lu-coil-modelling, (interface.py      :144 ) - Mesh loading ... complete\n",
      "2021-02-05 20:20:21 INFO    : multi-lu-coil-modelling, (interface.py      :114 ) - Modelling tool averaging\n",
      "2021-02-05 20:20:21 INFO    : multi-lu-coil-modelling, (interface.py      :172 ) - Done\n",
      "2021-02-05 20:20:21 INFO    : multi-lu-coil-modelling, (interface.py      :23  ) - Using cim-triangular solver\n",
      "2021-02-05 20:20:21 INFO    : multi-lu-coil-modelling, (abstractsolver.py :100 ) - Solver validation ... complete\n",
      "2021-02-05 20:20:21 INFO    : multi-lu-coil-modelling, (abstractsolver.py :93  ) - Tubes validation ... complete\n",
      "2021-02-05 20:20:21 INFO    : multi-lu-coil-modelling, (interface.py      :140 ) - Received tubes:[\n",
      "\tTube(id='', d=89.0, th=11.45124626576759, th0=6.5, sigma=12763842.874235313, mu=28.64541286751239),]\n",
      "2021-02-05 20:20:21 INFO    : multi-lu-coil-modelling, (interface.py      :144 ) - Mesh loading ... complete\n",
      "2021-02-05 20:20:23 INFO    : multi-lu-coil-modelling, (interface.py      :114 ) - Modelling tool averaging\n",
      "2021-02-05 20:20:23 INFO    : multi-lu-coil-modelling, (interface.py      :172 ) - Done\n",
      "2021-02-05 20:20:23 INFO    : multi-lu-coil-modelling, (interface.py      :23  ) - Using cim-triangular solver\n",
      "2021-02-05 20:20:23 INFO    : multi-lu-coil-modelling, (abstractsolver.py :100 ) - Solver validation ... complete\n",
      "2021-02-05 20:20:23 INFO    : multi-lu-coil-modelling, (abstractsolver.py :93  ) - Tubes validation ... complete\n",
      "2021-02-05 20:20:23 INFO    : multi-lu-coil-modelling, (interface.py      :140 ) - Received tubes:[\n",
      "\tTube(id='', d=89.0, th=11.45124626576759, th0=6.5, sigma=8205327.562006988, mu=128.90431790380575),]\n",
      "2021-02-05 20:20:23 INFO    : multi-lu-coil-modelling, (interface.py      :144 ) - Mesh loading ... complete\n",
      "2021-02-05 20:20:25 INFO    : multi-lu-coil-modelling, (interface.py      :114 ) - Modelling tool averaging\n",
      "2021-02-05 20:20:25 INFO    : multi-lu-coil-modelling, (interface.py      :172 ) - Done\n",
      "2021-02-05 20:20:25 INFO    : multi-lu-coil-modelling, (interface.py      :23  ) - Using cim-triangular solver\n",
      "2021-02-05 20:20:25 INFO    : multi-lu-coil-modelling, (abstractsolver.py :100 ) - Solver validation ... complete\n",
      "2021-02-05 20:20:25 INFO    : multi-lu-coil-modelling, (abstractsolver.py :93  ) - Tubes validation ... complete\n",
      "2021-02-05 20:20:25 INFO    : multi-lu-coil-modelling, (interface.py      :140 ) - Received tubes:[\n",
      "\tTube(id='', d=89.0, th=11.45124626576759, th0=6.5, sigma=12763842.874235313, mu=57.290815735024786),]\n",
      "2021-02-05 20:20:25 INFO    : multi-lu-coil-modelling, (interface.py      :144 ) - Mesh loading ... complete\n",
      "2021-02-05 20:20:26 INFO    : multi-lu-coil-modelling, (interface.py      :114 ) - Modelling tool averaging\n",
      "2021-02-05 20:20:26 INFO    : multi-lu-coil-modelling, (interface.py      :172 ) - Done\n",
      "2021-02-05 20:20:26 INFO    : multi-lu-coil-modelling, (interface.py      :23  ) - Using cim-triangular solver\n",
      "2021-02-05 20:20:26 INFO    : multi-lu-coil-modelling, (abstractsolver.py :100 ) - Solver validation ... complete\n",
      "2021-02-05 20:20:26 INFO    : multi-lu-coil-modelling, (abstractsolver.py :93  ) - Tubes validation ... complete\n",
      "2021-02-05 20:20:26 INFO    : multi-lu-coil-modelling, (interface.py      :140 ) - Received tubes:[\n",
      "\tTube(id='', d=89.0, th=11.45124626576759, th0=6.5, sigma=8205327.562006988, mu=128.90431790380575),]\n"
     ]
    },
    {
     "name": "stderr",
     "output_type": "stream",
     "text": [
      "2021-02-05 20:20:26 INFO    : multi-lu-coil-modelling, (interface.py      :144 ) - Mesh loading ... complete\n",
      "2021-02-05 20:20:28 INFO    : multi-lu-coil-modelling, (interface.py      :114 ) - Modelling tool averaging\n",
      "2021-02-05 20:20:28 INFO    : multi-lu-coil-modelling, (interface.py      :172 ) - Done\n",
      "2021-02-05 20:20:28 INFO    : multi-lu-coil-modelling, (interface.py      :23  ) - Using cim-triangular solver\n",
      "2021-02-05 20:20:28 INFO    : multi-lu-coil-modelling, (abstractsolver.py :100 ) - Solver validation ... complete\n",
      "2021-02-05 20:20:28 INFO    : multi-lu-coil-modelling, (abstractsolver.py :93  ) - Tubes validation ... complete\n",
      "2021-02-05 20:20:28 INFO    : multi-lu-coil-modelling, (interface.py      :140 ) - Received tubes:[\n",
      "\tTube(id='', d=89.0, th=11.45124626576759, th0=6.5, sigma=12763842.874235313, mu=85.93621860253718),]\n",
      "2021-02-05 20:20:28 INFO    : multi-lu-coil-modelling, (interface.py      :144 ) - Mesh loading ... complete\n",
      "2021-02-05 20:20:29 INFO    : multi-lu-coil-modelling, (interface.py      :114 ) - Modelling tool averaging\n",
      "2021-02-05 20:20:29 INFO    : multi-lu-coil-modelling, (interface.py      :172 ) - Done\n",
      "2021-02-05 20:20:29 INFO    : multi-lu-coil-modelling, (interface.py      :23  ) - Using cim-triangular solver\n",
      "2021-02-05 20:20:29 INFO    : multi-lu-coil-modelling, (abstractsolver.py :100 ) - Solver validation ... complete\n",
      "2021-02-05 20:20:29 INFO    : multi-lu-coil-modelling, (abstractsolver.py :93  ) - Tubes validation ... complete\n",
      "2021-02-05 20:20:29 INFO    : multi-lu-coil-modelling, (interface.py      :140 ) - Received tubes:[\n",
      "\tTube(id='', d=89.0, th=11.45124626576759, th0=6.5, sigma=8205327.562006988, mu=128.90431790380575),]\n",
      "2021-02-05 20:20:29 INFO    : multi-lu-coil-modelling, (interface.py      :144 ) - Mesh loading ... complete\n",
      "2021-02-05 20:20:31 INFO    : multi-lu-coil-modelling, (interface.py      :114 ) - Modelling tool averaging\n",
      "2021-02-05 20:20:31 INFO    : multi-lu-coil-modelling, (interface.py      :172 ) - Done\n",
      "2021-02-05 20:20:31 INFO    : multi-lu-coil-modelling, (interface.py      :23  ) - Using cim-triangular solver\n",
      "2021-02-05 20:20:31 INFO    : multi-lu-coil-modelling, (abstractsolver.py :100 ) - Solver validation ... complete\n",
      "2021-02-05 20:20:31 INFO    : multi-lu-coil-modelling, (abstractsolver.py :93  ) - Tubes validation ... complete\n",
      "2021-02-05 20:20:31 INFO    : multi-lu-coil-modelling, (interface.py      :140 ) - Received tubes:[\n",
      "\tTube(id='', d=89.0, th=11.45124626576759, th0=6.5, sigma=12763842.874235313, mu=114.58162147004957),]\n",
      "2021-02-05 20:20:31 INFO    : multi-lu-coil-modelling, (interface.py      :144 ) - Mesh loading ... complete\n",
      "2021-02-05 20:20:33 INFO    : multi-lu-coil-modelling, (interface.py      :114 ) - Modelling tool averaging\n",
      "2021-02-05 20:20:33 INFO    : multi-lu-coil-modelling, (interface.py      :172 ) - Done\n",
      "2021-02-05 20:20:33 INFO    : multi-lu-coil-modelling, (interface.py      :23  ) - Using cim-triangular solver\n",
      "2021-02-05 20:20:33 INFO    : multi-lu-coil-modelling, (abstractsolver.py :100 ) - Solver validation ... complete\n",
      "2021-02-05 20:20:33 INFO    : multi-lu-coil-modelling, (abstractsolver.py :93  ) - Tubes validation ... complete\n",
      "2021-02-05 20:20:33 INFO    : multi-lu-coil-modelling, (interface.py      :140 ) - Received tubes:[\n",
      "\tTube(id='', d=89.0, th=11.45124626576759, th0=6.5, sigma=8205327.562006988, mu=128.90431790380575),]\n",
      "2021-02-05 20:20:33 INFO    : multi-lu-coil-modelling, (interface.py      :144 ) - Mesh loading ... complete\n",
      "2021-02-05 20:20:34 INFO    : multi-lu-coil-modelling, (interface.py      :114 ) - Modelling tool averaging\n",
      "2021-02-05 20:20:34 INFO    : multi-lu-coil-modelling, (interface.py      :172 ) - Done\n",
      "2021-02-05 20:20:34 INFO    : multi-lu-coil-modelling, (interface.py      :23  ) - Using cim-triangular solver\n",
      "2021-02-05 20:20:34 INFO    : multi-lu-coil-modelling, (abstractsolver.py :100 ) - Solver validation ... complete\n",
      "2021-02-05 20:20:34 INFO    : multi-lu-coil-modelling, (abstractsolver.py :93  ) - Tubes validation ... complete\n",
      "2021-02-05 20:20:34 INFO    : multi-lu-coil-modelling, (interface.py      :140 ) - Received tubes:[\n",
      "\tTube(id='', d=89.0, th=11.45124626576759, th0=6.5, sigma=12763842.874235313, mu=143.22702433756197),]\n",
      "2021-02-05 20:20:34 INFO    : multi-lu-coil-modelling, (interface.py      :144 ) - Mesh loading ... complete\n",
      "2021-02-05 20:20:36 INFO    : multi-lu-coil-modelling, (interface.py      :114 ) - Modelling tool averaging\n",
      "2021-02-05 20:20:36 INFO    : multi-lu-coil-modelling, (interface.py      :172 ) - Done\n",
      "2021-02-05 20:20:36 INFO    : multi-lu-coil-modelling, (interface.py      :23  ) - Using cim-triangular solver\n",
      "2021-02-05 20:20:36 INFO    : multi-lu-coil-modelling, (abstractsolver.py :100 ) - Solver validation ... complete\n",
      "2021-02-05 20:20:36 INFO    : multi-lu-coil-modelling, (abstractsolver.py :93  ) - Tubes validation ... complete\n",
      "2021-02-05 20:20:36 INFO    : multi-lu-coil-modelling, (interface.py      :140 ) - Received tubes:[\n",
      "\tTube(id='', d=89.0, th=11.45124626576759, th0=6.5, sigma=8205327.562006988, mu=128.90431790380575),]\n",
      "2021-02-05 20:20:36 INFO    : multi-lu-coil-modelling, (interface.py      :144 ) - Mesh loading ... complete\n",
      "2021-02-05 20:20:38 INFO    : multi-lu-coil-modelling, (interface.py      :114 ) - Modelling tool averaging\n",
      "2021-02-05 20:20:38 INFO    : multi-lu-coil-modelling, (interface.py      :172 ) - Done\n",
      "2021-02-05 20:20:38 INFO    : multi-lu-coil-modelling, (interface.py      :23  ) - Using cim-triangular solver\n",
      "2021-02-05 20:20:38 INFO    : multi-lu-coil-modelling, (abstractsolver.py :100 ) - Solver validation ... complete\n",
      "2021-02-05 20:20:38 INFO    : multi-lu-coil-modelling, (abstractsolver.py :93  ) - Tubes validation ... complete\n",
      "2021-02-05 20:20:38 INFO    : multi-lu-coil-modelling, (interface.py      :140 ) - Received tubes:[\n",
      "\tTube(id='', d=89.0, th=11.45124626576759, th0=6.5, sigma=12763842.874235313, mu=171.87242720507436),]\n",
      "2021-02-05 20:20:38 INFO    : multi-lu-coil-modelling, (interface.py      :144 ) - Mesh loading ... complete\n",
      "2021-02-05 20:20:39 INFO    : multi-lu-coil-modelling, (interface.py      :114 ) - Modelling tool averaging\n",
      "2021-02-05 20:20:39 INFO    : multi-lu-coil-modelling, (interface.py      :172 ) - Done\n",
      "2021-02-05 20:20:39 INFO    : multi-lu-coil-modelling, (interface.py      :23  ) - Using cim-triangular solver\n",
      "2021-02-05 20:20:39 INFO    : multi-lu-coil-modelling, (abstractsolver.py :100 ) - Solver validation ... complete\n",
      "2021-02-05 20:20:39 INFO    : multi-lu-coil-modelling, (abstractsolver.py :93  ) - Tubes validation ... complete\n",
      "2021-02-05 20:20:39 INFO    : multi-lu-coil-modelling, (interface.py      :140 ) - Received tubes:[\n",
      "\tTube(id='', d=89.0, th=11.45124626576759, th0=6.5, sigma=8205327.562006988, mu=128.90431790380575),]\n",
      "2021-02-05 20:20:39 INFO    : multi-lu-coil-modelling, (interface.py      :144 ) - Mesh loading ... complete\n",
      "2021-02-05 20:20:41 INFO    : multi-lu-coil-modelling, (interface.py      :114 ) - Modelling tool averaging\n",
      "2021-02-05 20:20:41 INFO    : multi-lu-coil-modelling, (interface.py      :172 ) - Done\n",
      "2021-02-05 20:20:41 INFO    : multi-lu-coil-modelling, (interface.py      :23  ) - Using cim-triangular solver\n",
      "2021-02-05 20:20:41 INFO    : multi-lu-coil-modelling, (abstractsolver.py :100 ) - Solver validation ... complete\n",
      "2021-02-05 20:20:41 INFO    : multi-lu-coil-modelling, (abstractsolver.py :93  ) - Tubes validation ... complete\n",
      "2021-02-05 20:20:41 INFO    : multi-lu-coil-modelling, (interface.py      :140 ) - Received tubes:[\n",
      "\tTube(id='', d=89.0, th=11.45124626576759, th0=6.5, sigma=12763842.874235313, mu=200.51783007258675),]\n",
      "2021-02-05 20:20:41 INFO    : multi-lu-coil-modelling, (interface.py      :144 ) - Mesh loading ... complete\n",
      "2021-02-05 20:20:43 INFO    : multi-lu-coil-modelling, (interface.py      :114 ) - Modelling tool averaging\n",
      "2021-02-05 20:20:43 INFO    : multi-lu-coil-modelling, (interface.py      :172 ) - Done\n",
      "2021-02-05 20:20:43 INFO    : multi-lu-coil-modelling, (interface.py      :23  ) - Using cim-triangular solver\n",
      "2021-02-05 20:20:43 INFO    : multi-lu-coil-modelling, (abstractsolver.py :100 ) - Solver validation ... complete\n",
      "2021-02-05 20:20:43 INFO    : multi-lu-coil-modelling, (abstractsolver.py :93  ) - Tubes validation ... complete\n"
     ]
    },
    {
     "name": "stderr",
     "output_type": "stream",
     "text": [
      "2021-02-05 20:20:43 INFO    : multi-lu-coil-modelling, (interface.py      :140 ) - Received tubes:[\n",
      "\tTube(id='', d=89.0, th=11.45124626576759, th0=6.5, sigma=8205327.562006988, mu=128.90431790380575),]\n",
      "2021-02-05 20:20:43 INFO    : multi-lu-coil-modelling, (interface.py      :144 ) - Mesh loading ... complete\n",
      "2021-02-05 20:20:44 INFO    : multi-lu-coil-modelling, (interface.py      :114 ) - Modelling tool averaging\n",
      "2021-02-05 20:20:45 INFO    : multi-lu-coil-modelling, (interface.py      :172 ) - Done\n",
      "2021-02-05 20:20:45 INFO    : multi-lu-coil-modelling, (interface.py      :23  ) - Using cim-triangular solver\n",
      "2021-02-05 20:20:45 INFO    : multi-lu-coil-modelling, (abstractsolver.py :100 ) - Solver validation ... complete\n",
      "2021-02-05 20:20:45 INFO    : multi-lu-coil-modelling, (abstractsolver.py :93  ) - Tubes validation ... complete\n",
      "2021-02-05 20:20:45 INFO    : multi-lu-coil-modelling, (interface.py      :140 ) - Received tubes:[\n",
      "\tTube(id='', d=89.0, th=11.45124626576759, th0=6.5, sigma=12763842.874235313, mu=229.16323294009914),]\n",
      "2021-02-05 20:20:45 INFO    : multi-lu-coil-modelling, (interface.py      :144 ) - Mesh loading ... complete\n",
      "2021-02-05 20:20:46 INFO    : multi-lu-coil-modelling, (interface.py      :114 ) - Modelling tool averaging\n",
      "2021-02-05 20:20:46 INFO    : multi-lu-coil-modelling, (interface.py      :172 ) - Done\n",
      "2021-02-05 20:20:46 INFO    : multi-lu-coil-modelling, (interface.py      :23  ) - Using cim-triangular solver\n",
      "2021-02-05 20:20:46 INFO    : multi-lu-coil-modelling, (abstractsolver.py :100 ) - Solver validation ... complete\n",
      "2021-02-05 20:20:46 INFO    : multi-lu-coil-modelling, (abstractsolver.py :93  ) - Tubes validation ... complete\n",
      "2021-02-05 20:20:46 INFO    : multi-lu-coil-modelling, (interface.py      :140 ) - Received tubes:[\n",
      "\tTube(id='', d=89.0, th=11.45124626576759, th0=6.5, sigma=8205327.562006988, mu=128.90431790380575),]\n",
      "2021-02-05 20:20:46 INFO    : multi-lu-coil-modelling, (interface.py      :144 ) - Mesh loading ... complete\n",
      "2021-02-05 20:20:48 INFO    : multi-lu-coil-modelling, (interface.py      :114 ) - Modelling tool averaging\n",
      "2021-02-05 20:20:48 INFO    : multi-lu-coil-modelling, (interface.py      :172 ) - Done\n",
      "2021-02-05 20:20:48 INFO    : multi-lu-coil-modelling, (interface.py      :23  ) - Using cim-triangular solver\n",
      "2021-02-05 20:20:48 INFO    : multi-lu-coil-modelling, (abstractsolver.py :100 ) - Solver validation ... complete\n",
      "2021-02-05 20:20:48 INFO    : multi-lu-coil-modelling, (abstractsolver.py :93  ) - Tubes validation ... complete\n",
      "2021-02-05 20:20:48 INFO    : multi-lu-coil-modelling, (interface.py      :140 ) - Received tubes:[\n",
      "\tTube(id='', d=89.0, th=11.45124626576759, th0=6.5, sigma=12763842.874235313, mu=257.8086358076115),]\n",
      "2021-02-05 20:20:48 INFO    : multi-lu-coil-modelling, (interface.py      :144 ) - Mesh loading ... complete\n",
      "2021-02-05 20:20:49 INFO    : multi-lu-coil-modelling, (interface.py      :114 ) - Modelling tool averaging\n",
      "2021-02-05 20:20:49 INFO    : multi-lu-coil-modelling, (interface.py      :172 ) - Done\n",
      "2021-02-05 20:20:49 INFO    : multi-lu-coil-modelling, (interface.py      :23  ) - Using cim-triangular solver\n",
      "2021-02-05 20:20:49 INFO    : multi-lu-coil-modelling, (abstractsolver.py :100 ) - Solver validation ... complete\n",
      "2021-02-05 20:20:49 INFO    : multi-lu-coil-modelling, (abstractsolver.py :93  ) - Tubes validation ... complete\n",
      "2021-02-05 20:20:49 INFO    : multi-lu-coil-modelling, (interface.py      :140 ) - Received tubes:[\n",
      "\tTube(id='', d=89.0, th=11.45124626576759, th0=6.5, sigma=8205327.562006988, mu=128.90431790380575),]\n",
      "2021-02-05 20:20:49 INFO    : multi-lu-coil-modelling, (interface.py      :144 ) - Mesh loading ... complete\n",
      "2021-02-05 20:20:51 INFO    : multi-lu-coil-modelling, (interface.py      :114 ) - Modelling tool averaging\n",
      "2021-02-05 20:20:51 INFO    : multi-lu-coil-modelling, (interface.py      :172 ) - Done\n",
      "2021-02-05 20:20:51 INFO    : multi-lu-coil-modelling, (interface.py      :23  ) - Using cim-triangular solver\n",
      "2021-02-05 20:20:51 INFO    : multi-lu-coil-modelling, (abstractsolver.py :100 ) - Solver validation ... complete\n",
      "2021-02-05 20:20:51 INFO    : multi-lu-coil-modelling, (abstractsolver.py :93  ) - Tubes validation ... complete\n",
      "2021-02-05 20:20:51 INFO    : multi-lu-coil-modelling, (interface.py      :140 ) - Received tubes:[\n",
      "\tTube(id='', d=89.0, th=11.45124626576759, th0=6.5, sigma=14587248.999124644, mu=1e-05),]\n",
      "2021-02-05 20:20:51 INFO    : multi-lu-coil-modelling, (interface.py      :144 ) - Mesh loading ... complete\n",
      "2021-02-05 20:20:52 INFO    : multi-lu-coil-modelling, (interface.py      :114 ) - Modelling tool averaging\n",
      "2021-02-05 20:20:52 INFO    : multi-lu-coil-modelling, (interface.py      :172 ) - Done\n",
      "2021-02-05 20:20:52 INFO    : multi-lu-coil-modelling, (interface.py      :23  ) - Using cim-triangular solver\n",
      "2021-02-05 20:20:52 INFO    : multi-lu-coil-modelling, (abstractsolver.py :100 ) - Solver validation ... complete\n",
      "2021-02-05 20:20:52 INFO    : multi-lu-coil-modelling, (abstractsolver.py :93  ) - Tubes validation ... complete\n",
      "2021-02-05 20:20:52 INFO    : multi-lu-coil-modelling, (interface.py      :140 ) - Received tubes:[\n",
      "\tTube(id='', d=89.0, th=11.45124626576759, th0=6.5, sigma=8205327.562006988, mu=128.90431790380575),]\n",
      "2021-02-05 20:20:52 INFO    : multi-lu-coil-modelling, (interface.py      :144 ) - Mesh loading ... complete\n",
      "2021-02-05 20:20:54 INFO    : multi-lu-coil-modelling, (interface.py      :114 ) - Modelling tool averaging\n",
      "2021-02-05 20:20:54 INFO    : multi-lu-coil-modelling, (interface.py      :172 ) - Done\n",
      "2021-02-05 20:20:54 INFO    : multi-lu-coil-modelling, (interface.py      :23  ) - Using cim-triangular solver\n",
      "2021-02-05 20:20:54 INFO    : multi-lu-coil-modelling, (abstractsolver.py :100 ) - Solver validation ... complete\n",
      "2021-02-05 20:20:54 INFO    : multi-lu-coil-modelling, (abstractsolver.py :93  ) - Tubes validation ... complete\n",
      "2021-02-05 20:20:54 INFO    : multi-lu-coil-modelling, (interface.py      :140 ) - Received tubes:[\n",
      "\tTube(id='', d=89.0, th=11.45124626576759, th0=6.5, sigma=14587248.999124644, mu=28.64541286751239),]\n",
      "2021-02-05 20:20:54 INFO    : multi-lu-coil-modelling, (interface.py      :144 ) - Mesh loading ... complete\n",
      "2021-02-05 20:20:56 INFO    : multi-lu-coil-modelling, (interface.py      :114 ) - Modelling tool averaging\n",
      "2021-02-05 20:20:56 INFO    : multi-lu-coil-modelling, (interface.py      :172 ) - Done\n",
      "2021-02-05 20:20:56 INFO    : multi-lu-coil-modelling, (interface.py      :23  ) - Using cim-triangular solver\n",
      "2021-02-05 20:20:56 INFO    : multi-lu-coil-modelling, (abstractsolver.py :100 ) - Solver validation ... complete\n",
      "2021-02-05 20:20:56 INFO    : multi-lu-coil-modelling, (abstractsolver.py :93  ) - Tubes validation ... complete\n",
      "2021-02-05 20:20:56 INFO    : multi-lu-coil-modelling, (interface.py      :140 ) - Received tubes:[\n",
      "\tTube(id='', d=89.0, th=11.45124626576759, th0=6.5, sigma=8205327.562006988, mu=128.90431790380575),]\n",
      "2021-02-05 20:20:56 INFO    : multi-lu-coil-modelling, (interface.py      :144 ) - Mesh loading ... complete\n",
      "2021-02-05 20:20:57 INFO    : multi-lu-coil-modelling, (interface.py      :114 ) - Modelling tool averaging\n",
      "2021-02-05 20:20:57 INFO    : multi-lu-coil-modelling, (interface.py      :172 ) - Done\n",
      "2021-02-05 20:20:57 INFO    : multi-lu-coil-modelling, (interface.py      :23  ) - Using cim-triangular solver\n",
      "2021-02-05 20:20:57 INFO    : multi-lu-coil-modelling, (abstractsolver.py :100 ) - Solver validation ... complete\n",
      "2021-02-05 20:20:57 INFO    : multi-lu-coil-modelling, (abstractsolver.py :93  ) - Tubes validation ... complete\n",
      "2021-02-05 20:20:57 INFO    : multi-lu-coil-modelling, (interface.py      :140 ) - Received tubes:[\n",
      "\tTube(id='', d=89.0, th=11.45124626576759, th0=6.5, sigma=14587248.999124644, mu=57.290815735024786),]\n",
      "2021-02-05 20:20:57 INFO    : multi-lu-coil-modelling, (interface.py      :144 ) - Mesh loading ... complete\n",
      "2021-02-05 20:20:59 INFO    : multi-lu-coil-modelling, (interface.py      :114 ) - Modelling tool averaging\n",
      "2021-02-05 20:20:59 INFO    : multi-lu-coil-modelling, (interface.py      :172 ) - Done\n",
      "2021-02-05 20:20:59 INFO    : multi-lu-coil-modelling, (interface.py      :23  ) - Using cim-triangular solver\n"
     ]
    },
    {
     "name": "stderr",
     "output_type": "stream",
     "text": [
      "2021-02-05 20:20:59 INFO    : multi-lu-coil-modelling, (abstractsolver.py :100 ) - Solver validation ... complete\n",
      "2021-02-05 20:20:59 INFO    : multi-lu-coil-modelling, (abstractsolver.py :93  ) - Tubes validation ... complete\n",
      "2021-02-05 20:20:59 INFO    : multi-lu-coil-modelling, (interface.py      :140 ) - Received tubes:[\n",
      "\tTube(id='', d=89.0, th=11.45124626576759, th0=6.5, sigma=8205327.562006988, mu=128.90431790380575),]\n",
      "2021-02-05 20:20:59 INFO    : multi-lu-coil-modelling, (interface.py      :144 ) - Mesh loading ... complete\n",
      "2021-02-05 20:21:01 INFO    : multi-lu-coil-modelling, (interface.py      :114 ) - Modelling tool averaging\n",
      "2021-02-05 20:21:01 INFO    : multi-lu-coil-modelling, (interface.py      :172 ) - Done\n",
      "2021-02-05 20:21:01 INFO    : multi-lu-coil-modelling, (interface.py      :23  ) - Using cim-triangular solver\n",
      "2021-02-05 20:21:01 INFO    : multi-lu-coil-modelling, (abstractsolver.py :100 ) - Solver validation ... complete\n",
      "2021-02-05 20:21:01 INFO    : multi-lu-coil-modelling, (abstractsolver.py :93  ) - Tubes validation ... complete\n",
      "2021-02-05 20:21:01 INFO    : multi-lu-coil-modelling, (interface.py      :140 ) - Received tubes:[\n",
      "\tTube(id='', d=89.0, th=11.45124626576759, th0=6.5, sigma=14587248.999124644, mu=85.93621860253718),]\n",
      "2021-02-05 20:21:01 INFO    : multi-lu-coil-modelling, (interface.py      :144 ) - Mesh loading ... complete\n",
      "2021-02-05 20:21:02 INFO    : multi-lu-coil-modelling, (interface.py      :114 ) - Modelling tool averaging\n",
      "2021-02-05 20:21:02 INFO    : multi-lu-coil-modelling, (interface.py      :172 ) - Done\n",
      "2021-02-05 20:21:02 INFO    : multi-lu-coil-modelling, (interface.py      :23  ) - Using cim-triangular solver\n",
      "2021-02-05 20:21:02 INFO    : multi-lu-coil-modelling, (abstractsolver.py :100 ) - Solver validation ... complete\n",
      "2021-02-05 20:21:02 INFO    : multi-lu-coil-modelling, (abstractsolver.py :93  ) - Tubes validation ... complete\n",
      "2021-02-05 20:21:02 INFO    : multi-lu-coil-modelling, (interface.py      :140 ) - Received tubes:[\n",
      "\tTube(id='', d=89.0, th=11.45124626576759, th0=6.5, sigma=8205327.562006988, mu=128.90431790380575),]\n",
      "2021-02-05 20:21:02 INFO    : multi-lu-coil-modelling, (interface.py      :144 ) - Mesh loading ... complete\n",
      "2021-02-05 20:21:04 INFO    : multi-lu-coil-modelling, (interface.py      :114 ) - Modelling tool averaging\n",
      "2021-02-05 20:21:04 INFO    : multi-lu-coil-modelling, (interface.py      :172 ) - Done\n",
      "2021-02-05 20:21:04 INFO    : multi-lu-coil-modelling, (interface.py      :23  ) - Using cim-triangular solver\n",
      "2021-02-05 20:21:04 INFO    : multi-lu-coil-modelling, (abstractsolver.py :100 ) - Solver validation ... complete\n",
      "2021-02-05 20:21:04 INFO    : multi-lu-coil-modelling, (abstractsolver.py :93  ) - Tubes validation ... complete\n",
      "2021-02-05 20:21:04 INFO    : multi-lu-coil-modelling, (interface.py      :140 ) - Received tubes:[\n",
      "\tTube(id='', d=89.0, th=11.45124626576759, th0=6.5, sigma=14587248.999124644, mu=114.58162147004957),]\n",
      "2021-02-05 20:21:04 INFO    : multi-lu-coil-modelling, (interface.py      :144 ) - Mesh loading ... complete\n",
      "2021-02-05 20:21:05 INFO    : multi-lu-coil-modelling, (interface.py      :114 ) - Modelling tool averaging\n",
      "2021-02-05 20:21:05 INFO    : multi-lu-coil-modelling, (interface.py      :172 ) - Done\n",
      "2021-02-05 20:21:05 INFO    : multi-lu-coil-modelling, (interface.py      :23  ) - Using cim-triangular solver\n",
      "2021-02-05 20:21:05 INFO    : multi-lu-coil-modelling, (abstractsolver.py :100 ) - Solver validation ... complete\n",
      "2021-02-05 20:21:05 INFO    : multi-lu-coil-modelling, (abstractsolver.py :93  ) - Tubes validation ... complete\n",
      "2021-02-05 20:21:05 INFO    : multi-lu-coil-modelling, (interface.py      :140 ) - Received tubes:[\n",
      "\tTube(id='', d=89.0, th=11.45124626576759, th0=6.5, sigma=8205327.562006988, mu=128.90431790380575),]\n",
      "2021-02-05 20:21:05 INFO    : multi-lu-coil-modelling, (interface.py      :144 ) - Mesh loading ... complete\n",
      "2021-02-05 20:21:07 INFO    : multi-lu-coil-modelling, (interface.py      :114 ) - Modelling tool averaging\n",
      "2021-02-05 20:21:07 INFO    : multi-lu-coil-modelling, (interface.py      :172 ) - Done\n",
      "2021-02-05 20:21:07 INFO    : multi-lu-coil-modelling, (interface.py      :23  ) - Using cim-triangular solver\n",
      "2021-02-05 20:21:07 INFO    : multi-lu-coil-modelling, (abstractsolver.py :100 ) - Solver validation ... complete\n",
      "2021-02-05 20:21:07 INFO    : multi-lu-coil-modelling, (abstractsolver.py :93  ) - Tubes validation ... complete\n",
      "2021-02-05 20:21:07 INFO    : multi-lu-coil-modelling, (interface.py      :140 ) - Received tubes:[\n",
      "\tTube(id='', d=89.0, th=11.45124626576759, th0=6.5, sigma=14587248.999124644, mu=143.22702433756197),]\n",
      "2021-02-05 20:21:07 INFO    : multi-lu-coil-modelling, (interface.py      :144 ) - Mesh loading ... complete\n",
      "2021-02-05 20:21:08 INFO    : multi-lu-coil-modelling, (interface.py      :114 ) - Modelling tool averaging\n",
      "2021-02-05 20:21:08 INFO    : multi-lu-coil-modelling, (interface.py      :172 ) - Done\n",
      "2021-02-05 20:21:09 INFO    : multi-lu-coil-modelling, (interface.py      :23  ) - Using cim-triangular solver\n",
      "2021-02-05 20:21:09 INFO    : multi-lu-coil-modelling, (abstractsolver.py :100 ) - Solver validation ... complete\n",
      "2021-02-05 20:21:09 INFO    : multi-lu-coil-modelling, (abstractsolver.py :93  ) - Tubes validation ... complete\n",
      "2021-02-05 20:21:09 INFO    : multi-lu-coil-modelling, (interface.py      :140 ) - Received tubes:[\n",
      "\tTube(id='', d=89.0, th=11.45124626576759, th0=6.5, sigma=8205327.562006988, mu=128.90431790380575),]\n",
      "2021-02-05 20:21:09 INFO    : multi-lu-coil-modelling, (interface.py      :144 ) - Mesh loading ... complete\n",
      "2021-02-05 20:21:10 INFO    : multi-lu-coil-modelling, (interface.py      :114 ) - Modelling tool averaging\n",
      "2021-02-05 20:21:10 INFO    : multi-lu-coil-modelling, (interface.py      :172 ) - Done\n",
      "2021-02-05 20:21:10 INFO    : multi-lu-coil-modelling, (interface.py      :23  ) - Using cim-triangular solver\n",
      "2021-02-05 20:21:10 INFO    : multi-lu-coil-modelling, (abstractsolver.py :100 ) - Solver validation ... complete\n",
      "2021-02-05 20:21:10 INFO    : multi-lu-coil-modelling, (abstractsolver.py :93  ) - Tubes validation ... complete\n",
      "2021-02-05 20:21:10 INFO    : multi-lu-coil-modelling, (interface.py      :140 ) - Received tubes:[\n",
      "\tTube(id='', d=89.0, th=11.45124626576759, th0=6.5, sigma=14587248.999124644, mu=171.87242720507436),]\n",
      "2021-02-05 20:21:10 INFO    : multi-lu-coil-modelling, (interface.py      :144 ) - Mesh loading ... complete\n",
      "2021-02-05 20:21:12 INFO    : multi-lu-coil-modelling, (interface.py      :114 ) - Modelling tool averaging\n",
      "2021-02-05 20:21:12 INFO    : multi-lu-coil-modelling, (interface.py      :172 ) - Done\n",
      "2021-02-05 20:21:12 INFO    : multi-lu-coil-modelling, (interface.py      :23  ) - Using cim-triangular solver\n",
      "2021-02-05 20:21:12 INFO    : multi-lu-coil-modelling, (abstractsolver.py :100 ) - Solver validation ... complete\n",
      "2021-02-05 20:21:12 INFO    : multi-lu-coil-modelling, (abstractsolver.py :93  ) - Tubes validation ... complete\n",
      "2021-02-05 20:21:12 INFO    : multi-lu-coil-modelling, (interface.py      :140 ) - Received tubes:[\n",
      "\tTube(id='', d=89.0, th=11.45124626576759, th0=6.5, sigma=8205327.562006988, mu=128.90431790380575),]\n",
      "2021-02-05 20:21:12 INFO    : multi-lu-coil-modelling, (interface.py      :144 ) - Mesh loading ... complete\n",
      "2021-02-05 20:21:13 INFO    : multi-lu-coil-modelling, (interface.py      :114 ) - Modelling tool averaging\n",
      "2021-02-05 20:21:13 INFO    : multi-lu-coil-modelling, (interface.py      :172 ) - Done\n",
      "2021-02-05 20:21:13 INFO    : multi-lu-coil-modelling, (interface.py      :23  ) - Using cim-triangular solver\n",
      "2021-02-05 20:21:13 INFO    : multi-lu-coil-modelling, (abstractsolver.py :100 ) - Solver validation ... complete\n",
      "2021-02-05 20:21:13 INFO    : multi-lu-coil-modelling, (abstractsolver.py :93  ) - Tubes validation ... complete\n",
      "2021-02-05 20:21:13 INFO    : multi-lu-coil-modelling, (interface.py      :140 ) - Received tubes:[\n",
      "\tTube(id='', d=89.0, th=11.45124626576759, th0=6.5, sigma=14587248.999124644, mu=200.51783007258675),]\n",
      "2021-02-05 20:21:13 INFO    : multi-lu-coil-modelling, (interface.py      :144 ) - Mesh loading ... complete\n",
      "2021-02-05 20:21:15 INFO    : multi-lu-coil-modelling, (interface.py      :114 ) - Modelling tool averaging\n"
     ]
    },
    {
     "name": "stderr",
     "output_type": "stream",
     "text": [
      "2021-02-05 20:21:15 INFO    : multi-lu-coil-modelling, (interface.py      :172 ) - Done\n",
      "2021-02-05 20:21:15 INFO    : multi-lu-coil-modelling, (interface.py      :23  ) - Using cim-triangular solver\n",
      "2021-02-05 20:21:15 INFO    : multi-lu-coil-modelling, (abstractsolver.py :100 ) - Solver validation ... complete\n",
      "2021-02-05 20:21:15 INFO    : multi-lu-coil-modelling, (abstractsolver.py :93  ) - Tubes validation ... complete\n",
      "2021-02-05 20:21:15 INFO    : multi-lu-coil-modelling, (interface.py      :140 ) - Received tubes:[\n",
      "\tTube(id='', d=89.0, th=11.45124626576759, th0=6.5, sigma=8205327.562006988, mu=128.90431790380575),]\n",
      "2021-02-05 20:21:15 INFO    : multi-lu-coil-modelling, (interface.py      :144 ) - Mesh loading ... complete\n",
      "2021-02-05 20:21:16 INFO    : multi-lu-coil-modelling, (interface.py      :114 ) - Modelling tool averaging\n",
      "2021-02-05 20:21:16 INFO    : multi-lu-coil-modelling, (interface.py      :172 ) - Done\n",
      "2021-02-05 20:21:17 INFO    : multi-lu-coil-modelling, (interface.py      :23  ) - Using cim-triangular solver\n",
      "2021-02-05 20:21:17 INFO    : multi-lu-coil-modelling, (abstractsolver.py :100 ) - Solver validation ... complete\n",
      "2021-02-05 20:21:17 INFO    : multi-lu-coil-modelling, (abstractsolver.py :93  ) - Tubes validation ... complete\n",
      "2021-02-05 20:21:17 INFO    : multi-lu-coil-modelling, (interface.py      :140 ) - Received tubes:[\n",
      "\tTube(id='', d=89.0, th=11.45124626576759, th0=6.5, sigma=14587248.999124644, mu=229.16323294009914),]\n",
      "2021-02-05 20:21:17 INFO    : multi-lu-coil-modelling, (interface.py      :144 ) - Mesh loading ... complete\n",
      "2021-02-05 20:21:18 INFO    : multi-lu-coil-modelling, (interface.py      :114 ) - Modelling tool averaging\n",
      "2021-02-05 20:21:18 INFO    : multi-lu-coil-modelling, (interface.py      :172 ) - Done\n",
      "2021-02-05 20:21:18 INFO    : multi-lu-coil-modelling, (interface.py      :23  ) - Using cim-triangular solver\n",
      "2021-02-05 20:21:18 INFO    : multi-lu-coil-modelling, (abstractsolver.py :100 ) - Solver validation ... complete\n",
      "2021-02-05 20:21:18 INFO    : multi-lu-coil-modelling, (abstractsolver.py :93  ) - Tubes validation ... complete\n",
      "2021-02-05 20:21:18 INFO    : multi-lu-coil-modelling, (interface.py      :140 ) - Received tubes:[\n",
      "\tTube(id='', d=89.0, th=11.45124626576759, th0=6.5, sigma=8205327.562006988, mu=128.90431790380575),]\n",
      "2021-02-05 20:21:18 INFO    : multi-lu-coil-modelling, (interface.py      :144 ) - Mesh loading ... complete\n",
      "2021-02-05 20:21:20 INFO    : multi-lu-coil-modelling, (interface.py      :114 ) - Modelling tool averaging\n",
      "2021-02-05 20:21:20 INFO    : multi-lu-coil-modelling, (interface.py      :172 ) - Done\n",
      "2021-02-05 20:21:20 INFO    : multi-lu-coil-modelling, (interface.py      :23  ) - Using cim-triangular solver\n",
      "2021-02-05 20:21:20 INFO    : multi-lu-coil-modelling, (abstractsolver.py :100 ) - Solver validation ... complete\n",
      "2021-02-05 20:21:20 INFO    : multi-lu-coil-modelling, (abstractsolver.py :93  ) - Tubes validation ... complete\n",
      "2021-02-05 20:21:20 INFO    : multi-lu-coil-modelling, (interface.py      :140 ) - Received tubes:[\n",
      "\tTube(id='', d=89.0, th=11.45124626576759, th0=6.5, sigma=14587248.999124644, mu=257.8086358076115),]\n",
      "2021-02-05 20:21:20 INFO    : multi-lu-coil-modelling, (interface.py      :144 ) - Mesh loading ... complete\n",
      "2021-02-05 20:21:21 INFO    : multi-lu-coil-modelling, (interface.py      :114 ) - Modelling tool averaging\n",
      "2021-02-05 20:21:21 INFO    : multi-lu-coil-modelling, (interface.py      :172 ) - Done\n",
      "2021-02-05 20:21:21 INFO    : multi-lu-coil-modelling, (interface.py      :23  ) - Using cim-triangular solver\n",
      "2021-02-05 20:21:21 INFO    : multi-lu-coil-modelling, (abstractsolver.py :100 ) - Solver validation ... complete\n",
      "2021-02-05 20:21:21 INFO    : multi-lu-coil-modelling, (abstractsolver.py :93  ) - Tubes validation ... complete\n",
      "2021-02-05 20:21:21 INFO    : multi-lu-coil-modelling, (interface.py      :140 ) - Received tubes:[\n",
      "\tTube(id='', d=89.0, th=11.45124626576759, th0=6.5, sigma=8205327.562006988, mu=128.90431790380575),]\n",
      "2021-02-05 20:21:21 INFO    : multi-lu-coil-modelling, (interface.py      :144 ) - Mesh loading ... complete\n",
      "2021-02-05 20:21:23 INFO    : multi-lu-coil-modelling, (interface.py      :114 ) - Modelling tool averaging\n",
      "2021-02-05 20:21:23 INFO    : multi-lu-coil-modelling, (interface.py      :172 ) - Done\n",
      "2021-02-05 20:21:23 INFO    : multi-lu-coil-modelling, (interface.py      :23  ) - Using cim-triangular solver\n",
      "2021-02-05 20:21:23 INFO    : multi-lu-coil-modelling, (abstractsolver.py :100 ) - Solver validation ... complete\n",
      "2021-02-05 20:21:23 INFO    : multi-lu-coil-modelling, (abstractsolver.py :93  ) - Tubes validation ... complete\n",
      "2021-02-05 20:21:23 INFO    : multi-lu-coil-modelling, (interface.py      :140 ) - Received tubes:[\n",
      "\tTube(id='', d=89.0, th=11.45124626576759, th0=6.5, sigma=16410655.124013975, mu=1e-05),]\n",
      "2021-02-05 20:21:23 INFO    : multi-lu-coil-modelling, (interface.py      :144 ) - Mesh loading ... complete\n",
      "2021-02-05 20:21:25 INFO    : multi-lu-coil-modelling, (interface.py      :114 ) - Modelling tool averaging\n",
      "2021-02-05 20:21:25 INFO    : multi-lu-coil-modelling, (interface.py      :172 ) - Done\n",
      "2021-02-05 20:21:25 INFO    : multi-lu-coil-modelling, (interface.py      :23  ) - Using cim-triangular solver\n",
      "2021-02-05 20:21:25 INFO    : multi-lu-coil-modelling, (abstractsolver.py :100 ) - Solver validation ... complete\n",
      "2021-02-05 20:21:25 INFO    : multi-lu-coil-modelling, (abstractsolver.py :93  ) - Tubes validation ... complete\n",
      "2021-02-05 20:21:25 INFO    : multi-lu-coil-modelling, (interface.py      :140 ) - Received tubes:[\n",
      "\tTube(id='', d=89.0, th=11.45124626576759, th0=6.5, sigma=8205327.562006988, mu=128.90431790380575),]\n",
      "2021-02-05 20:21:25 INFO    : multi-lu-coil-modelling, (interface.py      :144 ) - Mesh loading ... complete\n",
      "2021-02-05 20:21:26 INFO    : multi-lu-coil-modelling, (interface.py      :114 ) - Modelling tool averaging\n",
      "2021-02-05 20:21:26 INFO    : multi-lu-coil-modelling, (interface.py      :172 ) - Done\n",
      "2021-02-05 20:21:26 INFO    : multi-lu-coil-modelling, (interface.py      :23  ) - Using cim-triangular solver\n",
      "2021-02-05 20:21:26 INFO    : multi-lu-coil-modelling, (abstractsolver.py :100 ) - Solver validation ... complete\n",
      "2021-02-05 20:21:26 INFO    : multi-lu-coil-modelling, (abstractsolver.py :93  ) - Tubes validation ... complete\n",
      "2021-02-05 20:21:26 INFO    : multi-lu-coil-modelling, (interface.py      :140 ) - Received tubes:[\n",
      "\tTube(id='', d=89.0, th=11.45124626576759, th0=6.5, sigma=16410655.124013975, mu=28.64541286751239),]\n",
      "2021-02-05 20:21:26 INFO    : multi-lu-coil-modelling, (interface.py      :144 ) - Mesh loading ... complete\n",
      "2021-02-05 20:21:28 INFO    : multi-lu-coil-modelling, (interface.py      :114 ) - Modelling tool averaging\n",
      "2021-02-05 20:21:28 INFO    : multi-lu-coil-modelling, (interface.py      :172 ) - Done\n",
      "2021-02-05 20:21:28 INFO    : multi-lu-coil-modelling, (interface.py      :23  ) - Using cim-triangular solver\n",
      "2021-02-05 20:21:28 INFO    : multi-lu-coil-modelling, (abstractsolver.py :100 ) - Solver validation ... complete\n",
      "2021-02-05 20:21:28 INFO    : multi-lu-coil-modelling, (abstractsolver.py :93  ) - Tubes validation ... complete\n",
      "2021-02-05 20:21:28 INFO    : multi-lu-coil-modelling, (interface.py      :140 ) - Received tubes:[\n",
      "\tTube(id='', d=89.0, th=11.45124626576759, th0=6.5, sigma=8205327.562006988, mu=128.90431790380575),]\n",
      "2021-02-05 20:21:28 INFO    : multi-lu-coil-modelling, (interface.py      :144 ) - Mesh loading ... complete\n",
      "2021-02-05 20:21:29 INFO    : multi-lu-coil-modelling, (interface.py      :114 ) - Modelling tool averaging\n",
      "2021-02-05 20:21:29 INFO    : multi-lu-coil-modelling, (interface.py      :172 ) - Done\n",
      "2021-02-05 20:21:29 INFO    : multi-lu-coil-modelling, (interface.py      :23  ) - Using cim-triangular solver\n",
      "2021-02-05 20:21:29 INFO    : multi-lu-coil-modelling, (abstractsolver.py :100 ) - Solver validation ... complete\n",
      "2021-02-05 20:21:29 INFO    : multi-lu-coil-modelling, (abstractsolver.py :93  ) - Tubes validation ... complete\n",
      "2021-02-05 20:21:29 INFO    : multi-lu-coil-modelling, (interface.py      :140 ) - Received tubes:[\n",
      "\tTube(id='', d=89.0, th=11.45124626576759, th0=6.5, sigma=16410655.124013975, mu=57.290815735024786),]\n"
     ]
    },
    {
     "name": "stderr",
     "output_type": "stream",
     "text": [
      "2021-02-05 20:21:29 INFO    : multi-lu-coil-modelling, (interface.py      :144 ) - Mesh loading ... complete\n",
      "2021-02-05 20:21:31 INFO    : multi-lu-coil-modelling, (interface.py      :114 ) - Modelling tool averaging\n",
      "2021-02-05 20:21:31 INFO    : multi-lu-coil-modelling, (interface.py      :172 ) - Done\n",
      "2021-02-05 20:21:31 INFO    : multi-lu-coil-modelling, (interface.py      :23  ) - Using cim-triangular solver\n",
      "2021-02-05 20:21:31 INFO    : multi-lu-coil-modelling, (abstractsolver.py :100 ) - Solver validation ... complete\n",
      "2021-02-05 20:21:31 INFO    : multi-lu-coil-modelling, (abstractsolver.py :93  ) - Tubes validation ... complete\n",
      "2021-02-05 20:21:31 INFO    : multi-lu-coil-modelling, (interface.py      :140 ) - Received tubes:[\n",
      "\tTube(id='', d=89.0, th=11.45124626576759, th0=6.5, sigma=8205327.562006988, mu=128.90431790380575),]\n",
      "2021-02-05 20:21:31 INFO    : multi-lu-coil-modelling, (interface.py      :144 ) - Mesh loading ... complete\n",
      "2021-02-05 20:21:32 INFO    : multi-lu-coil-modelling, (interface.py      :114 ) - Modelling tool averaging\n",
      "2021-02-05 20:21:32 INFO    : multi-lu-coil-modelling, (interface.py      :172 ) - Done\n",
      "2021-02-05 20:21:32 INFO    : multi-lu-coil-modelling, (interface.py      :23  ) - Using cim-triangular solver\n",
      "2021-02-05 20:21:32 INFO    : multi-lu-coil-modelling, (abstractsolver.py :100 ) - Solver validation ... complete\n",
      "2021-02-05 20:21:32 INFO    : multi-lu-coil-modelling, (abstractsolver.py :93  ) - Tubes validation ... complete\n",
      "2021-02-05 20:21:32 INFO    : multi-lu-coil-modelling, (interface.py      :140 ) - Received tubes:[\n",
      "\tTube(id='', d=89.0, th=11.45124626576759, th0=6.5, sigma=16410655.124013975, mu=85.93621860253718),]\n",
      "2021-02-05 20:21:32 INFO    : multi-lu-coil-modelling, (interface.py      :144 ) - Mesh loading ... complete\n",
      "2021-02-05 20:21:34 INFO    : multi-lu-coil-modelling, (interface.py      :114 ) - Modelling tool averaging\n",
      "2021-02-05 20:21:34 INFO    : multi-lu-coil-modelling, (interface.py      :172 ) - Done\n",
      "2021-02-05 20:21:34 INFO    : multi-lu-coil-modelling, (interface.py      :23  ) - Using cim-triangular solver\n",
      "2021-02-05 20:21:34 INFO    : multi-lu-coil-modelling, (abstractsolver.py :100 ) - Solver validation ... complete\n",
      "2021-02-05 20:21:34 INFO    : multi-lu-coil-modelling, (abstractsolver.py :93  ) - Tubes validation ... complete\n",
      "2021-02-05 20:21:34 INFO    : multi-lu-coil-modelling, (interface.py      :140 ) - Received tubes:[\n",
      "\tTube(id='', d=89.0, th=11.45124626576759, th0=6.5, sigma=8205327.562006988, mu=128.90431790380575),]\n",
      "2021-02-05 20:21:34 INFO    : multi-lu-coil-modelling, (interface.py      :144 ) - Mesh loading ... complete\n",
      "2021-02-05 20:21:35 INFO    : multi-lu-coil-modelling, (interface.py      :114 ) - Modelling tool averaging\n",
      "2021-02-05 20:21:35 INFO    : multi-lu-coil-modelling, (interface.py      :172 ) - Done\n",
      "2021-02-05 20:21:35 INFO    : multi-lu-coil-modelling, (interface.py      :23  ) - Using cim-triangular solver\n",
      "2021-02-05 20:21:35 INFO    : multi-lu-coil-modelling, (abstractsolver.py :100 ) - Solver validation ... complete\n",
      "2021-02-05 20:21:35 INFO    : multi-lu-coil-modelling, (abstractsolver.py :93  ) - Tubes validation ... complete\n",
      "2021-02-05 20:21:35 INFO    : multi-lu-coil-modelling, (interface.py      :140 ) - Received tubes:[\n",
      "\tTube(id='', d=89.0, th=11.45124626576759, th0=6.5, sigma=16410655.124013975, mu=114.58162147004957),]\n",
      "2021-02-05 20:21:35 INFO    : multi-lu-coil-modelling, (interface.py      :144 ) - Mesh loading ... complete\n",
      "2021-02-05 20:21:37 INFO    : multi-lu-coil-modelling, (interface.py      :114 ) - Modelling tool averaging\n",
      "2021-02-05 20:21:37 INFO    : multi-lu-coil-modelling, (interface.py      :172 ) - Done\n",
      "2021-02-05 20:21:37 INFO    : multi-lu-coil-modelling, (interface.py      :23  ) - Using cim-triangular solver\n",
      "2021-02-05 20:21:37 INFO    : multi-lu-coil-modelling, (abstractsolver.py :100 ) - Solver validation ... complete\n",
      "2021-02-05 20:21:37 INFO    : multi-lu-coil-modelling, (abstractsolver.py :93  ) - Tubes validation ... complete\n",
      "2021-02-05 20:21:37 INFO    : multi-lu-coil-modelling, (interface.py      :140 ) - Received tubes:[\n",
      "\tTube(id='', d=89.0, th=11.45124626576759, th0=6.5, sigma=8205327.562006988, mu=128.90431790380575),]\n",
      "2021-02-05 20:21:37 INFO    : multi-lu-coil-modelling, (interface.py      :144 ) - Mesh loading ... complete\n",
      "2021-02-05 20:21:39 INFO    : multi-lu-coil-modelling, (interface.py      :114 ) - Modelling tool averaging\n",
      "2021-02-05 20:21:39 INFO    : multi-lu-coil-modelling, (interface.py      :172 ) - Done\n",
      "2021-02-05 20:21:39 INFO    : multi-lu-coil-modelling, (interface.py      :23  ) - Using cim-triangular solver\n",
      "2021-02-05 20:21:39 INFO    : multi-lu-coil-modelling, (abstractsolver.py :100 ) - Solver validation ... complete\n",
      "2021-02-05 20:21:39 INFO    : multi-lu-coil-modelling, (abstractsolver.py :93  ) - Tubes validation ... complete\n",
      "2021-02-05 20:21:39 INFO    : multi-lu-coil-modelling, (interface.py      :140 ) - Received tubes:[\n",
      "\tTube(id='', d=89.0, th=11.45124626576759, th0=6.5, sigma=16410655.124013975, mu=143.22702433756197),]\n",
      "2021-02-05 20:21:39 INFO    : multi-lu-coil-modelling, (interface.py      :144 ) - Mesh loading ... complete\n",
      "2021-02-05 20:21:40 INFO    : multi-lu-coil-modelling, (interface.py      :114 ) - Modelling tool averaging\n",
      "2021-02-05 20:21:40 INFO    : multi-lu-coil-modelling, (interface.py      :172 ) - Done\n",
      "2021-02-05 20:21:40 INFO    : multi-lu-coil-modelling, (interface.py      :23  ) - Using cim-triangular solver\n",
      "2021-02-05 20:21:40 INFO    : multi-lu-coil-modelling, (abstractsolver.py :100 ) - Solver validation ... complete\n",
      "2021-02-05 20:21:40 INFO    : multi-lu-coil-modelling, (abstractsolver.py :93  ) - Tubes validation ... complete\n",
      "2021-02-05 20:21:40 INFO    : multi-lu-coil-modelling, (interface.py      :140 ) - Received tubes:[\n",
      "\tTube(id='', d=89.0, th=11.45124626576759, th0=6.5, sigma=8205327.562006988, mu=128.90431790380575),]\n",
      "2021-02-05 20:21:40 INFO    : multi-lu-coil-modelling, (interface.py      :144 ) - Mesh loading ... complete\n",
      "2021-02-05 20:21:42 INFO    : multi-lu-coil-modelling, (interface.py      :114 ) - Modelling tool averaging\n",
      "2021-02-05 20:21:42 INFO    : multi-lu-coil-modelling, (interface.py      :172 ) - Done\n",
      "2021-02-05 20:21:42 INFO    : multi-lu-coil-modelling, (interface.py      :23  ) - Using cim-triangular solver\n",
      "2021-02-05 20:21:42 INFO    : multi-lu-coil-modelling, (abstractsolver.py :100 ) - Solver validation ... complete\n",
      "2021-02-05 20:21:42 INFO    : multi-lu-coil-modelling, (abstractsolver.py :93  ) - Tubes validation ... complete\n",
      "2021-02-05 20:21:42 INFO    : multi-lu-coil-modelling, (interface.py      :140 ) - Received tubes:[\n",
      "\tTube(id='', d=89.0, th=11.45124626576759, th0=6.5, sigma=16410655.124013975, mu=171.87242720507436),]\n",
      "2021-02-05 20:21:42 INFO    : multi-lu-coil-modelling, (interface.py      :144 ) - Mesh loading ... complete\n",
      "2021-02-05 20:21:43 INFO    : multi-lu-coil-modelling, (interface.py      :114 ) - Modelling tool averaging\n",
      "2021-02-05 20:21:43 INFO    : multi-lu-coil-modelling, (interface.py      :172 ) - Done\n",
      "2021-02-05 20:21:43 INFO    : multi-lu-coil-modelling, (interface.py      :23  ) - Using cim-triangular solver\n",
      "2021-02-05 20:21:43 INFO    : multi-lu-coil-modelling, (abstractsolver.py :100 ) - Solver validation ... complete\n",
      "2021-02-05 20:21:43 INFO    : multi-lu-coil-modelling, (abstractsolver.py :93  ) - Tubes validation ... complete\n",
      "2021-02-05 20:21:43 INFO    : multi-lu-coil-modelling, (interface.py      :140 ) - Received tubes:[\n",
      "\tTube(id='', d=89.0, th=11.45124626576759, th0=6.5, sigma=8205327.562006988, mu=128.90431790380575),]\n",
      "2021-02-05 20:21:43 INFO    : multi-lu-coil-modelling, (interface.py      :144 ) - Mesh loading ... complete\n",
      "2021-02-05 20:21:45 INFO    : multi-lu-coil-modelling, (interface.py      :114 ) - Modelling tool averaging\n",
      "2021-02-05 20:21:45 INFO    : multi-lu-coil-modelling, (interface.py      :172 ) - Done\n",
      "2021-02-05 20:21:45 INFO    : multi-lu-coil-modelling, (interface.py      :23  ) - Using cim-triangular solver\n",
      "2021-02-05 20:21:45 INFO    : multi-lu-coil-modelling, (abstractsolver.py :100 ) - Solver validation ... complete\n",
      "2021-02-05 20:21:45 INFO    : multi-lu-coil-modelling, (abstractsolver.py :93  ) - Tubes validation ... complete\n"
     ]
    },
    {
     "name": "stderr",
     "output_type": "stream",
     "text": [
      "2021-02-05 20:21:45 INFO    : multi-lu-coil-modelling, (interface.py      :140 ) - Received tubes:[\n",
      "\tTube(id='', d=89.0, th=11.45124626576759, th0=6.5, sigma=16410655.124013975, mu=200.51783007258675),]\n",
      "2021-02-05 20:21:45 INFO    : multi-lu-coil-modelling, (interface.py      :144 ) - Mesh loading ... complete\n",
      "2021-02-05 20:21:46 INFO    : multi-lu-coil-modelling, (interface.py      :114 ) - Modelling tool averaging\n",
      "2021-02-05 20:21:46 INFO    : multi-lu-coil-modelling, (interface.py      :172 ) - Done\n",
      "2021-02-05 20:21:46 INFO    : multi-lu-coil-modelling, (interface.py      :23  ) - Using cim-triangular solver\n",
      "2021-02-05 20:21:46 INFO    : multi-lu-coil-modelling, (abstractsolver.py :100 ) - Solver validation ... complete\n",
      "2021-02-05 20:21:46 INFO    : multi-lu-coil-modelling, (abstractsolver.py :93  ) - Tubes validation ... complete\n",
      "2021-02-05 20:21:46 INFO    : multi-lu-coil-modelling, (interface.py      :140 ) - Received tubes:[\n",
      "\tTube(id='', d=89.0, th=11.45124626576759, th0=6.5, sigma=8205327.562006988, mu=128.90431790380575),]\n",
      "2021-02-05 20:21:46 INFO    : multi-lu-coil-modelling, (interface.py      :144 ) - Mesh loading ... complete\n",
      "2021-02-05 20:21:48 INFO    : multi-lu-coil-modelling, (interface.py      :114 ) - Modelling tool averaging\n",
      "2021-02-05 20:21:48 INFO    : multi-lu-coil-modelling, (interface.py      :172 ) - Done\n",
      "2021-02-05 20:21:48 INFO    : multi-lu-coil-modelling, (interface.py      :23  ) - Using cim-triangular solver\n",
      "2021-02-05 20:21:48 INFO    : multi-lu-coil-modelling, (abstractsolver.py :100 ) - Solver validation ... complete\n",
      "2021-02-05 20:21:48 INFO    : multi-lu-coil-modelling, (abstractsolver.py :93  ) - Tubes validation ... complete\n",
      "2021-02-05 20:21:48 INFO    : multi-lu-coil-modelling, (interface.py      :140 ) - Received tubes:[\n",
      "\tTube(id='', d=89.0, th=11.45124626576759, th0=6.5, sigma=16410655.124013975, mu=229.16323294009914),]\n",
      "2021-02-05 20:21:48 INFO    : multi-lu-coil-modelling, (interface.py      :144 ) - Mesh loading ... complete\n",
      "2021-02-05 20:21:50 INFO    : multi-lu-coil-modelling, (interface.py      :114 ) - Modelling tool averaging\n",
      "2021-02-05 20:21:50 INFO    : multi-lu-coil-modelling, (interface.py      :172 ) - Done\n",
      "2021-02-05 20:21:50 INFO    : multi-lu-coil-modelling, (interface.py      :23  ) - Using cim-triangular solver\n",
      "2021-02-05 20:21:50 INFO    : multi-lu-coil-modelling, (abstractsolver.py :100 ) - Solver validation ... complete\n",
      "2021-02-05 20:21:50 INFO    : multi-lu-coil-modelling, (abstractsolver.py :93  ) - Tubes validation ... complete\n",
      "2021-02-05 20:21:50 INFO    : multi-lu-coil-modelling, (interface.py      :140 ) - Received tubes:[\n",
      "\tTube(id='', d=89.0, th=11.45124626576759, th0=6.5, sigma=8205327.562006988, mu=128.90431790380575),]\n",
      "2021-02-05 20:21:50 INFO    : multi-lu-coil-modelling, (interface.py      :144 ) - Mesh loading ... complete\n",
      "2021-02-05 20:21:51 INFO    : multi-lu-coil-modelling, (interface.py      :114 ) - Modelling tool averaging\n",
      "2021-02-05 20:21:51 INFO    : multi-lu-coil-modelling, (interface.py      :172 ) - Done\n",
      "2021-02-05 20:21:51 INFO    : multi-lu-coil-modelling, (interface.py      :23  ) - Using cim-triangular solver\n",
      "2021-02-05 20:21:51 INFO    : multi-lu-coil-modelling, (abstractsolver.py :100 ) - Solver validation ... complete\n",
      "2021-02-05 20:21:51 INFO    : multi-lu-coil-modelling, (abstractsolver.py :93  ) - Tubes validation ... complete\n",
      "2021-02-05 20:21:51 INFO    : multi-lu-coil-modelling, (interface.py      :140 ) - Received tubes:[\n",
      "\tTube(id='', d=89.0, th=11.45124626576759, th0=6.5, sigma=16410655.124013975, mu=257.8086358076115),]\n",
      "2021-02-05 20:21:51 INFO    : multi-lu-coil-modelling, (interface.py      :144 ) - Mesh loading ... complete\n",
      "2021-02-05 20:21:53 INFO    : multi-lu-coil-modelling, (interface.py      :114 ) - Modelling tool averaging\n",
      "2021-02-05 20:21:53 INFO    : multi-lu-coil-modelling, (interface.py      :172 ) - Done\n"
     ]
    }
   ],
   "source": [
    "size = 10\n",
    "x = np.linspace(1e-5, 2 * fix_vector.get('Sigma').iloc[0], size)#sigma\n",
    "y = np.linspace(1e-5, 2 * fix_vector.get('mu').iloc[0], size)#mu\n",
    "i = 0\n",
    "j = 0\n",
    "loss = np.zeros((size,size))\n",
    "while (i < size):\n",
    "    while (j < size):\n",
    "        loss[i][j] = L(x[i],y[j])\n",
    "        j = j + 1\n",
    "    j = 0\n",
    "    i = i + 1"
   ]
  },
  {
   "cell_type": "code",
   "execution_count": 11,
   "metadata": {},
   "outputs": [
    {
     "ename": "NameError",
     "evalue": "name 'loss' is not defined",
     "output_type": "error",
     "traceback": [
      "\u001b[1;31m---------------------------------------------------------------------------\u001b[0m",
      "\u001b[1;31mNameError\u001b[0m                                 Traceback (most recent call last)",
      "\u001b[1;32m<ipython-input-11-c2aa86ff5c76>\u001b[0m in \u001b[0;36m<module>\u001b[1;34m\u001b[0m\n\u001b[1;32m----> 1\u001b[1;33m \u001b[0mlog_loss\u001b[0m \u001b[1;33m=\u001b[0m \u001b[0mpd\u001b[0m\u001b[1;33m.\u001b[0m\u001b[0mDataFrame\u001b[0m\u001b[1;33m(\u001b[0m\u001b[0mloss\u001b[0m\u001b[1;33m)\u001b[0m\u001b[1;33m\u001b[0m\u001b[1;33m\u001b[0m\u001b[0m\n\u001b[0m\u001b[0;32m      2\u001b[0m \u001b[0mlog_loss\u001b[0m\u001b[1;33m.\u001b[0m\u001b[0mindex\u001b[0m \u001b[1;33m=\u001b[0m \u001b[0mnp\u001b[0m\u001b[1;33m.\u001b[0m\u001b[0maround\u001b[0m\u001b[1;33m(\u001b[0m\u001b[0mx\u001b[0m\u001b[1;33m,\u001b[0m\u001b[1;36m1\u001b[0m\u001b[1;33m)\u001b[0m\u001b[1;33m\u001b[0m\u001b[1;33m\u001b[0m\u001b[0m\n\u001b[0;32m      3\u001b[0m \u001b[0mlog_loss\u001b[0m\u001b[1;33m.\u001b[0m\u001b[0mcolumns\u001b[0m \u001b[1;33m=\u001b[0m \u001b[0mnp\u001b[0m\u001b[1;33m.\u001b[0m\u001b[0maround\u001b[0m\u001b[1;33m(\u001b[0m\u001b[0my\u001b[0m\u001b[1;33m,\u001b[0m\u001b[1;36m3\u001b[0m\u001b[1;33m)\u001b[0m\u001b[1;33m\u001b[0m\u001b[1;33m\u001b[0m\u001b[0m\n\u001b[0;32m      4\u001b[0m \u001b[0mlog_loss\u001b[0m\u001b[1;33m\u001b[0m\u001b[1;33m\u001b[0m\u001b[0m\n",
      "\u001b[1;31mNameError\u001b[0m: name 'loss' is not defined"
     ]
    }
   ],
   "source": [
    "log_loss = pd.DataFrame(loss)\n",
    "log_loss.index = np.around(x,1) \n",
    "log_loss.columns = np.around(y,3)\n",
    "log_loss"
   ]
  },
  {
   "cell_type": "code",
   "execution_count": 98,
   "metadata": {},
   "outputs": [
    {
     "data": {
      "image/png": "[encoded data removed]",
      "text/plain": [
       "<Figure size 792x648 with 2 Axes>"
      ]
     },
     "metadata": {},
     "output_type": "display_data"
    }
   ],
   "source": [
    "import seaborn as sns; sns.set_theme()\n",
    "f, ax = plt.subplots(figsize=(11, 9))\n",
    "sns.heatmap(log_loss, annot=True, vmin=-10, vmax=-3)\n",
    "name = 'log( loss( (' + str(fix_vector.get('mu').iloc[0])+ ', (' + str(fix_vector.get('Sigma').iloc[0]) + ')))'\n",
    "ax.set(xlabel='mu', ylabel='sigma', title=name)\n",
    "f.savefig(\"loss((Sigma), (mu))\")"
   ]
  },
  {
   "cell_type": "markdown",
   "metadata": {},
   "source": [
    "### 2D loss(sigma/th)"
   ]
  },
  {
   "cell_type": "code",
   "execution_count": 33,
   "metadata": {},
   "outputs": [
    {
     "name": "stderr",
     "output_type": "stream",
     "text": [
      "2021-02-05 17:21:13 INFO    : multi-lu-coil-modelling, (interface.py      :23  ) - Using cim-triangular solver\n",
      "2021-02-05 17:21:13 INFO    : multi-lu-coil-modelling, (abstractsolver.py :100 ) - Solver validation ... complete\n",
      "2021-02-05 17:21:13 INFO    : multi-lu-coil-modelling, (abstractsolver.py :93  ) - Tubes validation ... complete\n",
      "2021-02-05 17:21:13 INFO    : multi-lu-coil-modelling, (interface.py      :140 ) - Received tubes:[\n",
      "\tTube(id='', d=89.0, th=-22.90249253153518, th0=6.5, sigma=-16410655.124013975, mu=128.90431790380575),]\n",
      "2021-02-05 17:21:13 INFO    : multi-lu-coil-modelling, (interface.py      :144 ) - Mesh loading ... complete\n",
      "2021-02-05 17:21:15 INFO    : multi-lu-coil-modelling, (interface.py      :114 ) - Modelling tool averaging\n",
      "2021-02-05 17:21:15 INFO    : multi-lu-coil-modelling, (interface.py      :172 ) - Done\n",
      "<ipython-input-2-57651b7c9b59>:4: RuntimeWarning:\n",
      "\n",
      "overflow encountered in square\n",
      "\n",
      "2021-02-05 17:21:15 INFO    : multi-lu-coil-modelling, (interface.py      :23  ) - Using cim-triangular solver\n",
      "2021-02-05 17:21:15 INFO    : multi-lu-coil-modelling, (abstractsolver.py :100 ) - Solver validation ... complete\n",
      "2021-02-05 17:21:15 INFO    : multi-lu-coil-modelling, (abstractsolver.py :93  ) - Tubes validation ... complete\n",
      "2021-02-05 17:21:15 INFO    : multi-lu-coil-modelling, (interface.py      :140 ) - Received tubes:[\n",
      "\tTube(id='', d=89.0, th=-17.813049746749584, th0=6.5, sigma=-16410655.124013975, mu=128.90431790380575),]\n",
      "2021-02-05 17:21:15 INFO    : multi-lu-coil-modelling, (interface.py      :144 ) - Mesh loading ... complete\n",
      "2021-02-05 17:21:16 INFO    : multi-lu-coil-modelling, (interface.py      :114 ) - Modelling tool averaging\n",
      "2021-02-05 17:21:16 INFO    : multi-lu-coil-modelling, (interface.py      :172 ) - Done\n",
      "2021-02-05 17:21:16 INFO    : multi-lu-coil-modelling, (interface.py      :23  ) - Using cim-triangular solver\n",
      "2021-02-05 17:21:16 INFO    : multi-lu-coil-modelling, (abstractsolver.py :100 ) - Solver validation ... complete\n",
      "2021-02-05 17:21:16 INFO    : multi-lu-coil-modelling, (abstractsolver.py :93  ) - Tubes validation ... complete\n",
      "2021-02-05 17:21:16 INFO    : multi-lu-coil-modelling, (interface.py      :140 ) - Received tubes:[\n",
      "\tTube(id='', d=89.0, th=-12.72360696196399, th0=6.5, sigma=-16410655.124013975, mu=128.90431790380575),]\n",
      "2021-02-05 17:21:16 INFO    : multi-lu-coil-modelling, (interface.py      :144 ) - Mesh loading ... complete\n",
      "2021-02-05 17:21:18 INFO    : multi-lu-coil-modelling, (interface.py      :114 ) - Modelling tool averaging\n",
      "2021-02-05 17:21:18 INFO    : multi-lu-coil-modelling, (interface.py      :172 ) - Done\n",
      "2021-02-05 17:21:18 INFO    : multi-lu-coil-modelling, (interface.py      :23  ) - Using cim-triangular solver\n",
      "2021-02-05 17:21:18 INFO    : multi-lu-coil-modelling, (abstractsolver.py :100 ) - Solver validation ... complete\n",
      "2021-02-05 17:21:18 INFO    : multi-lu-coil-modelling, (abstractsolver.py :93  ) - Tubes validation ... complete\n",
      "2021-02-05 17:21:18 INFO    : multi-lu-coil-modelling, (interface.py      :140 ) - Received tubes:[\n",
      "\tTube(id='', d=89.0, th=-7.634164177178395, th0=6.5, sigma=-16410655.124013975, mu=128.90431790380575),]\n",
      "2021-02-05 17:21:18 INFO    : multi-lu-coil-modelling, (interface.py      :144 ) - Mesh loading ... complete\n",
      "2021-02-05 17:21:20 INFO    : multi-lu-coil-modelling, (interface.py      :114 ) - Modelling tool averaging\n",
      "2021-02-05 17:21:20 INFO    : multi-lu-coil-modelling, (interface.py      :172 ) - Done\n",
      "2021-02-05 17:21:20 INFO    : multi-lu-coil-modelling, (interface.py      :23  ) - Using cim-triangular solver\n",
      "2021-02-05 17:21:20 INFO    : multi-lu-coil-modelling, (abstractsolver.py :100 ) - Solver validation ... complete\n",
      "2021-02-05 17:21:20 INFO    : multi-lu-coil-modelling, (abstractsolver.py :93  ) - Tubes validation ... complete\n",
      "2021-02-05 17:21:20 INFO    : multi-lu-coil-modelling, (interface.py      :140 ) - Received tubes:[\n",
      "\tTube(id='', d=89.0, th=-2.5447213923927983, th0=6.5, sigma=-16410655.124013975, mu=128.90431790380575),]\n",
      "2021-02-05 17:21:20 INFO    : multi-lu-coil-modelling, (interface.py      :144 ) - Mesh loading ... complete\n",
      "2021-02-05 17:21:22 INFO    : multi-lu-coil-modelling, (interface.py      :114 ) - Modelling tool averaging\n",
      "2021-02-05 17:21:22 INFO    : multi-lu-coil-modelling, (interface.py      :172 ) - Done\n",
      "2021-02-05 17:21:22 INFO    : multi-lu-coil-modelling, (interface.py      :23  ) - Using cim-triangular solver\n",
      "2021-02-05 17:21:22 INFO    : multi-lu-coil-modelling, (abstractsolver.py :100 ) - Solver validation ... complete\n",
      "2021-02-05 17:21:22 INFO    : multi-lu-coil-modelling, (abstractsolver.py :93  ) - Tubes validation ... complete\n",
      "2021-02-05 17:21:22 INFO    : multi-lu-coil-modelling, (interface.py      :140 ) - Received tubes:[\n",
      "\tTube(id='', d=89.0, th=2.5447213923927983, th0=6.5, sigma=-16410655.124013975, mu=128.90431790380575),]\n",
      "2021-02-05 17:21:22 INFO    : multi-lu-coil-modelling, (interface.py      :144 ) - Mesh loading ... complete\n",
      "2021-02-05 17:21:24 INFO    : multi-lu-coil-modelling, (interface.py      :114 ) - Modelling tool averaging\n",
      "2021-02-05 17:21:24 INFO    : multi-lu-coil-modelling, (interface.py      :172 ) - Done\n",
      "2021-02-05 17:21:24 INFO    : multi-lu-coil-modelling, (interface.py      :23  ) - Using cim-triangular solver\n",
      "2021-02-05 17:21:24 INFO    : multi-lu-coil-modelling, (abstractsolver.py :100 ) - Solver validation ... complete\n",
      "2021-02-05 17:21:24 INFO    : multi-lu-coil-modelling, (abstractsolver.py :93  ) - Tubes validation ... complete\n",
      "2021-02-05 17:21:24 INFO    : multi-lu-coil-modelling, (interface.py      :140 ) - Received tubes:[\n",
      "\tTube(id='', d=89.0, th=7.634164177178391, th0=6.5, sigma=-16410655.124013975, mu=128.90431790380575),]\n",
      "2021-02-05 17:21:24 INFO    : multi-lu-coil-modelling, (interface.py      :144 ) - Mesh loading ... complete\n",
      "2021-02-05 17:21:26 INFO    : multi-lu-coil-modelling, (interface.py      :114 ) - Modelling tool averaging\n",
      "2021-02-05 17:21:26 INFO    : multi-lu-coil-modelling, (interface.py      :172 ) - Done\n",
      "2021-02-05 17:21:26 INFO    : multi-lu-coil-modelling, (interface.py      :23  ) - Using cim-triangular solver\n",
      "2021-02-05 17:21:26 INFO    : multi-lu-coil-modelling, (abstractsolver.py :100 ) - Solver validation ... complete\n",
      "2021-02-05 17:21:26 INFO    : multi-lu-coil-modelling, (abstractsolver.py :93  ) - Tubes validation ... complete\n",
      "2021-02-05 17:21:26 INFO    : multi-lu-coil-modelling, (interface.py      :140 ) - Received tubes:[\n",
      "\tTube(id='', d=89.0, th=12.723606961963988, th0=6.5, sigma=-16410655.124013975, mu=128.90431790380575),]\n",
      "2021-02-05 17:21:26 INFO    : multi-lu-coil-modelling, (interface.py      :144 ) - Mesh loading ... complete\n",
      "2021-02-05 17:21:27 INFO    : multi-lu-coil-modelling, (interface.py      :114 ) - Modelling tool averaging\n",
      "2021-02-05 17:21:27 INFO    : multi-lu-coil-modelling, (interface.py      :172 ) - Done\n",
      "2021-02-05 17:21:27 INFO    : multi-lu-coil-modelling, (interface.py      :23  ) - Using cim-triangular solver\n",
      "2021-02-05 17:21:27 INFO    : multi-lu-coil-modelling, (abstractsolver.py :100 ) - Solver validation ... complete\n",
      "2021-02-05 17:21:27 INFO    : multi-lu-coil-modelling, (abstractsolver.py :93  ) - Tubes validation ... complete\n",
      "2021-02-05 17:21:27 INFO    : multi-lu-coil-modelling, (interface.py      :140 ) - Received tubes:[\n",
      "\tTube(id='', d=89.0, th=17.813049746749584, th0=6.5, sigma=-16410655.124013975, mu=128.90431790380575),]\n",
      "2021-02-05 17:21:27 INFO    : multi-lu-coil-modelling, (interface.py      :144 ) - Mesh loading ... complete\n",
      "2021-02-05 17:21:29 INFO    : multi-lu-coil-modelling, (interface.py      :114 ) - Modelling tool averaging\n",
      "2021-02-05 17:21:29 INFO    : multi-lu-coil-modelling, (interface.py      :172 ) - Done\n",
      "2021-02-05 17:21:29 INFO    : multi-lu-coil-modelling, (interface.py      :23  ) - Using cim-triangular solver\n",
      "2021-02-05 17:21:29 INFO    : multi-lu-coil-modelling, (abstractsolver.py :100 ) - Solver validation ... complete\n",
      "2021-02-05 17:21:29 INFO    : multi-lu-coil-modelling, (abstractsolver.py :93  ) - Tubes validation ... complete\n",
      "2021-02-05 17:21:29 INFO    : multi-lu-coil-modelling, (interface.py      :140 ) - Received tubes:[\n",
      "\tTube(id='', d=89.0, th=22.90249253153518, th0=6.5, sigma=-16410655.124013975, mu=128.90431790380575),]\n"
     ]
    },
    {
     "name": "stderr",
     "output_type": "stream",
     "text": [
      "2021-02-05 17:21:29 INFO    : multi-lu-coil-modelling, (interface.py      :144 ) - Mesh loading ... complete\n",
      "2021-02-05 17:21:31 INFO    : multi-lu-coil-modelling, (interface.py      :114 ) - Modelling tool averaging\n",
      "2021-02-05 17:21:31 INFO    : multi-lu-coil-modelling, (interface.py      :172 ) - Done\n",
      "2021-02-05 17:21:31 INFO    : multi-lu-coil-modelling, (interface.py      :23  ) - Using cim-triangular solver\n",
      "2021-02-05 17:21:31 INFO    : multi-lu-coil-modelling, (abstractsolver.py :100 ) - Solver validation ... complete\n",
      "2021-02-05 17:21:31 INFO    : multi-lu-coil-modelling, (abstractsolver.py :93  ) - Tubes validation ... complete\n",
      "2021-02-05 17:21:31 INFO    : multi-lu-coil-modelling, (interface.py      :140 ) - Received tubes:[\n",
      "\tTube(id='', d=89.0, th=-22.90249253153518, th0=6.5, sigma=-12763842.874233091, mu=128.90431790380575),]\n",
      "2021-02-05 17:21:31 INFO    : multi-lu-coil-modelling, (interface.py      :144 ) - Mesh loading ... complete\n",
      "2021-02-05 17:21:33 INFO    : multi-lu-coil-modelling, (interface.py      :114 ) - Modelling tool averaging\n",
      "2021-02-05 17:21:33 INFO    : multi-lu-coil-modelling, (interface.py      :172 ) - Done\n",
      "2021-02-05 17:21:33 INFO    : multi-lu-coil-modelling, (interface.py      :23  ) - Using cim-triangular solver\n",
      "2021-02-05 17:21:33 INFO    : multi-lu-coil-modelling, (abstractsolver.py :100 ) - Solver validation ... complete\n",
      "2021-02-05 17:21:33 INFO    : multi-lu-coil-modelling, (abstractsolver.py :93  ) - Tubes validation ... complete\n",
      "2021-02-05 17:21:33 INFO    : multi-lu-coil-modelling, (interface.py      :140 ) - Received tubes:[\n",
      "\tTube(id='', d=89.0, th=-17.813049746749584, th0=6.5, sigma=-12763842.874233091, mu=128.90431790380575),]\n",
      "2021-02-05 17:21:33 INFO    : multi-lu-coil-modelling, (interface.py      :144 ) - Mesh loading ... complete\n",
      "2021-02-05 17:21:34 INFO    : multi-lu-coil-modelling, (interface.py      :114 ) - Modelling tool averaging\n",
      "2021-02-05 17:21:34 INFO    : multi-lu-coil-modelling, (interface.py      :172 ) - Done\n",
      "2021-02-05 17:21:35 INFO    : multi-lu-coil-modelling, (interface.py      :23  ) - Using cim-triangular solver\n",
      "2021-02-05 17:21:35 INFO    : multi-lu-coil-modelling, (abstractsolver.py :100 ) - Solver validation ... complete\n",
      "2021-02-05 17:21:35 INFO    : multi-lu-coil-modelling, (abstractsolver.py :93  ) - Tubes validation ... complete\n",
      "2021-02-05 17:21:35 INFO    : multi-lu-coil-modelling, (interface.py      :140 ) - Received tubes:[\n",
      "\tTube(id='', d=89.0, th=-12.72360696196399, th0=6.5, sigma=-12763842.874233091, mu=128.90431790380575),]\n",
      "2021-02-05 17:21:35 INFO    : multi-lu-coil-modelling, (interface.py      :144 ) - Mesh loading ... complete\n",
      "2021-02-05 17:21:36 INFO    : multi-lu-coil-modelling, (interface.py      :114 ) - Modelling tool averaging\n",
      "2021-02-05 17:21:36 INFO    : multi-lu-coil-modelling, (interface.py      :172 ) - Done\n",
      "2021-02-05 17:21:36 INFO    : multi-lu-coil-modelling, (interface.py      :23  ) - Using cim-triangular solver\n",
      "2021-02-05 17:21:36 INFO    : multi-lu-coil-modelling, (abstractsolver.py :100 ) - Solver validation ... complete\n",
      "2021-02-05 17:21:36 INFO    : multi-lu-coil-modelling, (abstractsolver.py :93  ) - Tubes validation ... complete\n",
      "2021-02-05 17:21:36 INFO    : multi-lu-coil-modelling, (interface.py      :140 ) - Received tubes:[\n",
      "\tTube(id='', d=89.0, th=-7.634164177178395, th0=6.5, sigma=-12763842.874233091, mu=128.90431790380575),]\n",
      "2021-02-05 17:21:36 INFO    : multi-lu-coil-modelling, (interface.py      :144 ) - Mesh loading ... complete\n",
      "2021-02-05 17:21:38 INFO    : multi-lu-coil-modelling, (interface.py      :114 ) - Modelling tool averaging\n",
      "2021-02-05 17:21:38 INFO    : multi-lu-coil-modelling, (interface.py      :172 ) - Done\n",
      "2021-02-05 17:21:38 INFO    : multi-lu-coil-modelling, (interface.py      :23  ) - Using cim-triangular solver\n",
      "2021-02-05 17:21:38 INFO    : multi-lu-coil-modelling, (abstractsolver.py :100 ) - Solver validation ... complete\n",
      "2021-02-05 17:21:38 INFO    : multi-lu-coil-modelling, (abstractsolver.py :93  ) - Tubes validation ... complete\n",
      "2021-02-05 17:21:38 INFO    : multi-lu-coil-modelling, (interface.py      :140 ) - Received tubes:[\n",
      "\tTube(id='', d=89.0, th=-2.5447213923927983, th0=6.5, sigma=-12763842.874233091, mu=128.90431790380575),]\n",
      "2021-02-05 17:21:38 INFO    : multi-lu-coil-modelling, (interface.py      :144 ) - Mesh loading ... complete\n",
      "2021-02-05 17:21:40 INFO    : multi-lu-coil-modelling, (interface.py      :114 ) - Modelling tool averaging\n",
      "2021-02-05 17:21:40 INFO    : multi-lu-coil-modelling, (interface.py      :172 ) - Done\n",
      "2021-02-05 17:21:40 INFO    : multi-lu-coil-modelling, (interface.py      :23  ) - Using cim-triangular solver\n",
      "2021-02-05 17:21:40 INFO    : multi-lu-coil-modelling, (abstractsolver.py :100 ) - Solver validation ... complete\n",
      "2021-02-05 17:21:40 INFO    : multi-lu-coil-modelling, (abstractsolver.py :93  ) - Tubes validation ... complete\n",
      "2021-02-05 17:21:40 INFO    : multi-lu-coil-modelling, (interface.py      :140 ) - Received tubes:[\n",
      "\tTube(id='', d=89.0, th=2.5447213923927983, th0=6.5, sigma=-12763842.874233091, mu=128.90431790380575),]\n",
      "2021-02-05 17:21:40 INFO    : multi-lu-coil-modelling, (interface.py      :144 ) - Mesh loading ... complete\n",
      "2021-02-05 17:21:42 INFO    : multi-lu-coil-modelling, (interface.py      :114 ) - Modelling tool averaging\n",
      "2021-02-05 17:21:42 INFO    : multi-lu-coil-modelling, (interface.py      :172 ) - Done\n",
      "2021-02-05 17:21:42 INFO    : multi-lu-coil-modelling, (interface.py      :23  ) - Using cim-triangular solver\n",
      "2021-02-05 17:21:42 INFO    : multi-lu-coil-modelling, (abstractsolver.py :100 ) - Solver validation ... complete\n",
      "2021-02-05 17:21:42 INFO    : multi-lu-coil-modelling, (abstractsolver.py :93  ) - Tubes validation ... complete\n",
      "2021-02-05 17:21:42 INFO    : multi-lu-coil-modelling, (interface.py      :140 ) - Received tubes:[\n",
      "\tTube(id='', d=89.0, th=7.634164177178391, th0=6.5, sigma=-12763842.874233091, mu=128.90431790380575),]\n",
      "2021-02-05 17:21:42 INFO    : multi-lu-coil-modelling, (interface.py      :144 ) - Mesh loading ... complete\n",
      "2021-02-05 17:21:44 INFO    : multi-lu-coil-modelling, (interface.py      :114 ) - Modelling tool averaging\n",
      "2021-02-05 17:21:44 INFO    : multi-lu-coil-modelling, (interface.py      :172 ) - Done\n",
      "2021-02-05 17:21:44 INFO    : multi-lu-coil-modelling, (interface.py      :23  ) - Using cim-triangular solver\n",
      "2021-02-05 17:21:44 INFO    : multi-lu-coil-modelling, (abstractsolver.py :100 ) - Solver validation ... complete\n",
      "2021-02-05 17:21:44 INFO    : multi-lu-coil-modelling, (abstractsolver.py :93  ) - Tubes validation ... complete\n",
      "2021-02-05 17:21:44 INFO    : multi-lu-coil-modelling, (interface.py      :140 ) - Received tubes:[\n",
      "\tTube(id='', d=89.0, th=12.723606961963988, th0=6.5, sigma=-12763842.874233091, mu=128.90431790380575),]\n",
      "2021-02-05 17:21:44 INFO    : multi-lu-coil-modelling, (interface.py      :144 ) - Mesh loading ... complete\n",
      "2021-02-05 17:21:46 INFO    : multi-lu-coil-modelling, (interface.py      :114 ) - Modelling tool averaging\n",
      "2021-02-05 17:21:46 INFO    : multi-lu-coil-modelling, (interface.py      :172 ) - Done\n",
      "2021-02-05 17:21:46 INFO    : multi-lu-coil-modelling, (interface.py      :23  ) - Using cim-triangular solver\n",
      "2021-02-05 17:21:46 INFO    : multi-lu-coil-modelling, (abstractsolver.py :100 ) - Solver validation ... complete\n",
      "2021-02-05 17:21:46 INFO    : multi-lu-coil-modelling, (abstractsolver.py :93  ) - Tubes validation ... complete\n",
      "2021-02-05 17:21:46 INFO    : multi-lu-coil-modelling, (interface.py      :140 ) - Received tubes:[\n",
      "\tTube(id='', d=89.0, th=17.813049746749584, th0=6.5, sigma=-12763842.874233091, mu=128.90431790380575),]\n",
      "2021-02-05 17:21:46 INFO    : multi-lu-coil-modelling, (interface.py      :144 ) - Mesh loading ... complete\n",
      "2021-02-05 17:21:48 INFO    : multi-lu-coil-modelling, (interface.py      :114 ) - Modelling tool averaging\n",
      "2021-02-05 17:21:48 INFO    : multi-lu-coil-modelling, (interface.py      :172 ) - Done\n",
      "2021-02-05 17:21:48 INFO    : multi-lu-coil-modelling, (interface.py      :23  ) - Using cim-triangular solver\n",
      "2021-02-05 17:21:48 INFO    : multi-lu-coil-modelling, (abstractsolver.py :100 ) - Solver validation ... complete\n",
      "2021-02-05 17:21:48 INFO    : multi-lu-coil-modelling, (abstractsolver.py :93  ) - Tubes validation ... complete\n"
     ]
    },
    {
     "name": "stderr",
     "output_type": "stream",
     "text": [
      "2021-02-05 17:21:48 INFO    : multi-lu-coil-modelling, (interface.py      :140 ) - Received tubes:[\n",
      "\tTube(id='', d=89.0, th=22.90249253153518, th0=6.5, sigma=-12763842.874233091, mu=128.90431790380575),]\n",
      "2021-02-05 17:21:48 INFO    : multi-lu-coil-modelling, (interface.py      :144 ) - Mesh loading ... complete\n",
      "2021-02-05 17:21:50 INFO    : multi-lu-coil-modelling, (interface.py      :114 ) - Modelling tool averaging\n",
      "2021-02-05 17:21:50 INFO    : multi-lu-coil-modelling, (interface.py      :172 ) - Done\n",
      "2021-02-05 17:21:50 INFO    : multi-lu-coil-modelling, (interface.py      :23  ) - Using cim-triangular solver\n",
      "2021-02-05 17:21:50 INFO    : multi-lu-coil-modelling, (abstractsolver.py :100 ) - Solver validation ... complete\n",
      "2021-02-05 17:21:50 INFO    : multi-lu-coil-modelling, (abstractsolver.py :93  ) - Tubes validation ... complete\n",
      "2021-02-05 17:21:50 INFO    : multi-lu-coil-modelling, (interface.py      :140 ) - Received tubes:[\n",
      "\tTube(id='', d=89.0, th=-22.90249253153518, th0=6.5, sigma=-9117030.624452207, mu=128.90431790380575),]\n",
      "2021-02-05 17:21:50 INFO    : multi-lu-coil-modelling, (interface.py      :144 ) - Mesh loading ... complete\n",
      "2021-02-05 17:21:52 INFO    : multi-lu-coil-modelling, (interface.py      :114 ) - Modelling tool averaging\n",
      "2021-02-05 17:21:52 INFO    : multi-lu-coil-modelling, (interface.py      :172 ) - Done\n",
      "2021-02-05 17:21:52 INFO    : multi-lu-coil-modelling, (interface.py      :23  ) - Using cim-triangular solver\n",
      "2021-02-05 17:21:52 INFO    : multi-lu-coil-modelling, (abstractsolver.py :100 ) - Solver validation ... complete\n",
      "2021-02-05 17:21:52 INFO    : multi-lu-coil-modelling, (abstractsolver.py :93  ) - Tubes validation ... complete\n",
      "2021-02-05 17:21:52 INFO    : multi-lu-coil-modelling, (interface.py      :140 ) - Received tubes:[\n",
      "\tTube(id='', d=89.0, th=-17.813049746749584, th0=6.5, sigma=-9117030.624452207, mu=128.90431790380575),]\n",
      "2021-02-05 17:21:52 INFO    : multi-lu-coil-modelling, (interface.py      :144 ) - Mesh loading ... complete\n",
      "2021-02-05 17:21:53 INFO    : multi-lu-coil-modelling, (interface.py      :114 ) - Modelling tool averaging\n",
      "2021-02-05 17:21:53 INFO    : multi-lu-coil-modelling, (interface.py      :172 ) - Done\n",
      "2021-02-05 17:21:53 INFO    : multi-lu-coil-modelling, (interface.py      :23  ) - Using cim-triangular solver\n",
      "2021-02-05 17:21:53 INFO    : multi-lu-coil-modelling, (abstractsolver.py :100 ) - Solver validation ... complete\n",
      "2021-02-05 17:21:53 INFO    : multi-lu-coil-modelling, (abstractsolver.py :93  ) - Tubes validation ... complete\n",
      "2021-02-05 17:21:53 INFO    : multi-lu-coil-modelling, (interface.py      :140 ) - Received tubes:[\n",
      "\tTube(id='', d=89.0, th=-12.72360696196399, th0=6.5, sigma=-9117030.624452207, mu=128.90431790380575),]\n",
      "2021-02-05 17:21:53 INFO    : multi-lu-coil-modelling, (interface.py      :144 ) - Mesh loading ... complete\n",
      "2021-02-05 17:21:55 INFO    : multi-lu-coil-modelling, (interface.py      :114 ) - Modelling tool averaging\n",
      "2021-02-05 17:21:55 INFO    : multi-lu-coil-modelling, (interface.py      :172 ) - Done\n",
      "2021-02-05 17:21:55 INFO    : multi-lu-coil-modelling, (interface.py      :23  ) - Using cim-triangular solver\n",
      "2021-02-05 17:21:55 INFO    : multi-lu-coil-modelling, (abstractsolver.py :100 ) - Solver validation ... complete\n",
      "2021-02-05 17:21:55 INFO    : multi-lu-coil-modelling, (abstractsolver.py :93  ) - Tubes validation ... complete\n",
      "2021-02-05 17:21:55 INFO    : multi-lu-coil-modelling, (interface.py      :140 ) - Received tubes:[\n",
      "\tTube(id='', d=89.0, th=-7.634164177178395, th0=6.5, sigma=-9117030.624452207, mu=128.90431790380575),]\n",
      "2021-02-05 17:21:55 INFO    : multi-lu-coil-modelling, (interface.py      :144 ) - Mesh loading ... complete\n",
      "2021-02-05 17:21:57 INFO    : multi-lu-coil-modelling, (interface.py      :114 ) - Modelling tool averaging\n",
      "2021-02-05 17:21:57 INFO    : multi-lu-coil-modelling, (interface.py      :172 ) - Done\n",
      "2021-02-05 17:21:57 INFO    : multi-lu-coil-modelling, (interface.py      :23  ) - Using cim-triangular solver\n",
      "2021-02-05 17:21:57 INFO    : multi-lu-coil-modelling, (abstractsolver.py :100 ) - Solver validation ... complete\n",
      "2021-02-05 17:21:57 INFO    : multi-lu-coil-modelling, (abstractsolver.py :93  ) - Tubes validation ... complete\n",
      "2021-02-05 17:21:57 INFO    : multi-lu-coil-modelling, (interface.py      :140 ) - Received tubes:[\n",
      "\tTube(id='', d=89.0, th=-2.5447213923927983, th0=6.5, sigma=-9117030.624452207, mu=128.90431790380575),]\n",
      "2021-02-05 17:21:57 INFO    : multi-lu-coil-modelling, (interface.py      :144 ) - Mesh loading ... complete\n",
      "2021-02-05 17:21:59 INFO    : multi-lu-coil-modelling, (interface.py      :114 ) - Modelling tool averaging\n",
      "2021-02-05 17:21:59 INFO    : multi-lu-coil-modelling, (interface.py      :172 ) - Done\n",
      "2021-02-05 17:21:59 INFO    : multi-lu-coil-modelling, (interface.py      :23  ) - Using cim-triangular solver\n",
      "2021-02-05 17:21:59 INFO    : multi-lu-coil-modelling, (abstractsolver.py :100 ) - Solver validation ... complete\n",
      "2021-02-05 17:21:59 INFO    : multi-lu-coil-modelling, (abstractsolver.py :93  ) - Tubes validation ... complete\n",
      "2021-02-05 17:21:59 INFO    : multi-lu-coil-modelling, (interface.py      :140 ) - Received tubes:[\n",
      "\tTube(id='', d=89.0, th=2.5447213923927983, th0=6.5, sigma=-9117030.624452207, mu=128.90431790380575),]\n",
      "2021-02-05 17:21:59 INFO    : multi-lu-coil-modelling, (interface.py      :144 ) - Mesh loading ... complete\n",
      "2021-02-05 17:22:00 INFO    : multi-lu-coil-modelling, (interface.py      :114 ) - Modelling tool averaging\n",
      "2021-02-05 17:22:00 INFO    : multi-lu-coil-modelling, (interface.py      :172 ) - Done\n",
      "2021-02-05 17:22:00 INFO    : multi-lu-coil-modelling, (interface.py      :23  ) - Using cim-triangular solver\n",
      "2021-02-05 17:22:00 INFO    : multi-lu-coil-modelling, (abstractsolver.py :100 ) - Solver validation ... complete\n",
      "2021-02-05 17:22:00 INFO    : multi-lu-coil-modelling, (abstractsolver.py :93  ) - Tubes validation ... complete\n",
      "2021-02-05 17:22:00 INFO    : multi-lu-coil-modelling, (interface.py      :140 ) - Received tubes:[\n",
      "\tTube(id='', d=89.0, th=7.634164177178391, th0=6.5, sigma=-9117030.624452207, mu=128.90431790380575),]\n",
      "2021-02-05 17:22:00 INFO    : multi-lu-coil-modelling, (interface.py      :144 ) - Mesh loading ... complete\n",
      "2021-02-05 17:22:02 INFO    : multi-lu-coil-modelling, (interface.py      :114 ) - Modelling tool averaging\n",
      "2021-02-05 17:22:02 INFO    : multi-lu-coil-modelling, (interface.py      :172 ) - Done\n",
      "2021-02-05 17:22:02 INFO    : multi-lu-coil-modelling, (interface.py      :23  ) - Using cim-triangular solver\n",
      "2021-02-05 17:22:02 INFO    : multi-lu-coil-modelling, (abstractsolver.py :100 ) - Solver validation ... complete\n",
      "2021-02-05 17:22:02 INFO    : multi-lu-coil-modelling, (abstractsolver.py :93  ) - Tubes validation ... complete\n",
      "2021-02-05 17:22:02 INFO    : multi-lu-coil-modelling, (interface.py      :140 ) - Received tubes:[\n",
      "\tTube(id='', d=89.0, th=12.723606961963988, th0=6.5, sigma=-9117030.624452207, mu=128.90431790380575),]\n",
      "2021-02-05 17:22:02 INFO    : multi-lu-coil-modelling, (interface.py      :144 ) - Mesh loading ... complete\n",
      "2021-02-05 17:22:04 INFO    : multi-lu-coil-modelling, (interface.py      :114 ) - Modelling tool averaging\n",
      "2021-02-05 17:22:04 INFO    : multi-lu-coil-modelling, (interface.py      :172 ) - Done\n",
      "2021-02-05 17:22:04 INFO    : multi-lu-coil-modelling, (interface.py      :23  ) - Using cim-triangular solver\n",
      "2021-02-05 17:22:04 INFO    : multi-lu-coil-modelling, (abstractsolver.py :100 ) - Solver validation ... complete\n",
      "2021-02-05 17:22:04 INFO    : multi-lu-coil-modelling, (abstractsolver.py :93  ) - Tubes validation ... complete\n",
      "2021-02-05 17:22:04 INFO    : multi-lu-coil-modelling, (interface.py      :140 ) - Received tubes:[\n",
      "\tTube(id='', d=89.0, th=17.813049746749584, th0=6.5, sigma=-9117030.624452207, mu=128.90431790380575),]\n",
      "2021-02-05 17:22:04 INFO    : multi-lu-coil-modelling, (interface.py      :144 ) - Mesh loading ... complete\n",
      "2021-02-05 17:22:06 INFO    : multi-lu-coil-modelling, (interface.py      :114 ) - Modelling tool averaging\n",
      "2021-02-05 17:22:06 INFO    : multi-lu-coil-modelling, (interface.py      :172 ) - Done\n",
      "2021-02-05 17:22:06 INFO    : multi-lu-coil-modelling, (interface.py      :23  ) - Using cim-triangular solver\n"
     ]
    },
    {
     "name": "stderr",
     "output_type": "stream",
     "text": [
      "2021-02-05 17:22:06 INFO    : multi-lu-coil-modelling, (abstractsolver.py :100 ) - Solver validation ... complete\n",
      "2021-02-05 17:22:06 INFO    : multi-lu-coil-modelling, (abstractsolver.py :93  ) - Tubes validation ... complete\n",
      "2021-02-05 17:22:06 INFO    : multi-lu-coil-modelling, (interface.py      :140 ) - Received tubes:[\n",
      "\tTube(id='', d=89.0, th=22.90249253153518, th0=6.5, sigma=-9117030.624452207, mu=128.90431790380575),]\n",
      "2021-02-05 17:22:06 INFO    : multi-lu-coil-modelling, (interface.py      :144 ) - Mesh loading ... complete\n",
      "2021-02-05 17:22:08 INFO    : multi-lu-coil-modelling, (interface.py      :114 ) - Modelling tool averaging\n",
      "2021-02-05 17:22:08 INFO    : multi-lu-coil-modelling, (interface.py      :172 ) - Done\n",
      "2021-02-05 17:22:08 INFO    : multi-lu-coil-modelling, (interface.py      :23  ) - Using cim-triangular solver\n",
      "2021-02-05 17:22:08 INFO    : multi-lu-coil-modelling, (abstractsolver.py :100 ) - Solver validation ... complete\n",
      "2021-02-05 17:22:08 INFO    : multi-lu-coil-modelling, (abstractsolver.py :93  ) - Tubes validation ... complete\n",
      "2021-02-05 17:22:08 INFO    : multi-lu-coil-modelling, (interface.py      :140 ) - Received tubes:[\n",
      "\tTube(id='', d=89.0, th=-22.90249253153518, th0=6.5, sigma=-5470218.374671325, mu=128.90431790380575),]\n",
      "2021-02-05 17:22:08 INFO    : multi-lu-coil-modelling, (interface.py      :144 ) - Mesh loading ... complete\n",
      "2021-02-05 17:22:10 INFO    : multi-lu-coil-modelling, (interface.py      :114 ) - Modelling tool averaging\n",
      "2021-02-05 17:22:10 INFO    : multi-lu-coil-modelling, (interface.py      :172 ) - Done\n",
      "2021-02-05 17:22:10 INFO    : multi-lu-coil-modelling, (interface.py      :23  ) - Using cim-triangular solver\n",
      "2021-02-05 17:22:10 INFO    : multi-lu-coil-modelling, (abstractsolver.py :100 ) - Solver validation ... complete\n",
      "2021-02-05 17:22:10 INFO    : multi-lu-coil-modelling, (abstractsolver.py :93  ) - Tubes validation ... complete\n",
      "2021-02-05 17:22:10 INFO    : multi-lu-coil-modelling, (interface.py      :140 ) - Received tubes:[\n",
      "\tTube(id='', d=89.0, th=-17.813049746749584, th0=6.5, sigma=-5470218.374671325, mu=128.90431790380575),]\n",
      "2021-02-05 17:22:10 INFO    : multi-lu-coil-modelling, (interface.py      :144 ) - Mesh loading ... complete\n",
      "2021-02-05 17:22:11 INFO    : multi-lu-coil-modelling, (interface.py      :114 ) - Modelling tool averaging\n",
      "2021-02-05 17:22:11 INFO    : multi-lu-coil-modelling, (interface.py      :172 ) - Done\n",
      "2021-02-05 17:22:11 INFO    : multi-lu-coil-modelling, (interface.py      :23  ) - Using cim-triangular solver\n",
      "2021-02-05 17:22:11 INFO    : multi-lu-coil-modelling, (abstractsolver.py :100 ) - Solver validation ... complete\n",
      "2021-02-05 17:22:11 INFO    : multi-lu-coil-modelling, (abstractsolver.py :93  ) - Tubes validation ... complete\n",
      "2021-02-05 17:22:11 INFO    : multi-lu-coil-modelling, (interface.py      :140 ) - Received tubes:[\n",
      "\tTube(id='', d=89.0, th=-12.72360696196399, th0=6.5, sigma=-5470218.374671325, mu=128.90431790380575),]\n",
      "2021-02-05 17:22:11 INFO    : multi-lu-coil-modelling, (interface.py      :144 ) - Mesh loading ... complete\n",
      "2021-02-05 17:22:13 INFO    : multi-lu-coil-modelling, (interface.py      :114 ) - Modelling tool averaging\n",
      "2021-02-05 17:22:13 INFO    : multi-lu-coil-modelling, (interface.py      :172 ) - Done\n",
      "2021-02-05 17:22:13 INFO    : multi-lu-coil-modelling, (interface.py      :23  ) - Using cim-triangular solver\n",
      "2021-02-05 17:22:13 INFO    : multi-lu-coil-modelling, (abstractsolver.py :100 ) - Solver validation ... complete\n",
      "2021-02-05 17:22:13 INFO    : multi-lu-coil-modelling, (abstractsolver.py :93  ) - Tubes validation ... complete\n",
      "2021-02-05 17:22:13 INFO    : multi-lu-coil-modelling, (interface.py      :140 ) - Received tubes:[\n",
      "\tTube(id='', d=89.0, th=-7.634164177178395, th0=6.5, sigma=-5470218.374671325, mu=128.90431790380575),]\n",
      "2021-02-05 17:22:13 INFO    : multi-lu-coil-modelling, (interface.py      :144 ) - Mesh loading ... complete\n",
      "2021-02-05 17:22:15 INFO    : multi-lu-coil-modelling, (interface.py      :114 ) - Modelling tool averaging\n",
      "2021-02-05 17:22:15 INFO    : multi-lu-coil-modelling, (interface.py      :172 ) - Done\n",
      "2021-02-05 17:22:15 INFO    : multi-lu-coil-modelling, (interface.py      :23  ) - Using cim-triangular solver\n",
      "2021-02-05 17:22:15 INFO    : multi-lu-coil-modelling, (abstractsolver.py :100 ) - Solver validation ... complete\n",
      "2021-02-05 17:22:15 INFO    : multi-lu-coil-modelling, (abstractsolver.py :93  ) - Tubes validation ... complete\n",
      "2021-02-05 17:22:15 INFO    : multi-lu-coil-modelling, (interface.py      :140 ) - Received tubes:[\n",
      "\tTube(id='', d=89.0, th=-2.5447213923927983, th0=6.5, sigma=-5470218.374671325, mu=128.90431790380575),]\n",
      "2021-02-05 17:22:15 INFO    : multi-lu-coil-modelling, (interface.py      :144 ) - Mesh loading ... complete\n",
      "2021-02-05 17:22:17 INFO    : multi-lu-coil-modelling, (interface.py      :114 ) - Modelling tool averaging\n",
      "2021-02-05 17:22:17 INFO    : multi-lu-coil-modelling, (interface.py      :172 ) - Done\n",
      "2021-02-05 17:22:17 INFO    : multi-lu-coil-modelling, (interface.py      :23  ) - Using cim-triangular solver\n",
      "2021-02-05 17:22:17 INFO    : multi-lu-coil-modelling, (abstractsolver.py :100 ) - Solver validation ... complete\n",
      "2021-02-05 17:22:17 INFO    : multi-lu-coil-modelling, (abstractsolver.py :93  ) - Tubes validation ... complete\n",
      "2021-02-05 17:22:17 INFO    : multi-lu-coil-modelling, (interface.py      :140 ) - Received tubes:[\n",
      "\tTube(id='', d=89.0, th=2.5447213923927983, th0=6.5, sigma=-5470218.374671325, mu=128.90431790380575),]\n",
      "2021-02-05 17:22:17 INFO    : multi-lu-coil-modelling, (interface.py      :144 ) - Mesh loading ... complete\n",
      "2021-02-05 17:22:18 INFO    : multi-lu-coil-modelling, (interface.py      :114 ) - Modelling tool averaging\n",
      "2021-02-05 17:22:18 INFO    : multi-lu-coil-modelling, (interface.py      :172 ) - Done\n",
      "2021-02-05 17:22:18 INFO    : multi-lu-coil-modelling, (interface.py      :23  ) - Using cim-triangular solver\n",
      "2021-02-05 17:22:18 INFO    : multi-lu-coil-modelling, (abstractsolver.py :100 ) - Solver validation ... complete\n",
      "2021-02-05 17:22:18 INFO    : multi-lu-coil-modelling, (abstractsolver.py :93  ) - Tubes validation ... complete\n",
      "2021-02-05 17:22:18 INFO    : multi-lu-coil-modelling, (interface.py      :140 ) - Received tubes:[\n",
      "\tTube(id='', d=89.0, th=7.634164177178391, th0=6.5, sigma=-5470218.374671325, mu=128.90431790380575),]\n",
      "2021-02-05 17:22:18 INFO    : multi-lu-coil-modelling, (interface.py      :144 ) - Mesh loading ... complete\n",
      "2021-02-05 17:22:20 INFO    : multi-lu-coil-modelling, (interface.py      :114 ) - Modelling tool averaging\n",
      "2021-02-05 17:22:20 INFO    : multi-lu-coil-modelling, (interface.py      :172 ) - Done\n",
      "2021-02-05 17:22:20 INFO    : multi-lu-coil-modelling, (interface.py      :23  ) - Using cim-triangular solver\n",
      "2021-02-05 17:22:20 INFO    : multi-lu-coil-modelling, (abstractsolver.py :100 ) - Solver validation ... complete\n",
      "2021-02-05 17:22:20 INFO    : multi-lu-coil-modelling, (abstractsolver.py :93  ) - Tubes validation ... complete\n",
      "2021-02-05 17:22:20 INFO    : multi-lu-coil-modelling, (interface.py      :140 ) - Received tubes:[\n",
      "\tTube(id='', d=89.0, th=12.723606961963988, th0=6.5, sigma=-5470218.374671325, mu=128.90431790380575),]\n",
      "2021-02-05 17:22:20 INFO    : multi-lu-coil-modelling, (interface.py      :144 ) - Mesh loading ... complete\n",
      "2021-02-05 17:22:22 INFO    : multi-lu-coil-modelling, (interface.py      :114 ) - Modelling tool averaging\n",
      "2021-02-05 17:22:22 INFO    : multi-lu-coil-modelling, (interface.py      :172 ) - Done\n",
      "2021-02-05 17:22:22 INFO    : multi-lu-coil-modelling, (interface.py      :23  ) - Using cim-triangular solver\n",
      "2021-02-05 17:22:22 INFO    : multi-lu-coil-modelling, (abstractsolver.py :100 ) - Solver validation ... complete\n",
      "2021-02-05 17:22:22 INFO    : multi-lu-coil-modelling, (abstractsolver.py :93  ) - Tubes validation ... complete\n",
      "2021-02-05 17:22:22 INFO    : multi-lu-coil-modelling, (interface.py      :140 ) - Received tubes:[\n",
      "\tTube(id='', d=89.0, th=17.813049746749584, th0=6.5, sigma=-5470218.374671325, mu=128.90431790380575),]\n",
      "2021-02-05 17:22:22 INFO    : multi-lu-coil-modelling, (interface.py      :144 ) - Mesh loading ... complete\n",
      "2021-02-05 17:22:23 INFO    : multi-lu-coil-modelling, (interface.py      :114 ) - Modelling tool averaging\n"
     ]
    },
    {
     "name": "stderr",
     "output_type": "stream",
     "text": [
      "2021-02-05 17:22:23 INFO    : multi-lu-coil-modelling, (interface.py      :172 ) - Done\n",
      "2021-02-05 17:22:23 INFO    : multi-lu-coil-modelling, (interface.py      :23  ) - Using cim-triangular solver\n",
      "2021-02-05 17:22:23 INFO    : multi-lu-coil-modelling, (abstractsolver.py :100 ) - Solver validation ... complete\n",
      "2021-02-05 17:22:23 INFO    : multi-lu-coil-modelling, (abstractsolver.py :93  ) - Tubes validation ... complete\n",
      "2021-02-05 17:22:23 INFO    : multi-lu-coil-modelling, (interface.py      :140 ) - Received tubes:[\n",
      "\tTube(id='', d=89.0, th=22.90249253153518, th0=6.5, sigma=-5470218.374671325, mu=128.90431790380575),]\n",
      "2021-02-05 17:22:23 INFO    : multi-lu-coil-modelling, (interface.py      :144 ) - Mesh loading ... complete\n",
      "2021-02-05 17:22:25 INFO    : multi-lu-coil-modelling, (interface.py      :114 ) - Modelling tool averaging\n",
      "2021-02-05 17:22:25 INFO    : multi-lu-coil-modelling, (interface.py      :172 ) - Done\n",
      "2021-02-05 17:22:25 INFO    : multi-lu-coil-modelling, (interface.py      :23  ) - Using cim-triangular solver\n",
      "2021-02-05 17:22:25 INFO    : multi-lu-coil-modelling, (abstractsolver.py :100 ) - Solver validation ... complete\n",
      "2021-02-05 17:22:25 INFO    : multi-lu-coil-modelling, (abstractsolver.py :93  ) - Tubes validation ... complete\n",
      "2021-02-05 17:22:25 INFO    : multi-lu-coil-modelling, (interface.py      :140 ) - Received tubes:[\n",
      "\tTube(id='', d=89.0, th=-22.90249253153518, th0=6.5, sigma=-1823406.124890441, mu=128.90431790380575),]\n",
      "2021-02-05 17:22:25 INFO    : multi-lu-coil-modelling, (interface.py      :144 ) - Mesh loading ... complete\n",
      "2021-02-05 17:22:26 INFO    : multi-lu-coil-modelling, (interface.py      :114 ) - Modelling tool averaging\n",
      "2021-02-05 17:22:26 INFO    : multi-lu-coil-modelling, (interface.py      :172 ) - Done\n",
      "2021-02-05 17:22:26 INFO    : multi-lu-coil-modelling, (interface.py      :23  ) - Using cim-triangular solver\n",
      "2021-02-05 17:22:26 INFO    : multi-lu-coil-modelling, (abstractsolver.py :100 ) - Solver validation ... complete\n",
      "2021-02-05 17:22:26 INFO    : multi-lu-coil-modelling, (abstractsolver.py :93  ) - Tubes validation ... complete\n",
      "2021-02-05 17:22:26 INFO    : multi-lu-coil-modelling, (interface.py      :140 ) - Received tubes:[\n",
      "\tTube(id='', d=89.0, th=-17.813049746749584, th0=6.5, sigma=-1823406.124890441, mu=128.90431790380575),]\n",
      "2021-02-05 17:22:26 INFO    : multi-lu-coil-modelling, (interface.py      :144 ) - Mesh loading ... complete\n",
      "2021-02-05 17:22:28 INFO    : multi-lu-coil-modelling, (interface.py      :114 ) - Modelling tool averaging\n",
      "2021-02-05 17:22:28 INFO    : multi-lu-coil-modelling, (interface.py      :172 ) - Done\n",
      "2021-02-05 17:22:28 INFO    : multi-lu-coil-modelling, (interface.py      :23  ) - Using cim-triangular solver\n",
      "2021-02-05 17:22:28 INFO    : multi-lu-coil-modelling, (abstractsolver.py :100 ) - Solver validation ... complete\n",
      "2021-02-05 17:22:28 INFO    : multi-lu-coil-modelling, (abstractsolver.py :93  ) - Tubes validation ... complete\n",
      "2021-02-05 17:22:28 INFO    : multi-lu-coil-modelling, (interface.py      :140 ) - Received tubes:[\n",
      "\tTube(id='', d=89.0, th=-12.72360696196399, th0=6.5, sigma=-1823406.124890441, mu=128.90431790380575),]\n",
      "2021-02-05 17:22:28 INFO    : multi-lu-coil-modelling, (interface.py      :144 ) - Mesh loading ... complete\n",
      "2021-02-05 17:22:30 INFO    : multi-lu-coil-modelling, (interface.py      :114 ) - Modelling tool averaging\n",
      "2021-02-05 17:22:30 INFO    : multi-lu-coil-modelling, (interface.py      :172 ) - Done\n",
      "2021-02-05 17:22:30 INFO    : multi-lu-coil-modelling, (interface.py      :23  ) - Using cim-triangular solver\n",
      "2021-02-05 17:22:30 INFO    : multi-lu-coil-modelling, (abstractsolver.py :100 ) - Solver validation ... complete\n",
      "2021-02-05 17:22:30 INFO    : multi-lu-coil-modelling, (abstractsolver.py :93  ) - Tubes validation ... complete\n",
      "2021-02-05 17:22:30 INFO    : multi-lu-coil-modelling, (interface.py      :140 ) - Received tubes:[\n",
      "\tTube(id='', d=89.0, th=-7.634164177178395, th0=6.5, sigma=-1823406.124890441, mu=128.90431790380575),]\n",
      "2021-02-05 17:22:30 INFO    : multi-lu-coil-modelling, (interface.py      :144 ) - Mesh loading ... complete\n",
      "2021-02-05 17:22:31 INFO    : multi-lu-coil-modelling, (interface.py      :114 ) - Modelling tool averaging\n",
      "2021-02-05 17:22:31 INFO    : multi-lu-coil-modelling, (interface.py      :172 ) - Done\n",
      "2021-02-05 17:22:31 INFO    : multi-lu-coil-modelling, (interface.py      :23  ) - Using cim-triangular solver\n",
      "2021-02-05 17:22:31 INFO    : multi-lu-coil-modelling, (abstractsolver.py :100 ) - Solver validation ... complete\n",
      "2021-02-05 17:22:31 INFO    : multi-lu-coil-modelling, (abstractsolver.py :93  ) - Tubes validation ... complete\n",
      "2021-02-05 17:22:31 INFO    : multi-lu-coil-modelling, (interface.py      :140 ) - Received tubes:[\n",
      "\tTube(id='', d=89.0, th=-2.5447213923927983, th0=6.5, sigma=-1823406.124890441, mu=128.90431790380575),]\n",
      "2021-02-05 17:22:31 INFO    : multi-lu-coil-modelling, (interface.py      :144 ) - Mesh loading ... complete\n",
      "2021-02-05 17:22:33 INFO    : multi-lu-coil-modelling, (interface.py      :114 ) - Modelling tool averaging\n",
      "2021-02-05 17:22:33 INFO    : multi-lu-coil-modelling, (interface.py      :172 ) - Done\n",
      "2021-02-05 17:22:33 INFO    : multi-lu-coil-modelling, (interface.py      :23  ) - Using cim-triangular solver\n",
      "2021-02-05 17:22:33 INFO    : multi-lu-coil-modelling, (abstractsolver.py :100 ) - Solver validation ... complete\n",
      "2021-02-05 17:22:33 INFO    : multi-lu-coil-modelling, (abstractsolver.py :93  ) - Tubes validation ... complete\n",
      "2021-02-05 17:22:33 INFO    : multi-lu-coil-modelling, (interface.py      :140 ) - Received tubes:[\n",
      "\tTube(id='', d=89.0, th=2.5447213923927983, th0=6.5, sigma=-1823406.124890441, mu=128.90431790380575),]\n",
      "2021-02-05 17:22:33 INFO    : multi-lu-coil-modelling, (interface.py      :144 ) - Mesh loading ... complete\n",
      "2021-02-05 17:22:35 INFO    : multi-lu-coil-modelling, (interface.py      :114 ) - Modelling tool averaging\n",
      "2021-02-05 17:22:35 INFO    : multi-lu-coil-modelling, (interface.py      :172 ) - Done\n",
      "2021-02-05 17:22:35 INFO    : multi-lu-coil-modelling, (interface.py      :23  ) - Using cim-triangular solver\n",
      "2021-02-05 17:22:35 INFO    : multi-lu-coil-modelling, (abstractsolver.py :100 ) - Solver validation ... complete\n",
      "2021-02-05 17:22:35 INFO    : multi-lu-coil-modelling, (abstractsolver.py :93  ) - Tubes validation ... complete\n",
      "2021-02-05 17:22:35 INFO    : multi-lu-coil-modelling, (interface.py      :140 ) - Received tubes:[\n",
      "\tTube(id='', d=89.0, th=7.634164177178391, th0=6.5, sigma=-1823406.124890441, mu=128.90431790380575),]\n",
      "2021-02-05 17:22:35 INFO    : multi-lu-coil-modelling, (interface.py      :144 ) - Mesh loading ... complete\n",
      "2021-02-05 17:22:36 INFO    : multi-lu-coil-modelling, (interface.py      :114 ) - Modelling tool averaging\n",
      "2021-02-05 17:22:36 INFO    : multi-lu-coil-modelling, (interface.py      :172 ) - Done\n",
      "2021-02-05 17:22:36 INFO    : multi-lu-coil-modelling, (interface.py      :23  ) - Using cim-triangular solver\n",
      "2021-02-05 17:22:36 INFO    : multi-lu-coil-modelling, (abstractsolver.py :100 ) - Solver validation ... complete\n",
      "2021-02-05 17:22:36 INFO    : multi-lu-coil-modelling, (abstractsolver.py :93  ) - Tubes validation ... complete\n",
      "2021-02-05 17:22:36 INFO    : multi-lu-coil-modelling, (interface.py      :140 ) - Received tubes:[\n",
      "\tTube(id='', d=89.0, th=12.723606961963988, th0=6.5, sigma=-1823406.124890441, mu=128.90431790380575),]\n",
      "2021-02-05 17:22:36 INFO    : multi-lu-coil-modelling, (interface.py      :144 ) - Mesh loading ... complete\n",
      "2021-02-05 17:22:38 INFO    : multi-lu-coil-modelling, (interface.py      :114 ) - Modelling tool averaging\n",
      "2021-02-05 17:22:38 INFO    : multi-lu-coil-modelling, (interface.py      :172 ) - Done\n",
      "2021-02-05 17:22:38 INFO    : multi-lu-coil-modelling, (interface.py      :23  ) - Using cim-triangular solver\n",
      "2021-02-05 17:22:38 INFO    : multi-lu-coil-modelling, (abstractsolver.py :100 ) - Solver validation ... complete\n",
      "2021-02-05 17:22:38 INFO    : multi-lu-coil-modelling, (abstractsolver.py :93  ) - Tubes validation ... complete\n",
      "2021-02-05 17:22:38 INFO    : multi-lu-coil-modelling, (interface.py      :140 ) - Received tubes:[\n",
      "\tTube(id='', d=89.0, th=17.813049746749584, th0=6.5, sigma=-1823406.124890441, mu=128.90431790380575),]\n"
     ]
    },
    {
     "name": "stderr",
     "output_type": "stream",
     "text": [
      "2021-02-05 17:22:38 INFO    : multi-lu-coil-modelling, (interface.py      :144 ) - Mesh loading ... complete\n",
      "2021-02-05 17:22:40 INFO    : multi-lu-coil-modelling, (interface.py      :114 ) - Modelling tool averaging\n",
      "2021-02-05 17:22:40 INFO    : multi-lu-coil-modelling, (interface.py      :172 ) - Done\n",
      "2021-02-05 17:22:40 INFO    : multi-lu-coil-modelling, (interface.py      :23  ) - Using cim-triangular solver\n",
      "2021-02-05 17:22:40 INFO    : multi-lu-coil-modelling, (abstractsolver.py :100 ) - Solver validation ... complete\n",
      "2021-02-05 17:22:40 INFO    : multi-lu-coil-modelling, (abstractsolver.py :93  ) - Tubes validation ... complete\n",
      "2021-02-05 17:22:40 INFO    : multi-lu-coil-modelling, (interface.py      :140 ) - Received tubes:[\n",
      "\tTube(id='', d=89.0, th=22.90249253153518, th0=6.5, sigma=-1823406.124890441, mu=128.90431790380575),]\n",
      "2021-02-05 17:22:40 INFO    : multi-lu-coil-modelling, (interface.py      :144 ) - Mesh loading ... complete\n",
      "2021-02-05 17:22:41 INFO    : multi-lu-coil-modelling, (interface.py      :114 ) - Modelling tool averaging\n",
      "2021-02-05 17:22:41 INFO    : multi-lu-coil-modelling, (interface.py      :172 ) - Done\n",
      "2021-02-05 17:22:41 INFO    : multi-lu-coil-modelling, (interface.py      :23  ) - Using cim-triangular solver\n",
      "2021-02-05 17:22:41 INFO    : multi-lu-coil-modelling, (abstractsolver.py :100 ) - Solver validation ... complete\n",
      "2021-02-05 17:22:41 INFO    : multi-lu-coil-modelling, (abstractsolver.py :93  ) - Tubes validation ... complete\n",
      "2021-02-05 17:22:41 INFO    : multi-lu-coil-modelling, (interface.py      :140 ) - Received tubes:[\n",
      "\tTube(id='', d=89.0, th=-22.90249253153518, th0=6.5, sigma=1823406.124890443, mu=128.90431790380575),]\n",
      "2021-02-05 17:22:41 INFO    : multi-lu-coil-modelling, (interface.py      :144 ) - Mesh loading ... complete\n",
      "2021-02-05 17:22:43 INFO    : multi-lu-coil-modelling, (interface.py      :114 ) - Modelling tool averaging\n",
      "2021-02-05 17:22:43 INFO    : multi-lu-coil-modelling, (interface.py      :172 ) - Done\n",
      "2021-02-05 17:22:43 INFO    : multi-lu-coil-modelling, (interface.py      :23  ) - Using cim-triangular solver\n",
      "2021-02-05 17:22:43 INFO    : multi-lu-coil-modelling, (abstractsolver.py :100 ) - Solver validation ... complete\n",
      "2021-02-05 17:22:43 INFO    : multi-lu-coil-modelling, (abstractsolver.py :93  ) - Tubes validation ... complete\n",
      "2021-02-05 17:22:43 INFO    : multi-lu-coil-modelling, (interface.py      :140 ) - Received tubes:[\n",
      "\tTube(id='', d=89.0, th=-17.813049746749584, th0=6.5, sigma=1823406.124890443, mu=128.90431790380575),]\n",
      "2021-02-05 17:22:43 INFO    : multi-lu-coil-modelling, (interface.py      :144 ) - Mesh loading ... complete\n",
      "2021-02-05 17:22:45 INFO    : multi-lu-coil-modelling, (interface.py      :114 ) - Modelling tool averaging\n",
      "2021-02-05 17:22:45 INFO    : multi-lu-coil-modelling, (interface.py      :172 ) - Done\n",
      "2021-02-05 17:22:45 INFO    : multi-lu-coil-modelling, (interface.py      :23  ) - Using cim-triangular solver\n",
      "2021-02-05 17:22:45 INFO    : multi-lu-coil-modelling, (abstractsolver.py :100 ) - Solver validation ... complete\n",
      "2021-02-05 17:22:45 INFO    : multi-lu-coil-modelling, (abstractsolver.py :93  ) - Tubes validation ... complete\n",
      "2021-02-05 17:22:45 INFO    : multi-lu-coil-modelling, (interface.py      :140 ) - Received tubes:[\n",
      "\tTube(id='', d=89.0, th=-12.72360696196399, th0=6.5, sigma=1823406.124890443, mu=128.90431790380575),]\n",
      "2021-02-05 17:22:45 INFO    : multi-lu-coil-modelling, (interface.py      :144 ) - Mesh loading ... complete\n",
      "2021-02-05 17:22:46 INFO    : multi-lu-coil-modelling, (interface.py      :114 ) - Modelling tool averaging\n",
      "2021-02-05 17:22:46 INFO    : multi-lu-coil-modelling, (interface.py      :172 ) - Done\n",
      "2021-02-05 17:22:46 INFO    : multi-lu-coil-modelling, (interface.py      :23  ) - Using cim-triangular solver\n",
      "2021-02-05 17:22:46 INFO    : multi-lu-coil-modelling, (abstractsolver.py :100 ) - Solver validation ... complete\n",
      "2021-02-05 17:22:46 INFO    : multi-lu-coil-modelling, (abstractsolver.py :93  ) - Tubes validation ... complete\n",
      "2021-02-05 17:22:46 INFO    : multi-lu-coil-modelling, (interface.py      :140 ) - Received tubes:[\n",
      "\tTube(id='', d=89.0, th=-7.634164177178395, th0=6.5, sigma=1823406.124890443, mu=128.90431790380575),]\n",
      "2021-02-05 17:22:46 INFO    : multi-lu-coil-modelling, (interface.py      :144 ) - Mesh loading ... complete\n",
      "2021-02-05 17:22:48 INFO    : multi-lu-coil-modelling, (interface.py      :114 ) - Modelling tool averaging\n",
      "2021-02-05 17:22:48 INFO    : multi-lu-coil-modelling, (interface.py      :172 ) - Done\n",
      "2021-02-05 17:22:48 INFO    : multi-lu-coil-modelling, (interface.py      :23  ) - Using cim-triangular solver\n",
      "2021-02-05 17:22:48 INFO    : multi-lu-coil-modelling, (abstractsolver.py :100 ) - Solver validation ... complete\n",
      "2021-02-05 17:22:48 INFO    : multi-lu-coil-modelling, (abstractsolver.py :93  ) - Tubes validation ... complete\n",
      "2021-02-05 17:22:48 INFO    : multi-lu-coil-modelling, (interface.py      :140 ) - Received tubes:[\n",
      "\tTube(id='', d=89.0, th=-2.5447213923927983, th0=6.5, sigma=1823406.124890443, mu=128.90431790380575),]\n",
      "2021-02-05 17:22:48 INFO    : multi-lu-coil-modelling, (interface.py      :144 ) - Mesh loading ... complete\n",
      "2021-02-05 17:22:50 INFO    : multi-lu-coil-modelling, (interface.py      :114 ) - Modelling tool averaging\n",
      "2021-02-05 17:22:50 INFO    : multi-lu-coil-modelling, (interface.py      :172 ) - Done\n",
      "2021-02-05 17:22:50 INFO    : multi-lu-coil-modelling, (interface.py      :23  ) - Using cim-triangular solver\n",
      "2021-02-05 17:22:50 INFO    : multi-lu-coil-modelling, (abstractsolver.py :100 ) - Solver validation ... complete\n",
      "2021-02-05 17:22:50 INFO    : multi-lu-coil-modelling, (abstractsolver.py :93  ) - Tubes validation ... complete\n",
      "2021-02-05 17:22:50 INFO    : multi-lu-coil-modelling, (interface.py      :140 ) - Received tubes:[\n",
      "\tTube(id='', d=89.0, th=2.5447213923927983, th0=6.5, sigma=1823406.124890443, mu=128.90431790380575),]\n",
      "2021-02-05 17:22:50 INFO    : multi-lu-coil-modelling, (interface.py      :144 ) - Mesh loading ... complete\n",
      "2021-02-05 17:22:51 INFO    : multi-lu-coil-modelling, (interface.py      :114 ) - Modelling tool averaging\n",
      "2021-02-05 17:22:51 INFO    : multi-lu-coil-modelling, (interface.py      :172 ) - Done\n",
      "2021-02-05 17:22:51 INFO    : multi-lu-coil-modelling, (interface.py      :23  ) - Using cim-triangular solver\n",
      "2021-02-05 17:22:51 INFO    : multi-lu-coil-modelling, (abstractsolver.py :100 ) - Solver validation ... complete\n",
      "2021-02-05 17:22:51 INFO    : multi-lu-coil-modelling, (abstractsolver.py :93  ) - Tubes validation ... complete\n",
      "2021-02-05 17:22:51 INFO    : multi-lu-coil-modelling, (interface.py      :140 ) - Received tubes:[\n",
      "\tTube(id='', d=89.0, th=7.634164177178391, th0=6.5, sigma=1823406.124890443, mu=128.90431790380575),]\n",
      "2021-02-05 17:22:51 INFO    : multi-lu-coil-modelling, (interface.py      :144 ) - Mesh loading ... complete\n",
      "2021-02-05 17:22:53 INFO    : multi-lu-coil-modelling, (interface.py      :114 ) - Modelling tool averaging\n",
      "2021-02-05 17:22:53 INFO    : multi-lu-coil-modelling, (interface.py      :172 ) - Done\n",
      "2021-02-05 17:22:53 INFO    : multi-lu-coil-modelling, (interface.py      :23  ) - Using cim-triangular solver\n",
      "2021-02-05 17:22:53 INFO    : multi-lu-coil-modelling, (abstractsolver.py :100 ) - Solver validation ... complete\n",
      "2021-02-05 17:22:53 INFO    : multi-lu-coil-modelling, (abstractsolver.py :93  ) - Tubes validation ... complete\n",
      "2021-02-05 17:22:53 INFO    : multi-lu-coil-modelling, (interface.py      :140 ) - Received tubes:[\n",
      "\tTube(id='', d=89.0, th=12.723606961963988, th0=6.5, sigma=1823406.124890443, mu=128.90431790380575),]\n",
      "2021-02-05 17:22:53 INFO    : multi-lu-coil-modelling, (interface.py      :144 ) - Mesh loading ... complete\n",
      "2021-02-05 17:22:55 INFO    : multi-lu-coil-modelling, (interface.py      :114 ) - Modelling tool averaging\n",
      "2021-02-05 17:22:55 INFO    : multi-lu-coil-modelling, (interface.py      :172 ) - Done\n",
      "2021-02-05 17:22:55 INFO    : multi-lu-coil-modelling, (interface.py      :23  ) - Using cim-triangular solver\n",
      "2021-02-05 17:22:55 INFO    : multi-lu-coil-modelling, (abstractsolver.py :100 ) - Solver validation ... complete\n",
      "2021-02-05 17:22:55 INFO    : multi-lu-coil-modelling, (abstractsolver.py :93  ) - Tubes validation ... complete\n"
     ]
    },
    {
     "name": "stderr",
     "output_type": "stream",
     "text": [
      "2021-02-05 17:22:55 INFO    : multi-lu-coil-modelling, (interface.py      :140 ) - Received tubes:[\n",
      "\tTube(id='', d=89.0, th=17.813049746749584, th0=6.5, sigma=1823406.124890443, mu=128.90431790380575),]\n",
      "2021-02-05 17:22:55 INFO    : multi-lu-coil-modelling, (interface.py      :144 ) - Mesh loading ... complete\n",
      "2021-02-05 17:22:56 INFO    : multi-lu-coil-modelling, (interface.py      :114 ) - Modelling tool averaging\n",
      "2021-02-05 17:22:56 INFO    : multi-lu-coil-modelling, (interface.py      :172 ) - Done\n",
      "2021-02-05 17:22:56 INFO    : multi-lu-coil-modelling, (interface.py      :23  ) - Using cim-triangular solver\n",
      "2021-02-05 17:22:56 INFO    : multi-lu-coil-modelling, (abstractsolver.py :100 ) - Solver validation ... complete\n",
      "2021-02-05 17:22:56 INFO    : multi-lu-coil-modelling, (abstractsolver.py :93  ) - Tubes validation ... complete\n",
      "2021-02-05 17:22:56 INFO    : multi-lu-coil-modelling, (interface.py      :140 ) - Received tubes:[\n",
      "\tTube(id='', d=89.0, th=22.90249253153518, th0=6.5, sigma=1823406.124890443, mu=128.90431790380575),]\n",
      "2021-02-05 17:22:56 INFO    : multi-lu-coil-modelling, (interface.py      :144 ) - Mesh loading ... complete\n",
      "2021-02-05 17:22:58 INFO    : multi-lu-coil-modelling, (interface.py      :114 ) - Modelling tool averaging\n",
      "2021-02-05 17:22:58 INFO    : multi-lu-coil-modelling, (interface.py      :172 ) - Done\n",
      "2021-02-05 17:22:58 INFO    : multi-lu-coil-modelling, (interface.py      :23  ) - Using cim-triangular solver\n",
      "2021-02-05 17:22:58 INFO    : multi-lu-coil-modelling, (abstractsolver.py :100 ) - Solver validation ... complete\n",
      "2021-02-05 17:22:58 INFO    : multi-lu-coil-modelling, (abstractsolver.py :93  ) - Tubes validation ... complete\n",
      "2021-02-05 17:22:58 INFO    : multi-lu-coil-modelling, (interface.py      :140 ) - Received tubes:[\n",
      "\tTube(id='', d=89.0, th=-22.90249253153518, th0=6.5, sigma=5470218.374671325, mu=128.90431790380575),]\n",
      "2021-02-05 17:22:58 INFO    : multi-lu-coil-modelling, (interface.py      :144 ) - Mesh loading ... complete\n",
      "2021-02-05 17:23:00 INFO    : multi-lu-coil-modelling, (interface.py      :114 ) - Modelling tool averaging\n",
      "2021-02-05 17:23:00 INFO    : multi-lu-coil-modelling, (interface.py      :172 ) - Done\n",
      "2021-02-05 17:23:00 INFO    : multi-lu-coil-modelling, (interface.py      :23  ) - Using cim-triangular solver\n",
      "2021-02-05 17:23:00 INFO    : multi-lu-coil-modelling, (abstractsolver.py :100 ) - Solver validation ... complete\n",
      "2021-02-05 17:23:00 INFO    : multi-lu-coil-modelling, (abstractsolver.py :93  ) - Tubes validation ... complete\n",
      "2021-02-05 17:23:00 INFO    : multi-lu-coil-modelling, (interface.py      :140 ) - Received tubes:[\n",
      "\tTube(id='', d=89.0, th=-17.813049746749584, th0=6.5, sigma=5470218.374671325, mu=128.90431790380575),]\n",
      "2021-02-05 17:23:00 INFO    : multi-lu-coil-modelling, (interface.py      :144 ) - Mesh loading ... complete\n",
      "2021-02-05 17:23:01 INFO    : multi-lu-coil-modelling, (interface.py      :114 ) - Modelling tool averaging\n",
      "2021-02-05 17:23:01 INFO    : multi-lu-coil-modelling, (interface.py      :172 ) - Done\n",
      "2021-02-05 17:23:01 INFO    : multi-lu-coil-modelling, (interface.py      :23  ) - Using cim-triangular solver\n",
      "2021-02-05 17:23:01 INFO    : multi-lu-coil-modelling, (abstractsolver.py :100 ) - Solver validation ... complete\n",
      "2021-02-05 17:23:01 INFO    : multi-lu-coil-modelling, (abstractsolver.py :93  ) - Tubes validation ... complete\n",
      "2021-02-05 17:23:01 INFO    : multi-lu-coil-modelling, (interface.py      :140 ) - Received tubes:[\n",
      "\tTube(id='', d=89.0, th=-12.72360696196399, th0=6.5, sigma=5470218.374671325, mu=128.90431790380575),]\n",
      "2021-02-05 17:23:01 INFO    : multi-lu-coil-modelling, (interface.py      :144 ) - Mesh loading ... complete\n",
      "2021-02-05 17:23:03 INFO    : multi-lu-coil-modelling, (interface.py      :114 ) - Modelling tool averaging\n",
      "2021-02-05 17:23:03 INFO    : multi-lu-coil-modelling, (interface.py      :172 ) - Done\n",
      "2021-02-05 17:23:03 INFO    : multi-lu-coil-modelling, (interface.py      :23  ) - Using cim-triangular solver\n",
      "2021-02-05 17:23:03 INFO    : multi-lu-coil-modelling, (abstractsolver.py :100 ) - Solver validation ... complete\n",
      "2021-02-05 17:23:03 INFO    : multi-lu-coil-modelling, (abstractsolver.py :93  ) - Tubes validation ... complete\n",
      "2021-02-05 17:23:03 INFO    : multi-lu-coil-modelling, (interface.py      :140 ) - Received tubes:[\n",
      "\tTube(id='', d=89.0, th=-7.634164177178395, th0=6.5, sigma=5470218.374671325, mu=128.90431790380575),]\n",
      "2021-02-05 17:23:03 INFO    : multi-lu-coil-modelling, (interface.py      :144 ) - Mesh loading ... complete\n",
      "2021-02-05 17:23:05 INFO    : multi-lu-coil-modelling, (interface.py      :114 ) - Modelling tool averaging\n",
      "2021-02-05 17:23:05 INFO    : multi-lu-coil-modelling, (interface.py      :172 ) - Done\n",
      "2021-02-05 17:23:05 INFO    : multi-lu-coil-modelling, (interface.py      :23  ) - Using cim-triangular solver\n",
      "2021-02-05 17:23:05 INFO    : multi-lu-coil-modelling, (abstractsolver.py :100 ) - Solver validation ... complete\n",
      "2021-02-05 17:23:05 INFO    : multi-lu-coil-modelling, (abstractsolver.py :93  ) - Tubes validation ... complete\n",
      "2021-02-05 17:23:05 INFO    : multi-lu-coil-modelling, (interface.py      :140 ) - Received tubes:[\n",
      "\tTube(id='', d=89.0, th=-2.5447213923927983, th0=6.5, sigma=5470218.374671325, mu=128.90431790380575),]\n",
      "2021-02-05 17:23:05 INFO    : multi-lu-coil-modelling, (interface.py      :144 ) - Mesh loading ... complete\n",
      "2021-02-05 17:23:06 INFO    : multi-lu-coil-modelling, (interface.py      :114 ) - Modelling tool averaging\n",
      "2021-02-05 17:23:06 INFO    : multi-lu-coil-modelling, (interface.py      :172 ) - Done\n",
      "2021-02-05 17:23:06 INFO    : multi-lu-coil-modelling, (interface.py      :23  ) - Using cim-triangular solver\n",
      "2021-02-05 17:23:06 INFO    : multi-lu-coil-modelling, (abstractsolver.py :100 ) - Solver validation ... complete\n",
      "2021-02-05 17:23:06 INFO    : multi-lu-coil-modelling, (abstractsolver.py :93  ) - Tubes validation ... complete\n",
      "2021-02-05 17:23:06 INFO    : multi-lu-coil-modelling, (interface.py      :140 ) - Received tubes:[\n",
      "\tTube(id='', d=89.0, th=2.5447213923927983, th0=6.5, sigma=5470218.374671325, mu=128.90431790380575),]\n",
      "2021-02-05 17:23:06 INFO    : multi-lu-coil-modelling, (interface.py      :144 ) - Mesh loading ... complete\n",
      "2021-02-05 17:23:08 INFO    : multi-lu-coil-modelling, (interface.py      :114 ) - Modelling tool averaging\n",
      "2021-02-05 17:23:08 INFO    : multi-lu-coil-modelling, (interface.py      :172 ) - Done\n",
      "2021-02-05 17:23:08 INFO    : multi-lu-coil-modelling, (interface.py      :23  ) - Using cim-triangular solver\n",
      "2021-02-05 17:23:08 INFO    : multi-lu-coil-modelling, (abstractsolver.py :100 ) - Solver validation ... complete\n",
      "2021-02-05 17:23:08 INFO    : multi-lu-coil-modelling, (abstractsolver.py :93  ) - Tubes validation ... complete\n",
      "2021-02-05 17:23:08 INFO    : multi-lu-coil-modelling, (interface.py      :140 ) - Received tubes:[\n",
      "\tTube(id='', d=89.0, th=7.634164177178391, th0=6.5, sigma=5470218.374671325, mu=128.90431790380575),]\n",
      "2021-02-05 17:23:08 INFO    : multi-lu-coil-modelling, (interface.py      :144 ) - Mesh loading ... complete\n",
      "2021-02-05 17:23:10 INFO    : multi-lu-coil-modelling, (interface.py      :114 ) - Modelling tool averaging\n",
      "2021-02-05 17:23:10 INFO    : multi-lu-coil-modelling, (interface.py      :172 ) - Done\n",
      "2021-02-05 17:23:10 INFO    : multi-lu-coil-modelling, (interface.py      :23  ) - Using cim-triangular solver\n",
      "2021-02-05 17:23:10 INFO    : multi-lu-coil-modelling, (abstractsolver.py :100 ) - Solver validation ... complete\n",
      "2021-02-05 17:23:10 INFO    : multi-lu-coil-modelling, (abstractsolver.py :93  ) - Tubes validation ... complete\n",
      "2021-02-05 17:23:10 INFO    : multi-lu-coil-modelling, (interface.py      :140 ) - Received tubes:[\n",
      "\tTube(id='', d=89.0, th=12.723606961963988, th0=6.5, sigma=5470218.374671325, mu=128.90431790380575),]\n",
      "2021-02-05 17:23:10 INFO    : multi-lu-coil-modelling, (interface.py      :144 ) - Mesh loading ... complete\n",
      "2021-02-05 17:23:11 INFO    : multi-lu-coil-modelling, (interface.py      :114 ) - Modelling tool averaging\n",
      "2021-02-05 17:23:11 INFO    : multi-lu-coil-modelling, (interface.py      :172 ) - Done\n",
      "2021-02-05 17:23:11 INFO    : multi-lu-coil-modelling, (interface.py      :23  ) - Using cim-triangular solver\n"
     ]
    },
    {
     "name": "stderr",
     "output_type": "stream",
     "text": [
      "2021-02-05 17:23:11 INFO    : multi-lu-coil-modelling, (abstractsolver.py :100 ) - Solver validation ... complete\n",
      "2021-02-05 17:23:11 INFO    : multi-lu-coil-modelling, (abstractsolver.py :93  ) - Tubes validation ... complete\n",
      "2021-02-05 17:23:11 INFO    : multi-lu-coil-modelling, (interface.py      :140 ) - Received tubes:[\n",
      "\tTube(id='', d=89.0, th=17.813049746749584, th0=6.5, sigma=5470218.374671325, mu=128.90431790380575),]\n",
      "2021-02-05 17:23:11 INFO    : multi-lu-coil-modelling, (interface.py      :144 ) - Mesh loading ... complete\n",
      "2021-02-05 17:23:13 INFO    : multi-lu-coil-modelling, (interface.py      :114 ) - Modelling tool averaging\n",
      "2021-02-05 17:23:13 INFO    : multi-lu-coil-modelling, (interface.py      :172 ) - Done\n",
      "2021-02-05 17:23:13 INFO    : multi-lu-coil-modelling, (interface.py      :23  ) - Using cim-triangular solver\n",
      "2021-02-05 17:23:13 INFO    : multi-lu-coil-modelling, (abstractsolver.py :100 ) - Solver validation ... complete\n",
      "2021-02-05 17:23:13 INFO    : multi-lu-coil-modelling, (abstractsolver.py :93  ) - Tubes validation ... complete\n",
      "2021-02-05 17:23:13 INFO    : multi-lu-coil-modelling, (interface.py      :140 ) - Received tubes:[\n",
      "\tTube(id='', d=89.0, th=22.90249253153518, th0=6.5, sigma=5470218.374671325, mu=128.90431790380575),]\n",
      "2021-02-05 17:23:13 INFO    : multi-lu-coil-modelling, (interface.py      :144 ) - Mesh loading ... complete\n",
      "2021-02-05 17:23:15 INFO    : multi-lu-coil-modelling, (interface.py      :114 ) - Modelling tool averaging\n",
      "2021-02-05 17:23:15 INFO    : multi-lu-coil-modelling, (interface.py      :172 ) - Done\n",
      "2021-02-05 17:23:15 INFO    : multi-lu-coil-modelling, (interface.py      :23  ) - Using cim-triangular solver\n",
      "2021-02-05 17:23:15 INFO    : multi-lu-coil-modelling, (abstractsolver.py :100 ) - Solver validation ... complete\n",
      "2021-02-05 17:23:15 INFO    : multi-lu-coil-modelling, (abstractsolver.py :93  ) - Tubes validation ... complete\n",
      "2021-02-05 17:23:15 INFO    : multi-lu-coil-modelling, (interface.py      :140 ) - Received tubes:[\n",
      "\tTube(id='', d=89.0, th=-22.90249253153518, th0=6.5, sigma=9117030.624452211, mu=128.90431790380575),]\n",
      "2021-02-05 17:23:15 INFO    : multi-lu-coil-modelling, (interface.py      :144 ) - Mesh loading ... complete\n",
      "2021-02-05 17:23:16 INFO    : multi-lu-coil-modelling, (interface.py      :114 ) - Modelling tool averaging\n",
      "2021-02-05 17:23:16 INFO    : multi-lu-coil-modelling, (interface.py      :172 ) - Done\n",
      "2021-02-05 17:23:16 INFO    : multi-lu-coil-modelling, (interface.py      :23  ) - Using cim-triangular solver\n",
      "2021-02-05 17:23:16 INFO    : multi-lu-coil-modelling, (abstractsolver.py :100 ) - Solver validation ... complete\n",
      "2021-02-05 17:23:16 INFO    : multi-lu-coil-modelling, (abstractsolver.py :93  ) - Tubes validation ... complete\n",
      "2021-02-05 17:23:16 INFO    : multi-lu-coil-modelling, (interface.py      :140 ) - Received tubes:[\n",
      "\tTube(id='', d=89.0, th=-17.813049746749584, th0=6.5, sigma=9117030.624452211, mu=128.90431790380575),]\n",
      "2021-02-05 17:23:16 INFO    : multi-lu-coil-modelling, (interface.py      :144 ) - Mesh loading ... complete\n",
      "2021-02-05 17:23:18 INFO    : multi-lu-coil-modelling, (interface.py      :114 ) - Modelling tool averaging\n",
      "2021-02-05 17:23:18 INFO    : multi-lu-coil-modelling, (interface.py      :172 ) - Done\n",
      "2021-02-05 17:23:18 INFO    : multi-lu-coil-modelling, (interface.py      :23  ) - Using cim-triangular solver\n",
      "2021-02-05 17:23:18 INFO    : multi-lu-coil-modelling, (abstractsolver.py :100 ) - Solver validation ... complete\n",
      "2021-02-05 17:23:18 INFO    : multi-lu-coil-modelling, (abstractsolver.py :93  ) - Tubes validation ... complete\n",
      "2021-02-05 17:23:18 INFO    : multi-lu-coil-modelling, (interface.py      :140 ) - Received tubes:[\n",
      "\tTube(id='', d=89.0, th=-12.72360696196399, th0=6.5, sigma=9117030.624452211, mu=128.90431790380575),]\n",
      "2021-02-05 17:23:18 INFO    : multi-lu-coil-modelling, (interface.py      :144 ) - Mesh loading ... complete\n",
      "2021-02-05 17:23:20 INFO    : multi-lu-coil-modelling, (interface.py      :114 ) - Modelling tool averaging\n",
      "2021-02-05 17:23:20 INFO    : multi-lu-coil-modelling, (interface.py      :172 ) - Done\n",
      "2021-02-05 17:23:20 INFO    : multi-lu-coil-modelling, (interface.py      :23  ) - Using cim-triangular solver\n",
      "2021-02-05 17:23:20 INFO    : multi-lu-coil-modelling, (abstractsolver.py :100 ) - Solver validation ... complete\n",
      "2021-02-05 17:23:20 INFO    : multi-lu-coil-modelling, (abstractsolver.py :93  ) - Tubes validation ... complete\n",
      "2021-02-05 17:23:20 INFO    : multi-lu-coil-modelling, (interface.py      :140 ) - Received tubes:[\n",
      "\tTube(id='', d=89.0, th=-7.634164177178395, th0=6.5, sigma=9117030.624452211, mu=128.90431790380575),]\n",
      "2021-02-05 17:23:20 INFO    : multi-lu-coil-modelling, (interface.py      :144 ) - Mesh loading ... complete\n",
      "2021-02-05 17:23:21 INFO    : multi-lu-coil-modelling, (interface.py      :114 ) - Modelling tool averaging\n",
      "2021-02-05 17:23:21 INFO    : multi-lu-coil-modelling, (interface.py      :172 ) - Done\n",
      "2021-02-05 17:23:21 INFO    : multi-lu-coil-modelling, (interface.py      :23  ) - Using cim-triangular solver\n",
      "2021-02-05 17:23:21 INFO    : multi-lu-coil-modelling, (abstractsolver.py :100 ) - Solver validation ... complete\n",
      "2021-02-05 17:23:21 INFO    : multi-lu-coil-modelling, (abstractsolver.py :93  ) - Tubes validation ... complete\n",
      "2021-02-05 17:23:21 INFO    : multi-lu-coil-modelling, (interface.py      :140 ) - Received tubes:[\n",
      "\tTube(id='', d=89.0, th=-2.5447213923927983, th0=6.5, sigma=9117030.624452211, mu=128.90431790380575),]\n",
      "2021-02-05 17:23:21 INFO    : multi-lu-coil-modelling, (interface.py      :144 ) - Mesh loading ... complete\n",
      "2021-02-05 17:23:23 INFO    : multi-lu-coil-modelling, (interface.py      :114 ) - Modelling tool averaging\n",
      "2021-02-05 17:23:23 INFO    : multi-lu-coil-modelling, (interface.py      :172 ) - Done\n",
      "2021-02-05 17:23:23 INFO    : multi-lu-coil-modelling, (interface.py      :23  ) - Using cim-triangular solver\n",
      "2021-02-05 17:23:23 INFO    : multi-lu-coil-modelling, (abstractsolver.py :100 ) - Solver validation ... complete\n",
      "2021-02-05 17:23:23 INFO    : multi-lu-coil-modelling, (abstractsolver.py :93  ) - Tubes validation ... complete\n",
      "2021-02-05 17:23:23 INFO    : multi-lu-coil-modelling, (interface.py      :140 ) - Received tubes:[\n",
      "\tTube(id='', d=89.0, th=2.5447213923927983, th0=6.5, sigma=9117030.624452211, mu=128.90431790380575),]\n",
      "2021-02-05 17:23:23 INFO    : multi-lu-coil-modelling, (interface.py      :144 ) - Mesh loading ... complete\n",
      "2021-02-05 17:23:25 INFO    : multi-lu-coil-modelling, (interface.py      :114 ) - Modelling tool averaging\n",
      "2021-02-05 17:23:25 INFO    : multi-lu-coil-modelling, (interface.py      :172 ) - Done\n",
      "2021-02-05 17:23:25 INFO    : multi-lu-coil-modelling, (interface.py      :23  ) - Using cim-triangular solver\n",
      "2021-02-05 17:23:25 INFO    : multi-lu-coil-modelling, (abstractsolver.py :100 ) - Solver validation ... complete\n",
      "2021-02-05 17:23:25 INFO    : multi-lu-coil-modelling, (abstractsolver.py :93  ) - Tubes validation ... complete\n",
      "2021-02-05 17:23:25 INFO    : multi-lu-coil-modelling, (interface.py      :140 ) - Received tubes:[\n",
      "\tTube(id='', d=89.0, th=7.634164177178391, th0=6.5, sigma=9117030.624452211, mu=128.90431790380575),]\n",
      "2021-02-05 17:23:25 INFO    : multi-lu-coil-modelling, (interface.py      :144 ) - Mesh loading ... complete\n",
      "2021-02-05 17:23:26 INFO    : multi-lu-coil-modelling, (interface.py      :114 ) - Modelling tool averaging\n",
      "2021-02-05 17:23:26 INFO    : multi-lu-coil-modelling, (interface.py      :172 ) - Done\n",
      "2021-02-05 17:23:26 INFO    : multi-lu-coil-modelling, (interface.py      :23  ) - Using cim-triangular solver\n",
      "2021-02-05 17:23:26 INFO    : multi-lu-coil-modelling, (abstractsolver.py :100 ) - Solver validation ... complete\n",
      "2021-02-05 17:23:26 INFO    : multi-lu-coil-modelling, (abstractsolver.py :93  ) - Tubes validation ... complete\n",
      "2021-02-05 17:23:26 INFO    : multi-lu-coil-modelling, (interface.py      :140 ) - Received tubes:[\n",
      "\tTube(id='', d=89.0, th=12.723606961963988, th0=6.5, sigma=9117030.624452211, mu=128.90431790380575),]\n",
      "2021-02-05 17:23:26 INFO    : multi-lu-coil-modelling, (interface.py      :144 ) - Mesh loading ... complete\n",
      "2021-02-05 17:23:28 INFO    : multi-lu-coil-modelling, (interface.py      :114 ) - Modelling tool averaging\n"
     ]
    },
    {
     "name": "stderr",
     "output_type": "stream",
     "text": [
      "2021-02-05 17:23:28 INFO    : multi-lu-coil-modelling, (interface.py      :172 ) - Done\n",
      "2021-02-05 17:23:28 INFO    : multi-lu-coil-modelling, (interface.py      :23  ) - Using cim-triangular solver\n",
      "2021-02-05 17:23:28 INFO    : multi-lu-coil-modelling, (abstractsolver.py :100 ) - Solver validation ... complete\n",
      "2021-02-05 17:23:28 INFO    : multi-lu-coil-modelling, (abstractsolver.py :93  ) - Tubes validation ... complete\n",
      "2021-02-05 17:23:28 INFO    : multi-lu-coil-modelling, (interface.py      :140 ) - Received tubes:[\n",
      "\tTube(id='', d=89.0, th=17.813049746749584, th0=6.5, sigma=9117030.624452211, mu=128.90431790380575),]\n",
      "2021-02-05 17:23:28 INFO    : multi-lu-coil-modelling, (interface.py      :144 ) - Mesh loading ... complete\n",
      "2021-02-05 17:23:30 INFO    : multi-lu-coil-modelling, (interface.py      :114 ) - Modelling tool averaging\n",
      "2021-02-05 17:23:30 INFO    : multi-lu-coil-modelling, (interface.py      :172 ) - Done\n",
      "2021-02-05 17:23:30 INFO    : multi-lu-coil-modelling, (interface.py      :23  ) - Using cim-triangular solver\n",
      "2021-02-05 17:23:30 INFO    : multi-lu-coil-modelling, (abstractsolver.py :100 ) - Solver validation ... complete\n",
      "2021-02-05 17:23:30 INFO    : multi-lu-coil-modelling, (abstractsolver.py :93  ) - Tubes validation ... complete\n",
      "2021-02-05 17:23:30 INFO    : multi-lu-coil-modelling, (interface.py      :140 ) - Received tubes:[\n",
      "\tTube(id='', d=89.0, th=22.90249253153518, th0=6.5, sigma=9117030.624452211, mu=128.90431790380575),]\n",
      "2021-02-05 17:23:30 INFO    : multi-lu-coil-modelling, (interface.py      :144 ) - Mesh loading ... complete\n",
      "2021-02-05 17:23:31 INFO    : multi-lu-coil-modelling, (interface.py      :114 ) - Modelling tool averaging\n",
      "2021-02-05 17:23:31 INFO    : multi-lu-coil-modelling, (interface.py      :172 ) - Done\n",
      "2021-02-05 17:23:31 INFO    : multi-lu-coil-modelling, (interface.py      :23  ) - Using cim-triangular solver\n",
      "2021-02-05 17:23:31 INFO    : multi-lu-coil-modelling, (abstractsolver.py :100 ) - Solver validation ... complete\n",
      "2021-02-05 17:23:31 INFO    : multi-lu-coil-modelling, (abstractsolver.py :93  ) - Tubes validation ... complete\n",
      "2021-02-05 17:23:31 INFO    : multi-lu-coil-modelling, (interface.py      :140 ) - Received tubes:[\n",
      "\tTube(id='', d=89.0, th=-22.90249253153518, th0=6.5, sigma=12763842.874233093, mu=128.90431790380575),]\n",
      "2021-02-05 17:23:31 INFO    : multi-lu-coil-modelling, (interface.py      :144 ) - Mesh loading ... complete\n",
      "2021-02-05 17:23:33 INFO    : multi-lu-coil-modelling, (interface.py      :114 ) - Modelling tool averaging\n",
      "2021-02-05 17:23:33 INFO    : multi-lu-coil-modelling, (interface.py      :172 ) - Done\n",
      "2021-02-05 17:23:33 INFO    : multi-lu-coil-modelling, (interface.py      :23  ) - Using cim-triangular solver\n",
      "2021-02-05 17:23:33 INFO    : multi-lu-coil-modelling, (abstractsolver.py :100 ) - Solver validation ... complete\n",
      "2021-02-05 17:23:33 INFO    : multi-lu-coil-modelling, (abstractsolver.py :93  ) - Tubes validation ... complete\n",
      "2021-02-05 17:23:33 INFO    : multi-lu-coil-modelling, (interface.py      :140 ) - Received tubes:[\n",
      "\tTube(id='', d=89.0, th=-17.813049746749584, th0=6.5, sigma=12763842.874233093, mu=128.90431790380575),]\n",
      "2021-02-05 17:23:33 INFO    : multi-lu-coil-modelling, (interface.py      :144 ) - Mesh loading ... complete\n",
      "2021-02-05 17:23:35 INFO    : multi-lu-coil-modelling, (interface.py      :114 ) - Modelling tool averaging\n",
      "2021-02-05 17:23:35 INFO    : multi-lu-coil-modelling, (interface.py      :172 ) - Done\n",
      "2021-02-05 17:23:35 INFO    : multi-lu-coil-modelling, (interface.py      :23  ) - Using cim-triangular solver\n",
      "2021-02-05 17:23:35 INFO    : multi-lu-coil-modelling, (abstractsolver.py :100 ) - Solver validation ... complete\n",
      "2021-02-05 17:23:35 INFO    : multi-lu-coil-modelling, (abstractsolver.py :93  ) - Tubes validation ... complete\n",
      "2021-02-05 17:23:35 INFO    : multi-lu-coil-modelling, (interface.py      :140 ) - Received tubes:[\n",
      "\tTube(id='', d=89.0, th=-12.72360696196399, th0=6.5, sigma=12763842.874233093, mu=128.90431790380575),]\n",
      "2021-02-05 17:23:35 INFO    : multi-lu-coil-modelling, (interface.py      :144 ) - Mesh loading ... complete\n",
      "2021-02-05 17:23:36 INFO    : multi-lu-coil-modelling, (interface.py      :114 ) - Modelling tool averaging\n",
      "2021-02-05 17:23:36 INFO    : multi-lu-coil-modelling, (interface.py      :172 ) - Done\n",
      "2021-02-05 17:23:36 INFO    : multi-lu-coil-modelling, (interface.py      :23  ) - Using cim-triangular solver\n",
      "2021-02-05 17:23:36 INFO    : multi-lu-coil-modelling, (abstractsolver.py :100 ) - Solver validation ... complete\n",
      "2021-02-05 17:23:36 INFO    : multi-lu-coil-modelling, (abstractsolver.py :93  ) - Tubes validation ... complete\n",
      "2021-02-05 17:23:36 INFO    : multi-lu-coil-modelling, (interface.py      :140 ) - Received tubes:[\n",
      "\tTube(id='', d=89.0, th=-7.634164177178395, th0=6.5, sigma=12763842.874233093, mu=128.90431790380575),]\n",
      "2021-02-05 17:23:36 INFO    : multi-lu-coil-modelling, (interface.py      :144 ) - Mesh loading ... complete\n",
      "2021-02-05 17:23:38 INFO    : multi-lu-coil-modelling, (interface.py      :114 ) - Modelling tool averaging\n",
      "2021-02-05 17:23:38 INFO    : multi-lu-coil-modelling, (interface.py      :172 ) - Done\n",
      "2021-02-05 17:23:38 INFO    : multi-lu-coil-modelling, (interface.py      :23  ) - Using cim-triangular solver\n",
      "2021-02-05 17:23:38 INFO    : multi-lu-coil-modelling, (abstractsolver.py :100 ) - Solver validation ... complete\n",
      "2021-02-05 17:23:38 INFO    : multi-lu-coil-modelling, (abstractsolver.py :93  ) - Tubes validation ... complete\n",
      "2021-02-05 17:23:38 INFO    : multi-lu-coil-modelling, (interface.py      :140 ) - Received tubes:[\n",
      "\tTube(id='', d=89.0, th=-2.5447213923927983, th0=6.5, sigma=12763842.874233093, mu=128.90431790380575),]\n",
      "2021-02-05 17:23:38 INFO    : multi-lu-coil-modelling, (interface.py      :144 ) - Mesh loading ... complete\n",
      "2021-02-05 17:23:40 INFO    : multi-lu-coil-modelling, (interface.py      :114 ) - Modelling tool averaging\n",
      "2021-02-05 17:23:40 INFO    : multi-lu-coil-modelling, (interface.py      :172 ) - Done\n",
      "2021-02-05 17:23:40 INFO    : multi-lu-coil-modelling, (interface.py      :23  ) - Using cim-triangular solver\n",
      "2021-02-05 17:23:40 INFO    : multi-lu-coil-modelling, (abstractsolver.py :100 ) - Solver validation ... complete\n",
      "2021-02-05 17:23:40 INFO    : multi-lu-coil-modelling, (abstractsolver.py :93  ) - Tubes validation ... complete\n",
      "2021-02-05 17:23:40 INFO    : multi-lu-coil-modelling, (interface.py      :140 ) - Received tubes:[\n",
      "\tTube(id='', d=89.0, th=2.5447213923927983, th0=6.5, sigma=12763842.874233093, mu=128.90431790380575),]\n",
      "2021-02-05 17:23:40 INFO    : multi-lu-coil-modelling, (interface.py      :144 ) - Mesh loading ... complete\n",
      "2021-02-05 17:23:41 INFO    : multi-lu-coil-modelling, (interface.py      :114 ) - Modelling tool averaging\n",
      "2021-02-05 17:23:41 INFO    : multi-lu-coil-modelling, (interface.py      :172 ) - Done\n",
      "2021-02-05 17:23:41 INFO    : multi-lu-coil-modelling, (interface.py      :23  ) - Using cim-triangular solver\n",
      "2021-02-05 17:23:41 INFO    : multi-lu-coil-modelling, (abstractsolver.py :100 ) - Solver validation ... complete\n",
      "2021-02-05 17:23:41 INFO    : multi-lu-coil-modelling, (abstractsolver.py :93  ) - Tubes validation ... complete\n",
      "2021-02-05 17:23:41 INFO    : multi-lu-coil-modelling, (interface.py      :140 ) - Received tubes:[\n",
      "\tTube(id='', d=89.0, th=7.634164177178391, th0=6.5, sigma=12763842.874233093, mu=128.90431790380575),]\n",
      "2021-02-05 17:23:41 INFO    : multi-lu-coil-modelling, (interface.py      :144 ) - Mesh loading ... complete\n",
      "2021-02-05 17:23:43 INFO    : multi-lu-coil-modelling, (interface.py      :114 ) - Modelling tool averaging\n",
      "2021-02-05 17:23:43 INFO    : multi-lu-coil-modelling, (interface.py      :172 ) - Done\n",
      "2021-02-05 17:23:43 INFO    : multi-lu-coil-modelling, (interface.py      :23  ) - Using cim-triangular solver\n",
      "2021-02-05 17:23:43 INFO    : multi-lu-coil-modelling, (abstractsolver.py :100 ) - Solver validation ... complete\n",
      "2021-02-05 17:23:43 INFO    : multi-lu-coil-modelling, (abstractsolver.py :93  ) - Tubes validation ... complete\n",
      "2021-02-05 17:23:43 INFO    : multi-lu-coil-modelling, (interface.py      :140 ) - Received tubes:[\n",
      "\tTube(id='', d=89.0, th=12.723606961963988, th0=6.5, sigma=12763842.874233093, mu=128.90431790380575),]\n"
     ]
    },
    {
     "name": "stderr",
     "output_type": "stream",
     "text": [
      "2021-02-05 17:23:43 INFO    : multi-lu-coil-modelling, (interface.py      :144 ) - Mesh loading ... complete\n",
      "2021-02-05 17:23:45 INFO    : multi-lu-coil-modelling, (interface.py      :114 ) - Modelling tool averaging\n",
      "2021-02-05 17:23:45 INFO    : multi-lu-coil-modelling, (interface.py      :172 ) - Done\n",
      "2021-02-05 17:23:45 INFO    : multi-lu-coil-modelling, (interface.py      :23  ) - Using cim-triangular solver\n",
      "2021-02-05 17:23:45 INFO    : multi-lu-coil-modelling, (abstractsolver.py :100 ) - Solver validation ... complete\n",
      "2021-02-05 17:23:45 INFO    : multi-lu-coil-modelling, (abstractsolver.py :93  ) - Tubes validation ... complete\n",
      "2021-02-05 17:23:45 INFO    : multi-lu-coil-modelling, (interface.py      :140 ) - Received tubes:[\n",
      "\tTube(id='', d=89.0, th=17.813049746749584, th0=6.5, sigma=12763842.874233093, mu=128.90431790380575),]\n",
      "2021-02-05 17:23:45 INFO    : multi-lu-coil-modelling, (interface.py      :144 ) - Mesh loading ... complete\n",
      "2021-02-05 17:23:46 INFO    : multi-lu-coil-modelling, (interface.py      :114 ) - Modelling tool averaging\n",
      "2021-02-05 17:23:46 INFO    : multi-lu-coil-modelling, (interface.py      :172 ) - Done\n",
      "2021-02-05 17:23:46 INFO    : multi-lu-coil-modelling, (interface.py      :23  ) - Using cim-triangular solver\n",
      "2021-02-05 17:23:46 INFO    : multi-lu-coil-modelling, (abstractsolver.py :100 ) - Solver validation ... complete\n",
      "2021-02-05 17:23:46 INFO    : multi-lu-coil-modelling, (abstractsolver.py :93  ) - Tubes validation ... complete\n",
      "2021-02-05 17:23:46 INFO    : multi-lu-coil-modelling, (interface.py      :140 ) - Received tubes:[\n",
      "\tTube(id='', d=89.0, th=22.90249253153518, th0=6.5, sigma=12763842.874233093, mu=128.90431790380575),]\n",
      "2021-02-05 17:23:46 INFO    : multi-lu-coil-modelling, (interface.py      :144 ) - Mesh loading ... complete\n",
      "2021-02-05 17:23:48 INFO    : multi-lu-coil-modelling, (interface.py      :114 ) - Modelling tool averaging\n",
      "2021-02-05 17:23:48 INFO    : multi-lu-coil-modelling, (interface.py      :172 ) - Done\n",
      "2021-02-05 17:23:48 INFO    : multi-lu-coil-modelling, (interface.py      :23  ) - Using cim-triangular solver\n",
      "2021-02-05 17:23:48 INFO    : multi-lu-coil-modelling, (abstractsolver.py :100 ) - Solver validation ... complete\n",
      "2021-02-05 17:23:48 INFO    : multi-lu-coil-modelling, (abstractsolver.py :93  ) - Tubes validation ... complete\n",
      "2021-02-05 17:23:48 INFO    : multi-lu-coil-modelling, (interface.py      :140 ) - Received tubes:[\n",
      "\tTube(id='', d=89.0, th=-22.90249253153518, th0=6.5, sigma=16410655.124013975, mu=128.90431790380575),]\n",
      "2021-02-05 17:23:48 INFO    : multi-lu-coil-modelling, (interface.py      :144 ) - Mesh loading ... complete\n",
      "2021-02-05 17:23:49 INFO    : multi-lu-coil-modelling, (interface.py      :114 ) - Modelling tool averaging\n",
      "2021-02-05 17:23:49 INFO    : multi-lu-coil-modelling, (interface.py      :172 ) - Done\n",
      "2021-02-05 17:23:50 INFO    : multi-lu-coil-modelling, (interface.py      :23  ) - Using cim-triangular solver\n",
      "2021-02-05 17:23:50 INFO    : multi-lu-coil-modelling, (abstractsolver.py :100 ) - Solver validation ... complete\n",
      "2021-02-05 17:23:50 INFO    : multi-lu-coil-modelling, (abstractsolver.py :93  ) - Tubes validation ... complete\n",
      "2021-02-05 17:23:50 INFO    : multi-lu-coil-modelling, (interface.py      :140 ) - Received tubes:[\n",
      "\tTube(id='', d=89.0, th=-17.813049746749584, th0=6.5, sigma=16410655.124013975, mu=128.90431790380575),]\n",
      "2021-02-05 17:23:50 INFO    : multi-lu-coil-modelling, (interface.py      :144 ) - Mesh loading ... complete\n",
      "2021-02-05 17:23:51 INFO    : multi-lu-coil-modelling, (interface.py      :114 ) - Modelling tool averaging\n",
      "2021-02-05 17:23:51 INFO    : multi-lu-coil-modelling, (interface.py      :172 ) - Done\n",
      "2021-02-05 17:23:51 INFO    : multi-lu-coil-modelling, (interface.py      :23  ) - Using cim-triangular solver\n",
      "2021-02-05 17:23:51 INFO    : multi-lu-coil-modelling, (abstractsolver.py :100 ) - Solver validation ... complete\n",
      "2021-02-05 17:23:51 INFO    : multi-lu-coil-modelling, (abstractsolver.py :93  ) - Tubes validation ... complete\n",
      "2021-02-05 17:23:51 INFO    : multi-lu-coil-modelling, (interface.py      :140 ) - Received tubes:[\n",
      "\tTube(id='', d=89.0, th=-12.72360696196399, th0=6.5, sigma=16410655.124013975, mu=128.90431790380575),]\n",
      "2021-02-05 17:23:51 INFO    : multi-lu-coil-modelling, (interface.py      :144 ) - Mesh loading ... complete\n",
      "2021-02-05 17:23:53 INFO    : multi-lu-coil-modelling, (interface.py      :114 ) - Modelling tool averaging\n",
      "2021-02-05 17:23:53 INFO    : multi-lu-coil-modelling, (interface.py      :172 ) - Done\n",
      "2021-02-05 17:23:53 INFO    : multi-lu-coil-modelling, (interface.py      :23  ) - Using cim-triangular solver\n",
      "2021-02-05 17:23:53 INFO    : multi-lu-coil-modelling, (abstractsolver.py :100 ) - Solver validation ... complete\n",
      "2021-02-05 17:23:53 INFO    : multi-lu-coil-modelling, (abstractsolver.py :93  ) - Tubes validation ... complete\n",
      "2021-02-05 17:23:53 INFO    : multi-lu-coil-modelling, (interface.py      :140 ) - Received tubes:[\n",
      "\tTube(id='', d=89.0, th=-7.634164177178395, th0=6.5, sigma=16410655.124013975, mu=128.90431790380575),]\n",
      "2021-02-05 17:23:53 INFO    : multi-lu-coil-modelling, (interface.py      :144 ) - Mesh loading ... complete\n",
      "2021-02-05 17:23:54 INFO    : multi-lu-coil-modelling, (interface.py      :114 ) - Modelling tool averaging\n",
      "2021-02-05 17:23:54 INFO    : multi-lu-coil-modelling, (interface.py      :172 ) - Done\n",
      "2021-02-05 17:23:54 INFO    : multi-lu-coil-modelling, (interface.py      :23  ) - Using cim-triangular solver\n",
      "2021-02-05 17:23:54 INFO    : multi-lu-coil-modelling, (abstractsolver.py :100 ) - Solver validation ... complete\n",
      "2021-02-05 17:23:54 INFO    : multi-lu-coil-modelling, (abstractsolver.py :93  ) - Tubes validation ... complete\n",
      "2021-02-05 17:23:54 INFO    : multi-lu-coil-modelling, (interface.py      :140 ) - Received tubes:[\n",
      "\tTube(id='', d=89.0, th=-2.5447213923927983, th0=6.5, sigma=16410655.124013975, mu=128.90431790380575),]\n",
      "2021-02-05 17:23:54 INFO    : multi-lu-coil-modelling, (interface.py      :144 ) - Mesh loading ... complete\n",
      "2021-02-05 17:23:56 INFO    : multi-lu-coil-modelling, (interface.py      :114 ) - Modelling tool averaging\n",
      "2021-02-05 17:23:56 INFO    : multi-lu-coil-modelling, (interface.py      :172 ) - Done\n",
      "2021-02-05 17:23:56 INFO    : multi-lu-coil-modelling, (interface.py      :23  ) - Using cim-triangular solver\n",
      "2021-02-05 17:23:56 INFO    : multi-lu-coil-modelling, (abstractsolver.py :100 ) - Solver validation ... complete\n",
      "2021-02-05 17:23:56 INFO    : multi-lu-coil-modelling, (abstractsolver.py :93  ) - Tubes validation ... complete\n",
      "2021-02-05 17:23:56 INFO    : multi-lu-coil-modelling, (interface.py      :140 ) - Received tubes:[\n",
      "\tTube(id='', d=89.0, th=2.5447213923927983, th0=6.5, sigma=16410655.124013975, mu=128.90431790380575),]\n",
      "2021-02-05 17:23:56 INFO    : multi-lu-coil-modelling, (interface.py      :144 ) - Mesh loading ... complete\n",
      "2021-02-05 17:23:58 INFO    : multi-lu-coil-modelling, (interface.py      :114 ) - Modelling tool averaging\n",
      "2021-02-05 17:23:58 INFO    : multi-lu-coil-modelling, (interface.py      :172 ) - Done\n",
      "2021-02-05 17:23:58 INFO    : multi-lu-coil-modelling, (interface.py      :23  ) - Using cim-triangular solver\n",
      "2021-02-05 17:23:58 INFO    : multi-lu-coil-modelling, (abstractsolver.py :100 ) - Solver validation ... complete\n",
      "2021-02-05 17:23:58 INFO    : multi-lu-coil-modelling, (abstractsolver.py :93  ) - Tubes validation ... complete\n",
      "2021-02-05 17:23:58 INFO    : multi-lu-coil-modelling, (interface.py      :140 ) - Received tubes:[\n",
      "\tTube(id='', d=89.0, th=7.634164177178391, th0=6.5, sigma=16410655.124013975, mu=128.90431790380575),]\n",
      "2021-02-05 17:23:58 INFO    : multi-lu-coil-modelling, (interface.py      :144 ) - Mesh loading ... complete\n",
      "2021-02-05 17:23:59 INFO    : multi-lu-coil-modelling, (interface.py      :114 ) - Modelling tool averaging\n",
      "2021-02-05 17:23:59 INFO    : multi-lu-coil-modelling, (interface.py      :172 ) - Done\n",
      "2021-02-05 17:23:59 INFO    : multi-lu-coil-modelling, (interface.py      :23  ) - Using cim-triangular solver\n",
      "2021-02-05 17:23:59 INFO    : multi-lu-coil-modelling, (abstractsolver.py :100 ) - Solver validation ... complete\n",
      "2021-02-05 17:23:59 INFO    : multi-lu-coil-modelling, (abstractsolver.py :93  ) - Tubes validation ... complete\n"
     ]
    },
    {
     "name": "stderr",
     "output_type": "stream",
     "text": [
      "2021-02-05 17:23:59 INFO    : multi-lu-coil-modelling, (interface.py      :140 ) - Received tubes:[\n",
      "\tTube(id='', d=89.0, th=12.723606961963988, th0=6.5, sigma=16410655.124013975, mu=128.90431790380575),]\n",
      "2021-02-05 17:23:59 INFO    : multi-lu-coil-modelling, (interface.py      :144 ) - Mesh loading ... complete\n",
      "2021-02-05 17:24:01 INFO    : multi-lu-coil-modelling, (interface.py      :114 ) - Modelling tool averaging\n",
      "2021-02-05 17:24:01 INFO    : multi-lu-coil-modelling, (interface.py      :172 ) - Done\n",
      "2021-02-05 17:24:01 INFO    : multi-lu-coil-modelling, (interface.py      :23  ) - Using cim-triangular solver\n",
      "2021-02-05 17:24:01 INFO    : multi-lu-coil-modelling, (abstractsolver.py :100 ) - Solver validation ... complete\n",
      "2021-02-05 17:24:01 INFO    : multi-lu-coil-modelling, (abstractsolver.py :93  ) - Tubes validation ... complete\n",
      "2021-02-05 17:24:01 INFO    : multi-lu-coil-modelling, (interface.py      :140 ) - Received tubes:[\n",
      "\tTube(id='', d=89.0, th=17.813049746749584, th0=6.5, sigma=16410655.124013975, mu=128.90431790380575),]\n",
      "2021-02-05 17:24:01 INFO    : multi-lu-coil-modelling, (interface.py      :144 ) - Mesh loading ... complete\n",
      "2021-02-05 17:24:03 INFO    : multi-lu-coil-modelling, (interface.py      :114 ) - Modelling tool averaging\n",
      "2021-02-05 17:24:03 INFO    : multi-lu-coil-modelling, (interface.py      :172 ) - Done\n",
      "2021-02-05 17:24:03 INFO    : multi-lu-coil-modelling, (interface.py      :23  ) - Using cim-triangular solver\n",
      "2021-02-05 17:24:03 INFO    : multi-lu-coil-modelling, (abstractsolver.py :100 ) - Solver validation ... complete\n",
      "2021-02-05 17:24:03 INFO    : multi-lu-coil-modelling, (abstractsolver.py :93  ) - Tubes validation ... complete\n",
      "2021-02-05 17:24:03 INFO    : multi-lu-coil-modelling, (interface.py      :140 ) - Received tubes:[\n",
      "\tTube(id='', d=89.0, th=22.90249253153518, th0=6.5, sigma=16410655.124013975, mu=128.90431790380575),]\n",
      "2021-02-05 17:24:03 INFO    : multi-lu-coil-modelling, (interface.py      :144 ) - Mesh loading ... complete\n",
      "2021-02-05 17:24:05 INFO    : multi-lu-coil-modelling, (interface.py      :114 ) - Modelling tool averaging\n",
      "2021-02-05 17:24:05 INFO    : multi-lu-coil-modelling, (interface.py      :172 ) - Done\n"
     ]
    }
   ],
   "source": [
    "def l2_norm(x,y):#sigma/th\n",
    "    return np.linalg.norm([fix_vector.get('Sigma').iloc[0] - x,\n",
    "                          fix_vector.get('th').iloc[0] - y])\n",
    "\n",
    "def L(x,y):\n",
    "    return (weighted_mse(np.array(fix_vector.get('Decay').iloc[0]), np.array(model_decay(sigma=x,\n",
    "                                                                             th=y)),t))\n",
    "def minimization_func(x,y, constant=1):\n",
    "    #variable_vector = [Sigma, th]\n",
    "    return (-1 * l2_norm(x,y) + constant * L(x,y) )\n",
    "\n",
    "size = 10\n",
    "x = np.linspace(-2 * fix_vector.get('Sigma').iloc[0], 2 * fix_vector.get('Sigma').iloc[0], size)#sigma\n",
    "y = np.linspace(-2 * fix_vector.get('th').iloc[0], 2 * fix_vector.get('th').iloc[0], size)#mu\n",
    "i = 0\n",
    "j = 0\n",
    "z = np.zeros((size,size))\n",
    "while (i < size):\n",
    "    while (j < size):\n",
    "        z[i][j] = minimization_func(x[i],y[j])\n",
    "        j = j + 1\n",
    "    j = 0\n",
    "    i = i + 1\n",
    "#Z = minimization_func(X,Y)"
   ]
  },
  {
   "cell_type": "code",
   "execution_count": 40,
   "metadata": {},
   "outputs": [
    {
     "data": {
      "application/vnd.plotly.v1+json": {
       "config": {
        "plotlyServerURL": "https://plot.ly"
       },
       "data": [
        {
         "type": "surface",
         "z": [
          [
           -388.2342670594537,
           -387.8170536547553,
           -387.4662472203581,
           -387.1820282597462,
           -386.9645434944856,
           -386.81390548733106,
           -386.73019235182534,
           -386.71344755013416,
           -386.7636797803352,
           -386.88086295384176
          ],
          [
           -331.20698977095304,
           -330.71784241176056,
           -330.3063988375307,
           -329.9729497137454,
           -329.71773167066596,
           -329.5409264692545,
           -329.4426603566727,
           -329.42300361666724,
           -329.48197031856506,
           -329.6195182669681
          ],
          [
           -274.2895678447933,
           -273.6987186125347,
           -273.20141776406746,
           -272.7981769024605,
           -272.48941360690816,
           -272.2754492914483,
           -272.1565075423718,
           -272.1327129542519,
           -272.2040904786714,
           -272.37056529356994
          ],
          [
           -217.56823460561702,
           -216.82287412837314,
           -216.19478546390187,
           -215.68499311637427,
           -215.29433741760153,
           -215.02346770789097,
           -214.87283699269338,
           -214.84269817650667,
           -214.9331019465899,
           -215.1438963476296
          ],
          [
           -161.25004946850373,
           -160.2429447017879,
           -159.39205926217838,
           -158.69990590094926,
           -158.16856846868114,
           -157.79967143827295,
           -157.59435552425882,
           -157.5532602348333,
           -157.67651397139662,
           -157.9637320304183
          ],
          [
           -105.97404084790028,
           -104.43781417661435,
           -103.1316366418398,
           -102.05836226221196,
           -101.22955997090831,
           -100.6521944769016,
           -100.33045477047892,
           -100.2666138786949,
           -100.45846783315645,
           -100.90517508016238
          ],
          [
           -55.01207088653284,
           -51.986197676264844,
           -49.301686512119275,
           -47.015639540770664,
           -45.18856879874002,
           -43.87994464764797,
           -43.13665858321089,
           -42.986871921680745,
           -43.43569847072531,
           -44.46643987512485
          ],
          [
           -37.21957115588889,
           -32.58099464431653,
           -28.09908486635116,
           -23.86167768301638,
           -20.02413588462518,
           -16.86459446944222,
           -14.822166899508584,
           -14.37907513665344,
           -15.671708109124259,
           -18.337259249958226
          ],
          [
           -79.42703573958896,
           -77.36198076864187,
           -75.58379489738769,
           -74.11282355289042,
           -72.96685349983107,
           -72.16371934053919,
           -71.7147940872559,
           -71.62477621303894,
           -71.89539642455438,
           -72.52311963412095
          ],
          [
           -133.40344516543192,
           -132.18433999247873,
           -131.15154817154215,
           -130.3092779207188,
           -129.66040960224674,
           -129.2101407577531,
           -128.96047611883358,
           -128.91053882572652,
           -129.06112278853752,
           -129.41186435005466
          ]
         ]
        }
       ],
       "layout": {
        "autosize": false,
        "margin": {
         "b": 65,
         "l": 65,
         "r": 50,
         "t": 90
        },
        "scene": {
         "xaxis": {
          "title": {
           "text": "sigma"
          }
         },
         "yaxis": {
          "title": {
           "text": "th"
          }
         },
         "zaxis": {
          "title": {
           "text": "minimimzation_function(sigma/th)"
          }
         }
        },
        "template": {
         "data": {
          "bar": [
           {
            "error_x": {
             "color": "#2a3f5f"
            },
            "error_y": {
             "color": "#2a3f5f"
            },
            "marker": {
             "line": {
              "color": "#E5ECF6",
              "width": 0.5
             }
            },
            "type": "bar"
           }
          ],
          "barpolar": [
           {
            "marker": {
             "line": {
              "color": "#E5ECF6",
              "width": 0.5
             }
            },
            "type": "barpolar"
           }
          ],
          "carpet": [
           {
            "aaxis": {
             "endlinecolor": "#2a3f5f",
             "gridcolor": "white",
             "linecolor": "white",
             "minorgridcolor": "white",
             "startlinecolor": "#2a3f5f"
            },
            "baxis": {
             "endlinecolor": "#2a3f5f",
             "gridcolor": "white",
             "linecolor": "white",
             "minorgridcolor": "white",
             "startlinecolor": "#2a3f5f"
            },
            "type": "carpet"
           }
          ],
          "choropleth": [
           {
            "colorbar": {
             "outlinewidth": 0,
             "ticks": ""
            },
            "type": "choropleth"
           }
          ],
          "contour": [
           {
            "colorbar": {
             "outlinewidth": 0,
             "ticks": ""
            },
            "colorscale": [
             [
              0,
              "#0d0887"
             ],
             [
              0.1111111111111111,
              "#46039f"
             ],
             [
              0.2222222222222222,
              "#7201a8"
             ],
             [
              0.3333333333333333,
              "#9c179e"
             ],
             [
              0.4444444444444444,
              "#bd3786"
             ],
             [
              0.5555555555555556,
              "#d8576b"
             ],
             [
              0.6666666666666666,
              "#ed7953"
             ],
             [
              0.7777777777777778,
              "#fb9f3a"
             ],
             [
              0.8888888888888888,
              "#fdca26"
             ],
             [
              1,
              "#f0f921"
             ]
            ],
            "type": "contour"
           }
          ],
          "contourcarpet": [
           {
            "colorbar": {
             "outlinewidth": 0,
             "ticks": ""
            },
            "type": "contourcarpet"
           }
          ],
          "heatmap": [
           {
            "colorbar": {
             "outlinewidth": 0,
             "ticks": ""
            },
            "colorscale": [
             [
              0,
              "#0d0887"
             ],
             [
              0.1111111111111111,
              "#46039f"
             ],
             [
              0.2222222222222222,
              "#7201a8"
             ],
             [
              0.3333333333333333,
              "#9c179e"
             ],
             [
              0.4444444444444444,
              "#bd3786"
             ],
             [
              0.5555555555555556,
              "#d8576b"
             ],
             [
              0.6666666666666666,
              "#ed7953"
             ],
             [
              0.7777777777777778,
              "#fb9f3a"
             ],
             [
              0.8888888888888888,
              "#fdca26"
             ],
             [
              1,
              "#f0f921"
             ]
            ],
            "type": "heatmap"
           }
          ],
          "heatmapgl": [
           {
            "colorbar": {
             "outlinewidth": 0,
             "ticks": ""
            },
            "colorscale": [
             [
              0,
              "#0d0887"
             ],
             [
              0.1111111111111111,
              "#46039f"
             ],
             [
              0.2222222222222222,
              "#7201a8"
             ],
             [
              0.3333333333333333,
              "#9c179e"
             ],
             [
              0.4444444444444444,
              "#bd3786"
             ],
             [
              0.5555555555555556,
              "#d8576b"
             ],
             [
              0.6666666666666666,
              "#ed7953"
             ],
             [
              0.7777777777777778,
              "#fb9f3a"
             ],
             [
              0.8888888888888888,
              "#fdca26"
             ],
             [
              1,
              "#f0f921"
             ]
            ],
            "type": "heatmapgl"
           }
          ],
          "histogram": [
           {
            "marker": {
             "colorbar": {
              "outlinewidth": 0,
              "ticks": ""
             }
            },
            "type": "histogram"
           }
          ],
          "histogram2d": [
           {
            "colorbar": {
             "outlinewidth": 0,
             "ticks": ""
            },
            "colorscale": [
             [
              0,
              "#0d0887"
             ],
             [
              0.1111111111111111,
              "#46039f"
             ],
             [
              0.2222222222222222,
              "#7201a8"
             ],
             [
              0.3333333333333333,
              "#9c179e"
             ],
             [
              0.4444444444444444,
              "#bd3786"
             ],
             [
              0.5555555555555556,
              "#d8576b"
             ],
             [
              0.6666666666666666,
              "#ed7953"
             ],
             [
              0.7777777777777778,
              "#fb9f3a"
             ],
             [
              0.8888888888888888,
              "#fdca26"
             ],
             [
              1,
              "#f0f921"
             ]
            ],
            "type": "histogram2d"
           }
          ],
          "histogram2dcontour": [
           {
            "colorbar": {
             "outlinewidth": 0,
             "ticks": ""
            },
            "colorscale": [
             [
              0,
              "#0d0887"
             ],
             [
              0.1111111111111111,
              "#46039f"
             ],
             [
              0.2222222222222222,
              "#7201a8"
             ],
             [
              0.3333333333333333,
              "#9c179e"
             ],
             [
              0.4444444444444444,
              "#bd3786"
             ],
             [
              0.5555555555555556,
              "#d8576b"
             ],
             [
              0.6666666666666666,
              "#ed7953"
             ],
             [
              0.7777777777777778,
              "#fb9f3a"
             ],
             [
              0.8888888888888888,
              "#fdca26"
             ],
             [
              1,
              "#f0f921"
             ]
            ],
            "type": "histogram2dcontour"
           }
          ],
          "mesh3d": [
           {
            "colorbar": {
             "outlinewidth": 0,
             "ticks": ""
            },
            "type": "mesh3d"
           }
          ],
          "parcoords": [
           {
            "line": {
             "colorbar": {
              "outlinewidth": 0,
              "ticks": ""
             }
            },
            "type": "parcoords"
           }
          ],
          "pie": [
           {
            "automargin": true,
            "type": "pie"
           }
          ],
          "scatter": [
           {
            "marker": {
             "colorbar": {
              "outlinewidth": 0,
              "ticks": ""
             }
            },
            "type": "scatter"
           }
          ],
          "scatter3d": [
           {
            "line": {
             "colorbar": {
              "outlinewidth": 0,
              "ticks": ""
             }
            },
            "marker": {
             "colorbar": {
              "outlinewidth": 0,
              "ticks": ""
             }
            },
            "type": "scatter3d"
           }
          ],
          "scattercarpet": [
           {
            "marker": {
             "colorbar": {
              "outlinewidth": 0,
              "ticks": ""
             }
            },
            "type": "scattercarpet"
           }
          ],
          "scattergeo": [
           {
            "marker": {
             "colorbar": {
              "outlinewidth": 0,
              "ticks": ""
             }
            },
            "type": "scattergeo"
           }
          ],
          "scattergl": [
           {
            "marker": {
             "colorbar": {
              "outlinewidth": 0,
              "ticks": ""
             }
            },
            "type": "scattergl"
           }
          ],
          "scattermapbox": [
           {
            "marker": {
             "colorbar": {
              "outlinewidth": 0,
              "ticks": ""
             }
            },
            "type": "scattermapbox"
           }
          ],
          "scatterpolar": [
           {
            "marker": {
             "colorbar": {
              "outlinewidth": 0,
              "ticks": ""
             }
            },
            "type": "scatterpolar"
           }
          ],
          "scatterpolargl": [
           {
            "marker": {
             "colorbar": {
              "outlinewidth": 0,
              "ticks": ""
             }
            },
            "type": "scatterpolargl"
           }
          ],
          "scatterternary": [
           {
            "marker": {
             "colorbar": {
              "outlinewidth": 0,
              "ticks": ""
             }
            },
            "type": "scatterternary"
           }
          ],
          "surface": [
           {
            "colorbar": {
             "outlinewidth": 0,
             "ticks": ""
            },
            "colorscale": [
             [
              0,
              "#0d0887"
             ],
             [
              0.1111111111111111,
              "#46039f"
             ],
             [
              0.2222222222222222,
              "#7201a8"
             ],
             [
              0.3333333333333333,
              "#9c179e"
             ],
             [
              0.4444444444444444,
              "#bd3786"
             ],
             [
              0.5555555555555556,
              "#d8576b"
             ],
             [
              0.6666666666666666,
              "#ed7953"
             ],
             [
              0.7777777777777778,
              "#fb9f3a"
             ],
             [
              0.8888888888888888,
              "#fdca26"
             ],
             [
              1,
              "#f0f921"
             ]
            ],
            "type": "surface"
           }
          ],
          "table": [
           {
            "cells": {
             "fill": {
              "color": "#EBF0F8"
             },
             "line": {
              "color": "white"
             }
            },
            "header": {
             "fill": {
              "color": "#C8D4E3"
             },
             "line": {
              "color": "white"
             }
            },
            "type": "table"
           }
          ]
         },
         "layout": {
          "annotationdefaults": {
           "arrowcolor": "#2a3f5f",
           "arrowhead": 0,
           "arrowwidth": 1
          },
          "autotypenumbers": "strict",
          "coloraxis": {
           "colorbar": {
            "outlinewidth": 0,
            "ticks": ""
           }
          },
          "colorscale": {
           "diverging": [
            [
             0,
             "#8e0152"
            ],
            [
             0.1,
             "#c51b7d"
            ],
            [
             0.2,
             "#de77ae"
            ],
            [
             0.3,
             "#f1b6da"
            ],
            [
             0.4,
             "#fde0ef"
            ],
            [
             0.5,
             "#f7f7f7"
            ],
            [
             0.6,
             "#e6f5d0"
            ],
            [
             0.7,
             "#b8e186"
            ],
            [
             0.8,
             "#7fbc41"
            ],
            [
             0.9,
             "#4d9221"
            ],
            [
             1,
             "#276419"
            ]
           ],
           "sequential": [
            [
             0,
             "#0d0887"
            ],
            [
             0.1111111111111111,
             "#46039f"
            ],
            [
             0.2222222222222222,
             "#7201a8"
            ],
            [
             0.3333333333333333,
             "#9c179e"
            ],
            [
             0.4444444444444444,
             "#bd3786"
            ],
            [
             0.5555555555555556,
             "#d8576b"
            ],
            [
             0.6666666666666666,
             "#ed7953"
            ],
            [
             0.7777777777777778,
             "#fb9f3a"
            ],
            [
             0.8888888888888888,
             "#fdca26"
            ],
            [
             1,
             "#f0f921"
            ]
           ],
           "sequentialminus": [
            [
             0,
             "#0d0887"
            ],
            [
             0.1111111111111111,
             "#46039f"
            ],
            [
             0.2222222222222222,
             "#7201a8"
            ],
            [
             0.3333333333333333,
             "#9c179e"
            ],
            [
             0.4444444444444444,
             "#bd3786"
            ],
            [
             0.5555555555555556,
             "#d8576b"
            ],
            [
             0.6666666666666666,
             "#ed7953"
            ],
            [
             0.7777777777777778,
             "#fb9f3a"
            ],
            [
             0.8888888888888888,
             "#fdca26"
            ],
            [
             1,
             "#f0f921"
            ]
           ]
          },
          "colorway": [
           "#636efa",
           "#EF553B",
           "#00cc96",
           "#ab63fa",
           "#FFA15A",
           "#19d3f3",
           "#FF6692",
           "#B6E880",
           "#FF97FF",
           "#FECB52"
          ],
          "font": {
           "color": "#2a3f5f"
          },
          "geo": {
           "bgcolor": "white",
           "lakecolor": "white",
           "landcolor": "#E5ECF6",
           "showlakes": true,
           "showland": true,
           "subunitcolor": "white"
          },
          "hoverlabel": {
           "align": "left"
          },
          "hovermode": "closest",
          "mapbox": {
           "style": "light"
          },
          "paper_bgcolor": "white",
          "plot_bgcolor": "#E5ECF6",
          "polar": {
           "angularaxis": {
            "gridcolor": "white",
            "linecolor": "white",
            "ticks": ""
           },
           "bgcolor": "#E5ECF6",
           "radialaxis": {
            "gridcolor": "white",
            "linecolor": "white",
            "ticks": ""
           }
          },
          "scene": {
           "xaxis": {
            "backgroundcolor": "#E5ECF6",
            "gridcolor": "white",
            "gridwidth": 2,
            "linecolor": "white",
            "showbackground": true,
            "ticks": "",
            "zerolinecolor": "white"
           },
           "yaxis": {
            "backgroundcolor": "#E5ECF6",
            "gridcolor": "white",
            "gridwidth": 2,
            "linecolor": "white",
            "showbackground": true,
            "ticks": "",
            "zerolinecolor": "white"
           },
           "zaxis": {
            "backgroundcolor": "#E5ECF6",
            "gridcolor": "white",
            "gridwidth": 2,
            "linecolor": "white",
            "showbackground": true,
            "ticks": "",
            "zerolinecolor": "white"
           }
          },
          "shapedefaults": {
           "line": {
            "color": "#2a3f5f"
           }
          },
          "ternary": {
           "aaxis": {
            "gridcolor": "white",
            "linecolor": "white",
            "ticks": ""
           },
           "baxis": {
            "gridcolor": "white",
            "linecolor": "white",
            "ticks": ""
           },
           "bgcolor": "#E5ECF6",
           "caxis": {
            "gridcolor": "white",
            "linecolor": "white",
            "ticks": ""
           }
          },
          "title": {
           "x": 0.05
          },
          "xaxis": {
           "automargin": true,
           "gridcolor": "white",
           "linecolor": "white",
           "ticks": "",
           "title": {
            "standoff": 15
           },
           "zerolinecolor": "white",
           "zerolinewidth": 2
          },
          "yaxis": {
           "automargin": true,
           "gridcolor": "white",
           "linecolor": "white",
           "ticks": "",
           "title": {
            "standoff": 15
           },
           "zerolinecolor": "white",
           "zerolinewidth": 2
          }
         }
        },
        "title": {
         "text": "minimimzation_function(Sigma,th)"
        }
       }
      },
      "text/html": [
       "<div>                            <div id=\"aa1428b2-7271-4a73-b10f-592d5c676174\" class=\"plotly-graph-div\" style=\"height:525px; width:100%;\"></div>            <script type=\"text/javascript\">                require([\"plotly\"], function(Plotly) {                    window.PLOTLYENV=window.PLOTLYENV || {};                                    if (document.getElementById(\"aa1428b2-7271-4a73-b10f-592d5c676174\")) {                    Plotly.newPlot(                        \"aa1428b2-7271-4a73-b10f-592d5c676174\",                        [{\"type\": \"surface\", \"z\": [[-388.2342670594537, -387.8170536547553, -387.4662472203581, -387.1820282597462, -386.9645434944856, -386.81390548733106, -386.73019235182534, -386.71344755013416, -386.7636797803352, -386.88086295384176], [-331.20698977095304, -330.71784241176056, -330.3063988375307, -329.9729497137454, -329.71773167066596, -329.5409264692545, -329.4426603566727, -329.42300361666724, -329.48197031856506, -329.6195182669681], [-274.2895678447933, -273.6987186125347, -273.20141776406746, -272.7981769024605, -272.48941360690816, -272.2754492914483, -272.1565075423718, -272.1327129542519, -272.2040904786714, -272.37056529356994], [-217.56823460561702, -216.82287412837314, -216.19478546390187, -215.68499311637427, -215.29433741760153, -215.02346770789097, -214.87283699269338, -214.84269817650667, -214.9331019465899, -215.1438963476296], [-161.25004946850373, -160.2429447017879, -159.39205926217838, -158.69990590094926, -158.16856846868114, -157.79967143827295, -157.59435552425882, -157.5532602348333, -157.67651397139662, -157.9637320304183], [-105.97404084790028, -104.43781417661435, -103.1316366418398, -102.05836226221196, -101.22955997090831, -100.6521944769016, -100.33045477047892, -100.2666138786949, -100.45846783315645, -100.90517508016238], [-55.01207088653284, -51.986197676264844, -49.301686512119275, -47.015639540770664, -45.18856879874002, -43.87994464764797, -43.13665858321089, -42.986871921680745, -43.43569847072531, -44.46643987512485], [-37.21957115588889, -32.58099464431653, -28.09908486635116, -23.86167768301638, -20.02413588462518, -16.86459446944222, -14.822166899508584, -14.37907513665344, -15.671708109124259, -18.337259249958226], [-79.42703573958896, -77.36198076864187, -75.58379489738769, -74.11282355289042, -72.96685349983107, -72.16371934053919, -71.7147940872559, -71.62477621303894, -71.89539642455438, -72.52311963412095], [-133.40344516543192, -132.18433999247873, -131.15154817154215, -130.3092779207188, -129.66040960224674, -129.2101407577531, -128.96047611883358, -128.91053882572652, -129.06112278853752, -129.41186435005466]]}],                        {\"autosize\": false, \"margin\": {\"b\": 65, \"l\": 65, \"r\": 50, \"t\": 90}, \"scene\": {\"xaxis\": {\"title\": {\"text\": \"sigma\"}}, \"yaxis\": {\"title\": {\"text\": \"th\"}}, \"zaxis\": {\"title\": {\"text\": \"minimimzation_function(sigma/th)\"}}}, \"template\": {\"data\": {\"bar\": [{\"error_x\": {\"color\": \"#2a3f5f\"}, \"error_y\": {\"color\": \"#2a3f5f\"}, \"marker\": {\"line\": {\"color\": \"#E5ECF6\", \"width\": 0.5}}, \"type\": \"bar\"}], \"barpolar\": [{\"marker\": {\"line\": {\"color\": \"#E5ECF6\", \"width\": 0.5}}, \"type\": \"barpolar\"}], \"carpet\": [{\"aaxis\": {\"endlinecolor\": \"#2a3f5f\", \"gridcolor\": \"white\", \"linecolor\": \"white\", \"minorgridcolor\": \"white\", \"startlinecolor\": \"#2a3f5f\"}, \"baxis\": {\"endlinecolor\": \"#2a3f5f\", \"gridcolor\": \"white\", \"linecolor\": \"white\", \"minorgridcolor\": \"white\", \"startlinecolor\": \"#2a3f5f\"}, \"type\": \"carpet\"}], \"choropleth\": [{\"colorbar\": {\"outlinewidth\": 0, \"ticks\": \"\"}, \"type\": \"choropleth\"}], \"contour\": [{\"colorbar\": {\"outlinewidth\": 0, \"ticks\": \"\"}, \"colorscale\": [[0.0, \"#0d0887\"], [0.1111111111111111, \"#46039f\"], [0.2222222222222222, \"#7201a8\"], [0.3333333333333333, \"#9c179e\"], [0.4444444444444444, \"#bd3786\"], [0.5555555555555556, \"#d8576b\"], [0.6666666666666666, \"#ed7953\"], [0.7777777777777778, \"#fb9f3a\"], [0.8888888888888888, \"#fdca26\"], [1.0, \"#f0f921\"]], \"type\": \"contour\"}], \"contourcarpet\": [{\"colorbar\": {\"outlinewidth\": 0, \"ticks\": \"\"}, \"type\": \"contourcarpet\"}], \"heatmap\": [{\"colorbar\": {\"outlinewidth\": 0, \"ticks\": \"\"}, \"colorscale\": [[0.0, \"#0d0887\"], [0.1111111111111111, \"#46039f\"], [0.2222222222222222, \"#7201a8\"], [0.3333333333333333, \"#9c179e\"], [0.4444444444444444, \"#bd3786\"], [0.5555555555555556, \"#d8576b\"], [0.6666666666666666, \"#ed7953\"], [0.7777777777777778, \"#fb9f3a\"], [0.8888888888888888, \"#fdca26\"], [1.0, \"#f0f921\"]], \"type\": \"heatmap\"}], \"heatmapgl\": [{\"colorbar\": {\"outlinewidth\": 0, \"ticks\": \"\"}, \"colorscale\": [[0.0, \"#0d0887\"], [0.1111111111111111, \"#46039f\"], [0.2222222222222222, \"#7201a8\"], [0.3333333333333333, \"#9c179e\"], [0.4444444444444444, \"#bd3786\"], [0.5555555555555556, \"#d8576b\"], [0.6666666666666666, \"#ed7953\"], [0.7777777777777778, \"#fb9f3a\"], [0.8888888888888888, \"#fdca26\"], [1.0, \"#f0f921\"]], \"type\": \"heatmapgl\"}], \"histogram\": [{\"marker\": {\"colorbar\": {\"outlinewidth\": 0, \"ticks\": \"\"}}, \"type\": \"histogram\"}], \"histogram2d\": [{\"colorbar\": {\"outlinewidth\": 0, \"ticks\": \"\"}, \"colorscale\": [[0.0, \"#0d0887\"], [0.1111111111111111, \"#46039f\"], [0.2222222222222222, \"#7201a8\"], [0.3333333333333333, \"#9c179e\"], [0.4444444444444444, \"#bd3786\"], [0.5555555555555556, \"#d8576b\"], [0.6666666666666666, \"#ed7953\"], [0.7777777777777778, \"#fb9f3a\"], [0.8888888888888888, \"#fdca26\"], [1.0, \"#f0f921\"]], \"type\": \"histogram2d\"}], \"histogram2dcontour\": [{\"colorbar\": {\"outlinewidth\": 0, \"ticks\": \"\"}, \"colorscale\": [[0.0, \"#0d0887\"], [0.1111111111111111, \"#46039f\"], [0.2222222222222222, \"#7201a8\"], [0.3333333333333333, \"#9c179e\"], [0.4444444444444444, \"#bd3786\"], [0.5555555555555556, \"#d8576b\"], [0.6666666666666666, \"#ed7953\"], [0.7777777777777778, \"#fb9f3a\"], [0.8888888888888888, \"#fdca26\"], [1.0, \"#f0f921\"]], \"type\": \"histogram2dcontour\"}], \"mesh3d\": [{\"colorbar\": {\"outlinewidth\": 0, \"ticks\": \"\"}, \"type\": \"mesh3d\"}], \"parcoords\": [{\"line\": {\"colorbar\": {\"outlinewidth\": 0, \"ticks\": \"\"}}, \"type\": \"parcoords\"}], \"pie\": [{\"automargin\": true, \"type\": \"pie\"}], \"scatter\": [{\"marker\": {\"colorbar\": {\"outlinewidth\": 0, \"ticks\": \"\"}}, \"type\": \"scatter\"}], \"scatter3d\": [{\"line\": {\"colorbar\": {\"outlinewidth\": 0, \"ticks\": \"\"}}, \"marker\": {\"colorbar\": {\"outlinewidth\": 0, \"ticks\": \"\"}}, \"type\": \"scatter3d\"}], \"scattercarpet\": [{\"marker\": {\"colorbar\": {\"outlinewidth\": 0, \"ticks\": \"\"}}, \"type\": \"scattercarpet\"}], \"scattergeo\": [{\"marker\": {\"colorbar\": {\"outlinewidth\": 0, \"ticks\": \"\"}}, \"type\": \"scattergeo\"}], \"scattergl\": [{\"marker\": {\"colorbar\": {\"outlinewidth\": 0, \"ticks\": \"\"}}, \"type\": \"scattergl\"}], \"scattermapbox\": [{\"marker\": {\"colorbar\": {\"outlinewidth\": 0, \"ticks\": \"\"}}, \"type\": \"scattermapbox\"}], \"scatterpolar\": [{\"marker\": {\"colorbar\": {\"outlinewidth\": 0, \"ticks\": \"\"}}, \"type\": \"scatterpolar\"}], \"scatterpolargl\": [{\"marker\": {\"colorbar\": {\"outlinewidth\": 0, \"ticks\": \"\"}}, \"type\": \"scatterpolargl\"}], \"scatterternary\": [{\"marker\": {\"colorbar\": {\"outlinewidth\": 0, \"ticks\": \"\"}}, \"type\": \"scatterternary\"}], \"surface\": [{\"colorbar\": {\"outlinewidth\": 0, \"ticks\": \"\"}, \"colorscale\": [[0.0, \"#0d0887\"], [0.1111111111111111, \"#46039f\"], [0.2222222222222222, \"#7201a8\"], [0.3333333333333333, \"#9c179e\"], [0.4444444444444444, \"#bd3786\"], [0.5555555555555556, \"#d8576b\"], [0.6666666666666666, \"#ed7953\"], [0.7777777777777778, \"#fb9f3a\"], [0.8888888888888888, \"#fdca26\"], [1.0, \"#f0f921\"]], \"type\": \"surface\"}], \"table\": [{\"cells\": {\"fill\": {\"color\": \"#EBF0F8\"}, \"line\": {\"color\": \"white\"}}, \"header\": {\"fill\": {\"color\": \"#C8D4E3\"}, \"line\": {\"color\": \"white\"}}, \"type\": \"table\"}]}, \"layout\": {\"annotationdefaults\": {\"arrowcolor\": \"#2a3f5f\", \"arrowhead\": 0, \"arrowwidth\": 1}, \"autotypenumbers\": \"strict\", \"coloraxis\": {\"colorbar\": {\"outlinewidth\": 0, \"ticks\": \"\"}}, \"colorscale\": {\"diverging\": [[0, \"#8e0152\"], [0.1, \"#c51b7d\"], [0.2, \"#de77ae\"], [0.3, \"#f1b6da\"], [0.4, \"#fde0ef\"], [0.5, \"#f7f7f7\"], [0.6, \"#e6f5d0\"], [0.7, \"#b8e186\"], [0.8, \"#7fbc41\"], [0.9, \"#4d9221\"], [1, \"#276419\"]], \"sequential\": [[0.0, \"#0d0887\"], [0.1111111111111111, \"#46039f\"], [0.2222222222222222, \"#7201a8\"], [0.3333333333333333, \"#9c179e\"], [0.4444444444444444, \"#bd3786\"], [0.5555555555555556, \"#d8576b\"], [0.6666666666666666, \"#ed7953\"], [0.7777777777777778, \"#fb9f3a\"], [0.8888888888888888, \"#fdca26\"], [1.0, \"#f0f921\"]], \"sequentialminus\": [[0.0, \"#0d0887\"], [0.1111111111111111, \"#46039f\"], [0.2222222222222222, \"#7201a8\"], [0.3333333333333333, \"#9c179e\"], [0.4444444444444444, \"#bd3786\"], [0.5555555555555556, \"#d8576b\"], [0.6666666666666666, \"#ed7953\"], [0.7777777777777778, \"#fb9f3a\"], [0.8888888888888888, \"#fdca26\"], [1.0, \"#f0f921\"]]}, \"colorway\": [\"#636efa\", \"#EF553B\", \"#00cc96\", \"#ab63fa\", \"#FFA15A\", \"#19d3f3\", \"#FF6692\", \"#B6E880\", \"#FF97FF\", \"#FECB52\"], \"font\": {\"color\": \"#2a3f5f\"}, \"geo\": {\"bgcolor\": \"white\", \"lakecolor\": \"white\", \"landcolor\": \"#E5ECF6\", \"showlakes\": true, \"showland\": true, \"subunitcolor\": \"white\"}, \"hoverlabel\": {\"align\": \"left\"}, \"hovermode\": \"closest\", \"mapbox\": {\"style\": \"light\"}, \"paper_bgcolor\": \"white\", \"plot_bgcolor\": \"#E5ECF6\", \"polar\": {\"angularaxis\": {\"gridcolor\": \"white\", \"linecolor\": \"white\", \"ticks\": \"\"}, \"bgcolor\": \"#E5ECF6\", \"radialaxis\": {\"gridcolor\": \"white\", \"linecolor\": \"white\", \"ticks\": \"\"}}, \"scene\": {\"xaxis\": {\"backgroundcolor\": \"#E5ECF6\", \"gridcolor\": \"white\", \"gridwidth\": 2, \"linecolor\": \"white\", \"showbackground\": true, \"ticks\": \"\", \"zerolinecolor\": \"white\"}, \"yaxis\": {\"backgroundcolor\": \"#E5ECF6\", \"gridcolor\": \"white\", \"gridwidth\": 2, \"linecolor\": \"white\", \"showbackground\": true, \"ticks\": \"\", \"zerolinecolor\": \"white\"}, \"zaxis\": {\"backgroundcolor\": \"#E5ECF6\", \"gridcolor\": \"white\", \"gridwidth\": 2, \"linecolor\": \"white\", \"showbackground\": true, \"ticks\": \"\", \"zerolinecolor\": \"white\"}}, \"shapedefaults\": {\"line\": {\"color\": \"#2a3f5f\"}}, \"ternary\": {\"aaxis\": {\"gridcolor\": \"white\", \"linecolor\": \"white\", \"ticks\": \"\"}, \"baxis\": {\"gridcolor\": \"white\", \"linecolor\": \"white\", \"ticks\": \"\"}, \"bgcolor\": \"#E5ECF6\", \"caxis\": {\"gridcolor\": \"white\", \"linecolor\": \"white\", \"ticks\": \"\"}}, \"title\": {\"x\": 0.05}, \"xaxis\": {\"automargin\": true, \"gridcolor\": \"white\", \"linecolor\": \"white\", \"ticks\": \"\", \"title\": {\"standoff\": 15}, \"zerolinecolor\": \"white\", \"zerolinewidth\": 2}, \"yaxis\": {\"automargin\": true, \"gridcolor\": \"white\", \"linecolor\": \"white\", \"ticks\": \"\", \"title\": {\"standoff\": 15}, \"zerolinecolor\": \"white\", \"zerolinewidth\": 2}}}, \"title\": {\"text\": \"minimimzation_function(Sigma,th)\"}},                        {\"responsive\": true}                    ).then(function(){\n",
       "                            \n",
       "var gd = document.getElementById('aa1428b2-7271-4a73-b10f-592d5c676174');\n",
       "var x = new MutationObserver(function (mutations, observer) {{\n",
       "        var display = window.getComputedStyle(gd).display;\n",
       "        if (!display || display === 'none') {{\n",
       "            console.log([gd, 'removed!']);\n",
       "            Plotly.purge(gd);\n",
       "            observer.disconnect();\n",
       "        }}\n",
       "}});\n",
       "\n",
       "// Listen for the removal of the full notebook cells\n",
       "var notebookContainer = gd.closest('#notebook-container');\n",
       "if (notebookContainer) {{\n",
       "    x.observe(notebookContainer, {childList: true});\n",
       "}}\n",
       "\n",
       "// Listen for the clearing of the current output cell\n",
       "var outputEl = gd.closest('.output');\n",
       "if (outputEl) {{\n",
       "    x.observe(outputEl, {childList: true});\n",
       "}}\n",
       "\n",
       "                        })                };                });            </script>        </div>"
      ]
     },
     "metadata": {},
     "output_type": "display_data"
    }
   ],
   "source": [
    "z_data = pd.DataFrame(z)\n",
    "fig = go.Figure(data=[go.Surface(z=z_data.values)])\n",
    "\n",
    "fig.update_layout(title='minimimzation_function(Sigma,th)', autosize=False,\n",
    "                  margin=dict(l=65, r=50, b=65, t=90))\n",
    "fig.update_layout(scene = dict(\n",
    "xaxis_title = 'sigma',\n",
    "yaxis_title = 'th',\n",
    "zaxis_title = 'minimimzation_function(sigma/th)'))\n",
    "fig.show()"
   ]
  },
  {
   "cell_type": "markdown",
   "metadata": {},
   "source": [
    "### 2D loss (mu, th)"
   ]
  },
  {
   "cell_type": "code",
   "execution_count": 35,
   "metadata": {},
   "outputs": [
    {
     "name": "stderr",
     "output_type": "stream",
     "text": [
      "2021-02-05 17:36:29 INFO    : multi-lu-coil-modelling, (interface.py      :23  ) - Using cim-triangular solver\n",
      "2021-02-05 17:36:29 INFO    : multi-lu-coil-modelling, (abstractsolver.py :100 ) - Solver validation ... complete\n",
      "2021-02-05 17:36:29 INFO    : multi-lu-coil-modelling, (abstractsolver.py :93  ) - Tubes validation ... complete\n",
      "2021-02-05 17:36:29 INFO    : multi-lu-coil-modelling, (interface.py      :140 ) - Received tubes:[\n",
      "\tTube(id='', d=89.0, th=-22.90249253153518, th0=6.5, sigma=8205327.562006988, mu=-257.8086358076115),]\n",
      "2021-02-05 17:36:29 INFO    : multi-lu-coil-modelling, (interface.py      :144 ) - Mesh loading ... complete\n",
      "2021-02-05 17:36:31 INFO    : multi-lu-coil-modelling, (interface.py      :114 ) - Modelling tool averaging\n",
      "2021-02-05 17:36:31 INFO    : multi-lu-coil-modelling, (interface.py      :172 ) - Done\n",
      "<ipython-input-2-57651b7c9b59>:4: RuntimeWarning:\n",
      "\n",
      "overflow encountered in square\n",
      "\n",
      "2021-02-05 17:36:31 INFO    : multi-lu-coil-modelling, (interface.py      :23  ) - Using cim-triangular solver\n",
      "2021-02-05 17:36:31 INFO    : multi-lu-coil-modelling, (abstractsolver.py :100 ) - Solver validation ... complete\n",
      "2021-02-05 17:36:31 INFO    : multi-lu-coil-modelling, (abstractsolver.py :93  ) - Tubes validation ... complete\n",
      "2021-02-05 17:36:31 INFO    : multi-lu-coil-modelling, (interface.py      :140 ) - Received tubes:[\n",
      "\tTube(id='', d=89.0, th=-17.813049746749584, th0=6.5, sigma=8205327.562006988, mu=-257.8086358076115),]\n",
      "2021-02-05 17:36:31 INFO    : multi-lu-coil-modelling, (interface.py      :144 ) - Mesh loading ... complete\n",
      "2021-02-05 17:36:33 INFO    : multi-lu-coil-modelling, (interface.py      :114 ) - Modelling tool averaging\n",
      "2021-02-05 17:36:33 INFO    : multi-lu-coil-modelling, (interface.py      :172 ) - Done\n",
      "2021-02-05 17:36:33 INFO    : multi-lu-coil-modelling, (interface.py      :23  ) - Using cim-triangular solver\n",
      "2021-02-05 17:36:33 INFO    : multi-lu-coil-modelling, (abstractsolver.py :100 ) - Solver validation ... complete\n",
      "2021-02-05 17:36:33 INFO    : multi-lu-coil-modelling, (abstractsolver.py :93  ) - Tubes validation ... complete\n",
      "2021-02-05 17:36:33 INFO    : multi-lu-coil-modelling, (interface.py      :140 ) - Received tubes:[\n",
      "\tTube(id='', d=89.0, th=-12.72360696196399, th0=6.5, sigma=8205327.562006988, mu=-257.8086358076115),]\n",
      "2021-02-05 17:36:33 INFO    : multi-lu-coil-modelling, (interface.py      :144 ) - Mesh loading ... complete\n",
      "2021-02-05 17:36:34 INFO    : multi-lu-coil-modelling, (interface.py      :114 ) - Modelling tool averaging\n",
      "2021-02-05 17:36:35 INFO    : multi-lu-coil-modelling, (interface.py      :172 ) - Done\n",
      "2021-02-05 17:36:35 INFO    : multi-lu-coil-modelling, (interface.py      :23  ) - Using cim-triangular solver\n",
      "2021-02-05 17:36:35 INFO    : multi-lu-coil-modelling, (abstractsolver.py :100 ) - Solver validation ... complete\n",
      "2021-02-05 17:36:35 INFO    : multi-lu-coil-modelling, (abstractsolver.py :93  ) - Tubes validation ... complete\n",
      "2021-02-05 17:36:35 INFO    : multi-lu-coil-modelling, (interface.py      :140 ) - Received tubes:[\n",
      "\tTube(id='', d=89.0, th=-7.634164177178395, th0=6.5, sigma=8205327.562006988, mu=-257.8086358076115),]\n",
      "2021-02-05 17:36:35 INFO    : multi-lu-coil-modelling, (interface.py      :144 ) - Mesh loading ... complete\n",
      "2021-02-05 17:36:37 INFO    : multi-lu-coil-modelling, (interface.py      :114 ) - Modelling tool averaging\n",
      "2021-02-05 17:36:37 INFO    : multi-lu-coil-modelling, (interface.py      :172 ) - Done\n",
      "2021-02-05 17:36:37 INFO    : multi-lu-coil-modelling, (interface.py      :23  ) - Using cim-triangular solver\n",
      "2021-02-05 17:36:37 INFO    : multi-lu-coil-modelling, (abstractsolver.py :100 ) - Solver validation ... complete\n",
      "2021-02-05 17:36:37 INFO    : multi-lu-coil-modelling, (abstractsolver.py :93  ) - Tubes validation ... complete\n",
      "2021-02-05 17:36:37 INFO    : multi-lu-coil-modelling, (interface.py      :140 ) - Received tubes:[\n",
      "\tTube(id='', d=89.0, th=-2.5447213923927983, th0=6.5, sigma=8205327.562006988, mu=-257.8086358076115),]\n",
      "2021-02-05 17:36:37 INFO    : multi-lu-coil-modelling, (interface.py      :144 ) - Mesh loading ... complete\n",
      "2021-02-05 17:36:39 INFO    : multi-lu-coil-modelling, (interface.py      :114 ) - Modelling tool averaging\n",
      "2021-02-05 17:36:39 INFO    : multi-lu-coil-modelling, (interface.py      :172 ) - Done\n",
      "2021-02-05 17:36:39 INFO    : multi-lu-coil-modelling, (interface.py      :23  ) - Using cim-triangular solver\n",
      "2021-02-05 17:36:39 INFO    : multi-lu-coil-modelling, (abstractsolver.py :100 ) - Solver validation ... complete\n",
      "2021-02-05 17:36:39 INFO    : multi-lu-coil-modelling, (abstractsolver.py :93  ) - Tubes validation ... complete\n",
      "2021-02-05 17:36:39 INFO    : multi-lu-coil-modelling, (interface.py      :140 ) - Received tubes:[\n",
      "\tTube(id='', d=89.0, th=2.5447213923927983, th0=6.5, sigma=8205327.562006988, mu=-257.8086358076115),]\n",
      "2021-02-05 17:36:39 INFO    : multi-lu-coil-modelling, (interface.py      :144 ) - Mesh loading ... complete\n",
      "2021-02-05 17:36:40 INFO    : multi-lu-coil-modelling, (interface.py      :114 ) - Modelling tool averaging\n",
      "2021-02-05 17:36:40 INFO    : multi-lu-coil-modelling, (interface.py      :172 ) - Done\n",
      "2021-02-05 17:36:41 INFO    : multi-lu-coil-modelling, (interface.py      :23  ) - Using cim-triangular solver\n",
      "2021-02-05 17:36:41 INFO    : multi-lu-coil-modelling, (abstractsolver.py :100 ) - Solver validation ... complete\n",
      "2021-02-05 17:36:41 INFO    : multi-lu-coil-modelling, (abstractsolver.py :93  ) - Tubes validation ... complete\n",
      "2021-02-05 17:36:41 INFO    : multi-lu-coil-modelling, (interface.py      :140 ) - Received tubes:[\n",
      "\tTube(id='', d=89.0, th=7.634164177178391, th0=6.5, sigma=8205327.562006988, mu=-257.8086358076115),]\n",
      "2021-02-05 17:36:41 INFO    : multi-lu-coil-modelling, (interface.py      :144 ) - Mesh loading ... complete\n",
      "2021-02-05 17:36:43 INFO    : multi-lu-coil-modelling, (interface.py      :114 ) - Modelling tool averaging\n",
      "2021-02-05 17:36:43 INFO    : multi-lu-coil-modelling, (interface.py      :172 ) - Done\n",
      "2021-02-05 17:36:43 INFO    : multi-lu-coil-modelling, (interface.py      :23  ) - Using cim-triangular solver\n",
      "2021-02-05 17:36:43 INFO    : multi-lu-coil-modelling, (abstractsolver.py :100 ) - Solver validation ... complete\n",
      "2021-02-05 17:36:43 INFO    : multi-lu-coil-modelling, (abstractsolver.py :93  ) - Tubes validation ... complete\n",
      "2021-02-05 17:36:43 INFO    : multi-lu-coil-modelling, (interface.py      :140 ) - Received tubes:[\n",
      "\tTube(id='', d=89.0, th=12.723606961963988, th0=6.5, sigma=8205327.562006988, mu=-257.8086358076115),]\n",
      "2021-02-05 17:36:43 INFO    : multi-lu-coil-modelling, (interface.py      :144 ) - Mesh loading ... complete\n",
      "2021-02-05 17:36:45 INFO    : multi-lu-coil-modelling, (interface.py      :114 ) - Modelling tool averaging\n",
      "2021-02-05 17:36:45 INFO    : multi-lu-coil-modelling, (interface.py      :172 ) - Done\n",
      "2021-02-05 17:36:45 INFO    : multi-lu-coil-modelling, (interface.py      :23  ) - Using cim-triangular solver\n",
      "2021-02-05 17:36:45 INFO    : multi-lu-coil-modelling, (abstractsolver.py :100 ) - Solver validation ... complete\n",
      "2021-02-05 17:36:45 INFO    : multi-lu-coil-modelling, (abstractsolver.py :93  ) - Tubes validation ... complete\n",
      "2021-02-05 17:36:45 INFO    : multi-lu-coil-modelling, (interface.py      :140 ) - Received tubes:[\n",
      "\tTube(id='', d=89.0, th=17.813049746749584, th0=6.5, sigma=8205327.562006988, mu=-257.8086358076115),]\n",
      "2021-02-05 17:36:45 INFO    : multi-lu-coil-modelling, (interface.py      :144 ) - Mesh loading ... complete\n",
      "2021-02-05 17:36:47 INFO    : multi-lu-coil-modelling, (interface.py      :114 ) - Modelling tool averaging\n",
      "2021-02-05 17:36:47 INFO    : multi-lu-coil-modelling, (interface.py      :172 ) - Done\n",
      "2021-02-05 17:36:47 INFO    : multi-lu-coil-modelling, (interface.py      :23  ) - Using cim-triangular solver\n",
      "2021-02-05 17:36:47 INFO    : multi-lu-coil-modelling, (abstractsolver.py :100 ) - Solver validation ... complete\n",
      "2021-02-05 17:36:47 INFO    : multi-lu-coil-modelling, (abstractsolver.py :93  ) - Tubes validation ... complete\n",
      "2021-02-05 17:36:47 INFO    : multi-lu-coil-modelling, (interface.py      :140 ) - Received tubes:[\n",
      "\tTube(id='', d=89.0, th=22.90249253153518, th0=6.5, sigma=8205327.562006988, mu=-257.8086358076115),]\n"
     ]
    },
    {
     "name": "stderr",
     "output_type": "stream",
     "text": [
      "2021-02-05 17:36:47 INFO    : multi-lu-coil-modelling, (interface.py      :144 ) - Mesh loading ... complete\n",
      "2021-02-05 17:36:49 INFO    : multi-lu-coil-modelling, (interface.py      :114 ) - Modelling tool averaging\n",
      "2021-02-05 17:36:49 INFO    : multi-lu-coil-modelling, (interface.py      :172 ) - Done\n",
      "2021-02-05 17:36:49 INFO    : multi-lu-coil-modelling, (interface.py      :23  ) - Using cim-triangular solver\n",
      "2021-02-05 17:36:49 INFO    : multi-lu-coil-modelling, (abstractsolver.py :100 ) - Solver validation ... complete\n",
      "2021-02-05 17:36:49 INFO    : multi-lu-coil-modelling, (abstractsolver.py :93  ) - Tubes validation ... complete\n",
      "2021-02-05 17:36:49 INFO    : multi-lu-coil-modelling, (interface.py      :140 ) - Received tubes:[\n",
      "\tTube(id='', d=89.0, th=-22.90249253153518, th0=6.5, sigma=8205327.562006988, mu=-200.51782785036448),]\n",
      "2021-02-05 17:36:49 INFO    : multi-lu-coil-modelling, (interface.py      :144 ) - Mesh loading ... complete\n",
      "2021-02-05 17:36:51 INFO    : multi-lu-coil-modelling, (interface.py      :114 ) - Modelling tool averaging\n",
      "2021-02-05 17:36:51 INFO    : multi-lu-coil-modelling, (interface.py      :172 ) - Done\n",
      "2021-02-05 17:36:51 INFO    : multi-lu-coil-modelling, (interface.py      :23  ) - Using cim-triangular solver\n",
      "2021-02-05 17:36:51 INFO    : multi-lu-coil-modelling, (abstractsolver.py :100 ) - Solver validation ... complete\n",
      "2021-02-05 17:36:51 INFO    : multi-lu-coil-modelling, (abstractsolver.py :93  ) - Tubes validation ... complete\n",
      "2021-02-05 17:36:51 INFO    : multi-lu-coil-modelling, (interface.py      :140 ) - Received tubes:[\n",
      "\tTube(id='', d=89.0, th=-17.813049746749584, th0=6.5, sigma=8205327.562006988, mu=-200.51782785036448),]\n",
      "2021-02-05 17:36:51 INFO    : multi-lu-coil-modelling, (interface.py      :144 ) - Mesh loading ... complete\n",
      "2021-02-05 17:36:53 INFO    : multi-lu-coil-modelling, (interface.py      :114 ) - Modelling tool averaging\n",
      "2021-02-05 17:36:53 INFO    : multi-lu-coil-modelling, (interface.py      :172 ) - Done\n",
      "2021-02-05 17:36:53 INFO    : multi-lu-coil-modelling, (interface.py      :23  ) - Using cim-triangular solver\n",
      "2021-02-05 17:36:53 INFO    : multi-lu-coil-modelling, (abstractsolver.py :100 ) - Solver validation ... complete\n",
      "2021-02-05 17:36:53 INFO    : multi-lu-coil-modelling, (abstractsolver.py :93  ) - Tubes validation ... complete\n",
      "2021-02-05 17:36:53 INFO    : multi-lu-coil-modelling, (interface.py      :140 ) - Received tubes:[\n",
      "\tTube(id='', d=89.0, th=-12.72360696196399, th0=6.5, sigma=8205327.562006988, mu=-200.51782785036448),]\n",
      "2021-02-05 17:36:53 INFO    : multi-lu-coil-modelling, (interface.py      :144 ) - Mesh loading ... complete\n",
      "2021-02-05 17:36:54 INFO    : multi-lu-coil-modelling, (interface.py      :114 ) - Modelling tool averaging\n",
      "2021-02-05 17:36:54 INFO    : multi-lu-coil-modelling, (interface.py      :172 ) - Done\n",
      "2021-02-05 17:36:54 INFO    : multi-lu-coil-modelling, (interface.py      :23  ) - Using cim-triangular solver\n",
      "2021-02-05 17:36:54 INFO    : multi-lu-coil-modelling, (abstractsolver.py :100 ) - Solver validation ... complete\n",
      "2021-02-05 17:36:54 INFO    : multi-lu-coil-modelling, (abstractsolver.py :93  ) - Tubes validation ... complete\n",
      "2021-02-05 17:36:54 INFO    : multi-lu-coil-modelling, (interface.py      :140 ) - Received tubes:[\n",
      "\tTube(id='', d=89.0, th=-7.634164177178395, th0=6.5, sigma=8205327.562006988, mu=-200.51782785036448),]\n",
      "2021-02-05 17:36:54 INFO    : multi-lu-coil-modelling, (interface.py      :144 ) - Mesh loading ... complete\n",
      "2021-02-05 17:36:56 INFO    : multi-lu-coil-modelling, (interface.py      :114 ) - Modelling tool averaging\n",
      "2021-02-05 17:36:56 INFO    : multi-lu-coil-modelling, (interface.py      :172 ) - Done\n",
      "2021-02-05 17:36:56 INFO    : multi-lu-coil-modelling, (interface.py      :23  ) - Using cim-triangular solver\n",
      "2021-02-05 17:36:56 INFO    : multi-lu-coil-modelling, (abstractsolver.py :100 ) - Solver validation ... complete\n",
      "2021-02-05 17:36:56 INFO    : multi-lu-coil-modelling, (abstractsolver.py :93  ) - Tubes validation ... complete\n",
      "2021-02-05 17:36:56 INFO    : multi-lu-coil-modelling, (interface.py      :140 ) - Received tubes:[\n",
      "\tTube(id='', d=89.0, th=-2.5447213923927983, th0=6.5, sigma=8205327.562006988, mu=-200.51782785036448),]\n",
      "2021-02-05 17:36:56 INFO    : multi-lu-coil-modelling, (interface.py      :144 ) - Mesh loading ... complete\n",
      "2021-02-05 17:36:58 INFO    : multi-lu-coil-modelling, (interface.py      :114 ) - Modelling tool averaging\n",
      "2021-02-05 17:36:58 INFO    : multi-lu-coil-modelling, (interface.py      :172 ) - Done\n",
      "2021-02-05 17:36:58 INFO    : multi-lu-coil-modelling, (interface.py      :23  ) - Using cim-triangular solver\n",
      "2021-02-05 17:36:58 INFO    : multi-lu-coil-modelling, (abstractsolver.py :100 ) - Solver validation ... complete\n",
      "2021-02-05 17:36:58 INFO    : multi-lu-coil-modelling, (abstractsolver.py :93  ) - Tubes validation ... complete\n",
      "2021-02-05 17:36:58 INFO    : multi-lu-coil-modelling, (interface.py      :140 ) - Received tubes:[\n",
      "\tTube(id='', d=89.0, th=2.5447213923927983, th0=6.5, sigma=8205327.562006988, mu=-200.51782785036448),]\n",
      "2021-02-05 17:36:58 INFO    : multi-lu-coil-modelling, (interface.py      :144 ) - Mesh loading ... complete\n",
      "2021-02-05 17:37:00 INFO    : multi-lu-coil-modelling, (interface.py      :114 ) - Modelling tool averaging\n",
      "2021-02-05 17:37:00 INFO    : multi-lu-coil-modelling, (interface.py      :172 ) - Done\n",
      "2021-02-05 17:37:00 INFO    : multi-lu-coil-modelling, (interface.py      :23  ) - Using cim-triangular solver\n",
      "2021-02-05 17:37:00 INFO    : multi-lu-coil-modelling, (abstractsolver.py :100 ) - Solver validation ... complete\n",
      "2021-02-05 17:37:00 INFO    : multi-lu-coil-modelling, (abstractsolver.py :93  ) - Tubes validation ... complete\n",
      "2021-02-05 17:37:00 INFO    : multi-lu-coil-modelling, (interface.py      :140 ) - Received tubes:[\n",
      "\tTube(id='', d=89.0, th=7.634164177178391, th0=6.5, sigma=8205327.562006988, mu=-200.51782785036448),]\n",
      "2021-02-05 17:37:00 INFO    : multi-lu-coil-modelling, (interface.py      :144 ) - Mesh loading ... complete\n",
      "2021-02-05 17:37:01 INFO    : multi-lu-coil-modelling, (interface.py      :114 ) - Modelling tool averaging\n",
      "2021-02-05 17:37:01 INFO    : multi-lu-coil-modelling, (interface.py      :172 ) - Done\n",
      "2021-02-05 17:37:02 INFO    : multi-lu-coil-modelling, (interface.py      :23  ) - Using cim-triangular solver\n",
      "2021-02-05 17:37:02 INFO    : multi-lu-coil-modelling, (abstractsolver.py :100 ) - Solver validation ... complete\n",
      "2021-02-05 17:37:02 INFO    : multi-lu-coil-modelling, (abstractsolver.py :93  ) - Tubes validation ... complete\n",
      "2021-02-05 17:37:02 INFO    : multi-lu-coil-modelling, (interface.py      :140 ) - Received tubes:[\n",
      "\tTube(id='', d=89.0, th=12.723606961963988, th0=6.5, sigma=8205327.562006988, mu=-200.51782785036448),]\n",
      "2021-02-05 17:37:02 INFO    : multi-lu-coil-modelling, (interface.py      :144 ) - Mesh loading ... complete\n",
      "2021-02-05 17:37:03 INFO    : multi-lu-coil-modelling, (interface.py      :114 ) - Modelling tool averaging\n",
      "2021-02-05 17:37:03 INFO    : multi-lu-coil-modelling, (interface.py      :172 ) - Done\n",
      "2021-02-05 17:37:03 INFO    : multi-lu-coil-modelling, (interface.py      :23  ) - Using cim-triangular solver\n",
      "2021-02-05 17:37:03 INFO    : multi-lu-coil-modelling, (abstractsolver.py :100 ) - Solver validation ... complete\n",
      "2021-02-05 17:37:03 INFO    : multi-lu-coil-modelling, (abstractsolver.py :93  ) - Tubes validation ... complete\n",
      "2021-02-05 17:37:03 INFO    : multi-lu-coil-modelling, (interface.py      :140 ) - Received tubes:[\n",
      "\tTube(id='', d=89.0, th=17.813049746749584, th0=6.5, sigma=8205327.562006988, mu=-200.51782785036448),]\n",
      "2021-02-05 17:37:03 INFO    : multi-lu-coil-modelling, (interface.py      :144 ) - Mesh loading ... complete\n",
      "2021-02-05 17:37:05 INFO    : multi-lu-coil-modelling, (interface.py      :114 ) - Modelling tool averaging\n",
      "2021-02-05 17:37:05 INFO    : multi-lu-coil-modelling, (interface.py      :172 ) - Done\n",
      "2021-02-05 17:37:05 INFO    : multi-lu-coil-modelling, (interface.py      :23  ) - Using cim-triangular solver\n",
      "2021-02-05 17:37:05 INFO    : multi-lu-coil-modelling, (abstractsolver.py :100 ) - Solver validation ... complete\n",
      "2021-02-05 17:37:05 INFO    : multi-lu-coil-modelling, (abstractsolver.py :93  ) - Tubes validation ... complete\n"
     ]
    },
    {
     "name": "stderr",
     "output_type": "stream",
     "text": [
      "2021-02-05 17:37:05 INFO    : multi-lu-coil-modelling, (interface.py      :140 ) - Received tubes:[\n",
      "\tTube(id='', d=89.0, th=22.90249253153518, th0=6.5, sigma=8205327.562006988, mu=-200.51782785036448),]\n",
      "2021-02-05 17:37:05 INFO    : multi-lu-coil-modelling, (interface.py      :144 ) - Mesh loading ... complete\n",
      "2021-02-05 17:37:07 INFO    : multi-lu-coil-modelling, (interface.py      :114 ) - Modelling tool averaging\n",
      "2021-02-05 17:37:07 INFO    : multi-lu-coil-modelling, (interface.py      :172 ) - Done\n",
      "2021-02-05 17:37:07 INFO    : multi-lu-coil-modelling, (interface.py      :23  ) - Using cim-triangular solver\n",
      "2021-02-05 17:37:07 INFO    : multi-lu-coil-modelling, (abstractsolver.py :100 ) - Solver validation ... complete\n",
      "2021-02-05 17:37:07 INFO    : multi-lu-coil-modelling, (abstractsolver.py :93  ) - Tubes validation ... complete\n",
      "2021-02-05 17:37:07 INFO    : multi-lu-coil-modelling, (interface.py      :140 ) - Received tubes:[\n",
      "\tTube(id='', d=89.0, th=-22.90249253153518, th0=6.5, sigma=8205327.562006988, mu=-143.2270198931175),]\n",
      "2021-02-05 17:37:07 INFO    : multi-lu-coil-modelling, (interface.py      :144 ) - Mesh loading ... complete\n",
      "2021-02-05 17:37:08 INFO    : multi-lu-coil-modelling, (interface.py      :114 ) - Modelling tool averaging\n",
      "2021-02-05 17:37:08 INFO    : multi-lu-coil-modelling, (interface.py      :172 ) - Done\n",
      "2021-02-05 17:37:08 INFO    : multi-lu-coil-modelling, (interface.py      :23  ) - Using cim-triangular solver\n",
      "2021-02-05 17:37:08 INFO    : multi-lu-coil-modelling, (abstractsolver.py :100 ) - Solver validation ... complete\n",
      "2021-02-05 17:37:08 INFO    : multi-lu-coil-modelling, (abstractsolver.py :93  ) - Tubes validation ... complete\n",
      "2021-02-05 17:37:08 INFO    : multi-lu-coil-modelling, (interface.py      :140 ) - Received tubes:[\n",
      "\tTube(id='', d=89.0, th=-17.813049746749584, th0=6.5, sigma=8205327.562006988, mu=-143.2270198931175),]\n",
      "2021-02-05 17:37:08 INFO    : multi-lu-coil-modelling, (interface.py      :144 ) - Mesh loading ... complete\n",
      "2021-02-05 17:37:10 INFO    : multi-lu-coil-modelling, (interface.py      :114 ) - Modelling tool averaging\n",
      "2021-02-05 17:37:10 INFO    : multi-lu-coil-modelling, (interface.py      :172 ) - Done\n",
      "2021-02-05 17:37:10 INFO    : multi-lu-coil-modelling, (interface.py      :23  ) - Using cim-triangular solver\n",
      "2021-02-05 17:37:10 INFO    : multi-lu-coil-modelling, (abstractsolver.py :100 ) - Solver validation ... complete\n",
      "2021-02-05 17:37:10 INFO    : multi-lu-coil-modelling, (abstractsolver.py :93  ) - Tubes validation ... complete\n",
      "2021-02-05 17:37:10 INFO    : multi-lu-coil-modelling, (interface.py      :140 ) - Received tubes:[\n",
      "\tTube(id='', d=89.0, th=-12.72360696196399, th0=6.5, sigma=8205327.562006988, mu=-143.2270198931175),]\n",
      "2021-02-05 17:37:10 INFO    : multi-lu-coil-modelling, (interface.py      :144 ) - Mesh loading ... complete\n",
      "2021-02-05 17:37:12 INFO    : multi-lu-coil-modelling, (interface.py      :114 ) - Modelling tool averaging\n",
      "2021-02-05 17:37:12 INFO    : multi-lu-coil-modelling, (interface.py      :172 ) - Done\n",
      "2021-02-05 17:37:12 INFO    : multi-lu-coil-modelling, (interface.py      :23  ) - Using cim-triangular solver\n",
      "2021-02-05 17:37:12 INFO    : multi-lu-coil-modelling, (abstractsolver.py :100 ) - Solver validation ... complete\n",
      "2021-02-05 17:37:12 INFO    : multi-lu-coil-modelling, (abstractsolver.py :93  ) - Tubes validation ... complete\n",
      "2021-02-05 17:37:12 INFO    : multi-lu-coil-modelling, (interface.py      :140 ) - Received tubes:[\n",
      "\tTube(id='', d=89.0, th=-7.634164177178395, th0=6.5, sigma=8205327.562006988, mu=-143.2270198931175),]\n",
      "2021-02-05 17:37:12 INFO    : multi-lu-coil-modelling, (interface.py      :144 ) - Mesh loading ... complete\n",
      "2021-02-05 17:37:14 INFO    : multi-lu-coil-modelling, (interface.py      :114 ) - Modelling tool averaging\n",
      "2021-02-05 17:37:14 INFO    : multi-lu-coil-modelling, (interface.py      :172 ) - Done\n",
      "2021-02-05 17:37:14 INFO    : multi-lu-coil-modelling, (interface.py      :23  ) - Using cim-triangular solver\n",
      "2021-02-05 17:37:14 INFO    : multi-lu-coil-modelling, (abstractsolver.py :100 ) - Solver validation ... complete\n",
      "2021-02-05 17:37:14 INFO    : multi-lu-coil-modelling, (abstractsolver.py :93  ) - Tubes validation ... complete\n",
      "2021-02-05 17:37:14 INFO    : multi-lu-coil-modelling, (interface.py      :140 ) - Received tubes:[\n",
      "\tTube(id='', d=89.0, th=-2.5447213923927983, th0=6.5, sigma=8205327.562006988, mu=-143.2270198931175),]\n",
      "2021-02-05 17:37:14 INFO    : multi-lu-coil-modelling, (interface.py      :144 ) - Mesh loading ... complete\n",
      "2021-02-05 17:37:15 INFO    : multi-lu-coil-modelling, (interface.py      :114 ) - Modelling tool averaging\n",
      "2021-02-05 17:37:15 INFO    : multi-lu-coil-modelling, (interface.py      :172 ) - Done\n",
      "2021-02-05 17:37:15 INFO    : multi-lu-coil-modelling, (interface.py      :23  ) - Using cim-triangular solver\n",
      "2021-02-05 17:37:15 INFO    : multi-lu-coil-modelling, (abstractsolver.py :100 ) - Solver validation ... complete\n",
      "2021-02-05 17:37:15 INFO    : multi-lu-coil-modelling, (abstractsolver.py :93  ) - Tubes validation ... complete\n",
      "2021-02-05 17:37:15 INFO    : multi-lu-coil-modelling, (interface.py      :140 ) - Received tubes:[\n",
      "\tTube(id='', d=89.0, th=2.5447213923927983, th0=6.5, sigma=8205327.562006988, mu=-143.2270198931175),]\n",
      "2021-02-05 17:37:15 INFO    : multi-lu-coil-modelling, (interface.py      :144 ) - Mesh loading ... complete\n",
      "2021-02-05 17:37:17 INFO    : multi-lu-coil-modelling, (interface.py      :114 ) - Modelling tool averaging\n",
      "2021-02-05 17:37:17 INFO    : multi-lu-coil-modelling, (interface.py      :172 ) - Done\n",
      "2021-02-05 17:37:17 INFO    : multi-lu-coil-modelling, (interface.py      :23  ) - Using cim-triangular solver\n",
      "2021-02-05 17:37:17 INFO    : multi-lu-coil-modelling, (abstractsolver.py :100 ) - Solver validation ... complete\n",
      "2021-02-05 17:37:17 INFO    : multi-lu-coil-modelling, (abstractsolver.py :93  ) - Tubes validation ... complete\n",
      "2021-02-05 17:37:17 INFO    : multi-lu-coil-modelling, (interface.py      :140 ) - Received tubes:[\n",
      "\tTube(id='', d=89.0, th=7.634164177178391, th0=6.5, sigma=8205327.562006988, mu=-143.2270198931175),]\n",
      "2021-02-05 17:37:17 INFO    : multi-lu-coil-modelling, (interface.py      :144 ) - Mesh loading ... complete\n",
      "2021-02-05 17:37:19 INFO    : multi-lu-coil-modelling, (interface.py      :114 ) - Modelling tool averaging\n",
      "2021-02-05 17:37:19 INFO    : multi-lu-coil-modelling, (interface.py      :172 ) - Done\n",
      "2021-02-05 17:37:19 INFO    : multi-lu-coil-modelling, (interface.py      :23  ) - Using cim-triangular solver\n",
      "2021-02-05 17:37:19 INFO    : multi-lu-coil-modelling, (abstractsolver.py :100 ) - Solver validation ... complete\n",
      "2021-02-05 17:37:19 INFO    : multi-lu-coil-modelling, (abstractsolver.py :93  ) - Tubes validation ... complete\n",
      "2021-02-05 17:37:19 INFO    : multi-lu-coil-modelling, (interface.py      :140 ) - Received tubes:[\n",
      "\tTube(id='', d=89.0, th=12.723606961963988, th0=6.5, sigma=8205327.562006988, mu=-143.2270198931175),]\n",
      "2021-02-05 17:37:19 INFO    : multi-lu-coil-modelling, (interface.py      :144 ) - Mesh loading ... complete\n",
      "2021-02-05 17:37:20 INFO    : multi-lu-coil-modelling, (interface.py      :114 ) - Modelling tool averaging\n",
      "2021-02-05 17:37:21 INFO    : multi-lu-coil-modelling, (interface.py      :172 ) - Done\n",
      "2021-02-05 17:37:21 INFO    : multi-lu-coil-modelling, (interface.py      :23  ) - Using cim-triangular solver\n",
      "2021-02-05 17:37:21 INFO    : multi-lu-coil-modelling, (abstractsolver.py :100 ) - Solver validation ... complete\n",
      "2021-02-05 17:37:21 INFO    : multi-lu-coil-modelling, (abstractsolver.py :93  ) - Tubes validation ... complete\n",
      "2021-02-05 17:37:21 INFO    : multi-lu-coil-modelling, (interface.py      :140 ) - Received tubes:[\n",
      "\tTube(id='', d=89.0, th=17.813049746749584, th0=6.5, sigma=8205327.562006988, mu=-143.2270198931175),]\n",
      "2021-02-05 17:37:21 INFO    : multi-lu-coil-modelling, (interface.py      :144 ) - Mesh loading ... complete\n",
      "2021-02-05 17:37:22 INFO    : multi-lu-coil-modelling, (interface.py      :114 ) - Modelling tool averaging\n",
      "2021-02-05 17:37:22 INFO    : multi-lu-coil-modelling, (interface.py      :172 ) - Done\n",
      "2021-02-05 17:37:22 INFO    : multi-lu-coil-modelling, (interface.py      :23  ) - Using cim-triangular solver\n"
     ]
    },
    {
     "name": "stderr",
     "output_type": "stream",
     "text": [
      "2021-02-05 17:37:22 INFO    : multi-lu-coil-modelling, (abstractsolver.py :100 ) - Solver validation ... complete\n",
      "2021-02-05 17:37:22 INFO    : multi-lu-coil-modelling, (abstractsolver.py :93  ) - Tubes validation ... complete\n",
      "2021-02-05 17:37:22 INFO    : multi-lu-coil-modelling, (interface.py      :140 ) - Received tubes:[\n",
      "\tTube(id='', d=89.0, th=22.90249253153518, th0=6.5, sigma=8205327.562006988, mu=-143.2270198931175),]\n",
      "2021-02-05 17:37:22 INFO    : multi-lu-coil-modelling, (interface.py      :144 ) - Mesh loading ... complete\n",
      "2021-02-05 17:37:24 INFO    : multi-lu-coil-modelling, (interface.py      :114 ) - Modelling tool averaging\n",
      "2021-02-05 17:37:24 INFO    : multi-lu-coil-modelling, (interface.py      :172 ) - Done\n",
      "2021-02-05 17:37:24 INFO    : multi-lu-coil-modelling, (interface.py      :23  ) - Using cim-triangular solver\n",
      "2021-02-05 17:37:24 INFO    : multi-lu-coil-modelling, (abstractsolver.py :100 ) - Solver validation ... complete\n",
      "2021-02-05 17:37:24 INFO    : multi-lu-coil-modelling, (abstractsolver.py :93  ) - Tubes validation ... complete\n",
      "2021-02-05 17:37:24 INFO    : multi-lu-coil-modelling, (interface.py      :140 ) - Received tubes:[\n",
      "\tTube(id='', d=89.0, th=-22.90249253153518, th0=6.5, sigma=8205327.562006988, mu=-85.93621193587052),]\n",
      "2021-02-05 17:37:24 INFO    : multi-lu-coil-modelling, (interface.py      :144 ) - Mesh loading ... complete\n",
      "2021-02-05 17:37:26 INFO    : multi-lu-coil-modelling, (interface.py      :114 ) - Modelling tool averaging\n",
      "2021-02-05 17:37:26 INFO    : multi-lu-coil-modelling, (interface.py      :172 ) - Done\n",
      "2021-02-05 17:37:26 INFO    : multi-lu-coil-modelling, (interface.py      :23  ) - Using cim-triangular solver\n",
      "2021-02-05 17:37:26 INFO    : multi-lu-coil-modelling, (abstractsolver.py :100 ) - Solver validation ... complete\n",
      "2021-02-05 17:37:26 INFO    : multi-lu-coil-modelling, (abstractsolver.py :93  ) - Tubes validation ... complete\n",
      "2021-02-05 17:37:26 INFO    : multi-lu-coil-modelling, (interface.py      :140 ) - Received tubes:[\n",
      "\tTube(id='', d=89.0, th=-17.813049746749584, th0=6.5, sigma=8205327.562006988, mu=-85.93621193587052),]\n",
      "2021-02-05 17:37:26 INFO    : multi-lu-coil-modelling, (interface.py      :144 ) - Mesh loading ... complete\n",
      "2021-02-05 17:37:27 INFO    : multi-lu-coil-modelling, (interface.py      :114 ) - Modelling tool averaging\n",
      "2021-02-05 17:37:27 INFO    : multi-lu-coil-modelling, (interface.py      :172 ) - Done\n",
      "2021-02-05 17:37:27 INFO    : multi-lu-coil-modelling, (interface.py      :23  ) - Using cim-triangular solver\n",
      "2021-02-05 17:37:27 INFO    : multi-lu-coil-modelling, (abstractsolver.py :100 ) - Solver validation ... complete\n",
      "2021-02-05 17:37:27 INFO    : multi-lu-coil-modelling, (abstractsolver.py :93  ) - Tubes validation ... complete\n",
      "2021-02-05 17:37:27 INFO    : multi-lu-coil-modelling, (interface.py      :140 ) - Received tubes:[\n",
      "\tTube(id='', d=89.0, th=-12.72360696196399, th0=6.5, sigma=8205327.562006988, mu=-85.93621193587052),]\n",
      "2021-02-05 17:37:27 INFO    : multi-lu-coil-modelling, (interface.py      :144 ) - Mesh loading ... complete\n",
      "2021-02-05 17:37:29 INFO    : multi-lu-coil-modelling, (interface.py      :114 ) - Modelling tool averaging\n",
      "2021-02-05 17:37:29 INFO    : multi-lu-coil-modelling, (interface.py      :172 ) - Done\n",
      "2021-02-05 17:37:29 INFO    : multi-lu-coil-modelling, (interface.py      :23  ) - Using cim-triangular solver\n",
      "2021-02-05 17:37:29 INFO    : multi-lu-coil-modelling, (abstractsolver.py :100 ) - Solver validation ... complete\n",
      "2021-02-05 17:37:29 INFO    : multi-lu-coil-modelling, (abstractsolver.py :93  ) - Tubes validation ... complete\n",
      "2021-02-05 17:37:29 INFO    : multi-lu-coil-modelling, (interface.py      :140 ) - Received tubes:[\n",
      "\tTube(id='', d=89.0, th=-7.634164177178395, th0=6.5, sigma=8205327.562006988, mu=-85.93621193587052),]\n",
      "2021-02-05 17:37:29 INFO    : multi-lu-coil-modelling, (interface.py      :144 ) - Mesh loading ... complete\n",
      "2021-02-05 17:37:31 INFO    : multi-lu-coil-modelling, (interface.py      :114 ) - Modelling tool averaging\n",
      "2021-02-05 17:37:31 INFO    : multi-lu-coil-modelling, (interface.py      :172 ) - Done\n",
      "2021-02-05 17:37:31 INFO    : multi-lu-coil-modelling, (interface.py      :23  ) - Using cim-triangular solver\n",
      "2021-02-05 17:37:31 INFO    : multi-lu-coil-modelling, (abstractsolver.py :100 ) - Solver validation ... complete\n",
      "2021-02-05 17:37:31 INFO    : multi-lu-coil-modelling, (abstractsolver.py :93  ) - Tubes validation ... complete\n",
      "2021-02-05 17:37:31 INFO    : multi-lu-coil-modelling, (interface.py      :140 ) - Received tubes:[\n",
      "\tTube(id='', d=89.0, th=-2.5447213923927983, th0=6.5, sigma=8205327.562006988, mu=-85.93621193587052),]\n",
      "2021-02-05 17:37:31 INFO    : multi-lu-coil-modelling, (interface.py      :144 ) - Mesh loading ... complete\n",
      "2021-02-05 17:37:32 INFO    : multi-lu-coil-modelling, (interface.py      :114 ) - Modelling tool averaging\n",
      "2021-02-05 17:37:32 INFO    : multi-lu-coil-modelling, (interface.py      :172 ) - Done\n",
      "2021-02-05 17:37:32 INFO    : multi-lu-coil-modelling, (interface.py      :23  ) - Using cim-triangular solver\n",
      "2021-02-05 17:37:32 INFO    : multi-lu-coil-modelling, (abstractsolver.py :100 ) - Solver validation ... complete\n",
      "2021-02-05 17:37:32 INFO    : multi-lu-coil-modelling, (abstractsolver.py :93  ) - Tubes validation ... complete\n",
      "2021-02-05 17:37:32 INFO    : multi-lu-coil-modelling, (interface.py      :140 ) - Received tubes:[\n",
      "\tTube(id='', d=89.0, th=2.5447213923927983, th0=6.5, sigma=8205327.562006988, mu=-85.93621193587052),]\n",
      "2021-02-05 17:37:32 INFO    : multi-lu-coil-modelling, (interface.py      :144 ) - Mesh loading ... complete\n",
      "2021-02-05 17:37:34 INFO    : multi-lu-coil-modelling, (interface.py      :114 ) - Modelling tool averaging\n",
      "2021-02-05 17:37:34 INFO    : multi-lu-coil-modelling, (interface.py      :172 ) - Done\n",
      "2021-02-05 17:37:34 INFO    : multi-lu-coil-modelling, (interface.py      :23  ) - Using cim-triangular solver\n",
      "2021-02-05 17:37:34 INFO    : multi-lu-coil-modelling, (abstractsolver.py :100 ) - Solver validation ... complete\n",
      "2021-02-05 17:37:34 INFO    : multi-lu-coil-modelling, (abstractsolver.py :93  ) - Tubes validation ... complete\n",
      "2021-02-05 17:37:34 INFO    : multi-lu-coil-modelling, (interface.py      :140 ) - Received tubes:[\n",
      "\tTube(id='', d=89.0, th=7.634164177178391, th0=6.5, sigma=8205327.562006988, mu=-85.93621193587052),]\n",
      "2021-02-05 17:37:34 INFO    : multi-lu-coil-modelling, (interface.py      :144 ) - Mesh loading ... complete\n",
      "2021-02-05 17:37:36 INFO    : multi-lu-coil-modelling, (interface.py      :114 ) - Modelling tool averaging\n",
      "2021-02-05 17:37:36 INFO    : multi-lu-coil-modelling, (interface.py      :172 ) - Done\n",
      "2021-02-05 17:37:36 INFO    : multi-lu-coil-modelling, (interface.py      :23  ) - Using cim-triangular solver\n",
      "2021-02-05 17:37:36 INFO    : multi-lu-coil-modelling, (abstractsolver.py :100 ) - Solver validation ... complete\n",
      "2021-02-05 17:37:36 INFO    : multi-lu-coil-modelling, (abstractsolver.py :93  ) - Tubes validation ... complete\n",
      "2021-02-05 17:37:36 INFO    : multi-lu-coil-modelling, (interface.py      :140 ) - Received tubes:[\n",
      "\tTube(id='', d=89.0, th=12.723606961963988, th0=6.5, sigma=8205327.562006988, mu=-85.93621193587052),]\n",
      "2021-02-05 17:37:36 INFO    : multi-lu-coil-modelling, (interface.py      :144 ) - Mesh loading ... complete\n",
      "2021-02-05 17:37:38 INFO    : multi-lu-coil-modelling, (interface.py      :114 ) - Modelling tool averaging\n",
      "2021-02-05 17:37:38 INFO    : multi-lu-coil-modelling, (interface.py      :172 ) - Done\n",
      "2021-02-05 17:37:38 INFO    : multi-lu-coil-modelling, (interface.py      :23  ) - Using cim-triangular solver\n",
      "2021-02-05 17:37:38 INFO    : multi-lu-coil-modelling, (abstractsolver.py :100 ) - Solver validation ... complete\n",
      "2021-02-05 17:37:38 INFO    : multi-lu-coil-modelling, (abstractsolver.py :93  ) - Tubes validation ... complete\n",
      "2021-02-05 17:37:38 INFO    : multi-lu-coil-modelling, (interface.py      :140 ) - Received tubes:[\n",
      "\tTube(id='', d=89.0, th=17.813049746749584, th0=6.5, sigma=8205327.562006988, mu=-85.93621193587052),]\n",
      "2021-02-05 17:37:38 INFO    : multi-lu-coil-modelling, (interface.py      :144 ) - Mesh loading ... complete\n",
      "2021-02-05 17:37:40 INFO    : multi-lu-coil-modelling, (interface.py      :114 ) - Modelling tool averaging\n"
     ]
    },
    {
     "name": "stderr",
     "output_type": "stream",
     "text": [
      "2021-02-05 17:37:40 INFO    : multi-lu-coil-modelling, (interface.py      :172 ) - Done\n",
      "2021-02-05 17:37:40 INFO    : multi-lu-coil-modelling, (interface.py      :23  ) - Using cim-triangular solver\n",
      "2021-02-05 17:37:40 INFO    : multi-lu-coil-modelling, (abstractsolver.py :100 ) - Solver validation ... complete\n",
      "2021-02-05 17:37:40 INFO    : multi-lu-coil-modelling, (abstractsolver.py :93  ) - Tubes validation ... complete\n",
      "2021-02-05 17:37:40 INFO    : multi-lu-coil-modelling, (interface.py      :140 ) - Received tubes:[\n",
      "\tTube(id='', d=89.0, th=22.90249253153518, th0=6.5, sigma=8205327.562006988, mu=-85.93621193587052),]\n",
      "2021-02-05 17:37:40 INFO    : multi-lu-coil-modelling, (interface.py      :144 ) - Mesh loading ... complete\n",
      "2021-02-05 17:37:42 INFO    : multi-lu-coil-modelling, (interface.py      :114 ) - Modelling tool averaging\n",
      "2021-02-05 17:37:42 INFO    : multi-lu-coil-modelling, (interface.py      :172 ) - Done\n",
      "2021-02-05 17:37:42 INFO    : multi-lu-coil-modelling, (interface.py      :23  ) - Using cim-triangular solver\n",
      "2021-02-05 17:37:42 INFO    : multi-lu-coil-modelling, (abstractsolver.py :100 ) - Solver validation ... complete\n",
      "2021-02-05 17:37:42 INFO    : multi-lu-coil-modelling, (abstractsolver.py :93  ) - Tubes validation ... complete\n",
      "2021-02-05 17:37:42 INFO    : multi-lu-coil-modelling, (interface.py      :140 ) - Received tubes:[\n",
      "\tTube(id='', d=89.0, th=-22.90249253153518, th0=6.5, sigma=8205327.562006988, mu=-28.645403978623506),]\n",
      "2021-02-05 17:37:42 INFO    : multi-lu-coil-modelling, (interface.py      :144 ) - Mesh loading ... complete\n",
      "2021-02-05 17:37:44 INFO    : multi-lu-coil-modelling, (interface.py      :114 ) - Modelling tool averaging\n",
      "2021-02-05 17:37:44 INFO    : multi-lu-coil-modelling, (interface.py      :172 ) - Done\n",
      "2021-02-05 17:37:44 INFO    : multi-lu-coil-modelling, (interface.py      :23  ) - Using cim-triangular solver\n",
      "2021-02-05 17:37:44 INFO    : multi-lu-coil-modelling, (abstractsolver.py :100 ) - Solver validation ... complete\n",
      "2021-02-05 17:37:44 INFO    : multi-lu-coil-modelling, (abstractsolver.py :93  ) - Tubes validation ... complete\n",
      "2021-02-05 17:37:44 INFO    : multi-lu-coil-modelling, (interface.py      :140 ) - Received tubes:[\n",
      "\tTube(id='', d=89.0, th=-17.813049746749584, th0=6.5, sigma=8205327.562006988, mu=-28.645403978623506),]\n",
      "2021-02-05 17:37:44 INFO    : multi-lu-coil-modelling, (interface.py      :144 ) - Mesh loading ... complete\n",
      "2021-02-05 17:37:45 INFO    : multi-lu-coil-modelling, (interface.py      :114 ) - Modelling tool averaging\n",
      "2021-02-05 17:37:45 INFO    : multi-lu-coil-modelling, (interface.py      :172 ) - Done\n",
      "2021-02-05 17:37:45 INFO    : multi-lu-coil-modelling, (interface.py      :23  ) - Using cim-triangular solver\n",
      "2021-02-05 17:37:45 INFO    : multi-lu-coil-modelling, (abstractsolver.py :100 ) - Solver validation ... complete\n",
      "2021-02-05 17:37:46 INFO    : multi-lu-coil-modelling, (abstractsolver.py :93  ) - Tubes validation ... complete\n",
      "2021-02-05 17:37:46 INFO    : multi-lu-coil-modelling, (interface.py      :140 ) - Received tubes:[\n",
      "\tTube(id='', d=89.0, th=-12.72360696196399, th0=6.5, sigma=8205327.562006988, mu=-28.645403978623506),]\n",
      "2021-02-05 17:37:46 INFO    : multi-lu-coil-modelling, (interface.py      :144 ) - Mesh loading ... complete\n",
      "2021-02-05 17:37:47 INFO    : multi-lu-coil-modelling, (interface.py      :114 ) - Modelling tool averaging\n",
      "2021-02-05 17:37:47 INFO    : multi-lu-coil-modelling, (interface.py      :172 ) - Done\n",
      "2021-02-05 17:37:47 INFO    : multi-lu-coil-modelling, (interface.py      :23  ) - Using cim-triangular solver\n",
      "2021-02-05 17:37:47 INFO    : multi-lu-coil-modelling, (abstractsolver.py :100 ) - Solver validation ... complete\n",
      "2021-02-05 17:37:47 INFO    : multi-lu-coil-modelling, (abstractsolver.py :93  ) - Tubes validation ... complete\n",
      "2021-02-05 17:37:47 INFO    : multi-lu-coil-modelling, (interface.py      :140 ) - Received tubes:[\n",
      "\tTube(id='', d=89.0, th=-7.634164177178395, th0=6.5, sigma=8205327.562006988, mu=-28.645403978623506),]\n",
      "2021-02-05 17:37:47 INFO    : multi-lu-coil-modelling, (interface.py      :144 ) - Mesh loading ... complete\n",
      "2021-02-05 17:37:49 INFO    : multi-lu-coil-modelling, (interface.py      :114 ) - Modelling tool averaging\n",
      "2021-02-05 17:37:49 INFO    : multi-lu-coil-modelling, (interface.py      :172 ) - Done\n",
      "2021-02-05 17:37:49 INFO    : multi-lu-coil-modelling, (interface.py      :23  ) - Using cim-triangular solver\n",
      "2021-02-05 17:37:49 INFO    : multi-lu-coil-modelling, (abstractsolver.py :100 ) - Solver validation ... complete\n",
      "2021-02-05 17:37:49 INFO    : multi-lu-coil-modelling, (abstractsolver.py :93  ) - Tubes validation ... complete\n",
      "2021-02-05 17:37:49 INFO    : multi-lu-coil-modelling, (interface.py      :140 ) - Received tubes:[\n",
      "\tTube(id='', d=89.0, th=-2.5447213923927983, th0=6.5, sigma=8205327.562006988, mu=-28.645403978623506),]\n",
      "2021-02-05 17:37:49 INFO    : multi-lu-coil-modelling, (interface.py      :144 ) - Mesh loading ... complete\n",
      "2021-02-05 17:37:51 INFO    : multi-lu-coil-modelling, (interface.py      :114 ) - Modelling tool averaging\n",
      "2021-02-05 17:37:51 INFO    : multi-lu-coil-modelling, (interface.py      :172 ) - Done\n",
      "2021-02-05 17:37:51 INFO    : multi-lu-coil-modelling, (interface.py      :23  ) - Using cim-triangular solver\n",
      "2021-02-05 17:37:51 INFO    : multi-lu-coil-modelling, (abstractsolver.py :100 ) - Solver validation ... complete\n",
      "2021-02-05 17:37:51 INFO    : multi-lu-coil-modelling, (abstractsolver.py :93  ) - Tubes validation ... complete\n",
      "2021-02-05 17:37:51 INFO    : multi-lu-coil-modelling, (interface.py      :140 ) - Received tubes:[\n",
      "\tTube(id='', d=89.0, th=2.5447213923927983, th0=6.5, sigma=8205327.562006988, mu=-28.645403978623506),]\n",
      "2021-02-05 17:37:51 INFO    : multi-lu-coil-modelling, (interface.py      :144 ) - Mesh loading ... complete\n",
      "2021-02-05 17:37:52 INFO    : multi-lu-coil-modelling, (interface.py      :114 ) - Modelling tool averaging\n",
      "2021-02-05 17:37:52 INFO    : multi-lu-coil-modelling, (interface.py      :172 ) - Done\n",
      "2021-02-05 17:37:53 INFO    : multi-lu-coil-modelling, (interface.py      :23  ) - Using cim-triangular solver\n",
      "2021-02-05 17:37:53 INFO    : multi-lu-coil-modelling, (abstractsolver.py :100 ) - Solver validation ... complete\n",
      "2021-02-05 17:37:53 INFO    : multi-lu-coil-modelling, (abstractsolver.py :93  ) - Tubes validation ... complete\n",
      "2021-02-05 17:37:53 INFO    : multi-lu-coil-modelling, (interface.py      :140 ) - Received tubes:[\n",
      "\tTube(id='', d=89.0, th=7.634164177178391, th0=6.5, sigma=8205327.562006988, mu=-28.645403978623506),]\n",
      "2021-02-05 17:37:53 INFO    : multi-lu-coil-modelling, (interface.py      :144 ) - Mesh loading ... complete\n",
      "2021-02-05 17:37:54 INFO    : multi-lu-coil-modelling, (interface.py      :114 ) - Modelling tool averaging\n",
      "2021-02-05 17:37:54 INFO    : multi-lu-coil-modelling, (interface.py      :172 ) - Done\n",
      "2021-02-05 17:37:54 INFO    : multi-lu-coil-modelling, (interface.py      :23  ) - Using cim-triangular solver\n",
      "2021-02-05 17:37:54 INFO    : multi-lu-coil-modelling, (abstractsolver.py :100 ) - Solver validation ... complete\n",
      "2021-02-05 17:37:54 INFO    : multi-lu-coil-modelling, (abstractsolver.py :93  ) - Tubes validation ... complete\n",
      "2021-02-05 17:37:54 INFO    : multi-lu-coil-modelling, (interface.py      :140 ) - Received tubes:[\n",
      "\tTube(id='', d=89.0, th=12.723606961963988, th0=6.5, sigma=8205327.562006988, mu=-28.645403978623506),]\n",
      "2021-02-05 17:37:54 INFO    : multi-lu-coil-modelling, (interface.py      :144 ) - Mesh loading ... complete\n",
      "2021-02-05 17:37:56 INFO    : multi-lu-coil-modelling, (interface.py      :114 ) - Modelling tool averaging\n",
      "2021-02-05 17:37:56 INFO    : multi-lu-coil-modelling, (interface.py      :172 ) - Done\n",
      "2021-02-05 17:37:56 INFO    : multi-lu-coil-modelling, (interface.py      :23  ) - Using cim-triangular solver\n",
      "2021-02-05 17:37:56 INFO    : multi-lu-coil-modelling, (abstractsolver.py :100 ) - Solver validation ... complete\n",
      "2021-02-05 17:37:56 INFO    : multi-lu-coil-modelling, (abstractsolver.py :93  ) - Tubes validation ... complete\n",
      "2021-02-05 17:37:56 INFO    : multi-lu-coil-modelling, (interface.py      :140 ) - Received tubes:[\n",
      "\tTube(id='', d=89.0, th=17.813049746749584, th0=6.5, sigma=8205327.562006988, mu=-28.645403978623506),]\n"
     ]
    },
    {
     "name": "stderr",
     "output_type": "stream",
     "text": [
      "2021-02-05 17:37:56 INFO    : multi-lu-coil-modelling, (interface.py      :144 ) - Mesh loading ... complete\n",
      "2021-02-05 17:37:57 INFO    : multi-lu-coil-modelling, (interface.py      :114 ) - Modelling tool averaging\n",
      "2021-02-05 17:37:57 INFO    : multi-lu-coil-modelling, (interface.py      :172 ) - Done\n",
      "2021-02-05 17:37:57 INFO    : multi-lu-coil-modelling, (interface.py      :23  ) - Using cim-triangular solver\n",
      "2021-02-05 17:37:57 INFO    : multi-lu-coil-modelling, (abstractsolver.py :100 ) - Solver validation ... complete\n",
      "2021-02-05 17:37:57 INFO    : multi-lu-coil-modelling, (abstractsolver.py :93  ) - Tubes validation ... complete\n",
      "2021-02-05 17:37:57 INFO    : multi-lu-coil-modelling, (interface.py      :140 ) - Received tubes:[\n",
      "\tTube(id='', d=89.0, th=22.90249253153518, th0=6.5, sigma=8205327.562006988, mu=-28.645403978623506),]\n",
      "2021-02-05 17:37:58 INFO    : multi-lu-coil-modelling, (interface.py      :144 ) - Mesh loading ... complete\n",
      "2021-02-05 17:37:59 INFO    : multi-lu-coil-modelling, (interface.py      :114 ) - Modelling tool averaging\n",
      "2021-02-05 17:37:59 INFO    : multi-lu-coil-modelling, (interface.py      :172 ) - Done\n",
      "2021-02-05 17:37:59 INFO    : multi-lu-coil-modelling, (interface.py      :23  ) - Using cim-triangular solver\n",
      "2021-02-05 17:37:59 INFO    : multi-lu-coil-modelling, (abstractsolver.py :100 ) - Solver validation ... complete\n",
      "2021-02-05 17:37:59 INFO    : multi-lu-coil-modelling, (abstractsolver.py :93  ) - Tubes validation ... complete\n",
      "2021-02-05 17:37:59 INFO    : multi-lu-coil-modelling, (interface.py      :140 ) - Received tubes:[\n",
      "\tTube(id='', d=89.0, th=-22.90249253153518, th0=6.5, sigma=8205327.562006988, mu=28.645403978623506),]\n",
      "2021-02-05 17:37:59 INFO    : multi-lu-coil-modelling, (interface.py      :144 ) - Mesh loading ... complete\n",
      "2021-02-05 17:38:01 INFO    : multi-lu-coil-modelling, (interface.py      :114 ) - Modelling tool averaging\n",
      "2021-02-05 17:38:01 INFO    : multi-lu-coil-modelling, (interface.py      :172 ) - Done\n",
      "2021-02-05 17:38:01 INFO    : multi-lu-coil-modelling, (interface.py      :23  ) - Using cim-triangular solver\n",
      "2021-02-05 17:38:01 INFO    : multi-lu-coil-modelling, (abstractsolver.py :100 ) - Solver validation ... complete\n",
      "2021-02-05 17:38:01 INFO    : multi-lu-coil-modelling, (abstractsolver.py :93  ) - Tubes validation ... complete\n",
      "2021-02-05 17:38:01 INFO    : multi-lu-coil-modelling, (interface.py      :140 ) - Received tubes:[\n",
      "\tTube(id='', d=89.0, th=-17.813049746749584, th0=6.5, sigma=8205327.562006988, mu=28.645403978623506),]\n",
      "2021-02-05 17:38:01 INFO    : multi-lu-coil-modelling, (interface.py      :144 ) - Mesh loading ... complete\n",
      "2021-02-05 17:38:03 INFO    : multi-lu-coil-modelling, (interface.py      :114 ) - Modelling tool averaging\n",
      "2021-02-05 17:38:03 INFO    : multi-lu-coil-modelling, (interface.py      :172 ) - Done\n",
      "2021-02-05 17:38:03 INFO    : multi-lu-coil-modelling, (interface.py      :23  ) - Using cim-triangular solver\n",
      "2021-02-05 17:38:03 INFO    : multi-lu-coil-modelling, (abstractsolver.py :100 ) - Solver validation ... complete\n",
      "2021-02-05 17:38:03 INFO    : multi-lu-coil-modelling, (abstractsolver.py :93  ) - Tubes validation ... complete\n",
      "2021-02-05 17:38:03 INFO    : multi-lu-coil-modelling, (interface.py      :140 ) - Received tubes:[\n",
      "\tTube(id='', d=89.0, th=-12.72360696196399, th0=6.5, sigma=8205327.562006988, mu=28.645403978623506),]\n",
      "2021-02-05 17:38:03 INFO    : multi-lu-coil-modelling, (interface.py      :144 ) - Mesh loading ... complete\n",
      "2021-02-05 17:38:05 INFO    : multi-lu-coil-modelling, (interface.py      :114 ) - Modelling tool averaging\n",
      "2021-02-05 17:38:05 INFO    : multi-lu-coil-modelling, (interface.py      :172 ) - Done\n",
      "2021-02-05 17:38:05 INFO    : multi-lu-coil-modelling, (interface.py      :23  ) - Using cim-triangular solver\n",
      "2021-02-05 17:38:05 INFO    : multi-lu-coil-modelling, (abstractsolver.py :100 ) - Solver validation ... complete\n",
      "2021-02-05 17:38:05 INFO    : multi-lu-coil-modelling, (abstractsolver.py :93  ) - Tubes validation ... complete\n",
      "2021-02-05 17:38:05 INFO    : multi-lu-coil-modelling, (interface.py      :140 ) - Received tubes:[\n",
      "\tTube(id='', d=89.0, th=-7.634164177178395, th0=6.5, sigma=8205327.562006988, mu=28.645403978623506),]\n",
      "2021-02-05 17:38:05 INFO    : multi-lu-coil-modelling, (interface.py      :144 ) - Mesh loading ... complete\n",
      "2021-02-05 17:38:07 INFO    : multi-lu-coil-modelling, (interface.py      :114 ) - Modelling tool averaging\n",
      "2021-02-05 17:38:07 INFO    : multi-lu-coil-modelling, (interface.py      :172 ) - Done\n",
      "2021-02-05 17:38:07 INFO    : multi-lu-coil-modelling, (interface.py      :23  ) - Using cim-triangular solver\n",
      "2021-02-05 17:38:07 INFO    : multi-lu-coil-modelling, (abstractsolver.py :100 ) - Solver validation ... complete\n",
      "2021-02-05 17:38:07 INFO    : multi-lu-coil-modelling, (abstractsolver.py :93  ) - Tubes validation ... complete\n",
      "2021-02-05 17:38:07 INFO    : multi-lu-coil-modelling, (interface.py      :140 ) - Received tubes:[\n",
      "\tTube(id='', d=89.0, th=-2.5447213923927983, th0=6.5, sigma=8205327.562006988, mu=28.645403978623506),]\n",
      "2021-02-05 17:38:07 INFO    : multi-lu-coil-modelling, (interface.py      :144 ) - Mesh loading ... complete\n",
      "2021-02-05 17:38:08 INFO    : multi-lu-coil-modelling, (interface.py      :114 ) - Modelling tool averaging\n",
      "2021-02-05 17:38:08 INFO    : multi-lu-coil-modelling, (interface.py      :172 ) - Done\n",
      "2021-02-05 17:38:08 INFO    : multi-lu-coil-modelling, (interface.py      :23  ) - Using cim-triangular solver\n",
      "2021-02-05 17:38:08 INFO    : multi-lu-coil-modelling, (abstractsolver.py :100 ) - Solver validation ... complete\n",
      "2021-02-05 17:38:08 INFO    : multi-lu-coil-modelling, (abstractsolver.py :93  ) - Tubes validation ... complete\n",
      "2021-02-05 17:38:08 INFO    : multi-lu-coil-modelling, (interface.py      :140 ) - Received tubes:[\n",
      "\tTube(id='', d=89.0, th=2.5447213923927983, th0=6.5, sigma=8205327.562006988, mu=28.645403978623506),]\n",
      "2021-02-05 17:38:08 INFO    : multi-lu-coil-modelling, (interface.py      :144 ) - Mesh loading ... complete\n",
      "2021-02-05 17:38:10 INFO    : multi-lu-coil-modelling, (interface.py      :114 ) - Modelling tool averaging\n",
      "2021-02-05 17:38:10 INFO    : multi-lu-coil-modelling, (interface.py      :172 ) - Done\n",
      "2021-02-05 17:38:10 INFO    : multi-lu-coil-modelling, (interface.py      :23  ) - Using cim-triangular solver\n",
      "2021-02-05 17:38:10 INFO    : multi-lu-coil-modelling, (abstractsolver.py :100 ) - Solver validation ... complete\n",
      "2021-02-05 17:38:10 INFO    : multi-lu-coil-modelling, (abstractsolver.py :93  ) - Tubes validation ... complete\n",
      "2021-02-05 17:38:10 INFO    : multi-lu-coil-modelling, (interface.py      :140 ) - Received tubes:[\n",
      "\tTube(id='', d=89.0, th=7.634164177178391, th0=6.5, sigma=8205327.562006988, mu=28.645403978623506),]\n",
      "2021-02-05 17:38:10 INFO    : multi-lu-coil-modelling, (interface.py      :144 ) - Mesh loading ... complete\n",
      "2021-02-05 17:38:12 INFO    : multi-lu-coil-modelling, (interface.py      :114 ) - Modelling tool averaging\n",
      "2021-02-05 17:38:12 INFO    : multi-lu-coil-modelling, (interface.py      :172 ) - Done\n",
      "2021-02-05 17:38:12 INFO    : multi-lu-coil-modelling, (interface.py      :23  ) - Using cim-triangular solver\n",
      "2021-02-05 17:38:12 INFO    : multi-lu-coil-modelling, (abstractsolver.py :100 ) - Solver validation ... complete\n",
      "2021-02-05 17:38:12 INFO    : multi-lu-coil-modelling, (abstractsolver.py :93  ) - Tubes validation ... complete\n",
      "2021-02-05 17:38:12 INFO    : multi-lu-coil-modelling, (interface.py      :140 ) - Received tubes:[\n",
      "\tTube(id='', d=89.0, th=12.723606961963988, th0=6.5, sigma=8205327.562006988, mu=28.645403978623506),]\n",
      "2021-02-05 17:38:12 INFO    : multi-lu-coil-modelling, (interface.py      :144 ) - Mesh loading ... complete\n",
      "2021-02-05 17:38:13 INFO    : multi-lu-coil-modelling, (interface.py      :114 ) - Modelling tool averaging\n",
      "2021-02-05 17:38:13 INFO    : multi-lu-coil-modelling, (interface.py      :172 ) - Done\n",
      "2021-02-05 17:38:13 INFO    : multi-lu-coil-modelling, (interface.py      :23  ) - Using cim-triangular solver\n",
      "2021-02-05 17:38:13 INFO    : multi-lu-coil-modelling, (abstractsolver.py :100 ) - Solver validation ... complete\n",
      "2021-02-05 17:38:13 INFO    : multi-lu-coil-modelling, (abstractsolver.py :93  ) - Tubes validation ... complete\n"
     ]
    },
    {
     "name": "stderr",
     "output_type": "stream",
     "text": [
      "2021-02-05 17:38:13 INFO    : multi-lu-coil-modelling, (interface.py      :140 ) - Received tubes:[\n",
      "\tTube(id='', d=89.0, th=17.813049746749584, th0=6.5, sigma=8205327.562006988, mu=28.645403978623506),]\n",
      "2021-02-05 17:38:13 INFO    : multi-lu-coil-modelling, (interface.py      :144 ) - Mesh loading ... complete\n",
      "2021-02-05 17:38:15 INFO    : multi-lu-coil-modelling, (interface.py      :114 ) - Modelling tool averaging\n",
      "2021-02-05 17:38:15 INFO    : multi-lu-coil-modelling, (interface.py      :172 ) - Done\n",
      "2021-02-05 17:38:15 INFO    : multi-lu-coil-modelling, (interface.py      :23  ) - Using cim-triangular solver\n",
      "2021-02-05 17:38:15 INFO    : multi-lu-coil-modelling, (abstractsolver.py :100 ) - Solver validation ... complete\n",
      "2021-02-05 17:38:15 INFO    : multi-lu-coil-modelling, (abstractsolver.py :93  ) - Tubes validation ... complete\n",
      "2021-02-05 17:38:15 INFO    : multi-lu-coil-modelling, (interface.py      :140 ) - Received tubes:[\n",
      "\tTube(id='', d=89.0, th=22.90249253153518, th0=6.5, sigma=8205327.562006988, mu=28.645403978623506),]\n",
      "2021-02-05 17:38:15 INFO    : multi-lu-coil-modelling, (interface.py      :144 ) - Mesh loading ... complete\n",
      "2021-02-05 17:38:17 INFO    : multi-lu-coil-modelling, (interface.py      :114 ) - Modelling tool averaging\n",
      "2021-02-05 17:38:17 INFO    : multi-lu-coil-modelling, (interface.py      :172 ) - Done\n",
      "2021-02-05 17:38:17 INFO    : multi-lu-coil-modelling, (interface.py      :23  ) - Using cim-triangular solver\n",
      "2021-02-05 17:38:17 INFO    : multi-lu-coil-modelling, (abstractsolver.py :100 ) - Solver validation ... complete\n",
      "2021-02-05 17:38:17 INFO    : multi-lu-coil-modelling, (abstractsolver.py :93  ) - Tubes validation ... complete\n",
      "2021-02-05 17:38:17 INFO    : multi-lu-coil-modelling, (interface.py      :140 ) - Received tubes:[\n",
      "\tTube(id='', d=89.0, th=-22.90249253153518, th0=6.5, sigma=8205327.562006988, mu=85.93621193587046),]\n",
      "2021-02-05 17:38:17 INFO    : multi-lu-coil-modelling, (interface.py      :144 ) - Mesh loading ... complete\n",
      "2021-02-05 17:38:18 INFO    : multi-lu-coil-modelling, (interface.py      :114 ) - Modelling tool averaging\n",
      "2021-02-05 17:38:18 INFO    : multi-lu-coil-modelling, (interface.py      :172 ) - Done\n",
      "2021-02-05 17:38:18 INFO    : multi-lu-coil-modelling, (interface.py      :23  ) - Using cim-triangular solver\n",
      "2021-02-05 17:38:18 INFO    : multi-lu-coil-modelling, (abstractsolver.py :100 ) - Solver validation ... complete\n",
      "2021-02-05 17:38:18 INFO    : multi-lu-coil-modelling, (abstractsolver.py :93  ) - Tubes validation ... complete\n",
      "2021-02-05 17:38:18 INFO    : multi-lu-coil-modelling, (interface.py      :140 ) - Received tubes:[\n",
      "\tTube(id='', d=89.0, th=-17.813049746749584, th0=6.5, sigma=8205327.562006988, mu=85.93621193587046),]\n",
      "2021-02-05 17:38:18 INFO    : multi-lu-coil-modelling, (interface.py      :144 ) - Mesh loading ... complete\n",
      "2021-02-05 17:38:20 INFO    : multi-lu-coil-modelling, (interface.py      :114 ) - Modelling tool averaging\n",
      "2021-02-05 17:38:20 INFO    : multi-lu-coil-modelling, (interface.py      :172 ) - Done\n",
      "2021-02-05 17:38:20 INFO    : multi-lu-coil-modelling, (interface.py      :23  ) - Using cim-triangular solver\n",
      "2021-02-05 17:38:20 INFO    : multi-lu-coil-modelling, (abstractsolver.py :100 ) - Solver validation ... complete\n",
      "2021-02-05 17:38:20 INFO    : multi-lu-coil-modelling, (abstractsolver.py :93  ) - Tubes validation ... complete\n",
      "2021-02-05 17:38:20 INFO    : multi-lu-coil-modelling, (interface.py      :140 ) - Received tubes:[\n",
      "\tTube(id='', d=89.0, th=-12.72360696196399, th0=6.5, sigma=8205327.562006988, mu=85.93621193587046),]\n",
      "2021-02-05 17:38:20 INFO    : multi-lu-coil-modelling, (interface.py      :144 ) - Mesh loading ... complete\n",
      "2021-02-05 17:38:22 INFO    : multi-lu-coil-modelling, (interface.py      :114 ) - Modelling tool averaging\n",
      "2021-02-05 17:38:22 INFO    : multi-lu-coil-modelling, (interface.py      :172 ) - Done\n",
      "2021-02-05 17:38:22 INFO    : multi-lu-coil-modelling, (interface.py      :23  ) - Using cim-triangular solver\n",
      "2021-02-05 17:38:22 INFO    : multi-lu-coil-modelling, (abstractsolver.py :100 ) - Solver validation ... complete\n",
      "2021-02-05 17:38:22 INFO    : multi-lu-coil-modelling, (abstractsolver.py :93  ) - Tubes validation ... complete\n",
      "2021-02-05 17:38:22 INFO    : multi-lu-coil-modelling, (interface.py      :140 ) - Received tubes:[\n",
      "\tTube(id='', d=89.0, th=-7.634164177178395, th0=6.5, sigma=8205327.562006988, mu=85.93621193587046),]\n",
      "2021-02-05 17:38:22 INFO    : multi-lu-coil-modelling, (interface.py      :144 ) - Mesh loading ... complete\n",
      "2021-02-05 17:38:23 INFO    : multi-lu-coil-modelling, (interface.py      :114 ) - Modelling tool averaging\n",
      "2021-02-05 17:38:23 INFO    : multi-lu-coil-modelling, (interface.py      :172 ) - Done\n",
      "2021-02-05 17:38:23 INFO    : multi-lu-coil-modelling, (interface.py      :23  ) - Using cim-triangular solver\n",
      "2021-02-05 17:38:23 INFO    : multi-lu-coil-modelling, (abstractsolver.py :100 ) - Solver validation ... complete\n",
      "2021-02-05 17:38:23 INFO    : multi-lu-coil-modelling, (abstractsolver.py :93  ) - Tubes validation ... complete\n",
      "2021-02-05 17:38:23 INFO    : multi-lu-coil-modelling, (interface.py      :140 ) - Received tubes:[\n",
      "\tTube(id='', d=89.0, th=-2.5447213923927983, th0=6.5, sigma=8205327.562006988, mu=85.93621193587046),]\n",
      "2021-02-05 17:38:23 INFO    : multi-lu-coil-modelling, (interface.py      :144 ) - Mesh loading ... complete\n",
      "2021-02-05 17:38:25 INFO    : multi-lu-coil-modelling, (interface.py      :114 ) - Modelling tool averaging\n",
      "2021-02-05 17:38:25 INFO    : multi-lu-coil-modelling, (interface.py      :172 ) - Done\n",
      "2021-02-05 17:38:25 INFO    : multi-lu-coil-modelling, (interface.py      :23  ) - Using cim-triangular solver\n",
      "2021-02-05 17:38:25 INFO    : multi-lu-coil-modelling, (abstractsolver.py :100 ) - Solver validation ... complete\n",
      "2021-02-05 17:38:25 INFO    : multi-lu-coil-modelling, (abstractsolver.py :93  ) - Tubes validation ... complete\n",
      "2021-02-05 17:38:25 INFO    : multi-lu-coil-modelling, (interface.py      :140 ) - Received tubes:[\n",
      "\tTube(id='', d=89.0, th=2.5447213923927983, th0=6.5, sigma=8205327.562006988, mu=85.93621193587046),]\n",
      "2021-02-05 17:38:25 INFO    : multi-lu-coil-modelling, (interface.py      :144 ) - Mesh loading ... complete\n",
      "2021-02-05 17:38:27 INFO    : multi-lu-coil-modelling, (interface.py      :114 ) - Modelling tool averaging\n",
      "2021-02-05 17:38:27 INFO    : multi-lu-coil-modelling, (interface.py      :172 ) - Done\n",
      "2021-02-05 17:38:27 INFO    : multi-lu-coil-modelling, (interface.py      :23  ) - Using cim-triangular solver\n",
      "2021-02-05 17:38:27 INFO    : multi-lu-coil-modelling, (abstractsolver.py :100 ) - Solver validation ... complete\n",
      "2021-02-05 17:38:27 INFO    : multi-lu-coil-modelling, (abstractsolver.py :93  ) - Tubes validation ... complete\n",
      "2021-02-05 17:38:27 INFO    : multi-lu-coil-modelling, (interface.py      :140 ) - Received tubes:[\n",
      "\tTube(id='', d=89.0, th=7.634164177178391, th0=6.5, sigma=8205327.562006988, mu=85.93621193587046),]\n",
      "2021-02-05 17:38:27 INFO    : multi-lu-coil-modelling, (interface.py      :144 ) - Mesh loading ... complete\n",
      "2021-02-05 17:38:28 INFO    : multi-lu-coil-modelling, (interface.py      :114 ) - Modelling tool averaging\n",
      "2021-02-05 17:38:28 INFO    : multi-lu-coil-modelling, (interface.py      :172 ) - Done\n",
      "2021-02-05 17:38:28 INFO    : multi-lu-coil-modelling, (interface.py      :23  ) - Using cim-triangular solver\n",
      "2021-02-05 17:38:28 INFO    : multi-lu-coil-modelling, (abstractsolver.py :100 ) - Solver validation ... complete\n",
      "2021-02-05 17:38:28 INFO    : multi-lu-coil-modelling, (abstractsolver.py :93  ) - Tubes validation ... complete\n",
      "2021-02-05 17:38:28 INFO    : multi-lu-coil-modelling, (interface.py      :140 ) - Received tubes:[\n",
      "\tTube(id='', d=89.0, th=12.723606961963988, th0=6.5, sigma=8205327.562006988, mu=85.93621193587046),]\n",
      "2021-02-05 17:38:28 INFO    : multi-lu-coil-modelling, (interface.py      :144 ) - Mesh loading ... complete\n",
      "2021-02-05 17:38:30 INFO    : multi-lu-coil-modelling, (interface.py      :114 ) - Modelling tool averaging\n",
      "2021-02-05 17:38:30 INFO    : multi-lu-coil-modelling, (interface.py      :172 ) - Done\n",
      "2021-02-05 17:38:30 INFO    : multi-lu-coil-modelling, (interface.py      :23  ) - Using cim-triangular solver\n"
     ]
    },
    {
     "name": "stderr",
     "output_type": "stream",
     "text": [
      "2021-02-05 17:38:30 INFO    : multi-lu-coil-modelling, (abstractsolver.py :100 ) - Solver validation ... complete\n",
      "2021-02-05 17:38:30 INFO    : multi-lu-coil-modelling, (abstractsolver.py :93  ) - Tubes validation ... complete\n",
      "2021-02-05 17:38:30 INFO    : multi-lu-coil-modelling, (interface.py      :140 ) - Received tubes:[\n",
      "\tTube(id='', d=89.0, th=17.813049746749584, th0=6.5, sigma=8205327.562006988, mu=85.93621193587046),]\n",
      "2021-02-05 17:38:30 INFO    : multi-lu-coil-modelling, (interface.py      :144 ) - Mesh loading ... complete\n",
      "2021-02-05 17:38:32 INFO    : multi-lu-coil-modelling, (interface.py      :114 ) - Modelling tool averaging\n",
      "2021-02-05 17:38:32 INFO    : multi-lu-coil-modelling, (interface.py      :172 ) - Done\n",
      "2021-02-05 17:38:32 INFO    : multi-lu-coil-modelling, (interface.py      :23  ) - Using cim-triangular solver\n",
      "2021-02-05 17:38:32 INFO    : multi-lu-coil-modelling, (abstractsolver.py :100 ) - Solver validation ... complete\n",
      "2021-02-05 17:38:32 INFO    : multi-lu-coil-modelling, (abstractsolver.py :93  ) - Tubes validation ... complete\n",
      "2021-02-05 17:38:32 INFO    : multi-lu-coil-modelling, (interface.py      :140 ) - Received tubes:[\n",
      "\tTube(id='', d=89.0, th=22.90249253153518, th0=6.5, sigma=8205327.562006988, mu=85.93621193587046),]\n",
      "2021-02-05 17:38:32 INFO    : multi-lu-coil-modelling, (interface.py      :144 ) - Mesh loading ... complete\n",
      "2021-02-05 17:38:33 INFO    : multi-lu-coil-modelling, (interface.py      :114 ) - Modelling tool averaging\n",
      "2021-02-05 17:38:33 INFO    : multi-lu-coil-modelling, (interface.py      :172 ) - Done\n",
      "2021-02-05 17:38:33 INFO    : multi-lu-coil-modelling, (interface.py      :23  ) - Using cim-triangular solver\n",
      "2021-02-05 17:38:33 INFO    : multi-lu-coil-modelling, (abstractsolver.py :100 ) - Solver validation ... complete\n",
      "2021-02-05 17:38:33 INFO    : multi-lu-coil-modelling, (abstractsolver.py :93  ) - Tubes validation ... complete\n",
      "2021-02-05 17:38:33 INFO    : multi-lu-coil-modelling, (interface.py      :140 ) - Received tubes:[\n",
      "\tTube(id='', d=89.0, th=-22.90249253153518, th0=6.5, sigma=8205327.562006988, mu=143.22701989311747),]\n",
      "2021-02-05 17:38:33 INFO    : multi-lu-coil-modelling, (interface.py      :144 ) - Mesh loading ... complete\n",
      "2021-02-05 17:38:35 INFO    : multi-lu-coil-modelling, (interface.py      :114 ) - Modelling tool averaging\n",
      "2021-02-05 17:38:35 INFO    : multi-lu-coil-modelling, (interface.py      :172 ) - Done\n",
      "2021-02-05 17:38:35 INFO    : multi-lu-coil-modelling, (interface.py      :23  ) - Using cim-triangular solver\n",
      "2021-02-05 17:38:35 INFO    : multi-lu-coil-modelling, (abstractsolver.py :100 ) - Solver validation ... complete\n",
      "2021-02-05 17:38:35 INFO    : multi-lu-coil-modelling, (abstractsolver.py :93  ) - Tubes validation ... complete\n",
      "2021-02-05 17:38:35 INFO    : multi-lu-coil-modelling, (interface.py      :140 ) - Received tubes:[\n",
      "\tTube(id='', d=89.0, th=-17.813049746749584, th0=6.5, sigma=8205327.562006988, mu=143.22701989311747),]\n",
      "2021-02-05 17:38:35 INFO    : multi-lu-coil-modelling, (interface.py      :144 ) - Mesh loading ... complete\n",
      "2021-02-05 17:38:37 INFO    : multi-lu-coil-modelling, (interface.py      :114 ) - Modelling tool averaging\n",
      "2021-02-05 17:38:37 INFO    : multi-lu-coil-modelling, (interface.py      :172 ) - Done\n",
      "2021-02-05 17:38:37 INFO    : multi-lu-coil-modelling, (interface.py      :23  ) - Using cim-triangular solver\n",
      "2021-02-05 17:38:37 INFO    : multi-lu-coil-modelling, (abstractsolver.py :100 ) - Solver validation ... complete\n",
      "2021-02-05 17:38:37 INFO    : multi-lu-coil-modelling, (abstractsolver.py :93  ) - Tubes validation ... complete\n",
      "2021-02-05 17:38:37 INFO    : multi-lu-coil-modelling, (interface.py      :140 ) - Received tubes:[\n",
      "\tTube(id='', d=89.0, th=-12.72360696196399, th0=6.5, sigma=8205327.562006988, mu=143.22701989311747),]\n",
      "2021-02-05 17:38:37 INFO    : multi-lu-coil-modelling, (interface.py      :144 ) - Mesh loading ... complete\n",
      "2021-02-05 17:38:39 INFO    : multi-lu-coil-modelling, (interface.py      :114 ) - Modelling tool averaging\n",
      "2021-02-05 17:38:39 INFO    : multi-lu-coil-modelling, (interface.py      :172 ) - Done\n",
      "2021-02-05 17:38:39 INFO    : multi-lu-coil-modelling, (interface.py      :23  ) - Using cim-triangular solver\n",
      "2021-02-05 17:38:39 INFO    : multi-lu-coil-modelling, (abstractsolver.py :100 ) - Solver validation ... complete\n",
      "2021-02-05 17:38:39 INFO    : multi-lu-coil-modelling, (abstractsolver.py :93  ) - Tubes validation ... complete\n",
      "2021-02-05 17:38:39 INFO    : multi-lu-coil-modelling, (interface.py      :140 ) - Received tubes:[\n",
      "\tTube(id='', d=89.0, th=-7.634164177178395, th0=6.5, sigma=8205327.562006988, mu=143.22701989311747),]\n",
      "2021-02-05 17:38:39 INFO    : multi-lu-coil-modelling, (interface.py      :144 ) - Mesh loading ... complete\n",
      "2021-02-05 17:38:40 INFO    : multi-lu-coil-modelling, (interface.py      :114 ) - Modelling tool averaging\n",
      "2021-02-05 17:38:40 INFO    : multi-lu-coil-modelling, (interface.py      :172 ) - Done\n",
      "2021-02-05 17:38:40 INFO    : multi-lu-coil-modelling, (interface.py      :23  ) - Using cim-triangular solver\n",
      "2021-02-05 17:38:40 INFO    : multi-lu-coil-modelling, (abstractsolver.py :100 ) - Solver validation ... complete\n",
      "2021-02-05 17:38:40 INFO    : multi-lu-coil-modelling, (abstractsolver.py :93  ) - Tubes validation ... complete\n",
      "2021-02-05 17:38:40 INFO    : multi-lu-coil-modelling, (interface.py      :140 ) - Received tubes:[\n",
      "\tTube(id='', d=89.0, th=-2.5447213923927983, th0=6.5, sigma=8205327.562006988, mu=143.22701989311747),]\n",
      "2021-02-05 17:38:40 INFO    : multi-lu-coil-modelling, (interface.py      :144 ) - Mesh loading ... complete\n",
      "2021-02-05 17:38:42 INFO    : multi-lu-coil-modelling, (interface.py      :114 ) - Modelling tool averaging\n",
      "2021-02-05 17:38:42 INFO    : multi-lu-coil-modelling, (interface.py      :172 ) - Done\n",
      "2021-02-05 17:38:42 INFO    : multi-lu-coil-modelling, (interface.py      :23  ) - Using cim-triangular solver\n",
      "2021-02-05 17:38:42 INFO    : multi-lu-coil-modelling, (abstractsolver.py :100 ) - Solver validation ... complete\n",
      "2021-02-05 17:38:42 INFO    : multi-lu-coil-modelling, (abstractsolver.py :93  ) - Tubes validation ... complete\n",
      "2021-02-05 17:38:42 INFO    : multi-lu-coil-modelling, (interface.py      :140 ) - Received tubes:[\n",
      "\tTube(id='', d=89.0, th=2.5447213923927983, th0=6.5, sigma=8205327.562006988, mu=143.22701989311747),]\n",
      "2021-02-05 17:38:42 INFO    : multi-lu-coil-modelling, (interface.py      :144 ) - Mesh loading ... complete\n",
      "2021-02-05 17:38:44 INFO    : multi-lu-coil-modelling, (interface.py      :114 ) - Modelling tool averaging\n",
      "2021-02-05 17:38:44 INFO    : multi-lu-coil-modelling, (interface.py      :172 ) - Done\n",
      "2021-02-05 17:38:44 INFO    : multi-lu-coil-modelling, (interface.py      :23  ) - Using cim-triangular solver\n",
      "2021-02-05 17:38:44 INFO    : multi-lu-coil-modelling, (abstractsolver.py :100 ) - Solver validation ... complete\n",
      "2021-02-05 17:38:44 INFO    : multi-lu-coil-modelling, (abstractsolver.py :93  ) - Tubes validation ... complete\n",
      "2021-02-05 17:38:44 INFO    : multi-lu-coil-modelling, (interface.py      :140 ) - Received tubes:[\n",
      "\tTube(id='', d=89.0, th=7.634164177178391, th0=6.5, sigma=8205327.562006988, mu=143.22701989311747),]\n",
      "2021-02-05 17:38:44 INFO    : multi-lu-coil-modelling, (interface.py      :144 ) - Mesh loading ... complete\n",
      "2021-02-05 17:38:46 INFO    : multi-lu-coil-modelling, (interface.py      :114 ) - Modelling tool averaging\n",
      "2021-02-05 17:38:46 INFO    : multi-lu-coil-modelling, (interface.py      :172 ) - Done\n",
      "2021-02-05 17:38:46 INFO    : multi-lu-coil-modelling, (interface.py      :23  ) - Using cim-triangular solver\n",
      "2021-02-05 17:38:46 INFO    : multi-lu-coil-modelling, (abstractsolver.py :100 ) - Solver validation ... complete\n",
      "2021-02-05 17:38:46 INFO    : multi-lu-coil-modelling, (abstractsolver.py :93  ) - Tubes validation ... complete\n",
      "2021-02-05 17:38:46 INFO    : multi-lu-coil-modelling, (interface.py      :140 ) - Received tubes:[\n",
      "\tTube(id='', d=89.0, th=12.723606961963988, th0=6.5, sigma=8205327.562006988, mu=143.22701989311747),]\n",
      "2021-02-05 17:38:46 INFO    : multi-lu-coil-modelling, (interface.py      :144 ) - Mesh loading ... complete\n",
      "2021-02-05 17:38:47 INFO    : multi-lu-coil-modelling, (interface.py      :114 ) - Modelling tool averaging\n"
     ]
    },
    {
     "name": "stderr",
     "output_type": "stream",
     "text": [
      "2021-02-05 17:38:47 INFO    : multi-lu-coil-modelling, (interface.py      :172 ) - Done\n",
      "2021-02-05 17:38:47 INFO    : multi-lu-coil-modelling, (interface.py      :23  ) - Using cim-triangular solver\n",
      "2021-02-05 17:38:47 INFO    : multi-lu-coil-modelling, (abstractsolver.py :100 ) - Solver validation ... complete\n",
      "2021-02-05 17:38:47 INFO    : multi-lu-coil-modelling, (abstractsolver.py :93  ) - Tubes validation ... complete\n",
      "2021-02-05 17:38:47 INFO    : multi-lu-coil-modelling, (interface.py      :140 ) - Received tubes:[\n",
      "\tTube(id='', d=89.0, th=17.813049746749584, th0=6.5, sigma=8205327.562006988, mu=143.22701989311747),]\n",
      "2021-02-05 17:38:47 INFO    : multi-lu-coil-modelling, (interface.py      :144 ) - Mesh loading ... complete\n",
      "2021-02-05 17:38:49 INFO    : multi-lu-coil-modelling, (interface.py      :114 ) - Modelling tool averaging\n",
      "2021-02-05 17:38:49 INFO    : multi-lu-coil-modelling, (interface.py      :172 ) - Done\n",
      "2021-02-05 17:38:49 INFO    : multi-lu-coil-modelling, (interface.py      :23  ) - Using cim-triangular solver\n",
      "2021-02-05 17:38:49 INFO    : multi-lu-coil-modelling, (abstractsolver.py :100 ) - Solver validation ... complete\n",
      "2021-02-05 17:38:49 INFO    : multi-lu-coil-modelling, (abstractsolver.py :93  ) - Tubes validation ... complete\n",
      "2021-02-05 17:38:49 INFO    : multi-lu-coil-modelling, (interface.py      :140 ) - Received tubes:[\n",
      "\tTube(id='', d=89.0, th=22.90249253153518, th0=6.5, sigma=8205327.562006988, mu=143.22701989311747),]\n",
      "2021-02-05 17:38:49 INFO    : multi-lu-coil-modelling, (interface.py      :144 ) - Mesh loading ... complete\n",
      "2021-02-05 17:38:51 INFO    : multi-lu-coil-modelling, (interface.py      :114 ) - Modelling tool averaging\n",
      "2021-02-05 17:38:51 INFO    : multi-lu-coil-modelling, (interface.py      :172 ) - Done\n",
      "2021-02-05 17:38:51 INFO    : multi-lu-coil-modelling, (interface.py      :23  ) - Using cim-triangular solver\n",
      "2021-02-05 17:38:51 INFO    : multi-lu-coil-modelling, (abstractsolver.py :100 ) - Solver validation ... complete\n",
      "2021-02-05 17:38:51 INFO    : multi-lu-coil-modelling, (abstractsolver.py :93  ) - Tubes validation ... complete\n",
      "2021-02-05 17:38:51 INFO    : multi-lu-coil-modelling, (interface.py      :140 ) - Received tubes:[\n",
      "\tTube(id='', d=89.0, th=-22.90249253153518, th0=6.5, sigma=8205327.562006988, mu=200.51782785036448),]\n",
      "2021-02-05 17:38:51 INFO    : multi-lu-coil-modelling, (interface.py      :144 ) - Mesh loading ... complete\n",
      "2021-02-05 17:38:52 INFO    : multi-lu-coil-modelling, (interface.py      :114 ) - Modelling tool averaging\n",
      "2021-02-05 17:38:52 INFO    : multi-lu-coil-modelling, (interface.py      :172 ) - Done\n",
      "2021-02-05 17:38:52 INFO    : multi-lu-coil-modelling, (interface.py      :23  ) - Using cim-triangular solver\n",
      "2021-02-05 17:38:52 INFO    : multi-lu-coil-modelling, (abstractsolver.py :100 ) - Solver validation ... complete\n",
      "2021-02-05 17:38:52 INFO    : multi-lu-coil-modelling, (abstractsolver.py :93  ) - Tubes validation ... complete\n",
      "2021-02-05 17:38:52 INFO    : multi-lu-coil-modelling, (interface.py      :140 ) - Received tubes:[\n",
      "\tTube(id='', d=89.0, th=-17.813049746749584, th0=6.5, sigma=8205327.562006988, mu=200.51782785036448),]\n",
      "2021-02-05 17:38:52 INFO    : multi-lu-coil-modelling, (interface.py      :144 ) - Mesh loading ... complete\n",
      "2021-02-05 17:38:54 INFO    : multi-lu-coil-modelling, (interface.py      :114 ) - Modelling tool averaging\n",
      "2021-02-05 17:38:54 INFO    : multi-lu-coil-modelling, (interface.py      :172 ) - Done\n",
      "2021-02-05 17:38:54 INFO    : multi-lu-coil-modelling, (interface.py      :23  ) - Using cim-triangular solver\n",
      "2021-02-05 17:38:54 INFO    : multi-lu-coil-modelling, (abstractsolver.py :100 ) - Solver validation ... complete\n",
      "2021-02-05 17:38:54 INFO    : multi-lu-coil-modelling, (abstractsolver.py :93  ) - Tubes validation ... complete\n",
      "2021-02-05 17:38:54 INFO    : multi-lu-coil-modelling, (interface.py      :140 ) - Received tubes:[\n",
      "\tTube(id='', d=89.0, th=-12.72360696196399, th0=6.5, sigma=8205327.562006988, mu=200.51782785036448),]\n",
      "2021-02-05 17:38:54 INFO    : multi-lu-coil-modelling, (interface.py      :144 ) - Mesh loading ... complete\n",
      "2021-02-05 17:38:56 INFO    : multi-lu-coil-modelling, (interface.py      :114 ) - Modelling tool averaging\n",
      "2021-02-05 17:38:56 INFO    : multi-lu-coil-modelling, (interface.py      :172 ) - Done\n",
      "2021-02-05 17:38:56 INFO    : multi-lu-coil-modelling, (interface.py      :23  ) - Using cim-triangular solver\n",
      "2021-02-05 17:38:56 INFO    : multi-lu-coil-modelling, (abstractsolver.py :100 ) - Solver validation ... complete\n",
      "2021-02-05 17:38:56 INFO    : multi-lu-coil-modelling, (abstractsolver.py :93  ) - Tubes validation ... complete\n",
      "2021-02-05 17:38:56 INFO    : multi-lu-coil-modelling, (interface.py      :140 ) - Received tubes:[\n",
      "\tTube(id='', d=89.0, th=-7.634164177178395, th0=6.5, sigma=8205327.562006988, mu=200.51782785036448),]\n",
      "2021-02-05 17:38:56 INFO    : multi-lu-coil-modelling, (interface.py      :144 ) - Mesh loading ... complete\n",
      "2021-02-05 17:38:57 INFO    : multi-lu-coil-modelling, (interface.py      :114 ) - Modelling tool averaging\n",
      "2021-02-05 17:38:57 INFO    : multi-lu-coil-modelling, (interface.py      :172 ) - Done\n",
      "2021-02-05 17:38:57 INFO    : multi-lu-coil-modelling, (interface.py      :23  ) - Using cim-triangular solver\n",
      "2021-02-05 17:38:57 INFO    : multi-lu-coil-modelling, (abstractsolver.py :100 ) - Solver validation ... complete\n",
      "2021-02-05 17:38:57 INFO    : multi-lu-coil-modelling, (abstractsolver.py :93  ) - Tubes validation ... complete\n",
      "2021-02-05 17:38:57 INFO    : multi-lu-coil-modelling, (interface.py      :140 ) - Received tubes:[\n",
      "\tTube(id='', d=89.0, th=-2.5447213923927983, th0=6.5, sigma=8205327.562006988, mu=200.51782785036448),]\n",
      "2021-02-05 17:38:57 INFO    : multi-lu-coil-modelling, (interface.py      :144 ) - Mesh loading ... complete\n",
      "2021-02-05 17:38:59 INFO    : multi-lu-coil-modelling, (interface.py      :114 ) - Modelling tool averaging\n",
      "2021-02-05 17:38:59 INFO    : multi-lu-coil-modelling, (interface.py      :172 ) - Done\n",
      "2021-02-05 17:38:59 INFO    : multi-lu-coil-modelling, (interface.py      :23  ) - Using cim-triangular solver\n",
      "2021-02-05 17:38:59 INFO    : multi-lu-coil-modelling, (abstractsolver.py :100 ) - Solver validation ... complete\n",
      "2021-02-05 17:38:59 INFO    : multi-lu-coil-modelling, (abstractsolver.py :93  ) - Tubes validation ... complete\n",
      "2021-02-05 17:38:59 INFO    : multi-lu-coil-modelling, (interface.py      :140 ) - Received tubes:[\n",
      "\tTube(id='', d=89.0, th=2.5447213923927983, th0=6.5, sigma=8205327.562006988, mu=200.51782785036448),]\n",
      "2021-02-05 17:38:59 INFO    : multi-lu-coil-modelling, (interface.py      :144 ) - Mesh loading ... complete\n",
      "2021-02-05 17:39:01 INFO    : multi-lu-coil-modelling, (interface.py      :114 ) - Modelling tool averaging\n",
      "2021-02-05 17:39:01 INFO    : multi-lu-coil-modelling, (interface.py      :172 ) - Done\n",
      "2021-02-05 17:39:01 INFO    : multi-lu-coil-modelling, (interface.py      :23  ) - Using cim-triangular solver\n",
      "2021-02-05 17:39:01 INFO    : multi-lu-coil-modelling, (abstractsolver.py :100 ) - Solver validation ... complete\n",
      "2021-02-05 17:39:01 INFO    : multi-lu-coil-modelling, (abstractsolver.py :93  ) - Tubes validation ... complete\n",
      "2021-02-05 17:39:01 INFO    : multi-lu-coil-modelling, (interface.py      :140 ) - Received tubes:[\n",
      "\tTube(id='', d=89.0, th=7.634164177178391, th0=6.5, sigma=8205327.562006988, mu=200.51782785036448),]\n",
      "2021-02-05 17:39:01 INFO    : multi-lu-coil-modelling, (interface.py      :144 ) - Mesh loading ... complete\n",
      "2021-02-05 17:39:03 INFO    : multi-lu-coil-modelling, (interface.py      :114 ) - Modelling tool averaging\n",
      "2021-02-05 17:39:03 INFO    : multi-lu-coil-modelling, (interface.py      :172 ) - Done\n",
      "2021-02-05 17:39:03 INFO    : multi-lu-coil-modelling, (interface.py      :23  ) - Using cim-triangular solver\n",
      "2021-02-05 17:39:03 INFO    : multi-lu-coil-modelling, (abstractsolver.py :100 ) - Solver validation ... complete\n",
      "2021-02-05 17:39:03 INFO    : multi-lu-coil-modelling, (abstractsolver.py :93  ) - Tubes validation ... complete\n",
      "2021-02-05 17:39:03 INFO    : multi-lu-coil-modelling, (interface.py      :140 ) - Received tubes:[\n",
      "\tTube(id='', d=89.0, th=12.723606961963988, th0=6.5, sigma=8205327.562006988, mu=200.51782785036448),]\n"
     ]
    },
    {
     "name": "stderr",
     "output_type": "stream",
     "text": [
      "2021-02-05 17:39:03 INFO    : multi-lu-coil-modelling, (interface.py      :144 ) - Mesh loading ... complete\n",
      "2021-02-05 17:39:04 INFO    : multi-lu-coil-modelling, (interface.py      :114 ) - Modelling tool averaging\n",
      "2021-02-05 17:39:04 INFO    : multi-lu-coil-modelling, (interface.py      :172 ) - Done\n",
      "2021-02-05 17:39:04 INFO    : multi-lu-coil-modelling, (interface.py      :23  ) - Using cim-triangular solver\n",
      "2021-02-05 17:39:04 INFO    : multi-lu-coil-modelling, (abstractsolver.py :100 ) - Solver validation ... complete\n",
      "2021-02-05 17:39:04 INFO    : multi-lu-coil-modelling, (abstractsolver.py :93  ) - Tubes validation ... complete\n",
      "2021-02-05 17:39:04 INFO    : multi-lu-coil-modelling, (interface.py      :140 ) - Received tubes:[\n",
      "\tTube(id='', d=89.0, th=17.813049746749584, th0=6.5, sigma=8205327.562006988, mu=200.51782785036448),]\n",
      "2021-02-05 17:39:04 INFO    : multi-lu-coil-modelling, (interface.py      :144 ) - Mesh loading ... complete\n",
      "2021-02-05 17:39:06 INFO    : multi-lu-coil-modelling, (interface.py      :114 ) - Modelling tool averaging\n",
      "2021-02-05 17:39:06 INFO    : multi-lu-coil-modelling, (interface.py      :172 ) - Done\n",
      "2021-02-05 17:39:06 INFO    : multi-lu-coil-modelling, (interface.py      :23  ) - Using cim-triangular solver\n",
      "2021-02-05 17:39:06 INFO    : multi-lu-coil-modelling, (abstractsolver.py :100 ) - Solver validation ... complete\n",
      "2021-02-05 17:39:06 INFO    : multi-lu-coil-modelling, (abstractsolver.py :93  ) - Tubes validation ... complete\n",
      "2021-02-05 17:39:06 INFO    : multi-lu-coil-modelling, (interface.py      :140 ) - Received tubes:[\n",
      "\tTube(id='', d=89.0, th=22.90249253153518, th0=6.5, sigma=8205327.562006988, mu=200.51782785036448),]\n",
      "2021-02-05 17:39:06 INFO    : multi-lu-coil-modelling, (interface.py      :144 ) - Mesh loading ... complete\n",
      "2021-02-05 17:39:07 INFO    : multi-lu-coil-modelling, (interface.py      :114 ) - Modelling tool averaging\n",
      "2021-02-05 17:39:07 INFO    : multi-lu-coil-modelling, (interface.py      :172 ) - Done\n",
      "2021-02-05 17:39:08 INFO    : multi-lu-coil-modelling, (interface.py      :23  ) - Using cim-triangular solver\n",
      "2021-02-05 17:39:08 INFO    : multi-lu-coil-modelling, (abstractsolver.py :100 ) - Solver validation ... complete\n",
      "2021-02-05 17:39:08 INFO    : multi-lu-coil-modelling, (abstractsolver.py :93  ) - Tubes validation ... complete\n",
      "2021-02-05 17:39:08 INFO    : multi-lu-coil-modelling, (interface.py      :140 ) - Received tubes:[\n",
      "\tTube(id='', d=89.0, th=-22.90249253153518, th0=6.5, sigma=8205327.562006988, mu=257.8086358076115),]\n",
      "2021-02-05 17:39:08 INFO    : multi-lu-coil-modelling, (interface.py      :144 ) - Mesh loading ... complete\n",
      "2021-02-05 17:39:09 INFO    : multi-lu-coil-modelling, (interface.py      :114 ) - Modelling tool averaging\n",
      "2021-02-05 17:39:09 INFO    : multi-lu-coil-modelling, (interface.py      :172 ) - Done\n",
      "2021-02-05 17:39:09 INFO    : multi-lu-coil-modelling, (interface.py      :23  ) - Using cim-triangular solver\n",
      "2021-02-05 17:39:09 INFO    : multi-lu-coil-modelling, (abstractsolver.py :100 ) - Solver validation ... complete\n",
      "2021-02-05 17:39:09 INFO    : multi-lu-coil-modelling, (abstractsolver.py :93  ) - Tubes validation ... complete\n",
      "2021-02-05 17:39:09 INFO    : multi-lu-coil-modelling, (interface.py      :140 ) - Received tubes:[\n",
      "\tTube(id='', d=89.0, th=-17.813049746749584, th0=6.5, sigma=8205327.562006988, mu=257.8086358076115),]\n",
      "2021-02-05 17:39:09 INFO    : multi-lu-coil-modelling, (interface.py      :144 ) - Mesh loading ... complete\n",
      "2021-02-05 17:39:11 INFO    : multi-lu-coil-modelling, (interface.py      :114 ) - Modelling tool averaging\n",
      "2021-02-05 17:39:11 INFO    : multi-lu-coil-modelling, (interface.py      :172 ) - Done\n",
      "2021-02-05 17:39:11 INFO    : multi-lu-coil-modelling, (interface.py      :23  ) - Using cim-triangular solver\n",
      "2021-02-05 17:39:11 INFO    : multi-lu-coil-modelling, (abstractsolver.py :100 ) - Solver validation ... complete\n",
      "2021-02-05 17:39:11 INFO    : multi-lu-coil-modelling, (abstractsolver.py :93  ) - Tubes validation ... complete\n",
      "2021-02-05 17:39:11 INFO    : multi-lu-coil-modelling, (interface.py      :140 ) - Received tubes:[\n",
      "\tTube(id='', d=89.0, th=-12.72360696196399, th0=6.5, sigma=8205327.562006988, mu=257.8086358076115),]\n",
      "2021-02-05 17:39:11 INFO    : multi-lu-coil-modelling, (interface.py      :144 ) - Mesh loading ... complete\n",
      "2021-02-05 17:39:12 INFO    : multi-lu-coil-modelling, (interface.py      :114 ) - Modelling tool averaging\n",
      "2021-02-05 17:39:12 INFO    : multi-lu-coil-modelling, (interface.py      :172 ) - Done\n",
      "2021-02-05 17:39:12 INFO    : multi-lu-coil-modelling, (interface.py      :23  ) - Using cim-triangular solver\n",
      "2021-02-05 17:39:12 INFO    : multi-lu-coil-modelling, (abstractsolver.py :100 ) - Solver validation ... complete\n",
      "2021-02-05 17:39:12 INFO    : multi-lu-coil-modelling, (abstractsolver.py :93  ) - Tubes validation ... complete\n",
      "2021-02-05 17:39:12 INFO    : multi-lu-coil-modelling, (interface.py      :140 ) - Received tubes:[\n",
      "\tTube(id='', d=89.0, th=-7.634164177178395, th0=6.5, sigma=8205327.562006988, mu=257.8086358076115),]\n",
      "2021-02-05 17:39:12 INFO    : multi-lu-coil-modelling, (interface.py      :144 ) - Mesh loading ... complete\n",
      "2021-02-05 17:39:14 INFO    : multi-lu-coil-modelling, (interface.py      :114 ) - Modelling tool averaging\n",
      "2021-02-05 17:39:14 INFO    : multi-lu-coil-modelling, (interface.py      :172 ) - Done\n",
      "2021-02-05 17:39:14 INFO    : multi-lu-coil-modelling, (interface.py      :23  ) - Using cim-triangular solver\n",
      "2021-02-05 17:39:14 INFO    : multi-lu-coil-modelling, (abstractsolver.py :100 ) - Solver validation ... complete\n",
      "2021-02-05 17:39:14 INFO    : multi-lu-coil-modelling, (abstractsolver.py :93  ) - Tubes validation ... complete\n",
      "2021-02-05 17:39:14 INFO    : multi-lu-coil-modelling, (interface.py      :140 ) - Received tubes:[\n",
      "\tTube(id='', d=89.0, th=-2.5447213923927983, th0=6.5, sigma=8205327.562006988, mu=257.8086358076115),]\n",
      "2021-02-05 17:39:14 INFO    : multi-lu-coil-modelling, (interface.py      :144 ) - Mesh loading ... complete\n",
      "2021-02-05 17:39:16 INFO    : multi-lu-coil-modelling, (interface.py      :114 ) - Modelling tool averaging\n",
      "2021-02-05 17:39:16 INFO    : multi-lu-coil-modelling, (interface.py      :172 ) - Done\n",
      "2021-02-05 17:39:16 INFO    : multi-lu-coil-modelling, (interface.py      :23  ) - Using cim-triangular solver\n",
      "2021-02-05 17:39:16 INFO    : multi-lu-coil-modelling, (abstractsolver.py :100 ) - Solver validation ... complete\n",
      "2021-02-05 17:39:16 INFO    : multi-lu-coil-modelling, (abstractsolver.py :93  ) - Tubes validation ... complete\n",
      "2021-02-05 17:39:16 INFO    : multi-lu-coil-modelling, (interface.py      :140 ) - Received tubes:[\n",
      "\tTube(id='', d=89.0, th=2.5447213923927983, th0=6.5, sigma=8205327.562006988, mu=257.8086358076115),]\n",
      "2021-02-05 17:39:16 INFO    : multi-lu-coil-modelling, (interface.py      :144 ) - Mesh loading ... complete\n",
      "2021-02-05 17:39:17 INFO    : multi-lu-coil-modelling, (interface.py      :114 ) - Modelling tool averaging\n",
      "2021-02-05 17:39:17 INFO    : multi-lu-coil-modelling, (interface.py      :172 ) - Done\n",
      "2021-02-05 17:39:17 INFO    : multi-lu-coil-modelling, (interface.py      :23  ) - Using cim-triangular solver\n",
      "2021-02-05 17:39:17 INFO    : multi-lu-coil-modelling, (abstractsolver.py :100 ) - Solver validation ... complete\n",
      "2021-02-05 17:39:17 INFO    : multi-lu-coil-modelling, (abstractsolver.py :93  ) - Tubes validation ... complete\n",
      "2021-02-05 17:39:17 INFO    : multi-lu-coil-modelling, (interface.py      :140 ) - Received tubes:[\n",
      "\tTube(id='', d=89.0, th=7.634164177178391, th0=6.5, sigma=8205327.562006988, mu=257.8086358076115),]\n",
      "2021-02-05 17:39:17 INFO    : multi-lu-coil-modelling, (interface.py      :144 ) - Mesh loading ... complete\n",
      "2021-02-05 17:39:19 INFO    : multi-lu-coil-modelling, (interface.py      :114 ) - Modelling tool averaging\n",
      "2021-02-05 17:39:19 INFO    : multi-lu-coil-modelling, (interface.py      :172 ) - Done\n",
      "2021-02-05 17:39:19 INFO    : multi-lu-coil-modelling, (interface.py      :23  ) - Using cim-triangular solver\n",
      "2021-02-05 17:39:19 INFO    : multi-lu-coil-modelling, (abstractsolver.py :100 ) - Solver validation ... complete\n",
      "2021-02-05 17:39:19 INFO    : multi-lu-coil-modelling, (abstractsolver.py :93  ) - Tubes validation ... complete\n"
     ]
    },
    {
     "name": "stderr",
     "output_type": "stream",
     "text": [
      "2021-02-05 17:39:19 INFO    : multi-lu-coil-modelling, (interface.py      :140 ) - Received tubes:[\n",
      "\tTube(id='', d=89.0, th=12.723606961963988, th0=6.5, sigma=8205327.562006988, mu=257.8086358076115),]\n",
      "2021-02-05 17:39:19 INFO    : multi-lu-coil-modelling, (interface.py      :144 ) - Mesh loading ... complete\n",
      "2021-02-05 17:39:21 INFO    : multi-lu-coil-modelling, (interface.py      :114 ) - Modelling tool averaging\n",
      "2021-02-05 17:39:21 INFO    : multi-lu-coil-modelling, (interface.py      :172 ) - Done\n",
      "2021-02-05 17:39:21 INFO    : multi-lu-coil-modelling, (interface.py      :23  ) - Using cim-triangular solver\n",
      "2021-02-05 17:39:21 INFO    : multi-lu-coil-modelling, (abstractsolver.py :100 ) - Solver validation ... complete\n",
      "2021-02-05 17:39:21 INFO    : multi-lu-coil-modelling, (abstractsolver.py :93  ) - Tubes validation ... complete\n",
      "2021-02-05 17:39:21 INFO    : multi-lu-coil-modelling, (interface.py      :140 ) - Received tubes:[\n",
      "\tTube(id='', d=89.0, th=17.813049746749584, th0=6.5, sigma=8205327.562006988, mu=257.8086358076115),]\n",
      "2021-02-05 17:39:21 INFO    : multi-lu-coil-modelling, (interface.py      :144 ) - Mesh loading ... complete\n",
      "2021-02-05 17:39:22 INFO    : multi-lu-coil-modelling, (interface.py      :114 ) - Modelling tool averaging\n",
      "2021-02-05 17:39:22 INFO    : multi-lu-coil-modelling, (interface.py      :172 ) - Done\n",
      "2021-02-05 17:39:22 INFO    : multi-lu-coil-modelling, (interface.py      :23  ) - Using cim-triangular solver\n",
      "2021-02-05 17:39:22 INFO    : multi-lu-coil-modelling, (abstractsolver.py :100 ) - Solver validation ... complete\n",
      "2021-02-05 17:39:22 INFO    : multi-lu-coil-modelling, (abstractsolver.py :93  ) - Tubes validation ... complete\n",
      "2021-02-05 17:39:22 INFO    : multi-lu-coil-modelling, (interface.py      :140 ) - Received tubes:[\n",
      "\tTube(id='', d=89.0, th=22.90249253153518, th0=6.5, sigma=8205327.562006988, mu=257.8086358076115),]\n",
      "2021-02-05 17:39:22 INFO    : multi-lu-coil-modelling, (interface.py      :144 ) - Mesh loading ... complete\n",
      "2021-02-05 17:39:24 INFO    : multi-lu-coil-modelling, (interface.py      :114 ) - Modelling tool averaging\n",
      "2021-02-05 17:39:24 INFO    : multi-lu-coil-modelling, (interface.py      :172 ) - Done\n"
     ]
    }
   ],
   "source": [
    "def l2_norm(x,y):#mu/th\n",
    "    return np.linalg.norm([fix_vector.get('mu').iloc[0] - x,\n",
    "                          fix_vector.get('th').iloc[0] - y])\n",
    "\n",
    "def L(x,y):\n",
    "    return (weighted_mse(np.array(fix_vector.get('Decay').iloc[0]), np.array(model_decay(mu=x,\n",
    "                                                                             th=y)),t))\n",
    "def minimization_func(x,y, constant=1):\n",
    "    #variable_vector = [mu, th]\n",
    "    return (-1 * l2_norm(x,y) + constant * L(x,y) )\n",
    "\n",
    "size = 10\n",
    "x = np.linspace(-2 * fix_vector.get('mu').iloc[0], 2 * fix_vector.get('mu').iloc[0], size)#sigma\n",
    "y = np.linspace(-2 * fix_vector.get('th').iloc[0], 2 * fix_vector.get('th').iloc[0], size)#mu\n",
    "i = 0\n",
    "j = 0\n",
    "z = np.zeros((size,size))\n",
    "while (i < size):\n",
    "    while (j < size):\n",
    "        z[i][j] = minimization_func(x[i],y[j])\n",
    "        j = j + 1\n",
    "    j = 0\n",
    "    i = i + 1\n",
    "#Z = minimization_func(X,Y)"
   ]
  },
  {
   "cell_type": "code",
   "execution_count": 41,
   "metadata": {},
   "outputs": [
    {
     "data": {
      "application/vnd.plotly.v1+json": {
       "config": {
        "plotlyServerURL": "https://plot.ly"
       },
       "data": [
        {
         "type": "surface",
         "z": [
          [
           -388.2342670594537,
           -387.8170536547553,
           -387.4662472203581,
           -387.1820282597462,
           -386.9645434944856,
           -386.81390548733106,
           -386.73019235182534,
           -386.71344755013416,
           -386.7636797803352,
           -386.88086295384176
          ],
          [
           -331.20698977095304,
           -330.71784241176056,
           -330.3063988375307,
           -329.9729497137454,
           -329.71773167066596,
           -329.5409264692545,
           -329.4426603566727,
           -329.42300361666724,
           -329.48197031856506,
           -329.6195182669681
          ],
          [
           -274.2895678447933,
           -273.6987186125347,
           -273.20141776406746,
           -272.7981769024605,
           -272.48941360690816,
           -272.2754492914483,
           -272.1565075423718,
           -272.1327129542519,
           -272.2040904786714,
           -272.37056529356994
          ],
          [
           -217.56823460561702,
           -216.82287412837314,
           -216.19478546390187,
           -215.68499311637427,
           -215.29433741760153,
           -215.02346770789097,
           -214.87283699269338,
           -214.84269817650667,
           -214.9331019465899,
           -215.1438963476296
          ],
          [
           -161.25004946850373,
           -160.2429447017879,
           -159.39205926217838,
           -158.69990590094926,
           -158.16856846868114,
           -157.79967143827295,
           -157.59435552425882,
           -157.5532602348333,
           -157.67651397139662,
           -157.9637320304183
          ],
          [
           -105.97404084790028,
           -104.43781417661435,
           -103.1316366418398,
           -102.05836226221196,
           -101.22955997090831,
           -100.6521944769016,
           -100.33045477047892,
           -100.2666138786949,
           -100.45846783315645,
           -100.90517508016238
          ],
          [
           -55.01207088653284,
           -51.986197676264844,
           -49.301686512119275,
           -47.015639540770664,
           -45.18856879874002,
           -43.87994464764797,
           -43.13665858321089,
           -42.986871921680745,
           -43.43569847072531,
           -44.46643987512485
          ],
          [
           -37.21957115588889,
           -32.58099464431653,
           -28.09908486635116,
           -23.86167768301638,
           -20.02413588462518,
           -16.86459446944222,
           -14.822166899508584,
           -14.37907513665344,
           -15.671708109124259,
           -18.337259249958226
          ],
          [
           -79.42703573958896,
           -77.36198076864187,
           -75.58379489738769,
           -74.11282355289042,
           -72.96685349983107,
           -72.16371934053919,
           -71.7147940872559,
           -71.62477621303894,
           -71.89539642455438,
           -72.52311963412095
          ],
          [
           -133.40344516543192,
           -132.18433999247873,
           -131.15154817154215,
           -130.3092779207188,
           -129.66040960224674,
           -129.2101407577531,
           -128.96047611883358,
           -128.91053882572652,
           -129.06112278853752,
           -129.41186435005466
          ]
         ]
        }
       ],
       "layout": {
        "autosize": false,
        "margin": {
         "b": 65,
         "l": 65,
         "r": 50,
         "t": 90
        },
        "scene": {
         "xaxis": {
          "title": {
           "text": "mu"
          }
         },
         "yaxis": {
          "title": {
           "text": "th"
          }
         },
         "zaxis": {
          "title": {
           "text": "minimimzation_function(mu/th)"
          }
         }
        },
        "template": {
         "data": {
          "bar": [
           {
            "error_x": {
             "color": "#2a3f5f"
            },
            "error_y": {
             "color": "#2a3f5f"
            },
            "marker": {
             "line": {
              "color": "#E5ECF6",
              "width": 0.5
             }
            },
            "type": "bar"
           }
          ],
          "barpolar": [
           {
            "marker": {
             "line": {
              "color": "#E5ECF6",
              "width": 0.5
             }
            },
            "type": "barpolar"
           }
          ],
          "carpet": [
           {
            "aaxis": {
             "endlinecolor": "#2a3f5f",
             "gridcolor": "white",
             "linecolor": "white",
             "minorgridcolor": "white",
             "startlinecolor": "#2a3f5f"
            },
            "baxis": {
             "endlinecolor": "#2a3f5f",
             "gridcolor": "white",
             "linecolor": "white",
             "minorgridcolor": "white",
             "startlinecolor": "#2a3f5f"
            },
            "type": "carpet"
           }
          ],
          "choropleth": [
           {
            "colorbar": {
             "outlinewidth": 0,
             "ticks": ""
            },
            "type": "choropleth"
           }
          ],
          "contour": [
           {
            "colorbar": {
             "outlinewidth": 0,
             "ticks": ""
            },
            "colorscale": [
             [
              0,
              "#0d0887"
             ],
             [
              0.1111111111111111,
              "#46039f"
             ],
             [
              0.2222222222222222,
              "#7201a8"
             ],
             [
              0.3333333333333333,
              "#9c179e"
             ],
             [
              0.4444444444444444,
              "#bd3786"
             ],
             [
              0.5555555555555556,
              "#d8576b"
             ],
             [
              0.6666666666666666,
              "#ed7953"
             ],
             [
              0.7777777777777778,
              "#fb9f3a"
             ],
             [
              0.8888888888888888,
              "#fdca26"
             ],
             [
              1,
              "#f0f921"
             ]
            ],
            "type": "contour"
           }
          ],
          "contourcarpet": [
           {
            "colorbar": {
             "outlinewidth": 0,
             "ticks": ""
            },
            "type": "contourcarpet"
           }
          ],
          "heatmap": [
           {
            "colorbar": {
             "outlinewidth": 0,
             "ticks": ""
            },
            "colorscale": [
             [
              0,
              "#0d0887"
             ],
             [
              0.1111111111111111,
              "#46039f"
             ],
             [
              0.2222222222222222,
              "#7201a8"
             ],
             [
              0.3333333333333333,
              "#9c179e"
             ],
             [
              0.4444444444444444,
              "#bd3786"
             ],
             [
              0.5555555555555556,
              "#d8576b"
             ],
             [
              0.6666666666666666,
              "#ed7953"
             ],
             [
              0.7777777777777778,
              "#fb9f3a"
             ],
             [
              0.8888888888888888,
              "#fdca26"
             ],
             [
              1,
              "#f0f921"
             ]
            ],
            "type": "heatmap"
           }
          ],
          "heatmapgl": [
           {
            "colorbar": {
             "outlinewidth": 0,
             "ticks": ""
            },
            "colorscale": [
             [
              0,
              "#0d0887"
             ],
             [
              0.1111111111111111,
              "#46039f"
             ],
             [
              0.2222222222222222,
              "#7201a8"
             ],
             [
              0.3333333333333333,
              "#9c179e"
             ],
             [
              0.4444444444444444,
              "#bd3786"
             ],
             [
              0.5555555555555556,
              "#d8576b"
             ],
             [
              0.6666666666666666,
              "#ed7953"
             ],
             [
              0.7777777777777778,
              "#fb9f3a"
             ],
             [
              0.8888888888888888,
              "#fdca26"
             ],
             [
              1,
              "#f0f921"
             ]
            ],
            "type": "heatmapgl"
           }
          ],
          "histogram": [
           {
            "marker": {
             "colorbar": {
              "outlinewidth": 0,
              "ticks": ""
             }
            },
            "type": "histogram"
           }
          ],
          "histogram2d": [
           {
            "colorbar": {
             "outlinewidth": 0,
             "ticks": ""
            },
            "colorscale": [
             [
              0,
              "#0d0887"
             ],
             [
              0.1111111111111111,
              "#46039f"
             ],
             [
              0.2222222222222222,
              "#7201a8"
             ],
             [
              0.3333333333333333,
              "#9c179e"
             ],
             [
              0.4444444444444444,
              "#bd3786"
             ],
             [
              0.5555555555555556,
              "#d8576b"
             ],
             [
              0.6666666666666666,
              "#ed7953"
             ],
             [
              0.7777777777777778,
              "#fb9f3a"
             ],
             [
              0.8888888888888888,
              "#fdca26"
             ],
             [
              1,
              "#f0f921"
             ]
            ],
            "type": "histogram2d"
           }
          ],
          "histogram2dcontour": [
           {
            "colorbar": {
             "outlinewidth": 0,
             "ticks": ""
            },
            "colorscale": [
             [
              0,
              "#0d0887"
             ],
             [
              0.1111111111111111,
              "#46039f"
             ],
             [
              0.2222222222222222,
              "#7201a8"
             ],
             [
              0.3333333333333333,
              "#9c179e"
             ],
             [
              0.4444444444444444,
              "#bd3786"
             ],
             [
              0.5555555555555556,
              "#d8576b"
             ],
             [
              0.6666666666666666,
              "#ed7953"
             ],
             [
              0.7777777777777778,
              "#fb9f3a"
             ],
             [
              0.8888888888888888,
              "#fdca26"
             ],
             [
              1,
              "#f0f921"
             ]
            ],
            "type": "histogram2dcontour"
           }
          ],
          "mesh3d": [
           {
            "colorbar": {
             "outlinewidth": 0,
             "ticks": ""
            },
            "type": "mesh3d"
           }
          ],
          "parcoords": [
           {
            "line": {
             "colorbar": {
              "outlinewidth": 0,
              "ticks": ""
             }
            },
            "type": "parcoords"
           }
          ],
          "pie": [
           {
            "automargin": true,
            "type": "pie"
           }
          ],
          "scatter": [
           {
            "marker": {
             "colorbar": {
              "outlinewidth": 0,
              "ticks": ""
             }
            },
            "type": "scatter"
           }
          ],
          "scatter3d": [
           {
            "line": {
             "colorbar": {
              "outlinewidth": 0,
              "ticks": ""
             }
            },
            "marker": {
             "colorbar": {
              "outlinewidth": 0,
              "ticks": ""
             }
            },
            "type": "scatter3d"
           }
          ],
          "scattercarpet": [
           {
            "marker": {
             "colorbar": {
              "outlinewidth": 0,
              "ticks": ""
             }
            },
            "type": "scattercarpet"
           }
          ],
          "scattergeo": [
           {
            "marker": {
             "colorbar": {
              "outlinewidth": 0,
              "ticks": ""
             }
            },
            "type": "scattergeo"
           }
          ],
          "scattergl": [
           {
            "marker": {
             "colorbar": {
              "outlinewidth": 0,
              "ticks": ""
             }
            },
            "type": "scattergl"
           }
          ],
          "scattermapbox": [
           {
            "marker": {
             "colorbar": {
              "outlinewidth": 0,
              "ticks": ""
             }
            },
            "type": "scattermapbox"
           }
          ],
          "scatterpolar": [
           {
            "marker": {
             "colorbar": {
              "outlinewidth": 0,
              "ticks": ""
             }
            },
            "type": "scatterpolar"
           }
          ],
          "scatterpolargl": [
           {
            "marker": {
             "colorbar": {
              "outlinewidth": 0,
              "ticks": ""
             }
            },
            "type": "scatterpolargl"
           }
          ],
          "scatterternary": [
           {
            "marker": {
             "colorbar": {
              "outlinewidth": 0,
              "ticks": ""
             }
            },
            "type": "scatterternary"
           }
          ],
          "surface": [
           {
            "colorbar": {
             "outlinewidth": 0,
             "ticks": ""
            },
            "colorscale": [
             [
              0,
              "#0d0887"
             ],
             [
              0.1111111111111111,
              "#46039f"
             ],
             [
              0.2222222222222222,
              "#7201a8"
             ],
             [
              0.3333333333333333,
              "#9c179e"
             ],
             [
              0.4444444444444444,
              "#bd3786"
             ],
             [
              0.5555555555555556,
              "#d8576b"
             ],
             [
              0.6666666666666666,
              "#ed7953"
             ],
             [
              0.7777777777777778,
              "#fb9f3a"
             ],
             [
              0.8888888888888888,
              "#fdca26"
             ],
             [
              1,
              "#f0f921"
             ]
            ],
            "type": "surface"
           }
          ],
          "table": [
           {
            "cells": {
             "fill": {
              "color": "#EBF0F8"
             },
             "line": {
              "color": "white"
             }
            },
            "header": {
             "fill": {
              "color": "#C8D4E3"
             },
             "line": {
              "color": "white"
             }
            },
            "type": "table"
           }
          ]
         },
         "layout": {
          "annotationdefaults": {
           "arrowcolor": "#2a3f5f",
           "arrowhead": 0,
           "arrowwidth": 1
          },
          "autotypenumbers": "strict",
          "coloraxis": {
           "colorbar": {
            "outlinewidth": 0,
            "ticks": ""
           }
          },
          "colorscale": {
           "diverging": [
            [
             0,
             "#8e0152"
            ],
            [
             0.1,
             "#c51b7d"
            ],
            [
             0.2,
             "#de77ae"
            ],
            [
             0.3,
             "#f1b6da"
            ],
            [
             0.4,
             "#fde0ef"
            ],
            [
             0.5,
             "#f7f7f7"
            ],
            [
             0.6,
             "#e6f5d0"
            ],
            [
             0.7,
             "#b8e186"
            ],
            [
             0.8,
             "#7fbc41"
            ],
            [
             0.9,
             "#4d9221"
            ],
            [
             1,
             "#276419"
            ]
           ],
           "sequential": [
            [
             0,
             "#0d0887"
            ],
            [
             0.1111111111111111,
             "#46039f"
            ],
            [
             0.2222222222222222,
             "#7201a8"
            ],
            [
             0.3333333333333333,
             "#9c179e"
            ],
            [
             0.4444444444444444,
             "#bd3786"
            ],
            [
             0.5555555555555556,
             "#d8576b"
            ],
            [
             0.6666666666666666,
             "#ed7953"
            ],
            [
             0.7777777777777778,
             "#fb9f3a"
            ],
            [
             0.8888888888888888,
             "#fdca26"
            ],
            [
             1,
             "#f0f921"
            ]
           ],
           "sequentialminus": [
            [
             0,
             "#0d0887"
            ],
            [
             0.1111111111111111,
             "#46039f"
            ],
            [
             0.2222222222222222,
             "#7201a8"
            ],
            [
             0.3333333333333333,
             "#9c179e"
            ],
            [
             0.4444444444444444,
             "#bd3786"
            ],
            [
             0.5555555555555556,
             "#d8576b"
            ],
            [
             0.6666666666666666,
             "#ed7953"
            ],
            [
             0.7777777777777778,
             "#fb9f3a"
            ],
            [
             0.8888888888888888,
             "#fdca26"
            ],
            [
             1,
             "#f0f921"
            ]
           ]
          },
          "colorway": [
           "#636efa",
           "#EF553B",
           "#00cc96",
           "#ab63fa",
           "#FFA15A",
           "#19d3f3",
           "#FF6692",
           "#B6E880",
           "#FF97FF",
           "#FECB52"
          ],
          "font": {
           "color": "#2a3f5f"
          },
          "geo": {
           "bgcolor": "white",
           "lakecolor": "white",
           "landcolor": "#E5ECF6",
           "showlakes": true,
           "showland": true,
           "subunitcolor": "white"
          },
          "hoverlabel": {
           "align": "left"
          },
          "hovermode": "closest",
          "mapbox": {
           "style": "light"
          },
          "paper_bgcolor": "white",
          "plot_bgcolor": "#E5ECF6",
          "polar": {
           "angularaxis": {
            "gridcolor": "white",
            "linecolor": "white",
            "ticks": ""
           },
           "bgcolor": "#E5ECF6",
           "radialaxis": {
            "gridcolor": "white",
            "linecolor": "white",
            "ticks": ""
           }
          },
          "scene": {
           "xaxis": {
            "backgroundcolor": "#E5ECF6",
            "gridcolor": "white",
            "gridwidth": 2,
            "linecolor": "white",
            "showbackground": true,
            "ticks": "",
            "zerolinecolor": "white"
           },
           "yaxis": {
            "backgroundcolor": "#E5ECF6",
            "gridcolor": "white",
            "gridwidth": 2,
            "linecolor": "white",
            "showbackground": true,
            "ticks": "",
            "zerolinecolor": "white"
           },
           "zaxis": {
            "backgroundcolor": "#E5ECF6",
            "gridcolor": "white",
            "gridwidth": 2,
            "linecolor": "white",
            "showbackground": true,
            "ticks": "",
            "zerolinecolor": "white"
           }
          },
          "shapedefaults": {
           "line": {
            "color": "#2a3f5f"
           }
          },
          "ternary": {
           "aaxis": {
            "gridcolor": "white",
            "linecolor": "white",
            "ticks": ""
           },
           "baxis": {
            "gridcolor": "white",
            "linecolor": "white",
            "ticks": ""
           },
           "bgcolor": "#E5ECF6",
           "caxis": {
            "gridcolor": "white",
            "linecolor": "white",
            "ticks": ""
           }
          },
          "title": {
           "x": 0.05
          },
          "xaxis": {
           "automargin": true,
           "gridcolor": "white",
           "linecolor": "white",
           "ticks": "",
           "title": {
            "standoff": 15
           },
           "zerolinecolor": "white",
           "zerolinewidth": 2
          },
          "yaxis": {
           "automargin": true,
           "gridcolor": "white",
           "linecolor": "white",
           "ticks": "",
           "title": {
            "standoff": 15
           },
           "zerolinecolor": "white",
           "zerolinewidth": 2
          }
         }
        },
        "title": {
         "text": "minimimzation_function(mu,th)"
        }
       }
      },
      "text/html": [
       "<div>                            <div id=\"6141d8bf-e6d5-4e62-a909-26b29db2131e\" class=\"plotly-graph-div\" style=\"height:525px; width:100%;\"></div>            <script type=\"text/javascript\">                require([\"plotly\"], function(Plotly) {                    window.PLOTLYENV=window.PLOTLYENV || {};                                    if (document.getElementById(\"6141d8bf-e6d5-4e62-a909-26b29db2131e\")) {                    Plotly.newPlot(                        \"6141d8bf-e6d5-4e62-a909-26b29db2131e\",                        [{\"type\": \"surface\", \"z\": [[-388.2342670594537, -387.8170536547553, -387.4662472203581, -387.1820282597462, -386.9645434944856, -386.81390548733106, -386.73019235182534, -386.71344755013416, -386.7636797803352, -386.88086295384176], [-331.20698977095304, -330.71784241176056, -330.3063988375307, -329.9729497137454, -329.71773167066596, -329.5409264692545, -329.4426603566727, -329.42300361666724, -329.48197031856506, -329.6195182669681], [-274.2895678447933, -273.6987186125347, -273.20141776406746, -272.7981769024605, -272.48941360690816, -272.2754492914483, -272.1565075423718, -272.1327129542519, -272.2040904786714, -272.37056529356994], [-217.56823460561702, -216.82287412837314, -216.19478546390187, -215.68499311637427, -215.29433741760153, -215.02346770789097, -214.87283699269338, -214.84269817650667, -214.9331019465899, -215.1438963476296], [-161.25004946850373, -160.2429447017879, -159.39205926217838, -158.69990590094926, -158.16856846868114, -157.79967143827295, -157.59435552425882, -157.5532602348333, -157.67651397139662, -157.9637320304183], [-105.97404084790028, -104.43781417661435, -103.1316366418398, -102.05836226221196, -101.22955997090831, -100.6521944769016, -100.33045477047892, -100.2666138786949, -100.45846783315645, -100.90517508016238], [-55.01207088653284, -51.986197676264844, -49.301686512119275, -47.015639540770664, -45.18856879874002, -43.87994464764797, -43.13665858321089, -42.986871921680745, -43.43569847072531, -44.46643987512485], [-37.21957115588889, -32.58099464431653, -28.09908486635116, -23.86167768301638, -20.02413588462518, -16.86459446944222, -14.822166899508584, -14.37907513665344, -15.671708109124259, -18.337259249958226], [-79.42703573958896, -77.36198076864187, -75.58379489738769, -74.11282355289042, -72.96685349983107, -72.16371934053919, -71.7147940872559, -71.62477621303894, -71.89539642455438, -72.52311963412095], [-133.40344516543192, -132.18433999247873, -131.15154817154215, -130.3092779207188, -129.66040960224674, -129.2101407577531, -128.96047611883358, -128.91053882572652, -129.06112278853752, -129.41186435005466]]}],                        {\"autosize\": false, \"margin\": {\"b\": 65, \"l\": 65, \"r\": 50, \"t\": 90}, \"scene\": {\"xaxis\": {\"title\": {\"text\": \"mu\"}}, \"yaxis\": {\"title\": {\"text\": \"th\"}}, \"zaxis\": {\"title\": {\"text\": \"minimimzation_function(mu/th)\"}}}, \"template\": {\"data\": {\"bar\": [{\"error_x\": {\"color\": \"#2a3f5f\"}, \"error_y\": {\"color\": \"#2a3f5f\"}, \"marker\": {\"line\": {\"color\": \"#E5ECF6\", \"width\": 0.5}}, \"type\": \"bar\"}], \"barpolar\": [{\"marker\": {\"line\": {\"color\": \"#E5ECF6\", \"width\": 0.5}}, \"type\": \"barpolar\"}], \"carpet\": [{\"aaxis\": {\"endlinecolor\": \"#2a3f5f\", \"gridcolor\": \"white\", \"linecolor\": \"white\", \"minorgridcolor\": \"white\", \"startlinecolor\": \"#2a3f5f\"}, \"baxis\": {\"endlinecolor\": \"#2a3f5f\", \"gridcolor\": \"white\", \"linecolor\": \"white\", \"minorgridcolor\": \"white\", \"startlinecolor\": \"#2a3f5f\"}, \"type\": \"carpet\"}], \"choropleth\": [{\"colorbar\": {\"outlinewidth\": 0, \"ticks\": \"\"}, \"type\": \"choropleth\"}], \"contour\": [{\"colorbar\": {\"outlinewidth\": 0, \"ticks\": \"\"}, \"colorscale\": [[0.0, \"#0d0887\"], [0.1111111111111111, \"#46039f\"], [0.2222222222222222, \"#7201a8\"], [0.3333333333333333, \"#9c179e\"], [0.4444444444444444, \"#bd3786\"], [0.5555555555555556, \"#d8576b\"], [0.6666666666666666, \"#ed7953\"], [0.7777777777777778, \"#fb9f3a\"], [0.8888888888888888, \"#fdca26\"], [1.0, \"#f0f921\"]], \"type\": \"contour\"}], \"contourcarpet\": [{\"colorbar\": {\"outlinewidth\": 0, \"ticks\": \"\"}, \"type\": \"contourcarpet\"}], \"heatmap\": [{\"colorbar\": {\"outlinewidth\": 0, \"ticks\": \"\"}, \"colorscale\": [[0.0, \"#0d0887\"], [0.1111111111111111, \"#46039f\"], [0.2222222222222222, \"#7201a8\"], [0.3333333333333333, \"#9c179e\"], [0.4444444444444444, \"#bd3786\"], [0.5555555555555556, \"#d8576b\"], [0.6666666666666666, \"#ed7953\"], [0.7777777777777778, \"#fb9f3a\"], [0.8888888888888888, \"#fdca26\"], [1.0, \"#f0f921\"]], \"type\": \"heatmap\"}], \"heatmapgl\": [{\"colorbar\": {\"outlinewidth\": 0, \"ticks\": \"\"}, \"colorscale\": [[0.0, \"#0d0887\"], [0.1111111111111111, \"#46039f\"], [0.2222222222222222, \"#7201a8\"], [0.3333333333333333, \"#9c179e\"], [0.4444444444444444, \"#bd3786\"], [0.5555555555555556, \"#d8576b\"], [0.6666666666666666, \"#ed7953\"], [0.7777777777777778, \"#fb9f3a\"], [0.8888888888888888, \"#fdca26\"], [1.0, \"#f0f921\"]], \"type\": \"heatmapgl\"}], \"histogram\": [{\"marker\": {\"colorbar\": {\"outlinewidth\": 0, \"ticks\": \"\"}}, \"type\": \"histogram\"}], \"histogram2d\": [{\"colorbar\": {\"outlinewidth\": 0, \"ticks\": \"\"}, \"colorscale\": [[0.0, \"#0d0887\"], [0.1111111111111111, \"#46039f\"], [0.2222222222222222, \"#7201a8\"], [0.3333333333333333, \"#9c179e\"], [0.4444444444444444, \"#bd3786\"], [0.5555555555555556, \"#d8576b\"], [0.6666666666666666, \"#ed7953\"], [0.7777777777777778, \"#fb9f3a\"], [0.8888888888888888, \"#fdca26\"], [1.0, \"#f0f921\"]], \"type\": \"histogram2d\"}], \"histogram2dcontour\": [{\"colorbar\": {\"outlinewidth\": 0, \"ticks\": \"\"}, \"colorscale\": [[0.0, \"#0d0887\"], [0.1111111111111111, \"#46039f\"], [0.2222222222222222, \"#7201a8\"], [0.3333333333333333, \"#9c179e\"], [0.4444444444444444, \"#bd3786\"], [0.5555555555555556, \"#d8576b\"], [0.6666666666666666, \"#ed7953\"], [0.7777777777777778, \"#fb9f3a\"], [0.8888888888888888, \"#fdca26\"], [1.0, \"#f0f921\"]], \"type\": \"histogram2dcontour\"}], \"mesh3d\": [{\"colorbar\": {\"outlinewidth\": 0, \"ticks\": \"\"}, \"type\": \"mesh3d\"}], \"parcoords\": [{\"line\": {\"colorbar\": {\"outlinewidth\": 0, \"ticks\": \"\"}}, \"type\": \"parcoords\"}], \"pie\": [{\"automargin\": true, \"type\": \"pie\"}], \"scatter\": [{\"marker\": {\"colorbar\": {\"outlinewidth\": 0, \"ticks\": \"\"}}, \"type\": \"scatter\"}], \"scatter3d\": [{\"line\": {\"colorbar\": {\"outlinewidth\": 0, \"ticks\": \"\"}}, \"marker\": {\"colorbar\": {\"outlinewidth\": 0, \"ticks\": \"\"}}, \"type\": \"scatter3d\"}], \"scattercarpet\": [{\"marker\": {\"colorbar\": {\"outlinewidth\": 0, \"ticks\": \"\"}}, \"type\": \"scattercarpet\"}], \"scattergeo\": [{\"marker\": {\"colorbar\": {\"outlinewidth\": 0, \"ticks\": \"\"}}, \"type\": \"scattergeo\"}], \"scattergl\": [{\"marker\": {\"colorbar\": {\"outlinewidth\": 0, \"ticks\": \"\"}}, \"type\": \"scattergl\"}], \"scattermapbox\": [{\"marker\": {\"colorbar\": {\"outlinewidth\": 0, \"ticks\": \"\"}}, \"type\": \"scattermapbox\"}], \"scatterpolar\": [{\"marker\": {\"colorbar\": {\"outlinewidth\": 0, \"ticks\": \"\"}}, \"type\": \"scatterpolar\"}], \"scatterpolargl\": [{\"marker\": {\"colorbar\": {\"outlinewidth\": 0, \"ticks\": \"\"}}, \"type\": \"scatterpolargl\"}], \"scatterternary\": [{\"marker\": {\"colorbar\": {\"outlinewidth\": 0, \"ticks\": \"\"}}, \"type\": \"scatterternary\"}], \"surface\": [{\"colorbar\": {\"outlinewidth\": 0, \"ticks\": \"\"}, \"colorscale\": [[0.0, \"#0d0887\"], [0.1111111111111111, \"#46039f\"], [0.2222222222222222, \"#7201a8\"], [0.3333333333333333, \"#9c179e\"], [0.4444444444444444, \"#bd3786\"], [0.5555555555555556, \"#d8576b\"], [0.6666666666666666, \"#ed7953\"], [0.7777777777777778, \"#fb9f3a\"], [0.8888888888888888, \"#fdca26\"], [1.0, \"#f0f921\"]], \"type\": \"surface\"}], \"table\": [{\"cells\": {\"fill\": {\"color\": \"#EBF0F8\"}, \"line\": {\"color\": \"white\"}}, \"header\": {\"fill\": {\"color\": \"#C8D4E3\"}, \"line\": {\"color\": \"white\"}}, \"type\": \"table\"}]}, \"layout\": {\"annotationdefaults\": {\"arrowcolor\": \"#2a3f5f\", \"arrowhead\": 0, \"arrowwidth\": 1}, \"autotypenumbers\": \"strict\", \"coloraxis\": {\"colorbar\": {\"outlinewidth\": 0, \"ticks\": \"\"}}, \"colorscale\": {\"diverging\": [[0, \"#8e0152\"], [0.1, \"#c51b7d\"], [0.2, \"#de77ae\"], [0.3, \"#f1b6da\"], [0.4, \"#fde0ef\"], [0.5, \"#f7f7f7\"], [0.6, \"#e6f5d0\"], [0.7, \"#b8e186\"], [0.8, \"#7fbc41\"], [0.9, \"#4d9221\"], [1, \"#276419\"]], \"sequential\": [[0.0, \"#0d0887\"], [0.1111111111111111, \"#46039f\"], [0.2222222222222222, \"#7201a8\"], [0.3333333333333333, \"#9c179e\"], [0.4444444444444444, \"#bd3786\"], [0.5555555555555556, \"#d8576b\"], [0.6666666666666666, \"#ed7953\"], [0.7777777777777778, \"#fb9f3a\"], [0.8888888888888888, \"#fdca26\"], [1.0, \"#f0f921\"]], \"sequentialminus\": [[0.0, \"#0d0887\"], [0.1111111111111111, \"#46039f\"], [0.2222222222222222, \"#7201a8\"], [0.3333333333333333, \"#9c179e\"], [0.4444444444444444, \"#bd3786\"], [0.5555555555555556, \"#d8576b\"], [0.6666666666666666, \"#ed7953\"], [0.7777777777777778, \"#fb9f3a\"], [0.8888888888888888, \"#fdca26\"], [1.0, \"#f0f921\"]]}, \"colorway\": [\"#636efa\", \"#EF553B\", \"#00cc96\", \"#ab63fa\", \"#FFA15A\", \"#19d3f3\", \"#FF6692\", \"#B6E880\", \"#FF97FF\", \"#FECB52\"], \"font\": {\"color\": \"#2a3f5f\"}, \"geo\": {\"bgcolor\": \"white\", \"lakecolor\": \"white\", \"landcolor\": \"#E5ECF6\", \"showlakes\": true, \"showland\": true, \"subunitcolor\": \"white\"}, \"hoverlabel\": {\"align\": \"left\"}, \"hovermode\": \"closest\", \"mapbox\": {\"style\": \"light\"}, \"paper_bgcolor\": \"white\", \"plot_bgcolor\": \"#E5ECF6\", \"polar\": {\"angularaxis\": {\"gridcolor\": \"white\", \"linecolor\": \"white\", \"ticks\": \"\"}, \"bgcolor\": \"#E5ECF6\", \"radialaxis\": {\"gridcolor\": \"white\", \"linecolor\": \"white\", \"ticks\": \"\"}}, \"scene\": {\"xaxis\": {\"backgroundcolor\": \"#E5ECF6\", \"gridcolor\": \"white\", \"gridwidth\": 2, \"linecolor\": \"white\", \"showbackground\": true, \"ticks\": \"\", \"zerolinecolor\": \"white\"}, \"yaxis\": {\"backgroundcolor\": \"#E5ECF6\", \"gridcolor\": \"white\", \"gridwidth\": 2, \"linecolor\": \"white\", \"showbackground\": true, \"ticks\": \"\", \"zerolinecolor\": \"white\"}, \"zaxis\": {\"backgroundcolor\": \"#E5ECF6\", \"gridcolor\": \"white\", \"gridwidth\": 2, \"linecolor\": \"white\", \"showbackground\": true, \"ticks\": \"\", \"zerolinecolor\": \"white\"}}, \"shapedefaults\": {\"line\": {\"color\": \"#2a3f5f\"}}, \"ternary\": {\"aaxis\": {\"gridcolor\": \"white\", \"linecolor\": \"white\", \"ticks\": \"\"}, \"baxis\": {\"gridcolor\": \"white\", \"linecolor\": \"white\", \"ticks\": \"\"}, \"bgcolor\": \"#E5ECF6\", \"caxis\": {\"gridcolor\": \"white\", \"linecolor\": \"white\", \"ticks\": \"\"}}, \"title\": {\"x\": 0.05}, \"xaxis\": {\"automargin\": true, \"gridcolor\": \"white\", \"linecolor\": \"white\", \"ticks\": \"\", \"title\": {\"standoff\": 15}, \"zerolinecolor\": \"white\", \"zerolinewidth\": 2}, \"yaxis\": {\"automargin\": true, \"gridcolor\": \"white\", \"linecolor\": \"white\", \"ticks\": \"\", \"title\": {\"standoff\": 15}, \"zerolinecolor\": \"white\", \"zerolinewidth\": 2}}}, \"title\": {\"text\": \"minimimzation_function(mu,th)\"}},                        {\"responsive\": true}                    ).then(function(){\n",
       "                            \n",
       "var gd = document.getElementById('6141d8bf-e6d5-4e62-a909-26b29db2131e');\n",
       "var x = new MutationObserver(function (mutations, observer) {{\n",
       "        var display = window.getComputedStyle(gd).display;\n",
       "        if (!display || display === 'none') {{\n",
       "            console.log([gd, 'removed!']);\n",
       "            Plotly.purge(gd);\n",
       "            observer.disconnect();\n",
       "        }}\n",
       "}});\n",
       "\n",
       "// Listen for the removal of the full notebook cells\n",
       "var notebookContainer = gd.closest('#notebook-container');\n",
       "if (notebookContainer) {{\n",
       "    x.observe(notebookContainer, {childList: true});\n",
       "}}\n",
       "\n",
       "// Listen for the clearing of the current output cell\n",
       "var outputEl = gd.closest('.output');\n",
       "if (outputEl) {{\n",
       "    x.observe(outputEl, {childList: true});\n",
       "}}\n",
       "\n",
       "                        })                };                });            </script>        </div>"
      ]
     },
     "metadata": {},
     "output_type": "display_data"
    }
   ],
   "source": [
    "z_data = pd.DataFrame(z)\n",
    "fig = go.Figure(data=[go.Surface(z=z_data.values)])\n",
    "\n",
    "fig.update_layout(title='minimimzation_function(mu,th)', autosize=False,\n",
    "                  margin=dict(l=65, r=50, b=65, t=90))\n",
    "fig.update_layout(scene = dict(\n",
    "xaxis_title = 'mu',\n",
    "yaxis_title = 'th',\n",
    "zaxis_title = 'minimimzation_function(mu/th)'))\n",
    "fig.show()"
   ]
  },
  {
   "cell_type": "markdown",
   "metadata": {},
   "source": [
    "## Минимизация модельной функции"
   ]
  },
  {
   "cell_type": "code",
   "execution_count": null,
   "metadata": {},
   "outputs": [],
   "source": []
  }
 ],
 "metadata": {
  "kernelspec": {
   "display_name": "Python 3",
   "language": "python",
   "name": "python3"
  },
  "language_info": {
   "codemirror_mode": {
    "name": "ipython",
    "version": 3
   },
   "file_extension": ".py",
   "mimetype": "text/x-python",
   "name": "python",
   "nbconvert_exporter": "python",
   "pygments_lexer": "ipython3",
   "version": "3.8.5"
  }
 },
 "nbformat": 4,
 "nbformat_minor": 4
}
