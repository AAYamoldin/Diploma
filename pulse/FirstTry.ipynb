{
 "cells": [
  {
   "cell_type": "code",
   "execution_count": 29,
   "metadata": {},
   "outputs": [],
   "source": [
    "import numpy as np\n",
    "from typing import Tuple\n",
    "import pandas as pd\n",
    "import pickle\n",
    "import scipy.special as sc\n",
    "from matplotlib import pyplot as plt\n",
    "from sklearn.model_selection import train_test_split\n",
    "from sklearn.metrics import mean_absolute_error\n",
    "%matplotlib inline"
   ]
  },
  {
   "cell_type": "code",
   "execution_count": 4,
   "metadata": {},
   "outputs": [],
   "source": [
    "def weighted_mse(u_exp: np.ndarray, u: np.ndarray, time: np.ndarray, eps: float = 0.0) -> Tuple[np.ndarray, np.ndarray]:\n",
    "    dt = np.diff(time, n=1, axis=0)\n",
    "    dt = np.append(dt, dt[-1])\n",
    "\n",
    "    amplitude = np.dot(dt, u * u_exp) / np.dot(dt, u ** 2)\n",
    "    e = (u_exp - amplitude * u) / (u_exp + eps) * dt\n",
    "\n",
    "    loss = np.dot(e, e)\n",
    "    return loss, amplitude\n"
   ]
  },
  {
   "cell_type": "code",
   "execution_count": 5,
   "metadata": {},
   "outputs": [
    {
     "data": {
      "text/html": [
       "<div>\n",
       "<style scoped>\n",
       "    .dataframe tbody tr th:only-of-type {\n",
       "        vertical-align: middle;\n",
       "    }\n",
       "\n",
       "    .dataframe tbody tr th {\n",
       "        vertical-align: top;\n",
       "    }\n",
       "\n",
       "    .dataframe thead th {\n",
       "        text-align: right;\n",
       "    }\n",
       "</style>\n",
       "<table border=\"1\" class=\"dataframe\">\n",
       "  <thead>\n",
       "    <tr style=\"text-align: right;\">\n",
       "      <th></th>\n",
       "      <th>parameters</th>\n",
       "      <th>decay</th>\n",
       "    </tr>\n",
       "  </thead>\n",
       "  <tbody>\n",
       "    <tr>\n",
       "      <th>0</th>\n",
       "      <td>[{'sigma': 1435168.9390908787, 'mu': 89.058309...</td>\n",
       "      <td>[0.20414764740139812, 0.19512088018885956, 0.1...</td>\n",
       "    </tr>\n",
       "    <tr>\n",
       "      <th>0</th>\n",
       "      <td>[{'sigma': 6273819.790735516, 'mu': 76.4296341...</td>\n",
       "      <td>[0.1853657500837078, 0.17325324056605024, 0.16...</td>\n",
       "    </tr>\n",
       "    <tr>\n",
       "      <th>0</th>\n",
       "      <td>[{'sigma': 1185609.7405302143, 'mu': 145.77550...</td>\n",
       "      <td>[0.20965104452381175, 0.20151618304390082, 0.1...</td>\n",
       "    </tr>\n",
       "    <tr>\n",
       "      <th>0</th>\n",
       "      <td>[{'sigma': 6143423.656344486, 'mu': 71.4151574...</td>\n",
       "      <td>[0.185046111522035, 0.1727535353636631, 0.1607...</td>\n",
       "    </tr>\n",
       "    <tr>\n",
       "      <th>0</th>\n",
       "      <td>[{'sigma': 6366540.795349254, 'mu': 132.191461...</td>\n",
       "      <td>[0.19235541864543546, 0.18131712610011289, 0.1...</td>\n",
       "    </tr>\n",
       "  </tbody>\n",
       "</table>\n",
       "</div>"
      ],
      "text/plain": [
       "                                         parameters   \\\n",
       "0  [{'sigma': 1435168.9390908787, 'mu': 89.058309...   \n",
       "0  [{'sigma': 6273819.790735516, 'mu': 76.4296341...   \n",
       "0  [{'sigma': 1185609.7405302143, 'mu': 145.77550...   \n",
       "0  [{'sigma': 6143423.656344486, 'mu': 71.4151574...   \n",
       "0  [{'sigma': 6366540.795349254, 'mu': 132.191461...   \n",
       "\n",
       "                                               decay  \n",
       "0  [0.20414764740139812, 0.19512088018885956, 0.1...  \n",
       "0  [0.1853657500837078, 0.17325324056605024, 0.16...  \n",
       "0  [0.20965104452381175, 0.20151618304390082, 0.1...  \n",
       "0  [0.185046111522035, 0.1727535353636631, 0.1607...  \n",
       "0  [0.19235541864543546, 0.18131712610011289, 0.1...  "
      ]
     },
     "execution_count": 5,
     "metadata": {},
     "output_type": "execute_result"
    }
   ],
   "source": [
    "import pandas as pd\n",
    "unpickled_df = pd.read_pickle('./decays.pickle')\n",
    "unpickled_df.head()"
   ]
  },
  {
   "cell_type": "code",
   "execution_count": 6,
   "metadata": {},
   "outputs": [
    {
     "name": "stdout",
     "output_type": "stream",
     "text": [
      "[{'sigma': 1435168.9390908787, 'mu': 89.05830983771534, 'd': 89, 'th': 2.8163372753619518, 'th0': 6.5}]\n"
     ]
    }
   ],
   "source": [
    "print(unpickled_df['parameters '].iloc[0])"
   ]
  },
  {
   "cell_type": "code",
   "execution_count": 7,
   "metadata": {},
   "outputs": [
    {
     "name": "stdout",
     "output_type": "stream",
     "text": [
      "[0.1853657500837078, 0.17325324056605024, 0.16137984866188596, 0.14767274860043825, 0.14054205562862432, 0.13361570142891543, 0.12639660144562767, 0.11908495947679494, 0.11143253735935438, 0.10404788564780873, 0.09668797518510043, 0.08925031938061825, 0.0819507171399824, 0.07475427335260053, 0.06784322857876779, 0.06107588867842254, 0.054648738642522544, 0.04859256532767319, 0.04280150922879604, 0.03750183304472978, 0.03256403039915821, 0.028068486237626353, 0.023997861531996907, 0.020372859490138354, 0.017178950405200878, 0.014388781362204187, 0.01198151437694591, 0.009927036317937536, 0.008190160102682165, 0.006735065288610897, 0.005521719805841198, 0.004497360867676629, 0.0036323972009979573, 0.0028923348875184254, 0.0022594569817647983, 0.0017220296389554406, 0.0012746282194345104, 0.0009113270260187545, 0.0006260702353531296, 0.0004110038059525578, 0.0002561536898304886, 0.0001502377666809059, 8.210684334635793e-05, 4.135184559677432e-05, 1.890215339842355e-05, 7.727270437946536e-06]\n"
     ]
    }
   ],
   "source": [
    "print(unpickled_df['decay'].iloc[1])"
   ]
  },
  {
   "cell_type": "code",
   "execution_count": 8,
   "metadata": {},
   "outputs": [],
   "source": [
    "def weighted_mse(u_exp: np.ndarray, u: np.ndarray, time: np.ndarray, eps: float = 0.0) -> Tuple[np.ndarray, np.ndarray]:\n",
    "    dt = np.diff(time, n=1, axis=0)\n",
    "    dt = np.append(dt, dt[-1])\n",
    "\n",
    "    amplitude = np.dot(dt, u * u_exp) / np.dot(dt, u ** 2)\n",
    "    e = (u_exp - amplitude * u) / (u_exp + eps) * dt\n",
    "\n",
    "    loss = np.dot(e, e)\n",
    "    return loss, amplitude\n",
    "\n",
    "\n",
    "t = 1e-3 * np.array([\n",
    "    0.135, 0.180, 0.235, 0.315, 0.365, 0.420,\n",
    "    0.485, 0.560, 0.650, 0.750, 0.865, 1.000,\n",
    "    1.155, 1.335, 1.540, 1.780, 2.055, 2.370,\n",
    "    2.740, 3.160, 3.650, 4.215, 4.870, 5.625,\n",
    "    6.495, 7.500, 8.660, 10.00, 11.55, 13.34,\n",
    "    15.40, 17.79, 20.54, 23.72, 27.39, 31.63,\n",
    "    36.52, 42.17, 48.70, 56.24, 64.94, 74.99,\n",
    "    86.60, 100.0, 115.5, 133.4\n",
    "])\n"
   ]
  },
  {
   "cell_type": "code",
   "execution_count": 9,
   "metadata": {},
   "outputs": [
    {
     "name": "stdout",
     "output_type": "stream",
     "text": [
      "<class 'pandas.core.frame.DataFrame'>\n",
      "Int64Index: 75200 entries, 0 to 0\n",
      "Data columns (total 2 columns):\n",
      " #   Column       Non-Null Count  Dtype \n",
      "---  ------       --------------  ----- \n",
      " 0   parameters   75200 non-null  object\n",
      " 1   decay        75200 non-null  object\n",
      "dtypes: object(2)\n",
      "memory usage: 1.7+ MB\n"
     ]
    }
   ],
   "source": [
    "unpickled_df.info()"
   ]
  },
  {
   "cell_type": "code",
   "execution_count": 10,
   "metadata": {},
   "outputs": [
    {
     "name": "stdout",
     "output_type": "stream",
     "text": [
      "0    [{'sigma': 1435168.9390908787, 'mu': 89.058309...\n",
      "0    [{'sigma': 6273819.790735516, 'mu': 76.4296341...\n",
      "0    [{'sigma': 1185609.7405302143, 'mu': 145.77550...\n",
      "0    [{'sigma': 6143423.656344486, 'mu': 71.4151574...\n",
      "0    [{'sigma': 6366540.795349254, 'mu': 132.191461...\n",
      "                           ...                        \n",
      "0    [{'sigma': 3762849.6012914125, 'mu': 148.81610...\n",
      "0    [{'sigma': 2875169.70201072, 'mu': 42.34207174...\n",
      "0    [{'sigma': 5574139.120522762, 'mu': 96.8725661...\n",
      "0    [{'sigma': 1451156.4908713333, 'mu': 43.394390...\n",
      "0    [{'sigma': 7901269.910883426, 'mu': 23.4973872...\n",
      "Name: parameters , Length: 75200, dtype: object\n",
      "[{'sigma': 8931973.876361609, 'mu': 31.717744380614917, 'd': 89, 'th': 4.805890865824528, 'th0': 6.5}]\n"
     ]
    },
    {
     "data": {
      "text/plain": [
       "8931973.876361609"
      ]
     },
     "execution_count": 10,
     "metadata": {},
     "output_type": "execute_result"
    }
   ],
   "source": [
    "kek = unpickled_df['parameters '][0]\n",
    "print(kek)\n",
    "kek = unpickled_df['parameters '].iloc[40000]\n",
    "print(kek)\n",
    "kek[0].get('sigma')"
   ]
  },
  {
   "cell_type": "markdown",
   "metadata": {},
   "source": [
    "## Перенесём все данные в таблицу для удобства работы"
   ]
  },
  {
   "cell_type": "code",
   "execution_count": 11,
   "metadata": {},
   "outputs": [
    {
     "data": {
      "text/html": [
       "<div>\n",
       "<style scoped>\n",
       "    .dataframe tbody tr th:only-of-type {\n",
       "        vertical-align: middle;\n",
       "    }\n",
       "\n",
       "    .dataframe tbody tr th {\n",
       "        vertical-align: top;\n",
       "    }\n",
       "\n",
       "    .dataframe thead th {\n",
       "        text-align: right;\n",
       "    }\n",
       "</style>\n",
       "<table border=\"1\" class=\"dataframe\">\n",
       "  <thead>\n",
       "    <tr style=\"text-align: right;\">\n",
       "      <th></th>\n",
       "      <th>Sigma</th>\n",
       "      <th>mu</th>\n",
       "      <th>d</th>\n",
       "      <th>th</th>\n",
       "      <th>th0</th>\n",
       "      <th>Decay</th>\n",
       "    </tr>\n",
       "  </thead>\n",
       "  <tbody>\n",
       "    <tr>\n",
       "      <th>0</th>\n",
       "      <td>1.435169e+06</td>\n",
       "      <td>89.058310</td>\n",
       "      <td>89</td>\n",
       "      <td>2.816337</td>\n",
       "      <td>6.5</td>\n",
       "      <td>[0.20414764740139812, 0.19512088018885956, 0.1...</td>\n",
       "    </tr>\n",
       "    <tr>\n",
       "      <th>1</th>\n",
       "      <td>6.273820e+06</td>\n",
       "      <td>76.429634</td>\n",
       "      <td>89</td>\n",
       "      <td>9.039558</td>\n",
       "      <td>6.5</td>\n",
       "      <td>[0.1853657500837078, 0.17325324056605024, 0.16...</td>\n",
       "    </tr>\n",
       "    <tr>\n",
       "      <th>2</th>\n",
       "      <td>1.185610e+06</td>\n",
       "      <td>145.775506</td>\n",
       "      <td>89</td>\n",
       "      <td>3.942288</td>\n",
       "      <td>6.5</td>\n",
       "      <td>[0.20965104452381175, 0.20151618304390082, 0.1...</td>\n",
       "    </tr>\n",
       "    <tr>\n",
       "      <th>3</th>\n",
       "      <td>6.143424e+06</td>\n",
       "      <td>71.415157</td>\n",
       "      <td>89</td>\n",
       "      <td>7.672864</td>\n",
       "      <td>6.5</td>\n",
       "      <td>[0.185046111522035, 0.1727535353636631, 0.1607...</td>\n",
       "    </tr>\n",
       "    <tr>\n",
       "      <th>4</th>\n",
       "      <td>6.366541e+06</td>\n",
       "      <td>132.191462</td>\n",
       "      <td>89</td>\n",
       "      <td>4.341253</td>\n",
       "      <td>6.5</td>\n",
       "      <td>[0.19235541864543546, 0.18131712610011289, 0.1...</td>\n",
       "    </tr>\n",
       "    <tr>\n",
       "      <th>5</th>\n",
       "      <td>2.202663e+06</td>\n",
       "      <td>67.409757</td>\n",
       "      <td>89</td>\n",
       "      <td>3.684940</td>\n",
       "      <td>6.5</td>\n",
       "      <td>[0.19707648324855812, 0.18683864905413106, 0.1...</td>\n",
       "    </tr>\n",
       "    <tr>\n",
       "      <th>6</th>\n",
       "      <td>5.452385e+06</td>\n",
       "      <td>58.463764</td>\n",
       "      <td>89</td>\n",
       "      <td>4.742516</td>\n",
       "      <td>6.5</td>\n",
       "      <td>[0.18438771577303842, 0.17182722376412168, 0.1...</td>\n",
       "    </tr>\n",
       "    <tr>\n",
       "      <th>7</th>\n",
       "      <td>8.362600e+06</td>\n",
       "      <td>27.018713</td>\n",
       "      <td>89</td>\n",
       "      <td>1.604036</td>\n",
       "      <td>6.5</td>\n",
       "      <td>[0.1688063648017043, 0.15301738140312576, 0.13...</td>\n",
       "    </tr>\n",
       "    <tr>\n",
       "      <th>8</th>\n",
       "      <td>3.133573e+06</td>\n",
       "      <td>139.161563</td>\n",
       "      <td>89</td>\n",
       "      <td>10.772532</td>\n",
       "      <td>6.5</td>\n",
       "      <td>[0.20015195150516177, 0.19068437501823504, 0.1...</td>\n",
       "    </tr>\n",
       "    <tr>\n",
       "      <th>9</th>\n",
       "      <td>5.335198e+06</td>\n",
       "      <td>47.146775</td>\n",
       "      <td>89</td>\n",
       "      <td>8.921513</td>\n",
       "      <td>6.5</td>\n",
       "      <td>[0.18162651605649227, 0.16864305147554345, 0.1...</td>\n",
       "    </tr>\n",
       "  </tbody>\n",
       "</table>\n",
       "</div>"
      ],
      "text/plain": [
       "          Sigma          mu   d         th  th0  \\\n",
       "0  1.435169e+06   89.058310  89   2.816337  6.5   \n",
       "1  6.273820e+06   76.429634  89   9.039558  6.5   \n",
       "2  1.185610e+06  145.775506  89   3.942288  6.5   \n",
       "3  6.143424e+06   71.415157  89   7.672864  6.5   \n",
       "4  6.366541e+06  132.191462  89   4.341253  6.5   \n",
       "5  2.202663e+06   67.409757  89   3.684940  6.5   \n",
       "6  5.452385e+06   58.463764  89   4.742516  6.5   \n",
       "7  8.362600e+06   27.018713  89   1.604036  6.5   \n",
       "8  3.133573e+06  139.161563  89  10.772532  6.5   \n",
       "9  5.335198e+06   47.146775  89   8.921513  6.5   \n",
       "\n",
       "                                               Decay  \n",
       "0  [0.20414764740139812, 0.19512088018885956, 0.1...  \n",
       "1  [0.1853657500837078, 0.17325324056605024, 0.16...  \n",
       "2  [0.20965104452381175, 0.20151618304390082, 0.1...  \n",
       "3  [0.185046111522035, 0.1727535353636631, 0.1607...  \n",
       "4  [0.19235541864543546, 0.18131712610011289, 0.1...  \n",
       "5  [0.19707648324855812, 0.18683864905413106, 0.1...  \n",
       "6  [0.18438771577303842, 0.17182722376412168, 0.1...  \n",
       "7  [0.1688063648017043, 0.15301738140312576, 0.13...  \n",
       "8  [0.20015195150516177, 0.19068437501823504, 0.1...  \n",
       "9  [0.18162651605649227, 0.16864305147554345, 0.1...  "
      ]
     },
     "execution_count": 11,
     "metadata": {},
     "output_type": "execute_result"
    }
   ],
   "source": [
    "d = []\n",
    "for p in unpickled_df['parameters ']:\n",
    "    d.append({'Sigma': p[0].get('sigma'), 'mu':p[0].get('mu'),\n",
    "              'd':p[0].get('d'), 'th': p[0].get('th'),\n",
    "              'th0':p[0].get('th0')})\n",
    "decay = []\n",
    "df = pd.DataFrame(d)\n",
    "dec_df = []\n",
    "for id, p in enumerate(unpickled_df['decay']):\n",
    "    dec_df.append(p)\n",
    "df['Decay'] = dec_df\n",
    "df.head(10)"
   ]
  },
  {
   "cell_type": "markdown",
   "metadata": {},
   "source": [
    "## Постичитаем корреляцию между входными признаками th, sigma,mu"
   ]
  },
  {
   "cell_type": "code",
   "execution_count": 12,
   "metadata": {},
   "outputs": [
    {
     "name": "stdout",
     "output_type": "stream",
     "text": [
      "          Sigma        mu   d        th  th0\n",
      "Sigma  1.000000  0.003973 NaN  0.002132  NaN\n",
      "mu     0.003973  1.000000 NaN -0.003228  NaN\n",
      "d           NaN       NaN NaN       NaN  NaN\n",
      "th     0.002132 -0.003228 NaN  1.000000  NaN\n",
      "th0         NaN       NaN NaN       NaN  NaN\n"
     ]
    }
   ],
   "source": [
    "correlations_data = df.corr()\n",
    "print(correlations_data)"
   ]
  },
  {
   "cell_type": "markdown",
   "metadata": {},
   "source": [
    "### Из полученных значений видно, что d и th0 можно убрать из анализируемых данных. Для всех остальных переменных корреляция мала, что говорит о том что эти признаки не избыточны и мы должеы их влючить в анализ"
   ]
  },
  {
   "cell_type": "code",
   "execution_count": 13,
   "metadata": {},
   "outputs": [
    {
     "data": {
      "text/html": [
       "<div>\n",
       "<style scoped>\n",
       "    .dataframe tbody tr th:only-of-type {\n",
       "        vertical-align: middle;\n",
       "    }\n",
       "\n",
       "    .dataframe tbody tr th {\n",
       "        vertical-align: top;\n",
       "    }\n",
       "\n",
       "    .dataframe thead th {\n",
       "        text-align: right;\n",
       "    }\n",
       "</style>\n",
       "<table border=\"1\" class=\"dataframe\">\n",
       "  <thead>\n",
       "    <tr style=\"text-align: right;\">\n",
       "      <th></th>\n",
       "      <th>Sigma</th>\n",
       "      <th>mu</th>\n",
       "      <th>d</th>\n",
       "      <th>th</th>\n",
       "      <th>th0</th>\n",
       "      <th>Decay</th>\n",
       "      <th>Outside_D_Fact</th>\n",
       "    </tr>\n",
       "  </thead>\n",
       "  <tbody>\n",
       "    <tr>\n",
       "      <th>0</th>\n",
       "      <td>1.435169e+06</td>\n",
       "      <td>89.058310</td>\n",
       "      <td>89</td>\n",
       "      <td>2.816337</td>\n",
       "      <td>6.5</td>\n",
       "      <td>[0.20414764740139812, 0.19512088018885956, 0.1...</td>\n",
       "      <td>81.632675</td>\n",
       "    </tr>\n",
       "    <tr>\n",
       "      <th>1</th>\n",
       "      <td>6.273820e+06</td>\n",
       "      <td>76.429634</td>\n",
       "      <td>89</td>\n",
       "      <td>9.039558</td>\n",
       "      <td>6.5</td>\n",
       "      <td>[0.1853657500837078, 0.17325324056605024, 0.16...</td>\n",
       "      <td>94.079116</td>\n",
       "    </tr>\n",
       "    <tr>\n",
       "      <th>2</th>\n",
       "      <td>1.185610e+06</td>\n",
       "      <td>145.775506</td>\n",
       "      <td>89</td>\n",
       "      <td>3.942288</td>\n",
       "      <td>6.5</td>\n",
       "      <td>[0.20965104452381175, 0.20151618304390082, 0.1...</td>\n",
       "      <td>83.884577</td>\n",
       "    </tr>\n",
       "    <tr>\n",
       "      <th>3</th>\n",
       "      <td>6.143424e+06</td>\n",
       "      <td>71.415157</td>\n",
       "      <td>89</td>\n",
       "      <td>7.672864</td>\n",
       "      <td>6.5</td>\n",
       "      <td>[0.185046111522035, 0.1727535353636631, 0.1607...</td>\n",
       "      <td>91.345728</td>\n",
       "    </tr>\n",
       "    <tr>\n",
       "      <th>4</th>\n",
       "      <td>6.366541e+06</td>\n",
       "      <td>132.191462</td>\n",
       "      <td>89</td>\n",
       "      <td>4.341253</td>\n",
       "      <td>6.5</td>\n",
       "      <td>[0.19235541864543546, 0.18131712610011289, 0.1...</td>\n",
       "      <td>84.682505</td>\n",
       "    </tr>\n",
       "  </tbody>\n",
       "</table>\n",
       "</div>"
      ],
      "text/plain": [
       "          Sigma          mu   d        th  th0  \\\n",
       "0  1.435169e+06   89.058310  89  2.816337  6.5   \n",
       "1  6.273820e+06   76.429634  89  9.039558  6.5   \n",
       "2  1.185610e+06  145.775506  89  3.942288  6.5   \n",
       "3  6.143424e+06   71.415157  89  7.672864  6.5   \n",
       "4  6.366541e+06  132.191462  89  4.341253  6.5   \n",
       "\n",
       "                                               Decay  Outside_D_Fact  \n",
       "0  [0.20414764740139812, 0.19512088018885956, 0.1...       81.632675  \n",
       "1  [0.1853657500837078, 0.17325324056605024, 0.16...       94.079116  \n",
       "2  [0.20965104452381175, 0.20151618304390082, 0.1...       83.884577  \n",
       "3  [0.185046111522035, 0.1727535353636631, 0.1607...       91.345728  \n",
       "4  [0.19235541864543546, 0.18131712610011289, 0.1...       84.682505  "
      ]
     },
     "execution_count": 13,
     "metadata": {},
     "output_type": "execute_result"
    }
   ],
   "source": [
    "tmp_data = pd.DataFrame()\n",
    "tmp_data = df\n",
    "tmp_data['Outside_D_Fact'] = tmp_data['d'] - 2 * tmp_data['th0'] + 2 * tmp_data['th']\n",
    "#del data['d']\n",
    "#del data ['th0']\n",
    "tmp_data.head()"
   ]
  },
  {
   "cell_type": "markdown",
   "metadata": {},
   "source": [
    "## Муфты уберем из анализа  по принципу больше фактического диаметра- муфта (либо сделать для них отдельный анализ?)"
   ]
  },
  {
   "cell_type": "code",
   "execution_count": 14,
   "metadata": {},
   "outputs": [
    {
     "data": {
      "text/html": [
       "<div>\n",
       "<style scoped>\n",
       "    .dataframe tbody tr th:only-of-type {\n",
       "        vertical-align: middle;\n",
       "    }\n",
       "\n",
       "    .dataframe tbody tr th {\n",
       "        vertical-align: top;\n",
       "    }\n",
       "\n",
       "    .dataframe thead th {\n",
       "        text-align: right;\n",
       "    }\n",
       "</style>\n",
       "<table border=\"1\" class=\"dataframe\">\n",
       "  <thead>\n",
       "    <tr style=\"text-align: right;\">\n",
       "      <th></th>\n",
       "      <th>Sigma</th>\n",
       "      <th>mu</th>\n",
       "      <th>d</th>\n",
       "      <th>th</th>\n",
       "      <th>th0</th>\n",
       "      <th>Decay</th>\n",
       "      <th>Outside_D_Fact</th>\n",
       "    </tr>\n",
       "  </thead>\n",
       "  <tbody>\n",
       "    <tr>\n",
       "      <th>0</th>\n",
       "      <td>1.435169e+06</td>\n",
       "      <td>89.058310</td>\n",
       "      <td>89</td>\n",
       "      <td>2.816337</td>\n",
       "      <td>6.5</td>\n",
       "      <td>[0.20414764740139812, 0.19512088018885956, 0.1...</td>\n",
       "      <td>81.632675</td>\n",
       "    </tr>\n",
       "    <tr>\n",
       "      <th>2</th>\n",
       "      <td>1.185610e+06</td>\n",
       "      <td>145.775506</td>\n",
       "      <td>89</td>\n",
       "      <td>3.942288</td>\n",
       "      <td>6.5</td>\n",
       "      <td>[0.20965104452381175, 0.20151618304390082, 0.1...</td>\n",
       "      <td>83.884577</td>\n",
       "    </tr>\n",
       "    <tr>\n",
       "      <th>4</th>\n",
       "      <td>6.366541e+06</td>\n",
       "      <td>132.191462</td>\n",
       "      <td>89</td>\n",
       "      <td>4.341253</td>\n",
       "      <td>6.5</td>\n",
       "      <td>[0.19235541864543546, 0.18131712610011289, 0.1...</td>\n",
       "      <td>84.682505</td>\n",
       "    </tr>\n",
       "    <tr>\n",
       "      <th>5</th>\n",
       "      <td>2.202663e+06</td>\n",
       "      <td>67.409757</td>\n",
       "      <td>89</td>\n",
       "      <td>3.684940</td>\n",
       "      <td>6.5</td>\n",
       "      <td>[0.19707648324855812, 0.18683864905413106, 0.1...</td>\n",
       "      <td>83.369880</td>\n",
       "    </tr>\n",
       "    <tr>\n",
       "      <th>6</th>\n",
       "      <td>5.452385e+06</td>\n",
       "      <td>58.463764</td>\n",
       "      <td>89</td>\n",
       "      <td>4.742516</td>\n",
       "      <td>6.5</td>\n",
       "      <td>[0.18438771577303842, 0.17182722376412168, 0.1...</td>\n",
       "      <td>85.485033</td>\n",
       "    </tr>\n",
       "  </tbody>\n",
       "</table>\n",
       "</div>"
      ],
      "text/plain": [
       "          Sigma          mu   d        th  th0  \\\n",
       "0  1.435169e+06   89.058310  89  2.816337  6.5   \n",
       "2  1.185610e+06  145.775506  89  3.942288  6.5   \n",
       "4  6.366541e+06  132.191462  89  4.341253  6.5   \n",
       "5  2.202663e+06   67.409757  89  3.684940  6.5   \n",
       "6  5.452385e+06   58.463764  89  4.742516  6.5   \n",
       "\n",
       "                                               Decay  Outside_D_Fact  \n",
       "0  [0.20414764740139812, 0.19512088018885956, 0.1...       81.632675  \n",
       "2  [0.20965104452381175, 0.20151618304390082, 0.1...       83.884577  \n",
       "4  [0.19235541864543546, 0.18131712610011289, 0.1...       84.682505  \n",
       "5  [0.19707648324855812, 0.18683864905413106, 0.1...       83.369880  \n",
       "6  [0.18438771577303842, 0.17182722376412168, 0.1...       85.485033  "
      ]
     },
     "execution_count": 14,
     "metadata": {},
     "output_type": "execute_result"
    }
   ],
   "source": [
    "tmp_data = tmp_data.loc[tmp_data['d'] > tmp_data['Outside_D_Fact']]\n",
    "tmp_data.head()"
   ]
  },
  {
   "cell_type": "markdown",
   "metadata": {},
   "source": [
    "## Разобьем выборку случайным образом на пары и переобозначим входные входные данные на th1, th 2, sigma 1, sigma 2, mu 1, mu 2, а также посчитаем loss между этими двумя значениями и добавим этот параметр вместо Decay. Параметр loss мы как раз и хотим научиться предсказывать"
   ]
  },
  {
   "cell_type": "code",
   "execution_count": 15,
   "metadata": {},
   "outputs": [
    {
     "data": {
      "text/html": [
       "<div>\n",
       "<style scoped>\n",
       "    .dataframe tbody tr th:only-of-type {\n",
       "        vertical-align: middle;\n",
       "    }\n",
       "\n",
       "    .dataframe tbody tr th {\n",
       "        vertical-align: top;\n",
       "    }\n",
       "\n",
       "    .dataframe thead th {\n",
       "        text-align: right;\n",
       "    }\n",
       "</style>\n",
       "<table border=\"1\" class=\"dataframe\">\n",
       "  <thead>\n",
       "    <tr style=\"text-align: right;\">\n",
       "      <th></th>\n",
       "      <th>Sigma</th>\n",
       "      <th>mu</th>\n",
       "      <th>d</th>\n",
       "      <th>th</th>\n",
       "      <th>th0</th>\n",
       "      <th>Decay</th>\n",
       "      <th>Outside_D_Fact</th>\n",
       "    </tr>\n",
       "  </thead>\n",
       "  <tbody>\n",
       "    <tr>\n",
       "      <th>0</th>\n",
       "      <td>1.435169e+06</td>\n",
       "      <td>89.058310</td>\n",
       "      <td>89</td>\n",
       "      <td>2.816337</td>\n",
       "      <td>6.5</td>\n",
       "      <td>[0.20414764740139812, 0.19512088018885956, 0.1...</td>\n",
       "      <td>81.632675</td>\n",
       "    </tr>\n",
       "    <tr>\n",
       "      <th>2</th>\n",
       "      <td>1.185610e+06</td>\n",
       "      <td>145.775506</td>\n",
       "      <td>89</td>\n",
       "      <td>3.942288</td>\n",
       "      <td>6.5</td>\n",
       "      <td>[0.20965104452381175, 0.20151618304390082, 0.1...</td>\n",
       "      <td>83.884577</td>\n",
       "    </tr>\n",
       "    <tr>\n",
       "      <th>4</th>\n",
       "      <td>6.366541e+06</td>\n",
       "      <td>132.191462</td>\n",
       "      <td>89</td>\n",
       "      <td>4.341253</td>\n",
       "      <td>6.5</td>\n",
       "      <td>[0.19235541864543546, 0.18131712610011289, 0.1...</td>\n",
       "      <td>84.682505</td>\n",
       "    </tr>\n",
       "    <tr>\n",
       "      <th>5</th>\n",
       "      <td>2.202663e+06</td>\n",
       "      <td>67.409757</td>\n",
       "      <td>89</td>\n",
       "      <td>3.684940</td>\n",
       "      <td>6.5</td>\n",
       "      <td>[0.19707648324855812, 0.18683864905413106, 0.1...</td>\n",
       "      <td>83.369880</td>\n",
       "    </tr>\n",
       "    <tr>\n",
       "      <th>6</th>\n",
       "      <td>5.452385e+06</td>\n",
       "      <td>58.463764</td>\n",
       "      <td>89</td>\n",
       "      <td>4.742516</td>\n",
       "      <td>6.5</td>\n",
       "      <td>[0.18438771577303842, 0.17182722376412168, 0.1...</td>\n",
       "      <td>85.485033</td>\n",
       "    </tr>\n",
       "  </tbody>\n",
       "</table>\n",
       "</div>"
      ],
      "text/plain": [
       "          Sigma          mu   d        th  th0  \\\n",
       "0  1.435169e+06   89.058310  89  2.816337  6.5   \n",
       "2  1.185610e+06  145.775506  89  3.942288  6.5   \n",
       "4  6.366541e+06  132.191462  89  4.341253  6.5   \n",
       "5  2.202663e+06   67.409757  89  3.684940  6.5   \n",
       "6  5.452385e+06   58.463764  89  4.742516  6.5   \n",
       "\n",
       "                                               Decay  Outside_D_Fact  \n",
       "0  [0.20414764740139812, 0.19512088018885956, 0.1...       81.632675  \n",
       "2  [0.20965104452381175, 0.20151618304390082, 0.1...       83.884577  \n",
       "4  [0.19235541864543546, 0.18131712610011289, 0.1...       84.682505  \n",
       "5  [0.19707648324855812, 0.18683864905413106, 0.1...       83.369880  \n",
       "6  [0.18438771577303842, 0.17182722376412168, 0.1...       85.485033  "
      ]
     },
     "execution_count": 15,
     "metadata": {},
     "output_type": "execute_result"
    }
   ],
   "source": [
    "tmp_data.head()"
   ]
  },
  {
   "cell_type": "code",
   "execution_count": 16,
   "metadata": {},
   "outputs": [
    {
     "data": {
      "text/html": [
       "<div>\n",
       "<style scoped>\n",
       "    .dataframe tbody tr th:only-of-type {\n",
       "        vertical-align: middle;\n",
       "    }\n",
       "\n",
       "    .dataframe tbody tr th {\n",
       "        vertical-align: top;\n",
       "    }\n",
       "\n",
       "    .dataframe thead th {\n",
       "        text-align: right;\n",
       "    }\n",
       "</style>\n",
       "<table border=\"1\" class=\"dataframe\">\n",
       "  <thead>\n",
       "    <tr style=\"text-align: right;\">\n",
       "      <th></th>\n",
       "      <th>Sigma1</th>\n",
       "      <th>Sigma2</th>\n",
       "      <th>mu1</th>\n",
       "      <th>mu2</th>\n",
       "      <th>th1</th>\n",
       "      <th>th2</th>\n",
       "      <th>loss</th>\n",
       "    </tr>\n",
       "  </thead>\n",
       "  <tbody>\n",
       "    <tr>\n",
       "      <th>0</th>\n",
       "      <td>6.724220e+06</td>\n",
       "      <td>7.690418e+06</td>\n",
       "      <td>104.549009</td>\n",
       "      <td>43.948914</td>\n",
       "      <td>6.007566</td>\n",
       "      <td>4.203833</td>\n",
       "      <td>0.001381</td>\n",
       "    </tr>\n",
       "    <tr>\n",
       "      <th>1</th>\n",
       "      <td>8.967144e+06</td>\n",
       "      <td>3.752431e+06</td>\n",
       "      <td>11.511362</td>\n",
       "      <td>89.560025</td>\n",
       "      <td>6.147377</td>\n",
       "      <td>3.815972</td>\n",
       "      <td>0.001572</td>\n",
       "    </tr>\n",
       "    <tr>\n",
       "      <th>2</th>\n",
       "      <td>4.157619e+06</td>\n",
       "      <td>1.471843e+06</td>\n",
       "      <td>90.126926</td>\n",
       "      <td>139.527700</td>\n",
       "      <td>1.766654</td>\n",
       "      <td>2.443318</td>\n",
       "      <td>0.000462</td>\n",
       "    </tr>\n",
       "    <tr>\n",
       "      <th>3</th>\n",
       "      <td>8.577943e+06</td>\n",
       "      <td>8.864779e+06</td>\n",
       "      <td>130.190087</td>\n",
       "      <td>73.556380</td>\n",
       "      <td>6.048291</td>\n",
       "      <td>1.322706</td>\n",
       "      <td>0.001577</td>\n",
       "    </tr>\n",
       "    <tr>\n",
       "      <th>4</th>\n",
       "      <td>6.043406e+06</td>\n",
       "      <td>5.248548e+06</td>\n",
       "      <td>79.079288</td>\n",
       "      <td>98.303813</td>\n",
       "      <td>4.912651</td>\n",
       "      <td>4.062756</td>\n",
       "      <td>0.001323</td>\n",
       "    </tr>\n",
       "  </tbody>\n",
       "</table>\n",
       "</div>"
      ],
      "text/plain": [
       "         Sigma1        Sigma2         mu1         mu2       th1       th2  \\\n",
       "0  6.724220e+06  7.690418e+06  104.549009   43.948914  6.007566  4.203833   \n",
       "1  8.967144e+06  3.752431e+06   11.511362   89.560025  6.147377  3.815972   \n",
       "2  4.157619e+06  1.471843e+06   90.126926  139.527700  1.766654  2.443318   \n",
       "3  8.577943e+06  8.864779e+06  130.190087   73.556380  6.048291  1.322706   \n",
       "4  6.043406e+06  5.248548e+06   79.079288   98.303813  4.912651  4.062756   \n",
       "\n",
       "       loss  \n",
       "0  0.001381  \n",
       "1  0.001572  \n",
       "2  0.000462  \n",
       "3  0.001577  \n",
       "4  0.001323  "
      ]
     },
     "execution_count": 16,
     "metadata": {},
     "output_type": "execute_result"
    }
   ],
   "source": [
    "d = []\n",
    "while(len(tmp_data) >= 1):\n",
    "    kek = tmp_data.sample(2)\n",
    "    d.append({'Sigma1': kek.get('Sigma').iloc[0],\n",
    "              'Sigma2': kek.get('Sigma').iloc[1],\n",
    "              'mu1':kek.get('mu').iloc[0],\n",
    "              'mu2':kek.get('mu').iloc[1],\n",
    "              'th1':kek.get('th').iloc[0],\n",
    "              'th2':kek.get('th').iloc[1],\n",
    "              'loss':weighted_mse(np.array(kek.get('Decay').iloc[0]),np.array(kek.get('Decay').iloc[1]),t)[0]})\n",
    "    tmp_data = tmp_data.drop(index=kek.index[0])\n",
    "    tmp_data = tmp_data.drop(index=kek.index[1])\n",
    "data = pd.DataFrame(d)\n",
    "data.head()"
   ]
  },
  {
   "cell_type": "code",
   "execution_count": 27,
   "metadata": {},
   "outputs": [
    {
     "data": {
      "text/plain": [
       "0        1.380781e-03\n",
       "1        1.572329e-03\n",
       "2        4.624804e-04\n",
       "3        1.576625e-03\n",
       "4        1.322807e-03\n",
       "             ...     \n",
       "19821    6.051853e-04\n",
       "19822    7.006766e+10\n",
       "19823    1.572280e-03\n",
       "19824    1.132783e-04\n",
       "19825    1.595152e-03\n",
       "Name: loss, Length: 19826, dtype: float64"
      ]
     },
     "execution_count": 27,
     "metadata": {},
     "output_type": "execute_result"
    }
   ],
   "source": [
    "data['loss']"
   ]
  },
  {
   "cell_type": "markdown",
   "metadata": {},
   "source": [
    "## Для обучения используем 70% данных, для тестирования 30%"
   ]
  },
  {
   "cell_type": "code",
   "execution_count": 36,
   "metadata": {},
   "outputs": [],
   "source": [
    "X_train, X_test, y_train, y_test = train_test_split(data[['Sigma1','Sigma2','mu1','mu2','th1', 'th2']],\n",
    "                                                    data['loss'], test_size=0.3, random_state=42)\n",
    "def mae(y_true, y_pred):\n",
    "    return np.mean(abs(y_true - y_pred))\n",
    "\n",
    "#baseline_guess = np.median(y_train)\n",
    "#print('The baseline guess is a score of %0.2f' % baseline_guess)\n",
    "#print(\"Baseline Performance on the test set: MAE = %0.4f\" % mae(y_test, baseline_guess))\n",
    "#print (y_train)"
   ]
  },
  {
   "cell_type": "markdown",
   "metadata": {},
   "source": [
    "## Выберем модель "
   ]
  },
  {
   "cell_type": "code",
   "execution_count": null,
   "metadata": {},
   "outputs": [],
   "source": []
  }
 ],
 "metadata": {
  "kernelspec": {
   "display_name": "Python 3",
   "language": "python",
   "name": "python3"
  },
  "language_info": {
   "codemirror_mode": {
    "name": "ipython",
    "version": 3
   },
   "file_extension": ".py",
   "mimetype": "text/x-python",
   "name": "python",
   "nbconvert_exporter": "python",
   "pygments_lexer": "ipython3",
   "version": "3.8.5"
  }
 },
 "nbformat": 4,
 "nbformat_minor": 4
}
