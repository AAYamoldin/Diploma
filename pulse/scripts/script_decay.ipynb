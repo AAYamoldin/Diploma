{
 "cells": [
  {
   "cell_type": "code",
   "execution_count": 2,
   "metadata": {},
   "outputs": [
    {
     "name": "stderr",
     "output_type": "stream",
     "text": [
      "2021-02-04 10:53:34 INFO    : multi-lu-coil-modelling, (interface.py      :23  ) - Using cim-triangular solver\n",
      "2021-02-04 10:53:34 INFO    : multi-lu-coil-modelling, (abstractsolver.py :100 ) - Solver validation ... complete\n",
      "2021-02-04 10:53:34 INFO    : multi-lu-coil-modelling, (abstractsolver.py :93  ) - Tubes validation ... complete\n",
      "2021-02-04 10:53:34 INFO    : multi-lu-coil-modelling, (interface.py      :140 ) - Received tubes:[\n",
      "\tTube(id='', d=89.0, th=6.5, th0=6.5, sigma=3000000.0, mu=80.0),]\n",
      "2021-02-04 10:53:34 INFO    : multi-lu-coil-modelling, (interface.py      :144 ) - Mesh loading ... complete\n",
      "2021-02-04 10:53:35 INFO    : multi-lu-coil-modelling, (interface.py      :114 ) - Modelling tool averaging\n",
      "2021-02-04 10:53:35 INFO    : multi-lu-coil-modelling, (interface.py      :172 ) - Done\n"
     ]
    },
    {
     "data": {
      "image/png": "[encoded data removed]",
      "text/plain": [
       "<Figure size 432x288 with 1 Axes>"
      ]
     },
     "metadata": {
      "needs_background": "light"
     },
     "output_type": "display_data"
    }
   ],
   "source": [
    "import numpy as np\n",
    "import matplotlib.pyplot as plt\n",
    "import sys\n",
    "sys.path.insert(0,'../')\n",
    "from common import tool_times\n",
    "from common import well_construction as wc\n",
    "from common.sensor_types import sensors\n",
    "from solvers.solver_cim_py.interface import Solver\n",
    "\n",
    "\n",
    "tubes = [\n",
    "    wc.Tube(d=89., th0=6.5, th=6.5, sigma=3e6, mu=80.),\n",
    "]\n",
    "\n",
    "sensor = sensors.PULSE_3E_2\n",
    "times = tool_times.times[sensor]\n",
    "solver = Solver(sensor, times, tool_averaging=True)\n",
    "\n",
    "\n",
    "if __name__ == '__main__':\n",
    "    output = solver.get_curve(tubes)\n",
    "\n",
    "    plt.figure()\n",
    "    plt.semilogy(1e3 * times, output, 'o-')\n",
    "    plt.ylabel('Signal')\n",
    "    plt.xlabel('time, ms')\n",
    "    plt.show()\n",
    "\n",
    "\n",
    "pass\n"
   ]
  },
  {
   "cell_type": "code",
   "execution_count": null,
   "metadata": {},
   "outputs": [],
   "source": []
  }
 ],
 "metadata": {
  "kernelspec": {
   "display_name": "Python 3",
   "language": "python",
   "name": "python3"
  },
  "language_info": {
   "codemirror_mode": {
    "name": "ipython",
    "version": 3
   },
   "file_extension": ".py",
   "mimetype": "text/x-python",
   "name": "python",
   "nbconvert_exporter": "python",
   "pygments_lexer": "ipython3",
   "version": "3.8.5"
  }
 },
 "nbformat": 4,
 "nbformat_minor": 4
}
