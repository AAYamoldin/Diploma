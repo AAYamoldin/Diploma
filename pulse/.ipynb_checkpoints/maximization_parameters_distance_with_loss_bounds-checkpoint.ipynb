{
 "cells": [
  {
   "cell_type": "code",
   "execution_count": 10,
   "metadata": {},
   "outputs": [
    {
     "data": {
      "text/plain": [
       "Net(\n",
       "  (fc1): Linear(in_features=6, out_features=64, bias=True)\n",
       "  (fc2): Linear(in_features=64, out_features=64, bias=True)\n",
       "  (fc3): Linear(in_features=64, out_features=64, bias=True)\n",
       "  (fc4): Linear(in_features=64, out_features=64, bias=True)\n",
       "  (fc5): Linear(in_features=64, out_features=1, bias=True)\n",
       ")"
      ]
     },
     "execution_count": 10,
     "metadata": {},
     "output_type": "execute_result"
    }
   ],
   "source": [
    "import torch\n",
    "import plotly\n",
    "import plotly.graph_objs as go\n",
    "import plotly.graph_objects as go\n",
    "import plotly.express as px\n",
    "from plotly.subplots import make_subplots\n",
    "import matplotlib.pyplot as plt\n",
    "from mpl_toolkits.mplot3d import Axes3D\n",
    "from matplotlib import cm\n",
    "import numpy as np\n",
    "import pandas as pd\n",
    "import torch.nn as nn\n",
    "import torch.nn.functional as F\n",
    "from typing import Tuple\n",
    "import torch\n",
    "import torch.optim as optim\n",
    "from model import Net\n",
    "model = torch.load('model_weights/modelentire.pth')\n",
    "model.load_state_dict(torch.load('model_weights/model.pth'))\n",
    "loss_function = nn.MSELoss()\n",
    "model.eval()"
   ]
  },
  {
   "cell_type": "code",
   "execution_count": 2,
   "metadata": {},
   "outputs": [],
   "source": [
    "def weighted_mse(u_exp: np.ndarray, u: np.ndarray, time: np.ndarray, eps: float = + 10 ** (-15)) -> Tuple[np.ndarray, np.ndarray]:\n",
    "    dt = np.diff(time, n=1, axis=0)\n",
    "    dt = np.append(dt, dt[-1])\n",
    "    amplitude = np.dot(dt, u * u_exp) / np.dot(dt, u ** 2)\n",
    "    e = (u_exp - amplitude * u) / (u_exp + eps) * dt\n",
    "    \n",
    "    loss = np.dot(e, e)\n",
    "#     if (np.log(loss) == math.inf):\n",
    "#         print('u_exp\\n', u_exp)\n",
    "#         print('u\\n', u)\n",
    "#         print('amplitude = ', amplitude)\n",
    "#         print ('loss = ', loss)\n",
    "#         sys.exit()\n",
    "    return loss, amplitude, e\n",
    "\n",
    "\n",
    "\n",
    "t = 1e-3 * np.array([\n",
    "    0.135, 0.180, 0.235, 0.315, 0.365, 0.420,\n",
    "    0.485, 0.560, 0.650, 0.750, 0.865, 1.000,\n",
    "    1.155, 1.335, 1.540, 1.780, 2.055, 2.370,\n",
    "    2.740, 3.160, 3.650, 4.215, 4.870, 5.625,\n",
    "    6.495, 7.500, 8.660, 10.00, 11.55, 13.34,\n",
    "    15.40, 17.79, 20.54, 23.72, 27.39, 31.63,\n",
    "    36.52, 42.17, 48.70, 56.24, 64.94, 74.99,\n",
    "    86.60, 100.0, 115.5, 133.4\n",
    "])"
   ]
  },
  {
   "cell_type": "code",
   "execution_count": 3,
   "metadata": {},
   "outputs": [
    {
     "data": {
      "text/html": [
       "<div>\n",
       "<style scoped>\n",
       "    .dataframe tbody tr th:only-of-type {\n",
       "        vertical-align: middle;\n",
       "    }\n",
       "\n",
       "    .dataframe tbody tr th {\n",
       "        vertical-align: top;\n",
       "    }\n",
       "\n",
       "    .dataframe thead th {\n",
       "        text-align: right;\n",
       "    }\n",
       "</style>\n",
       "<table border=\"1\" class=\"dataframe\">\n",
       "  <thead>\n",
       "    <tr style=\"text-align: right;\">\n",
       "      <th></th>\n",
       "      <th>Sigma</th>\n",
       "      <th>mu</th>\n",
       "      <th>d</th>\n",
       "      <th>th</th>\n",
       "      <th>th0</th>\n",
       "      <th>Decay</th>\n",
       "    </tr>\n",
       "  </thead>\n",
       "  <tbody>\n",
       "    <tr>\n",
       "      <th>19628</th>\n",
       "      <td>-1.271194</td>\n",
       "      <td>-0.747548</td>\n",
       "      <td>0.0</td>\n",
       "      <td>-1.085085</td>\n",
       "      <td>0.0</td>\n",
       "      <td>[0.19375629692752577, 0.18294351872284478, 0.1...</td>\n",
       "    </tr>\n",
       "    <tr>\n",
       "      <th>2486</th>\n",
       "      <td>-0.522897</td>\n",
       "      <td>0.229992</td>\n",
       "      <td>0.0</td>\n",
       "      <td>-0.732977</td>\n",
       "      <td>0.0</td>\n",
       "      <td>[0.192993357268207, 0.1820247479384618, 0.1711...</td>\n",
       "    </tr>\n",
       "    <tr>\n",
       "      <th>64883</th>\n",
       "      <td>1.436271</td>\n",
       "      <td>-0.737692</td>\n",
       "      <td>0.0</td>\n",
       "      <td>0.091825</td>\n",
       "      <td>0.0</td>\n",
       "      <td>[0.1752133606610032, 0.16091191549296152, 0.14...</td>\n",
       "    </tr>\n",
       "    <tr>\n",
       "      <th>10027</th>\n",
       "      <td>1.629299</td>\n",
       "      <td>1.329376</td>\n",
       "      <td>0.0</td>\n",
       "      <td>-1.526841</td>\n",
       "      <td>0.0</td>\n",
       "      <td>[0.18759459262951242, 0.17560025481240513, 0.1...</td>\n",
       "    </tr>\n",
       "    <tr>\n",
       "      <th>51126</th>\n",
       "      <td>0.423736</td>\n",
       "      <td>-0.777624</td>\n",
       "      <td>0.0</td>\n",
       "      <td>-0.247653</td>\n",
       "      <td>0.0</td>\n",
       "      <td>[0.17945400597800243, 0.1659367937378173, 0.15...</td>\n",
       "    </tr>\n",
       "    <tr>\n",
       "      <th>...</th>\n",
       "      <td>...</td>\n",
       "      <td>...</td>\n",
       "      <td>...</td>\n",
       "      <td>...</td>\n",
       "      <td>...</td>\n",
       "      <td>...</td>\n",
       "    </tr>\n",
       "    <tr>\n",
       "      <th>69892</th>\n",
       "      <td>0.814175</td>\n",
       "      <td>0.781662</td>\n",
       "      <td>0.0</td>\n",
       "      <td>-0.878862</td>\n",
       "      <td>0.0</td>\n",
       "      <td>[0.1882601086365116, 0.17643418646482018, 0.16...</td>\n",
       "    </tr>\n",
       "    <tr>\n",
       "      <th>72626</th>\n",
       "      <td>-0.020505</td>\n",
       "      <td>-0.181898</td>\n",
       "      <td>0.0</td>\n",
       "      <td>-0.651101</td>\n",
       "      <td>0.0</td>\n",
       "      <td>[0.18716586487573802, 0.17512817120621807, 0.1...</td>\n",
       "    </tr>\n",
       "    <tr>\n",
       "      <th>17249</th>\n",
       "      <td>0.133407</td>\n",
       "      <td>1.380844</td>\n",
       "      <td>0.0</td>\n",
       "      <td>0.863656</td>\n",
       "      <td>0.0</td>\n",
       "      <td>[0.1928662308439771, 0.18225947646392704, 0.17...</td>\n",
       "    </tr>\n",
       "    <tr>\n",
       "      <th>38159</th>\n",
       "      <td>1.210575</td>\n",
       "      <td>-0.099357</td>\n",
       "      <td>0.0</td>\n",
       "      <td>1.416446</td>\n",
       "      <td>0.0</td>\n",
       "      <td>[0.1803007929163741, 0.16759557921691812, 0.15...</td>\n",
       "    </tr>\n",
       "    <tr>\n",
       "      <th>67661</th>\n",
       "      <td>1.430852</td>\n",
       "      <td>-0.909071</td>\n",
       "      <td>0.0</td>\n",
       "      <td>-1.060979</td>\n",
       "      <td>0.0</td>\n",
       "      <td>[0.17361789585296816, 0.15884240040603975, 0.1...</td>\n",
       "    </tr>\n",
       "  </tbody>\n",
       "</table>\n",
       "<p>75200 rows × 6 columns</p>\n",
       "</div>"
      ],
      "text/plain": [
       "          Sigma        mu    d        th  th0  \\\n",
       "19628 -1.271194 -0.747548  0.0 -1.085085  0.0   \n",
       "2486  -0.522897  0.229992  0.0 -0.732977  0.0   \n",
       "64883  1.436271 -0.737692  0.0  0.091825  0.0   \n",
       "10027  1.629299  1.329376  0.0 -1.526841  0.0   \n",
       "51126  0.423736 -0.777624  0.0 -0.247653  0.0   \n",
       "...         ...       ...  ...       ...  ...   \n",
       "69892  0.814175  0.781662  0.0 -0.878862  0.0   \n",
       "72626 -0.020505 -0.181898  0.0 -0.651101  0.0   \n",
       "17249  0.133407  1.380844  0.0  0.863656  0.0   \n",
       "38159  1.210575 -0.099357  0.0  1.416446  0.0   \n",
       "67661  1.430852 -0.909071  0.0 -1.060979  0.0   \n",
       "\n",
       "                                                   Decay  \n",
       "19628  [0.19375629692752577, 0.18294351872284478, 0.1...  \n",
       "2486   [0.192993357268207, 0.1820247479384618, 0.1711...  \n",
       "64883  [0.1752133606610032, 0.16091191549296152, 0.14...  \n",
       "10027  [0.18759459262951242, 0.17560025481240513, 0.1...  \n",
       "51126  [0.17945400597800243, 0.1659367937378173, 0.15...  \n",
       "...                                                  ...  \n",
       "69892  [0.1882601086365116, 0.17643418646482018, 0.16...  \n",
       "72626  [0.18716586487573802, 0.17512817120621807, 0.1...  \n",
       "17249  [0.1928662308439771, 0.18225947646392704, 0.17...  \n",
       "38159  [0.1803007929163741, 0.16759557921691812, 0.15...  \n",
       "67661  [0.17361789585296816, 0.15884240040603975, 0.1...  \n",
       "\n",
       "[75200 rows x 6 columns]"
      ]
     },
     "execution_count": 3,
     "metadata": {},
     "output_type": "execute_result"
    }
   ],
   "source": [
    "df = pd.read_pickle('Dataset')\n",
    "df"
   ]
  },
  {
   "cell_type": "code",
   "execution_count": 35,
   "metadata": {},
   "outputs": [
    {
     "name": "stdout",
     "output_type": "stream",
     "text": [
      "1000\n"
     ]
    }
   ],
   "source": [
    "# i = 0\n",
    "# graph_df = df.iloc[0:1000]\n",
    "# fix_str = graph_df.sample(1)\n",
    "# #fix_vector = np.array([fix_str.get('Sigma').iloc[0], fix_str.get('mu').iloc[0], fix_str.get('th').iloc[0]])\n",
    "# x = np.array([])\n",
    "# y = np.array([])\n",
    "# z = np.array([])\n",
    "# r = np.array([])\n",
    "# for _,row in graph_df.iterrows():\n",
    "#     norm_2d = np.linalg.norm([fix_str.get('Sigma').iloc[0] - row['Sigma'],\n",
    "#                             fix_str.get('mu').iloc[0] - row['mu'],\n",
    "#                               fix_str.get('th').iloc[0] - row['th']])\n",
    "#     #the_point = [row['Sigma'],row['mu'],row['th'],norm_2d]\n",
    "#     #data_for_plotting.append(the_point)\n",
    "#     x = np.append(x,row.get('Sigma'))\n",
    "#     y = np.append(y, row.get('mu'))\n",
    "#     z = np.append(z, row.get('th'))\n",
    "#     r = np.append(r,norm_2d)\n",
    "# print(len(x))"
   ]
  },
  {
   "cell_type": "code",
   "execution_count": 41,
   "metadata": {},
   "outputs": [],
   "source": [
    "# x = x\n",
    "# X,Y = np.meshgrid(x,y)\n",
    "# Z,Y = np.meshgrid(z,y)\n",
    "# V = np.sin(r)\n",
    "# fig = plt.figure()\n",
    "# ax = fig.add_subplot(111, projection='3d')\n",
    "# #ax.view_init(45,60)\n",
    "# ax.plot_surface(X, Y, Z, facecolors=cm.Oranges(V))"
   ]
  },
  {
   "cell_type": "code",
   "execution_count": 413,
   "metadata": {},
   "outputs": [
    {
     "name": "stdout",
     "output_type": "stream",
     "text": [
      "cpu\n",
      "одинаковые параметры loss =  0.00015044061624062795\n",
      "одинаковые параметры l2_norm = 0.0\n",
      "одинаковые параметры minim =  0.00015044061624062795\n"
     ]
    }
   ],
   "source": [
    "def get_device():\n",
    "    if torch.cuda.is_available():\n",
    "        device = torch.device('cuda:0')\n",
    "    else:\n",
    "        device = torch.device('cpu') # don't have GPU \n",
    "    return device\n",
    "\n",
    "device = get_device()\n",
    "net = model.double().to(device)\n",
    "\n",
    "# def appending_to_tensor(tensor, fix_vector, variable_vector):\n",
    "#     tmp_tensor = torch.tensor([rand_2_strs.get('Sigma').iloc[0],rand_2_strs.get('Sigma').iloc[1],\n",
    "#                                rand_2_strs.get('mu').iloc[0],rand_2_strs.get('mu').iloc[1],\n",
    "#                                rand_2_strs.get('th').iloc[0],rand_2_strs.get('th').iloc[1],\n",
    "#                                np.log(weighted_mse(np.array(rand_2_strs.get('Decay').iloc[0]),np.array(rand_2_strs.get('Decay').iloc[1]),t)[0])])\n",
    "#     tmp_tensor = torch.unsqueeze(tmp_tensor, 0)\n",
    "#     tmp_tensor = torch.cat((tensor,tmp_tensor),0)\n",
    "#     return(tmp_tensor)\n",
    "\n",
    "def mean_absolute_percentage_error(y_pred, y_true, eps=10**(-2)): \n",
    "    return abs(torch.mean(((y_true-y_pred))/(y_true + eps)))*100\n",
    "\n",
    "\n",
    "# def create_batches_to_device(df, device, num_fix_string,batch_size=1):\n",
    "#     tensor = torch.tensor([])\n",
    "#     fix_vector = \n",
    "#     variable_vector = \n",
    "#     tensor = appending_to_tensor(tensor, rand_train_str)\n",
    "#     tensor = tensor.to(device)\n",
    "#     trainset = torch.utils.data.DataLoader(tensor, batch_size=batch_size, shuffle=True)\n",
    "#     return (trainset)\n",
    "print(device)\n",
    "\n",
    "\n",
    "def l2_norm(variable_vector):\n",
    "    return np.linalg.norm([fix_vector.get('Sigma').iloc[0] - variable_vector[0],\n",
    "                          fix_vector.get('mu').iloc[0] - variable_vector[1],\n",
    "                          fix_vector.get('th').iloc[0] - variable_vector[2]])\n",
    "\n",
    "def L(variable_vector):\n",
    "    tensor = torch.tensor([fix_vector.get('Sigma').iloc[0],variable_vector[0],\n",
    "                           fix_vector.get('mu').iloc[0],variable_vector[1],\n",
    "                           fix_vector.get('th').iloc[0],variable_vector[2]])\n",
    "    tensor = tensor.to(device)\n",
    "    #print(tensor)\n",
    "    #data_batch = torch.utils.data.DataLoader(tensor, batch_size=1, shuffle=False)\n",
    "    #print(data_batch)\n",
    "#     for data in data_batch:\n",
    "#         X = data\n",
    "#         print(X)\n",
    "#         output = net(X.double())\n",
    "#         print (output)\n",
    "    output = net(tensor.double())\n",
    "    #print (output.item())\n",
    "    return (np.exp(output.item()))\n",
    "\n",
    "constant = 1\n",
    "\n",
    "def minimization_func(variable_vector):\n",
    "    #variable_vector = [Sigma2, mu2, th2]\n",
    "    return (-1 * l2_norm(variable_vector) + constant * L(variable_vector) )\n",
    "\n",
    "print ('одинаковые параметры loss = ', L([fix_vector.get('Sigma').iloc[0],fix_vector.get('mu').iloc[0],fix_vector.get('th').iloc[0]]))\n",
    "print ('одинаковые параметры l2_norm =', l2_norm([fix_vector.get('Sigma').iloc[0],fix_vector.get('mu').iloc[0],fix_vector.get('th').iloc[0]]))\n",
    "print ('одинаковые параметры minim = ', minimization_func([fix_vector.get('Sigma').iloc[0],fix_vector.get('mu').iloc[0],fix_vector.get('th').iloc[0]]))"
   ]
  },
  {
   "cell_type": "code",
   "execution_count": 527,
   "metadata": {},
   "outputs": [
    {
     "name": "stdout",
     "output_type": "stream",
     "text": [
      "Зафиксировали произвольный вектор из датафрейма с компонентами \n",
      "\n"
     ]
    },
    {
     "data": {
      "text/html": [
       "<div>\n",
       "<style scoped>\n",
       "    .dataframe tbody tr th:only-of-type {\n",
       "        vertical-align: middle;\n",
       "    }\n",
       "\n",
       "    .dataframe tbody tr th {\n",
       "        vertical-align: top;\n",
       "    }\n",
       "\n",
       "    .dataframe thead th {\n",
       "        text-align: right;\n",
       "    }\n",
       "</style>\n",
       "<table border=\"1\" class=\"dataframe\">\n",
       "  <thead>\n",
       "    <tr style=\"text-align: right;\">\n",
       "      <th></th>\n",
       "      <th>Sigma</th>\n",
       "      <th>mu</th>\n",
       "      <th>d</th>\n",
       "      <th>th</th>\n",
       "      <th>th0</th>\n",
       "      <th>Decay</th>\n",
       "    </tr>\n",
       "  </thead>\n",
       "  <tbody>\n",
       "    <tr>\n",
       "      <th>9030</th>\n",
       "      <td>-0.809753</td>\n",
       "      <td>-1.56861</td>\n",
       "      <td>0</td>\n",
       "      <td>-0.248755</td>\n",
       "      <td>0</td>\n",
       "      <td>[0.17439216402987712, 0.15983478220067351, 0.1...</td>\n",
       "    </tr>\n",
       "  </tbody>\n",
       "</table>\n",
       "</div>"
      ],
      "text/plain": [
       "         Sigma       mu  d        th th0  \\\n",
       "9030 -0.809753 -1.56861  0 -0.248755   0   \n",
       "\n",
       "                                                  Decay  \n",
       "9030  [0.17439216402987712, 0.15983478220067351, 0.1...  "
      ]
     },
     "execution_count": 527,
     "metadata": {},
     "output_type": "execute_result"
    }
   ],
   "source": [
    "#fix_vector = df.sample(1) временно\n",
    "fix_vector = df.loc[9030]\n",
    "fix_vector = pd.DataFrame(fix_vector).transpose()\n",
    "print ('Зафиксировали произвольный вектор из датафрейма с компонентами \\n')\n",
    "fix_vector"
   ]
  },
  {
   "cell_type": "markdown",
   "metadata": {},
   "source": [
    "### Нахождение границ для оптимизатора с учетом параметров усреднения первоначальной выборки"
   ]
  },
  {
   "cell_type": "code",
   "execution_count": 528,
   "metadata": {},
   "outputs": [
    {
     "name": "stdout",
     "output_type": "stream",
     "text": [
      "[5.49793364e+06 8.00354882e+01 8.90000000e+01 6.18313815e+00\n",
      " 6.50000000e+00]\n",
      "[2.58728391e+06 4.04162034e+01 1.00000000e+00 3.19023924e+00\n",
      " 1.00000000e+00]\n",
      "Sigma lower bound [[-1.73847703]]\n",
      "mu lower bound [[-1.73285668]]\n",
      "th lower bound [[-1.73433048]]\n",
      "Sigma upper bound [[1.74007435]]\n",
      "mu upper bound [[1.73110055]]\n",
      "th upper bound [[1.72929409]]\n"
     ]
    }
   ],
   "source": [
    "means = np.fromfile('means_scaler')\n",
    "print(means)\n",
    "stds = np.fromfile('stds_scaler')\n",
    "print(stds)\n",
    "a = [[stds[0]]]\n",
    "b = [[1e+06-means[0]]]\n",
    "sigma_min = np.linalg.solve(a,b)\n",
    "print('Sigma lower bound',sigma_min)\n",
    "a = [[stds[1]]]\n",
    "b = [[10-means[1]]]\n",
    "mu_min = np.linalg.solve(a,b)\n",
    "print ('mu lower bound', mu_min)\n",
    "a = [[stds[3]]]\n",
    "b = [[0.650209-means[3]]]\n",
    "th_min = np.linalg.solve(a,b)\n",
    "print ('th lower bound', th_min)\n",
    "\n",
    "a = [[stds[0]]]\n",
    "b = [[10e+06-means[0]]]\n",
    "sigma_max = np.linalg.solve(a,b)\n",
    "print('Sigma upper bound',sigma_max)\n",
    "a = [[stds[1]]]\n",
    "b = [[150-means[1]]]\n",
    "mu_max = np.linalg.solve(a,b)\n",
    "print ('mu upper bound', mu_max)\n",
    "a = [[stds[3]]]\n",
    "b = [[11.7-means[3]]]\n",
    "th_max = np.linalg.solve(a,b)\n",
    "print ('th upper bound', th_max)"
   ]
  },
  {
   "cell_type": "markdown",
   "metadata": {},
   "source": [
    "## Минимизация логарифмических величин"
   ]
  },
  {
   "cell_type": "code",
   "execution_count": 542,
   "metadata": {
    "scrolled": true
   },
   "outputs": [
    {
     "name": "stdout",
     "output_type": "stream",
     "text": [
      "Optimization terminated successfully    (Exit mode 0)\n",
      "            Current function value: -2.2804286772740854\n",
      "            Iterations: 12\n",
      "            Function evaluations: 71\n",
      "            Gradient evaluations: 12\n",
      "Start vector [-0.8097534630349149, -1.5686084526495365, -0.24875458646855458]\n",
      "Vector after minimization [-1.46126883  1.73110055 -1.20922668]\n",
      "Function value with start vector 0.7328583265480415\n",
      "How % change loss 4.514900098825052\n",
      "L2 norm with minim vector 3.497864835014197\n"
     ]
    }
   ],
   "source": [
    "constant = 1000\n",
    "from scipy.optimize import minimize\n",
    "x0 = np.array([fix_vector.get('Sigma').iloc[0],fix_vector.get('mu').iloc[0],fix_vector.get('th').iloc[0]])\n",
    "#res = minimize(minimization_func, x0, method='nelder-mead')\n",
    "# res = minimize(minimization_func, x0, method='BFGS',options={'disp': True, 'eps':1e-6, 'gtol':1e1})\n",
    "#res = minimize(minimization_func, x0, method='BFGS',options={'disp': True})\n",
    "#res = minimize(minimization_func, x0, method='CG',options={'disp': True, 'maxiter':100000})\n",
    "#res = minimize(minimization_func, x0, method='powell')\n",
    "res =  minimize(minimization_func, x0, method='SLSQP', bounds=((sigma_min[0][0], sigma_max[0][0]),(mu_min[0][0], mu_max[0][0]),(th_min[0][0],th_max[0][0])),options={'disp': True})\n",
    "#print(res)\n",
    "print ('Start vector', [fix_vector.get('Sigma').iloc[0],fix_vector.get('mu').iloc[0],fix_vector.get('th').iloc[0]])\n",
    "print ('Vector after minimization', res.x)\n",
    "print ('Function value with start vector', minimization_func(x0))\n",
    "print ('How % change loss', mean_absolute_percentage_error(torch.tensor(L(res.x)), torch.tensor(L(x0))).item())\n",
    "print ('L2 norm with minim vector', l2_norm(res.x))"
   ]
  },
  {
   "cell_type": "markdown",
   "metadata": {},
   "source": [
    "## Проверяю нейросеть на сходимостьь"
   ]
  },
  {
   "cell_type": "code",
   "execution_count": 509,
   "metadata": {},
   "outputs": [
    {
     "name": "stdout",
     "output_type": "stream",
     "text": [
      "Loss is 0.017157855027261613\n",
      "Loss is 0.012227208247171543\n",
      "Loss is 0.009077916284112217\n",
      "Loss is 0.006459419488012133\n",
      "Loss is 0.004043312465918588\n",
      "Loss is 0.002492173151506337\n",
      "Loss is 0.0013419683164918657\n",
      "Loss is 0.0006564899268535414\n",
      "Loss is 0.00027265027575578603\n",
      "Loss is 5.5403060777426065e-05\n",
      "Loss is 5.484248134522269e-06\n"
     ]
    }
   ],
   "source": [
    "i = total_iter = 10\n",
    "fix_vector = df.sample(1)\n",
    "while(i >= 0):\n",
    "    variable_vector = [fix_vector.get('Sigma').iloc[0] + (i/total_iter * fix_vector.get('Sigma').iloc[0]) ,fix_vector.get('mu').iloc[0] + (i/total_iter * fix_vector.get('mu').iloc[0]),fix_vector.get('th').iloc[0] + (i/total_iter * fix_vector.get('th').iloc[0])]\n",
    "    print ('Loss is', L(variable_vector))\n",
    "    i -= 1"
   ]
  },
  {
   "cell_type": "code",
   "execution_count": 530,
   "metadata": {},
   "outputs": [
    {
     "data": {
      "text/html": [
       "<div>\n",
       "<style scoped>\n",
       "    .dataframe tbody tr th:only-of-type {\n",
       "        vertical-align: middle;\n",
       "    }\n",
       "\n",
       "    .dataframe tbody tr th {\n",
       "        vertical-align: top;\n",
       "    }\n",
       "\n",
       "    .dataframe thead th {\n",
       "        text-align: right;\n",
       "    }\n",
       "</style>\n",
       "<table border=\"1\" class=\"dataframe\">\n",
       "  <thead>\n",
       "    <tr style=\"text-align: right;\">\n",
       "      <th></th>\n",
       "      <th>Sigma</th>\n",
       "      <th>mu</th>\n",
       "      <th>d</th>\n",
       "      <th>th</th>\n",
       "      <th>th0</th>\n",
       "    </tr>\n",
       "  </thead>\n",
       "  <tbody>\n",
       "    <tr>\n",
       "      <th>9030</th>\n",
       "      <td>3.40287e+06</td>\n",
       "      <td>16.6383</td>\n",
       "      <td>89</td>\n",
       "      <td>5.38955</td>\n",
       "      <td>6.5</td>\n",
       "    </tr>\n",
       "    <tr>\n",
       "      <th>minimize_vector</th>\n",
       "      <td>1.71722e+06</td>\n",
       "      <td>150</td>\n",
       "      <td>89</td>\n",
       "      <td>2.32542</td>\n",
       "      <td>6.5</td>\n",
       "    </tr>\n",
       "  </tbody>\n",
       "</table>\n",
       "</div>"
      ],
      "text/plain": [
       "                       Sigma       mu   d       th  th0\n",
       "9030             3.40287e+06  16.6383  89  5.38955  6.5\n",
       "minimize_vector  1.71722e+06      150  89  2.32542  6.5"
      ]
     },
     "execution_count": 530,
     "metadata": {},
     "output_type": "execute_result"
    }
   ],
   "source": [
    "the_result_vector = fix_vector[['Sigma', 'mu', 'd', 'th', 'th0']].copy()\n",
    "the_result_vector.loc['minimize_vector'] = [res.x[0], res.x[1], 0, res.x[2], 0]\n",
    "the_result_vector = the_result_vector*stds+means\n",
    "the_result_vector.to_pickle('the_result_vectors_to_compare')\n",
    "the_result_vector"
   ]
  },
  {
   "cell_type": "code",
   "execution_count": 531,
   "metadata": {},
   "outputs": [
    {
     "data": {
      "text/plain": [
       "[3402871.538234493,\n",
       " 1717216.3076813752,\n",
       " 16.638289933069103,\n",
       " 149.99999997142905,\n",
       " 5.389551505199457,\n",
       " 2.3254157377472593]"
      ]
     },
     "execution_count": 531,
     "metadata": {},
     "output_type": "execute_result"
    }
   ],
   "source": [
    "[the_result_vector['Sigma'].iloc[0],the_result_vector['Sigma'].iloc[1],the_result_vector['mu'].iloc[0],the_result_vector['mu'].iloc[1],\n",
    " the_result_vector['th'].iloc[0],the_result_vector['th'].iloc[1]]"
   ]
  },
  {
   "cell_type": "markdown",
   "metadata": {},
   "source": [
    "## Отошли от нейронки. Занимаемся минимизацией через модельную функцию"
   ]
  },
  {
   "cell_type": "code",
   "execution_count": 3,
   "metadata": {},
   "outputs": [
    {
     "ename": "OSError",
     "evalue": "/home/alexander/Diploma/solver_/solvers/solver_cim_py/MID/bin/MID2D.dll: invalid ELF header",
     "output_type": "error",
     "traceback": [
      "\u001b[0;31m---------------------------------------------------------------------------\u001b[0m",
      "\u001b[0;31mOSError\u001b[0m                                   Traceback (most recent call last)",
      "\u001b[0;32m~/Diploma/solver_/solvers/solver_cim_py/MID/ll.py\u001b[0m in \u001b[0;36m<module>\u001b[0;34m\u001b[0m\n\u001b[1;32m     14\u001b[0m \u001b[0;32mtry\u001b[0m\u001b[0;34m:\u001b[0m\u001b[0;34m\u001b[0m\u001b[0;34m\u001b[0m\u001b[0m\n\u001b[0;32m---> 15\u001b[0;31m     \u001b[0mmidlib\u001b[0m \u001b[0;34m=\u001b[0m \u001b[0mnpct\u001b[0m\u001b[0;34m.\u001b[0m\u001b[0mload_library\u001b[0m\u001b[0;34m(\u001b[0m\u001b[0;34m'MID2D.dll'\u001b[0m\u001b[0;34m,\u001b[0m \u001b[0mlib_path\u001b[0m\u001b[0;34m)\u001b[0m\u001b[0;34m\u001b[0m\u001b[0;34m\u001b[0m\u001b[0m\n\u001b[0m\u001b[1;32m     16\u001b[0m \u001b[0;32mexcept\u001b[0m \u001b[0mException\u001b[0m\u001b[0;34m:\u001b[0m\u001b[0;34m\u001b[0m\u001b[0;34m\u001b[0m\u001b[0m\n",
      "\u001b[0;32m~/anaconda3/lib/python3.8/site-packages/numpy/ctypeslib.py\u001b[0m in \u001b[0;36mload_library\u001b[0;34m(libname, loader_path)\u001b[0m\n\u001b[1;32m    149\u001b[0m                 \u001b[0;32mtry\u001b[0m\u001b[0;34m:\u001b[0m\u001b[0;34m\u001b[0m\u001b[0;34m\u001b[0m\u001b[0m\n\u001b[0;32m--> 150\u001b[0;31m                     \u001b[0;32mreturn\u001b[0m \u001b[0mctypes\u001b[0m\u001b[0;34m.\u001b[0m\u001b[0mcdll\u001b[0m\u001b[0;34m[\u001b[0m\u001b[0mlibpath\u001b[0m\u001b[0;34m]\u001b[0m\u001b[0;34m\u001b[0m\u001b[0;34m\u001b[0m\u001b[0m\n\u001b[0m\u001b[1;32m    151\u001b[0m                 \u001b[0;32mexcept\u001b[0m \u001b[0mOSError\u001b[0m\u001b[0;34m:\u001b[0m\u001b[0;34m\u001b[0m\u001b[0;34m\u001b[0m\u001b[0m\n",
      "\u001b[0;32m~/anaconda3/lib/python3.8/ctypes/__init__.py\u001b[0m in \u001b[0;36m__getitem__\u001b[0;34m(self, name)\u001b[0m\n\u001b[1;32m    455\u001b[0m     \u001b[0;32mdef\u001b[0m \u001b[0m__getitem__\u001b[0m\u001b[0;34m(\u001b[0m\u001b[0mself\u001b[0m\u001b[0;34m,\u001b[0m \u001b[0mname\u001b[0m\u001b[0;34m)\u001b[0m\u001b[0;34m:\u001b[0m\u001b[0;34m\u001b[0m\u001b[0;34m\u001b[0m\u001b[0m\n\u001b[0;32m--> 456\u001b[0;31m         \u001b[0;32mreturn\u001b[0m \u001b[0mgetattr\u001b[0m\u001b[0;34m(\u001b[0m\u001b[0mself\u001b[0m\u001b[0;34m,\u001b[0m \u001b[0mname\u001b[0m\u001b[0;34m)\u001b[0m\u001b[0;34m\u001b[0m\u001b[0;34m\u001b[0m\u001b[0m\n\u001b[0m\u001b[1;32m    457\u001b[0m \u001b[0;34m\u001b[0m\u001b[0m\n",
      "\u001b[0;32m~/anaconda3/lib/python3.8/ctypes/__init__.py\u001b[0m in \u001b[0;36m__getattr__\u001b[0;34m(self, name)\u001b[0m\n\u001b[1;32m    450\u001b[0m             \u001b[0;32mraise\u001b[0m \u001b[0mAttributeError\u001b[0m\u001b[0;34m(\u001b[0m\u001b[0mname\u001b[0m\u001b[0;34m)\u001b[0m\u001b[0;34m\u001b[0m\u001b[0;34m\u001b[0m\u001b[0m\n\u001b[0;32m--> 451\u001b[0;31m         \u001b[0mdll\u001b[0m \u001b[0;34m=\u001b[0m \u001b[0mself\u001b[0m\u001b[0;34m.\u001b[0m\u001b[0m_dlltype\u001b[0m\u001b[0;34m(\u001b[0m\u001b[0mname\u001b[0m\u001b[0;34m)\u001b[0m\u001b[0;34m\u001b[0m\u001b[0;34m\u001b[0m\u001b[0m\n\u001b[0m\u001b[1;32m    452\u001b[0m         \u001b[0msetattr\u001b[0m\u001b[0;34m(\u001b[0m\u001b[0mself\u001b[0m\u001b[0;34m,\u001b[0m \u001b[0mname\u001b[0m\u001b[0;34m,\u001b[0m \u001b[0mdll\u001b[0m\u001b[0;34m)\u001b[0m\u001b[0;34m\u001b[0m\u001b[0;34m\u001b[0m\u001b[0m\n",
      "\u001b[0;32m~/anaconda3/lib/python3.8/ctypes/__init__.py\u001b[0m in \u001b[0;36m__init__\u001b[0;34m(self, name, mode, handle, use_errno, use_last_error, winmode)\u001b[0m\n\u001b[1;32m    380\u001b[0m         \u001b[0;32mif\u001b[0m \u001b[0mhandle\u001b[0m \u001b[0;32mis\u001b[0m \u001b[0;32mNone\u001b[0m\u001b[0;34m:\u001b[0m\u001b[0;34m\u001b[0m\u001b[0;34m\u001b[0m\u001b[0m\n\u001b[0;32m--> 381\u001b[0;31m             \u001b[0mself\u001b[0m\u001b[0;34m.\u001b[0m\u001b[0m_handle\u001b[0m \u001b[0;34m=\u001b[0m \u001b[0m_dlopen\u001b[0m\u001b[0;34m(\u001b[0m\u001b[0mself\u001b[0m\u001b[0;34m.\u001b[0m\u001b[0m_name\u001b[0m\u001b[0;34m,\u001b[0m \u001b[0mmode\u001b[0m\u001b[0;34m)\u001b[0m\u001b[0;34m\u001b[0m\u001b[0;34m\u001b[0m\u001b[0m\n\u001b[0m\u001b[1;32m    382\u001b[0m         \u001b[0;32melse\u001b[0m\u001b[0;34m:\u001b[0m\u001b[0;34m\u001b[0m\u001b[0;34m\u001b[0m\u001b[0m\n",
      "\u001b[0;31mOSError\u001b[0m: /home/alexander/Diploma/pulse/MID2D.dll: invalid ELF header",
      "\nDuring handling of the above exception, another exception occurred:\n",
      "\u001b[0;31mOSError\u001b[0m                                   Traceback (most recent call last)",
      "\u001b[0;32m<ipython-input-3-2d0f6617eb5b>\u001b[0m in \u001b[0;36m<module>\u001b[0;34m\u001b[0m\n\u001b[1;32m      6\u001b[0m \u001b[0;32mfrom\u001b[0m \u001b[0mcommon\u001b[0m \u001b[0;32mimport\u001b[0m \u001b[0mwell_construction\u001b[0m \u001b[0;32mas\u001b[0m \u001b[0mwc\u001b[0m\u001b[0;34m\u001b[0m\u001b[0;34m\u001b[0m\u001b[0m\n\u001b[1;32m      7\u001b[0m \u001b[0;32mfrom\u001b[0m \u001b[0mcommon\u001b[0m\u001b[0;34m.\u001b[0m\u001b[0msensor_types\u001b[0m \u001b[0;32mimport\u001b[0m \u001b[0msensors\u001b[0m\u001b[0;34m\u001b[0m\u001b[0;34m\u001b[0m\u001b[0m\n\u001b[0;32m----> 8\u001b[0;31m \u001b[0;32mfrom\u001b[0m \u001b[0msolvers\u001b[0m\u001b[0;34m.\u001b[0m\u001b[0msolver_cim_py\u001b[0m\u001b[0;34m.\u001b[0m\u001b[0minterface\u001b[0m \u001b[0;32mimport\u001b[0m \u001b[0mSolver\u001b[0m\u001b[0;34m\u001b[0m\u001b[0;34m\u001b[0m\u001b[0m\n\u001b[0m\u001b[1;32m      9\u001b[0m \u001b[0;34m\u001b[0m\u001b[0m\n\u001b[1;32m     10\u001b[0m \u001b[0;34m\u001b[0m\u001b[0m\n",
      "\u001b[0;32m~/Diploma/solver_/solvers/solver_cim_py/interface.py\u001b[0m in \u001b[0;36m<module>\u001b[0;34m\u001b[0m\n\u001b[1;32m      7\u001b[0m \u001b[0;32mfrom\u001b[0m \u001b[0;34m.\u001b[0m\u001b[0mjsonrpc\u001b[0m \u001b[0;32mimport\u001b[0m \u001b[0mjsonclass\u001b[0m \u001b[0;32mas\u001b[0m \u001b[0mjsn\u001b[0m\u001b[0;34m\u001b[0m\u001b[0;34m\u001b[0m\u001b[0m\n\u001b[1;32m      8\u001b[0m \u001b[0;32mfrom\u001b[0m \u001b[0;34m.\u001b[0m\u001b[0mlogger\u001b[0m \u001b[0;32mimport\u001b[0m \u001b[0mlogger\u001b[0m\u001b[0;34m\u001b[0m\u001b[0;34m\u001b[0m\u001b[0m\n\u001b[0;32m----> 9\u001b[0;31m \u001b[0;32mfrom\u001b[0m \u001b[0;34m.\u001b[0m\u001b[0mMID\u001b[0m \u001b[0;32mimport\u001b[0m \u001b[0mMIDdecay_fs_ec\u001b[0m\u001b[0;34m\u001b[0m\u001b[0;34m\u001b[0m\u001b[0m\n\u001b[0m\u001b[1;32m     10\u001b[0m \u001b[0;32mfrom\u001b[0m \u001b[0;34m.\u001b[0m\u001b[0mmidmeshgen\u001b[0m\u001b[0;34m.\u001b[0m\u001b[0mgen_trimesh\u001b[0m \u001b[0;32mimport\u001b[0m \u001b[0mgen_trimesh\u001b[0m\u001b[0;34m\u001b[0m\u001b[0;34m\u001b[0m\u001b[0m\n\u001b[1;32m     11\u001b[0m \u001b[0;32mfrom\u001b[0m \u001b[0;34m.\u001b[0m\u001b[0mutils\u001b[0m\u001b[0;34m.\u001b[0m\u001b[0minterpolate_1D\u001b[0m \u001b[0;32mimport\u001b[0m \u001b[0;34m*\u001b[0m\u001b[0;34m\u001b[0m\u001b[0;34m\u001b[0m\u001b[0m\n",
      "\u001b[0;32m~/Diploma/solver_/solvers/solver_cim_py/MID/MIDdecay_fs_ec.py\u001b[0m in \u001b[0;36m<module>\u001b[0;34m\u001b[0m\n\u001b[1;32m      3\u001b[0m \u001b[0;32mimport\u001b[0m \u001b[0mcopy\u001b[0m\u001b[0;34m\u001b[0m\u001b[0;34m\u001b[0m\u001b[0m\n\u001b[1;32m      4\u001b[0m \u001b[0;32mimport\u001b[0m \u001b[0mscipy\u001b[0m\u001b[0;34m.\u001b[0m\u001b[0mconstants\u001b[0m \u001b[0;32mas\u001b[0m \u001b[0mscs\u001b[0m\u001b[0;34m\u001b[0m\u001b[0;34m\u001b[0m\u001b[0m\n\u001b[0;32m----> 5\u001b[0;31m \u001b[0;32mfrom\u001b[0m \u001b[0;34m.\u001b[0m\u001b[0;34m.\u001b[0m\u001b[0mMID\u001b[0m \u001b[0;32mimport\u001b[0m \u001b[0mmesh_regions\u001b[0m \u001b[0;32mas\u001b[0m \u001b[0mmr\u001b[0m\u001b[0;34m\u001b[0m\u001b[0;34m\u001b[0m\u001b[0m\n\u001b[0m\u001b[1;32m      6\u001b[0m \u001b[0;32mfrom\u001b[0m \u001b[0;34m.\u001b[0m\u001b[0;34m.\u001b[0m\u001b[0mMID\u001b[0m \u001b[0;32mimport\u001b[0m \u001b[0me_circuit\u001b[0m \u001b[0;32mas\u001b[0m \u001b[0mec\u001b[0m\u001b[0;34m\u001b[0m\u001b[0;34m\u001b[0m\u001b[0m\n\u001b[1;32m      7\u001b[0m \u001b[0;32mfrom\u001b[0m \u001b[0;34m.\u001b[0m\u001b[0;34m.\u001b[0m\u001b[0mklu_lipa\u001b[0m \u001b[0;32mimport\u001b[0m \u001b[0;34m*\u001b[0m\u001b[0;34m\u001b[0m\u001b[0;34m\u001b[0m\u001b[0m\n",
      "\u001b[0;32m~/Diploma/solver_/solvers/solver_cim_py/MID/mesh_regions.py\u001b[0m in \u001b[0;36m<module>\u001b[0;34m\u001b[0m\n\u001b[1;32m      3\u001b[0m \u001b[0;32mimport\u001b[0m \u001b[0mnumpy\u001b[0m \u001b[0;32mas\u001b[0m \u001b[0mnp\u001b[0m\u001b[0;34m\u001b[0m\u001b[0;34m\u001b[0m\u001b[0m\n\u001b[1;32m      4\u001b[0m \u001b[0;32mimport\u001b[0m \u001b[0msys\u001b[0m\u001b[0;34m\u001b[0m\u001b[0;34m\u001b[0m\u001b[0m\n\u001b[0;32m----> 5\u001b[0;31m \u001b[0;32mfrom\u001b[0m \u001b[0;34m.\u001b[0m\u001b[0mclib\u001b[0m \u001b[0;32mimport\u001b[0m \u001b[0;34m*\u001b[0m\u001b[0;34m\u001b[0m\u001b[0;34m\u001b[0m\u001b[0m\n\u001b[0m\u001b[1;32m      6\u001b[0m \u001b[0;32mfrom\u001b[0m \u001b[0;34m.\u001b[0m\u001b[0mclib_ex\u001b[0m \u001b[0;32mimport\u001b[0m \u001b[0;34m*\u001b[0m\u001b[0;34m\u001b[0m\u001b[0;34m\u001b[0m\u001b[0m\n\u001b[1;32m      7\u001b[0m \u001b[0;32mfrom\u001b[0m \u001b[0;34m.\u001b[0m\u001b[0mprojective2d\u001b[0m \u001b[0;32mimport\u001b[0m \u001b[0mquad2quad_projective\u001b[0m\u001b[0;34m,\u001b[0m \u001b[0mrect2quad\u001b[0m\u001b[0;34m\u001b[0m\u001b[0;34m\u001b[0m\u001b[0m\n",
      "\u001b[0;32m~/Diploma/solver_/solvers/solver_cim_py/MID/clib.py\u001b[0m in \u001b[0;36m<module>\u001b[0;34m\u001b[0m\n\u001b[1;32m      2\u001b[0m \u001b[0;32mimport\u001b[0m \u001b[0mnumpy\u001b[0m\u001b[0;34m.\u001b[0m\u001b[0mctypeslib\u001b[0m \u001b[0;32mas\u001b[0m \u001b[0mnpct\u001b[0m\u001b[0;34m\u001b[0m\u001b[0;34m\u001b[0m\u001b[0m\n\u001b[1;32m      3\u001b[0m \u001b[0;32mimport\u001b[0m \u001b[0mctypes\u001b[0m\u001b[0;34m\u001b[0m\u001b[0;34m\u001b[0m\u001b[0m\n\u001b[0;32m----> 4\u001b[0;31m \u001b[0;32mfrom\u001b[0m \u001b[0;34m.\u001b[0m\u001b[0mll\u001b[0m \u001b[0;32mimport\u001b[0m \u001b[0mmidlib\u001b[0m\u001b[0;34m,\u001b[0m \u001b[0mlib_path\u001b[0m\u001b[0;34m\u001b[0m\u001b[0;34m\u001b[0m\u001b[0m\n\u001b[0m\u001b[1;32m      5\u001b[0m \u001b[0;34m\u001b[0m\u001b[0m\n\u001b[1;32m      6\u001b[0m \u001b[0mNullPtr\u001b[0m \u001b[0;34m=\u001b[0m \u001b[0mctypes\u001b[0m\u001b[0;34m.\u001b[0m\u001b[0mc_void_p\u001b[0m\u001b[0;34m(\u001b[0m\u001b[0;36m0\u001b[0m\u001b[0;34m)\u001b[0m\u001b[0;34m\u001b[0m\u001b[0;34m\u001b[0m\u001b[0m\n",
      "\u001b[0;32m~/Diploma/solver_/solvers/solver_cim_py/MID/ll.py\u001b[0m in \u001b[0;36m<module>\u001b[0;34m\u001b[0m\n\u001b[1;32m     16\u001b[0m \u001b[0;32mexcept\u001b[0m \u001b[0mException\u001b[0m\u001b[0;34m:\u001b[0m\u001b[0;34m\u001b[0m\u001b[0;34m\u001b[0m\u001b[0m\n\u001b[1;32m     17\u001b[0m     \u001b[0mlib_path\u001b[0m \u001b[0;34m=\u001b[0m \u001b[0m__file__\u001b[0m \u001b[0;34m+\u001b[0m \u001b[0;34m'/../bin'\u001b[0m\u001b[0;34m\u001b[0m\u001b[0;34m\u001b[0m\u001b[0m\n\u001b[0;32m---> 18\u001b[0;31m     \u001b[0mmidlib\u001b[0m \u001b[0;34m=\u001b[0m \u001b[0mnpct\u001b[0m\u001b[0;34m.\u001b[0m\u001b[0mload_library\u001b[0m\u001b[0;34m(\u001b[0m\u001b[0;34m'MID2D.dll'\u001b[0m\u001b[0;34m,\u001b[0m \u001b[0mlib_path\u001b[0m\u001b[0;34m)\u001b[0m\u001b[0;34m\u001b[0m\u001b[0;34m\u001b[0m\u001b[0m\n\u001b[0m",
      "\u001b[0;32m~/anaconda3/lib/python3.8/site-packages/numpy/ctypeslib.py\u001b[0m in \u001b[0;36mload_library\u001b[0;34m(libname, loader_path)\u001b[0m\n\u001b[1;32m    148\u001b[0m             \u001b[0;32mif\u001b[0m \u001b[0mos\u001b[0m\u001b[0;34m.\u001b[0m\u001b[0mpath\u001b[0m\u001b[0;34m.\u001b[0m\u001b[0mexists\u001b[0m\u001b[0;34m(\u001b[0m\u001b[0mlibpath\u001b[0m\u001b[0;34m)\u001b[0m\u001b[0;34m:\u001b[0m\u001b[0;34m\u001b[0m\u001b[0;34m\u001b[0m\u001b[0m\n\u001b[1;32m    149\u001b[0m                 \u001b[0;32mtry\u001b[0m\u001b[0;34m:\u001b[0m\u001b[0;34m\u001b[0m\u001b[0;34m\u001b[0m\u001b[0m\n\u001b[0;32m--> 150\u001b[0;31m                     \u001b[0;32mreturn\u001b[0m \u001b[0mctypes\u001b[0m\u001b[0;34m.\u001b[0m\u001b[0mcdll\u001b[0m\u001b[0;34m[\u001b[0m\u001b[0mlibpath\u001b[0m\u001b[0;34m]\u001b[0m\u001b[0;34m\u001b[0m\u001b[0;34m\u001b[0m\u001b[0m\n\u001b[0m\u001b[1;32m    151\u001b[0m                 \u001b[0;32mexcept\u001b[0m \u001b[0mOSError\u001b[0m\u001b[0;34m:\u001b[0m\u001b[0;34m\u001b[0m\u001b[0;34m\u001b[0m\u001b[0m\n\u001b[1;32m    152\u001b[0m                     \u001b[0;31m## defective lib file\u001b[0m\u001b[0;34m\u001b[0m\u001b[0;34m\u001b[0m\u001b[0;34m\u001b[0m\u001b[0m\n",
      "\u001b[0;32m~/anaconda3/lib/python3.8/ctypes/__init__.py\u001b[0m in \u001b[0;36m__getitem__\u001b[0;34m(self, name)\u001b[0m\n\u001b[1;32m    454\u001b[0m \u001b[0;34m\u001b[0m\u001b[0m\n\u001b[1;32m    455\u001b[0m     \u001b[0;32mdef\u001b[0m \u001b[0m__getitem__\u001b[0m\u001b[0;34m(\u001b[0m\u001b[0mself\u001b[0m\u001b[0;34m,\u001b[0m \u001b[0mname\u001b[0m\u001b[0;34m)\u001b[0m\u001b[0;34m:\u001b[0m\u001b[0;34m\u001b[0m\u001b[0;34m\u001b[0m\u001b[0m\n\u001b[0;32m--> 456\u001b[0;31m         \u001b[0;32mreturn\u001b[0m \u001b[0mgetattr\u001b[0m\u001b[0;34m(\u001b[0m\u001b[0mself\u001b[0m\u001b[0;34m,\u001b[0m \u001b[0mname\u001b[0m\u001b[0;34m)\u001b[0m\u001b[0;34m\u001b[0m\u001b[0;34m\u001b[0m\u001b[0m\n\u001b[0m\u001b[1;32m    457\u001b[0m \u001b[0;34m\u001b[0m\u001b[0m\n\u001b[1;32m    458\u001b[0m     \u001b[0;32mdef\u001b[0m \u001b[0mLoadLibrary\u001b[0m\u001b[0;34m(\u001b[0m\u001b[0mself\u001b[0m\u001b[0;34m,\u001b[0m \u001b[0mname\u001b[0m\u001b[0;34m)\u001b[0m\u001b[0;34m:\u001b[0m\u001b[0;34m\u001b[0m\u001b[0;34m\u001b[0m\u001b[0m\n",
      "\u001b[0;32m~/anaconda3/lib/python3.8/ctypes/__init__.py\u001b[0m in \u001b[0;36m__getattr__\u001b[0;34m(self, name)\u001b[0m\n\u001b[1;32m    449\u001b[0m         \u001b[0;32mif\u001b[0m \u001b[0mname\u001b[0m\u001b[0;34m[\u001b[0m\u001b[0;36m0\u001b[0m\u001b[0;34m]\u001b[0m \u001b[0;34m==\u001b[0m \u001b[0;34m'_'\u001b[0m\u001b[0;34m:\u001b[0m\u001b[0;34m\u001b[0m\u001b[0;34m\u001b[0m\u001b[0m\n\u001b[1;32m    450\u001b[0m             \u001b[0;32mraise\u001b[0m \u001b[0mAttributeError\u001b[0m\u001b[0;34m(\u001b[0m\u001b[0mname\u001b[0m\u001b[0;34m)\u001b[0m\u001b[0;34m\u001b[0m\u001b[0;34m\u001b[0m\u001b[0m\n\u001b[0;32m--> 451\u001b[0;31m         \u001b[0mdll\u001b[0m \u001b[0;34m=\u001b[0m \u001b[0mself\u001b[0m\u001b[0;34m.\u001b[0m\u001b[0m_dlltype\u001b[0m\u001b[0;34m(\u001b[0m\u001b[0mname\u001b[0m\u001b[0;34m)\u001b[0m\u001b[0;34m\u001b[0m\u001b[0;34m\u001b[0m\u001b[0m\n\u001b[0m\u001b[1;32m    452\u001b[0m         \u001b[0msetattr\u001b[0m\u001b[0;34m(\u001b[0m\u001b[0mself\u001b[0m\u001b[0;34m,\u001b[0m \u001b[0mname\u001b[0m\u001b[0;34m,\u001b[0m \u001b[0mdll\u001b[0m\u001b[0;34m)\u001b[0m\u001b[0;34m\u001b[0m\u001b[0;34m\u001b[0m\u001b[0m\n\u001b[1;32m    453\u001b[0m         \u001b[0;32mreturn\u001b[0m \u001b[0mdll\u001b[0m\u001b[0;34m\u001b[0m\u001b[0;34m\u001b[0m\u001b[0m\n",
      "\u001b[0;32m~/anaconda3/lib/python3.8/ctypes/__init__.py\u001b[0m in \u001b[0;36m__init__\u001b[0;34m(self, name, mode, handle, use_errno, use_last_error, winmode)\u001b[0m\n\u001b[1;32m    379\u001b[0m \u001b[0;34m\u001b[0m\u001b[0m\n\u001b[1;32m    380\u001b[0m         \u001b[0;32mif\u001b[0m \u001b[0mhandle\u001b[0m \u001b[0;32mis\u001b[0m \u001b[0;32mNone\u001b[0m\u001b[0;34m:\u001b[0m\u001b[0;34m\u001b[0m\u001b[0;34m\u001b[0m\u001b[0m\n\u001b[0;32m--> 381\u001b[0;31m             \u001b[0mself\u001b[0m\u001b[0;34m.\u001b[0m\u001b[0m_handle\u001b[0m \u001b[0;34m=\u001b[0m \u001b[0m_dlopen\u001b[0m\u001b[0;34m(\u001b[0m\u001b[0mself\u001b[0m\u001b[0;34m.\u001b[0m\u001b[0m_name\u001b[0m\u001b[0;34m,\u001b[0m \u001b[0mmode\u001b[0m\u001b[0;34m)\u001b[0m\u001b[0;34m\u001b[0m\u001b[0;34m\u001b[0m\u001b[0m\n\u001b[0m\u001b[1;32m    382\u001b[0m         \u001b[0;32melse\u001b[0m\u001b[0;34m:\u001b[0m\u001b[0;34m\u001b[0m\u001b[0;34m\u001b[0m\u001b[0m\n\u001b[1;32m    383\u001b[0m             \u001b[0mself\u001b[0m\u001b[0;34m.\u001b[0m\u001b[0m_handle\u001b[0m \u001b[0;34m=\u001b[0m \u001b[0mhandle\u001b[0m\u001b[0;34m\u001b[0m\u001b[0;34m\u001b[0m\u001b[0m\n",
      "\u001b[0;31mOSError\u001b[0m: /home/alexander/Diploma/solver_/solvers/solver_cim_py/MID/bin/MID2D.dll: invalid ELF header"
     ]
    }
   ],
   "source": [
    "import numpy as np\n",
    "import matplotlib.pyplot as plt\n",
    "import sys\n",
    "sys.path.insert(0,'../solver_/')\n",
    "from common import tool_times\n",
    "from common import well_construction as wc\n",
    "from common.sensor_types import sensors\n",
    "from solvers.solver_cim_py.interface import Solver\n",
    "\n",
    "\n",
    "tubes = [\n",
    "    wc.Tube(d=89., th0=6.5, th=6.5, sigma=3e6, mu=80.),\n",
    "]\n",
    "\n",
    "sensor = sensors.PULSE_3E_2\n",
    "times = tool_times.times[sensor]\n",
    "solver = Solver(sensor, times, tool_averaging=True)\n",
    "\n",
    "\n",
    "if __name__ == '__main__':\n",
    "    output = solver.get_curve(tubes)\n",
    "\n",
    "    plt.figure()\n",
    "    plt.semilogy(1e3 * times, output, 'o-')\n",
    "    plt.ylabel('Signal')\n",
    "    plt.xlabel('time, ms')\n",
    "    plt.show()\n",
    "\n",
    "\n",
    "pass"
   ]
  },
  {
   "cell_type": "code",
   "execution_count": null,
   "metadata": {},
   "outputs": [],
   "source": []
  }
 ],
 "metadata": {
  "kernelspec": {
   "display_name": "Python 3",
   "language": "python",
   "name": "python3"
  },
  "language_info": {
   "codemirror_mode": {
    "name": "ipython",
    "version": 3
   },
   "file_extension": ".py",
   "mimetype": "text/x-python",
   "name": "python",
   "nbconvert_exporter": "python",
   "pygments_lexer": "ipython3",
   "version": "3.8.5"
  }
 },
 "nbformat": 4,
 "nbformat_minor": 4
}
